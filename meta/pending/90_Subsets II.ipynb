{
 "cells": [
  {
   "cell_type": "markdown",
   "id": "0c94181d",
   "metadata": {},
   "source": [
    "# 90. Subsets II"
   ]
  },
  {
   "cell_type": "markdown",
   "id": "1c91157f",
   "metadata": {},
   "source": [
    "Given an integer array nums that may contain duplicates, return all possible subsets (the power set).\n",
    "\n",
    "\n",
    "\n",
    "The solution set must not contain duplicate subsets. Return the solution in any order.\n",
    "\n",
    "\n",
    "\n",
    " \n",
    "\n",
    "\n",
    "\n",
    "**Example 1:**\n",
    "\n",
    "\n",
    "\n",
    "Input: nums = [1,2,2]\n",
    "\n",
    "Output: [[],[1],[1,2],[1,2,2],[2],[2,2]]\n",
    "\n",
    "**Example 2:**\n",
    "\n",
    "\n",
    "\n",
    "Input: nums = [0]\n",
    "\n",
    "Output: [[],[0]]\n",
    "\n",
    " \n",
    "\n",
    "\n",
    "\n",
    "**Constraints:**\n",
    "\n",
    "\n",
    "\n",
    "1 <= nums.length <= 10\n",
    "\n",
    "-10 <= nums[i] <= 10"
   ]
  }
 ],
 "metadata": {
  "language_info": {
   "name": "python"
  }
 },
 "nbformat": 4,
 "nbformat_minor": 5
}
