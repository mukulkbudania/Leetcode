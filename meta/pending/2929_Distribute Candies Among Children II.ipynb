{
 "cells": [
  {
   "cell_type": "markdown",
   "id": "4c875b56",
   "metadata": {},
   "source": [
    "# 2929. Distribute Candies Among Children II"
   ]
  },
  {
   "cell_type": "markdown",
   "id": "97b5429a",
   "metadata": {},
   "source": [
    "You are given two positive integers n and limit.\n",
    "\n",
    "\n",
    "\n",
    "Return the total number of ways to distribute n candies among 3 children such that no child gets more than limit candies.\n",
    "\n",
    "\n",
    "\n",
    " \n",
    "\n",
    "\n",
    "\n",
    "**Example 1:**\n",
    "\n",
    "\n",
    "\n",
    "Input: n = 5, limit = 2\n",
    "\n",
    "Output: 3\n",
    "\n",
    "Explanation: There are 3 ways to distribute 5 candies such that no child gets more than 2 candies: (1, 2, 2), (2, 1, 2) and (2, 2, 1).\n",
    "\n",
    "**Example 2:**\n",
    "\n",
    "\n",
    "\n",
    "Input: n = 3, limit = 3\n",
    "\n",
    "Output: 10\n",
    "\n",
    "Explanation: There are 10 ways to distribute 3 candies such that no child gets more than 3 candies: (0, 0, 3), (0, 1, 2), (0, 2, 1), (0, 3, 0), (1, 0, 2), (1, 1, 1), (1, 2, 0), (2, 0, 1), (2, 1, 0) and (3, 0, 0).\n",
    "\n",
    " \n",
    "\n",
    "\n",
    "\n",
    "**Constraints:**\n",
    "\n",
    "\n",
    "\n",
    "1 <= n <= 106\n",
    "\n",
    "1 <= limit <= 106"
   ]
  }
 ],
 "metadata": {
  "language_info": {
   "name": "python"
  }
 },
 "nbformat": 4,
 "nbformat_minor": 5
}
