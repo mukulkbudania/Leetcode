{
 "cells": [
  {
   "cell_type": "markdown",
   "id": "ebd35090",
   "metadata": {},
   "source": [
    "# 498. Diagonal Traverse"
   ]
  },
  {
   "cell_type": "markdown",
   "id": "5d9ec2f6",
   "metadata": {},
   "source": [
    "Given an m x n matrix mat, return an array of all the elements of the array in a diagonal order.\n",
    "\n",
    "\n",
    "\n",
    " \n",
    "\n",
    "\n",
    "\n",
    "**Example 1:**\n",
    "\n",
    "\n",
    "\n",
    "\n",
    "\n",
    "Input: mat = [[1,2,3],[4,5,6],[7,8,9]]\n",
    "\n",
    "Output: [1,2,4,7,5,3,6,8,9]\n",
    "\n",
    "**Example 2:**\n",
    "\n",
    "\n",
    "\n",
    "Input: mat = [[1,2],[3,4]]\n",
    "\n",
    "Output: [1,2,3,4]\n",
    "\n",
    " \n",
    "\n",
    "\n",
    "\n",
    "**Constraints:**\n",
    "\n",
    "\n",
    "\n",
    "m == mat.length\n",
    "\n",
    "n == mat[i].length\n",
    "\n",
    "1 <= m, n <= 104\n",
    "\n",
    "1 <= m * n <= 104\n",
    "\n",
    "-105 <= mat[i][j] <= 105"
   ]
  }
 ],
 "metadata": {
  "language_info": {
   "name": "python"
  }
 },
 "nbformat": 4,
 "nbformat_minor": 5
}
