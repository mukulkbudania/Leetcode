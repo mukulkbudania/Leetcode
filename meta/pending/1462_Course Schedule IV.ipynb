{
  "cells": [
    {
      "cell_type": "markdown",
      "id": "96b560b6",
      "metadata": {},
      "source": [
        "There are a total of numCourses courses you have to take, labeled from 0 to numCourses - 1. You are given an array prerequisites where prerequisites[i] = [ai, bi] indicates that you must take course ai first if you want to take course bi.\n",
        "\n",
        "For example, the pair [0, 1] indicates that you have to take course 0 before you can take course 1.\n",
        "Prerequisites can also be indirect. If course a is a prerequisite of course b, and course b is a prerequisite of course c, then course a is a prerequisite of course c.\n",
        "\n",
        "You are also given an array queries where queries[j] = [uj, vj]. For the jth query, you should answer whether course uj is a prerequisite of course vj or not.\n",
        "\n",
        "Return a boolean array answer, where answer[j] is the answer to the jth query.\n",
        "\n",
        " \n",
        "\n",
        "Example 1:\n",
        "\n",
        "\n",
        "Input: numCourses = 2, prerequisites = [[1,0]], queries = [[0,1],[1,0]]\n",
        "Output: [false,true]\n",
        "Explanation: The pair [1, 0] indicates that you have to take course 1 before you can take course 0.\n",
        "Course 0 is not a prerequisite of course 1, but the opposite is true.\n",
        "Example 2:\n",
        "\n",
        "Input: numCourses = 2, prerequisites = [], queries = [[1,0],[0,1]]\n",
        "Output: [false,false]\n",
        "Explanation: There are no prerequisites, and each course is independent.\n",
        "Example 3:\n",
        "\n",
        "\n",
        "Input: numCourses = 3, prerequisites = [[1,2],[1,0],[2,0]], queries = [[1,0],[1,2]]\n",
        "Output: [true,true]\n",
        " \n",
        "\n",
        "Constraints:\n",
        "\n",
        "2 <= numCourses <= 100\n",
        "0 <= prerequisites.length <= (numCourses * (numCourses - 1) / 2)\n",
        "prerequisites[i].length == 2\n",
        "0 <= ai, bi <= numCourses - 1\n",
        "ai != bi\n",
        "All the pairs [ai, bi] are unique.\n",
        "The prerequisites graph has no cycles.\n",
        "1 <= queries.length <= 104\n",
        "0 <= ui, vi <= numCourses - 1\n",
        "ui != vi"
      ]
    }
  ],
  "metadata": {
    "language_info": {
      "name": "python"
    }
  },
  "nbformat": 4,
  "nbformat_minor": 5
}
