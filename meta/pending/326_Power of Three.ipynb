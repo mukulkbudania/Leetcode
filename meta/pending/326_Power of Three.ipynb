{
 "cells": [
  {
   "cell_type": "markdown",
   "id": "6b599fda",
   "metadata": {},
   "source": [
    "# 326. Power of Three"
   ]
  },
  {
   "cell_type": "markdown",
   "id": "62fa84fe",
   "metadata": {},
   "source": [
    "Given an integer n, return true if it is a power of three. Otherwise, return false.\n",
    "\n",
    "\n",
    "\n",
    "An integer n is a power of three, if there exists an integer x such that n == 3x.\n",
    "\n",
    "\n",
    "\n",
    " \n",
    "\n",
    "\n",
    "\n",
    "**Example 1:**\n",
    "\n",
    "\n",
    "\n",
    "Input: n = 27\n",
    "\n",
    "Output: true\n",
    "\n",
    "Explanation: 27 = 33\n",
    "\n",
    "**Example 2:**\n",
    "\n",
    "\n",
    "\n",
    "Input: n = 0\n",
    "\n",
    "Output: false\n",
    "\n",
    "Explanation: There is no x where 3x = 0.\n",
    "\n",
    "**Example 3:**\n",
    "\n",
    "\n",
    "\n",
    "Input: n = -1\n",
    "\n",
    "Output: false\n",
    "\n",
    "Explanation: There is no x where 3x = (-1).\n",
    "\n",
    " \n",
    "\n",
    "\n",
    "\n",
    "**Constraints:**\n",
    "\n",
    "\n",
    "\n",
    "-231 <= n <= 231 - 1\n",
    "\n",
    " \n",
    "\n",
    "\n",
    "\n",
    "Follow up: Could you solve it without loops/recursion?\n",
    "\n"
   ]
  }
 ],
 "metadata": {
  "language_info": {
   "name": "python"
  }
 },
 "nbformat": 4,
 "nbformat_minor": 5
}
