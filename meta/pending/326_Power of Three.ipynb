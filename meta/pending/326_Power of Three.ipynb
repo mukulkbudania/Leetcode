{
  "cells": [
    {
      "cell_type": "markdown",
      "id": "62fa84fe",
      "metadata": {},
      "source": [
        "Given an integer n, return true if it is a power of three. Otherwise, return false.\n",
        "\n",
        "An integer n is a power of three, if there exists an integer x such that n == 3x.\n",
        "\n",
        " \n",
        "\n",
        "Example 1:\n",
        "\n",
        "Input: n = 27\n",
        "Output: true\n",
        "Explanation: 27 = 33\n",
        "Example 2:\n",
        "\n",
        "Input: n = 0\n",
        "Output: false\n",
        "Explanation: There is no x where 3x = 0.\n",
        "Example 3:\n",
        "\n",
        "Input: n = -1\n",
        "Output: false\n",
        "Explanation: There is no x where 3x = (-1).\n",
        " \n",
        "\n",
        "Constraints:\n",
        "\n",
        "-231 <= n <= 231 - 1\n",
        " \n",
        "\n",
        "Follow up: Could you solve it without loops/recursion?\n"
      ]
    }
  ],
  "metadata": {
    "language_info": {
      "name": "python"
    }
  },
  "nbformat": 4,
  "nbformat_minor": 5
}
