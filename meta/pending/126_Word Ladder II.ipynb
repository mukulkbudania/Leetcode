{
  "cells": [
    {
      "cell_type": "markdown",
      "id": "144253b6",
      "metadata": {},
      "source": [
        "A transformation sequence from word beginWord to word endWord using a dictionary wordList is a sequence of words beginWord -> s1 -> s2 -> ... -> sk such that:\n",
        "\n",
        "Every adjacent pair of words differs by a single letter.\n",
        "Every si for 1 <= i <= k is in wordList. Note that beginWord does not need to be in wordList.\n",
        "sk == endWord\n",
        "Given two words, beginWord and endWord, and a dictionary wordList, return all the shortest transformation sequences from beginWord to endWord, or an empty list if no such sequence exists. Each sequence should be returned as a list of the words [beginWord, s1, s2, ..., sk].\n",
        "\n",
        " \n",
        "\n",
        "Example 1:\n",
        "\n",
        "Input: beginWord = \"hit\", endWord = \"cog\", wordList = [\"hot\",\"dot\",\"dog\",\"lot\",\"log\",\"cog\"]\n",
        "Output: [[\"hit\",\"hot\",\"dot\",\"dog\",\"cog\"],[\"hit\",\"hot\",\"lot\",\"log\",\"cog\"]]\n",
        "Explanation: There are 2 shortest transformation sequences:\n",
        "\"hit\" -> \"hot\" -> \"dot\" -> \"dog\" -> \"cog\"\n",
        "\"hit\" -> \"hot\" -> \"lot\" -> \"log\" -> \"cog\"\n",
        "Example 2:\n",
        "\n",
        "Input: beginWord = \"hit\", endWord = \"cog\", wordList = [\"hot\",\"dot\",\"dog\",\"lot\",\"log\"]\n",
        "Output: []\n",
        "Explanation: The endWord \"cog\" is not in wordList, therefore there is no valid transformation sequence.\n",
        " \n",
        "\n",
        "Constraints:\n",
        "\n",
        "1 <= beginWord.length <= 5\n",
        "endWord.length == beginWord.length\n",
        "1 <= wordList.length <= 500\n",
        "wordList[i].length == beginWord.length\n",
        "beginWord, endWord, and wordList[i] consist of lowercase English letters.\n",
        "beginWord != endWord\n",
        "All the words in wordList are unique.\n",
        "The sum of all shortest transformation sequences does not exceed 105.\n"
      ]
    }
  ],
  "metadata": {
    "language_info": {
      "name": "python"
    }
  },
  "nbformat": 4,
  "nbformat_minor": 5
}
