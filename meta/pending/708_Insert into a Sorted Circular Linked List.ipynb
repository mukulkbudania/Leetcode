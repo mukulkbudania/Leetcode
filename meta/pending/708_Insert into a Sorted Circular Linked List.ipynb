{
  "cells": [
    {
      "cell_type": "markdown",
      "id": "9759b635",
      "metadata": {},
      "source": [
        "Given a Circular Linked List node, which is sorted in non-descending order, write a function to insert a value insertVal into the list such that it remains a sorted circular list. The given node can be a reference to any single node in the list and may not necessarily be the smallest value in the circular list.\n",
        "\n",
        "If there are multiple suitable places for insertion, you may choose any place to insert the new value. After the insertion, the circular list should remain sorted.\n",
        "\n",
        "If the list is empty (i.e., the given node is null), you should create a new single circular list and return the reference to that single node. Otherwise, you should return the originally given node.\n",
        "\n",
        " \n",
        "\n",
        "Example 1:\n",
        "\n",
        "\n",
        " \n",
        "Input: head = [3,4,1], insertVal = 2\n",
        "Output: [3,4,1,2]\n",
        "Explanation: In the figure above, there is a sorted circular list of three elements. You are given a reference to the node with value 3, and we need to insert 2 into the list. The new node should be inserted between node 1 and node 3. After the insertion, the list should look like this, and we should still return node 3.\n",
        "\n",
        "\n",
        "\n",
        "Example 2:\n",
        "\n",
        "Input: head = [], insertVal = 1\n",
        "Output: [1]\n",
        "Explanation: The list is empty (given head is null). We create a new single circular list and return the reference to that single node.\n",
        "Example 3:\n",
        "\n",
        "Input: head = [1], insertVal = 0\n",
        "Output: [1,0]\n",
        " \n",
        "\n",
        "Constraints:\n",
        "\n",
        "The number of nodes in the list is in the range [0, 5 * 104].\n",
        "-106 <= Node.val, insertVal <= 106\n"
      ]
    }
  ],
  "metadata": {
    "language_info": {
      "name": "python"
    }
  },
  "nbformat": 4,
  "nbformat_minor": 5
}
