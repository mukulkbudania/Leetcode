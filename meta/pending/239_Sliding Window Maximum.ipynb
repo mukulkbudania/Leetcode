{
 "cells": [
  {
   "cell_type": "markdown",
   "id": "7367831f",
   "metadata": {},
   "source": [
    "# 239. Sliding Window Maximum"
   ]
  },
  {
   "cell_type": "markdown",
   "id": "30d65291",
   "metadata": {},
   "source": [
    "You are given an array of integers nums, there is a sliding window of size k which is moving from the very left of the array to the very right. You can only see the k numbers in the window. Each time the sliding window moves right by one position.\n",
    "\n",
    "\n",
    "\n",
    "Return the max sliding window.\n",
    "\n",
    "\n",
    "\n",
    " \n",
    "\n",
    "\n",
    "\n",
    "**Example 1:**\n",
    "\n",
    "\n",
    "\n",
    "Input: nums = [1,3,-1,-3,5,3,6,7], k = 3\n",
    "\n",
    "Output: [3,3,5,5,6,7]\n",
    "\n",
    "Explanation: \n",
    "\n",
    "Window position                Max\n",
    "\n",
    "---------------               -----\n",
    "\n",
    "[1  3  -1] -3  5  3  6  7       3\n",
    "\n",
    " 1 [3  -1  -3] 5  3  6  7       3\n",
    "\n",
    " 1  3 [-1  -3  5] 3  6  7       5\n",
    "\n",
    " 1  3  -1 [-3  5  3] 6  7       5\n",
    "\n",
    " 1  3  -1  -3 [5  3  6] 7       6\n",
    "\n",
    " 1  3  -1  -3  5 [3  6  7]      7\n",
    "\n",
    "**Example 2:**\n",
    "\n",
    "\n",
    "\n",
    "Input: nums = [1], k = 1\n",
    "\n",
    "Output: [1]\n",
    "\n",
    " \n",
    "\n",
    "\n",
    "\n",
    "**Constraints:**\n",
    "\n",
    "\n",
    "\n",
    "1 <= nums.length <= 105\n",
    "\n",
    "-104 <= nums[i] <= 104\n",
    "\n",
    "1 <= k <= nums.length"
   ]
  }
 ],
 "metadata": {
  "language_info": {
   "name": "python"
  }
 },
 "nbformat": 4,
 "nbformat_minor": 5
}
