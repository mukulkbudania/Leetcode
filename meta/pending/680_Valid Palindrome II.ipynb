{
  "cells": [
    {
      "cell_type": "markdown",
      "id": "8f3921d3",
      "metadata": {},
      "source": [
        "Given a string s, return true if the s can be palindrome after deleting at most one character from it.\n",
        "\n",
        " \n",
        "\n",
        "Example 1:\n",
        "\n",
        "Input: s = \"aba\"\n",
        "Output: true\n",
        "Example 2:\n",
        "\n",
        "Input: s = \"abca\"\n",
        "Output: true\n",
        "Explanation: You could delete the character 'c'.\n",
        "Example 3:\n",
        "\n",
        "Input: s = \"abc\"\n",
        "Output: false\n",
        " \n",
        "\n",
        "Constraints:\n",
        "\n",
        "1 <= s.length <= 105\n",
        "s consists of lowercase English letters.\n"
      ]
    }
  ],
  "metadata": {
    "language_info": {
      "name": "python"
    }
  },
  "nbformat": 4,
  "nbformat_minor": 5
}
