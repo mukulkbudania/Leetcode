{
 "cells": [
  {
   "cell_type": "markdown",
   "id": "11a5a2ce",
   "metadata": {},
   "source": [
    "# 286. Walls and Gates"
   ]
  },
  {
   "cell_type": "markdown",
   "id": "db1b8bc8",
   "metadata": {},
   "source": [
    "You are given an m x n grid rooms initialized with these three possible values.\n",
    "\n",
    "\n",
    "\n",
    "-1 A wall or an obstacle.\n",
    "\n",
    "0 A gate.\n",
    "\n",
    "INF Infinity means an empty room. We use the value 231 - 1 = 2147483647 to represent INF as you may assume that the distance to a gate is less than 2147483647.\n",
    "\n",
    "Fill each empty room with the distance to its nearest gate. If it is impossible to reach a gate, it should be filled with INF.\n",
    "\n",
    "\n",
    "\n",
    " \n",
    "\n",
    "\n",
    "\n",
    "**Example 1:**\n",
    "\n",
    "\n",
    "\n",
    "\n",
    "\n",
    "Input: rooms = [[2147483647,-1,0,2147483647],[2147483647,2147483647,2147483647,-1],[2147483647,-1,2147483647,-1],[0,-1,2147483647,2147483647]]\n",
    "\n",
    "Output: [[3,-1,0,1],[2,2,1,-1],[1,-1,2,-1],[0,-1,3,4]]\n",
    "\n",
    "**Example 2:**\n",
    "\n",
    "\n",
    "\n",
    "Input: rooms = [[-1]]\n",
    "\n",
    "Output: [[-1]]\n",
    "\n",
    " \n",
    "\n",
    "\n",
    "\n",
    "**Constraints:**\n",
    "\n",
    "\n",
    "\n",
    "m == rooms.length\n",
    "\n",
    "n == rooms[i].length\n",
    "\n",
    "1 <= m, n <= 250\n",
    "\n",
    "rooms[i][j] is -1, 0, or 231 - 1."
   ]
  }
 ],
 "metadata": {
  "language_info": {
   "name": "python"
  }
 },
 "nbformat": 4,
 "nbformat_minor": 5
}
