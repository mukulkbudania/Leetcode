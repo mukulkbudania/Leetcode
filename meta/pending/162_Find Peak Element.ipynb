{
  "cells": [
    {
      "cell_type": "markdown",
      "id": "79f9d7e9",
      "metadata": {},
      "source": [
        "A peak element is an element that is strictly greater than its neighbors.\n",
        "\n",
        "Given a 0-indexed integer array nums, find a peak element, and return its index. If the array contains multiple peaks, return the index to any of the peaks.\n",
        "\n",
        "You may imagine that nums[-1] = nums[n] = -∞. In other words, an element is always considered to be strictly greater than a neighbor that is outside the array.\n",
        "\n",
        "You must write an algorithm that runs in O(log n) time.\n",
        "\n",
        " \n",
        "\n",
        "Example 1:\n",
        "\n",
        "Input: nums = [1,2,3,1]\n",
        "Output: 2\n",
        "Explanation: 3 is a peak element and your function should return the index number 2.\n",
        "Example 2:\n",
        "\n",
        "Input: nums = [1,2,1,3,5,6,4]\n",
        "Output: 5\n",
        "Explanation: Your function can return either index number 1 where the peak element is 2, or index number 5 where the peak element is 6.\n",
        " \n",
        "\n",
        "Constraints:\n",
        "\n",
        "1 <= nums.length <= 1000\n",
        "-231 <= nums[i] <= 231 - 1\n",
        "nums[i] != nums[i + 1] for all valid i."
      ]
    }
  ],
  "metadata": {
    "language_info": {
      "name": "python"
    }
  },
  "nbformat": 4,
  "nbformat_minor": 5
}
