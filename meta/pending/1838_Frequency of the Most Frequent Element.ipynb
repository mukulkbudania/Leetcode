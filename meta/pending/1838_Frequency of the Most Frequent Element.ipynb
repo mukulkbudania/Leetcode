{
  "cells": [
    {
      "cell_type": "markdown",
      "id": "8fd5f04b",
      "metadata": {},
      "source": [
        "The frequency of an element is the number of times it occurs in an array.\n",
        "\n",
        "You are given an integer array nums and an integer k. In one operation, you can choose an index of nums and increment the element at that index by 1.\n",
        "\n",
        "Return the maximum possible frequency of an element after performing at most k operations.\n",
        "\n",
        " \n",
        "\n",
        "Example 1:\n",
        "\n",
        "Input: nums = [1,2,4], k = 5\n",
        "Output: 3\n",
        "Explanation: Increment the first element three times and the second element two times to make nums = [4,4,4].\n",
        "4 has a frequency of 3.\n",
        "Example 2:\n",
        "\n",
        "Input: nums = [1,4,8,13], k = 5\n",
        "Output: 2\n",
        "Explanation: There are multiple optimal solutions:\n",
        "- Increment the first element three times to make nums = [4,4,8,13]. 4 has a frequency of 2.\n",
        "- Increment the second element four times to make nums = [1,8,8,13]. 8 has a frequency of 2.\n",
        "- Increment the third element five times to make nums = [1,4,13,13]. 13 has a frequency of 2.\n",
        "Example 3:\n",
        "\n",
        "Input: nums = [3,9,6], k = 2\n",
        "Output: 1\n",
        " \n",
        "\n",
        "Constraints:\n",
        "\n",
        "1 <= nums.length <= 105\n",
        "1 <= nums[i] <= 105\n",
        "1 <= k <= 105"
      ]
    }
  ],
  "metadata": {
    "language_info": {
      "name": "python"
    }
  },
  "nbformat": 4,
  "nbformat_minor": 5
}
