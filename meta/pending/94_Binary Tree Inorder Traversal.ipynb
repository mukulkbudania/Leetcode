{
  "cells": [
    {
      "cell_type": "markdown",
      "id": "a07b406a",
      "metadata": {},
      "source": [
        "Given the root of a binary tree, return the inorder traversal of its nodes' values.\n",
        "\n",
        " \n",
        "\n",
        "Example 1:\n",
        "\n",
        "Input: root = [1,null,2,3]\n",
        "\n",
        "Output: [1,3,2]\n",
        "\n",
        "Explanation:\n",
        "\n",
        "\n",
        "\n",
        "Example 2:\n",
        "\n",
        "Input: root = [1,2,3,4,5,null,8,null,null,6,7,9]\n",
        "\n",
        "Output: [4,2,6,5,7,1,3,9,8]\n",
        "\n",
        "Explanation:\n",
        "\n",
        "\n",
        "\n",
        "Example 3:\n",
        "\n",
        "Input: root = []\n",
        "\n",
        "Output: []\n",
        "\n",
        "Example 4:\n",
        "\n",
        "Input: root = [1]\n",
        "\n",
        "Output: [1]\n",
        "\n",
        " \n",
        "\n",
        "Constraints:\n",
        "\n",
        "The number of nodes in the tree is in the range [0, 100].\n",
        "-100 <= Node.val <= 100\n",
        " \n",
        "\n",
        "Follow up: Recursive solution is trivial, could you do it iteratively?\n"
      ]
    }
  ],
  "metadata": {
    "language_info": {
      "name": "python"
    }
  },
  "nbformat": 4,
  "nbformat_minor": 5
}
