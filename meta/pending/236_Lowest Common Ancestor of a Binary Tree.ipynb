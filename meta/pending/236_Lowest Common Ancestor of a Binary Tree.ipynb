{
  "cells": [
    {
      "cell_type": "markdown",
      "id": "1d5a73a1",
      "metadata": {},
      "source": [
        "Given a binary tree, find the lowest common ancestor (LCA) of two given nodes in the tree.\n",
        "\n",
        "According to the definition of LCA on Wikipedia: “The lowest common ancestor is defined between two nodes p and q as the lowest node in T that has both p and q as descendants (where we allow a node to be a descendant of itself).”\n",
        "\n",
        " \n",
        "\n",
        "Example 1:\n",
        "\n",
        "\n",
        "Input: root = [3,5,1,6,2,0,8,null,null,7,4], p = 5, q = 1\n",
        "Output: 3\n",
        "Explanation: The LCA of nodes 5 and 1 is 3.\n",
        "Example 2:\n",
        "\n",
        "\n",
        "Input: root = [3,5,1,6,2,0,8,null,null,7,4], p = 5, q = 4\n",
        "Output: 5\n",
        "Explanation: The LCA of nodes 5 and 4 is 5, since a node can be a descendant of itself according to the LCA definition.\n",
        "Example 3:\n",
        "\n",
        "Input: root = [1,2], p = 1, q = 2\n",
        "Output: 1\n",
        " \n",
        "\n",
        "Constraints:\n",
        "\n",
        "The number of nodes in the tree is in the range [2, 105].\n",
        "-109 <= Node.val <= 109\n",
        "All Node.val are unique.\n",
        "p != q\n",
        "p and q will exist in the tree.\n"
      ]
    }
  ],
  "metadata": {
    "language_info": {
      "name": "python"
    }
  },
  "nbformat": 4,
  "nbformat_minor": 5
}
