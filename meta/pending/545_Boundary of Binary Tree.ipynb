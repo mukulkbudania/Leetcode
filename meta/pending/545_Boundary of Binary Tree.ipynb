{
  "cells": [
    {
      "cell_type": "markdown",
      "id": "f7242f94",
      "metadata": {},
      "source": [
        "The boundary of a binary tree is the concatenation of the root, the left boundary, the leaves ordered from left-to-right, and the reverse order of the right boundary.\n",
        "\n",
        "The left boundary is the set of nodes defined by the following:\n",
        "\n",
        "The root node's left child is in the left boundary. If the root does not have a left child, then the left boundary is empty.\n",
        "If a node is in the left boundary and has a left child, then the left child is in the left boundary.\n",
        "If a node is in the left boundary, has no left child, but has a right child, then the right child is in the left boundary.\n",
        "The leftmost leaf is not in the left boundary.\n",
        "The right boundary is similar to the left boundary, except it is the right side of the root's right subtree. Again, the leaf is not part of the right boundary, and the right boundary is empty if the root does not have a right child.\n",
        "\n",
        "The leaves are nodes that do not have any children. For this problem, the root is not a leaf.\n",
        "\n",
        "Given the root of a binary tree, return the values of its boundary.\n",
        "\n",
        " \n",
        "\n",
        "Example 1:\n",
        "\n",
        "\n",
        "Input: root = [1,null,2,3,4]\n",
        "Output: [1,3,4,2]\n",
        "Explanation:\n",
        "- The left boundary is empty because the root does not have a left child.\n",
        "- The right boundary follows the path starting from the root's right child 2 -> 4.\n",
        "  4 is a leaf, so the right boundary is [2].\n",
        "- The leaves from left to right are [3,4].\n",
        "Concatenating everything results in [1] + [] + [3,4] + [2] = [1,3,4,2].\n",
        "Example 2:\n",
        "\n",
        "\n",
        "Input: root = [1,2,3,4,5,6,null,null,null,7,8,9,10]\n",
        "Output: [1,2,4,7,8,9,10,6,3]\n",
        "Explanation:\n",
        "- The left boundary follows the path starting from the root's left child 2 -> 4.\n",
        "  4 is a leaf, so the left boundary is [2].\n",
        "- The right boundary follows the path starting from the root's right child 3 -> 6 -> 10.\n",
        "  10 is a leaf, so the right boundary is [3,6], and in reverse order is [6,3].\n",
        "- The leaves from left to right are [4,7,8,9,10].\n",
        "Concatenating everything results in [1] + [2] + [4,7,8,9,10] + [6,3] = [1,2,4,7,8,9,10,6,3].\n",
        " \n",
        "\n",
        "Constraints:\n",
        "\n",
        "The number of nodes in the tree is in the range [1, 104].\n",
        "-1000 <= Node.val <= 1000"
      ]
    }
  ],
  "metadata": {
    "language_info": {
      "name": "python"
    }
  },
  "nbformat": 4,
  "nbformat_minor": 5
}
