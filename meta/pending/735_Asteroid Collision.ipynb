{
  "cells": [
    {
      "cell_type": "markdown",
      "id": "8d1be887",
      "metadata": {},
      "source": [
        "We are given an array asteroids of integers representing asteroids in a row. The indices of the asteriod in the array represent their relative position in space.\n",
        "\n",
        "For each asteroid, the absolute value represents its size, and the sign represents its direction (positive meaning right, negative meaning left). Each asteroid moves at the same speed.\n",
        "\n",
        "Find out the state of the asteroids after all collisions. If two asteroids meet, the smaller one will explode. If both are the same size, both will explode. Two asteroids moving in the same direction will never meet.\n",
        "\n",
        " \n",
        "\n",
        "Example 1:\n",
        "\n",
        "Input: asteroids = [5,10,-5]\n",
        "Output: [5,10]\n",
        "Explanation: The 10 and -5 collide resulting in 10. The 5 and 10 never collide.\n",
        "Example 2:\n",
        "\n",
        "Input: asteroids = [8,-8]\n",
        "Output: []\n",
        "Explanation: The 8 and -8 collide exploding each other.\n",
        "Example 3:\n",
        "\n",
        "Input: asteroids = [10,2,-5]\n",
        "Output: [10]\n",
        "Explanation: The 2 and -5 collide resulting in -5. The 10 and -5 collide resulting in 10.\n",
        " \n",
        "\n",
        "Constraints:\n",
        "\n",
        "2 <= asteroids.length <= 104\n",
        "-1000 <= asteroids[i] <= 1000\n",
        "asteroids[i] != 0"
      ]
    }
  ],
  "metadata": {
    "language_info": {
      "name": "python"
    }
  },
  "nbformat": 4,
  "nbformat_minor": 5
}
