{
  "cells": [
    {
      "cell_type": "markdown",
      "id": "562c1f84",
      "metadata": {},
      "source": [
        "Given a binary tree root, return the maximum sum of all keys of any sub-tree which is also a Binary Search Tree (BST).\n",
        "\n",
        "Assume a BST is defined as follows:\n",
        "\n",
        "The left subtree of a node contains only nodes with keys less than the node's key.\n",
        "The right subtree of a node contains only nodes with keys greater than the node's key.\n",
        "Both the left and right subtrees must also be binary search trees.\n",
        " \n",
        "\n",
        "Example 1:\n",
        "\n",
        "\n",
        "\n",
        "Input: root = [1,4,3,2,4,2,5,null,null,null,null,null,null,4,6]\n",
        "Output: 20\n",
        "Explanation: Maximum sum in a valid Binary search tree is obtained in root node with key equal to 3.\n",
        "Example 2:\n",
        "\n",
        "\n",
        "\n",
        "Input: root = [4,3,null,1,2]\n",
        "Output: 2\n",
        "Explanation: Maximum sum in a valid Binary search tree is obtained in a single root node with key equal to 2.\n",
        "Example 3:\n",
        "\n",
        "Input: root = [-4,-2,-5]\n",
        "Output: 0\n",
        "Explanation: All values are negatives. Return an empty BST.\n",
        " \n",
        "\n",
        "Constraints:\n",
        "\n",
        "The number of nodes in the tree is in the range [1, 4 * 104].\n",
        "-4 * 104 <= Node.val <= 4 * 104"
      ]
    }
  ],
  "metadata": {
    "language_info": {
      "name": "python"
    }
  },
  "nbformat": 4,
  "nbformat_minor": 5
}
