{
  "cells": [
    {
      "cell_type": "markdown",
      "id": "c622809d",
      "metadata": {},
      "source": [
        "Given a string s, return the longest palindromic substring in s.\n",
        "\n",
        " \n",
        "\n",
        "Example 1:\n",
        "\n",
        "Input: s = \"babad\"\n",
        "Output: \"bab\"\n",
        "Explanation: \"aba\" is also a valid answer.\n",
        "Example 2:\n",
        "\n",
        "Input: s = \"cbbd\"\n",
        "Output: \"bb\"\n",
        " \n",
        "\n",
        "Constraints:\n",
        "\n",
        "1 <= s.length <= 1000\n",
        "s consist of only digits and English letters."
      ]
    },
    {
      "cell_type": "code",
      "execution_count": null,
      "id": "1c5c8f36",
      "metadata": {},
      "outputs": [],
      "source": [
        "def longestPalindrome(s):\n",
        "    if not s or len(s) == 0:\n",
        "        return \"\"\n",
        "\n",
        "    start, end = 0, 0\n",
        "\n",
        "    def expandAroundCenter(left, right):\n",
        "        while left >= 0 and right < len(s) and s[left] == s[right]:\n",
        "            left -= 1\n",
        "            right += 1\n",
        "        return left + 1, right - 1  # return boundaries of palindrome\n",
        "\n",
        "    for i in range(len(s)):\n",
        "        # Odd length palindrome\n",
        "        left1, right1 = expandAroundCenter(i, i)\n",
        "        # Even length palindrome\n",
        "        left2, right2 = expandAroundCenter(i, i + 1)\n",
        "\n",
        "        # Check which palindrome is longer\n",
        "        if right1 - left1 > end - start:\n",
        "            start, end = left1, right1\n",
        "        if right2 - left2 > end - start:\n",
        "            start, end = left2, right2\n",
        "\n",
        "    return s[start:end + 1]"
      ]
    },
    {
      "cell_type": "markdown",
      "id": "d97b8406",
      "metadata": {},
      "source": [
        "🧠 Explanation:\n",
        "\t•\tFor each index i, consider it as a center for odd-length palindrome.\n",
        "\t•\tAlso consider the center between i and i+1 for even-length palindrome.\n",
        "\t•\tExpand outwards as long as characters match.\n",
        "\t•\tKeep track of the longest palindrome found."
      ]
    }
  ],
  "metadata": {
    "language_info": {
      "name": "python"
    }
  },
  "nbformat": 4,
  "nbformat_minor": 5
}
