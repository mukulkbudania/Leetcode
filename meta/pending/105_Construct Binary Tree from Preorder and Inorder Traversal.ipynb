{
  "cells": [
    {
      "cell_type": "markdown",
      "id": "cf4a1cf7",
      "metadata": {},
      "source": [
        "Given two integer arrays preorder and inorder where preorder is the preorder traversal of a binary tree and inorder is the inorder traversal of the same tree, construct and return the binary tree.\n",
        "\n",
        " \n",
        "\n",
        "Example 1:\n",
        "\n",
        "\n",
        "Input: preorder = [3,9,20,15,7], inorder = [9,3,15,20,7]\n",
        "Output: [3,9,20,null,null,15,7]\n",
        "Example 2:\n",
        "\n",
        "Input: preorder = [-1], inorder = [-1]\n",
        "Output: [-1]\n",
        " \n",
        "\n",
        "Constraints:\n",
        "\n",
        "1 <= preorder.length <= 3000\n",
        "inorder.length == preorder.length\n",
        "-3000 <= preorder[i], inorder[i] <= 3000\n",
        "preorder and inorder consist of unique values.\n",
        "Each value of inorder also appears in preorder.\n",
        "preorder is guaranteed to be the preorder traversal of the tree.\n",
        "inorder is guaranteed to be the inorder traversal of the tree."
      ]
    }
  ],
  "metadata": {
    "language_info": {
      "name": "python"
    }
  },
  "nbformat": 4,
  "nbformat_minor": 5
}
