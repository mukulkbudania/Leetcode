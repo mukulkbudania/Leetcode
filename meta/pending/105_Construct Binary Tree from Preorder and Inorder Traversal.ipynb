{
 "cells": [
  {
   "cell_type": "markdown",
   "id": "7b7aa36c",
   "metadata": {},
   "source": [
    "# 105. Construct Binary Tree from Preorder and Inorder Traversal"
   ]
  },
  {
   "cell_type": "markdown",
   "id": "cf4a1cf7",
   "metadata": {},
   "source": [
    "Given two integer arrays preorder and inorder where preorder is the preorder traversal of a binary tree and inorder is the inorder traversal of the same tree, construct and return the binary tree.\n",
    "\n",
    "\n",
    "\n",
    " \n",
    "\n",
    "\n",
    "\n",
    "**Example 1:**\n",
    "\n",
    "\n",
    "\n",
    "\n",
    "\n",
    "Input: preorder = [3,9,20,15,7], inorder = [9,3,15,20,7]\n",
    "\n",
    "Output: [3,9,20,null,null,15,7]\n",
    "\n",
    "**Example 2:**\n",
    "\n",
    "\n",
    "\n",
    "Input: preorder = [-1], inorder = [-1]\n",
    "\n",
    "Output: [-1]\n",
    "\n",
    " \n",
    "\n",
    "\n",
    "\n",
    "**Constraints:**\n",
    "\n",
    "\n",
    "\n",
    "1 <= preorder.length <= 3000\n",
    "\n",
    "inorder.length == preorder.length\n",
    "\n",
    "-3000 <= preorder[i], inorder[i] <= 3000\n",
    "\n",
    "preorder and inorder consist of unique values.\n",
    "\n",
    "Each value of inorder also appears in preorder.\n",
    "\n",
    "preorder is guaranteed to be the preorder traversal of the tree.\n",
    "\n",
    "inorder is guaranteed to be the inorder traversal of the tree."
   ]
  }
 ],
 "metadata": {
  "language_info": {
   "name": "python"
  }
 },
 "nbformat": 4,
 "nbformat_minor": 5
}
