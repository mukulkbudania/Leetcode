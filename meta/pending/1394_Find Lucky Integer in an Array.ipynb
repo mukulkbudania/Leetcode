{
 "cells": [
  {
   "cell_type": "markdown",
   "id": "55f9d0a9",
   "metadata": {},
   "source": [
    "# 1394. Find Lucky Integer in an Array"
   ]
  },
  {
   "cell_type": "markdown",
   "id": "3e2ba1a0",
   "metadata": {},
   "source": [
    "Given an array of integers arr, a lucky integer is an integer that has a frequency in the array equal to its value.\n",
    "\n",
    "\n",
    "\n",
    "Return the largest lucky integer in the array. If there is no lucky integer return -1.\n",
    "\n",
    "\n",
    "\n",
    " \n",
    "\n",
    "\n",
    "\n",
    "**Example 1:**\n",
    "\n",
    "\n",
    "\n",
    "Input: arr = [2,2,3,4]\n",
    "\n",
    "Output: 2\n",
    "\n",
    "Explanation: The only lucky number in the array is 2 because frequency[2] == 2.\n",
    "\n",
    "**Example 2:**\n",
    "\n",
    "\n",
    "\n",
    "Input: arr = [1,2,2,3,3,3]\n",
    "\n",
    "Output: 3\n",
    "\n",
    "Explanation: 1, 2 and 3 are all lucky numbers, return the largest of them.\n",
    "\n",
    "**Example 3:**\n",
    "\n",
    "\n",
    "\n",
    "Input: arr = [2,2,2,3,3]\n",
    "\n",
    "Output: -1\n",
    "\n",
    "Explanation: There are no lucky numbers in the array.\n",
    "\n",
    " \n",
    "\n",
    "\n",
    "\n",
    "**Constraints:**\n",
    "\n",
    "\n",
    "\n",
    "1 <= arr.length <= 500\n",
    "\n",
    "1 <= arr[i] <= 500"
   ]
  }
 ],
 "metadata": {
  "language_info": {
   "name": "python"
  }
 },
 "nbformat": 4,
 "nbformat_minor": 5
}
