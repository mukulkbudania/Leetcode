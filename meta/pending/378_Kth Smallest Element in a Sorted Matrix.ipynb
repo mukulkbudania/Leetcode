{
 "cells": [
  {
   "cell_type": "markdown",
   "id": "67d5477d",
   "metadata": {},
   "source": [
    "# 378. Kth Smallest Element in a Sorted Matrix"
   ]
  },
  {
   "cell_type": "markdown",
   "id": "63e13a0c",
   "metadata": {},
   "source": [
    "Given an n x n matrix where each of the rows and columns is sorted in ascending order, return the kth smallest element in the matrix.\n",
    "\n",
    "\n",
    "\n",
    "Note that it is the kth smallest element in the sorted order, not the kth distinct element.\n",
    "\n",
    "\n",
    "\n",
    "You must find a solution with a memory complexity better than O(n2).\n",
    "\n",
    "\n",
    "\n",
    " \n",
    "\n",
    "\n",
    "\n",
    "**Example 1:**\n",
    "\n",
    "\n",
    "\n",
    "Input: matrix = [[1,5,9],[10,11,13],[12,13,15]], k = 8\n",
    "\n",
    "Output: 13\n",
    "\n",
    "Explanation: The elements in the matrix are [1,5,9,10,11,12,13,13,15], and the 8th smallest number is 13\n",
    "\n",
    "**Example 2:**\n",
    "\n",
    "\n",
    "\n",
    "Input: matrix = [[-5]], k = 1\n",
    "\n",
    "Output: -5\n",
    "\n",
    " \n",
    "\n",
    "\n",
    "\n",
    "**Constraints:**\n",
    "\n",
    "\n",
    "\n",
    "n == matrix.length == matrix[i].length\n",
    "\n",
    "1 <= n <= 300\n",
    "\n",
    "-109 <= matrix[i][j] <= 109\n",
    "\n",
    "All the rows and columns of matrix are guaranteed to be sorted in non-decreasing order.\n",
    "\n",
    "1 <= k <= n2\n",
    "\n",
    " \n",
    "\n",
    "\n",
    "\n",
    "Follow up:\n",
    "\n",
    "\n",
    "\n",
    "Could you solve the problem with a constant memory (i.e., O(1) memory complexity)?\n",
    "\n",
    "Could you solve the problem in O(n) time complexity? The solution may be too advanced for an interview but you may find reading this paper fun."
   ]
  }
 ],
 "metadata": {
  "language_info": {
   "name": "python"
  }
 },
 "nbformat": 4,
 "nbformat_minor": 5
}
