{
 "cells": [
  {
   "cell_type": "markdown",
   "id": "2951429d",
   "metadata": {},
   "source": [
    "# 921. Minimum Add to Make Parentheses Valid"
   ]
  },
  {
   "cell_type": "markdown",
   "id": "fc70d2e5",
   "metadata": {},
   "source": [
    "A parentheses string is valid if and only if:\n",
    "\n",
    "\n",
    "\n",
    "It is the empty string,\n",
    "\n",
    "It can be written as AB (A concatenated with B), where A and B are valid strings, or\n",
    "\n",
    "It can be written as (A), where A is a valid string.\n",
    "\n",
    "You are given a parentheses string s. In one move, you can insert a parenthesis at any position of the string.\n",
    "\n",
    "\n",
    "\n",
    "For example, if s = \"()))\", you can insert an opening parenthesis to be \"(()))\" or a closing parenthesis to be \"())))\".\n",
    "\n",
    "Return the minimum number of moves required to make s valid.\n",
    "\n",
    "\n",
    "\n",
    " \n",
    "\n",
    "\n",
    "\n",
    "**Example 1:**\n",
    "\n",
    "\n",
    "\n",
    "Input: s = \"())\"\n",
    "\n",
    "Output: 1\n",
    "\n",
    "**Example 2:**\n",
    "\n",
    "\n",
    "\n",
    "Input: s = \"(((\"\n",
    "\n",
    "Output: 3\n",
    "\n",
    " \n",
    "\n",
    "\n",
    "\n",
    "**Constraints:**\n",
    "\n",
    "\n",
    "\n",
    "1 <= s.length <= 1000\n",
    "\n",
    "s[i] is either '(' or ')'."
   ]
  }
 ],
 "metadata": {
  "language_info": {
   "name": "python"
  }
 },
 "nbformat": 4,
 "nbformat_minor": 5
}
