{
 "cells": [
  {
   "cell_type": "markdown",
   "id": "f27e799a",
   "metadata": {},
   "source": [
    "# 905. Sort Array By Parity"
   ]
  },
  {
   "cell_type": "markdown",
   "id": "277fff5a",
   "metadata": {},
   "source": [
    "Given an integer array nums, move all the even integers at the beginning of the array followed by all the odd integers.\n",
    "\n",
    "\n",
    "\n",
    "Return any array that satisfies this condition.\n",
    "\n",
    "\n",
    "\n",
    " \n",
    "\n",
    "\n",
    "\n",
    "**Example 1:**\n",
    "\n",
    "\n",
    "\n",
    "Input: nums = [3,1,2,4]\n",
    "\n",
    "Output: [2,4,3,1]\n",
    "\n",
    "Explanation: The outputs [4,2,3,1], [2,4,1,3], and [4,2,1,3] would also be accepted.\n",
    "\n",
    "**Example 2:**\n",
    "\n",
    "\n",
    "\n",
    "Input: nums = [0]\n",
    "\n",
    "Output: [0]\n",
    "\n",
    " \n",
    "\n",
    "\n",
    "\n",
    "**Constraints:**\n",
    "\n",
    "\n",
    "\n",
    "1 <= nums.length <= 5000\n",
    "\n",
    "0 <= nums[i] <= 5000"
   ]
  }
 ],
 "metadata": {
  "language_info": {
   "name": "python"
  }
 },
 "nbformat": 4,
 "nbformat_minor": 5
}
