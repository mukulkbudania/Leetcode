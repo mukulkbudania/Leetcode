{
  "cells": [
    {
      "cell_type": "markdown",
      "id": "7c8a8779",
      "metadata": {},
      "source": [
        "Given a non-negative integer c, decide whether there're two integers a and b such that a2 + b2 = c.\n",
        "\n",
        " \n",
        "\n",
        "Example 1:\n",
        "\n",
        "Input: c = 5\n",
        "Output: true\n",
        "Explanation: 1 * 1 + 2 * 2 = 5\n",
        "Example 2:\n",
        "\n",
        "Input: c = 3\n",
        "Output: false\n",
        " \n",
        "\n",
        "Constraints:\n",
        "\n",
        "0 <= c <= 231 - 1"
      ]
    }
  ],
  "metadata": {
    "language_info": {
      "name": "python"
    }
  },
  "nbformat": 4,
  "nbformat_minor": 5
}
