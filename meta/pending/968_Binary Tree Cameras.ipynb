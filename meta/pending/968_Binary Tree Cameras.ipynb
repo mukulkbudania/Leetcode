{
 "cells": [
  {
   "cell_type": "markdown",
   "id": "0edfd067",
   "metadata": {},
   "source": [
    "# 968. Binary Tree Cameras"
   ]
  },
  {
   "cell_type": "markdown",
   "id": "8d40cd05",
   "metadata": {},
   "source": [
    "You are given the root of a binary tree. We install cameras on the tree nodes where each camera at a node can monitor its parent, itself, and its immediate children.\n",
    "\n",
    "\n",
    "\n",
    "Return the minimum number of cameras needed to monitor all nodes of the tree.\n",
    "\n",
    "\n",
    "\n",
    " \n",
    "\n",
    "\n",
    "\n",
    "**Example 1:**\n",
    "\n",
    "\n",
    "\n",
    "\n",
    "\n",
    "Input: root = [0,0,null,0,0]\n",
    "\n",
    "Output: 1\n",
    "\n",
    "Explanation: One camera is enough to monitor all nodes if placed as shown.\n",
    "\n",
    "**Example 2:**\n",
    "\n",
    "\n",
    "\n",
    "\n",
    "\n",
    "Input: root = [0,0,null,0,null,0,null,null,0]\n",
    "\n",
    "Output: 2\n",
    "\n",
    "Explanation: At least two cameras are needed to monitor all nodes of the tree. The above image shows one of the valid configurations of camera placement.\n",
    "\n",
    " \n",
    "\n",
    "\n",
    "\n",
    "**Constraints:**\n",
    "\n",
    "\n",
    "\n",
    "The number of nodes in the tree is in the range [1, 1000].\n",
    "\n",
    "Node.val == 0\n",
    "\n"
   ]
  }
 ],
 "metadata": {
  "language_info": {
   "name": "python"
  }
 },
 "nbformat": 4,
 "nbformat_minor": 5
}
