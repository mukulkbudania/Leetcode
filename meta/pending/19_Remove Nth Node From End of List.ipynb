{
  "cells": [
    {
      "cell_type": "markdown",
      "id": "a1195463",
      "metadata": {},
      "source": [
        "Given the head of a linked list, remove the nth node from the end of the list and return its head.\n",
        "\n",
        " \n",
        "\n",
        "Example 1:\n",
        "\n",
        "\n",
        "Input: head = [1,2,3,4,5], n = 2\n",
        "Output: [1,2,3,5]\n",
        "Example 2:\n",
        "\n",
        "Input: head = [1], n = 1\n",
        "Output: []\n",
        "Example 3:\n",
        "\n",
        "Input: head = [1,2], n = 1\n",
        "Output: [1]\n",
        " \n",
        "\n",
        "Constraints:\n",
        "\n",
        "The number of nodes in the list is sz.\n",
        "1 <= sz <= 30\n",
        "0 <= Node.val <= 100\n",
        "1 <= n <= sz\n",
        " \n",
        "\n",
        "Follow up: Could you do this in one pass?"
      ]
    }
  ],
  "metadata": {
    "language_info": {
      "name": "python"
    }
  },
  "nbformat": 4,
  "nbformat_minor": 5
}
