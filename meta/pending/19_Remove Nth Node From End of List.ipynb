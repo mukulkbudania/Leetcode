{
 "cells": [
  {
   "cell_type": "markdown",
   "id": "75c16da5",
   "metadata": {},
   "source": [
    "# 19. Remove Nth Node From End of List"
   ]
  },
  {
   "cell_type": "markdown",
   "id": "a1195463",
   "metadata": {},
   "source": [
    "Given the head of a linked list, remove the nth node from the end of the list and return its head.\n",
    "\n",
    "\n",
    "\n",
    " \n",
    "\n",
    "\n",
    "\n",
    "**Example 1:**\n",
    "\n",
    "\n",
    "\n",
    "\n",
    "\n",
    "Input: head = [1,2,3,4,5], n = 2\n",
    "\n",
    "Output: [1,2,3,5]\n",
    "\n",
    "**Example 2:**\n",
    "\n",
    "\n",
    "\n",
    "Input: head = [1], n = 1\n",
    "\n",
    "Output: []\n",
    "\n",
    "**Example 3:**\n",
    "\n",
    "\n",
    "\n",
    "Input: head = [1,2], n = 1\n",
    "\n",
    "Output: [1]\n",
    "\n",
    " \n",
    "\n",
    "\n",
    "\n",
    "**Constraints:**\n",
    "\n",
    "\n",
    "\n",
    "The number of nodes in the list is sz.\n",
    "\n",
    "1 <= sz <= 30\n",
    "\n",
    "0 <= Node.val <= 100\n",
    "\n",
    "1 <= n <= sz\n",
    "\n",
    " \n",
    "\n",
    "\n",
    "\n",
    "Follow up: Could you do this in one pass?"
   ]
  }
 ],
 "metadata": {
  "language_info": {
   "name": "python"
  }
 },
 "nbformat": 4,
 "nbformat_minor": 5
}
