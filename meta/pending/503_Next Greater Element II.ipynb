{
 "cells": [
  {
   "cell_type": "markdown",
   "id": "ba7e2a22",
   "metadata": {},
   "source": [
    "# 503. Next Greater Element II"
   ]
  },
  {
   "cell_type": "markdown",
   "id": "8b9f7810",
   "metadata": {},
   "source": [
    "Given a circular integer array nums (i.e., the next element of nums[nums.length - 1] is nums[0]), return the next greater number for every element in nums.\n",
    "\n",
    "\n",
    "\n",
    "The next greater number of a number x is the first greater number to its traversing-order next in the array, which means you could search circularly to find its next greater number. If it doesn't exist, return -1 for this number.\n",
    "\n",
    "\n",
    "\n",
    " \n",
    "\n",
    "\n",
    "\n",
    "**Example 1:**\n",
    "\n",
    "\n",
    "\n",
    "Input: nums = [1,2,1]\n",
    "\n",
    "Output: [2,-1,2]\n",
    "\n",
    "Explanation: The first 1's next greater number is 2; \n",
    "\n",
    "The number 2 can't find next greater number. \n",
    "\n",
    "The second 1's next greater number needs to search circularly, which is also 2.\n",
    "\n",
    "**Example 2:**\n",
    "\n",
    "\n",
    "\n",
    "Input: nums = [1,2,3,4,3]\n",
    "\n",
    "Output: [2,3,4,-1,4]\n",
    "\n",
    " \n",
    "\n",
    "\n",
    "\n",
    "**Constraints:**\n",
    "\n",
    "\n",
    "\n",
    "1 <= nums.length <= 104\n",
    "\n",
    "-109 <= nums[i] <= 109"
   ]
  }
 ],
 "metadata": {
  "language_info": {
   "name": "python"
  }
 },
 "nbformat": 4,
 "nbformat_minor": 5
}
