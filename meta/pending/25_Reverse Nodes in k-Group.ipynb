{
 "cells": [
  {
   "cell_type": "markdown",
   "id": "17ed56e6",
   "metadata": {},
   "source": [
    "# 25. Reverse Nodes in k-Group"
   ]
  },
  {
   "cell_type": "markdown",
   "id": "620020ce",
   "metadata": {},
   "source": [
    "Given the head of a linked list, reverse the nodes of the list k at a time, and return the modified list.\n",
    "\n",
    "\n",
    "\n",
    "k is a positive integer and is less than or equal to the length of the linked list. If the number of nodes is not a multiple of k then left-out nodes, in the end, should remain as it is.\n",
    "\n",
    "\n",
    "\n",
    "You may not alter the values in the list's nodes, only nodes themselves may be changed.\n",
    "\n",
    "\n",
    "\n",
    " \n",
    "\n",
    "\n",
    "\n",
    "**Example 1:**\n",
    "\n",
    "\n",
    "\n",
    "\n",
    "\n",
    "Input: head = [1,2,3,4,5], k = 2\n",
    "\n",
    "Output: [2,1,4,3,5]\n",
    "\n",
    "**Example 2:**\n",
    "\n",
    "\n",
    "\n",
    "\n",
    "\n",
    "Input: head = [1,2,3,4,5], k = 3\n",
    "\n",
    "Output: [3,2,1,4,5]\n",
    "\n",
    " \n",
    "\n",
    "\n",
    "\n",
    "**Constraints:**\n",
    "\n",
    "\n",
    "\n",
    "The number of nodes in the list is n.\n",
    "\n",
    "1 <= k <= n <= 5000\n",
    "\n",
    "0 <= Node.val <= 1000\n",
    "\n",
    " \n",
    "\n",
    "\n",
    "\n",
    "Follow-up: Can you solve the problem in O(1) extra memory space?"
   ]
  }
 ],
 "metadata": {
  "language_info": {
   "name": "python"
  }
 },
 "nbformat": 4,
 "nbformat_minor": 5
}
