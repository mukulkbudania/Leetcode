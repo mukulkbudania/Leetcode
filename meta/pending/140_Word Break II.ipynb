{
 "cells": [
  {
   "cell_type": "markdown",
   "id": "dfeab4c5",
   "metadata": {},
   "source": [
    "# 140. Word Break II"
   ]
  },
  {
   "cell_type": "markdown",
   "id": "204221b2",
   "metadata": {},
   "source": [
    "Given a string s and a dictionary of strings wordDict, add spaces in s to construct a sentence where each word is a valid dictionary word. Return all such possible sentences in any order.\n",
    "\n",
    "\n",
    "\n",
    "Note that the same word in the dictionary may be reused multiple times in the segmentation.\n",
    "\n",
    "\n",
    "\n",
    " \n",
    "\n",
    "\n",
    "\n",
    "**Example 1:**\n",
    "\n",
    "\n",
    "\n",
    "Input: s = \"catsanddog\", wordDict = [\"cat\",\"cats\",\"and\",\"sand\",\"dog\"]\n",
    "\n",
    "Output: [\"cats and dog\",\"cat sand dog\"]\n",
    "\n",
    "**Example 2:**\n",
    "\n",
    "\n",
    "\n",
    "Input: s = \"pineapplepenapple\", wordDict = [\"apple\",\"pen\",\"applepen\",\"pine\",\"pineapple\"]\n",
    "\n",
    "Output: [\"pine apple pen apple\",\"pineapple pen apple\",\"pine applepen apple\"]\n",
    "\n",
    "Explanation: Note that you are allowed to reuse a dictionary word.\n",
    "\n",
    "**Example 3:**\n",
    "\n",
    "\n",
    "\n",
    "Input: s = \"catsandog\", wordDict = [\"cats\",\"dog\",\"sand\",\"and\",\"cat\"]\n",
    "\n",
    "Output: []\n",
    "\n",
    " \n",
    "\n",
    "\n",
    "\n",
    "**Constraints:**\n",
    "\n",
    "\n",
    "\n",
    "1 <= s.length <= 20\n",
    "\n",
    "1 <= wordDict.length <= 1000\n",
    "\n",
    "1 <= wordDict[i].length <= 10\n",
    "\n",
    "s and wordDict[i] consist of only lowercase English letters.\n",
    "\n",
    "All the strings of wordDict are unique.\n",
    "\n",
    "Input is generated in a way that the length of the answer doesn't exceed 105."
   ]
  }
 ],
 "metadata": {
  "language_info": {
   "name": "python"
  }
 },
 "nbformat": 4,
 "nbformat_minor": 5
}
