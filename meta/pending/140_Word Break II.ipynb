{
  "cells": [
    {
      "cell_type": "markdown",
      "id": "204221b2",
      "metadata": {},
      "source": [
        "Given a string s and a dictionary of strings wordDict, add spaces in s to construct a sentence where each word is a valid dictionary word. Return all such possible sentences in any order.\n",
        "\n",
        "Note that the same word in the dictionary may be reused multiple times in the segmentation.\n",
        "\n",
        " \n",
        "\n",
        "Example 1:\n",
        "\n",
        "Input: s = \"catsanddog\", wordDict = [\"cat\",\"cats\",\"and\",\"sand\",\"dog\"]\n",
        "Output: [\"cats and dog\",\"cat sand dog\"]\n",
        "Example 2:\n",
        "\n",
        "Input: s = \"pineapplepenapple\", wordDict = [\"apple\",\"pen\",\"applepen\",\"pine\",\"pineapple\"]\n",
        "Output: [\"pine apple pen apple\",\"pineapple pen apple\",\"pine applepen apple\"]\n",
        "Explanation: Note that you are allowed to reuse a dictionary word.\n",
        "Example 3:\n",
        "\n",
        "Input: s = \"catsandog\", wordDict = [\"cats\",\"dog\",\"sand\",\"and\",\"cat\"]\n",
        "Output: []\n",
        " \n",
        "\n",
        "Constraints:\n",
        "\n",
        "1 <= s.length <= 20\n",
        "1 <= wordDict.length <= 1000\n",
        "1 <= wordDict[i].length <= 10\n",
        "s and wordDict[i] consist of only lowercase English letters.\n",
        "All the strings of wordDict are unique.\n",
        "Input is generated in a way that the length of the answer doesn't exceed 105."
      ]
    }
  ],
  "metadata": {
    "language_info": {
      "name": "python"
    }
  },
  "nbformat": 4,
  "nbformat_minor": 5
}
