{
  "cells": [
    {
      "cell_type": "markdown",
      "id": "82804bbc",
      "metadata": {},
      "source": [
        "You are given a string s and a robot that currently holds an empty string t. Apply one of the following operations until s and t are both empty:\n",
        "\n",
        "Remove the first character of a string s and give it to the robot. The robot will append this character to the string t.\n",
        "Remove the last character of a string t and give it to the robot. The robot will write this character on paper.\n",
        "Return the lexicographically smallest string that can be written on the paper.\n",
        "\n",
        " \n",
        "\n",
        "Example 1:\n",
        "\n",
        "Input: s = \"zza\"\n",
        "Output: \"azz\"\n",
        "Explanation: Let p denote the written string.\n",
        "Initially p=\"\", s=\"zza\", t=\"\".\n",
        "Perform first operation three times p=\"\", s=\"\", t=\"zza\".\n",
        "Perform second operation three times p=\"azz\", s=\"\", t=\"\".\n",
        "Example 2:\n",
        "\n",
        "Input: s = \"bac\"\n",
        "Output: \"abc\"\n",
        "Explanation: Let p denote the written string.\n",
        "Perform first operation twice p=\"\", s=\"c\", t=\"ba\". \n",
        "Perform second operation twice p=\"ab\", s=\"c\", t=\"\". \n",
        "Perform first operation p=\"ab\", s=\"\", t=\"c\". \n",
        "Perform second operation p=\"abc\", s=\"\", t=\"\".\n",
        "Example 3:\n",
        "\n",
        "Input: s = \"bdda\"\n",
        "Output: \"addb\"\n",
        "Explanation: Let p denote the written string.\n",
        "Initially p=\"\", s=\"bdda\", t=\"\".\n",
        "Perform first operation four times p=\"\", s=\"\", t=\"bdda\".\n",
        "Perform second operation four times p=\"addb\", s=\"\", t=\"\".\n",
        " \n",
        "\n",
        "Constraints:\n",
        "\n",
        "1 <= s.length <= 105\n",
        "s consists of only English lowercase letters."
      ]
    }
  ],
  "metadata": {
    "language_info": {
      "name": "python"
    }
  },
  "nbformat": 4,
  "nbformat_minor": 5
}
