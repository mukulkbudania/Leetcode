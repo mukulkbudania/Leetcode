{
  "cells": [
    {
      "cell_type": "markdown",
      "id": "6cd5b304",
      "metadata": {},
      "source": [
        "Given a positive integer num, return true if num is a perfect square or false otherwise.\n",
        "\n",
        "A perfect square is an integer that is the square of an integer. In other words, it is the product of some integer with itself.\n",
        "\n",
        "You must not use any built-in library function, such as sqrt.\n",
        "\n",
        " \n",
        "\n",
        "Example 1:\n",
        "\n",
        "Input: num = 16\n",
        "Output: true\n",
        "Explanation: We return true because 4 * 4 = 16 and 4 is an integer.\n",
        "Example 2:\n",
        "\n",
        "Input: num = 14\n",
        "Output: false\n",
        "Explanation: We return false because 3.742 * 3.742 = 14 and 3.742 is not an integer.\n",
        " \n",
        "\n",
        "Constraints:\n",
        "\n",
        "1 <= num <= 231 - 1"
      ]
    }
  ],
  "metadata": {
    "language_info": {
      "name": "python"
    }
  },
  "nbformat": 4,
  "nbformat_minor": 5
}
