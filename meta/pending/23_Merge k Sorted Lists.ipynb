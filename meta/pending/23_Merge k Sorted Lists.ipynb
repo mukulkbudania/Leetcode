{
  "cells": [
    {
      "cell_type": "markdown",
      "id": "0d18d0d4",
      "metadata": {},
      "source": [
        "You are given an array of k linked-lists lists, each linked-list is sorted in ascending order.\n",
        "\n",
        "Merge all the linked-lists into one sorted linked-list and return it.\n",
        "\n",
        " \n",
        "\n",
        "Example 1:\n",
        "\n",
        "Input: lists = [[1,4,5],[1,3,4],[2,6]]\n",
        "Output: [1,1,2,3,4,4,5,6]\n",
        "Explanation: The linked-lists are:\n",
        "[\n",
        "  1->4->5,\n",
        "  1->3->4,\n",
        "  2->6\n",
        "]\n",
        "merging them into one sorted linked list:\n",
        "1->1->2->3->4->4->5->6\n",
        "Example 2:\n",
        "\n",
        "Input: lists = []\n",
        "Output: []\n",
        "Example 3:\n",
        "\n",
        "Input: lists = [[]]\n",
        "Output: []\n",
        " \n",
        "\n",
        "Constraints:\n",
        "\n",
        "k == lists.length\n",
        "0 <= k <= 104\n",
        "0 <= lists[i].length <= 500\n",
        "-104 <= lists[i][j] <= 104\n",
        "lists[i] is sorted in ascending order.\n",
        "The sum of lists[i].length will not exceed 104.\n"
      ]
    }
  ],
  "metadata": {
    "language_info": {
      "name": "python"
    }
  },
  "nbformat": 4,
  "nbformat_minor": 5
}
