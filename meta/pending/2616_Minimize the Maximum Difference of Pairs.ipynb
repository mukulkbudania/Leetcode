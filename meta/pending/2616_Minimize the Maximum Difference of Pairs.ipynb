{
 "cells": [
  {
   "cell_type": "markdown",
   "id": "66625005",
   "metadata": {},
   "source": [
    "# 2616. Minimize the Maximum Difference of Pairs"
   ]
  },
  {
   "cell_type": "markdown",
   "id": "a5d9f728",
   "metadata": {},
   "source": [
    "You are given a 0-indexed integer array nums and an integer p. Find p pairs of indices of nums such that the maximum difference amongst all the pairs is minimized. Also, ensure no index appears more than once amongst the p pairs.\n",
    "\n",
    "\n",
    "\n",
    "Note that for a pair of elements at the index i and j, the difference of this pair is |nums[i] - nums[j]|, where |x| represents the absolute value of x.\n",
    "\n",
    "\n",
    "\n",
    "Return the minimum maximum difference among all p pairs. We define the maximum of an empty set to be zero.\n",
    "\n",
    "\n",
    "\n",
    " \n",
    "\n",
    "\n",
    "\n",
    "**Example 1:**\n",
    "\n",
    "\n",
    "\n",
    "Input: nums = [10,1,2,7,1,3], p = 2\n",
    "\n",
    "Output: 1\n",
    "\n",
    "Explanation: The first pair is formed from the indices 1 and 4, and the second pair is formed from the indices 2 and 5. \n",
    "\n",
    "The maximum difference is max(|nums[1] - nums[4]|, |nums[2] - nums[5]|) = max(0, 1) = 1. Therefore, we return 1.\n",
    "\n",
    "**Example 2:**\n",
    "\n",
    "\n",
    "\n",
    "Input: nums = [4,2,1,2], p = 1\n",
    "\n",
    "Output: 0\n",
    "\n",
    "Explanation: Let the indices 1 and 3 form a pair. The difference of that pair is |2 - 2| = 0, which is the minimum we can attain.\n",
    "\n",
    " \n",
    "\n",
    "\n",
    "\n",
    "**Constraints:**\n",
    "\n",
    "\n",
    "\n",
    "1 <= nums.length <= 105\n",
    "\n",
    "0 <= nums[i] <= 109\n",
    "\n",
    "0 <= p <= (nums.length)/2"
   ]
  }
 ],
 "metadata": {
  "language_info": {
   "name": "python"
  }
 },
 "nbformat": 4,
 "nbformat_minor": 5
}
