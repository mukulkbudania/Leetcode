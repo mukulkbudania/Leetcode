{
  "cells": [
    {
      "cell_type": "markdown",
      "id": "195d5c4d",
      "metadata": {},
      "source": [
        "Given an integer x, return true if x is a palindrome, and false otherwise.\n",
        "\n",
        " \n",
        "\n",
        "Example 1:\n",
        "\n",
        "Input: x = 121\n",
        "Output: true\n",
        "Explanation: 121 reads as 121 from left to right and from right to left.\n",
        "Example 2:\n",
        "\n",
        "Input: x = -121\n",
        "Output: false\n",
        "Explanation: From left to right, it reads -121. From right to left, it becomes 121-. Therefore it is not a palindrome.\n",
        "Example 3:\n",
        "\n",
        "Input: x = 10\n",
        "Output: false\n",
        "Explanation: Reads 01 from right to left. Therefore it is not a palindrome.\n",
        " \n",
        "\n",
        "Constraints:\n",
        "\n",
        "-231 <= x <= 231 - 1\n",
        " \n",
        "\n",
        "Follow up: Could you solve it without converting the integer to a string?\n"
      ]
    }
  ],
  "metadata": {
    "language_info": {
      "name": "python"
    }
  },
  "nbformat": 4,
  "nbformat_minor": 5
}
