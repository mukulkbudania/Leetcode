{
  "cells": [
    {
      "cell_type": "markdown",
      "id": "509d41f9",
      "metadata": {},
      "source": [
        "You are asked to design a file system that allows you to create new paths and associate them with different values.\n",
        "\n",
        "The format of a path is one or more concatenated strings of the form: / followed by one or more lowercase English letters. For example, \"/leetcode\" and \"/leetcode/problems\" are valid paths while an empty string \"\" and \"/\" are not.\n",
        "\n",
        "Implement the FileSystem class:\n",
        "\n",
        "bool createPath(string path, int value) Creates a new path and associates a value to it if possible and returns true. Returns false if the path already exists or its parent path doesn't exist.\n",
        "int get(string path) Returns the value associated with path or returns -1 if the path doesn't exist.\n",
        " \n",
        "\n",
        "Example 1:\n",
        "\n",
        "Input: \n",
        "[\"FileSystem\",\"createPath\",\"get\"]\n",
        "[[],[\"/a\",1],[\"/a\"]]\n",
        "Output: \n",
        "[null,true,1]\n",
        "Explanation: \n",
        "FileSystem fileSystem = new FileSystem();\n",
        "\n",
        "fileSystem.createPath(\"/a\", 1); // return true\n",
        "fileSystem.get(\"/a\"); // return 1\n",
        "Example 2:\n",
        "\n",
        "Input: \n",
        "[\"FileSystem\",\"createPath\",\"createPath\",\"get\",\"createPath\",\"get\"]\n",
        "[[],[\"/leet\",1],[\"/leet/code\",2],[\"/leet/code\"],[\"/c/d\",1],[\"/c\"]]\n",
        "Output: \n",
        "[null,true,true,2,false,-1]\n",
        "Explanation: \n",
        "FileSystem fileSystem = new FileSystem();\n",
        "\n",
        "fileSystem.createPath(\"/leet\", 1); // return true\n",
        "fileSystem.createPath(\"/leet/code\", 2); // return true\n",
        "fileSystem.get(\"/leet/code\"); // return 2\n",
        "fileSystem.createPath(\"/c/d\", 1); // return false because the parent path \"/c\" doesn't exist.\n",
        "fileSystem.get(\"/c\"); // return -1 because this path doesn't exist.\n",
        " \n",
        "\n",
        "Constraints:\n",
        "\n",
        "2 <= path.length <= 100\n",
        "1 <= value <= 109\n",
        "Each path is valid and consists of lowercase English letters and '/'.\n",
        "At most 104 calls in total will be made to createPath and get.\n"
      ]
    }
  ],
  "metadata": {
    "language_info": {
      "name": "python"
    }
  },
  "nbformat": 4,
  "nbformat_minor": 5
}
