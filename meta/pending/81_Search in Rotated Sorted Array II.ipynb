{
 "cells": [
  {
   "cell_type": "markdown",
   "id": "eadccdcf",
   "metadata": {},
   "source": [
    "# 81. Search in Rotated Sorted Array II"
   ]
  },
  {
   "cell_type": "markdown",
   "id": "0b8a9f2d",
   "metadata": {},
   "source": [
    "There is an integer array nums sorted in non-decreasing order (not necessarily with distinct values).\n",
    "\n",
    "\n",
    "\n",
    "Before being passed to your function, nums is rotated at an unknown pivot index k (0 <= k < nums.length) such that the resulting array is [nums[k], nums[k+1], ..., nums[n-1], nums[0], nums[1], ..., nums[k-1]] (0-indexed). For example, [0,1,2,4,4,4,5,6,6,7] might be rotated at pivot index 5 and become [4,5,6,6,7,0,1,2,4,4].\n",
    "\n",
    "\n",
    "\n",
    "Given the array nums after the rotation and an integer target, return true if target is in nums, or false if it is not in nums.\n",
    "\n",
    "\n",
    "\n",
    "You must decrease the overall operation steps as much as possible.\n",
    "\n",
    "\n",
    "\n",
    " \n",
    "\n",
    "\n",
    "\n",
    "**Example 1:**\n",
    "\n",
    "\n",
    "\n",
    "Input: nums = [2,5,6,0,0,1,2], target = 0\n",
    "\n",
    "Output: true\n",
    "\n",
    "**Example 2:**\n",
    "\n",
    "\n",
    "\n",
    "Input: nums = [2,5,6,0,0,1,2], target = 3\n",
    "\n",
    "Output: false\n",
    "\n",
    " \n",
    "\n",
    "\n",
    "\n",
    "**Constraints:**\n",
    "\n",
    "\n",
    "\n",
    "1 <= nums.length <= 5000\n",
    "\n",
    "-104 <= nums[i] <= 104\n",
    "\n",
    "nums is guaranteed to be rotated at some pivot.\n",
    "\n",
    "-104 <= target <= 104\n",
    "\n",
    " \n",
    "\n",
    "\n",
    "\n",
    "Follow up: This problem is similar to Search in Rotated Sorted Array, but nums may contain duplicates. Would this affect the runtime complexity? How and why?\n",
    "\n",
    "\n",
    "\n"
   ]
  }
 ],
 "metadata": {
  "language_info": {
   "name": "python"
  }
 },
 "nbformat": 4,
 "nbformat_minor": 5
}
