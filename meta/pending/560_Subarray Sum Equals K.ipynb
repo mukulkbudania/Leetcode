{
  "cells": [
    {
      "cell_type": "markdown",
      "id": "73243c9a",
      "metadata": {},
      "source": [
        "Given an array of integers nums and an integer k, return the total number of subarrays whose sum equals to k.\n",
        "\n",
        "A subarray is a contiguous non-empty sequence of elements within an array.\n",
        "\n",
        " \n",
        "\n",
        "Example 1:\n",
        "\n",
        "Input: nums = [1,1,1], k = 2\n",
        "Output: 2\n",
        "Example 2:\n",
        "\n",
        "Input: nums = [1,2,3], k = 3\n",
        "Output: 2\n",
        " \n",
        "\n",
        "Constraints:\n",
        "\n",
        "1 <= nums.length <= 2 * 104\n",
        "-1000 <= nums[i] <= 1000\n",
        "-107 <= k <= 107"
      ]
    }
  ],
  "metadata": {
    "language_info": {
      "name": "python"
    }
  },
  "nbformat": 4,
  "nbformat_minor": 5
}
