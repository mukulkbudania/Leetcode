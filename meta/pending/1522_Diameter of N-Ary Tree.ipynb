{
  "cells": [
    {
      "cell_type": "markdown",
      "id": "2ca41c2c",
      "metadata": {},
      "source": [
        "Given a root of an N-ary tree, you need to compute the length of the diameter of the tree.\n",
        "\n",
        "The diameter of an N-ary tree is the length of the longest path between any two nodes in the tree. This path may or may not pass through the root.\n",
        "\n",
        "(Nary-Tree input serialization is represented in their level order traversal, each group of children is separated by the null value.)\n",
        "\n",
        " \n",
        "\n",
        "Example 1:\n",
        "\n",
        "\n",
        "\n",
        "Input: root = [1,null,3,2,4,null,5,6]\n",
        "Output: 3\n",
        "Explanation: Diameter is shown in red color.\n",
        "Example 2:\n",
        "\n",
        "\n",
        "\n",
        "Input: root = [1,null,2,null,3,4,null,5,null,6]\n",
        "Output: 4\n",
        "Example 3:\n",
        "\n",
        "\n",
        "\n",
        "Input: root = [1,null,2,3,4,5,null,null,6,7,null,8,null,9,10,null,null,11,null,12,null,13,null,null,14]\n",
        "Output: 7\n",
        " \n",
        "\n",
        "Constraints:\n",
        "\n",
        "The depth of the n-ary tree is less than or equal to 1000.\n",
        "The total number of nodes is between [1, 104]."
      ]
    }
  ],
  "metadata": {
    "language_info": {
      "name": "python"
    }
  },
  "nbformat": 4,
  "nbformat_minor": 5
}
