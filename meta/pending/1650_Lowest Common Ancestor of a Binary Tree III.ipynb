{
  "cells": [
    {
      "cell_type": "markdown",
      "id": "416625c0",
      "metadata": {},
      "source": [
        "Given two nodes of a binary tree p and q, return their lowest common ancestor (LCA).\n",
        "\n",
        "Each node will have a reference to its parent node. The definition for Node is below:\n",
        "\n",
        "class Node {\n",
        "    public int val;\n",
        "    public Node left;\n",
        "    public Node right;\n",
        "    public Node parent;\n",
        "}\n",
        "According to the definition of LCA on Wikipedia: \"The lowest common ancestor of two nodes p and q in a tree T is the lowest node that has both p and q as descendants (where we allow a node to be a descendant of itself).\"\n",
        "\n",
        " \n",
        "\n",
        "Example 1:\n",
        "\n",
        "\n",
        "Input: root = [3,5,1,6,2,0,8,null,null,7,4], p = 5, q = 1\n",
        "Output: 3\n",
        "Explanation: The LCA of nodes 5 and 1 is 3.\n",
        "Example 2:\n",
        "\n",
        "\n",
        "Input: root = [3,5,1,6,2,0,8,null,null,7,4], p = 5, q = 4\n",
        "Output: 5\n",
        "Explanation: The LCA of nodes 5 and 4 is 5 since a node can be a descendant of itself according to the LCA definition.\n",
        "Example 3:\n",
        "\n",
        "Input: root = [1,2], p = 1, q = 2\n",
        "Output: 1\n",
        " \n",
        "\n",
        "Constraints:\n",
        "\n",
        "The number of nodes in the tree is in the range [2, 105].\n",
        "-109 <= Node.val <= 109\n",
        "All Node.val are unique.\n",
        "p != q\n",
        "p and q exist in the tree."
      ]
    }
  ],
  "metadata": {
    "language_info": {
      "name": "python"
    }
  },
  "nbformat": 4,
  "nbformat_minor": 5
}
