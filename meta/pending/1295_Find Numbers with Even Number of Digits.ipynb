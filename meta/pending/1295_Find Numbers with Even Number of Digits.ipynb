{
  "cells": [
    {
      "cell_type": "markdown",
      "id": "e65a4a64",
      "metadata": {},
      "source": [
        "Given an array nums of integers, return how many of them contain an even number of digits.\n",
        "\n",
        " \n",
        "\n",
        "Example 1:\n",
        "\n",
        "Input: nums = [12,345,2,6,7896]\n",
        "Output: 2\n",
        "Explanation: \n",
        "12 contains 2 digits (even number of digits). \n",
        "345 contains 3 digits (odd number of digits). \n",
        "2 contains 1 digit (odd number of digits). \n",
        "6 contains 1 digit (odd number of digits). \n",
        "7896 contains 4 digits (even number of digits). \n",
        "Therefore only 12 and 7896 contain an even number of digits.\n",
        "Example 2:\n",
        "\n",
        "Input: nums = [555,901,482,1771]\n",
        "Output: 1 \n",
        "Explanation: \n",
        "Only 1771 contains an even number of digits.\n",
        " \n",
        "\n",
        "Constraints:\n",
        "\n",
        "1 <= nums.length <= 500\n",
        "1 <= nums[i] <= 105"
      ]
    }
  ],
  "metadata": {
    "language_info": {
      "name": "python"
    }
  },
  "nbformat": 4,
  "nbformat_minor": 5
}
