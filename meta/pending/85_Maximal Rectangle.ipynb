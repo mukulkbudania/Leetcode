{
 "cells": [
  {
   "cell_type": "markdown",
   "id": "1b561b12",
   "metadata": {},
   "source": [
    "# 85. Maximal Rectangle"
   ]
  },
  {
   "cell_type": "markdown",
   "id": "bd0d30a8",
   "metadata": {},
   "source": [
    "Given a rows x cols binary matrix filled with 0's and 1's, find the largest rectangle containing only 1's and return its area.\n",
    "\n",
    "\n",
    "\n",
    " \n",
    "\n",
    "\n",
    "\n",
    "**Example 1:**\n",
    "\n",
    "\n",
    "\n",
    "\n",
    "\n",
    "Input: matrix = [[\"1\",\"0\",\"1\",\"0\",\"0\"],[\"1\",\"0\",\"1\",\"1\",\"1\"],[\"1\",\"1\",\"1\",\"1\",\"1\"],[\"1\",\"0\",\"0\",\"1\",\"0\"]]\n",
    "\n",
    "Output: 6\n",
    "\n",
    "Explanation: The maximal rectangle is shown in the above picture.\n",
    "\n",
    "**Example 2:**\n",
    "\n",
    "\n",
    "\n",
    "Input: matrix = [[\"0\"]]\n",
    "\n",
    "Output: 0\n",
    "\n",
    "**Example 3:**\n",
    "\n",
    "\n",
    "\n",
    "Input: matrix = [[\"1\"]]\n",
    "\n",
    "Output: 1\n",
    "\n",
    " \n",
    "\n",
    "\n",
    "\n",
    "**Constraints:**\n",
    "\n",
    "\n",
    "\n",
    "rows == matrix.length\n",
    "\n",
    "cols == matrix[i].length\n",
    "\n",
    "1 <= row, cols <= 200\n",
    "\n",
    "matrix[i][j] is '0' or '1'."
   ]
  }
 ],
 "metadata": {
  "language_info": {
   "name": "python"
  }
 },
 "nbformat": 4,
 "nbformat_minor": 5
}
