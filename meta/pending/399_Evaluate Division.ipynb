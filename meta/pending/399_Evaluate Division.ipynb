{
  "cells": [
    {
      "cell_type": "markdown",
      "id": "5d9b4b0a",
      "metadata": {},
      "source": [
        "You are given an array of variable pairs equations and an array of real numbers values, where equations[i] = [Ai, Bi] and values[i] represent the equation Ai / Bi = values[i]. Each Ai or Bi is a string that represents a single variable.\n",
        "\n",
        "You are also given some queries, where queries[j] = [Cj, Dj] represents the jth query where you must find the answer for Cj / Dj = ?.\n",
        "\n",
        "Return the answers to all queries. If a single answer cannot be determined, return -1.0.\n",
        "\n",
        "Note: The input is always valid. You may assume that evaluating the queries will not result in division by zero and that there is no contradiction.\n",
        "\n",
        "Note: The variables that do not occur in the list of equations are undefined, so the answer cannot be determined for them.\n",
        "\n",
        " \n",
        "\n",
        "Example 1:\n",
        "\n",
        "Input: equations = [[\"a\",\"b\"],[\"b\",\"c\"]], values = [2.0,3.0], queries = [[\"a\",\"c\"],[\"b\",\"a\"],[\"a\",\"e\"],[\"a\",\"a\"],[\"x\",\"x\"]]\n",
        "Output: [6.00000,0.50000,-1.00000,1.00000,-1.00000]\n",
        "Explanation: \n",
        "Given: a / b = 2.0, b / c = 3.0\n",
        "queries are: a / c = ?, b / a = ?, a / e = ?, a / a = ?, x / x = ? \n",
        "return: [6.0, 0.5, -1.0, 1.0, -1.0 ]\n",
        "note: x is undefined => -1.0\n",
        "Example 2:\n",
        "\n",
        "Input: equations = [[\"a\",\"b\"],[\"b\",\"c\"],[\"bc\",\"cd\"]], values = [1.5,2.5,5.0], queries = [[\"a\",\"c\"],[\"c\",\"b\"],[\"bc\",\"cd\"],[\"cd\",\"bc\"]]\n",
        "Output: [3.75000,0.40000,5.00000,0.20000]\n",
        "Example 3:\n",
        "\n",
        "Input: equations = [[\"a\",\"b\"]], values = [0.5], queries = [[\"a\",\"b\"],[\"b\",\"a\"],[\"a\",\"c\"],[\"x\",\"y\"]]\n",
        "Output: [0.50000,2.00000,-1.00000,-1.00000]\n",
        " \n",
        "\n",
        "Constraints:\n",
        "\n",
        "1 <= equations.length <= 20\n",
        "equations[i].length == 2\n",
        "1 <= Ai.length, Bi.length <= 5\n",
        "values.length == equations.length\n",
        "0.0 < values[i] <= 20.0\n",
        "1 <= queries.length <= 20\n",
        "queries[i].length == 2\n",
        "1 <= Cj.length, Dj.length <= 5\n",
        "Ai, Bi, Cj, Dj consist of lower case English letters and digits.\n"
      ]
    }
  ],
  "metadata": {
    "language_info": {
      "name": "python"
    }
  },
  "nbformat": 4,
  "nbformat_minor": 5
}
