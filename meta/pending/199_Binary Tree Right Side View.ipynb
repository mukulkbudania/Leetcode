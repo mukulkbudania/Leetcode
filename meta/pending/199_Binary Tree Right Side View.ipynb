{
  "cells": [
    {
      "cell_type": "markdown",
      "id": "5760c398",
      "metadata": {},
      "source": [
        "Given the root of a binary tree, imagine yourself standing on the right side of it, return the values of the nodes you can see ordered from top to bottom.\n",
        "\n",
        " \n",
        "\n",
        "Example 1:\n",
        "\n",
        "Input: root = [1,2,3,null,5,null,4]\n",
        "\n",
        "Output: [1,3,4]\n",
        "\n",
        "Explanation:\n",
        "\n",
        "\n",
        "\n",
        "Example 2:\n",
        "\n",
        "Input: root = [1,2,3,4,null,null,null,5]\n",
        "\n",
        "Output: [1,3,4,5]\n",
        "\n",
        "Explanation:\n",
        "\n",
        "\n",
        "\n",
        "Example 3:\n",
        "\n",
        "Input: root = [1,null,3]\n",
        "\n",
        "Output: [1,3]\n",
        "\n",
        "Example 4:\n",
        "\n",
        "Input: root = []\n",
        "\n",
        "Output: []\n",
        "\n",
        " \n",
        "\n",
        "Constraints:\n",
        "\n",
        "The number of nodes in the tree is in the range [0, 100].\n",
        "-100 <= Node.val <= 100"
      ]
    }
  ],
  "metadata": {
    "language_info": {
      "name": "python"
    }
  },
  "nbformat": 4,
  "nbformat_minor": 5
}
