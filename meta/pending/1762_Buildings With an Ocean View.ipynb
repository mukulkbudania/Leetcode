{
 "cells": [
  {
   "cell_type": "markdown",
   "id": "9a9729b2",
   "metadata": {},
   "source": [
    "# 1762. Buildings With an Ocean View"
   ]
  },
  {
   "cell_type": "markdown",
   "id": "b6a023e2",
   "metadata": {},
   "source": [
    "There are n buildings in a line. You are given an integer array heights of size n that represents the heights of the buildings in the line.\n",
    "\n",
    "\n",
    "\n",
    "The ocean is to the right of the buildings. A building has an ocean view if the building can see the ocean without obstructions. Formally, a building has an ocean view if all the buildings to its right have a smaller height.\n",
    "\n",
    "\n",
    "\n",
    "Return a list of indices (0-indexed) of buildings that have an ocean view, sorted in increasing order.\n",
    "\n",
    "\n",
    "\n",
    " \n",
    "\n",
    "\n",
    "\n",
    "**Example 1:**\n",
    "\n",
    "\n",
    "\n",
    "Input: heights = [4,2,3,1]\n",
    "\n",
    "Output: [0,2,3]\n",
    "\n",
    "Explanation: Building 1 (0-indexed) does not have an ocean view because building 2 is taller.\n",
    "\n",
    "**Example 2:**\n",
    "\n",
    "\n",
    "\n",
    "Input: heights = [4,3,2,1]\n",
    "\n",
    "Output: [0,1,2,3]\n",
    "\n",
    "Explanation: All the buildings have an ocean view.\n",
    "\n",
    "**Example 3:**\n",
    "\n",
    "\n",
    "\n",
    "Input: heights = [1,3,2,4]\n",
    "\n",
    "Output: [3]\n",
    "\n",
    "Explanation: Only building 3 has an ocean view.\n",
    "\n",
    " \n",
    "\n",
    "\n",
    "\n",
    "**Constraints:**\n",
    "\n",
    "\n",
    "\n",
    "1 <= heights.length <= 105\n",
    "\n",
    "1 <= heights[i] <= 109"
   ]
  }
 ],
 "metadata": {
  "language_info": {
   "name": "python"
  }
 },
 "nbformat": 4,
 "nbformat_minor": 5
}
