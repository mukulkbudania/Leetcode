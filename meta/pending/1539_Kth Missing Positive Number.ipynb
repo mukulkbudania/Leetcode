{
  "cells": [
    {
      "cell_type": "markdown",
      "id": "6e3ccd08",
      "metadata": {},
      "source": [
        "Given an array arr of positive integers sorted in a strictly increasing order, and an integer k.\n",
        "\n",
        "Return the kth positive integer that is missing from this array.\n",
        "\n",
        " \n",
        "\n",
        "Example 1:\n",
        "\n",
        "Input: arr = [2,3,4,7,11], k = 5\n",
        "Output: 9\n",
        "Explanation: The missing positive integers are [1,5,6,8,9,10,12,13,...]. The 5th missing positive integer is 9.\n",
        "Example 2:\n",
        "\n",
        "Input: arr = [1,2,3,4], k = 2\n",
        "Output: 6\n",
        "Explanation: The missing positive integers are [5,6,7,...]. The 2nd missing positive integer is 6.\n",
        " \n",
        "\n",
        "Constraints:\n",
        "\n",
        "1 <= arr.length <= 1000\n",
        "1 <= arr[i] <= 1000\n",
        "1 <= k <= 1000\n",
        "arr[i] < arr[j] for 1 <= i < j <= arr.length\n",
        " \n",
        "\n",
        "Follow up:\n",
        "\n",
        "Could you solve this problem in less than O(n) complexity?"
      ]
    }
  ],
  "metadata": {
    "language_info": {
      "name": "python"
    }
  },
  "nbformat": 4,
  "nbformat_minor": 5
}
