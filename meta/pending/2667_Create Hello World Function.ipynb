{
  "cells": [
    {
      "cell_type": "markdown",
      "id": "8104bfc8",
      "metadata": {},
      "source": [
        "Write a function createHelloWorld. It should return a new function that always returns \"Hello World\".\n",
        " \n",
        "\n",
        "Example 1:\n",
        "\n",
        "Input: args = []\n",
        "Output: \"Hello World\"\n",
        "Explanation:\n",
        "const f = createHelloWorld();\n",
        "f(); // \"Hello World\"\n",
        "\n",
        "The function returned by createHelloWorld should always return \"Hello World\".\n",
        "Example 2:\n",
        "\n",
        "Input: args = [{},null,42]\n",
        "Output: \"Hello World\"\n",
        "Explanation:\n",
        "const f = createHelloWorld();\n",
        "f({}, null, 42); // \"Hello World\"\n",
        "\n",
        "Any arguments could be passed to the function but it should still always return \"Hello World\".\n",
        " \n",
        "\n",
        "Constraints:\n",
        "\n",
        "0 <= args.length <= 10"
      ]
    }
  ],
  "metadata": {
    "language_info": {
      "name": "python"
    }
  },
  "nbformat": 4,
  "nbformat_minor": 5
}
