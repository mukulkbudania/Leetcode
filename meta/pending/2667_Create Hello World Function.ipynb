{
 "cells": [
  {
   "cell_type": "markdown",
   "id": "72d8bbfc",
   "metadata": {},
   "source": [
    "# 2667. Create Hello World Function"
   ]
  },
  {
   "cell_type": "markdown",
   "id": "8104bfc8",
   "metadata": {},
   "source": [
    "Write a function createHelloWorld. It should return a new function that always returns \"Hello World\".\n",
    "\n",
    " \n",
    "\n",
    "\n",
    "\n",
    "**Example 1:**\n",
    "\n",
    "\n",
    "\n",
    "Input: args = []\n",
    "\n",
    "Output: \"Hello World\"\n",
    "\n",
    "Explanation:\n",
    "\n",
    "const f = createHelloWorld();\n",
    "\n",
    "f(); // \"Hello World\"\n",
    "\n",
    "\n",
    "\n",
    "The function returned by createHelloWorld should always return \"Hello World\".\n",
    "\n",
    "**Example 2:**\n",
    "\n",
    "\n",
    "\n",
    "Input: args = [{},null,42]\n",
    "\n",
    "Output: \"Hello World\"\n",
    "\n",
    "Explanation:\n",
    "\n",
    "const f = createHelloWorld();\n",
    "\n",
    "f({}, null, 42); // \"Hello World\"\n",
    "\n",
    "\n",
    "\n",
    "Any arguments could be passed to the function but it should still always return \"Hello World\".\n",
    "\n",
    " \n",
    "\n",
    "\n",
    "\n",
    "**Constraints:**\n",
    "\n",
    "\n",
    "\n",
    "0 <= args.length <= 10"
   ]
  }
 ],
 "metadata": {
  "language_info": {
   "name": "python"
  }
 },
 "nbformat": 4,
 "nbformat_minor": 5
}
