{
 "cells": [
  {
   "cell_type": "markdown",
   "id": "4b89d93b",
   "metadata": {},
   "source": [
    "# 73. Set Matrix Zeroes"
   ]
  },
  {
   "cell_type": "markdown",
   "id": "5d12a85e",
   "metadata": {},
   "source": [
    "Given an m x n integer matrix matrix, if an element is 0, set its entire row and column to 0's.\n",
    "\n",
    "\n",
    "\n",
    "You must do it in place.\n",
    "\n",
    "\n",
    "\n",
    " \n",
    "\n",
    "\n",
    "\n",
    "**Example 1:**\n",
    "\n",
    "\n",
    "\n",
    "\n",
    "\n",
    "Input: matrix = [[1,1,1],[1,0,1],[1,1,1]]\n",
    "\n",
    "Output: [[1,0,1],[0,0,0],[1,0,1]]\n",
    "\n",
    "**Example 2:**\n",
    "\n",
    "\n",
    "\n",
    "\n",
    "\n",
    "Input: matrix = [[0,1,2,0],[3,4,5,2],[1,3,1,5]]\n",
    "\n",
    "Output: [[0,0,0,0],[0,4,5,0],[0,3,1,0]]\n",
    "\n",
    " \n",
    "\n",
    "\n",
    "\n",
    "**Constraints:**\n",
    "\n",
    "\n",
    "\n",
    "m == matrix.length\n",
    "\n",
    "n == matrix[0].length\n",
    "\n",
    "1 <= m, n <= 200\n",
    "\n",
    "-231 <= matrix[i][j] <= 231 - 1\n",
    "\n",
    " \n",
    "\n",
    "\n",
    "\n",
    "Follow up:\n",
    "\n",
    "\n",
    "\n",
    "A straightforward solution using O(mn) space is probably a bad idea.\n",
    "\n",
    "A simple improvement uses O(m + n) space, but still not the best solution.\n",
    "\n",
    "Could you devise a constant space solution?"
   ]
  }
 ],
 "metadata": {
  "language_info": {
   "name": "python"
  }
 },
 "nbformat": 4,
 "nbformat_minor": 5
}
