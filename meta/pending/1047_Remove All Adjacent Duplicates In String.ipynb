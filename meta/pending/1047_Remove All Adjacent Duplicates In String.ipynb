{
  "cells": [
    {
      "cell_type": "markdown",
      "id": "1255d7f2",
      "metadata": {},
      "source": [
        "You are given a string s consisting of lowercase English letters. A duplicate removal consists of choosing two adjacent and equal letters and removing them.\n",
        "\n",
        "We repeatedly make duplicate removals on s until we no longer can.\n",
        "\n",
        "Return the final string after all such duplicate removals have been made. It can be proven that the answer is unique.\n",
        "\n",
        " \n",
        "\n",
        "Example 1:\n",
        "\n",
        "Input: s = \"abbaca\"\n",
        "Output: \"ca\"\n",
        "Explanation: \n",
        "For example, in \"abbaca\" we could remove \"bb\" since the letters are adjacent and equal, and this is the only possible move.  The result of this move is that the string is \"aaca\", of which only \"aa\" is possible, so the final string is \"ca\".\n",
        "Example 2:\n",
        "\n",
        "Input: s = \"azxxzy\"\n",
        "Output: \"ay\"\n",
        " \n",
        "\n",
        "Constraints:\n",
        "\n",
        "1 <= s.length <= 105\n",
        "s consists of lowercase English letters."
      ]
    }
  ],
  "metadata": {
    "language_info": {
      "name": "python"
    }
  },
  "nbformat": 4,
  "nbformat_minor": 5
}
