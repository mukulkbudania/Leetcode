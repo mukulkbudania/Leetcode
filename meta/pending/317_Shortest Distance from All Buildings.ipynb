{
  "cells": [
    {
      "cell_type": "markdown",
      "id": "6d0494d5",
      "metadata": {},
      "source": [
        "You are given an m x n grid grid of values 0, 1, or 2, where:\n",
        "\n",
        "each 0 marks an empty land that you can pass by freely,\n",
        "each 1 marks a building that you cannot pass through, and\n",
        "each 2 marks an obstacle that you cannot pass through.\n",
        "You want to build a house on an empty land that reaches all buildings in the shortest total travel distance. You can only move up, down, left, and right.\n",
        "\n",
        "Return the shortest travel distance for such a house. If it is not possible to build such a house according to the above rules, return -1.\n",
        "\n",
        "The total travel distance is the sum of the distances between the houses of the friends and the meeting point.\n",
        "\n",
        " \n",
        "\n",
        "Example 1:\n",
        "\n",
        "\n",
        "Input: grid = [[1,0,2,0,1],[0,0,0,0,0],[0,0,1,0,0]]\n",
        "Output: 7\n",
        "Explanation: Given three buildings at (0,0), (0,4), (2,2), and an obstacle at (0,2).\n",
        "The point (1,2) is an ideal empty land to build a house, as the total travel distance of 3+3+1=7 is minimal.\n",
        "So return 7.\n",
        "Example 2:\n",
        "\n",
        "Input: grid = [[1,0]]\n",
        "Output: 1\n",
        "Example 3:\n",
        "\n",
        "Input: grid = [[1]]\n",
        "Output: -1\n",
        " \n",
        "\n",
        "Constraints:\n",
        "\n",
        "m == grid.length\n",
        "n == grid[i].length\n",
        "1 <= m, n <= 50\n",
        "grid[i][j] is either 0, 1, or 2.\n",
        "There will be at least one building in the grid."
      ]
    }
  ],
  "metadata": {
    "language_info": {
      "name": "python"
    }
  },
  "nbformat": 4,
  "nbformat_minor": 5
}
