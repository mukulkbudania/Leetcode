{
  "cells": [
    {
      "cell_type": "markdown",
      "id": "25d3d02b",
      "metadata": {},
      "source": [
        "Given an array of integers arr, find the sum of min(b), where b ranges over every (contiguous) subarray of arr. Since the answer may be large, return the answer modulo 109 + 7.\n",
        "\n",
        " \n",
        "\n",
        "Example 1:\n",
        "\n",
        "Input: arr = [3,1,2,4]\n",
        "Output: 17\n",
        "Explanation: \n",
        "Subarrays are [3], [1], [2], [4], [3,1], [1,2], [2,4], [3,1,2], [1,2,4], [3,1,2,4]. \n",
        "Minimums are 3, 1, 2, 4, 1, 1, 2, 1, 1, 1.\n",
        "Sum is 17.\n",
        "Example 2:\n",
        "\n",
        "Input: arr = [11,81,94,43,3]\n",
        "Output: 444\n",
        " \n",
        "\n",
        "Constraints:\n",
        "\n",
        "1 <= arr.length <= 3 * 104\n",
        "1 <= arr[i] <= 3 * 104"
      ]
    }
  ],
  "metadata": {
    "language_info": {
      "name": "python"
    }
  },
  "nbformat": 4,
  "nbformat_minor": 5
}
