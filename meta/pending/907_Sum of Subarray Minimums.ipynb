{
 "cells": [
  {
   "cell_type": "markdown",
   "id": "9f6cb5ed",
   "metadata": {},
   "source": [
    "# 907. Sum of Subarray Minimums"
   ]
  },
  {
   "cell_type": "markdown",
   "id": "25d3d02b",
   "metadata": {},
   "source": [
    "Given an array of integers arr, find the sum of min(b), where b ranges over every (contiguous) subarray of arr. Since the answer may be large, return the answer modulo 109 + 7.\n",
    "\n",
    "\n",
    "\n",
    " \n",
    "\n",
    "\n",
    "\n",
    "**Example 1:**\n",
    "\n",
    "\n",
    "\n",
    "Input: arr = [3,1,2,4]\n",
    "\n",
    "Output: 17\n",
    "\n",
    "Explanation: \n",
    "\n",
    "Subarrays are [3], [1], [2], [4], [3,1], [1,2], [2,4], [3,1,2], [1,2,4], [3,1,2,4]. \n",
    "\n",
    "Minimums are 3, 1, 2, 4, 1, 1, 2, 1, 1, 1.\n",
    "\n",
    "Sum is 17.\n",
    "\n",
    "**Example 2:**\n",
    "\n",
    "\n",
    "\n",
    "Input: arr = [11,81,94,43,3]\n",
    "\n",
    "Output: 444\n",
    "\n",
    " \n",
    "\n",
    "\n",
    "\n",
    "**Constraints:**\n",
    "\n",
    "\n",
    "\n",
    "1 <= arr.length <= 3 * 104\n",
    "\n",
    "1 <= arr[i] <= 3 * 104"
   ]
  }
 ],
 "metadata": {
  "language_info": {
   "name": "python"
  }
 },
 "nbformat": 4,
 "nbformat_minor": 5
}
