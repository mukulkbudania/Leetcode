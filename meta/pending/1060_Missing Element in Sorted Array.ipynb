{
 "cells": [
  {
   "cell_type": "markdown",
   "id": "b43bfeff",
   "metadata": {},
   "source": [
    "# 1060. Missing Element in Sorted Array"
   ]
  },
  {
   "cell_type": "markdown",
   "id": "f074dfa3",
   "metadata": {},
   "source": [
    "Given an integer array nums which is sorted in ascending order and all of its elements are unique and given also an integer k, return the kth missing number starting from the leftmost number of the array.\n",
    "\n",
    "\n",
    "\n",
    " \n",
    "\n",
    "\n",
    "\n",
    "**Example 1:**\n",
    "\n",
    "\n",
    "\n",
    "Input: nums = [4,7,9,10], k = 1\n",
    "\n",
    "Output: 5\n",
    "\n",
    "Explanation: The first missing number is 5.\n",
    "\n",
    "**Example 2:**\n",
    "\n",
    "\n",
    "\n",
    "Input: nums = [4,7,9,10], k = 3\n",
    "\n",
    "Output: 8\n",
    "\n",
    "Explanation: The missing numbers are [5,6,8,...], hence the third missing number is 8.\n",
    "\n",
    "**Example 3:**\n",
    "\n",
    "\n",
    "\n",
    "Input: nums = [1,2,4], k = 3\n",
    "\n",
    "Output: 6\n",
    "\n",
    "Explanation: The missing numbers are [3,5,6,7,...], hence the third missing number is 6.\n",
    "\n",
    " \n",
    "\n",
    "\n",
    "\n",
    "**Constraints:**\n",
    "\n",
    "\n",
    "\n",
    "1 <= nums.length <= 5 * 104\n",
    "\n",
    "1 <= nums[i] <= 107\n",
    "\n",
    "nums is sorted in ascending order, and all the elements are unique.\n",
    "\n",
    "1 <= k <= 108\n",
    "\n",
    " \n",
    "\n",
    "\n",
    "\n",
    "Follow up: Can you find a logarithmic time complexity (i.e., O(log(n))) solution?"
   ]
  }
 ],
 "metadata": {
  "language_info": {
   "name": "python"
  }
 },
 "nbformat": 4,
 "nbformat_minor": 5
}
