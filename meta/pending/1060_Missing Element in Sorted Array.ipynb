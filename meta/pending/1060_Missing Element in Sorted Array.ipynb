{
  "cells": [
    {
      "cell_type": "markdown",
      "id": "f074dfa3",
      "metadata": {},
      "source": [
        "Given an integer array nums which is sorted in ascending order and all of its elements are unique and given also an integer k, return the kth missing number starting from the leftmost number of the array.\n",
        "\n",
        " \n",
        "\n",
        "Example 1:\n",
        "\n",
        "Input: nums = [4,7,9,10], k = 1\n",
        "Output: 5\n",
        "Explanation: The first missing number is 5.\n",
        "Example 2:\n",
        "\n",
        "Input: nums = [4,7,9,10], k = 3\n",
        "Output: 8\n",
        "Explanation: The missing numbers are [5,6,8,...], hence the third missing number is 8.\n",
        "Example 3:\n",
        "\n",
        "Input: nums = [1,2,4], k = 3\n",
        "Output: 6\n",
        "Explanation: The missing numbers are [3,5,6,7,...], hence the third missing number is 6.\n",
        " \n",
        "\n",
        "Constraints:\n",
        "\n",
        "1 <= nums.length <= 5 * 104\n",
        "1 <= nums[i] <= 107\n",
        "nums is sorted in ascending order, and all the elements are unique.\n",
        "1 <= k <= 108\n",
        " \n",
        "\n",
        "Follow up: Can you find a logarithmic time complexity (i.e., O(log(n))) solution?"
      ]
    }
  ],
  "metadata": {
    "language_info": {
      "name": "python"
    }
  },
  "nbformat": 4,
  "nbformat_minor": 5
}
