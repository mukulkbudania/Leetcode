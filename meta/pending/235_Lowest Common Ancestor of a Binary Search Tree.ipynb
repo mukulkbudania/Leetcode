{
  "cells": [
    {
      "cell_type": "markdown",
      "id": "14d06bf7",
      "metadata": {},
      "source": [
        "Given a binary search tree (BST), find the lowest common ancestor (LCA) node of two given nodes in the BST.\n",
        "\n",
        "According to the definition of LCA on Wikipedia: “The lowest common ancestor is defined between two nodes p and q as the lowest node in T that has both p and q as descendants (where we allow a node to be a descendant of itself).”\n",
        "\n",
        " \n",
        "\n",
        "Example 1:\n",
        "\n",
        "\n",
        "Input: root = [6,2,8,0,4,7,9,null,null,3,5], p = 2, q = 8\n",
        "Output: 6\n",
        "Explanation: The LCA of nodes 2 and 8 is 6.\n",
        "Example 2:\n",
        "\n",
        "\n",
        "Input: root = [6,2,8,0,4,7,9,null,null,3,5], p = 2, q = 4\n",
        "Output: 2\n",
        "Explanation: The LCA of nodes 2 and 4 is 2, since a node can be a descendant of itself according to the LCA definition.\n",
        "Example 3:\n",
        "\n",
        "Input: root = [2,1], p = 2, q = 1\n",
        "Output: 2\n",
        " \n",
        "\n",
        "Constraints:\n",
        "\n",
        "The number of nodes in the tree is in the range [2, 105].\n",
        "-109 <= Node.val <= 109\n",
        "All Node.val are unique.\n",
        "p != q\n",
        "p and q will exist in the BST.\n"
      ]
    }
  ],
  "metadata": {
    "language_info": {
      "name": "python"
    }
  },
  "nbformat": 4,
  "nbformat_minor": 5
}
