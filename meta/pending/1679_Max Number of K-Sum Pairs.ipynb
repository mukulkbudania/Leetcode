{
 "cells": [
  {
   "cell_type": "markdown",
   "id": "dcf78d8f",
   "metadata": {},
   "source": [
    "# 1679. Max Number of K-Sum Pairs"
   ]
  },
  {
   "cell_type": "markdown",
   "id": "361a0834",
   "metadata": {},
   "source": [
    "You are given an integer array nums and an integer k.\n",
    "\n",
    "\n",
    "\n",
    "In one operation, you can pick two numbers from the array whose sum equals k and remove them from the array.\n",
    "\n",
    "\n",
    "\n",
    "Return the maximum number of operations you can perform on the array.\n",
    "\n",
    "\n",
    "\n",
    " \n",
    "\n",
    "\n",
    "\n",
    "**Example 1:**\n",
    "\n",
    "\n",
    "\n",
    "Input: nums = [1,2,3,4], k = 5\n",
    "\n",
    "Output: 2\n",
    "\n",
    "Explanation: Starting with nums = [1,2,3,4]:\n",
    "\n",
    "- Remove numbers 1 and 4, then nums = [2,3]\n",
    "\n",
    "- Remove numbers 2 and 3, then nums = []\n",
    "\n",
    "There are no more pairs that sum up to 5, hence a total of 2 operations.\n",
    "\n",
    "**Example 2:**\n",
    "\n",
    "\n",
    "\n",
    "Input: nums = [3,1,3,4,3], k = 6\n",
    "\n",
    "Output: 1\n",
    "\n",
    "Explanation: Starting with nums = [3,1,3,4,3]:\n",
    "\n",
    "- Remove the first two 3's, then nums = [1,4,3]\n",
    "\n",
    "There are no more pairs that sum up to 6, hence a total of 1 operation.\n",
    "\n",
    " \n",
    "\n",
    "\n",
    "\n",
    "**Constraints:**\n",
    "\n",
    "\n",
    "\n",
    "1 <= nums.length <= 105\n",
    "\n",
    "1 <= nums[i] <= 109\n",
    "\n",
    "1 <= k <= 109"
   ]
  }
 ],
 "metadata": {
  "language_info": {
   "name": "python"
  }
 },
 "nbformat": 4,
 "nbformat_minor": 5
}
