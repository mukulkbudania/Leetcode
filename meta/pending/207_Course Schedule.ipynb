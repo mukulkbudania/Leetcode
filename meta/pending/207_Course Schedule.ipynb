{
  "cells": [
    {
      "cell_type": "markdown",
      "id": "635ae5b1",
      "metadata": {},
      "source": [
        "There are a total of numCourses courses you have to take, labeled from 0 to numCourses - 1. You are given an array prerequisites where prerequisites[i] = [ai, bi] indicates that you must take course bi first if you want to take course ai.\n",
        "\n",
        "For example, the pair [0, 1], indicates that to take course 0 you have to first take course 1.\n",
        "Return true if you can finish all courses. Otherwise, return false.\n",
        "\n",
        " \n",
        "\n",
        "Example 1:\n",
        "\n",
        "Input: numCourses = 2, prerequisites = [[1,0]]\n",
        "Output: true\n",
        "Explanation: There are a total of 2 courses to take. \n",
        "To take course 1 you should have finished course 0. So it is possible.\n",
        "Example 2:\n",
        "\n",
        "Input: numCourses = 2, prerequisites = [[1,0],[0,1]]\n",
        "Output: false\n",
        "Explanation: There are a total of 2 courses to take. \n",
        "To take course 1 you should have finished course 0, and to take course 0 you should also have finished course 1. So it is impossible.\n",
        " \n",
        "\n",
        "Constraints:\n",
        "\n",
        "1 <= numCourses <= 2000\n",
        "0 <= prerequisites.length <= 5000\n",
        "prerequisites[i].length == 2\n",
        "0 <= ai, bi < numCourses\n",
        "All the pairs prerequisites[i] are unique."
      ]
    }
  ],
  "metadata": {
    "language_info": {
      "name": "python"
    }
  },
  "nbformat": 4,
  "nbformat_minor": 5
}
