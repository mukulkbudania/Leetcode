{
  "cells": [
    {
      "cell_type": "markdown",
      "id": "0507683a",
      "metadata": {},
      "source": [
        "Given an array of integers preorder, which represents the preorder traversal of a BST (i.e., binary search tree), construct the tree and return its root.\n",
        "\n",
        "It is guaranteed that there is always possible to find a binary search tree with the given requirements for the given test cases.\n",
        "\n",
        "A binary search tree is a binary tree where for every node, any descendant of Node.left has a value strictly less than Node.val, and any descendant of Node.right has a value strictly greater than Node.val.\n",
        "\n",
        "A preorder traversal of a binary tree displays the value of the node first, then traverses Node.left, then traverses Node.right.\n",
        "\n",
        " \n",
        "\n",
        "Example 1:\n",
        "\n",
        "\n",
        "Input: preorder = [8,5,1,7,10,12]\n",
        "Output: [8,5,10,1,7,null,12]\n",
        "Example 2:\n",
        "\n",
        "Input: preorder = [1,3]\n",
        "Output: [1,null,3]\n",
        " \n",
        "\n",
        "Constraints:\n",
        "\n",
        "1 <= preorder.length <= 100\n",
        "1 <= preorder[i] <= 1000\n",
        "All the values of preorder are unique.\n"
      ]
    }
  ],
  "metadata": {
    "language_info": {
      "name": "python"
    }
  },
  "nbformat": 4,
  "nbformat_minor": 5
}
