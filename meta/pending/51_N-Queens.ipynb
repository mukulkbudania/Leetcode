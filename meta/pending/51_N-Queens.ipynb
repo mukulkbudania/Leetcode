{
  "cells": [
    {
      "cell_type": "markdown",
      "id": "ae7bbac6",
      "metadata": {},
      "source": [
        "The n-queens puzzle is the problem of placing n queens on an n x n chessboard such that no two queens attack each other.\n",
        "\n",
        "Given an integer n, return all distinct solutions to the n-queens puzzle. You may return the answer in any order.\n",
        "\n",
        "Each solution contains a distinct board configuration of the n-queens' placement, where 'Q' and '.' both indicate a queen and an empty space, respectively.\n",
        "\n",
        " \n",
        "\n",
        "Example 1:\n",
        "\n",
        "\n",
        "Input: n = 4\n",
        "Output: [[\".Q..\",\"...Q\",\"Q...\",\"..Q.\"],[\"..Q.\",\"Q...\",\"...Q\",\".Q..\"]]\n",
        "Explanation: There exist two distinct solutions to the 4-queens puzzle as shown above\n",
        "Example 2:\n",
        "\n",
        "Input: n = 1\n",
        "Output: [[\"Q\"]]\n",
        " \n",
        "\n",
        "Constraints:\n",
        "\n",
        "1 <= n <= 9"
      ]
    }
  ],
  "metadata": {
    "language_info": {
      "name": "python"
    }
  },
  "nbformat": 4,
  "nbformat_minor": 5
}
