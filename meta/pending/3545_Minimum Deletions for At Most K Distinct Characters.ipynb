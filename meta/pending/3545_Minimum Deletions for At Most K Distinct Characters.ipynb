{
  "cells": [
    {
      "cell_type": "markdown",
      "id": "aa656091",
      "metadata": {},
      "source": [
        "You are given a string s consisting of lowercase English letters, and an integer k.\n",
        "\n",
        "Your task is to delete some (possibly none) of the characters in the string so that the number of distinct characters in the resulting string is at most k.\n",
        "\n",
        "Return the minimum number of deletions required to achieve this.\n",
        "\n",
        " \n",
        "\n",
        "Example 1:\n",
        "\n",
        "Input: s = \"abc\", k = 2\n",
        "\n",
        "Output: 1\n",
        "\n",
        "Explanation:\n",
        "\n",
        "s has three distinct characters: 'a', 'b' and 'c', each with a frequency of 1.\n",
        "Since we can have at most k = 2 distinct characters, remove all occurrences of any one character from the string.\n",
        "For example, removing all occurrences of 'c' results in at most k distinct characters. Thus, the answer is 1.\n",
        "Example 2:\n",
        "\n",
        "Input: s = \"aabb\", k = 2\n",
        "\n",
        "Output: 0\n",
        "\n",
        "Explanation:\n",
        "\n",
        "s has two distinct characters ('a' and 'b') with frequencies of 2 and 2, respectively.\n",
        "Since we can have at most k = 2 distinct characters, no deletions are required. Thus, the answer is 0.\n",
        "Example 3:\n",
        "\n",
        "Input: s = \"yyyzz\", k = 1\n",
        "\n",
        "Output: 2\n",
        "\n",
        "Explanation:\n",
        "\n",
        "s has two distinct characters ('y' and 'z') with frequencies of 3 and 2, respectively.\n",
        "Since we can have at most k = 1 distinct character, remove all occurrences of any one character from the string.\n",
        "Removing all 'z' results in at most k distinct characters. Thus, the answer is 2.\n",
        " \n",
        "\n",
        "Constraints:\n",
        "\n",
        "1 <= s.length <= 16\n",
        "1 <= k <= 16\n",
        "s consists only of lowercase English letters."
      ]
    }
  ],
  "metadata": {
    "language_info": {
      "name": "python"
    }
  },
  "nbformat": 4,
  "nbformat_minor": 5
}
