{
 "cells": [
  {
   "cell_type": "markdown",
   "id": "f40f488c",
   "metadata": {},
   "source": [
    "# 398. Random Pick Index"
   ]
  },
  {
   "cell_type": "markdown",
   "id": "d4b32d14",
   "metadata": {},
   "source": [
    "Given an integer array nums with possible duplicates, randomly output the index of a given target number. You can assume that the given target number must exist in the array.\n",
    "\n",
    "\n",
    "\n",
    "Implement the Solution class:\n",
    "\n",
    "\n",
    "\n",
    "Solution(int[] nums) Initializes the object with the array nums.\n",
    "\n",
    "int pick(int target) Picks a random index i from nums where nums[i] == target. If there are multiple valid i's, then each index should have an equal probability of returning.\n",
    "\n",
    " \n",
    "\n",
    "\n",
    "\n",
    "**Example 1:**\n",
    "\n",
    "\n",
    "\n",
    "Input\n",
    "\n",
    "[\"Solution\", \"pick\", \"pick\", \"pick\"]\n",
    "\n",
    "[[[1, 2, 3, 3, 3]], [3], [1], [3]]\n",
    "\n",
    "Output\n",
    "\n",
    "[null, 4, 0, 2]\n",
    "\n",
    "\n",
    "\n",
    "Explanation\n",
    "\n",
    "Solution solution = new Solution([1, 2, 3, 3, 3]);\n",
    "\n",
    "solution.pick(3); // It should return either index 2, 3, or 4 randomly. Each index should have equal probability of returning.\n",
    "\n",
    "solution.pick(1); // It should return 0. Since in the array only nums[0] is equal to 1.\n",
    "\n",
    "solution.pick(3); // It should return either index 2, 3, or 4 randomly. Each index should have equal probability of returning.\n",
    "\n",
    " \n",
    "\n",
    "\n",
    "\n",
    "**Constraints:**\n",
    "\n",
    "\n",
    "\n",
    "1 <= nums.length <= 2 * 104\n",
    "\n",
    "-231 <= nums[i] <= 231 - 1\n",
    "\n",
    "target is an integer from nums.\n",
    "\n",
    "At most 104 calls will be made to pick."
   ]
  }
 ],
 "metadata": {
  "language_info": {
   "name": "python"
  }
 },
 "nbformat": 4,
 "nbformat_minor": 5
}
