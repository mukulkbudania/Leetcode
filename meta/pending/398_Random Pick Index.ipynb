{
  "cells": [
    {
      "cell_type": "markdown",
      "id": "d4b32d14",
      "metadata": {},
      "source": [
        "Given an integer array nums with possible duplicates, randomly output the index of a given target number. You can assume that the given target number must exist in the array.\n",
        "\n",
        "Implement the Solution class:\n",
        "\n",
        "Solution(int[] nums) Initializes the object with the array nums.\n",
        "int pick(int target) Picks a random index i from nums where nums[i] == target. If there are multiple valid i's, then each index should have an equal probability of returning.\n",
        " \n",
        "\n",
        "Example 1:\n",
        "\n",
        "Input\n",
        "[\"Solution\", \"pick\", \"pick\", \"pick\"]\n",
        "[[[1, 2, 3, 3, 3]], [3], [1], [3]]\n",
        "Output\n",
        "[null, 4, 0, 2]\n",
        "\n",
        "Explanation\n",
        "Solution solution = new Solution([1, 2, 3, 3, 3]);\n",
        "solution.pick(3); // It should return either index 2, 3, or 4 randomly. Each index should have equal probability of returning.\n",
        "solution.pick(1); // It should return 0. Since in the array only nums[0] is equal to 1.\n",
        "solution.pick(3); // It should return either index 2, 3, or 4 randomly. Each index should have equal probability of returning.\n",
        " \n",
        "\n",
        "Constraints:\n",
        "\n",
        "1 <= nums.length <= 2 * 104\n",
        "-231 <= nums[i] <= 231 - 1\n",
        "target is an integer from nums.\n",
        "At most 104 calls will be made to pick."
      ]
    }
  ],
  "metadata": {
    "language_info": {
      "name": "python"
    }
  },
  "nbformat": 4,
  "nbformat_minor": 5
}
