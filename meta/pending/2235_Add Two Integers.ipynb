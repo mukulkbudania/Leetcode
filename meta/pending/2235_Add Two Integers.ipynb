{
 "cells": [
  {
   "cell_type": "markdown",
   "id": "2d5d92ff",
   "metadata": {},
   "source": [
    "# 2235. Add Two Integers"
   ]
  },
  {
   "cell_type": "markdown",
   "id": "8b97c36c",
   "metadata": {},
   "source": [
    "Given two integers num1 and num2, return the sum of the two integers.\n",
    "\n",
    " \n",
    "\n",
    "\n",
    "\n",
    "**Example 1:**\n",
    "\n",
    "\n",
    "\n",
    "Input: num1 = 12, num2 = 5\n",
    "\n",
    "Output: 17\n",
    "\n",
    "Explanation: num1 is 12, num2 is 5, and their sum is 12 + 5 = 17, so 17 is returned.\n",
    "\n",
    "**Example 2:**\n",
    "\n",
    "\n",
    "\n",
    "Input: num1 = -10, num2 = 4\n",
    "\n",
    "Output: -6\n",
    "\n",
    "Explanation: num1 + num2 = -6, so -6 is returned.\n",
    "\n",
    " \n",
    "\n",
    "\n",
    "\n",
    "**Constraints:**\n",
    "\n",
    "\n",
    "\n",
    "-100 <= num1, num2 <= 100"
   ]
  }
 ],
 "metadata": {
  "language_info": {
   "name": "python"
  }
 },
 "nbformat": 4,
 "nbformat_minor": 5
}
