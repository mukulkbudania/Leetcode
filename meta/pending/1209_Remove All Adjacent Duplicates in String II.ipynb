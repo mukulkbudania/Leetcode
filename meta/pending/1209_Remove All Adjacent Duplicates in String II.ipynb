{
  "cells": [
    {
      "cell_type": "markdown",
      "id": "db3339f6",
      "metadata": {},
      "source": [
        "You are given a string s and an integer k, a k duplicate removal consists of choosing k adjacent and equal letters from s and removing them, causing the left and the right side of the deleted substring to concatenate together.\n",
        "\n",
        "We repeatedly make k duplicate removals on s until we no longer can.\n",
        "\n",
        "Return the final string after all such duplicate removals have been made. It is guaranteed that the answer is unique.\n",
        "\n",
        " \n",
        "\n",
        "Example 1:\n",
        "\n",
        "Input: s = \"abcd\", k = 2\n",
        "Output: \"abcd\"\n",
        "Explanation: There's nothing to delete.\n",
        "Example 2:\n",
        "\n",
        "Input: s = \"deeedbbcccbdaa\", k = 3\n",
        "Output: \"aa\"\n",
        "Explanation: \n",
        "First delete \"eee\" and \"ccc\", get \"ddbbbdaa\"\n",
        "Then delete \"bbb\", get \"dddaa\"\n",
        "Finally delete \"ddd\", get \"aa\"\n",
        "Example 3:\n",
        "\n",
        "Input: s = \"pbbcggttciiippooaais\", k = 2\n",
        "Output: \"ps\"\n",
        " \n",
        "\n",
        "Constraints:\n",
        "\n",
        "1 <= s.length <= 105\n",
        "2 <= k <= 104\n",
        "s only contains lowercase English letters."
      ]
    }
  ],
  "metadata": {
    "language_info": {
      "name": "python"
    }
  },
  "nbformat": 4,
  "nbformat_minor": 5
}
