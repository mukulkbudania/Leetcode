{
 "cells": [
  {
   "cell_type": "markdown",
   "id": "c5687ca8",
   "metadata": {},
   "source": [
    "# 1209. Remove All Adjacent Duplicates in String II"
   ]
  },
  {
   "cell_type": "markdown",
   "id": "db3339f6",
   "metadata": {},
   "source": [
    "You are given a string s and an integer k, a k duplicate removal consists of choosing k adjacent and equal letters from s and removing them, causing the left and the right side of the deleted substring to concatenate together.\n",
    "\n",
    "\n",
    "\n",
    "We repeatedly make k duplicate removals on s until we no longer can.\n",
    "\n",
    "\n",
    "\n",
    "Return the final string after all such duplicate removals have been made. It is guaranteed that the answer is unique.\n",
    "\n",
    "\n",
    "\n",
    " \n",
    "\n",
    "\n",
    "\n",
    "**Example 1:**\n",
    "\n",
    "\n",
    "\n",
    "Input: s = \"abcd\", k = 2\n",
    "\n",
    "Output: \"abcd\"\n",
    "\n",
    "Explanation: There's nothing to delete.\n",
    "\n",
    "**Example 2:**\n",
    "\n",
    "\n",
    "\n",
    "Input: s = \"deeedbbcccbdaa\", k = 3\n",
    "\n",
    "Output: \"aa\"\n",
    "\n",
    "Explanation: \n",
    "\n",
    "First delete \"eee\" and \"ccc\", get \"ddbbbdaa\"\n",
    "\n",
    "Then delete \"bbb\", get \"dddaa\"\n",
    "\n",
    "Finally delete \"ddd\", get \"aa\"\n",
    "\n",
    "**Example 3:**\n",
    "\n",
    "\n",
    "\n",
    "Input: s = \"pbbcggttciiippooaais\", k = 2\n",
    "\n",
    "Output: \"ps\"\n",
    "\n",
    " \n",
    "\n",
    "\n",
    "\n",
    "**Constraints:**\n",
    "\n",
    "\n",
    "\n",
    "1 <= s.length <= 105\n",
    "\n",
    "2 <= k <= 104\n",
    "\n",
    "s only contains lowercase English letters."
   ]
  }
 ],
 "metadata": {
  "language_info": {
   "name": "python"
  }
 },
 "nbformat": 4,
 "nbformat_minor": 5
}
