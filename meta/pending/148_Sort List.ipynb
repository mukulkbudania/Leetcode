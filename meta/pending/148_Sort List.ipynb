{
 "cells": [
  {
   "cell_type": "markdown",
   "id": "de03e9b1",
   "metadata": {},
   "source": [
    "# 148. Sort List"
   ]
  },
  {
   "cell_type": "markdown",
   "id": "5e4ea9d7",
   "metadata": {},
   "source": [
    "Given the head of a linked list, return the list after sorting it in ascending order.\n",
    "\n",
    "\n",
    "\n",
    " \n",
    "\n",
    "\n",
    "\n",
    "**Example 1:**\n",
    "\n",
    "\n",
    "\n",
    "\n",
    "\n",
    "Input: head = [4,2,1,3]\n",
    "\n",
    "Output: [1,2,3,4]\n",
    "\n",
    "**Example 2:**\n",
    "\n",
    "\n",
    "\n",
    "\n",
    "\n",
    "Input: head = [-1,5,3,4,0]\n",
    "\n",
    "Output: [-1,0,3,4,5]\n",
    "\n",
    "**Example 3:**\n",
    "\n",
    "\n",
    "\n",
    "Input: head = []\n",
    "\n",
    "Output: []\n",
    "\n",
    " \n",
    "\n",
    "\n",
    "\n",
    "**Constraints:**\n",
    "\n",
    "\n",
    "\n",
    "The number of nodes in the list is in the range [0, 5 * 104].\n",
    "\n",
    "-105 <= Node.val <= 105\n",
    "\n",
    " \n",
    "\n",
    "\n",
    "\n",
    "Follow up: Can you sort the linked list in O(n logn) time and O(1) memory (i.e. constant space)?"
   ]
  }
 ],
 "metadata": {
  "language_info": {
   "name": "python"
  }
 },
 "nbformat": 4,
 "nbformat_minor": 5
}
