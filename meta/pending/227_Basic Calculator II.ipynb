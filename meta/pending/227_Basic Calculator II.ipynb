{
 "cells": [
  {
   "cell_type": "markdown",
   "id": "8f141a41",
   "metadata": {},
   "source": [
    "# 227. Basic Calculator II"
   ]
  },
  {
   "cell_type": "markdown",
   "id": "08587866",
   "metadata": {},
   "source": [
    "Given a string s which represents an expression, evaluate this expression and return its value. \n",
    "\n",
    "\n",
    "\n",
    "The integer division should truncate toward zero.\n",
    "\n",
    "\n",
    "\n",
    "You may assume that the given expression is always valid. All intermediate results will be in the range of [-231, 231 - 1].\n",
    "\n",
    "\n",
    "\n",
    "Note: You are not allowed to use any built-in function which evaluates strings as mathematical expressions, such as eval().\n",
    "\n",
    "\n",
    "\n",
    " \n",
    "\n",
    "\n",
    "\n",
    "**Example 1:**\n",
    "\n",
    "\n",
    "\n",
    "Input: s = \"3+2*2\"\n",
    "\n",
    "Output: 7\n",
    "\n",
    "**Example 2:**\n",
    "\n",
    "\n",
    "\n",
    "Input: s = \" 3/2 \"\n",
    "\n",
    "Output: 1\n",
    "\n",
    "**Example 3:**\n",
    "\n",
    "\n",
    "\n",
    "Input: s = \" 3+5 / 2 \"\n",
    "\n",
    "Output: 5\n",
    "\n",
    " \n",
    "\n",
    "\n",
    "\n",
    "**Constraints:**\n",
    "\n",
    "\n",
    "\n",
    "1 <= s.length <= 3 * 105\n",
    "\n",
    "s consists of integers and operators ('+', '-', '*', '/') separated by some number of spaces.\n",
    "\n",
    "s represents a valid expression.\n",
    "\n",
    "All the integers in the expression are non-negative integers in the range [0, 231 - 1].\n",
    "\n",
    "The answer is guaranteed to fit in a 32-bit integer."
   ]
  }
 ],
 "metadata": {
  "language_info": {
   "name": "python"
  }
 },
 "nbformat": 4,
 "nbformat_minor": 5
}
