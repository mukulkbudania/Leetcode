{
  "cells": [
    {
      "cell_type": "markdown",
      "id": "c7935b87",
      "metadata": {},
      "source": [
        "You are given an integer array digits, where each element is a digit. The array may contain duplicates.\n",
        "\n",
        "You need to find all the unique integers that follow the given requirements:\n",
        "\n",
        "The integer consists of the concatenation of three elements from digits in any arbitrary order.\n",
        "The integer does not have leading zeros.\n",
        "The integer is even.\n",
        "For example, if the given digits were [1, 2, 3], integers 132 and 312 follow the requirements.\n",
        "\n",
        "Return a sorted array of the unique integers.\n",
        "\n",
        " \n",
        "\n",
        "Example 1:\n",
        "\n",
        "Input: digits = [2,1,3,0]\n",
        "Output: [102,120,130,132,210,230,302,310,312,320]\n",
        "Explanation: All the possible integers that follow the requirements are in the output array. \n",
        "Notice that there are no odd integers or integers with leading zeros.\n",
        "Example 2:\n",
        "\n",
        "Input: digits = [2,2,8,8,2]\n",
        "Output: [222,228,282,288,822,828,882]\n",
        "Explanation: The same digit can be used as many times as it appears in digits. \n",
        "In this example, the digit 8 is used twice each time in 288, 828, and 882. \n",
        "Example 3:\n",
        "\n",
        "Input: digits = [3,7,5]\n",
        "Output: []\n",
        "Explanation: No even integers can be formed using the given digits.\n",
        " \n",
        "\n",
        "Constraints:\n",
        "\n",
        "3 <= digits.length <= 100\n",
        "0 <= digits[i] <= 9"
      ]
    }
  ],
  "metadata": {
    "language_info": {
      "name": "python"
    }
  },
  "nbformat": 4,
  "nbformat_minor": 5
}
