{
 "cells": [
  {
   "cell_type": "markdown",
   "id": "3777cc16",
   "metadata": {},
   "source": [
    "# 402. Remove K Digits"
   ]
  },
  {
   "cell_type": "markdown",
   "id": "612b5c9d",
   "metadata": {},
   "source": [
    "Given string num representing a non-negative integer num, and an integer k, return the smallest possible integer after removing k digits from num.\n",
    "\n",
    "\n",
    "\n",
    " \n",
    "\n",
    "\n",
    "\n",
    "**Example 1:**\n",
    "\n",
    "\n",
    "\n",
    "Input: num = \"1432219\", k = 3\n",
    "\n",
    "Output: \"1219\"\n",
    "\n",
    "Explanation: Remove the three digits 4, 3, and 2 to form the new number 1219 which is the smallest.\n",
    "\n",
    "**Example 2:**\n",
    "\n",
    "\n",
    "\n",
    "Input: num = \"10200\", k = 1\n",
    "\n",
    "Output: \"200\"\n",
    "\n",
    "Explanation: Remove the leading 1 and the number is 200. Note that the output must not contain leading zeroes.\n",
    "\n",
    "**Example 3:**\n",
    "\n",
    "\n",
    "\n",
    "Input: num = \"10\", k = 2\n",
    "\n",
    "Output: \"0\"\n",
    "\n",
    "Explanation: Remove all the digits from the number and it is left with nothing which is 0.\n",
    "\n",
    " \n",
    "\n",
    "\n",
    "\n",
    "**Constraints:**\n",
    "\n",
    "\n",
    "\n",
    "1 <= k <= num.length <= 105\n",
    "\n",
    "num consists of only digits.\n",
    "\n",
    "num does not have any leading zeros except for the zero itself."
   ]
  }
 ],
 "metadata": {
  "language_info": {
   "name": "python"
  }
 },
 "nbformat": 4,
 "nbformat_minor": 5
}
