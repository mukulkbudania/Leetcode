{
 "cells": [
  {
   "cell_type": "markdown",
   "id": "b99a0a1f",
   "metadata": {},
   "source": [
    "# 102. Binary Tree Level Order Traversal"
   ]
  },
  {
   "cell_type": "markdown",
   "id": "e00785ae",
   "metadata": {},
   "source": [
    "Given the root of a binary tree, return the level order traversal of its nodes' values. (i.e., from left to right, level by level).\n",
    "\n",
    "\n",
    "\n",
    " \n",
    "\n",
    "\n",
    "\n",
    "**Example 1:**\n",
    "\n",
    "\n",
    "\n",
    "\n",
    "\n",
    "Input: root = [3,9,20,null,null,15,7]\n",
    "\n",
    "Output: [[3],[9,20],[15,7]]\n",
    "\n",
    "**Example 2:**\n",
    "\n",
    "\n",
    "\n",
    "Input: root = [1]\n",
    "\n",
    "Output: [[1]]\n",
    "\n",
    "**Example 3:**\n",
    "\n",
    "\n",
    "\n",
    "Input: root = []\n",
    "\n",
    "Output: []\n",
    "\n",
    " \n",
    "\n",
    "\n",
    "\n",
    "**Constraints:**\n",
    "\n",
    "\n",
    "\n",
    "The number of nodes in the tree is in the range [0, 2000].\n",
    "\n",
    "-1000 <= Node.val <= 1000\n",
    "\n"
   ]
  }
 ],
 "metadata": {
  "language_info": {
   "name": "python"
  }
 },
 "nbformat": 4,
 "nbformat_minor": 5
}
