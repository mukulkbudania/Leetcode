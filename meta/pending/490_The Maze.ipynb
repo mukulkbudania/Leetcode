{
  "cells": [
    {
      "cell_type": "markdown",
      "id": "62890e97",
      "metadata": {},
      "source": [
        "There is a ball in a maze with empty spaces (represented as 0) and walls (represented as 1). The ball can go through the empty spaces by rolling up, down, left or right, but it won't stop rolling until hitting a wall. When the ball stops, it could choose the next direction.\n",
        "\n",
        "Given the m x n maze, the ball's start position and the destination, where start = [startrow, startcol] and destination = [destinationrow, destinationcol], return true if the ball can stop at the destination, otherwise return false.\n",
        "\n",
        "You may assume that the borders of the maze are all walls (see examples).\n",
        "\n",
        " \n",
        "\n",
        "Example 1:\n",
        "\n",
        "\n",
        "Input: maze = [[0,0,1,0,0],[0,0,0,0,0],[0,0,0,1,0],[1,1,0,1,1],[0,0,0,0,0]], start = [0,4], destination = [4,4]\n",
        "Output: true\n",
        "Explanation: One possible way is : left -> down -> left -> down -> right -> down -> right.\n",
        "Example 2:\n",
        "\n",
        "\n",
        "Input: maze = [[0,0,1,0,0],[0,0,0,0,0],[0,0,0,1,0],[1,1,0,1,1],[0,0,0,0,0]], start = [0,4], destination = [3,2]\n",
        "Output: false\n",
        "Explanation: There is no way for the ball to stop at the destination. Notice that you can pass through the destination but you cannot stop there.\n",
        "Example 3:\n",
        "\n",
        "Input: maze = [[0,0,0,0,0],[1,1,0,0,1],[0,0,0,0,0],[0,1,0,0,1],[0,1,0,0,0]], start = [4,3], destination = [0,1]\n",
        "Output: false\n",
        " \n",
        "\n",
        "Constraints:\n",
        "\n",
        "m == maze.length\n",
        "n == maze[i].length\n",
        "1 <= m, n <= 100\n",
        "maze[i][j] is 0 or 1.\n",
        "start.length == 2\n",
        "destination.length == 2\n",
        "0 <= startrow, destinationrow < m\n",
        "0 <= startcol, destinationcol < n\n",
        "Both the ball and the destination exist in an empty space, and they will not be in the same position initially.\n",
        "The maze contains at least 2 empty spaces.\n"
      ]
    }
  ],
  "metadata": {
    "language_info": {
      "name": "python"
    }
  },
  "nbformat": 4,
  "nbformat_minor": 5
}
