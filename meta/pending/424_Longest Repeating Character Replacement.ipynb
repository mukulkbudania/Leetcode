{
  "cells": [
    {
      "cell_type": "markdown",
      "id": "f6a09990",
      "metadata": {},
      "source": [
        "You are given a string s and an integer k. You can choose any character of the string and change it to any other uppercase English character. You can perform this operation at most k times.\n",
        "\n",
        "Return the length of the longest substring containing the same letter you can get after performing the above operations.\n",
        "\n",
        " \n",
        "\n",
        "Example 1:\n",
        "\n",
        "Input: s = \"ABAB\", k = 2\n",
        "Output: 4\n",
        "Explanation: Replace the two 'A's with two 'B's or vice versa.\n",
        "Example 2:\n",
        "\n",
        "Input: s = \"AABABBA\", k = 1\n",
        "Output: 4\n",
        "Explanation: Replace the one 'A' in the middle with 'B' and form \"AABBBBA\".\n",
        "The substring \"BBBB\" has the longest repeating letters, which is 4.\n",
        "There may exists other ways to achieve this answer too.\n",
        " \n",
        "\n",
        "Constraints:\n",
        "\n",
        "1 <= s.length <= 105\n",
        "s consists of only uppercase English letters.\n",
        "0 <= k <= s.length"
      ]
    }
  ],
  "metadata": {
    "language_info": {
      "name": "python"
    }
  },
  "nbformat": 4,
  "nbformat_minor": 5
}
