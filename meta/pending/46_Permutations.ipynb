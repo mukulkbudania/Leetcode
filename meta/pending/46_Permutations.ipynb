{
  "cells": [
    {
      "cell_type": "markdown",
      "id": "9d2b7b88",
      "metadata": {},
      "source": [
        "Given an array nums of distinct integers, return all the possible permutations. You can return the answer in any order.\n",
        "\n",
        " \n",
        "\n",
        "Example 1:\n",
        "\n",
        "Input: nums = [1,2,3]\n",
        "Output: [[1,2,3],[1,3,2],[2,1,3],[2,3,1],[3,1,2],[3,2,1]]\n",
        "Example 2:\n",
        "\n",
        "Input: nums = [0,1]\n",
        "Output: [[0,1],[1,0]]\n",
        "Example 3:\n",
        "\n",
        "Input: nums = [1]\n",
        "Output: [[1]]\n",
        " \n",
        "\n",
        "Constraints:\n",
        "\n",
        "1 <= nums.length <= 6\n",
        "-10 <= nums[i] <= 10\n",
        "All the integers of nums are unique."
      ]
    }
  ],
  "metadata": {
    "language_info": {
      "name": "python"
    }
  },
  "nbformat": 4,
  "nbformat_minor": 5
}
