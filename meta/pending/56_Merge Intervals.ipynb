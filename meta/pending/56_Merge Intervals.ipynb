{
  "cells": [
    {
      "cell_type": "markdown",
      "id": "64dd6d03",
      "metadata": {},
      "source": [
        "Given an array of intervals where intervals[i] = [starti, endi], merge all overlapping intervals, and return an array of the non-overlapping intervals that cover all the intervals in the input.\n",
        "\n",
        " \n",
        "\n",
        "Example 1:\n",
        "\n",
        "Input: intervals = [[1,3],[2,6],[8,10],[15,18]]\n",
        "Output: [[1,6],[8,10],[15,18]]\n",
        "Explanation: Since intervals [1,3] and [2,6] overlap, merge them into [1,6].\n",
        "Example 2:\n",
        "\n",
        "Input: intervals = [[1,4],[4,5]]\n",
        "Output: [[1,5]]\n",
        "Explanation: Intervals [1,4] and [4,5] are considered overlapping.\n",
        " \n",
        "\n",
        "Constraints:\n",
        "\n",
        "1 <= intervals.length <= 104\n",
        "intervals[i].length == 2\n",
        "0 <= starti <= endi <= 104\n"
      ]
    }
  ],
  "metadata": {
    "language_info": {
      "name": "python"
    }
  },
  "nbformat": 4,
  "nbformat_minor": 5
}
