{
  "cells": [
    {
      "cell_type": "markdown",
      "id": "825d50fb",
      "metadata": {},
      "source": [
        "There are several cards arranged in a row, and each card has an associated number of points. The points are given in the integer array cardPoints.\n",
        "\n",
        "In one step, you can take one card from the beginning or from the end of the row. You have to take exactly k cards.\n",
        "\n",
        "Your score is the sum of the points of the cards you have taken.\n",
        "\n",
        "Given the integer array cardPoints and the integer k, return the maximum score you can obtain.\n",
        "\n",
        " \n",
        "\n",
        "Example 1:\n",
        "\n",
        "Input: cardPoints = [1,2,3,4,5,6,1], k = 3\n",
        "Output: 12\n",
        "Explanation: After the first step, your score will always be 1. However, choosing the rightmost card first will maximize your total score. The optimal strategy is to take the three cards on the right, giving a final score of 1 + 6 + 5 = 12.\n",
        "Example 2:\n",
        "\n",
        "Input: cardPoints = [2,2,2], k = 2\n",
        "Output: 4\n",
        "Explanation: Regardless of which two cards you take, your score will always be 4.\n",
        "Example 3:\n",
        "\n",
        "Input: cardPoints = [9,7,7,9,7,7,9], k = 7\n",
        "Output: 55\n",
        "Explanation: You have to take all the cards. Your score is the sum of points of all cards.\n",
        " \n",
        "\n",
        "Constraints:\n",
        "\n",
        "1 <= cardPoints.length <= 105\n",
        "1 <= cardPoints[i] <= 104\n",
        "1 <= k <= cardPoints.length"
      ]
    }
  ],
  "metadata": {
    "language_info": {
      "name": "python"
    }
  },
  "nbformat": 4,
  "nbformat_minor": 5
}
