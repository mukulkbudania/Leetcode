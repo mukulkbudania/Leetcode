{
 "cells": [
  {
   "cell_type": "markdown",
   "id": "1cfe74dc",
   "metadata": {},
   "source": [
    "# 1361. Validate Binary Tree Nodes"
   ]
  },
  {
   "cell_type": "markdown",
   "id": "e25d9b55",
   "metadata": {},
   "source": [
    "You have n binary tree nodes numbered from 0 to n - 1 where node i has two children leftChild[i] and rightChild[i], return true if and only if all the given nodes form exactly one valid binary tree.\n",
    "\n",
    "\n",
    "\n",
    "If node i has no left child then leftChild[i] will equal -1, similarly for the right child.\n",
    "\n",
    "\n",
    "\n",
    "Note that the nodes have no values and that we only use the node numbers in this problem.\n",
    "\n",
    "\n",
    "\n",
    " \n",
    "\n",
    "\n",
    "\n",
    "**Example 1:**\n",
    "\n",
    "\n",
    "\n",
    "\n",
    "\n",
    "Input: n = 4, leftChild = [1,-1,3,-1], rightChild = [2,-1,-1,-1]\n",
    "\n",
    "Output: true\n",
    "\n",
    "**Example 2:**\n",
    "\n",
    "\n",
    "\n",
    "\n",
    "\n",
    "Input: n = 4, leftChild = [1,-1,3,-1], rightChild = [2,3,-1,-1]\n",
    "\n",
    "Output: false\n",
    "\n",
    "**Example 3:**\n",
    "\n",
    "\n",
    "\n",
    "\n",
    "\n",
    "Input: n = 2, leftChild = [1,0], rightChild = [-1,-1]\n",
    "\n",
    "Output: false\n",
    "\n",
    " \n",
    "\n",
    "\n",
    "\n",
    "**Constraints:**\n",
    "\n",
    "\n",
    "\n",
    "n == leftChild.length == rightChild.length\n",
    "\n",
    "1 <= n <= 104\n",
    "\n",
    "-1 <= leftChild[i], rightChild[i] <= n - 1"
   ]
  }
 ],
 "metadata": {
  "language_info": {
   "name": "python"
  }
 },
 "nbformat": 4,
 "nbformat_minor": 5
}
