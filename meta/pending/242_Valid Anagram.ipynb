{
  "cells": [
    {
      "cell_type": "markdown",
      "id": "757f2f29",
      "metadata": {},
      "source": [
        "Given two strings s and t, return true if t is an anagram of s, and false otherwise.\n",
        "\n",
        " \n",
        "\n",
        "Example 1:\n",
        "\n",
        "Input: s = \"anagram\", t = \"nagaram\"\n",
        "\n",
        "Output: true\n",
        "\n",
        "Example 2:\n",
        "\n",
        "Input: s = \"rat\", t = \"car\"\n",
        "\n",
        "Output: false\n",
        "\n",
        " \n",
        "\n",
        "Constraints:\n",
        "\n",
        "1 <= s.length, t.length <= 5 * 104\n",
        "s and t consist of lowercase English letters.\n",
        " \n",
        "\n",
        "Follow up: What if the inputs contain Unicode characters? How would you adapt your solution to such a case?"
      ]
    }
  ],
  "metadata": {
    "language_info": {
      "name": "python"
    }
  },
  "nbformat": 4,
  "nbformat_minor": 5
}
