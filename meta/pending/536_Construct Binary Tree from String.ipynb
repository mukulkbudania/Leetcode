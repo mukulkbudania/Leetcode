{
  "cells": [
    {
      "cell_type": "markdown",
      "id": "6f17f050",
      "metadata": {},
      "source": [
        "ou need to construct a binary tree from a string consisting of parenthesis and integers.\n",
        "\n",
        "The whole input represents a binary tree. It contains an integer followed by zero, one or two pairs of parenthesis. The integer represents the root's value and a pair of parenthesis contains a child binary tree with the same structure.\n",
        "\n",
        "You always start to construct the left child node of the parent first if it exists.\n",
        "\n",
        " \n",
        "\n",
        "Example 1:\n",
        "\n",
        "\n",
        "Input: s = \"4(2(3)(1))(6(5))\"\n",
        "Output: [4,2,6,3,1,5]\n",
        "Example 2:\n",
        "\n",
        "Input: s = \"4(2(3)(1))(6(5)(7))\"\n",
        "Output: [4,2,6,3,1,5,7]\n",
        "Example 3:\n",
        "\n",
        "Input: s = \"-4(2(3)(1))(6(5)(7))\"\n",
        "Output: [-4,2,6,3,1,5,7]\n",
        " \n",
        "\n",
        "Constraints:\n",
        "\n",
        "0 <= s.length <= 3 * 104\n",
        "s consists of digits, '(', ')', and '-' only.\n",
        "All numbers in the tree have value at most than 230."
      ]
    }
  ],
  "metadata": {
    "language_info": {
      "name": "python"
    }
  },
  "nbformat": 4,
  "nbformat_minor": 5
}
