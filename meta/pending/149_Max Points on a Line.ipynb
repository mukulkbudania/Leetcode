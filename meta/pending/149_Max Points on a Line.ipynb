{
  "cells": [
    {
      "cell_type": "markdown",
      "id": "daa9b787",
      "metadata": {},
      "source": [
        "Given an array of points where points[i] = [xi, yi] represents a point on the X-Y plane, return the maximum number of points that lie on the same straight line.\n",
        "\n",
        " \n",
        "\n",
        "Example 1:\n",
        "\n",
        "\n",
        "Input: points = [[1,1],[2,2],[3,3]]\n",
        "Output: 3\n",
        "Example 2:\n",
        "\n",
        "\n",
        "Input: points = [[1,1],[3,2],[5,3],[4,1],[2,3],[1,4]]\n",
        "Output: 4\n",
        " \n",
        "\n",
        "Constraints:\n",
        "\n",
        "1 <= points.length <= 300\n",
        "points[i].length == 2\n",
        "-104 <= xi, yi <= 104\n",
        "All the points are unique."
      ]
    }
  ],
  "metadata": {
    "language_info": {
      "name": "python"
    }
  },
  "nbformat": 4,
  "nbformat_minor": 5
}
