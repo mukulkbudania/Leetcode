{
 "cells": [
  {
   "cell_type": "markdown",
   "id": "c23692c7",
   "metadata": {},
   "source": [
    "# 149. Max Points on a Line"
   ]
  },
  {
   "cell_type": "markdown",
   "id": "daa9b787",
   "metadata": {},
   "source": [
    "Given an array of points where points[i] = [xi, yi] represents a point on the X-Y plane, return the maximum number of points that lie on the same straight line.\n",
    "\n",
    "\n",
    "\n",
    " \n",
    "\n",
    "\n",
    "\n",
    "**Example 1:**\n",
    "\n",
    "\n",
    "\n",
    "\n",
    "\n",
    "Input: points = [[1,1],[2,2],[3,3]]\n",
    "\n",
    "Output: 3\n",
    "\n",
    "**Example 2:**\n",
    "\n",
    "\n",
    "\n",
    "\n",
    "\n",
    "Input: points = [[1,1],[3,2],[5,3],[4,1],[2,3],[1,4]]\n",
    "\n",
    "Output: 4\n",
    "\n",
    " \n",
    "\n",
    "\n",
    "\n",
    "**Constraints:**\n",
    "\n",
    "\n",
    "\n",
    "1 <= points.length <= 300\n",
    "\n",
    "points[i].length == 2\n",
    "\n",
    "-104 <= xi, yi <= 104\n",
    "\n",
    "All the points are unique."
   ]
  }
 ],
 "metadata": {
  "language_info": {
   "name": "python"
  }
 },
 "nbformat": 4,
 "nbformat_minor": 5
}
