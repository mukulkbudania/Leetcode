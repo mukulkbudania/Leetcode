{
 "cells": [
  {
   "cell_type": "markdown",
   "id": "2cc4e672",
   "metadata": {},
   "source": [
    "# 249. Group Shifted Strings"
   ]
  },
  {
   "cell_type": "markdown",
   "id": "4f60e337",
   "metadata": {},
   "source": [
    "Perform the following shift operations on a string:\n",
    "\n",
    "\n",
    "\n",
    "Right shift: Replace every letter with the successive letter of the English alphabet, where 'z' is replaced by 'a'. For example, \"abc\" can be right-shifted to \"bcd\" or \"xyz\" can be right-shifted to \"yza\".\n",
    "\n",
    "Left shift: Replace every letter with the preceding letter of the English alphabet, where 'a' is replaced by 'z'. For example, \"bcd\" can be left-shifted to \"abc\" or \"yza\" can be left-shifted to \"xyz\".\n",
    "\n",
    "We can keep shifting the string in both directions to form an endless shifting sequence.\n",
    "\n",
    "\n",
    "\n",
    "For example, shift \"abc\" to form the sequence: ... <-> \"abc\" <-> \"bcd\" <-> ... <-> \"xyz\" <-> \"yza\" <-> .... <-> \"zab\" <-> \"abc\" <-> ...\n",
    "\n",
    "You are given an array of strings strings, group together all strings[i] that belong to the same shifting sequence. You may return the answer in any order.\n",
    "\n",
    "\n",
    "\n",
    " \n",
    "\n",
    "\n",
    "\n",
    "**Example 1:**\n",
    "\n",
    "\n",
    "\n",
    "Input: strings = [\"abc\",\"bcd\",\"acef\",\"xyz\",\"az\",\"ba\",\"a\",\"z\"]\n",
    "\n",
    "\n",
    "\n",
    "Output: [[\"acef\"],[\"a\",\"z\"],[\"abc\",\"bcd\",\"xyz\"],[\"az\",\"ba\"]]\n",
    "\n",
    "\n",
    "\n",
    "**Example 2:**\n",
    "\n",
    "\n",
    "\n",
    "Input: strings = [\"a\"]\n",
    "\n",
    "\n",
    "\n",
    "Output: [[\"a\"]]\n",
    "\n",
    "\n",
    "\n",
    " \n",
    "\n",
    "\n",
    "\n",
    "**Constraints:**\n",
    "\n",
    "\n",
    "\n",
    "1 <= strings.length <= 200\n",
    "\n",
    "1 <= strings[i].length <= 50\n",
    "\n",
    "strings[i] consists of lowercase English letters.\n",
    "\n"
   ]
  }
 ],
 "metadata": {
  "language_info": {
   "name": "python"
  }
 },
 "nbformat": 4,
 "nbformat_minor": 5
}
