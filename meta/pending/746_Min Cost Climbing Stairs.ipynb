{
  "cells": [
    {
      "cell_type": "markdown",
      "id": "81e31ad7",
      "metadata": {},
      "source": [
        "You are given an integer array cost where cost[i] is the cost of ith step on a staircase. Once you pay the cost, you can either climb one or two steps.\n",
        "\n",
        "You can either start from the step with index 0, or the step with index 1.\n",
        "\n",
        "Return the minimum cost to reach the top of the floor.\n",
        "\n",
        " \n",
        "\n",
        "Example 1:\n",
        "\n",
        "Input: cost = [10,15,20]\n",
        "Output: 15\n",
        "Explanation: You will start at index 1.\n",
        "- Pay 15 and climb two steps to reach the top.\n",
        "The total cost is 15.\n",
        "Example 2:\n",
        "\n",
        "Input: cost = [1,100,1,1,1,100,1,1,100,1]\n",
        "Output: 6\n",
        "Explanation: You will start at index 0.\n",
        "- Pay 1 and climb two steps to reach index 2.\n",
        "- Pay 1 and climb two steps to reach index 4.\n",
        "- Pay 1 and climb two steps to reach index 6.\n",
        "- Pay 1 and climb one step to reach index 7.\n",
        "- Pay 1 and climb two steps to reach index 9.\n",
        "- Pay 1 and climb one step to reach the top.\n",
        "The total cost is 6.\n",
        " \n",
        "\n",
        "Constraints:\n",
        "\n",
        "2 <= cost.length <= 1000\n",
        "0 <= cost[i] <= 999"
      ]
    }
  ],
  "metadata": {
    "language_info": {
      "name": "python"
    }
  },
  "nbformat": 4,
  "nbformat_minor": 5
}
