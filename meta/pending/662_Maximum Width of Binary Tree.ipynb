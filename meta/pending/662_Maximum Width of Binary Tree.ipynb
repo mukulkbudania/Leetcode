{
  "cells": [
    {
      "cell_type": "markdown",
      "id": "885fd120",
      "metadata": {},
      "source": [
        "Given the root of a binary tree, return the maximum width of the given tree.\n",
        "\n",
        "The maximum width of a tree is the maximum width among all levels.\n",
        "\n",
        "The width of one level is defined as the length between the end-nodes (the leftmost and rightmost non-null nodes), where the null nodes between the end-nodes that would be present in a complete binary tree extending down to that level are also counted into the length calculation.\n",
        "\n",
        "It is guaranteed that the answer will in the range of a 32-bit signed integer.\n",
        "\n",
        " \n",
        "\n",
        "Example 1:\n",
        "\n",
        "\n",
        "Input: root = [1,3,2,5,3,null,9]\n",
        "Output: 4\n",
        "Explanation: The maximum width exists in the third level with length 4 (5,3,null,9).\n",
        "Example 2:\n",
        "\n",
        "\n",
        "Input: root = [1,3,2,5,null,null,9,6,null,7]\n",
        "Output: 7\n",
        "Explanation: The maximum width exists in the fourth level with length 7 (6,null,null,null,null,null,7).\n",
        "Example 3:\n",
        "\n",
        "\n",
        "Input: root = [1,3,2,5]\n",
        "Output: 2\n",
        "Explanation: The maximum width exists in the second level with length 2 (3,2).\n",
        " \n",
        "\n",
        "Constraints:\n",
        "\n",
        "The number of nodes in the tree is in the range [1, 3000].\n",
        "-100 <= Node.val <= 100\n"
      ]
    }
  ],
  "metadata": {
    "language_info": {
      "name": "python"
    }
  },
  "nbformat": 4,
  "nbformat_minor": 5
}
