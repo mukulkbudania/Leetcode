{
  "cells": [
    {
      "cell_type": "markdown",
      "id": "2215c9c0",
      "metadata": {},
      "source": [
        "Given two strings s and goal, return true if and only if s can become goal after some number of shifts on s.\n",
        "\n",
        "A shift on s consists of moving the leftmost character of s to the rightmost position.\n",
        "\n",
        "For example, if s = \"abcde\", then it will be \"bcdea\" after one shift.\n",
        " \n",
        "\n",
        "Example 1:\n",
        "\n",
        "Input: s = \"abcde\", goal = \"cdeab\"\n",
        "Output: true\n",
        "Example 2:\n",
        "\n",
        "Input: s = \"abcde\", goal = \"abced\"\n",
        "Output: false\n",
        " \n",
        "\n",
        "Constraints:\n",
        "\n",
        "1 <= s.length, goal.length <= 100\n",
        "s and goal consist of lowercase English letters."
      ]
    }
  ],
  "metadata": {
    "language_info": {
      "name": "python"
    }
  },
  "nbformat": 4,
  "nbformat_minor": 5
}
