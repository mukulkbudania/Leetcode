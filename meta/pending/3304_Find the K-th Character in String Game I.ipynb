{
  "cells": [
    {
      "cell_type": "markdown",
      "id": "08c1058c",
      "metadata": {},
      "source": [
        "Alice and Bob are playing a game. Initially, Alice has a string word = \"a\".\n",
        "\n",
        "You are given a positive integer k.\n",
        "\n",
        "Now Bob will ask Alice to perform the following operation forever:\n",
        "\n",
        "Generate a new string by changing each character in word to its next character in the English alphabet, and append it to the original word.\n",
        "For example, performing the operation on \"c\" generates \"cd\" and performing the operation on \"zb\" generates \"zbac\".\n",
        "\n",
        "Return the value of the kth character in word, after enough operations have been done for word to have at least k characters.\n",
        "\n",
        " \n",
        "\n",
        "Example 1:\n",
        "\n",
        "Input: k = 5\n",
        "\n",
        "Output: \"b\"\n",
        "\n",
        "Explanation:\n",
        "\n",
        "Initially, word = \"a\". We need to do the operation three times:\n",
        "\n",
        "Generated string is \"b\", word becomes \"ab\".\n",
        "Generated string is \"bc\", word becomes \"abbc\".\n",
        "Generated string is \"bccd\", word becomes \"abbcbccd\".\n",
        "Example 2:\n",
        "\n",
        "Input: k = 10\n",
        "\n",
        "Output: \"c\"\n",
        "\n",
        " \n",
        "\n",
        "Constraints:\n",
        "\n",
        "1 <= k <= 500"
      ]
    }
  ],
  "metadata": {
    "language_info": {
      "name": "python"
    }
  },
  "nbformat": 4,
  "nbformat_minor": 5
}
