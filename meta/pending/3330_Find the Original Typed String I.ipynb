{
  "cells": [
    {
      "cell_type": "markdown",
      "id": "ef30eef9",
      "metadata": {},
      "source": [
        "Alice is attempting to type a specific string on her computer. However, she tends to be clumsy and may press a key for too long, resulting in a character being typed multiple times.\n",
        "\n",
        "Although Alice tried to focus on her typing, she is aware that she may still have done this at most once.\n",
        "\n",
        "You are given a string word, which represents the final output displayed on Alice's screen.\n",
        "\n",
        "Return the total number of possible original strings that Alice might have intended to type.\n",
        "\n",
        " \n",
        "\n",
        "Example 1:\n",
        "\n",
        "Input: word = \"abbcccc\"\n",
        "\n",
        "Output: 5\n",
        "\n",
        "Explanation:\n",
        "\n",
        "The possible strings are: \"abbcccc\", \"abbccc\", \"abbcc\", \"abbc\", and \"abcccc\".\n",
        "\n",
        "Example 2:\n",
        "\n",
        "Input: word = \"abcd\"\n",
        "\n",
        "Output: 1\n",
        "\n",
        "Explanation:\n",
        "\n",
        "The only possible string is \"abcd\".\n",
        "\n",
        "Example 3:\n",
        "\n",
        "Input: word = \"aaaa\"\n",
        "\n",
        "Output: 4\n",
        "\n",
        " \n",
        "\n",
        "Constraints:\n",
        "\n",
        "1 <= word.length <= 100\n",
        "word consists only of lowercase English letters."
      ]
    }
  ],
  "metadata": {
    "language_info": {
      "name": "python"
    }
  },
  "nbformat": 4,
  "nbformat_minor": 5
}
