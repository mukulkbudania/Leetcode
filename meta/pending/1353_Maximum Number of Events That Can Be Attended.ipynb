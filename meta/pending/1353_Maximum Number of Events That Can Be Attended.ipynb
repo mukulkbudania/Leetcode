{
 "cells": [
  {
   "cell_type": "markdown",
   "id": "37347fd4",
   "metadata": {},
   "source": [
    "# 1353. Maximum Number of Events That Can Be Attended"
   ]
  },
  {
   "cell_type": "markdown",
   "id": "7f38bb44",
   "metadata": {},
   "source": [
    "You are given an array of events where events[i] = [startDayi, endDayi]. Every event i starts at startDayi and ends at endDayi.\n",
    "\n",
    "\n",
    "\n",
    "You can attend an event i at any day d where startDayi <= d <= endDayi. You can only attend one event at any time d.\n",
    "\n",
    "\n",
    "\n",
    "Return the maximum number of events you can attend.\n",
    "\n",
    "\n",
    "\n",
    " \n",
    "\n",
    "\n",
    "\n",
    "**Example 1:**\n",
    "\n",
    "\n",
    "\n",
    "\n",
    "\n",
    "Input: events = [[1,2],[2,3],[3,4]]\n",
    "\n",
    "Output: 3\n",
    "\n",
    "Explanation: You can attend all the three events.\n",
    "\n",
    "One way to attend them all is as shown.\n",
    "\n",
    "Attend the first event on day 1.\n",
    "\n",
    "Attend the second event on day 2.\n",
    "\n",
    "Attend the third event on day 3.\n",
    "\n",
    "**Example 2:**\n",
    "\n",
    "\n",
    "\n",
    "Input: events= [[1,2],[2,3],[3,4],[1,2]]\n",
    "\n",
    "Output: 4\n",
    "\n",
    " \n",
    "\n",
    "\n",
    "\n",
    "**Constraints:**\n",
    "\n",
    "\n",
    "\n",
    "1 <= events.length <= 105\n",
    "\n",
    "events[i].length == 2\n",
    "\n",
    "1 <= startDayi <= endDayi <= 105"
   ]
  }
 ],
 "metadata": {
  "language_info": {
   "name": "python"
  }
 },
 "nbformat": 4,
 "nbformat_minor": 5
}
