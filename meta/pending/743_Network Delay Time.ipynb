{
 "cells": [
  {
   "cell_type": "markdown",
   "id": "5c79b2b0",
   "metadata": {},
   "source": [
    "# 743. Network Delay Time"
   ]
  },
  {
   "cell_type": "markdown",
   "id": "69e45bd7",
   "metadata": {},
   "source": [
    "You are given a network of n nodes, labeled from 1 to n. You are also given times, a list of travel times as directed edges times[i] = (ui, vi, wi), where ui is the source node, vi is the target node, and wi is the time it takes for a signal to travel from source to target.\n",
    "\n",
    "\n",
    "\n",
    "We will send a signal from a given node k. Return the minimum time it takes for all the n nodes to receive the signal. If it is impossible for all the n nodes to receive the signal, return -1.\n",
    "\n",
    "\n",
    "\n",
    " \n",
    "\n",
    "\n",
    "\n",
    "**Example 1:**\n",
    "\n",
    "\n",
    "\n",
    "\n",
    "\n",
    "Input: times = [[2,1,1],[2,3,1],[3,4,1]], n = 4, k = 2\n",
    "\n",
    "Output: 2\n",
    "\n",
    "**Example 2:**\n",
    "\n",
    "\n",
    "\n",
    "Input: times = [[1,2,1]], n = 2, k = 1\n",
    "\n",
    "Output: 1\n",
    "\n",
    "**Example 3:**\n",
    "\n",
    "\n",
    "\n",
    "Input: times = [[1,2,1]], n = 2, k = 2\n",
    "\n",
    "Output: -1\n",
    "\n",
    " \n",
    "\n",
    "\n",
    "\n",
    "**Constraints:**\n",
    "\n",
    "\n",
    "\n",
    "1 <= k <= n <= 100\n",
    "\n",
    "1 <= times.length <= 6000\n",
    "\n",
    "times[i].length == 3\n",
    "\n",
    "1 <= ui, vi <= n\n",
    "\n",
    "ui != vi\n",
    "\n",
    "0 <= wi <= 100\n",
    "\n",
    "All the pairs (ui, vi) are unique. (i.e., no multiple edges.)"
   ]
  }
 ],
 "metadata": {
  "language_info": {
   "name": "python"
  }
 },
 "nbformat": 4,
 "nbformat_minor": 5
}
