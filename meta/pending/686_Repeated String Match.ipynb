{
  "cells": [
    {
      "cell_type": "markdown",
      "id": "d8433d53",
      "metadata": {},
      "source": [
        "Given two strings a and b, return the minimum number of times you should repeat string a so that string b is a substring of it. If it is impossible for b​​​​​​ to be a substring of a after repeating it, return -1.\n",
        "\n",
        "Notice: string \"abc\" repeated 0 times is \"\", repeated 1 time is \"abc\" and repeated 2 times is \"abcabc\".\n",
        "\n",
        " \n",
        "\n",
        "Example 1:\n",
        "\n",
        "Input: a = \"abcd\", b = \"cdabcdab\"\n",
        "Output: 3\n",
        "Explanation: We return 3 because by repeating a three times \"abcdabcdabcd\", b is a substring of it.\n",
        "Example 2:\n",
        "\n",
        "Input: a = \"a\", b = \"aa\"\n",
        "Output: 2\n",
        " \n",
        "\n",
        "Constraints:\n",
        "\n",
        "1 <= a.length, b.length <= 104\n",
        "a and b consist of lowercase English letters."
      ]
    }
  ],
  "metadata": {
    "language_info": {
      "name": "python"
    }
  },
  "nbformat": 4,
  "nbformat_minor": 5
}
