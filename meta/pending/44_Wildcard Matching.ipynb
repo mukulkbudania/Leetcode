{
 "cells": [
  {
   "cell_type": "markdown",
   "id": "b274f7f3",
   "metadata": {},
   "source": [
    "# 44. Wildcard Matching"
   ]
  },
  {
   "cell_type": "markdown",
   "id": "0d06331d",
   "metadata": {},
   "source": [
    "Given an input string (s) and a pattern (p), implement wildcard pattern matching with support for '?' and '*' where:\n",
    "\n",
    "\n",
    "\n",
    "'?' Matches any single character.\n",
    "\n",
    "'*' Matches any sequence of characters (including the empty sequence).\n",
    "\n",
    "The matching should cover the entire input string (not partial).\n",
    "\n",
    "\n",
    "\n",
    " \n",
    "\n",
    "\n",
    "\n",
    "**Example 1:**\n",
    "\n",
    "\n",
    "\n",
    "Input: s = \"aa\", p = \"a\"\n",
    "\n",
    "Output: false\n",
    "\n",
    "Explanation: \"a\" does not match the entire string \"aa\".\n",
    "\n",
    "**Example 2:**\n",
    "\n",
    "\n",
    "\n",
    "Input: s = \"aa\", p = \"*\"\n",
    "\n",
    "Output: true\n",
    "\n",
    "Explanation: '*' matches any sequence.\n",
    "\n",
    "**Example 3:**\n",
    "\n",
    "\n",
    "\n",
    "Input: s = \"cb\", p = \"?a\"\n",
    "\n",
    "Output: false\n",
    "\n",
    "Explanation: '?' matches 'c', but the second letter is 'a', which does not match 'b'.\n",
    "\n",
    " \n",
    "\n",
    "\n",
    "\n",
    "**Constraints:**\n",
    "\n",
    "\n",
    "\n",
    "0 <= s.length, p.length <= 2000\n",
    "\n",
    "s contains only lowercase English letters.\n",
    "\n",
    "p contains only lowercase English letters, '?' or '*'."
   ]
  }
 ],
 "metadata": {
  "language_info": {
   "name": "python"
  }
 },
 "nbformat": 4,
 "nbformat_minor": 5
}
