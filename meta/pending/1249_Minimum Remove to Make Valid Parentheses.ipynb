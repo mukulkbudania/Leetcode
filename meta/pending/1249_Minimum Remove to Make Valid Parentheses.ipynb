{
  "cells": [
    {
      "cell_type": "markdown",
      "id": "25bff8d8",
      "metadata": {},
      "source": [
        "Given a string s of '(' , ')' and lowercase English characters.\n",
        "\n",
        "Your task is to remove the minimum number of parentheses ( '(' or ')', in any positions ) so that the resulting parentheses string is valid and return any valid string.\n",
        "\n",
        "Formally, a parentheses string is valid if and only if:\n",
        "\n",
        "It is the empty string, contains only lowercase characters, or\n",
        "It can be written as AB (A concatenated with B), where A and B are valid strings, or\n",
        "It can be written as (A), where A is a valid string.\n",
        " \n",
        "\n",
        "Example 1:\n",
        "\n",
        "Input: s = \"lee(t(c)o)de)\"\n",
        "Output: \"lee(t(c)o)de\"\n",
        "Explanation: \"lee(t(co)de)\" , \"lee(t(c)ode)\" would also be accepted.\n",
        "Example 2:\n",
        "\n",
        "Input: s = \"a)b(c)d\"\n",
        "Output: \"ab(c)d\"\n",
        "Example 3:\n",
        "\n",
        "Input: s = \"))((\"\n",
        "Output: \"\"\n",
        "Explanation: An empty string is also valid.\n",
        " \n",
        "\n",
        "Constraints:\n",
        "\n",
        "1 <= s.length <= 105\n",
        "s[i] is either '(' , ')', or lowercase English letter."
      ]
    },
    {
      "cell_type": "code",
      "execution_count": null,
      "id": "3fbb326b",
      "metadata": {},
      "outputs": [],
      "source": [
        "def minRemoveToMakeValid(s: str) -> str:\n",
        "    stack = []\n",
        "    invalid_indices = set()\n",
        "\n",
        "    for i, c in enumerate(s):\n",
        "        if c == '(':\n",
        "            stack.append(i)\n",
        "        elif c == ')':\n",
        "            if stack:\n",
        "                stack.pop()\n",
        "            else:\n",
        "                invalid_indices.add(i)\n",
        "\n",
        "    # Add any unmatched '(' indices left in the stack to invalid indices\n",
        "    invalid_indices.update(stack)\n",
        "\n",
        "    # Build the result by skipping characters at invalid indices\n",
        "    result = ''.join(c for i, c in enumerate(s) if i not in invalid_indices)\n",
        "    return result\n",
        "\n",
        "# Examples\n",
        "print(minRemoveToMakeValid(\"lee(t(c)o)de)\"))  # Output: \"lee(t(c)o)de\"\n",
        "print(minRemoveToMakeValid(\"a)b(c)d\"))        # Output: \"ab(c)d\"\n",
        "print(minRemoveToMakeValid(\"))((\"))           # Output: \"\""
      ]
    },
    {
      "cell_type": "markdown",
      "id": "d043d565",
      "metadata": {},
      "source": [
        "✅ Algorithm (in words):\n",
        "\t1.\tUse a stack to keep track of indices of unmatched '('.\n",
        "\t2.\tGo through the string:\n",
        "\t•\tIf you see '(', push its index onto the stack.\n",
        "\t•\tIf you see ')':\n",
        "\t•\tIf the stack is not empty, pop the last '(' index → they form a matched pair.\n",
        "\t•\tIf the stack is empty, mark this ')' index as invalid (needs to be removed).\n",
        "\t3.\tAfter the scan, any indices left in the stack correspond to unmatched '(' that must be removed.\n",
        "\t4.\tFinally, build the answer string by skipping characters at invalid indices."
      ]
    },
    {
      "cell_type": "markdown",
      "id": "17bbe37c",
      "metadata": {},
      "source": [
        "⚡ Complexity:\n",
        "\t•\tTime: O(N), where N = len(s)\n",
        "\t•\tSpace: O(N), for the stack and set of invalid indices\n"
      ]
    }
  ],
  "metadata": {
    "language_info": {
      "name": "python"
    }
  },
  "nbformat": 4,
  "nbformat_minor": 5
}
