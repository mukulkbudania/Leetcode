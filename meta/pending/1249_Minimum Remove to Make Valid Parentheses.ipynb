{
 "cells": [
  {
   "cell_type": "markdown",
   "id": "c73d24f7",
   "metadata": {},
   "source": [
    "# 1249. Minimum Remove to Make Valid Parentheses"
   ]
  },
  {
   "cell_type": "markdown",
   "id": "25bff8d8",
   "metadata": {},
   "source": [
    "Given a string s of '(' , ')' and lowercase English characters.\n",
    "\n",
    "\n",
    "\n",
    "Your task is to remove the minimum number of parentheses ( '(' or ')', in any positions ) so that the resulting parentheses string is valid and return any valid string.\n",
    "\n",
    "\n",
    "\n",
    "Formally, a parentheses string is valid if and only if:\n",
    "\n",
    "\n",
    "\n",
    "It is the empty string, contains only lowercase characters, or\n",
    "\n",
    "It can be written as AB (A concatenated with B), where A and B are valid strings, or\n",
    "\n",
    "It can be written as (A), where A is a valid string.\n",
    "\n",
    " \n",
    "\n",
    "\n",
    "\n",
    "**Example 1:**\n",
    "\n",
    "\n",
    "\n",
    "Input: s = \"lee(t(c)o)de)\"\n",
    "\n",
    "Output: \"lee(t(c)o)de\"\n",
    "\n",
    "Explanation: \"lee(t(co)de)\" , \"lee(t(c)ode)\" would also be accepted.\n",
    "\n",
    "**Example 2:**\n",
    "\n",
    "\n",
    "\n",
    "Input: s = \"a)b(c)d\"\n",
    "\n",
    "Output: \"ab(c)d\"\n",
    "\n",
    "**Example 3:**\n",
    "\n",
    "\n",
    "\n",
    "Input: s = \"))((\"\n",
    "\n",
    "Output: \"\"\n",
    "\n",
    "Explanation: An empty string is also valid.\n",
    "\n",
    " \n",
    "\n",
    "\n",
    "\n",
    "**Constraints:**\n",
    "\n",
    "\n",
    "\n",
    "1 <= s.length <= 105\n",
    "\n",
    "s[i] is either '(' , ')', or lowercase English letter."
   ]
  }
 ],
 "metadata": {
  "language_info": {
   "name": "python"
  }
 },
 "nbformat": 4,
 "nbformat_minor": 5
}
