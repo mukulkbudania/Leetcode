{
 "cells": [
  {
   "cell_type": "markdown",
   "id": "c00ed177",
   "metadata": {},
   "source": [
    "# 246. Strobogrammatic Number"
   ]
  },
  {
   "cell_type": "markdown",
   "id": "b65dcfab",
   "metadata": {},
   "source": [
    "Given a string num which represents an integer, return true if num is a strobogrammatic number.\n",
    "\n",
    "\n",
    "\n",
    "A strobogrammatic number is a number that looks the same when rotated 180 degrees (looked at upside down).\n",
    "\n",
    "\n",
    "\n",
    " \n",
    "\n",
    "\n",
    "\n",
    "**Example 1:**\n",
    "\n",
    "\n",
    "\n",
    "Input: num = \"69\"\n",
    "\n",
    "Output: true\n",
    "\n",
    "**Example 2:**\n",
    "\n",
    "\n",
    "\n",
    "Input: num = \"88\"\n",
    "\n",
    "Output: true\n",
    "\n",
    "**Example 3:**\n",
    "\n",
    "\n",
    "\n",
    "Input: num = \"962\"\n",
    "\n",
    "Output: false\n",
    "\n",
    " \n",
    "\n",
    "\n",
    "\n",
    "**Constraints:**\n",
    "\n",
    "\n",
    "\n",
    "1 <= num.length <= 50\n",
    "\n",
    "num consists of only digits.\n",
    "\n",
    "num does not contain any leading zeros except for zero itself.\n",
    "\n"
   ]
  }
 ],
 "metadata": {
  "language_info": {
   "name": "python"
  }
 },
 "nbformat": 4,
 "nbformat_minor": 5
}
