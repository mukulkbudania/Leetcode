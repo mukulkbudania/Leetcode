{
  "cells": [
    {
      "cell_type": "markdown",
      "id": "b65dcfab",
      "metadata": {},
      "source": [
        "Given a string num which represents an integer, return true if num is a strobogrammatic number.\n",
        "\n",
        "A strobogrammatic number is a number that looks the same when rotated 180 degrees (looked at upside down).\n",
        "\n",
        " \n",
        "\n",
        "Example 1:\n",
        "\n",
        "Input: num = \"69\"\n",
        "Output: true\n",
        "Example 2:\n",
        "\n",
        "Input: num = \"88\"\n",
        "Output: true\n",
        "Example 3:\n",
        "\n",
        "Input: num = \"962\"\n",
        "Output: false\n",
        " \n",
        "\n",
        "Constraints:\n",
        "\n",
        "1 <= num.length <= 50\n",
        "num consists of only digits.\n",
        "num does not contain any leading zeros except for zero itself.\n"
      ]
    }
  ],
  "metadata": {
    "language_info": {
      "name": "python"
    }
  },
  "nbformat": 4,
  "nbformat_minor": 5
}
