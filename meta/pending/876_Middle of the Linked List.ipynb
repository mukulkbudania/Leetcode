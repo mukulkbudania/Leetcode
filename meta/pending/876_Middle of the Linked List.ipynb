{
 "cells": [
  {
   "cell_type": "markdown",
   "id": "b39994cb",
   "metadata": {},
   "source": [
    "# 876. Middle of the Linked List"
   ]
  },
  {
   "cell_type": "markdown",
   "id": "07d050f9",
   "metadata": {},
   "source": [
    "Given the head of a singly linked list, return the middle node of the linked list.\n",
    "\n",
    "\n",
    "\n",
    "If there are two middle nodes, return the second middle node.\n",
    "\n",
    "\n",
    "\n",
    " \n",
    "\n",
    "\n",
    "\n",
    "**Example 1:**\n",
    "\n",
    "\n",
    "\n",
    "\n",
    "\n",
    "Input: head = [1,2,3,4,5]\n",
    "\n",
    "Output: [3,4,5]\n",
    "\n",
    "Explanation: The middle node of the list is node 3.\n",
    "\n",
    "**Example 2:**\n",
    "\n",
    "\n",
    "\n",
    "\n",
    "\n",
    "Input: head = [1,2,3,4,5,6]\n",
    "\n",
    "Output: [4,5,6]\n",
    "\n",
    "Explanation: Since the list has two middle nodes with values 3 and 4, we return the second one.\n",
    "\n",
    " \n",
    "\n",
    "\n",
    "\n",
    "**Constraints:**\n",
    "\n",
    "\n",
    "\n",
    "The number of nodes in the list is in the range [1, 100].\n",
    "\n",
    "1 <= Node.val <= 100"
   ]
  }
 ],
 "metadata": {
  "language_info": {
   "name": "python"
  }
 },
 "nbformat": 4,
 "nbformat_minor": 5
}
