{
  "cells": [
    {
      "cell_type": "markdown",
      "id": "0dc6d301",
      "metadata": {},
      "source": [
        "Given an array of integers heights representing the histogram's bar height where the width of each bar is 1, return the area of the largest rectangle in the histogram.\n",
        "\n",
        " \n",
        "\n",
        "Example 1:\n",
        "\n",
        "\n",
        "Input: heights = [2,1,5,6,2,3]\n",
        "Output: 10\n",
        "Explanation: The above is a histogram where width of each bar is 1.\n",
        "The largest rectangle is shown in the red area, which has an area = 10 units.\n",
        "Example 2:\n",
        "\n",
        "\n",
        "Input: heights = [2,4]\n",
        "Output: 4\n",
        " \n",
        "\n",
        "Constraints:\n",
        "\n",
        "1 <= heights.length <= 105\n",
        "0 <= heights[i] <= 104"
      ]
    }
  ],
  "metadata": {
    "language_info": {
      "name": "python"
    }
  },
  "nbformat": 4,
  "nbformat_minor": 5
}
