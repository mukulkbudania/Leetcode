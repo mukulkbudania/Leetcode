{
 "cells": [
  {
   "cell_type": "markdown",
   "id": "6ab34c36",
   "metadata": {},
   "source": [
    "# 84. Largest Rectangle in Histogram"
   ]
  },
  {
   "cell_type": "markdown",
   "id": "0dc6d301",
   "metadata": {},
   "source": [
    "Given an array of integers heights representing the histogram's bar height where the width of each bar is 1, return the area of the largest rectangle in the histogram.\n",
    "\n",
    "\n",
    "\n",
    " \n",
    "\n",
    "\n",
    "\n",
    "**Example 1:**\n",
    "\n",
    "\n",
    "\n",
    "\n",
    "\n",
    "Input: heights = [2,1,5,6,2,3]\n",
    "\n",
    "Output: 10\n",
    "\n",
    "Explanation: The above is a histogram where width of each bar is 1.\n",
    "\n",
    "The largest rectangle is shown in the red area, which has an area = 10 units.\n",
    "\n",
    "**Example 2:**\n",
    "\n",
    "\n",
    "\n",
    "\n",
    "\n",
    "Input: heights = [2,4]\n",
    "\n",
    "Output: 4\n",
    "\n",
    " \n",
    "\n",
    "\n",
    "\n",
    "**Constraints:**\n",
    "\n",
    "\n",
    "\n",
    "1 <= heights.length <= 105\n",
    "\n",
    "0 <= heights[i] <= 104"
   ]
  }
 ],
 "metadata": {
  "language_info": {
   "name": "python"
  }
 },
 "nbformat": 4,
 "nbformat_minor": 5
}
