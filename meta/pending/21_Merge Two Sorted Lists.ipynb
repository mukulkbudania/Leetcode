{
 "cells": [
  {
   "cell_type": "markdown",
   "id": "d28d547e",
   "metadata": {},
   "source": [
    "# 21. Merge Two Sorted Lists"
   ]
  },
  {
   "cell_type": "markdown",
   "id": "0d3654e5",
   "metadata": {},
   "source": [
    "You are given the heads of two sorted linked lists list1 and list2.\n",
    "\n",
    "\n",
    "\n",
    "Merge the two lists into one sorted list. The list should be made by splicing together the nodes of the first two lists.\n",
    "\n",
    "\n",
    "\n",
    "Return the head of the merged linked list.\n",
    "\n",
    "\n",
    "\n",
    " \n",
    "\n",
    "\n",
    "\n",
    "**Example 1:**\n",
    "\n",
    "\n",
    "\n",
    "\n",
    "\n",
    "Input: list1 = [1,2,4], list2 = [1,3,4]\n",
    "\n",
    "Output: [1,1,2,3,4,4]\n",
    "\n",
    "**Example 2:**\n",
    "\n",
    "\n",
    "\n",
    "Input: list1 = [], list2 = []\n",
    "\n",
    "Output: []\n",
    "\n",
    "**Example 3:**\n",
    "\n",
    "\n",
    "\n",
    "Input: list1 = [], list2 = [0]\n",
    "\n",
    "Output: [0]\n",
    "\n",
    " \n",
    "\n",
    "\n",
    "\n",
    "**Constraints:**\n",
    "\n",
    "\n",
    "\n",
    "The number of nodes in both lists is in the range [0, 50].\n",
    "\n",
    "-100 <= Node.val <= 100\n",
    "\n",
    "Both list1 and list2 are sorted in non-decreasing order."
   ]
  }
 ],
 "metadata": {
  "language_info": {
   "name": "python"
  }
 },
 "nbformat": 4,
 "nbformat_minor": 5
}
