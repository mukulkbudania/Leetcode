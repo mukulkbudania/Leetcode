{
  "cells": [
    {
      "cell_type": "markdown",
      "id": "39e54306",
      "metadata": {},
      "source": [
        "Given an integer array nums of unique elements, return all possible subsets (the power set).\n",
        "\n",
        "The solution set must not contain duplicate subsets. Return the solution in any order.\n",
        "\n",
        " \n",
        "\n",
        "Example 1:\n",
        "\n",
        "Input: nums = [1,2,3]\n",
        "Output: [[],[1],[2],[1,2],[3],[1,3],[2,3],[1,2,3]]\n",
        "Example 2:\n",
        "\n",
        "Input: nums = [0]\n",
        "Output: [[],[0]]\n",
        " \n",
        "\n",
        "Constraints:\n",
        "\n",
        "1 <= nums.length <= 10\n",
        "-10 <= nums[i] <= 10\n",
        "All the numbers of nums are unique."
      ]
    }
  ],
  "metadata": {
    "language_info": {
      "name": "python"
    }
  },
  "nbformat": 4,
  "nbformat_minor": 5
}
