{
  "cells": [
    {
      "cell_type": "markdown",
      "id": "1c3e54d8",
      "metadata": {},
      "source": [
        "On a 2D plane, we place n stones at some integer coordinate points. Each coordinate point may have at most one stone.\n",
        "\n",
        "A stone can be removed if it shares either the same row or the same column as another stone that has not been removed.\n",
        "\n",
        "Given an array stones of length n where stones[i] = [xi, yi] represents the location of the ith stone, return the largest possible number of stones that can be removed.\n",
        "\n",
        " \n",
        "\n",
        "Example 1:\n",
        "\n",
        "Input: stones = [[0,0],[0,1],[1,0],[1,2],[2,1],[2,2]]\n",
        "Output: 5\n",
        "Explanation: One way to remove 5 stones is as follows:\n",
        "1. Remove stone [2,2] because it shares the same row as [2,1].\n",
        "2. Remove stone [2,1] because it shares the same column as [0,1].\n",
        "3. Remove stone [1,2] because it shares the same row as [1,0].\n",
        "4. Remove stone [1,0] because it shares the same column as [0,0].\n",
        "5. Remove stone [0,1] because it shares the same row as [0,0].\n",
        "Stone [0,0] cannot be removed since it does not share a row/column with another stone still on the plane.\n",
        "Example 2:\n",
        "\n",
        "Input: stones = [[0,0],[0,2],[1,1],[2,0],[2,2]]\n",
        "Output: 3\n",
        "Explanation: One way to make 3 moves is as follows:\n",
        "1. Remove stone [2,2] because it shares the same row as [2,0].\n",
        "2. Remove stone [2,0] because it shares the same column as [0,0].\n",
        "3. Remove stone [0,2] because it shares the same row as [0,0].\n",
        "Stones [0,0] and [1,1] cannot be removed since they do not share a row/column with another stone still on the plane.\n",
        "Example 3:\n",
        "\n",
        "Input: stones = [[0,0]]\n",
        "Output: 0\n",
        "Explanation: [0,0] is the only stone on the plane, so you cannot remove it.\n",
        " \n",
        "\n",
        "Constraints:\n",
        "\n",
        "1 <= stones.length <= 1000\n",
        "0 <= xi, yi <= 104\n",
        "No two stones are at the same coordinate point."
      ]
    }
  ],
  "metadata": {
    "language_info": {
      "name": "python"
    }
  },
  "nbformat": 4,
  "nbformat_minor": 5
}
