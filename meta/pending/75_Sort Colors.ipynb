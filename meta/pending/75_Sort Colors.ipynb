{
 "cells": [
  {
   "cell_type": "markdown",
   "id": "6f32e977",
   "metadata": {},
   "source": [
    "# 75. Sort Colors"
   ]
  },
  {
   "cell_type": "markdown",
   "id": "2f7c8b80",
   "metadata": {},
   "source": [
    "Given an array nums with n objects colored red, white, or blue, sort them in-place so that objects of the same color are adjacent, with the colors in the order red, white, and blue.\n",
    "\n",
    "\n",
    "\n",
    "We will use the integers 0, 1, and 2 to represent the color red, white, and blue, respectively.\n",
    "\n",
    "\n",
    "\n",
    "You must solve this problem without using the library's sort function.\n",
    "\n",
    "\n",
    "\n",
    " \n",
    "\n",
    "\n",
    "\n",
    "**Example 1:**\n",
    "\n",
    "\n",
    "\n",
    "Input: nums = [2,0,2,1,1,0]\n",
    "\n",
    "Output: [0,0,1,1,2,2]\n",
    "\n",
    "**Example 2:**\n",
    "\n",
    "\n",
    "\n",
    "Input: nums = [2,0,1]\n",
    "\n",
    "Output: [0,1,2]\n",
    "\n",
    " \n",
    "\n",
    "\n",
    "\n",
    "**Constraints:**\n",
    "\n",
    "\n",
    "\n",
    "n == nums.length\n",
    "\n",
    "1 <= n <= 300\n",
    "\n",
    "nums[i] is either 0, 1, or 2.\n",
    "\n",
    " \n",
    "\n",
    "\n",
    "\n",
    "Follow up: Could you come up with a one-pass algorithm using only constant extra space?\n",
    "\n",
    "\n",
    "\n"
   ]
  }
 ],
 "metadata": {
  "language_info": {
   "name": "python"
  }
 },
 "nbformat": 4,
 "nbformat_minor": 5
}
