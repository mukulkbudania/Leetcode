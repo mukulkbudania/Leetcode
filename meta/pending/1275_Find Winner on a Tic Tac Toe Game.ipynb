{
  "cells": [
    {
      "cell_type": "markdown",
      "id": "da3ea067",
      "metadata": {},
      "source": [
        "Tic-tac-toe is played by two players A and B on a 3 x 3 grid. The rules of Tic-Tac-Toe are:\n",
        "\n",
        "Players take turns placing characters into empty squares ' '.\n",
        "The first player A always places 'X' characters, while the second player B always places 'O' characters.\n",
        "'X' and 'O' characters are always placed into empty squares, never on filled ones.\n",
        "The game ends when there are three of the same (non-empty) character filling any row, column, or diagonal.\n",
        "The game also ends if all squares are non-empty.\n",
        "No more moves can be played if the game is over.\n",
        "Given a 2D integer array moves where moves[i] = [rowi, coli] indicates that the ith move will be played on grid[rowi][coli]. return the winner of the game if it exists (A or B). In case the game ends in a draw return \"Draw\". If there are still movements to play return \"Pending\".\n",
        "\n",
        "You can assume that moves is valid (i.e., it follows the rules of Tic-Tac-Toe), the grid is initially empty, and A will play first.\n",
        "\n",
        " \n",
        "\n",
        "Example 1:\n",
        "\n",
        "\n",
        "Input: moves = [[0,0],[2,0],[1,1],[2,1],[2,2]]\n",
        "Output: \"A\"\n",
        "Explanation: A wins, they always play first.\n",
        "Example 2:\n",
        "\n",
        "\n",
        "Input: moves = [[0,0],[1,1],[0,1],[0,2],[1,0],[2,0]]\n",
        "Output: \"B\"\n",
        "Explanation: B wins.\n",
        "Example 3:\n",
        "\n",
        "\n",
        "Input: moves = [[0,0],[1,1],[2,0],[1,0],[1,2],[2,1],[0,1],[0,2],[2,2]]\n",
        "Output: \"Draw\"\n",
        "Explanation: The game ends in a draw since there are no moves to make.\n",
        " \n",
        "\n",
        "Constraints:\n",
        "\n",
        "1 <= moves.length <= 9\n",
        "moves[i].length == 2\n",
        "0 <= rowi, coli <= 2\n",
        "There are no repeated elements on moves.\n",
        "moves follow the rules of tic tac toe."
      ]
    }
  ],
  "metadata": {
    "language_info": {
      "name": "python"
    }
  },
  "nbformat": 4,
  "nbformat_minor": 5
}
