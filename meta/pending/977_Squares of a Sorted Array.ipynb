{
 "cells": [
  {
   "cell_type": "markdown",
   "id": "59d168e2",
   "metadata": {},
   "source": [
    "# 977. Squares of a Sorted Array"
   ]
  },
  {
   "cell_type": "markdown",
   "id": "553efa26",
   "metadata": {},
   "source": [
    "Given an integer array nums sorted in non-decreasing order, return an array of the squares of each number sorted in non-decreasing order.\n",
    "\n",
    "\n",
    "\n",
    " \n",
    "\n",
    "\n",
    "\n",
    "**Example 1:**\n",
    "\n",
    "\n",
    "\n",
    "Input: nums = [-4,-1,0,3,10]\n",
    "\n",
    "Output: [0,1,9,16,100]\n",
    "\n",
    "Explanation: After squaring, the array becomes [16,1,0,9,100].\n",
    "\n",
    "After sorting, it becomes [0,1,9,16,100].\n",
    "\n",
    "**Example 2:**\n",
    "\n",
    "\n",
    "\n",
    "Input: nums = [-7,-3,2,3,11]\n",
    "\n",
    "Output: [4,9,9,49,121]\n",
    "\n",
    " \n",
    "\n",
    "\n",
    "\n",
    "**Constraints:**\n",
    "\n",
    "\n",
    "\n",
    "1 <= nums.length <= 104\n",
    "\n",
    "-104 <= nums[i] <= 104\n",
    "\n",
    "nums is sorted in non-decreasing order.\n",
    "\n",
    " \n",
    "\n",
    "\n",
    "\n",
    "Follow up: Squaring each element and sorting the new array is very trivial, could you find an O(n) solution using a different approach?"
   ]
  }
 ],
 "metadata": {
  "language_info": {
   "name": "python"
  }
 },
 "nbformat": 4,
 "nbformat_minor": 5
}
