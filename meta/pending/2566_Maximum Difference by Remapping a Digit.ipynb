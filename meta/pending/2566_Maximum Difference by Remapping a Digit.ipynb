{
 "cells": [
  {
   "cell_type": "markdown",
   "id": "5b18c685",
   "metadata": {},
   "source": [
    "# 2566. Maximum Difference by Remapping a Digit"
   ]
  },
  {
   "cell_type": "markdown",
   "id": "94bd5c65",
   "metadata": {},
   "source": [
    "You are given an integer num. You know that Bob will sneakily remap one of the 10 possible digits (0 to 9) to another digit.\n",
    "\n",
    "\n",
    "\n",
    "Return the difference between the maximum and minimum values Bob can make by remapping exactly one digit in num.\n",
    "\n",
    "\n",
    "\n",
    "Notes:\n",
    "\n",
    "\n",
    "\n",
    "When Bob remaps a digit d1 to another digit d2, Bob replaces all occurrences of d1 in num with d2.\n",
    "\n",
    "Bob can remap a digit to itself, in which case num does not change.\n",
    "\n",
    "Bob can remap different digits for obtaining minimum and maximum values respectively.\n",
    "\n",
    "The resulting number after remapping can contain leading zeroes.\n",
    "\n",
    " \n",
    "\n",
    "\n",
    "\n",
    "**Example 1:**\n",
    "\n",
    "\n",
    "\n",
    "Input: num = 11891\n",
    "\n",
    "Output: 99009\n",
    "\n",
    "Explanation: \n",
    "\n",
    "To achieve the maximum value, Bob can remap the digit 1 to the digit 9 to yield 99899.\n",
    "\n",
    "To achieve the minimum value, Bob can remap the digit 1 to the digit 0, yielding 890.\n",
    "\n",
    "The difference between these two numbers is 99009.\n",
    "\n",
    "**Example 2:**\n",
    "\n",
    "\n",
    "\n",
    "Input: num = 90\n",
    "\n",
    "Output: 99\n",
    "\n",
    "Explanation:\n",
    "\n",
    "The maximum value that can be returned by the function is 99 (if 0 is replaced by 9) and the minimum value that can be returned by the function is 0 (if 9 is replaced by 0).\n",
    "\n",
    "Thus, we return 99.\n",
    "\n",
    " \n",
    "\n",
    "\n",
    "\n",
    "**Constraints:**\n",
    "\n",
    "\n",
    "\n",
    "1 <= num <= 108"
   ]
  }
 ],
 "metadata": {
  "language_info": {
   "name": "python"
  }
 },
 "nbformat": 4,
 "nbformat_minor": 5
}
