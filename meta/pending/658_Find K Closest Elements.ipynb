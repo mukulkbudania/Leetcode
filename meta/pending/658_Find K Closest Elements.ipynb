{
  "cells": [
    {
      "cell_type": "markdown",
      "id": "7089a95d",
      "metadata": {},
      "source": [
        "Given a sorted integer array arr, two integers k and x, return the k closest integers to x in the array. The result should also be sorted in ascending order.\n",
        "\n",
        "An integer a is closer to x than an integer b if:\n",
        "\n",
        "|a - x| < |b - x|, or\n",
        "|a - x| == |b - x| and a < b\n",
        " \n",
        "\n",
        "Example 1:\n",
        "\n",
        "Input: arr = [1,2,3,4,5], k = 4, x = 3\n",
        "\n",
        "Output: [1,2,3,4]\n",
        "\n",
        "Example 2:\n",
        "\n",
        "Input: arr = [1,1,2,3,4,5], k = 4, x = -1\n",
        "\n",
        "Output: [1,1,2,3]\n",
        "\n",
        " \n",
        "\n",
        "Constraints:\n",
        "\n",
        "1 <= k <= arr.length\n",
        "1 <= arr.length <= 104\n",
        "arr is sorted in ascending order.\n",
        "-104 <= arr[i], x <= 104"
      ]
    }
  ],
  "metadata": {
    "language_info": {
      "name": "python"
    }
  },
  "nbformat": 4,
  "nbformat_minor": 5
}
