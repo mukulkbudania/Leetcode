{
  "cells": [
    {
      "cell_type": "markdown",
      "id": "34e2b2c8",
      "metadata": {},
      "source": [
        "Given the root of a binary tree, find the largest subtree, which is also a Binary Search Tree (BST), where the largest means subtree has the largest number of nodes.\n",
        "\n",
        "A Binary Search Tree (BST) is a tree in which all the nodes follow the below-mentioned properties:\n",
        "\n",
        "The left subtree values are less than the value of their parent (root) node's value.\n",
        "The right subtree values are greater than the value of their parent (root) node's value.\n",
        "Note: A subtree must include all of its descendants.\n",
        "\n",
        " \n",
        "\n",
        "Example 1:\n",
        "\n",
        "\n",
        "\n",
        "Input: root = [10,5,15,1,8,null,7]\n",
        "Output: 3\n",
        "Explanation: The Largest BST Subtree in this case is the highlighted one. The return value is the subtree's size, which is 3.\n",
        "Example 2:\n",
        "\n",
        "Input: root = [4,2,7,2,3,5,null,2,null,null,null,null,null,1]\n",
        "Output: 2\n",
        " \n",
        "\n",
        "Constraints:\n",
        "\n",
        "The number of nodes in the tree is in the range [0, 104].\n",
        "-104 <= Node.val <= 104\n",
        " \n",
        "\n",
        "Follow up: Can you figure out ways to solve it with O(n) time complexity?"
      ]
    }
  ],
  "metadata": {
    "language_info": {
      "name": "python"
    }
  },
  "nbformat": 4,
  "nbformat_minor": 5
}
