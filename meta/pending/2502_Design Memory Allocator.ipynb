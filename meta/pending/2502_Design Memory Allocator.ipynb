{
  "cells": [
    {
      "cell_type": "markdown",
      "id": "b2dfd532",
      "metadata": {},
      "source": [
        "You are given an integer n representing the size of a 0-indexed memory array. All memory units are initially free.\n",
        "\n",
        "You have a memory allocator with the following functionalities:\n",
        "\n",
        "Allocate a block of size consecutive free memory units and assign it the id mID.\n",
        "Free all memory units with the given id mID.\n",
        "Note that:\n",
        "\n",
        "Multiple blocks can be allocated to the same mID.\n",
        "You should free all the memory units with mID, even if they were allocated in different blocks.\n",
        "Implement the Allocator class:\n",
        "\n",
        "Allocator(int n) Initializes an Allocator object with a memory array of size n.\n",
        "int allocate(int size, int mID) Find the leftmost block of size consecutive free memory units and allocate it with the id mID. Return the block's first index. If such a block does not exist, return -1.\n",
        "int freeMemory(int mID) Free all memory units with the id mID. Return the number of memory units you have freed.\n",
        " \n",
        "\n",
        "Example 1:\n",
        "\n",
        "Input\n",
        "[\"Allocator\", \"allocate\", \"allocate\", \"allocate\", \"freeMemory\", \"allocate\", \"allocate\", \"allocate\", \"freeMemory\", \"allocate\", \"freeMemory\"]\n",
        "[[10], [1, 1], [1, 2], [1, 3], [2], [3, 4], [1, 1], [1, 1], [1], [10, 2], [7]]\n",
        "Output\n",
        "[null, 0, 1, 2, 1, 3, 1, 6, 3, -1, 0]\n",
        "\n",
        "Explanation\n",
        "Allocator loc = new Allocator(10); // Initialize a memory array of size 10. All memory units are initially free.\n",
        "loc.allocate(1, 1); // The leftmost block's first index is 0. The memory array becomes [1,_,_,_,_,_,_,_,_,_]. We return 0.\n",
        "loc.allocate(1, 2); // The leftmost block's first index is 1. The memory array becomes [1,2,_,_,_,_,_,_,_,_]. We return 1.\n",
        "loc.allocate(1, 3); // The leftmost block's first index is 2. The memory array becomes [1,2,3,_,_,_,_,_,_,_]. We return 2.\n",
        "loc.freeMemory(2); // Free all memory units with mID 2. The memory array becomes [1,_, 3,_,_,_,_,_,_,_]. We return 1 since there is only 1 unit with mID 2.\n",
        "loc.allocate(3, 4); // The leftmost block's first index is 3. The memory array becomes [1,_,3,4,4,4,_,_,_,_]. We return 3.\n",
        "loc.allocate(1, 1); // The leftmost block's first index is 1. The memory array becomes [1,1,3,4,4,4,_,_,_,_]. We return 1.\n",
        "loc.allocate(1, 1); // The leftmost block's first index is 6. The memory array becomes [1,1,3,4,4,4,1,_,_,_]. We return 6.\n",
        "loc.freeMemory(1); // Free all memory units with mID 1. The memory array becomes [_,_,3,4,4,4,_,_,_,_]. We return 3 since there are 3 units with mID 1.\n",
        "loc.allocate(10, 2); // We can not find any free block with 10 consecutive free memory units, so we return -1.\n",
        "loc.freeMemory(7); // Free all memory units with mID 7. The memory array remains the same since there is no memory unit with mID 7. We return 0.\n",
        " \n",
        "\n",
        "Constraints:\n",
        "\n",
        "1 <= n, size, mID <= 1000\n",
        "At most 1000 calls will be made to allocate and freeMemory."
      ]
    }
  ],
  "metadata": {
    "language_info": {
      "name": "python"
    }
  },
  "nbformat": 4,
  "nbformat_minor": 5
}
