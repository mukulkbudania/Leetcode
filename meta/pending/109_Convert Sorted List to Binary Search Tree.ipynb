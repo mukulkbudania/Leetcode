{
  "cells": [
    {
      "cell_type": "markdown",
      "id": "d4fd19ef",
      "metadata": {},
      "source": [
        "Given the head of a singly linked list where elements are sorted in ascending order, convert it to a height-balanced binary search tree.\n",
        "\n",
        " \n",
        "\n",
        "Example 1:\n",
        "\n",
        "\n",
        "Input: head = [-10,-3,0,5,9]\n",
        "Output: [0,-3,9,-10,null,5]\n",
        "Explanation: One possible answer is [0,-3,9,-10,null,5], which represents the shown height balanced BST.\n",
        "Example 2:\n",
        "\n",
        "Input: head = []\n",
        "Output: []\n",
        " \n",
        "\n",
        "Constraints:\n",
        "\n",
        "The number of nodes in head is in the range [0, 2 * 104].\n",
        "-105 <= Node.val <= 105"
      ]
    }
  ],
  "metadata": {
    "language_info": {
      "name": "python"
    }
  },
  "nbformat": 4,
  "nbformat_minor": 5
}
