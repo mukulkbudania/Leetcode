{
 "cells": [
  {
   "cell_type": "markdown",
   "id": "d0e8523a",
   "metadata": {},
   "source": [
    "# 77. Combinations"
   ]
  },
  {
   "cell_type": "markdown",
   "id": "099103ec",
   "metadata": {},
   "source": [
    "Given two integers n and k, return all possible combinations of k numbers chosen from the range [1, n].\n",
    "\n",
    "\n",
    "\n",
    "You may return the answer in any order.\n",
    "\n",
    "\n",
    "\n",
    " \n",
    "\n",
    "\n",
    "\n",
    "**Example 1:**\n",
    "\n",
    "\n",
    "\n",
    "Input: n = 4, k = 2\n",
    "\n",
    "Output: [[1,2],[1,3],[1,4],[2,3],[2,4],[3,4]]\n",
    "\n",
    "Explanation: There are 4 choose 2 = 6 total combinations.\n",
    "\n",
    "Note that combinations are unordered, i.e., [1,2] and [2,1] are considered to be the same combination.\n",
    "\n",
    "**Example 2:**\n",
    "\n",
    "\n",
    "\n",
    "Input: n = 1, k = 1\n",
    "\n",
    "Output: [[1]]\n",
    "\n",
    "Explanation: There is 1 choose 1 = 1 total combination.\n",
    "\n",
    " \n",
    "\n",
    "\n",
    "\n",
    "**Constraints:**\n",
    "\n",
    "\n",
    "\n",
    "1 <= n <= 20\n",
    "\n",
    "1 <= k <= n"
   ]
  }
 ],
 "metadata": {
  "language_info": {
   "name": "python"
  }
 },
 "nbformat": 4,
 "nbformat_minor": 5
}
