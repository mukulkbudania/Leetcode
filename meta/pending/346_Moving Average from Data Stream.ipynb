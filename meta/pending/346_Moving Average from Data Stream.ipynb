{
 "cells": [
  {
   "cell_type": "markdown",
   "id": "1fc41ed6",
   "metadata": {},
   "source": [
    "# 346. Moving Average from Data Stream"
   ]
  },
  {
   "cell_type": "markdown",
   "id": "d75799af",
   "metadata": {},
   "source": [
    "Given a stream of integers and a window size, calculate the moving average of all integers in the sliding window.\n",
    "\n",
    "\n",
    "\n",
    "Implement the MovingAverage class:\n",
    "\n",
    "\n",
    "\n",
    "MovingAverage(int size) Initializes the object with the size of the window size.\n",
    "\n",
    "double next(int val) Returns the moving average of the last size values of the stream.\n",
    "\n",
    " \n",
    "\n",
    "\n",
    "\n",
    "**Example 1:**\n",
    "\n",
    "\n",
    "\n",
    "Input\n",
    "\n",
    "[\"MovingAverage\", \"next\", \"next\", \"next\", \"next\"]\n",
    "\n",
    "[[3], [1], [10], [3], [5]]\n",
    "\n",
    "Output\n",
    "\n",
    "[null, 1.0, 5.5, 4.66667, 6.0]\n",
    "\n",
    "\n",
    "\n",
    "Explanation\n",
    "\n",
    "MovingAverage movingAverage = new MovingAverage(3);\n",
    "\n",
    "movingAverage.next(1); // return 1.0 = 1 / 1\n",
    "\n",
    "movingAverage.next(10); // return 5.5 = (1 + 10) / 2\n",
    "\n",
    "movingAverage.next(3); // return 4.66667 = (1 + 10 + 3) / 3\n",
    "\n",
    "movingAverage.next(5); // return 6.0 = (10 + 3 + 5) / 3\n",
    "\n",
    " \n",
    "\n",
    "\n",
    "\n",
    "**Constraints:**\n",
    "\n",
    "\n",
    "\n",
    "1 <= size <= 1000\n",
    "\n",
    "-105 <= val <= 105\n",
    "\n",
    "At most 104 calls will be made to next."
   ]
  }
 ],
 "metadata": {
  "language_info": {
   "name": "python"
  }
 },
 "nbformat": 4,
 "nbformat_minor": 5
}
