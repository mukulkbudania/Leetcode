{
  "cells": [
    {
      "cell_type": "markdown",
      "id": "d75799af",
      "metadata": {},
      "source": [
        "Given a stream of integers and a window size, calculate the moving average of all integers in the sliding window.\n",
        "\n",
        "Implement the MovingAverage class:\n",
        "\n",
        "MovingAverage(int size) Initializes the object with the size of the window size.\n",
        "double next(int val) Returns the moving average of the last size values of the stream.\n",
        " \n",
        "\n",
        "Example 1:\n",
        "\n",
        "Input\n",
        "[\"MovingAverage\", \"next\", \"next\", \"next\", \"next\"]\n",
        "[[3], [1], [10], [3], [5]]\n",
        "Output\n",
        "[null, 1.0, 5.5, 4.66667, 6.0]\n",
        "\n",
        "Explanation\n",
        "MovingAverage movingAverage = new MovingAverage(3);\n",
        "movingAverage.next(1); // return 1.0 = 1 / 1\n",
        "movingAverage.next(10); // return 5.5 = (1 + 10) / 2\n",
        "movingAverage.next(3); // return 4.66667 = (1 + 10 + 3) / 3\n",
        "movingAverage.next(5); // return 6.0 = (10 + 3 + 5) / 3\n",
        " \n",
        "\n",
        "Constraints:\n",
        "\n",
        "1 <= size <= 1000\n",
        "-105 <= val <= 105\n",
        "At most 104 calls will be made to next."
      ]
    }
  ],
  "metadata": {
    "language_info": {
      "name": "python"
    }
  },
  "nbformat": 4,
  "nbformat_minor": 5
}
