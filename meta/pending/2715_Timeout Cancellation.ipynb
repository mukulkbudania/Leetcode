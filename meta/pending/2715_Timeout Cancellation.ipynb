{
  "cells": [
    {
      "cell_type": "markdown",
      "id": "d124d973",
      "metadata": {},
      "source": [
        "Given a function fn, an array of arguments args, and a timeout t in milliseconds, return a cancel function cancelFn.\n",
        "\n",
        "After a delay of cancelTimeMs, the returned cancel function cancelFn will be invoked.\n",
        "\n",
        "setTimeout(cancelFn, cancelTimeMs)\n",
        "Initially, the execution of the function fn should be delayed by t milliseconds.\n",
        "\n",
        "If, before the delay of t milliseconds, the function cancelFn is invoked, it should cancel the delayed execution of fn. Otherwise, if cancelFn is not invoked within the specified delay t, fn should be executed with the provided args as arguments.\n",
        "\n",
        " \n",
        "\n",
        "Example 1:\n",
        "\n",
        "Input: fn = (x) => x * 5, args = [2], t = 20\n",
        "Output: [{\"time\": 20, \"returned\": 10}]\n",
        "Explanation: \n",
        "const cancelTimeMs = 50;\n",
        "const cancelFn = cancellable((x) => x * 5, [2], 20);\n",
        "setTimeout(cancelFn, cancelTimeMs);\n",
        "\n",
        "The cancellation was scheduled to occur after a delay of cancelTimeMs (50ms), which happened after the execution of fn(2) at 20ms.\n",
        "Example 2:\n",
        "\n",
        "Input: fn = (x) => x**2, args = [2], t = 100\n",
        "Output: []\n",
        "Explanation: \n",
        "const cancelTimeMs = 50;\n",
        "const cancelFn = cancellable((x) => x**2, [2], 100);\n",
        "setTimeout(cancelFn, cancelTimeMs);\n",
        "\n",
        "The cancellation was scheduled to occur after a delay of cancelTimeMs (50ms), which happened before the execution of fn(2) at 100ms, resulting in fn(2) never being called.\n",
        "Example 3:\n",
        "\n",
        "Input: fn = (x1, x2) => x1 * x2, args = [2,4], t = 30\n",
        "Output: [{\"time\": 30, \"returned\": 8}]\n",
        "Explanation: \n",
        "const cancelTimeMs = 100;\n",
        "const cancelFn = cancellable((x1, x2) => x1 * x2, [2,4], 30);\n",
        "setTimeout(cancelFn, cancelTimeMs);\n",
        "\n",
        "The cancellation was scheduled to occur after a delay of cancelTimeMs (100ms), which happened after the execution of fn(2,4) at 30ms.\n",
        " \n",
        "\n",
        "Constraints:\n",
        "\n",
        "fn is a function\n",
        "args is a valid JSON array\n",
        "1 <= args.length <= 10\n",
        "20 <= t <= 1000\n",
        "10 <= cancelTimeMs <= 1000\n"
      ]
    }
  ],
  "metadata": {
    "language_info": {
      "name": "python"
    }
  },
  "nbformat": 4,
  "nbformat_minor": 5
}
