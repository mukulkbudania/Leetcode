{
  "cells": [
    {
      "cell_type": "markdown",
      "id": "b0618e8d",
      "metadata": {},
      "source": [
        "A k-mirror number is a positive integer without leading zeros that reads the same both forward and backward in base-10 as well as in base-k.\n",
        "\n",
        "For example, 9 is a 2-mirror number. The representation of 9 in base-10 and base-2 are 9 and 1001 respectively, which read the same both forward and backward.\n",
        "On the contrary, 4 is not a 2-mirror number. The representation of 4 in base-2 is 100, which does not read the same both forward and backward.\n",
        "Given the base k and the number n, return the sum of the n smallest k-mirror numbers.\n",
        "\n",
        " \n",
        "\n",
        "Example 1:\n",
        "\n",
        "Input: k = 2, n = 5\n",
        "Output: 25\n",
        "Explanation:\n",
        "The 5 smallest 2-mirror numbers and their representations in base-2 are listed as follows:\n",
        "  base-10    base-2\n",
        "    1          1\n",
        "    3          11\n",
        "    5          101\n",
        "    7          111\n",
        "    9          1001\n",
        "Their sum = 1 + 3 + 5 + 7 + 9 = 25. \n",
        "Example 2:\n",
        "\n",
        "Input: k = 3, n = 7\n",
        "Output: 499\n",
        "Explanation:\n",
        "The 7 smallest 3-mirror numbers are and their representations in base-3 are listed as follows:\n",
        "  base-10    base-3\n",
        "    1          1\n",
        "    2          2\n",
        "    4          11\n",
        "    8          22\n",
        "    121        11111\n",
        "    151        12121\n",
        "    212        21212\n",
        "Their sum = 1 + 2 + 4 + 8 + 121 + 151 + 212 = 499.\n",
        "Example 3:\n",
        "\n",
        "Input: k = 7, n = 17\n",
        "Output: 20379000\n",
        "Explanation: The 17 smallest 7-mirror numbers are:\n",
        "1, 2, 3, 4, 5, 6, 8, 121, 171, 242, 292, 16561, 65656, 2137312, 4602064, 6597956, 6958596\n",
        " \n",
        "\n",
        "Constraints:\n",
        "\n",
        "2 <= k <= 9\n",
        "1 <= n <= 30"
      ]
    }
  ],
  "metadata": {
    "language_info": {
      "name": "python"
    }
  },
  "nbformat": 4,
  "nbformat_minor": 5
}
