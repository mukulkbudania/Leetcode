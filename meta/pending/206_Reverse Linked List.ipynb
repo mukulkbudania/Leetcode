{
  "cells": [
    {
      "cell_type": "markdown",
      "id": "bce46cda",
      "metadata": {},
      "source": [
        "Given the head of a singly linked list, reverse the list, and return the reversed list.\n",
        "\n",
        " \n",
        "\n",
        "Example 1:\n",
        "\n",
        "\n",
        "Input: head = [1,2,3,4,5]\n",
        "Output: [5,4,3,2,1]\n",
        "Example 2:\n",
        "\n",
        "\n",
        "Input: head = [1,2]\n",
        "Output: [2,1]\n",
        "Example 3:\n",
        "\n",
        "Input: head = []\n",
        "Output: []\n",
        " \n",
        "\n",
        "Constraints:\n",
        "\n",
        "The number of nodes in the list is the range [0, 5000].\n",
        "-5000 <= Node.val <= 5000\n",
        " \n",
        "\n",
        "Follow up: A linked list can be reversed either iteratively or recursively. Could you implement both?"
      ]
    }
  ],
  "metadata": {
    "language_info": {
      "name": "python"
    }
  },
  "nbformat": 4,
  "nbformat_minor": 5
}
