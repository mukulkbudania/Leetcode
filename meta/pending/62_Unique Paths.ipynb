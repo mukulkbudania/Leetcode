{
  "cells": [
    {
      "cell_type": "markdown",
      "id": "4e1a5270",
      "metadata": {},
      "source": [
        "There is a robot on an m x n grid. The robot is initially located at the top-left corner (i.e., grid[0][0]). The robot tries to move to the bottom-right corner (i.e., grid[m - 1][n - 1]). The robot can only move either down or right at any point in time.\n",
        "\n",
        "Given the two integers m and n, return the number of possible unique paths that the robot can take to reach the bottom-right corner.\n",
        "\n",
        "The test cases are generated so that the answer will be less than or equal to 2 * 109.\n",
        "\n",
        " \n",
        "\n",
        "Example 1:\n",
        "\n",
        "\n",
        "Input: m = 3, n = 7\n",
        "Output: 28\n",
        "Example 2:\n",
        "\n",
        "Input: m = 3, n = 2\n",
        "Output: 3\n",
        "Explanation: From the top-left corner, there are a total of 3 ways to reach the bottom-right corner:\n",
        "1. Right -> Down -> Down\n",
        "2. Down -> Down -> Right\n",
        "3. Down -> Right -> Down\n",
        " \n",
        "\n",
        "Constraints:\n",
        "\n",
        "1 <= m, n <= 100"
      ]
    }
  ],
  "metadata": {
    "language_info": {
      "name": "python"
    }
  },
  "nbformat": 4,
  "nbformat_minor": 5
}
