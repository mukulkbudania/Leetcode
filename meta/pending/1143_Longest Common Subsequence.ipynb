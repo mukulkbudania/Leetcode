{
 "cells": [
  {
   "cell_type": "markdown",
   "id": "a05442f3",
   "metadata": {},
   "source": [
    "# 1143. Longest Common Subsequence"
   ]
  },
  {
   "cell_type": "markdown",
   "id": "4d591ee7",
   "metadata": {},
   "source": [
    "Given two strings text1 and text2, return the length of their longest common subsequence. If there is no common subsequence, return 0.\n",
    "\n",
    "\n",
    "\n",
    "A subsequence of a string is a new string generated from the original string with some characters (can be none) deleted without changing the relative order of the remaining characters.\n",
    "\n",
    "\n",
    "\n",
    "For example, \"ace\" is a subsequence of \"abcde\".\n",
    "\n",
    "A common subsequence of two strings is a subsequence that is common to both strings.\n",
    "\n",
    "\n",
    "\n",
    " \n",
    "\n",
    "\n",
    "\n",
    "**Example 1:**\n",
    "\n",
    "\n",
    "\n",
    "Input: text1 = \"abcde\", text2 = \"ace\" \n",
    "\n",
    "Output: 3  \n",
    "\n",
    "Explanation: The longest common subsequence is \"ace\" and its length is 3.\n",
    "\n",
    "**Example 2:**\n",
    "\n",
    "\n",
    "\n",
    "Input: text1 = \"abc\", text2 = \"abc\"\n",
    "\n",
    "Output: 3\n",
    "\n",
    "Explanation: The longest common subsequence is \"abc\" and its length is 3.\n",
    "\n",
    "**Example 3:**\n",
    "\n",
    "\n",
    "\n",
    "Input: text1 = \"abc\", text2 = \"def\"\n",
    "\n",
    "Output: 0\n",
    "\n",
    "Explanation: There is no such common subsequence, so the result is 0.\n",
    "\n",
    " \n",
    "\n",
    "\n",
    "\n",
    "**Constraints:**\n",
    "\n",
    "\n",
    "\n",
    "1 <= text1.length, text2.length <= 1000\n",
    "\n",
    "text1 and text2 consist of only lowercase English characters."
   ]
  }
 ],
 "metadata": {
  "language_info": {
   "name": "python"
  }
 },
 "nbformat": 4,
 "nbformat_minor": 5
}
