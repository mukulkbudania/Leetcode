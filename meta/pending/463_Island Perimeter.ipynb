{
  "cells": [
    {
      "cell_type": "markdown",
      "id": "b43a8489",
      "metadata": {},
      "source": [
        "You are given row x col grid representing a map where grid[i][j] = 1 represents land and grid[i][j] = 0 represents water.\n",
        "\n",
        "Grid cells are connected horizontally/vertically (not diagonally). The grid is completely surrounded by water, and there is exactly one island (i.e., one or more connected land cells).\n",
        "\n",
        "The island doesn't have \"lakes\", meaning the water inside isn't connected to the water around the island. One cell is a square with side length 1. The grid is rectangular, width and height don't exceed 100. Determine the perimeter of the island.\n",
        "\n",
        " \n",
        "\n",
        "Example 1:\n",
        "\n",
        "\n",
        "Input: grid = [[0,1,0,0],[1,1,1,0],[0,1,0,0],[1,1,0,0]]\n",
        "Output: 16\n",
        "Explanation: The perimeter is the 16 yellow stripes in the image above.\n",
        "Example 2:\n",
        "\n",
        "Input: grid = [[1]]\n",
        "Output: 4\n",
        "Example 3:\n",
        "\n",
        "Input: grid = [[1,0]]\n",
        "Output: 4\n",
        " \n",
        "\n",
        "Constraints:\n",
        "\n",
        "row == grid.length\n",
        "col == grid[i].length\n",
        "1 <= row, col <= 100\n",
        "grid[i][j] is 0 or 1.\n",
        "There is exactly one island in grid."
      ]
    }
  ],
  "metadata": {
    "language_info": {
      "name": "python"
    }
  },
  "nbformat": 4,
  "nbformat_minor": 5
}
