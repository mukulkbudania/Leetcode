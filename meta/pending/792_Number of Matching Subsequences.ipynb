{
  "cells": [
    {
      "cell_type": "markdown",
      "id": "21fc0c20",
      "metadata": {},
      "source": [
        "Given a string s and an array of strings words, return the number of words[i] that is a subsequence of s.\n",
        "\n",
        "A subsequence of a string is a new string generated from the original string with some characters (can be none) deleted without changing the relative order of the remaining characters.\n",
        "\n",
        "For example, \"ace\" is a subsequence of \"abcde\".\n",
        " \n",
        "\n",
        "Example 1:\n",
        "\n",
        "Input: s = \"abcde\", words = [\"a\",\"bb\",\"acd\",\"ace\"]\n",
        "Output: 3\n",
        "Explanation: There are three strings in words that are a subsequence of s: \"a\", \"acd\", \"ace\".\n",
        "Example 2:\n",
        "\n",
        "Input: s = \"dsahjpjauf\", words = [\"ahjpjau\",\"ja\",\"ahbwzgqnuk\",\"tnmlanowax\"]\n",
        "Output: 2\n",
        " \n",
        "\n",
        "Constraints:\n",
        "\n",
        "1 <= s.length <= 5 * 104\n",
        "1 <= words.length <= 5000\n",
        "1 <= words[i].length <= 50\n",
        "s and words[i] consist of only lowercase English letters."
      ]
    }
  ],
  "metadata": {
    "language_info": {
      "name": "python"
    }
  },
  "nbformat": 4,
  "nbformat_minor": 5
}
