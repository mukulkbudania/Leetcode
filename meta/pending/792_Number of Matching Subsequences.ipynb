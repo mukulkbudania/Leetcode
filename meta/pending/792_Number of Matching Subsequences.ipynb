{
 "cells": [
  {
   "cell_type": "markdown",
   "id": "556b9b0f",
   "metadata": {},
   "source": [
    "# 792. Number of Matching Subsequences"
   ]
  },
  {
   "cell_type": "markdown",
   "id": "21fc0c20",
   "metadata": {},
   "source": [
    "Given a string s and an array of strings words, return the number of words[i] that is a subsequence of s.\n",
    "\n",
    "\n",
    "\n",
    "A subsequence of a string is a new string generated from the original string with some characters (can be none) deleted without changing the relative order of the remaining characters.\n",
    "\n",
    "\n",
    "\n",
    "For example, \"ace\" is a subsequence of \"abcde\".\n",
    "\n",
    " \n",
    "\n",
    "\n",
    "\n",
    "**Example 1:**\n",
    "\n",
    "\n",
    "\n",
    "Input: s = \"abcde\", words = [\"a\",\"bb\",\"acd\",\"ace\"]\n",
    "\n",
    "Output: 3\n",
    "\n",
    "Explanation: There are three strings in words that are a subsequence of s: \"a\", \"acd\", \"ace\".\n",
    "\n",
    "**Example 2:**\n",
    "\n",
    "\n",
    "\n",
    "Input: s = \"dsahjpjauf\", words = [\"ahjpjau\",\"ja\",\"ahbwzgqnuk\",\"tnmlanowax\"]\n",
    "\n",
    "Output: 2\n",
    "\n",
    " \n",
    "\n",
    "\n",
    "\n",
    "**Constraints:**\n",
    "\n",
    "\n",
    "\n",
    "1 <= s.length <= 5 * 104\n",
    "\n",
    "1 <= words.length <= 5000\n",
    "\n",
    "1 <= words[i].length <= 50\n",
    "\n",
    "s and words[i] consist of only lowercase English letters."
   ]
  }
 ],
 "metadata": {
  "language_info": {
   "name": "python"
  }
 },
 "nbformat": 4,
 "nbformat_minor": 5
}
