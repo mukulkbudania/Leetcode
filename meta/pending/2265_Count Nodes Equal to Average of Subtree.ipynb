{
 "cells": [
  {
   "cell_type": "markdown",
   "id": "40a38fd4",
   "metadata": {},
   "source": [
    "# 2265. Count Nodes Equal to Average of Subtree"
   ]
  },
  {
   "cell_type": "markdown",
   "id": "1e21489a",
   "metadata": {},
   "source": [
    "Given the root of a binary tree, return the number of nodes where the value of the node is equal to the average of the values in its subtree.\n",
    "\n",
    "\n",
    "\n",
    "Note:\n",
    "\n",
    "\n",
    "\n",
    "The average of n elements is the sum of the n elements divided by n and rounded down to the nearest integer.\n",
    "\n",
    "A subtree of root is a tree consisting of root and all of its descendants.\n",
    "\n",
    " \n",
    "\n",
    "\n",
    "\n",
    "**Example 1:**\n",
    "\n",
    "\n",
    "\n",
    "\n",
    "\n",
    "Input: root = [4,8,5,0,1,null,6]\n",
    "\n",
    "Output: 5\n",
    "\n",
    "Explanation: \n",
    "\n",
    "For the node with value 4: The average of its subtree is (4 + 8 + 5 + 0 + 1 + 6) / 6 = 24 / 6 = 4.\n",
    "\n",
    "For the node with value 5: The average of its subtree is (5 + 6) / 2 = 11 / 2 = 5.\n",
    "\n",
    "For the node with value 0: The average of its subtree is 0 / 1 = 0.\n",
    "\n",
    "For the node with value 1: The average of its subtree is 1 / 1 = 1.\n",
    "\n",
    "For the node with value 6: The average of its subtree is 6 / 1 = 6.\n",
    "\n",
    "**Example 2:**\n",
    "\n",
    "\n",
    "\n",
    "\n",
    "\n",
    "Input: root = [1]\n",
    "\n",
    "Output: 1\n",
    "\n",
    "Explanation: For the node with value 1: The average of its subtree is 1 / 1 = 1.\n",
    "\n",
    " \n",
    "\n",
    "\n",
    "\n",
    "**Constraints:**\n",
    "\n",
    "\n",
    "\n",
    "The number of nodes in the tree is in the range [1, 1000].\n",
    "\n",
    "0 <= Node.val <= 1000"
   ]
  }
 ],
 "metadata": {
  "language_info": {
   "name": "python"
  }
 },
 "nbformat": 4,
 "nbformat_minor": 5
}
