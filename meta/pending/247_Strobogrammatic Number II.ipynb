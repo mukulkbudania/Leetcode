{
 "cells": [
  {
   "cell_type": "markdown",
   "id": "370ad6f6",
   "metadata": {},
   "source": [
    "# 247. Strobogrammatic Number II"
   ]
  },
  {
   "cell_type": "markdown",
   "id": "fce56925",
   "metadata": {},
   "source": [
    "Given an integer n, return all the strobogrammatic numbers that are of length n. You may return the answer in any order.\n",
    "\n",
    "\n",
    "\n",
    "A strobogrammatic number is a number that looks the same when rotated 180 degrees (looked at upside down).\n",
    "\n",
    "\n",
    "\n",
    " \n",
    "\n",
    "\n",
    "\n",
    "**Example 1:**\n",
    "\n",
    "\n",
    "\n",
    "Input: n = 2\n",
    "\n",
    "Output: [\"11\",\"69\",\"88\",\"96\"]\n",
    "\n",
    "**Example 2:**\n",
    "\n",
    "\n",
    "\n",
    "Input: n = 1\n",
    "\n",
    "Output: [\"0\",\"1\",\"8\"]\n",
    "\n",
    " \n",
    "\n",
    "\n",
    "\n",
    "**Constraints:**\n",
    "\n",
    "\n",
    "\n",
    "1 <= n <= 14"
   ]
  }
 ],
 "metadata": {
  "language_info": {
   "name": "python"
  }
 },
 "nbformat": 4,
 "nbformat_minor": 5
}
