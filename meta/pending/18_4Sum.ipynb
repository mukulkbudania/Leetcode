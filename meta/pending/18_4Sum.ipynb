{
  "cells": [
    {
      "cell_type": "markdown",
      "id": "b8a1e701",
      "metadata": {},
      "source": [
        "Given an array nums of n integers, return an array of all the unique quadruplets [nums[a], nums[b], nums[c], nums[d]] such that:\n",
        "\n",
        "0 <= a, b, c, d < n\n",
        "a, b, c, and d are distinct.\n",
        "nums[a] + nums[b] + nums[c] + nums[d] == target\n",
        "You may return the answer in any order.\n",
        "\n",
        " \n",
        "\n",
        "Example 1:\n",
        "\n",
        "Input: nums = [1,0,-1,0,-2,2], target = 0\n",
        "Output: [[-2,-1,1,2],[-2,0,0,2],[-1,0,0,1]]\n",
        "Example 2:\n",
        "\n",
        "Input: nums = [2,2,2,2,2], target = 8\n",
        "Output: [[2,2,2,2]]\n",
        " \n",
        "\n",
        "Constraints:\n",
        "\n",
        "1 <= nums.length <= 200\n",
        "-109 <= nums[i] <= 109\n",
        "-109 <= target <= 109"
      ]
    }
  ],
  "metadata": {
    "language_info": {
      "name": "python"
    }
  },
  "nbformat": 4,
  "nbformat_minor": 5
}
