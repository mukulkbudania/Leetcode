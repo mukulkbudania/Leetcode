{
 "cells": [
  {
   "cell_type": "markdown",
   "id": "5a7fa6ce",
   "metadata": {},
   "source": [
    "# 1931. Painting a Grid With Three Different Colors"
   ]
  },
  {
   "cell_type": "markdown",
   "id": "33a92126",
   "metadata": {},
   "source": [
    "You are given two integers m and n. Consider an m x n grid where each cell is initially white. You can paint each cell red, green, or blue. All cells must be painted.\n",
    "\n",
    "\n",
    "\n",
    "Return the number of ways to color the grid with no two adjacent cells having the same color. Since the answer can be very large, return it modulo 109 + 7.\n",
    "\n",
    "\n",
    "\n",
    " \n",
    "\n",
    "\n",
    "\n",
    "**Example 1:**\n",
    "\n",
    "\n",
    "\n",
    "\n",
    "\n",
    "Input: m = 1, n = 1\n",
    "\n",
    "Output: 3\n",
    "\n",
    "Explanation: The three possible colorings are shown in the image above.\n",
    "\n",
    "**Example 2:**\n",
    "\n",
    "\n",
    "\n",
    "\n",
    "\n",
    "Input: m = 1, n = 2\n",
    "\n",
    "Output: 6\n",
    "\n",
    "Explanation: The six possible colorings are shown in the image above.\n",
    "\n",
    "**Example 3:**\n",
    "\n",
    "\n",
    "\n",
    "Input: m = 5, n = 5\n",
    "\n",
    "Output: 580986\n",
    "\n",
    " \n",
    "\n",
    "\n",
    "\n",
    "**Constraints:**\n",
    "\n",
    "\n",
    "\n",
    "1 <= m <= 5\n",
    "\n",
    "1 <= n <= 1000"
   ]
  }
 ],
 "metadata": {
  "language_info": {
   "name": "python"
  }
 },
 "nbformat": 4,
 "nbformat_minor": 5
}
