{
  "cells": [
    {
      "cell_type": "markdown",
      "id": "072d337e",
      "metadata": {},
      "source": [
        "Given an array of integers nums and an integer k, return the number of contiguous subarrays where the product of all the elements in the subarray is strictly less than k.\n",
        "\n",
        " \n",
        "\n",
        "Example 1:\n",
        "\n",
        "Input: nums = [10,5,2,6], k = 100\n",
        "Output: 8\n",
        "Explanation: The 8 subarrays that have product less than 100 are:\n",
        "[10], [5], [2], [6], [10, 5], [5, 2], [2, 6], [5, 2, 6]\n",
        "Note that [10, 5, 2] is not included as the product of 100 is not strictly less than k.\n",
        "Example 2:\n",
        "\n",
        "Input: nums = [1,2,3], k = 0\n",
        "Output: 0\n",
        " \n",
        "\n",
        "Constraints:\n",
        "\n",
        "1 <= nums.length <= 3 * 104\n",
        "1 <= nums[i] <= 1000\n",
        "0 <= k <= 106"
      ]
    }
  ],
  "metadata": {
    "language_info": {
      "name": "python"
    }
  },
  "nbformat": 4,
  "nbformat_minor": 5
}
