{
  "cells": [
    {
      "cell_type": "markdown",
      "id": "af3433bc",
      "metadata": {},
      "source": [
        "Given a positive integer n, find the smallest integer which has exactly the same digits existing in the integer n and is greater in value than n. If no such positive integer exists, return -1.\n",
        "\n",
        "Note that the returned integer should fit in 32-bit integer, if there is a valid answer but it does not fit in 32-bit integer, return -1.\n",
        "\n",
        " \n",
        "\n",
        "Example 1:\n",
        "\n",
        "Input: n = 12\n",
        "Output: 21\n",
        "Example 2:\n",
        "\n",
        "Input: n = 21\n",
        "Output: -1\n",
        " \n",
        "\n",
        "Constraints:\n",
        "\n",
        "1 <= n <= 231 - 1"
      ]
    }
  ],
  "metadata": {
    "language_info": {
      "name": "python"
    }
  },
  "nbformat": 4,
  "nbformat_minor": 5
}
