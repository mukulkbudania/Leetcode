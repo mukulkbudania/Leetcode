{
  "cells": [
    {
      "cell_type": "markdown",
      "id": "865de887",
      "metadata": {},
      "source": [
        "You are given an m x n grid where each cell can have one of three values:\n",
        "\n",
        "0 representing an empty cell,\n",
        "1 representing a fresh orange, or\n",
        "2 representing a rotten orange.\n",
        "Every minute, any fresh orange that is 4-directionally adjacent to a rotten orange becomes rotten.\n",
        "\n",
        "Return the minimum number of minutes that must elapse until no cell has a fresh orange. If this is impossible, return -1.\n",
        "\n",
        " \n",
        "\n",
        "Example 1:\n",
        "\n",
        "\n",
        "Input: grid = [[2,1,1],[1,1,0],[0,1,1]]\n",
        "Output: 4\n",
        "Example 2:\n",
        "\n",
        "Input: grid = [[2,1,1],[0,1,1],[1,0,1]]\n",
        "Output: -1\n",
        "Explanation: The orange in the bottom left corner (row 2, column 0) is never rotten, because rotting only happens 4-directionally.\n",
        "Example 3:\n",
        "\n",
        "Input: grid = [[0,2]]\n",
        "Output: 0\n",
        "Explanation: Since there are already no fresh oranges at minute 0, the answer is just 0.\n",
        " \n",
        "\n",
        "Constraints:\n",
        "\n",
        "m == grid.length\n",
        "n == grid[i].length\n",
        "1 <= m, n <= 10\n",
        "grid[i][j] is 0, 1, or 2."
      ]
    }
  ],
  "metadata": {
    "language_info": {
      "name": "python"
    }
  },
  "nbformat": 4,
  "nbformat_minor": 5
}
