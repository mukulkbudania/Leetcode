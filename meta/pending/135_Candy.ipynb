{
 "cells": [
  {
   "cell_type": "markdown",
   "id": "a918f936",
   "metadata": {},
   "source": [
    "# 135. Candy"
   ]
  },
  {
   "cell_type": "markdown",
   "id": "a399b734",
   "metadata": {},
   "source": [
    "There are n children standing in a line. Each child is assigned a rating value given in the integer array ratings.\n",
    "\n",
    "\n",
    "\n",
    "You are giving candies to these children subjected to the following requirements:\n",
    "\n",
    "\n",
    "\n",
    "Each child must have at least one candy.\n",
    "\n",
    "Children with a higher rating get more candies than their neighbors.\n",
    "\n",
    "Return the minimum number of candies you need to have to distribute the candies to the children.\n",
    "\n",
    "\n",
    "\n",
    " \n",
    "\n",
    "\n",
    "\n",
    "**Example 1:**\n",
    "\n",
    "\n",
    "\n",
    "Input: ratings = [1,0,2]\n",
    "\n",
    "Output: 5\n",
    "\n",
    "Explanation: You can allocate to the first, second and third child with 2, 1, 2 candies respectively.\n",
    "\n",
    "**Example 2:**\n",
    "\n",
    "\n",
    "\n",
    "Input: ratings = [1,2,2]\n",
    "\n",
    "Output: 4\n",
    "\n",
    "Explanation: You can allocate to the first, second and third child with 1, 2, 1 candies respectively.\n",
    "\n",
    "The third child gets 1 candy because it satisfies the above two conditions.\n",
    "\n",
    " \n",
    "\n",
    "\n",
    "\n",
    "**Constraints:**\n",
    "\n",
    "\n",
    "\n",
    "n == ratings.length\n",
    "\n",
    "1 <= n <= 2 * 104\n",
    "\n",
    "0 <= ratings[i] <= 2 * 104"
   ]
  }
 ],
 "metadata": {
  "language_info": {
   "name": "python"
  }
 },
 "nbformat": 4,
 "nbformat_minor": 5
}
