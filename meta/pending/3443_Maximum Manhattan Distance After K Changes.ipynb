{
  "cells": [
    {
      "cell_type": "markdown",
      "id": "7ee8d7d5",
      "metadata": {},
      "source": [
        "You are given a string s consisting of the characters 'N', 'S', 'E', and 'W', where s[i] indicates movements in an infinite grid:\n",
        "\n",
        "'N' : Move north by 1 unit.\n",
        "'S' : Move south by 1 unit.\n",
        "'E' : Move east by 1 unit.\n",
        "'W' : Move west by 1 unit.\n",
        "Initially, you are at the origin (0, 0). You can change at most k characters to any of the four directions.\n",
        "\n",
        "Find the maximum Manhattan distance from the origin that can be achieved at any time while performing the movements in order.\n",
        "\n",
        "The Manhattan Distance between two cells (xi, yi) and (xj, yj) is |xi - xj| + |yi - yj|.\n",
        " \n",
        "\n",
        "Example 1:\n",
        "\n",
        "Input: s = \"NWSE\", k = 1\n",
        "\n",
        "Output: 3\n",
        "\n",
        "Explanation:\n",
        "\n",
        "Change s[2] from 'S' to 'N'. The string s becomes \"NWNE\".\n",
        "\n",
        "Movement\tPosition (x, y)\tManhattan Distance\tMaximum\n",
        "s[0] == 'N'\t(0, 1)\t0 + 1 = 1\t1\n",
        "s[1] == 'W'\t(-1, 1)\t1 + 1 = 2\t2\n",
        "s[2] == 'N'\t(-1, 2)\t1 + 2 = 3\t3\n",
        "s[3] == 'E'\t(0, 2)\t0 + 2 = 2\t3\n",
        "The maximum Manhattan distance from the origin that can be achieved is 3. Hence, 3 is the output.\n",
        "\n",
        "Example 2:\n",
        "\n",
        "Input: s = \"NSWWEW\", k = 3\n",
        "\n",
        "Output: 6\n",
        "\n",
        "Explanation:\n",
        "\n",
        "Change s[1] from 'S' to 'N', and s[4] from 'E' to 'W'. The string s becomes \"NNWWWW\".\n",
        "\n",
        "The maximum Manhattan distance from the origin that can be achieved is 6. Hence, 6 is the output.\n",
        "\n",
        " \n",
        "\n",
        "Constraints:\n",
        "\n",
        "1 <= s.length <= 105\n",
        "0 <= k <= s.length\n",
        "s consists of only 'N', 'S', 'E', and 'W'."
      ]
    }
  ],
  "metadata": {
    "language_info": {
      "name": "python"
    }
  },
  "nbformat": 4,
  "nbformat_minor": 5
}
