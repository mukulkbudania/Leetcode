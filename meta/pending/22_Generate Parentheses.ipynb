{
  "cells": [
    {
      "cell_type": "markdown",
      "id": "075f7bba",
      "metadata": {},
      "source": [
        "Given n pairs of parentheses, write a function to generate all combinations of well-formed parentheses.\n",
        "\n",
        " \n",
        "\n",
        "Example 1:\n",
        "\n",
        "Input: n = 3\n",
        "Output: [\"((()))\",\"(()())\",\"(())()\",\"()(())\",\"()()()\"]\n",
        "Example 2:\n",
        "\n",
        "Input: n = 1\n",
        "Output: [\"()\"]\n",
        " \n",
        "\n",
        "Constraints:\n",
        "\n",
        "1 <= n <= 8\n"
      ]
    }
  ],
  "metadata": {
    "language_info": {
      "name": "python"
    }
  },
  "nbformat": 4,
  "nbformat_minor": 5
}
