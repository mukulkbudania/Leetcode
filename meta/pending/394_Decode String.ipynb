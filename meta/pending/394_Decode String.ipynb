{
 "cells": [
  {
   "cell_type": "markdown",
   "id": "daadecfb",
   "metadata": {},
   "source": [
    "# 394. Decode String"
   ]
  },
  {
   "cell_type": "markdown",
   "id": "df859c4b",
   "metadata": {},
   "source": [
    "Given an encoded string, return its decoded string.\n",
    "\n",
    "\n",
    "\n",
    "The encoding rule is: k[encoded_string], where the encoded_string inside the square brackets is being repeated exactly k times. Note that k is guaranteed to be a positive integer.\n",
    "\n",
    "\n",
    "\n",
    "You may assume that the input string is always valid; there are no extra white spaces, square brackets are well-formed, etc. Furthermore, you may assume that the original data does not contain any digits and that digits are only for those repeat numbers, k. For example, there will not be input like 3a or 2[4].\n",
    "\n",
    "\n",
    "\n",
    "The test cases are generated so that the length of the output will never exceed 105.\n",
    "\n",
    "\n",
    "\n",
    " \n",
    "\n",
    "\n",
    "\n",
    "**Example 1:**\n",
    "\n",
    "\n",
    "\n",
    "Input: s = \"3[a]2[bc]\"\n",
    "\n",
    "Output: \"aaabcbc\"\n",
    "\n",
    "**Example 2:**\n",
    "\n",
    "\n",
    "\n",
    "Input: s = \"3[a2[c]]\"\n",
    "\n",
    "Output: \"accaccacc\"\n",
    "\n",
    "**Example 3:**\n",
    "\n",
    "\n",
    "\n",
    "Input: s = \"2[abc]3[cd]ef\"\n",
    "\n",
    "Output: \"abcabccdcdcdef\"\n",
    "\n",
    " \n",
    "\n",
    "\n",
    "\n",
    "**Constraints:**\n",
    "\n",
    "\n",
    "\n",
    "1 <= s.length <= 30\n",
    "\n",
    "s consists of lowercase English letters, digits, and square brackets '[]'.\n",
    "\n",
    "s is guaranteed to be a valid input.\n",
    "\n",
    "All the integers in s are in the range [1, 300]."
   ]
  }
 ],
 "metadata": {
  "language_info": {
   "name": "python"
  }
 },
 "nbformat": 4,
 "nbformat_minor": 5
}
