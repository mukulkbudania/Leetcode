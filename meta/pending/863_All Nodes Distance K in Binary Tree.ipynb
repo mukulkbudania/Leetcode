{
 "cells": [
  {
   "cell_type": "markdown",
   "id": "eece2d9a",
   "metadata": {},
   "source": [
    "# 863. All Nodes Distance K in Binary Tree"
   ]
  },
  {
   "cell_type": "markdown",
   "id": "9212eb6b",
   "metadata": {},
   "source": [
    "Given the root of a binary tree, the value of a target node target, and an integer k, return an array of the values of all nodes that have a distance k from the target node.\n",
    "\n",
    "\n",
    "\n",
    "You can return the answer in any order.\n",
    "\n",
    "\n",
    "\n",
    " \n",
    "\n",
    "\n",
    "\n",
    "**Example 1:**\n",
    "\n",
    "\n",
    "\n",
    "\n",
    "\n",
    "Input: root = [3,5,1,6,2,0,8,null,null,7,4], target = 5, k = 2\n",
    "\n",
    "Output: [7,4,1]\n",
    "\n",
    "Explanation: The nodes that are a distance 2 from the target node (with value 5) have values 7, 4, and 1.\n",
    "\n",
    "**Example 2:**\n",
    "\n",
    "\n",
    "\n",
    "Input: root = [1], target = 1, k = 3\n",
    "\n",
    "Output: []\n",
    "\n",
    " \n",
    "\n",
    "\n",
    "\n",
    "**Constraints:**\n",
    "\n",
    "\n",
    "\n",
    "The number of nodes in the tree is in the range [1, 500].\n",
    "\n",
    "0 <= Node.val <= 500\n",
    "\n",
    "All the values Node.val are unique.\n",
    "\n",
    "target is the value of one of the nodes in the tree.\n",
    "\n",
    "0 <= k <= 1000"
   ]
  }
 ],
 "metadata": {
  "language_info": {
   "name": "python"
  }
 },
 "nbformat": 4,
 "nbformat_minor": 5
}
