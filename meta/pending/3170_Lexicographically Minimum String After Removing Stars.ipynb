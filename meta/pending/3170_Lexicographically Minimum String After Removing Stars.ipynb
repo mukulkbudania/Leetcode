{
  "cells": [
    {
      "cell_type": "markdown",
      "id": "92b4dce9",
      "metadata": {},
      "source": [
        "You are given a string s. It may contain any number of '*' characters. Your task is to remove all '*' characters.\n",
        "\n",
        "While there is a '*', do the following operation:\n",
        "\n",
        "Delete the leftmost '*' and the smallest non-'*' character to its left. If there are several smallest characters, you can delete any of them.\n",
        "Return the lexicographically smallest resulting string after removing all '*' characters.\n",
        "\n",
        " \n",
        "\n",
        "Example 1:\n",
        "\n",
        "Input: s = \"aaba*\"\n",
        "\n",
        "Output: \"aab\"\n",
        "\n",
        "Explanation:\n",
        "\n",
        "We should delete one of the 'a' characters with '*'. If we choose s[3], s becomes the lexicographically smallest.\n",
        "\n",
        "Example 2:\n",
        "\n",
        "Input: s = \"abc\"\n",
        "\n",
        "Output: \"abc\"\n",
        "\n",
        "Explanation:\n",
        "\n",
        "There is no '*' in the string.\n",
        "\n",
        " \n",
        "\n",
        "Constraints:\n",
        "\n",
        "1 <= s.length <= 105\n",
        "s consists only of lowercase English letters and '*'.\n",
        "The input is generated such that it is possible to delete all '*' characters."
      ]
    }
  ],
  "metadata": {
    "language_info": {
      "name": "python"
    }
  },
  "nbformat": 4,
  "nbformat_minor": 5
}
