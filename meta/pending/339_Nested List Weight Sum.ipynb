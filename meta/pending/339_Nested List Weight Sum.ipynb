{
  "cells": [
    {
      "cell_type": "markdown",
      "id": "d74abea1",
      "metadata": {},
      "source": [
        "You are given a nested list of integers nestedList. Each element is either an integer or a list whose elements may also be integers or other lists.\n",
        "\n",
        "The depth of an integer is the number of lists that it is inside of. For example, the nested list [1,[2,2],[[3],2],1] has each integer's value set to its depth.\n",
        "\n",
        "Return the sum of each integer in nestedList multiplied by its depth.\n",
        "\n",
        " \n",
        "\n",
        "Example 1:\n",
        "\n",
        "\n",
        "Input: nestedList = [[1,1],2,[1,1]]\n",
        "Output: 10\n",
        "Explanation: Four 1's at depth 2, one 2 at depth 1. 1*2 + 1*2 + 2*1 + 1*2 + 1*2 = 10.\n",
        "Example 2:\n",
        "\n",
        "\n",
        "Input: nestedList = [1,[4,[6]]]\n",
        "Output: 27\n",
        "Explanation: One 1 at depth 1, one 4 at depth 2, and one 6 at depth 3. 1*1 + 4*2 + 6*3 = 27.\n",
        "Example 3:\n",
        "\n",
        "Input: nestedList = [0]\n",
        "Output: 0\n",
        " \n",
        "\n",
        "Constraints:\n",
        "\n",
        "1 <= nestedList.length <= 50\n",
        "The values of the integers in the nested list is in the range [-100, 100].\n",
        "The maximum depth of any integer is less than or equal to 50."
      ]
    }
  ],
  "metadata": {
    "language_info": {
      "name": "python"
    }
  },
  "nbformat": 4,
  "nbformat_minor": 5
}
