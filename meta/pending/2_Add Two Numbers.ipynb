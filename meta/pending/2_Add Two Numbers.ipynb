{
  "cells": [
    {
      "cell_type": "markdown",
      "id": "043b1124",
      "metadata": {},
      "source": [
        "You are given two non-empty linked lists representing two non-negative integers. The digits are stored in reverse order, and each of their nodes contains a single digit. Add the two numbers and return the sum as a linked list.\n",
        "\n",
        "You may assume the two numbers do not contain any leading zero, except the number 0 itself.\n",
        "\n",
        " \n",
        "\n",
        "Example 1:\n",
        "\n",
        "\n",
        "Input: l1 = [2,4,3], l2 = [5,6,4]\n",
        "Output: [7,0,8]\n",
        "Explanation: 342 + 465 = 807.\n",
        "Example 2:\n",
        "\n",
        "Input: l1 = [0], l2 = [0]\n",
        "Output: [0]\n",
        "Example 3:\n",
        "\n",
        "Input: l1 = [9,9,9,9,9,9,9], l2 = [9,9,9,9]\n",
        "Output: [8,9,9,9,0,0,0,1]\n",
        " \n",
        "\n",
        "Constraints:\n",
        "\n",
        "The number of nodes in each linked list is in the range [1, 100].\n",
        "0 <= Node.val <= 9\n",
        "It is guaranteed that the list represents a number that does not have leading zeros."
      ]
    },
    {
      "cell_type": "code",
      "execution_count": null,
      "id": "4e500822",
      "metadata": {},
      "outputs": [],
      "source": [
        "class ListNode:\n",
        "    def __init__(self, val=0, next=None):\n",
        "        self.val = val\n",
        "        self.next = next\n",
        "\n",
        "def addTwoNumbers(l1, l2):\n",
        "    dummy = ListNode()  # Dummy node to simplify result handling\n",
        "    current = dummy\n",
        "    carry = 0\n",
        "\n",
        "    # Traverse both lists until both are exhausted\n",
        "    while l1 or l2 or carry:\n",
        "        val1 = l1.val if l1 else 0  # Get current value or 0 if list is exhausted\n",
        "        val2 = l2.val if l2 else 0\n",
        "\n",
        "        # Compute sum and carry\n",
        "        total = val1 + val2 + carry\n",
        "        carry = total // 10  # Carry for next iteration\n",
        "        new_digit = total % 10\n",
        "\n",
        "        # Create new node with the digit and move to next\n",
        "        current.next = ListNode(new_digit)\n",
        "        current = current.next\n",
        "\n",
        "        # Move to the next nodes if they exist\n",
        "        if l1:\n",
        "            l1 = l1.next\n",
        "        if l2:\n",
        "            l2 = l2.next\n",
        "\n",
        "    return dummy.next"
      ]
    },
    {
      "cell_type": "markdown",
      "id": "6d3a59b1",
      "metadata": {},
      "source": [
        "🧠 Explanation\n",
        "\t•\tWe use a dummy head to simplify adding nodes.\n",
        "\t•\tTraverse both lists simultaneously:\n",
        "\t•\tAdd corresponding digits.\n",
        "\t•\tInclude any carry from the previous addition.\n",
        "\t•\tCreate a new node for each digit of the result.\n",
        "\t•\tContinue while there’s at least one node left in l1 or l2, or a carry left.\n",
        "\t•\tFinally, return dummy.next which is the head of the new list.\n"
      ]
    },
    {
      "cell_type": "markdown",
      "id": "0e4e826b",
      "metadata": {},
      "source": [
        "\n",
        "Complexity\n",
        "Time complexity\n",
        "O(max(n, m))\n",
        "Space complexity\n",
        "O(max(n, m))\n"
      ]
    }
  ],
  "metadata": {
    "language_info": {
      "name": "python"
    }
  },
  "nbformat": 4,
  "nbformat_minor": 5
}
