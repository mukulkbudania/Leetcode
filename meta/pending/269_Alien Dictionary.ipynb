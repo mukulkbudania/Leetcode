{
 "cells": [
  {
   "cell_type": "markdown",
   "id": "af02b7a4",
   "metadata": {},
   "source": [
    "# 269. Alien Dictionary"
   ]
  },
  {
   "cell_type": "markdown",
   "id": "f774b917",
   "metadata": {},
   "source": [
    "There is a new alien language that uses the English alphabet. However, the order of the letters is unknown to you.\n",
    "\n",
    "\n",
    "\n",
    "You are given a list of strings words from the alien language's dictionary. Now it is claimed that the strings in words are sorted lexicographically by the rules of this new language.\n",
    "\n",
    "\n",
    "\n",
    "If this claim is incorrect, and the given arrangement of string in words cannot correspond to any order of letters, return \"\".\n",
    "\n",
    "\n",
    "\n",
    "Otherwise, return a string of the unique letters in the new alien language sorted in lexicographically increasing order by the new language's rules. If there are multiple solutions, return any of them.\n",
    "\n",
    "\n",
    "\n",
    " \n",
    "\n",
    "\n",
    "\n",
    "**Example 1:**\n",
    "\n",
    "\n",
    "\n",
    "Input: words = [\"wrt\",\"wrf\",\"er\",\"ett\",\"rftt\"]\n",
    "\n",
    "Output: \"wertf\"\n",
    "\n",
    "**Example 2:**\n",
    "\n",
    "\n",
    "\n",
    "Input: words = [\"z\",\"x\"]\n",
    "\n",
    "Output: \"zx\"\n",
    "\n",
    "**Example 3:**\n",
    "\n",
    "\n",
    "\n",
    "Input: words = [\"z\",\"x\",\"z\"]\n",
    "\n",
    "Output: \"\"\n",
    "\n",
    "Explanation: The order is invalid, so return \"\".\n",
    "\n",
    " \n",
    "\n",
    "\n",
    "\n",
    "**Constraints:**\n",
    "\n",
    "\n",
    "\n",
    "1 <= words.length <= 100\n",
    "\n",
    "1 <= words[i].length <= 100\n",
    "\n",
    "words[i] consists of only lowercase English letters.\n",
    "\n"
   ]
  }
 ],
 "metadata": {
  "language_info": {
   "name": "python"
  }
 },
 "nbformat": 4,
 "nbformat_minor": 5
}
