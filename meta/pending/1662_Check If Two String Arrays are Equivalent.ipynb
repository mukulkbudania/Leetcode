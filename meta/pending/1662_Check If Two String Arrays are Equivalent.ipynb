{
  "cells": [
    {
      "cell_type": "markdown",
      "id": "b6222f18",
      "metadata": {},
      "source": [
        "Given two string arrays word1 and word2, return true if the two arrays represent the same string, and false otherwise.\n",
        "\n",
        "A string is represented by an array if the array elements concatenated in order forms the string.\n",
        "\n",
        " \n",
        "\n",
        "Example 1:\n",
        "\n",
        "Input: word1 = [\"ab\", \"c\"], word2 = [\"a\", \"bc\"]\n",
        "Output: true\n",
        "Explanation:\n",
        "word1 represents string \"ab\" + \"c\" -> \"abc\"\n",
        "word2 represents string \"a\" + \"bc\" -> \"abc\"\n",
        "The strings are the same, so return true.\n",
        "Example 2:\n",
        "\n",
        "Input: word1 = [\"a\", \"cb\"], word2 = [\"ab\", \"c\"]\n",
        "Output: false\n",
        "Example 3:\n",
        "\n",
        "Input: word1  = [\"abc\", \"d\", \"defg\"], word2 = [\"abcddefg\"]\n",
        "Output: true\n",
        " \n",
        "\n",
        "Constraints:\n",
        "\n",
        "1 <= word1.length, word2.length <= 103\n",
        "1 <= word1[i].length, word2[i].length <= 103\n",
        "1 <= sum(word1[i].length), sum(word2[i].length) <= 103\n",
        "word1[i] and word2[i] consist of lowercase letters."
      ]
    }
  ],
  "metadata": {
    "language_info": {
      "name": "python"
    }
  },
  "nbformat": 4,
  "nbformat_minor": 5
}
