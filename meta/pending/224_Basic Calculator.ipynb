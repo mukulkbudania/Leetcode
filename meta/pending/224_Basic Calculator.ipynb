{
 "cells": [
  {
   "cell_type": "markdown",
   "id": "263ced1d",
   "metadata": {},
   "source": [
    "# 224. Basic Calculator"
   ]
  },
  {
   "cell_type": "markdown",
   "id": "ca132c8c",
   "metadata": {},
   "source": [
    "Given a string s representing a valid expression, implement a basic calculator to evaluate it, and return the result of the evaluation.\n",
    "\n",
    "\n",
    "\n",
    "Note: You are not allowed to use any built-in function which evaluates strings as mathematical expressions, such as eval().\n",
    "\n",
    "\n",
    "\n",
    " \n",
    "\n",
    "\n",
    "\n",
    "**Example 1:**\n",
    "\n",
    "\n",
    "\n",
    "Input: s = \"1 + 1\"\n",
    "\n",
    "Output: 2\n",
    "\n",
    "**Example 2:**\n",
    "\n",
    "\n",
    "\n",
    "Input: s = \" 2-1 + 2 \"\n",
    "\n",
    "Output: 3\n",
    "\n",
    "**Example 3:**\n",
    "\n",
    "\n",
    "\n",
    "Input: s = \"(1+(4+5+2)-3)+(6+8)\"\n",
    "\n",
    "Output: 23\n",
    "\n",
    " \n",
    "\n",
    "\n",
    "\n",
    "**Constraints:**\n",
    "\n",
    "\n",
    "\n",
    "1 <= s.length <= 3 * 105\n",
    "\n",
    "s consists of digits, '+', '-', '(', ')', and ' '.\n",
    "\n",
    "s represents a valid expression.\n",
    "\n",
    "'+' is not used as a unary operation (i.e., \"+1\" and \"+(2 + 3)\" is invalid).\n",
    "\n",
    "'-' could be used as a unary operation (i.e., \"-1\" and \"-(2 + 3)\" is valid).\n",
    "\n",
    "There will be no two consecutive operators in the input.\n",
    "\n",
    "Every number and running calculation will fit in a signed 32-bit integer."
   ]
  }
 ],
 "metadata": {
  "language_info": {
   "name": "python"
  }
 },
 "nbformat": 4,
 "nbformat_minor": 5
}
