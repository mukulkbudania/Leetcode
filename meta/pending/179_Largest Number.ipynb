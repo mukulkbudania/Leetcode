{
  "cells": [
    {
      "cell_type": "markdown",
      "id": "04cfe3e1",
      "metadata": {},
      "source": [
        "Given a list of non-negative integers nums, arrange them such that they form the largest number and return it.\n",
        "\n",
        "Since the result may be very large, so you need to return a string instead of an integer.\n",
        "\n",
        " \n",
        "\n",
        "Example 1:\n",
        "\n",
        "Input: nums = [10,2]\n",
        "Output: \"210\"\n",
        "Example 2:\n",
        "\n",
        "Input: nums = [3,30,34,5,9]\n",
        "Output: \"9534330\"\n",
        " \n",
        "\n",
        "Constraints:\n",
        "\n",
        "1 <= nums.length <= 100\n",
        "0 <= nums[i] <= 109"
      ]
    }
  ],
  "metadata": {
    "language_info": {
      "name": "python"
    }
  },
  "nbformat": 4,
  "nbformat_minor": 5
}
