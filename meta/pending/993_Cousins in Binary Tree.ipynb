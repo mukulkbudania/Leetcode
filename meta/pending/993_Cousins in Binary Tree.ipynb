{
  "cells": [
    {
      "cell_type": "markdown",
      "id": "1bd5c168",
      "metadata": {},
      "source": [
        "Given the root of a binary tree with unique values and the values of two different nodes of the tree x and y, return true if the nodes corresponding to the values x and y in the tree are cousins, or false otherwise.\n",
        "\n",
        "Two nodes of a binary tree are cousins if they have the same depth with different parents.\n",
        "\n",
        "Note that in a binary tree, the root node is at the depth 0, and children of each depth k node are at the depth k + 1.\n",
        "\n",
        " \n",
        "\n",
        "Example 1:\n",
        "\n",
        "\n",
        "Input: root = [1,2,3,4], x = 4, y = 3\n",
        "Output: false\n",
        "Example 2:\n",
        "\n",
        "\n",
        "Input: root = [1,2,3,null,4,null,5], x = 5, y = 4\n",
        "Output: true\n",
        "Example 3:\n",
        "\n",
        "\n",
        "Input: root = [1,2,3,null,4], x = 2, y = 3\n",
        "Output: false\n",
        " \n",
        "\n",
        "Constraints:\n",
        "\n",
        "The number of nodes in the tree is in the range [2, 100].\n",
        "1 <= Node.val <= 100\n",
        "Each node has a unique value.\n",
        "x != y\n",
        "x and y are exist in the tree."
      ]
    }
  ],
  "metadata": {
    "language_info": {
      "name": "python"
    }
  },
  "nbformat": 4,
  "nbformat_minor": 5
}
