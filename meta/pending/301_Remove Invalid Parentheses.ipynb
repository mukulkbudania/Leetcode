{
 "cells": [
  {
   "cell_type": "markdown",
   "id": "07746b56",
   "metadata": {},
   "source": [
    "# 301. Remove Invalid Parentheses"
   ]
  },
  {
   "cell_type": "markdown",
   "id": "6898c599",
   "metadata": {},
   "source": [
    "Given a string s that contains parentheses and letters, remove the minimum number of invalid parentheses to make the input string valid.\n",
    "\n",
    "\n",
    "\n",
    "Return a list of unique strings that are valid with the minimum number of removals. You may return the answer in any order.\n",
    "\n",
    "\n",
    "\n",
    " \n",
    "\n",
    "\n",
    "\n",
    "**Example 1:**\n",
    "\n",
    "\n",
    "\n",
    "Input: s = \"()())()\"\n",
    "\n",
    "Output: [\"(())()\",\"()()()\"]\n",
    "\n",
    "**Example 2:**\n",
    "\n",
    "\n",
    "\n",
    "Input: s = \"(a)())()\"\n",
    "\n",
    "Output: [\"(a())()\",\"(a)()()\"]\n",
    "\n",
    "**Example 3:**\n",
    "\n",
    "\n",
    "\n",
    "Input: s = \")(\"\n",
    "\n",
    "Output: [\"\"]\n",
    "\n",
    " \n",
    "\n",
    "\n",
    "\n",
    "**Constraints:**\n",
    "\n",
    "\n",
    "\n",
    "1 <= s.length <= 25\n",
    "\n",
    "s consists of lowercase English letters and parentheses '(' and ')'.\n",
    "\n",
    "There will be at most 20 parentheses in s.\n",
    "\n"
   ]
  }
 ],
 "metadata": {
  "language_info": {
   "name": "python"
  }
 },
 "nbformat": 4,
 "nbformat_minor": 5
}
