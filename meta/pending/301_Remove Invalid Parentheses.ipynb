{
  "cells": [
    {
      "cell_type": "markdown",
      "id": "6898c599",
      "metadata": {},
      "source": [
        "Given a string s that contains parentheses and letters, remove the minimum number of invalid parentheses to make the input string valid.\n",
        "\n",
        "Return a list of unique strings that are valid with the minimum number of removals. You may return the answer in any order.\n",
        "\n",
        " \n",
        "\n",
        "Example 1:\n",
        "\n",
        "Input: s = \"()())()\"\n",
        "Output: [\"(())()\",\"()()()\"]\n",
        "Example 2:\n",
        "\n",
        "Input: s = \"(a)())()\"\n",
        "Output: [\"(a())()\",\"(a)()()\"]\n",
        "Example 3:\n",
        "\n",
        "Input: s = \")(\"\n",
        "Output: [\"\"]\n",
        " \n",
        "\n",
        "Constraints:\n",
        "\n",
        "1 <= s.length <= 25\n",
        "s consists of lowercase English letters and parentheses '(' and ')'.\n",
        "There will be at most 20 parentheses in s.\n"
      ]
    }
  ],
  "metadata": {
    "language_info": {
      "name": "python"
    }
  },
  "nbformat": 4,
  "nbformat_minor": 5
}
