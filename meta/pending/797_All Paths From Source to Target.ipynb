{
 "cells": [
  {
   "cell_type": "markdown",
   "id": "811b3a68",
   "metadata": {},
   "source": [
    "# 797. All Paths From Source to Target"
   ]
  },
  {
   "cell_type": "markdown",
   "id": "3fce42db",
   "metadata": {},
   "source": [
    "Given a directed acyclic graph (DAG) of n nodes labeled from 0 to n - 1, find all possible paths from node 0 to node n - 1 and return them in any order.\n",
    "\n",
    "\n",
    "\n",
    "The graph is given as follows: graph[i] is a list of all nodes you can visit from node i (i.e., there is a directed edge from node i to node graph[i][j]).\n",
    "\n",
    "\n",
    "\n",
    " \n",
    "\n",
    "\n",
    "\n",
    "**Example 1:**\n",
    "\n",
    "\n",
    "\n",
    "\n",
    "\n",
    "Input: graph = [[1,2],[3],[3],[]]\n",
    "\n",
    "Output: [[0,1,3],[0,2,3]]\n",
    "\n",
    "Explanation: There are two paths: 0 -> 1 -> 3 and 0 -> 2 -> 3.\n",
    "\n",
    "**Example 2:**\n",
    "\n",
    "\n",
    "\n",
    "\n",
    "\n",
    "Input: graph = [[4,3,1],[3,2,4],[3],[4],[]]\n",
    "\n",
    "Output: [[0,4],[0,3,4],[0,1,3,4],[0,1,2,3,4],[0,1,4]]\n",
    "\n",
    " \n",
    "\n",
    "\n",
    "\n",
    "**Constraints:**\n",
    "\n",
    "\n",
    "\n",
    "n == graph.length\n",
    "\n",
    "2 <= n <= 15\n",
    "\n",
    "0 <= graph[i][j] < n\n",
    "\n",
    "graph[i][j] != i (i.e., there will be no self-loops).\n",
    "\n",
    "All the elements of graph[i] are unique.\n",
    "\n",
    "The input graph is guaranteed to be a DAG."
   ]
  }
 ],
 "metadata": {
  "language_info": {
   "name": "python"
  }
 },
 "nbformat": 4,
 "nbformat_minor": 5
}
