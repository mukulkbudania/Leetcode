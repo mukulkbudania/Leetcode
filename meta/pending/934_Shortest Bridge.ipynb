{
  "cells": [
    {
      "cell_type": "markdown",
      "id": "aab17034",
      "metadata": {},
      "source": [
        "You are given an n x n binary matrix grid where 1 represents land and 0 represents water.\n",
        "\n",
        "An island is a 4-directionally connected group of 1's not connected to any other 1's. There are exactly two islands in grid.\n",
        "\n",
        "You may change 0's to 1's to connect the two islands to form one island.\n",
        "\n",
        "Return the smallest number of 0's you must flip to connect the two islands.\n",
        "\n",
        " \n",
        "\n",
        "Example 1:\n",
        "\n",
        "Input: grid = [[0,1],[1,0]]\n",
        "Output: 1\n",
        "Example 2:\n",
        "\n",
        "Input: grid = [[0,1,0],[0,0,0],[0,0,1]]\n",
        "Output: 2\n",
        "Example 3:\n",
        "\n",
        "Input: grid = [[1,1,1,1,1],[1,0,0,0,1],[1,0,1,0,1],[1,0,0,0,1],[1,1,1,1,1]]\n",
        "Output: 1\n",
        " \n",
        "\n",
        "Constraints:\n",
        "\n",
        "n == grid.length == grid[i].length\n",
        "2 <= n <= 100\n",
        "grid[i][j] is either 0 or 1.\n",
        "There are exactly two islands in grid."
      ]
    }
  ],
  "metadata": {
    "language_info": {
      "name": "python"
    }
  },
  "nbformat": 4,
  "nbformat_minor": 5
}
