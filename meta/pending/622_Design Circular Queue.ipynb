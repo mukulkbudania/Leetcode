{
  "cells": [
    {
      "cell_type": "markdown",
      "id": "d3645295",
      "metadata": {},
      "source": [
        "Design your implementation of the circular queue. The circular queue is a linear data structure in which the operations are performed based on FIFO (First In First Out) principle, and the last position is connected back to the first position to make a circle. It is also called \"Ring Buffer\".\n",
        "\n",
        "One of the benefits of the circular queue is that we can make use of the spaces in front of the queue. In a normal queue, once the queue becomes full, we cannot insert the next element even if there is a space in front of the queue. But using the circular queue, we can use the space to store new values.\n",
        "\n",
        "Implement the MyCircularQueue class:\n",
        "\n",
        "MyCircularQueue(k) Initializes the object with the size of the queue to be k.\n",
        "int Front() Gets the front item from the queue. If the queue is empty, return -1.\n",
        "int Rear() Gets the last item from the queue. If the queue is empty, return -1.\n",
        "boolean enQueue(int value) Inserts an element into the circular queue. Return true if the operation is successful.\n",
        "boolean deQueue() Deletes an element from the circular queue. Return true if the operation is successful.\n",
        "boolean isEmpty() Checks whether the circular queue is empty or not.\n",
        "boolean isFull() Checks whether the circular queue is full or not.\n",
        "You must solve the problem without using the built-in queue data structure in your programming language. \n",
        "\n",
        " \n",
        "\n",
        "Example 1:\n",
        "\n",
        "Input\n",
        "[\"MyCircularQueue\", \"enQueue\", \"enQueue\", \"enQueue\", \"enQueue\", \"Rear\", \"isFull\", \"deQueue\", \"enQueue\", \"Rear\"]\n",
        "[[3], [1], [2], [3], [4], [], [], [], [4], []]\n",
        "Output\n",
        "[null, true, true, true, false, 3, true, true, true, 4]\n",
        "\n",
        "Explanation\n",
        "MyCircularQueue myCircularQueue = new MyCircularQueue(3);\n",
        "myCircularQueue.enQueue(1); // return True\n",
        "myCircularQueue.enQueue(2); // return True\n",
        "myCircularQueue.enQueue(3); // return True\n",
        "myCircularQueue.enQueue(4); // return False\n",
        "myCircularQueue.Rear();     // return 3\n",
        "myCircularQueue.isFull();   // return True\n",
        "myCircularQueue.deQueue();  // return True\n",
        "myCircularQueue.enQueue(4); // return True\n",
        "myCircularQueue.Rear();     // return 4\n",
        " \n",
        "\n",
        "Constraints:\n",
        "\n",
        "1 <= k <= 1000\n",
        "0 <= value <= 1000\n",
        "At most 3000 calls will be made to enQueue, deQueue, Front, Rear, isEmpty, and isFull."
      ]
    }
  ],
  "metadata": {
    "language_info": {
      "name": "python"
    }
  },
  "nbformat": 4,
  "nbformat_minor": 5
}
