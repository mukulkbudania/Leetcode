{
  "cells": [
    {
      "cell_type": "markdown",
      "id": "25dbab1f",
      "metadata": {},
      "source": [
        "You are given an integer n.\n",
        "\n",
        "We need to group the numbers from 1 to n according to the sum of its digits. For example, the numbers 14 and 5 belong to the same group, whereas 13 and 3 belong to different groups.\n",
        "\n",
        "Return the number of groups that have the largest size, i.e. the maximum number of elements.\n",
        "\n",
        " \n",
        "\n",
        "Example 1:\n",
        "\n",
        "Input: n = 13\n",
        "Output: 4\n",
        "Explanation: There are 9 groups in total, they are grouped according sum of its digits of numbers from 1 to 13:\n",
        "[1,10], [2,11], [3,12], [4,13], [5], [6], [7], [8], [9].\n",
        "There are 4 groups with largest size.\n",
        "Example 2:\n",
        "\n",
        "Input: n = 2\n",
        "Output: 2\n",
        "Explanation: There are 2 groups [1], [2] of size 1.\n",
        " \n",
        "\n",
        "Constraints:\n",
        "\n",
        "1 <= n <= 104"
      ]
    }
  ],
  "metadata": {
    "language_info": {
      "name": "python"
    }
  },
  "nbformat": 4,
  "nbformat_minor": 5
}
