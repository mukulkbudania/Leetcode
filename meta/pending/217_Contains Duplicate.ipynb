{
  "cells": [
    {
      "cell_type": "markdown",
      "id": "8f1204cf",
      "metadata": {},
      "source": [
        "Given an integer array nums, return true if any value appears at least twice in the array, and return false if every element is distinct.\n",
        "\n",
        " \n",
        "\n",
        "Example 1:\n",
        "\n",
        "Input: nums = [1,2,3,1]\n",
        "\n",
        "Output: true\n",
        "\n",
        "Explanation:\n",
        "\n",
        "The element 1 occurs at the indices 0 and 3.\n",
        "\n",
        "Example 2:\n",
        "\n",
        "Input: nums = [1,2,3,4]\n",
        "\n",
        "Output: false\n",
        "\n",
        "Explanation:\n",
        "\n",
        "All elements are distinct.\n",
        "\n",
        "Example 3:\n",
        "\n",
        "Input: nums = [1,1,1,3,3,4,3,2,4,2]\n",
        "\n",
        "Output: true\n",
        "\n",
        " \n",
        "\n",
        "Constraints:\n",
        "\n",
        "1 <= nums.length <= 105\n",
        "-109 <= nums[i] <= 109"
      ]
    }
  ],
  "metadata": {
    "language_info": {
      "name": "python"
    }
  },
  "nbformat": 4,
  "nbformat_minor": 5
}
