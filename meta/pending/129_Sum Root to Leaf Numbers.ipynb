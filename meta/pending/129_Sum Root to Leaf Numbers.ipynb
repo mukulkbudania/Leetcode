{
  "cells": [
    {
      "cell_type": "markdown",
      "id": "a8e0189c",
      "metadata": {},
      "source": [
        "You are given the root of a binary tree containing digits from 0 to 9 only.\n",
        "\n",
        "Each root-to-leaf path in the tree represents a number.\n",
        "\n",
        "For example, the root-to-leaf path 1 -> 2 -> 3 represents the number 123.\n",
        "Return the total sum of all root-to-leaf numbers. Test cases are generated so that the answer will fit in a 32-bit integer.\n",
        "\n",
        "A leaf node is a node with no children.\n",
        "\n",
        " \n",
        "\n",
        "Example 1:\n",
        "\n",
        "\n",
        "Input: root = [1,2,3]\n",
        "Output: 25\n",
        "Explanation:\n",
        "The root-to-leaf path 1->2 represents the number 12.\n",
        "The root-to-leaf path 1->3 represents the number 13.\n",
        "Therefore, sum = 12 + 13 = 25.\n",
        "Example 2:\n",
        "\n",
        "\n",
        "Input: root = [4,9,0,5,1]\n",
        "Output: 1026\n",
        "Explanation:\n",
        "The root-to-leaf path 4->9->5 represents the number 495.\n",
        "The root-to-leaf path 4->9->1 represents the number 491.\n",
        "The root-to-leaf path 4->0 represents the number 40.\n",
        "Therefore, sum = 495 + 491 + 40 = 1026.\n",
        " \n",
        "\n",
        "Constraints:\n",
        "\n",
        "The number of nodes in the tree is in the range [1, 1000].\n",
        "0 <= Node.val <= 9\n",
        "The depth of the tree will not exceed 10."
      ]
    }
  ],
  "metadata": {
    "language_info": {
      "name": "python"
    }
  },
  "nbformat": 4,
  "nbformat_minor": 5
}
