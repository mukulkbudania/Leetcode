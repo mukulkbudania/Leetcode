{
  "cells": [
    {
      "cell_type": "markdown",
      "id": "12d9fd29",
      "metadata": {},
      "source": [
        "Given an integer array nums, return the length of the longest strictly increasing subsequence.\n",
        "\n",
        " \n",
        "\n",
        "Example 1:\n",
        "\n",
        "Input: nums = [10,9,2,5,3,7,101,18]\n",
        "Output: 4\n",
        "Explanation: The longest increasing subsequence is [2,3,7,101], therefore the length is 4.\n",
        "Example 2:\n",
        "\n",
        "Input: nums = [0,1,0,3,2,3]\n",
        "Output: 4\n",
        "Example 3:\n",
        "\n",
        "Input: nums = [7,7,7,7,7,7,7]\n",
        "Output: 1\n",
        " \n",
        "\n",
        "Constraints:\n",
        "\n",
        "1 <= nums.length <= 2500\n",
        "-104 <= nums[i] <= 104\n",
        " \n",
        "\n",
        "Follow up: Can you come up with an algorithm that runs in O(n log(n)) time complexity?"
      ]
    }
  ],
  "metadata": {
    "language_info": {
      "name": "python"
    }
  },
  "nbformat": 4,
  "nbformat_minor": 5
}
