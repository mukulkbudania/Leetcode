{
  "cells": [
    {
      "cell_type": "markdown",
      "id": "cb07a425",
      "metadata": {},
      "source": [
        "Given a circular array nums, find the maximum absolute difference between adjacent elements.\n",
        "\n",
        "Note: In a circular array, the first and last elements are adjacent.\n",
        "\n",
        " \n",
        "\n",
        "Example 1:\n",
        "\n",
        "Input: nums = [1,2,4]\n",
        "\n",
        "Output: 3\n",
        "\n",
        "Explanation:\n",
        "\n",
        "Because nums is circular, nums[0] and nums[2] are adjacent. They have the maximum absolute difference of |4 - 1| = 3.\n",
        "\n",
        "Example 2:\n",
        "\n",
        "Input: nums = [-5,-10,-5]\n",
        "\n",
        "Output: 5\n",
        "\n",
        "Explanation:\n",
        "\n",
        "The adjacent elements nums[0] and nums[1] have the maximum absolute difference of |-5 - (-10)| = 5.\n",
        "\n",
        " \n",
        "\n",
        "Constraints:\n",
        "\n",
        "2 <= nums.length <= 100\n",
        "-100 <= nums[i] <= 100"
      ]
    }
  ],
  "metadata": {
    "language_info": {
      "name": "python"
    }
  },
  "nbformat": 4,
  "nbformat_minor": 5
}
