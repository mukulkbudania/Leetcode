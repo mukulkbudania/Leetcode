{
 "cells": [
  {
   "cell_type": "markdown",
   "id": "34751b45",
   "metadata": {},
   "source": [
    "# 1723. Find Minimum Time to Finish All Jobs"
   ]
  },
  {
   "cell_type": "markdown",
   "id": "82740550",
   "metadata": {},
   "source": [
    "You are given an integer array jobs, where jobs[i] is the amount of time it takes to complete the ith job.\n",
    "\n",
    "\n",
    "\n",
    "There are k workers that you can assign jobs to. Each job should be assigned to exactly one worker. The working time of a worker is the sum of the time it takes to complete all jobs assigned to them. Your goal is to devise an optimal assignment such that the maximum working time of any worker is minimized.\n",
    "\n",
    "\n",
    "\n",
    "Return the minimum possible maximum working time of any assignment.\n",
    "\n",
    "\n",
    "\n",
    " \n",
    "\n",
    "\n",
    "\n",
    "**Example 1:**\n",
    "\n",
    "\n",
    "\n",
    "Input: jobs = [3,2,3], k = 3\n",
    "\n",
    "Output: 3\n",
    "\n",
    "Explanation: By assigning each person one job, the maximum time is 3.\n",
    "\n",
    "**Example 2:**\n",
    "\n",
    "\n",
    "\n",
    "Input: jobs = [1,2,4,7,8], k = 2\n",
    "\n",
    "Output: 11\n",
    "\n",
    "Explanation: Assign the jobs the following way:\n",
    "\n",
    "Worker 1: 1, 2, 8 (working time = 1 + 2 + 8 = 11)\n",
    "\n",
    "Worker 2: 4, 7 (working time = 4 + 7 = 11)\n",
    "\n",
    "The maximum working time is 11.\n",
    "\n",
    " \n",
    "\n",
    "\n",
    "\n",
    "**Constraints:**\n",
    "\n",
    "\n",
    "\n",
    "1 <= k <= jobs.length <= 12\n",
    "\n",
    "1 <= jobs[i] <= 107"
   ]
  }
 ],
 "metadata": {
  "language_info": {
   "name": "python"
  }
 },
 "nbformat": 4,
 "nbformat_minor": 5
}
