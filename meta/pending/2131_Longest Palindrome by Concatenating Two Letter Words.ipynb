{
  "cells": [
    {
      "cell_type": "markdown",
      "id": "5b59541d",
      "metadata": {},
      "source": [
        "You are given an array of strings words. Each element of words consists of two lowercase English letters.\n",
        "\n",
        "Create the longest possible palindrome by selecting some elements from words and concatenating them in any order. Each element can be selected at most once.\n",
        "\n",
        "Return the length of the longest palindrome that you can create. If it is impossible to create any palindrome, return 0.\n",
        "\n",
        "A palindrome is a string that reads the same forward and backward.\n",
        "\n",
        " \n",
        "\n",
        "Example 1:\n",
        "\n",
        "Input: words = [\"lc\",\"cl\",\"gg\"]\n",
        "Output: 6\n",
        "Explanation: One longest palindrome is \"lc\" + \"gg\" + \"cl\" = \"lcggcl\", of length 6.\n",
        "Note that \"clgglc\" is another longest palindrome that can be created.\n",
        "Example 2:\n",
        "\n",
        "Input: words = [\"ab\",\"ty\",\"yt\",\"lc\",\"cl\",\"ab\"]\n",
        "Output: 8\n",
        "Explanation: One longest palindrome is \"ty\" + \"lc\" + \"cl\" + \"yt\" = \"tylcclyt\", of length 8.\n",
        "Note that \"lcyttycl\" is another longest palindrome that can be created.\n",
        "Example 3:\n",
        "\n",
        "Input: words = [\"cc\",\"ll\",\"xx\"]\n",
        "Output: 2\n",
        "Explanation: One longest palindrome is \"cc\", of length 2.\n",
        "Note that \"ll\" is another longest palindrome that can be created, and so is \"xx\".\n",
        " \n",
        "\n",
        "Constraints:\n",
        "\n",
        "1 <= words.length <= 105\n",
        "words[i].length == 2\n",
        "words[i] consists of lowercase English letters."
      ]
    }
  ],
  "metadata": {
    "language_info": {
      "name": "python"
    }
  },
  "nbformat": 4,
  "nbformat_minor": 5
}
