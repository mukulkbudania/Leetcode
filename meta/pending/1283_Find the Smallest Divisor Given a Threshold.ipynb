{
 "cells": [
  {
   "cell_type": "markdown",
   "id": "d6e93786",
   "metadata": {},
   "source": [
    "# 1283. Find the Smallest Divisor Given a Threshold"
   ]
  },
  {
   "cell_type": "markdown",
   "id": "02f6039a",
   "metadata": {},
   "source": [
    "Given an array of integers nums and an integer threshold, we will choose a positive integer divisor, divide all the array by it, and sum the division's result. Find the smallest divisor such that the result mentioned above is less than or equal to threshold.\n",
    "\n",
    "\n",
    "\n",
    "Each result of the division is rounded to the nearest integer greater than or equal to that element. (For example: 7/3 = 3 and 10/2 = 5).\n",
    "\n",
    "\n",
    "\n",
    "The test cases are generated so that there will be an answer.\n",
    "\n",
    "\n",
    "\n",
    " \n",
    "\n",
    "\n",
    "\n",
    "**Example 1:**\n",
    "\n",
    "\n",
    "\n",
    "Input: nums = [1,2,5,9], threshold = 6\n",
    "\n",
    "Output: 5\n",
    "\n",
    "Explanation: We can get a sum to 17 (1+2+5+9) if the divisor is 1. \n",
    "\n",
    "If the divisor is 4 we can get a sum of 7 (1+1+2+3) and if the divisor is 5 the sum will be 5 (1+1+1+2). \n",
    "\n",
    "**Example 2:**\n",
    "\n",
    "\n",
    "\n",
    "Input: nums = [44,22,33,11,1], threshold = 5\n",
    "\n",
    "Output: 44\n",
    "\n",
    " \n",
    "\n",
    "\n",
    "\n",
    "**Constraints:**\n",
    "\n",
    "\n",
    "\n",
    "1 <= nums.length <= 5 * 104\n",
    "\n",
    "1 <= nums[i] <= 106\n",
    "\n",
    "nums.length <= threshold <= 106"
   ]
  }
 ],
 "metadata": {
  "language_info": {
   "name": "python"
  }
 },
 "nbformat": 4,
 "nbformat_minor": 5
}
