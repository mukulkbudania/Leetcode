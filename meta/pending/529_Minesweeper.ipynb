{
  "cells": [
    {
      "cell_type": "markdown",
      "id": "4350e909",
      "metadata": {},
      "source": [
        "Let's play the minesweeper game (Wikipedia, online game)!\n",
        "\n",
        "You are given an m x n char matrix board representing the game board where:\n",
        "\n",
        "'M' represents an unrevealed mine,\n",
        "'E' represents an unrevealed empty square,\n",
        "'B' represents a revealed blank square that has no adjacent mines (i.e., above, below, left, right, and all 4 diagonals),\n",
        "digit ('1' to '8') represents how many mines are adjacent to this revealed square, and\n",
        "'X' represents a revealed mine.\n",
        "You are also given an integer array click where click = [clickr, clickc] represents the next click position among all the unrevealed squares ('M' or 'E').\n",
        "\n",
        "Return the board after revealing this position according to the following rules:\n",
        "\n",
        "If a mine 'M' is revealed, then the game is over. You should change it to 'X'.\n",
        "If an empty square 'E' with no adjacent mines is revealed, then change it to a revealed blank 'B' and all of its adjacent unrevealed squares should be revealed recursively.\n",
        "If an empty square 'E' with at least one adjacent mine is revealed, then change it to a digit ('1' to '8') representing the number of adjacent mines.\n",
        "Return the board when no more squares will be revealed.\n",
        " \n",
        "\n",
        "Example 1:\n",
        "\n",
        "\n",
        "Input: board = [[\"E\",\"E\",\"E\",\"E\",\"E\"],[\"E\",\"E\",\"M\",\"E\",\"E\"],[\"E\",\"E\",\"E\",\"E\",\"E\"],[\"E\",\"E\",\"E\",\"E\",\"E\"]], click = [3,0]\n",
        "Output: [[\"B\",\"1\",\"E\",\"1\",\"B\"],[\"B\",\"1\",\"M\",\"1\",\"B\"],[\"B\",\"1\",\"1\",\"1\",\"B\"],[\"B\",\"B\",\"B\",\"B\",\"B\"]]\n",
        "Example 2:\n",
        "\n",
        "\n",
        "Input: board = [[\"B\",\"1\",\"E\",\"1\",\"B\"],[\"B\",\"1\",\"M\",\"1\",\"B\"],[\"B\",\"1\",\"1\",\"1\",\"B\"],[\"B\",\"B\",\"B\",\"B\",\"B\"]], click = [1,2]\n",
        "Output: [[\"B\",\"1\",\"E\",\"1\",\"B\"],[\"B\",\"1\",\"X\",\"1\",\"B\"],[\"B\",\"1\",\"1\",\"1\",\"B\"],[\"B\",\"B\",\"B\",\"B\",\"B\"]]\n",
        " \n",
        "\n",
        "Constraints:\n",
        "\n",
        "m == board.length\n",
        "n == board[i].length\n",
        "1 <= m, n <= 50\n",
        "board[i][j] is either 'M', 'E', 'B', or a digit from '1' to '8'.\n",
        "click.length == 2\n",
        "0 <= clickr < m\n",
        "0 <= clickc < n\n",
        "board[clickr][clickc] is either 'M' or 'E'."
      ]
    }
  ],
  "metadata": {
    "language_info": {
      "name": "python"
    }
  },
  "nbformat": 4,
  "nbformat_minor": 5
}
