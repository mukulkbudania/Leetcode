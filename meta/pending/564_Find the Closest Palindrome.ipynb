{
  "cells": [
    {
      "cell_type": "markdown",
      "id": "aae780d8",
      "metadata": {},
      "source": [
        "Given a string n representing an integer, return the closest integer (not including itself), which is a palindrome. If there is a tie, return the smaller one.\n",
        "\n",
        "The closest is defined as the absolute difference minimized between two integers.\n",
        "\n",
        " \n",
        "\n",
        "Example 1:\n",
        "\n",
        "Input: n = \"123\"\n",
        "Output: \"121\"\n",
        "Example 2:\n",
        "\n",
        "Input: n = \"1\"\n",
        "Output: \"0\"\n",
        "Explanation: 0 and 2 are the closest palindromes but we return the smallest which is 0.\n",
        " \n",
        "\n",
        "Constraints:\n",
        "\n",
        "1 <= n.length <= 18\n",
        "n consists of only digits.\n",
        "n does not have leading zeros.\n",
        "n is representing an integer in the range [1, 1018 - 1]."
      ]
    }
  ],
  "metadata": {
    "language_info": {
      "name": "python"
    }
  },
  "nbformat": 4,
  "nbformat_minor": 5
}
