{
 "cells": [
  {
   "cell_type": "markdown",
   "id": "4d2887b8",
   "metadata": {},
   "source": [
    "# 564. Find the Closest Palindrome"
   ]
  },
  {
   "cell_type": "markdown",
   "id": "aae780d8",
   "metadata": {},
   "source": [
    "Given a string n representing an integer, return the closest integer (not including itself), which is a palindrome. If there is a tie, return the smaller one.\n",
    "\n",
    "\n",
    "\n",
    "The closest is defined as the absolute difference minimized between two integers.\n",
    "\n",
    "\n",
    "\n",
    " \n",
    "\n",
    "\n",
    "\n",
    "**Example 1:**\n",
    "\n",
    "\n",
    "\n",
    "Input: n = \"123\"\n",
    "\n",
    "Output: \"121\"\n",
    "\n",
    "**Example 2:**\n",
    "\n",
    "\n",
    "\n",
    "Input: n = \"1\"\n",
    "\n",
    "Output: \"0\"\n",
    "\n",
    "Explanation: 0 and 2 are the closest palindromes but we return the smallest which is 0.\n",
    "\n",
    " \n",
    "\n",
    "\n",
    "\n",
    "**Constraints:**\n",
    "\n",
    "\n",
    "\n",
    "1 <= n.length <= 18\n",
    "\n",
    "n consists of only digits.\n",
    "\n",
    "n does not have leading zeros.\n",
    "\n",
    "n is representing an integer in the range [1, 1018 - 1]."
   ]
  }
 ],
 "metadata": {
  "language_info": {
   "name": "python"
  }
 },
 "nbformat": 4,
 "nbformat_minor": 5
}
