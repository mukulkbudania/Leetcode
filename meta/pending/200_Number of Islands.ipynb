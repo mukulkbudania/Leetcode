{
  "cells": [
    {
      "cell_type": "markdown",
      "id": "12a1e1d7",
      "metadata": {},
      "source": [
        "Given an m x n 2D binary grid grid which represents a map of '1's (land) and '0's (water), return the number of islands.\n",
        "\n",
        "An island is surrounded by water and is formed by connecting adjacent lands horizontally or vertically. You may assume all four edges of the grid are all surrounded by water.\n",
        "\n",
        " \n",
        "\n",
        "Example 1:\n",
        "\n",
        "Input: grid = [\n",
        "  [\"1\",\"1\",\"1\",\"1\",\"0\"],\n",
        "  [\"1\",\"1\",\"0\",\"1\",\"0\"],\n",
        "  [\"1\",\"1\",\"0\",\"0\",\"0\"],\n",
        "  [\"0\",\"0\",\"0\",\"0\",\"0\"]\n",
        "]\n",
        "Output: 1\n",
        "Example 2:\n",
        "\n",
        "Input: grid = [\n",
        "  [\"1\",\"1\",\"0\",\"0\",\"0\"],\n",
        "  [\"1\",\"1\",\"0\",\"0\",\"0\"],\n",
        "  [\"0\",\"0\",\"1\",\"0\",\"0\"],\n",
        "  [\"0\",\"0\",\"0\",\"1\",\"1\"]\n",
        "]\n",
        "Output: 3\n",
        " \n",
        "\n",
        "Constraints:\n",
        "\n",
        "m == grid.length\n",
        "n == grid[i].length\n",
        "1 <= m, n <= 300\n",
        "grid[i][j] is '0' or '1'."
      ]
    }
  ],
  "metadata": {
    "language_info": {
      "name": "python"
    }
  },
  "nbformat": 4,
  "nbformat_minor": 5
}
