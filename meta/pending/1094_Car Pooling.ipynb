{
  "cells": [
    {
      "cell_type": "markdown",
      "id": "50d890e3",
      "metadata": {},
      "source": [
        "There is a car with capacity empty seats. The vehicle only drives east (i.e., it cannot turn around and drive west).\n",
        "\n",
        "You are given the integer capacity and an array trips where trips[i] = [numPassengersi, fromi, toi] indicates that the ith trip has numPassengersi passengers and the locations to pick them up and drop them off are fromi and toi respectively. The locations are given as the number of kilometers due east from the car's initial location.\n",
        "\n",
        "Return true if it is possible to pick up and drop off all passengers for all the given trips, or false otherwise.\n",
        "\n",
        " \n",
        "\n",
        "Example 1:\n",
        "\n",
        "Input: trips = [[2,1,5],[3,3,7]], capacity = 4\n",
        "Output: false\n",
        "Example 2:\n",
        "\n",
        "Input: trips = [[2,1,5],[3,3,7]], capacity = 5\n",
        "Output: true\n",
        " \n",
        "\n",
        "Constraints:\n",
        "\n",
        "1 <= trips.length <= 1000\n",
        "trips[i].length == 3\n",
        "1 <= numPassengersi <= 100\n",
        "0 <= fromi < toi <= 1000\n",
        "1 <= capacity <= 105"
      ]
    }
  ],
  "metadata": {
    "language_info": {
      "name": "python"
    }
  },
  "nbformat": 4,
  "nbformat_minor": 5
}
