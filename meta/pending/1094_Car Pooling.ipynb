{
 "cells": [
  {
   "cell_type": "markdown",
   "id": "6839f67b",
   "metadata": {},
   "source": [
    "# 1094. Car Pooling"
   ]
  },
  {
   "cell_type": "markdown",
   "id": "50d890e3",
   "metadata": {},
   "source": [
    "There is a car with capacity empty seats. The vehicle only drives east (i.e., it cannot turn around and drive west).\n",
    "\n",
    "\n",
    "\n",
    "You are given the integer capacity and an array trips where trips[i] = [numPassengersi, fromi, toi] indicates that the ith trip has numPassengersi passengers and the locations to pick them up and drop them off are fromi and toi respectively. The locations are given as the number of kilometers due east from the car's initial location.\n",
    "\n",
    "\n",
    "\n",
    "Return true if it is possible to pick up and drop off all passengers for all the given trips, or false otherwise.\n",
    "\n",
    "\n",
    "\n",
    " \n",
    "\n",
    "\n",
    "\n",
    "**Example 1:**\n",
    "\n",
    "\n",
    "\n",
    "Input: trips = [[2,1,5],[3,3,7]], capacity = 4\n",
    "\n",
    "Output: false\n",
    "\n",
    "**Example 2:**\n",
    "\n",
    "\n",
    "\n",
    "Input: trips = [[2,1,5],[3,3,7]], capacity = 5\n",
    "\n",
    "Output: true\n",
    "\n",
    " \n",
    "\n",
    "\n",
    "\n",
    "**Constraints:**\n",
    "\n",
    "\n",
    "\n",
    "1 <= trips.length <= 1000\n",
    "\n",
    "trips[i].length == 3\n",
    "\n",
    "1 <= numPassengersi <= 100\n",
    "\n",
    "0 <= fromi < toi <= 1000\n",
    "\n",
    "1 <= capacity <= 105"
   ]
  }
 ],
 "metadata": {
  "language_info": {
   "name": "python"
  }
 },
 "nbformat": 4,
 "nbformat_minor": 5
}
