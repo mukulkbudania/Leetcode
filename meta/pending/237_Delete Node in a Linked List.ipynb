{
  "cells": [
    {
      "cell_type": "markdown",
      "id": "2ddcb2be",
      "metadata": {},
      "source": [
        "There is a singly-linked list head and we want to delete a node node in it.\n",
        "\n",
        "You are given the node to be deleted node. You will not be given access to the first node of head.\n",
        "\n",
        "All the values of the linked list are unique, and it is guaranteed that the given node node is not the last node in the linked list.\n",
        "\n",
        "Delete the given node. Note that by deleting the node, we do not mean removing it from memory. We mean:\n",
        "\n",
        "The value of the given node should not exist in the linked list.\n",
        "The number of nodes in the linked list should decrease by one.\n",
        "All the values before node should be in the same order.\n",
        "All the values after node should be in the same order.\n",
        "Custom testing:\n",
        "\n",
        "For the input, you should provide the entire linked list head and the node to be given node. node should not be the last node of the list and should be an actual node in the list.\n",
        "We will build the linked list and pass the node to your function.\n",
        "The output will be the entire list after calling your function.\n",
        " \n",
        "\n",
        "Example 1:\n",
        "\n",
        "\n",
        "Input: head = [4,5,1,9], node = 5\n",
        "Output: [4,1,9]\n",
        "Explanation: You are given the second node with value 5, the linked list should become 4 -> 1 -> 9 after calling your function.\n",
        "Example 2:\n",
        "\n",
        "\n",
        "Input: head = [4,5,1,9], node = 1\n",
        "Output: [4,5,9]\n",
        "Explanation: You are given the third node with value 1, the linked list should become 4 -> 5 -> 9 after calling your function.\n",
        " \n",
        "\n",
        "Constraints:\n",
        "\n",
        "The number of the nodes in the given list is in the range [2, 1000].\n",
        "-1000 <= Node.val <= 1000\n",
        "The value of each node in the list is unique.\n",
        "The node to be deleted is in the list and is not a tail node."
      ]
    }
  ],
  "metadata": {
    "language_info": {
      "name": "python"
    }
  },
  "nbformat": 4,
  "nbformat_minor": 5
}
