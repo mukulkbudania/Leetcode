{
  "cells": [
    {
      "cell_type": "markdown",
      "id": "1a306c3e",
      "metadata": {},
      "source": [
        "You are given an integer mountain array arr of length n where the values increase to a peak element and then decrease.\n",
        "\n",
        "Return the index of the peak element.\n",
        "\n",
        "Your task is to solve it in O(log(n)) time complexity.\n",
        "\n",
        " \n",
        "\n",
        "Example 1:\n",
        "\n",
        "Input: arr = [0,1,0]\n",
        "\n",
        "Output: 1\n",
        "\n",
        "Example 2:\n",
        "\n",
        "Input: arr = [0,2,1,0]\n",
        "\n",
        "Output: 1\n",
        "\n",
        "Example 3:\n",
        "\n",
        "Input: arr = [0,10,5,2]\n",
        "\n",
        "Output: 1\n",
        "\n",
        " \n",
        "\n",
        "Constraints:\n",
        "\n",
        "3 <= arr.length <= 105\n",
        "0 <= arr[i] <= 106\n",
        "arr is guaranteed to be a mountain array."
      ]
    }
  ],
  "metadata": {
    "language_info": {
      "name": "python"
    }
  },
  "nbformat": 4,
  "nbformat_minor": 5
}
