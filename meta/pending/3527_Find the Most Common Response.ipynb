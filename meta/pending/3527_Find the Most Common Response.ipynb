{
  "cells": [
    {
      "cell_type": "markdown",
      "id": "d576c7e5",
      "metadata": {},
      "source": [
        "You are given a 2D string array responses where each responses[i] is an array of strings representing survey responses from the ith day.\n",
        "\n",
        "Return the most common response across all days after removing duplicate responses within each responses[i]. If there is a tie, return the lexicographically smallest response.\n",
        "\n",
        " \n",
        "\n",
        "Example 1:\n",
        "\n",
        "Input: responses = [[\"good\",\"ok\",\"good\",\"ok\"],[\"ok\",\"bad\",\"good\",\"ok\",\"ok\"],[\"good\"],[\"bad\"]]\n",
        "\n",
        "Output: \"good\"\n",
        "\n",
        "Explanation:\n",
        "\n",
        "After removing duplicates within each list, responses = [[\"good\", \"ok\"], [\"ok\", \"bad\", \"good\"], [\"good\"], [\"bad\"]].\n",
        "\"good\" appears 3 times, \"ok\" appears 2 times, and \"bad\" appears 2 times.\n",
        "Return \"good\" because it has the highest frequency.\n",
        "Example 2:\n",
        "\n",
        "Input: responses = [[\"good\",\"ok\",\"good\"],[\"ok\",\"bad\"],[\"bad\",\"notsure\"],[\"great\",\"good\"]]\n",
        "\n",
        "Output: \"bad\"\n",
        "\n",
        "Explanation:\n",
        "\n",
        "After removing duplicates within each list we have responses = [[\"good\", \"ok\"], [\"ok\", \"bad\"], [\"bad\", \"notsure\"], [\"great\", \"good\"]].\n",
        "\"bad\", \"good\", and \"ok\" each occur 2 times.\n",
        "The output is \"bad\" because it is the lexicographically smallest amongst the words with the highest frequency.\n",
        " \n",
        "\n",
        "Constraints:\n",
        "\n",
        "1 <= responses.length <= 1000\n",
        "1 <= responses[i].length <= 1000\n",
        "1 <= responses[i][j].length <= 10\n",
        "responses[i][j] consists of only lowercase English letters"
      ]
    }
  ],
  "metadata": {
    "language_info": {
      "name": "python"
    }
  },
  "nbformat": 4,
  "nbformat_minor": 5
}
