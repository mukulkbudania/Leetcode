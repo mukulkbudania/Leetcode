{
  "cells": [
    {
      "cell_type": "markdown",
      "id": "eb3ce990",
      "metadata": {},
      "source": [
        "According to Wikipedia's article: \"The Game of Life, also known simply as Life, is a cellular automaton devised by the British mathematician John Horton Conway in 1970.\"\n",
        "\n",
        "The board is made up of an m x n grid of cells, where each cell has an initial state: live (represented by a 1) or dead (represented by a 0). Each cell interacts with its eight neighbors (horizontal, vertical, diagonal) using the following four rules (taken from the above Wikipedia article):\n",
        "\n",
        "Any live cell with fewer than two live neighbors dies as if caused by under-population.\n",
        "Any live cell with two or three live neighbors lives on to the next generation.\n",
        "Any live cell with more than three live neighbors dies, as if by over-population.\n",
        "Any dead cell with exactly three live neighbors becomes a live cell, as if by reproduction.\n",
        "The next state of the board is determined by applying the above rules simultaneously to every cell in the current state of the m x n grid board. In this process, births and deaths occur simultaneously.\n",
        "\n",
        "Given the current state of the board, update the board to reflect its next state.\n",
        "\n",
        "Note that you do not need to return anything.\n",
        "\n",
        " \n",
        "\n",
        "Example 1:\n",
        "\n",
        "\n",
        "Input: board = [[0,1,0],[0,0,1],[1,1,1],[0,0,0]]\n",
        "Output: [[0,0,0],[1,0,1],[0,1,1],[0,1,0]]\n",
        "Example 2:\n",
        "\n",
        "\n",
        "Input: board = [[1,1],[1,0]]\n",
        "Output: [[1,1],[1,1]]\n",
        " \n",
        "\n",
        "Constraints:\n",
        "\n",
        "m == board.length\n",
        "n == board[i].length\n",
        "1 <= m, n <= 25\n",
        "board[i][j] is 0 or 1.\n",
        " \n",
        "\n",
        "Follow up:\n",
        "\n",
        "Could you solve it in-place? Remember that the board needs to be updated simultaneously: You cannot update some cells first and then use their updated values to update other cells.\n",
        "In this question, we represent the board using a 2D array. In principle, the board is infinite, which would cause problems when the active area encroaches upon the border of the array (i.e., live cells reach the border). How would you address these problems?"
      ]
    }
  ],
  "metadata": {
    "language_info": {
      "name": "python"
    }
  },
  "nbformat": 4,
  "nbformat_minor": 5
}
