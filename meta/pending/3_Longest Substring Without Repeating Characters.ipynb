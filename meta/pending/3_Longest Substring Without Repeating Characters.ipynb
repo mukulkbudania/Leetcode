{
  "cells": [
    {
      "cell_type": "markdown",
      "id": "a46449c4",
      "metadata": {},
      "source": [
        "Given a string s, find the length of the longest substring without duplicate characters.\n",
        "\n",
        " \n",
        "\n",
        "Example 1:\n",
        "\n",
        "Input: s = \"abcabcbb\"\n",
        "Output: 3\n",
        "Explanation: The answer is \"abc\", with the length of 3.\n",
        "Example 2:\n",
        "\n",
        "Input: s = \"bbbbb\"\n",
        "Output: 1\n",
        "Explanation: The answer is \"b\", with the length of 1.\n",
        "Example 3:\n",
        "\n",
        "Input: s = \"pwwkew\"\n",
        "Output: 3\n",
        "Explanation: The answer is \"wke\", with the length of 3.\n",
        "Notice that the answer must be a substring, \"pwke\" is a subsequence and not a substring.\n",
        " \n",
        "\n",
        "Constraints:\n",
        "\n",
        "0 <= s.length <= 5 * 104\n",
        "s consists of English letters, digits, symbols and spaces."
      ]
    },
    {
      "cell_type": "markdown",
      "id": "7591d428",
      "metadata": {},
      "source": [
        "Explanation:\n",
        "\t•\tWe use a dictionary char_index to keep track of the last index where each character was seen.\n",
        "\t•\tThe sliding window is defined by left and right:\n",
        "\t•\tright moves forward at every step.\n",
        "\t•\tIf we see a repeated character inside the window (char_index[char] >= left), we move left just past its last occurrence.\n",
        "\t•\tAt every step, compute the window length right - left + 1 and keep track of the maximum."
      ]
    },
    {
      "cell_type": "code",
      "execution_count": 1,
      "id": "b82522dd",
      "metadata": {},
      "outputs": [],
      "source": [
        "def lengthOfLongestSubstring(s):\n",
        "    char_index = {}      # To store the last seen index of each character\n",
        "    left = 0             # Left end of the sliding window\n",
        "    max_length = 0\n",
        "\n",
        "    for right, char in enumerate(s):\n",
        "        if char in char_index and char_index[char] >= left:\n",
        "            # Character is duplicated within the current window\n",
        "            left = char_index[char] + 1\n",
        "\n",
        "        char_index[char] = right\n",
        "        max_length = max(max_length, right - left + 1)\n",
        "\n",
        "    return max_length"
      ]
    }
  ],
  "metadata": {
    "kernelspec": {
      "display_name": "Python 3",
      "language": "python",
      "name": "python3"
    },
    "language_info": {
      "codemirror_mode": {
        "name": "ipython",
        "version": 3
      },
      "file_extension": ".py",
      "mimetype": "text/x-python",
      "name": "python",
      "nbconvert_exporter": "python",
      "pygments_lexer": "ipython3",
      "version": "3.11.9"
    }
  },
  "nbformat": 4,
  "nbformat_minor": 5
}
