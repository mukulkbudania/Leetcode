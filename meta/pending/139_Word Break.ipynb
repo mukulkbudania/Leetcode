{
  "cells": [
    {
      "cell_type": "markdown",
      "id": "fad6cbd6",
      "metadata": {},
      "source": [
        "Given a string s and a dictionary of strings wordDict, return true if s can be segmented into a space-separated sequence of one or more dictionary words.\n",
        "\n",
        "Note that the same word in the dictionary may be reused multiple times in the segmentation.\n",
        "\n",
        " \n",
        "\n",
        "Example 1:\n",
        "\n",
        "Input: s = \"leetcode\", wordDict = [\"leet\",\"code\"]\n",
        "Output: true\n",
        "Explanation: Return true because \"leetcode\" can be segmented as \"leet code\".\n",
        "Example 2:\n",
        "\n",
        "Input: s = \"applepenapple\", wordDict = [\"apple\",\"pen\"]\n",
        "Output: true\n",
        "Explanation: Return true because \"applepenapple\" can be segmented as \"apple pen apple\".\n",
        "Note that you are allowed to reuse a dictionary word.\n",
        "Example 3:\n",
        "\n",
        "Input: s = \"catsandog\", wordDict = [\"cats\",\"dog\",\"sand\",\"and\",\"cat\"]\n",
        "Output: false\n",
        " \n",
        "\n",
        "Constraints:\n",
        "\n",
        "1 <= s.length <= 300\n",
        "1 <= wordDict.length <= 1000\n",
        "1 <= wordDict[i].length <= 20\n",
        "s and wordDict[i] consist of only lowercase English letters.\n",
        "All the strings of wordDict are unique."
      ]
    }
  ],
  "metadata": {
    "language_info": {
      "name": "python"
    }
  },
  "nbformat": 4,
  "nbformat_minor": 5
}
