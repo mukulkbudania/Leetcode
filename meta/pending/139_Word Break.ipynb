{
 "cells": [
  {
   "cell_type": "markdown",
   "id": "172b88be",
   "metadata": {},
   "source": [
    "# 139. Word Break"
   ]
  },
  {
   "cell_type": "markdown",
   "id": "fad6cbd6",
   "metadata": {},
   "source": [
    "Given a string s and a dictionary of strings wordDict, return true if s can be segmented into a space-separated sequence of one or more dictionary words.\n",
    "\n",
    "\n",
    "\n",
    "Note that the same word in the dictionary may be reused multiple times in the segmentation.\n",
    "\n",
    "\n",
    "\n",
    " \n",
    "\n",
    "\n",
    "\n",
    "**Example 1:**\n",
    "\n",
    "\n",
    "\n",
    "Input: s = \"leetcode\", wordDict = [\"leet\",\"code\"]\n",
    "\n",
    "Output: true\n",
    "\n",
    "Explanation: Return true because \"leetcode\" can be segmented as \"leet code\".\n",
    "\n",
    "**Example 2:**\n",
    "\n",
    "\n",
    "\n",
    "Input: s = \"applepenapple\", wordDict = [\"apple\",\"pen\"]\n",
    "\n",
    "Output: true\n",
    "\n",
    "Explanation: Return true because \"applepenapple\" can be segmented as \"apple pen apple\".\n",
    "\n",
    "Note that you are allowed to reuse a dictionary word.\n",
    "\n",
    "**Example 3:**\n",
    "\n",
    "\n",
    "\n",
    "Input: s = \"catsandog\", wordDict = [\"cats\",\"dog\",\"sand\",\"and\",\"cat\"]\n",
    "\n",
    "Output: false\n",
    "\n",
    " \n",
    "\n",
    "\n",
    "\n",
    "**Constraints:**\n",
    "\n",
    "\n",
    "\n",
    "1 <= s.length <= 300\n",
    "\n",
    "1 <= wordDict.length <= 1000\n",
    "\n",
    "1 <= wordDict[i].length <= 20\n",
    "\n",
    "s and wordDict[i] consist of only lowercase English letters.\n",
    "\n",
    "All the strings of wordDict are unique."
   ]
  }
 ],
 "metadata": {
  "language_info": {
   "name": "python"
  }
 },
 "nbformat": 4,
 "nbformat_minor": 5
}
