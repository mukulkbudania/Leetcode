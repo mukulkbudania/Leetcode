{
  "cells": [
    {
      "cell_type": "markdown",
      "id": "a7b52046",
      "metadata": {},
      "source": [
        "There are n dominoes in a line, and we place each domino vertically upright. In the beginning, we simultaneously push some of the dominoes either to the left or to the right.\n",
        "\n",
        "After each second, each domino that is falling to the left pushes the adjacent domino on the left. Similarly, the dominoes falling to the right push their adjacent dominoes standing on the right.\n",
        "\n",
        "When a vertical domino has dominoes falling on it from both sides, it stays still due to the balance of the forces.\n",
        "\n",
        "For the purposes of this question, we will consider that a falling domino expends no additional force to a falling or already fallen domino.\n",
        "\n",
        "You are given a string dominoes representing the initial state where:\n",
        "\n",
        "dominoes[i] = 'L', if the ith domino has been pushed to the left,\n",
        "dominoes[i] = 'R', if the ith domino has been pushed to the right, and\n",
        "dominoes[i] = '.', if the ith domino has not been pushed.\n",
        "Return a string representing the final state.\n",
        "\n",
        " \n",
        "\n",
        "Example 1:\n",
        "\n",
        "Input: dominoes = \"RR.L\"\n",
        "Output: \"RR.L\"\n",
        "Explanation: The first domino expends no additional force on the second domino.\n",
        "Example 2:\n",
        "\n",
        "\n",
        "Input: dominoes = \".L.R...LR..L..\"\n",
        "Output: \"LL.RR.LLRRLL..\"\n",
        " \n",
        "\n",
        "Constraints:\n",
        "\n",
        "n == dominoes.length\n",
        "1 <= n <= 105\n",
        "dominoes[i] is either 'L', 'R', or '.'."
      ]
    }
  ],
  "metadata": {
    "language_info": {
      "name": "python"
    }
  },
  "nbformat": 4,
  "nbformat_minor": 5
}
