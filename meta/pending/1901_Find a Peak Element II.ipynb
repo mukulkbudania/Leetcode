{
  "cells": [
    {
      "cell_type": "markdown",
      "id": "22c360c6",
      "metadata": {},
      "source": [
        "A peak element in a 2D grid is an element that is strictly greater than all of its adjacent neighbors to the left, right, top, and bottom.\n",
        "\n",
        "Given a 0-indexed m x n matrix mat where no two adjacent cells are equal, find any peak element mat[i][j] and return the length 2 array [i,j].\n",
        "\n",
        "You may assume that the entire matrix is surrounded by an outer perimeter with the value -1 in each cell.\n",
        "\n",
        "You must write an algorithm that runs in O(m log(n)) or O(n log(m)) time.\n",
        "\n",
        " \n",
        "\n",
        "Example 1:\n",
        "\n",
        "\n",
        "\n",
        "Input: mat = [[1,4],[3,2]]\n",
        "Output: [0,1]\n",
        "Explanation: Both 3 and 4 are peak elements so [1,0] and [0,1] are both acceptable answers.\n",
        "Example 2:\n",
        "\n",
        "\n",
        "\n",
        "Input: mat = [[10,20,15],[21,30,14],[7,16,32]]\n",
        "Output: [1,1]\n",
        "Explanation: Both 30 and 32 are peak elements so [1,1] and [2,2] are both acceptable answers.\n",
        " \n",
        "\n",
        "Constraints:\n",
        "\n",
        "m == mat.length\n",
        "n == mat[i].length\n",
        "1 <= m, n <= 500\n",
        "1 <= mat[i][j] <= 105\n",
        "No two adjacent cells are equal."
      ]
    }
  ],
  "metadata": {
    "language_info": {
      "name": "python"
    }
  },
  "nbformat": 4,
  "nbformat_minor": 5
}
