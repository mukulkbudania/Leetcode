{
  "cells": [
    {
      "cell_type": "markdown",
      "id": "7580b8ee",
      "metadata": {},
      "source": [
        "A path in a binary tree is a sequence of nodes where each pair of adjacent nodes in the sequence has an edge connecting them. A node can only appear in the sequence at most once. Note that the path does not need to pass through the root.\n",
        "\n",
        "The path sum of a path is the sum of the node's values in the path.\n",
        "\n",
        "Given the root of a binary tree, return the maximum path sum of any non-empty path.\n",
        "\n",
        " \n",
        "\n",
        "Example 1:\n",
        "\n",
        "\n",
        "Input: root = [1,2,3]\n",
        "Output: 6\n",
        "Explanation: The optimal path is 2 -> 1 -> 3 with a path sum of 2 + 1 + 3 = 6.\n",
        "Example 2:\n",
        "\n",
        "\n",
        "Input: root = [-10,9,20,null,null,15,7]\n",
        "Output: 42\n",
        "Explanation: The optimal path is 15 -> 20 -> 7 with a path sum of 15 + 20 + 7 = 42.\n",
        " \n",
        "\n",
        "Constraints:\n",
        "\n",
        "The number of nodes in the tree is in the range [1, 3 * 104].\n",
        "-1000 <= Node.val <= 1000\n"
      ]
    }
  ],
  "metadata": {
    "language_info": {
      "name": "python"
    }
  },
  "nbformat": 4,
  "nbformat_minor": 5
}
