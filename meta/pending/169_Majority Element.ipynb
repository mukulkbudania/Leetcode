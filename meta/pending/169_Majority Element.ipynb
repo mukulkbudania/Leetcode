{
 "cells": [
  {
   "cell_type": "markdown",
   "id": "a1a6bd96",
   "metadata": {},
   "source": [
    "# 169. Majority Element"
   ]
  },
  {
   "cell_type": "markdown",
   "id": "fdf71403",
   "metadata": {},
   "source": [
    "Given an array nums of size n, return the majority element.\n",
    "\n",
    "\n",
    "\n",
    "The majority element is the element that appears more than ⌊n / 2⌋ times. You may assume that the majority element always exists in the array.\n",
    "\n",
    "\n",
    "\n",
    " \n",
    "\n",
    "\n",
    "\n",
    "**Example 1:**\n",
    "\n",
    "\n",
    "\n",
    "Input: nums = [3,2,3]\n",
    "\n",
    "Output: 3\n",
    "\n",
    "**Example 2:**\n",
    "\n",
    "\n",
    "\n",
    "Input: nums = [2,2,1,1,1,2,2]\n",
    "\n",
    "Output: 2\n",
    "\n",
    " \n",
    "\n",
    "\n",
    "\n",
    "**Constraints:**\n",
    "\n",
    "\n",
    "\n",
    "n == nums.length\n",
    "\n",
    "1 <= n <= 5 * 104\n",
    "\n",
    "-109 <= nums[i] <= 109\n",
    "\n",
    " \n",
    "\n",
    "\n",
    "\n",
    "Follow-up: Could you solve the problem in linear time and in O(1) space?"
   ]
  }
 ],
 "metadata": {
  "language_info": {
   "name": "python"
  }
 },
 "nbformat": 4,
 "nbformat_minor": 5
}
