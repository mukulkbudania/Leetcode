{
  "cells": [
    {
      "cell_type": "markdown",
      "id": "0b187e3d",
      "metadata": {},
      "source": [
        "You are given a string num, representing a large integer. Return the largest-valued odd integer (as a string) that is a non-empty substring of num, or an empty string \"\" if no odd integer exists.\n",
        "\n",
        "A substring is a contiguous sequence of characters within a string.\n",
        "\n",
        " \n",
        "\n",
        "Example 1:\n",
        "\n",
        "Input: num = \"52\"\n",
        "Output: \"5\"\n",
        "Explanation: The only non-empty substrings are \"5\", \"2\", and \"52\". \"5\" is the only odd number.\n",
        "Example 2:\n",
        "\n",
        "Input: num = \"4206\"\n",
        "Output: \"\"\n",
        "Explanation: There are no odd numbers in \"4206\".\n",
        "Example 3:\n",
        "\n",
        "Input: num = \"35427\"\n",
        "Output: \"35427\"\n",
        "Explanation: \"35427\" is already an odd number.\n",
        " \n",
        "\n",
        "Constraints:\n",
        "\n",
        "1 <= num.length <= 105\n",
        "num only consists of digits and does not contain any leading zeros."
      ]
    }
  ],
  "metadata": {
    "language_info": {
      "name": "python"
    }
  },
  "nbformat": 4,
  "nbformat_minor": 5
}
