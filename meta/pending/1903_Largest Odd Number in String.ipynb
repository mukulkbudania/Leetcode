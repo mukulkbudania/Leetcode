{
 "cells": [
  {
   "cell_type": "markdown",
   "id": "b0677dc4",
   "metadata": {},
   "source": [
    "# 1903. Largest Odd Number in String"
   ]
  },
  {
   "cell_type": "markdown",
   "id": "0b187e3d",
   "metadata": {},
   "source": [
    "You are given a string num, representing a large integer. Return the largest-valued odd integer (as a string) that is a non-empty substring of num, or an empty string \"\" if no odd integer exists.\n",
    "\n",
    "\n",
    "\n",
    "A substring is a contiguous sequence of characters within a string.\n",
    "\n",
    "\n",
    "\n",
    " \n",
    "\n",
    "\n",
    "\n",
    "**Example 1:**\n",
    "\n",
    "\n",
    "\n",
    "Input: num = \"52\"\n",
    "\n",
    "Output: \"5\"\n",
    "\n",
    "Explanation: The only non-empty substrings are \"5\", \"2\", and \"52\". \"5\" is the only odd number.\n",
    "\n",
    "**Example 2:**\n",
    "\n",
    "\n",
    "\n",
    "Input: num = \"4206\"\n",
    "\n",
    "Output: \"\"\n",
    "\n",
    "Explanation: There are no odd numbers in \"4206\".\n",
    "\n",
    "**Example 3:**\n",
    "\n",
    "\n",
    "\n",
    "Input: num = \"35427\"\n",
    "\n",
    "Output: \"35427\"\n",
    "\n",
    "Explanation: \"35427\" is already an odd number.\n",
    "\n",
    " \n",
    "\n",
    "\n",
    "\n",
    "**Constraints:**\n",
    "\n",
    "\n",
    "\n",
    "1 <= num.length <= 105\n",
    "\n",
    "num only consists of digits and does not contain any leading zeros."
   ]
  }
 ],
 "metadata": {
  "language_info": {
   "name": "python"
  }
 },
 "nbformat": 4,
 "nbformat_minor": 5
}
