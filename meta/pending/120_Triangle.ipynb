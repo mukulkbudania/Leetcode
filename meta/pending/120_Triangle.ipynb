{
 "cells": [
  {
   "cell_type": "markdown",
   "id": "eb79d4ea",
   "metadata": {},
   "source": [
    "# 120. Triangle"
   ]
  },
  {
   "cell_type": "markdown",
   "id": "c926b185",
   "metadata": {},
   "source": [
    "Given a triangle array, return the minimum path sum from top to bottom.\n",
    "\n",
    "\n",
    "\n",
    "For each step, you may move to an adjacent number of the row below. More formally, if you are on index i on the current row, you may move to either index i or index i + 1 on the next row.\n",
    "\n",
    "\n",
    "\n",
    " \n",
    "\n",
    "\n",
    "\n",
    "**Example 1:**\n",
    "\n",
    "\n",
    "\n",
    "Input: triangle = [[2],[3,4],[6,5,7],[4,1,8,3]]\n",
    "\n",
    "Output: 11\n",
    "\n",
    "Explanation: The triangle looks like:\n",
    "\n",
    "   2\n",
    "\n",
    "  3 4\n",
    "\n",
    " 6 5 7\n",
    "\n",
    "4 1 8 3\n",
    "\n",
    "The minimum path sum from top to bottom is 2 + 3 + 5 + 1 = 11 (underlined above).\n",
    "\n",
    "**Example 2:**\n",
    "\n",
    "\n",
    "\n",
    "Input: triangle = [[-10]]\n",
    "\n",
    "Output: -10\n",
    "\n",
    " \n",
    "\n",
    "\n",
    "\n",
    "**Constraints:**\n",
    "\n",
    "\n",
    "\n",
    "1 <= triangle.length <= 200\n",
    "\n",
    "triangle[0].length == 1\n",
    "\n",
    "triangle[i].length == triangle[i - 1].length + 1\n",
    "\n",
    "-104 <= triangle[i][j] <= 104\n",
    "\n",
    " \n",
    "\n",
    "\n",
    "\n",
    "Follow up: Could you do this using only O(n) extra space, where n is the total number of rows in the triangle?"
   ]
  }
 ],
 "metadata": {
  "language_info": {
   "name": "python"
  }
 },
 "nbformat": 4,
 "nbformat_minor": 5
}
