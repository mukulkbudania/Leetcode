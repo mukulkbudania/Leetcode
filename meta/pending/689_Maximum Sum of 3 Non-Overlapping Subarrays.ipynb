{
 "cells": [
  {
   "cell_type": "markdown",
   "id": "d3df45ed",
   "metadata": {},
   "source": [
    "# 689. Maximum Sum of 3 Non-Overlapping Subarrays"
   ]
  },
  {
   "cell_type": "markdown",
   "id": "f09c2973",
   "metadata": {},
   "source": [
    "Given an integer array nums and an integer k, find three non-overlapping subarrays of length k with maximum sum and return them.\n",
    "\n",
    "\n",
    "\n",
    "Return the result as a list of indices representing the starting position of each interval (0-indexed). If there are multiple answers, return the lexicographically smallest one.\n",
    "\n",
    "\n",
    "\n",
    " \n",
    "\n",
    "\n",
    "\n",
    "**Example 1:**\n",
    "\n",
    "\n",
    "\n",
    "Input: nums = [1,2,1,2,6,7,5,1], k = 2\n",
    "\n",
    "Output: [0,3,5]\n",
    "\n",
    "Explanation: Subarrays [1, 2], [2, 6], [7, 5] correspond to the starting indices [0, 3, 5].\n",
    "\n",
    "We could have also taken [2, 1], but an answer of [1, 3, 5] would be lexicographically larger.\n",
    "\n",
    "**Example 2:**\n",
    "\n",
    "\n",
    "\n",
    "Input: nums = [1,2,1,2,1,2,1,2,1], k = 2\n",
    "\n",
    "Output: [0,2,4]\n",
    "\n",
    " \n",
    "\n",
    "\n",
    "\n",
    "**Constraints:**\n",
    "\n",
    "\n",
    "\n",
    "1 <= nums.length <= 2 * 104\n",
    "\n",
    "1 <= nums[i] < 216\n",
    "\n",
    "1 <= k <= floor(nums.length / 3)\n",
    "\n"
   ]
  }
 ],
 "metadata": {
  "language_info": {
   "name": "python"
  }
 },
 "nbformat": 4,
 "nbformat_minor": 5
}
