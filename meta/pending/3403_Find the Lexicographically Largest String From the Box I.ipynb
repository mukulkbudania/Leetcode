{
  "cells": [
    {
      "cell_type": "markdown",
      "id": "6020ab01",
      "metadata": {},
      "source": [
        "You are given a string word, and an integer numFriends.\n",
        "\n",
        "Alice is organizing a game for her numFriends friends. There are multiple rounds in the game, where in each round:\n",
        "\n",
        "word is split into numFriends non-empty strings, such that no previous round has had the exact same split.\n",
        "All the split words are put into a box.\n",
        "Find the lexicographically largest string from the box after all the rounds are finished.\n",
        "\n",
        " \n",
        "\n",
        "Example 1:\n",
        "\n",
        "Input: word = \"dbca\", numFriends = 2\n",
        "\n",
        "Output: \"dbc\"\n",
        "\n",
        "Explanation: \n",
        "\n",
        "All possible splits are:\n",
        "\n",
        "\"d\" and \"bca\".\n",
        "\"db\" and \"ca\".\n",
        "\"dbc\" and \"a\".\n",
        "Example 2:\n",
        "\n",
        "Input: word = \"gggg\", numFriends = 4\n",
        "\n",
        "Output: \"g\"\n",
        "\n",
        "Explanation: \n",
        "\n",
        "The only possible split is: \"g\", \"g\", \"g\", and \"g\".\n",
        "\n",
        " \n",
        "\n",
        "Constraints:\n",
        "\n",
        "1 <= word.length <= 5 * 103\n",
        "word consists only of lowercase English letters.\n",
        "1 <= numFriends <= word.length"
      ]
    }
  ],
  "metadata": {
    "language_info": {
      "name": "python"
    }
  },
  "nbformat": 4,
  "nbformat_minor": 5
}
