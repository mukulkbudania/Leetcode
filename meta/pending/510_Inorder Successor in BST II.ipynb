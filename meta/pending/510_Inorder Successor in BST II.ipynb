{
  "cells": [
    {
      "cell_type": "markdown",
      "id": "44d2db8a",
      "metadata": {},
      "source": [
        "Given a node in a binary search tree, return the in-order successor of that node in the BST. If that node has no in-order successor, return null.\n",
        "\n",
        "The successor of a node is the node with the smallest key greater than node.val.\n",
        "\n",
        "You will have direct access to the node but not to the root of the tree. Each node will have a reference to its parent node. Below is the definition for Node:\n",
        "\n",
        "class Node {\n",
        "    public int val;\n",
        "    public Node left;\n",
        "    public Node right;\n",
        "    public Node parent;\n",
        "}\n",
        " \n",
        "\n",
        "Example 1:\n",
        "\n",
        "\n",
        "Input: tree = [2,1,3], node = 1\n",
        "Output: 2\n",
        "Explanation: 1's in-order successor node is 2. Note that both the node and the return value is of Node type.\n",
        "Example 2:\n",
        "\n",
        "\n",
        "Input: tree = [5,3,6,2,4,null,null,1], node = 6\n",
        "Output: null\n",
        "Explanation: There is no in-order successor of the current node, so the answer is null.\n",
        " \n",
        "\n",
        "Constraints:\n",
        "\n",
        "The number of nodes in the tree is in the range [1, 104].\n",
        "-105 <= Node.val <= 105\n",
        "All Nodes will have unique values.\n",
        " \n",
        "\n",
        "Follow up: Could you solve it without looking up any of the node's values?"
      ]
    }
  ],
  "metadata": {
    "language_info": {
      "name": "python"
    }
  },
  "nbformat": 4,
  "nbformat_minor": 5
}
