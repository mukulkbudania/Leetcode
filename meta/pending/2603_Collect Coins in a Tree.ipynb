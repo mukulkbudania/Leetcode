{
  "cells": [
    {
      "cell_type": "markdown",
      "id": "29c839a1",
      "metadata": {},
      "source": [
        "There exists an undirected and unrooted tree with n nodes indexed from 0 to n - 1. You are given an integer n and a 2D integer array edges of length n - 1, where edges[i] = [ai, bi] indicates that there is an edge between nodes ai and bi in the tree. You are also given an array coins of size n where coins[i] can be either 0 or 1, where 1 indicates the presence of a coin in the vertex i.\n",
        "\n",
        "Initially, you choose to start at any vertex in the tree. Then, you can perform the following operations any number of times: \n",
        "\n",
        "Collect all the coins that are at a distance of at most 2 from the current vertex, or\n",
        "Move to any adjacent vertex in the tree.\n",
        "Find the minimum number of edges you need to go through to collect all the coins and go back to the initial vertex.\n",
        "\n",
        "Note that if you pass an edge several times, you need to count it into the answer several times.\n",
        "\n",
        " \n",
        "\n",
        "Example 1:\n",
        "\n",
        "\n",
        "Input: coins = [1,0,0,0,0,1], edges = [[0,1],[1,2],[2,3],[3,4],[4,5]]\n",
        "Output: 2\n",
        "Explanation: Start at vertex 2, collect the coin at vertex 0, move to vertex 3, collect the coin at vertex 5 then move back to vertex 2.\n",
        "Example 2:\n",
        "\n",
        "\n",
        "Input: coins = [0,0,0,1,1,0,0,1], edges = [[0,1],[0,2],[1,3],[1,4],[2,5],[5,6],[5,7]]\n",
        "Output: 2\n",
        "Explanation: Start at vertex 0, collect the coins at vertices 4 and 3, move to vertex 2,  collect the coin at vertex 7, then move back to vertex 0.\n",
        " \n",
        "\n",
        "Constraints:\n",
        "\n",
        "n == coins.length\n",
        "1 <= n <= 3 * 104\n",
        "0 <= coins[i] <= 1\n",
        "edges.length == n - 1\n",
        "edges[i].length == 2\n",
        "0 <= ai, bi < n\n",
        "ai != bi\n",
        "edges represents a valid tree.\n"
      ]
    }
  ],
  "metadata": {
    "language_info": {
      "name": "python"
    }
  },
  "nbformat": 4,
  "nbformat_minor": 5
}
