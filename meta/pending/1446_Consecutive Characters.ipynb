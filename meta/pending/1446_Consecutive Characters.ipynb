{
 "cells": [
  {
   "cell_type": "markdown",
   "id": "ebdafe83",
   "metadata": {},
   "source": [
    "# 1446. Consecutive Characters"
   ]
  },
  {
   "cell_type": "markdown",
   "id": "a1a2bf46",
   "metadata": {},
   "source": [
    "The power of the string is the maximum length of a non-empty substring that contains only one unique character.\n",
    "\n",
    "\n",
    "\n",
    "Given a string s, return the power of s.\n",
    "\n",
    "\n",
    "\n",
    " \n",
    "\n",
    "\n",
    "\n",
    "**Example 1:**\n",
    "\n",
    "\n",
    "\n",
    "Input: s = \"leetcode\"\n",
    "\n",
    "Output: 2\n",
    "\n",
    "Explanation: The substring \"ee\" is of length 2 with the character 'e' only.\n",
    "\n",
    "**Example 2:**\n",
    "\n",
    "\n",
    "\n",
    "Input: s = \"abbcccddddeeeeedcba\"\n",
    "\n",
    "Output: 5\n",
    "\n",
    "Explanation: The substring \"eeeee\" is of length 5 with the character 'e' only.\n",
    "\n",
    " \n",
    "\n",
    "\n",
    "\n",
    "**Constraints:**\n",
    "\n",
    "\n",
    "\n",
    "1 <= s.length <= 500\n",
    "\n",
    "s consists of only lowercase English letters."
   ]
  }
 ],
 "metadata": {
  "language_info": {
   "name": "python"
  }
 },
 "nbformat": 4,
 "nbformat_minor": 5
}
