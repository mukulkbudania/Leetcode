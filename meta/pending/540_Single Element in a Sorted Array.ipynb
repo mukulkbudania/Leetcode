{
 "cells": [
  {
   "cell_type": "markdown",
   "id": "99292c60",
   "metadata": {},
   "source": [
    "# 540. Single Element in a Sorted Array"
   ]
  },
  {
   "cell_type": "markdown",
   "id": "c9658367",
   "metadata": {},
   "source": [
    "You are given a sorted array consisting of only integers where every element appears exactly twice, except for one element which appears exactly once.\n",
    "\n",
    "\n",
    "\n",
    "Return the single element that appears only once.\n",
    "\n",
    "\n",
    "\n",
    "Your solution must run in O(log n) time and O(1) space.\n",
    "\n",
    "\n",
    "\n",
    " \n",
    "\n",
    "\n",
    "\n",
    "**Example 1:**\n",
    "\n",
    "\n",
    "\n",
    "Input: nums = [1,1,2,3,3,4,4,8,8]\n",
    "\n",
    "Output: 2\n",
    "\n",
    "**Example 2:**\n",
    "\n",
    "\n",
    "\n",
    "Input: nums = [3,3,7,7,10,11,11]\n",
    "\n",
    "Output: 10\n",
    "\n",
    " \n",
    "\n",
    "\n",
    "\n",
    "**Constraints:**\n",
    "\n",
    "\n",
    "\n",
    "1 <= nums.length <= 105\n",
    "\n",
    "0 <= nums[i] <= 105"
   ]
  }
 ],
 "metadata": {
  "language_info": {
   "name": "python"
  }
 },
 "nbformat": 4,
 "nbformat_minor": 5
}
