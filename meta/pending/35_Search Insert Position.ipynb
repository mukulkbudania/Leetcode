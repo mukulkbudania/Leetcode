{
 "cells": [
  {
   "cell_type": "markdown",
   "id": "fc94e0fb",
   "metadata": {},
   "source": [
    "# 35. Search Insert Position"
   ]
  },
  {
   "cell_type": "markdown",
   "id": "15851e6a",
   "metadata": {},
   "source": [
    "Given a sorted array of distinct integers and a target value, return the index if the target is found. If not, return the index where it would be if it were inserted in order.\n",
    "\n",
    "\n",
    "\n",
    "You must write an algorithm with O(log n) runtime complexity.\n",
    "\n",
    "\n",
    "\n",
    " \n",
    "\n",
    "\n",
    "\n",
    "**Example 1:**\n",
    "\n",
    "\n",
    "\n",
    "Input: nums = [1,3,5,6], target = 5\n",
    "\n",
    "Output: 2\n",
    "\n",
    "**Example 2:**\n",
    "\n",
    "\n",
    "\n",
    "Input: nums = [1,3,5,6], target = 2\n",
    "\n",
    "Output: 1\n",
    "\n",
    "**Example 3:**\n",
    "\n",
    "\n",
    "\n",
    "Input: nums = [1,3,5,6], target = 7\n",
    "\n",
    "Output: 4\n",
    "\n",
    " \n",
    "\n",
    "\n",
    "\n",
    "**Constraints:**\n",
    "\n",
    "\n",
    "\n",
    "1 <= nums.length <= 104\n",
    "\n",
    "-104 <= nums[i] <= 104\n",
    "\n",
    "nums contains distinct values sorted in ascending order.\n",
    "\n",
    "-104 <= target <= 104"
   ]
  }
 ],
 "metadata": {
  "language_info": {
   "name": "python"
  }
 },
 "nbformat": 4,
 "nbformat_minor": 5
}
