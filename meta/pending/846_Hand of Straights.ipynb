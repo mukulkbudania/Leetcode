{
  "cells": [
    {
      "cell_type": "markdown",
      "id": "f9d8999b",
      "metadata": {},
      "source": [
        "Alice has some number of cards and she wants to rearrange the cards into groups so that each group is of size groupSize, and consists of groupSize consecutive cards.\n",
        "\n",
        "Given an integer array hand where hand[i] is the value written on the ith card and an integer groupSize, return true if she can rearrange the cards, or false otherwise.\n",
        "\n",
        " \n",
        "\n",
        "Example 1:\n",
        "\n",
        "Input: hand = [1,2,3,6,2,3,4,7,8], groupSize = 3\n",
        "Output: true\n",
        "Explanation: Alice's hand can be rearranged as [1,2,3],[2,3,4],[6,7,8]\n",
        "Example 2:\n",
        "\n",
        "Input: hand = [1,2,3,4,5], groupSize = 4\n",
        "Output: false\n",
        "Explanation: Alice's hand can not be rearranged into groups of 4.\n",
        "\n",
        " \n",
        "\n",
        "Constraints:\n",
        "\n",
        "1 <= hand.length <= 104\n",
        "0 <= hand[i] <= 109\n",
        "1 <= groupSize <= hand.length\n",
        " \n",
        "\n",
        "Note: This question is the same as 1296: https://leetcode.com/problems/divide-array-in-sets-of-k-consecutive-numbers/"
      ]
    }
  ],
  "metadata": {
    "language_info": {
      "name": "python"
    }
  },
  "nbformat": 4,
  "nbformat_minor": 5
}
