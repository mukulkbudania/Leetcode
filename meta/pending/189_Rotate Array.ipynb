{
 "cells": [
  {
   "cell_type": "markdown",
   "id": "975e0804",
   "metadata": {},
   "source": [
    "# 189. Rotate Array"
   ]
  },
  {
   "cell_type": "markdown",
   "id": "671dc438",
   "metadata": {},
   "source": [
    "Given an integer array nums, rotate the array to the right by k steps, where k is non-negative.\n",
    "\n",
    "\n",
    "\n",
    " \n",
    "\n",
    "\n",
    "\n",
    "**Example 1:**\n",
    "\n",
    "\n",
    "\n",
    "Input: nums = [1,2,3,4,5,6,7], k = 3\n",
    "\n",
    "Output: [5,6,7,1,2,3,4]\n",
    "\n",
    "Explanation:\n",
    "\n",
    "rotate 1 steps to the right: [7,1,2,3,4,5,6]\n",
    "\n",
    "rotate 2 steps to the right: [6,7,1,2,3,4,5]\n",
    "\n",
    "rotate 3 steps to the right: [5,6,7,1,2,3,4]\n",
    "\n",
    "**Example 2:**\n",
    "\n",
    "\n",
    "\n",
    "Input: nums = [-1,-100,3,99], k = 2\n",
    "\n",
    "Output: [3,99,-1,-100]\n",
    "\n",
    "Explanation: \n",
    "\n",
    "rotate 1 steps to the right: [99,-1,-100,3]\n",
    "\n",
    "rotate 2 steps to the right: [3,99,-1,-100]\n",
    "\n",
    " \n",
    "\n",
    "\n",
    "\n",
    "**Constraints:**\n",
    "\n",
    "\n",
    "\n",
    "1 <= nums.length <= 105\n",
    "\n",
    "-231 <= nums[i] <= 231 - 1\n",
    "\n",
    "0 <= k <= 105\n",
    "\n",
    " \n",
    "\n",
    "\n",
    "\n",
    "Follow up:\n",
    "\n",
    "\n",
    "\n",
    "Try to come up with as many solutions as you can. There are at least three different ways to solve this problem.\n",
    "\n",
    "Could you do it in-place with O(1) extra space?"
   ]
  }
 ],
 "metadata": {
  "language_info": {
   "name": "python"
  }
 },
 "nbformat": 4,
 "nbformat_minor": 5
}
