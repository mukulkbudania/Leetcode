{
  "cells": [
    {
      "cell_type": "markdown",
      "id": "cf1cf668",
      "metadata": {},
      "source": [
        "There are n persons on a social media website. You are given an integer array ages where ages[i] is the age of the ith person.\n",
        "\n",
        "A Person x will not send a friend request to a person y (x != y) if any of the following conditions is true:\n",
        "\n",
        "age[y] <= 0.5 * age[x] + 7\n",
        "age[y] > age[x]\n",
        "age[y] > 100 && age[x] < 100\n",
        "Otherwise, x will send a friend request to y.\n",
        "\n",
        "Note that if x sends a request to y, y will not necessarily send a request to x. Also, a person will not send a friend request to themself.\n",
        "\n",
        "Return the total number of friend requests made.\n",
        "\n",
        " \n",
        "\n",
        "Example 1:\n",
        "\n",
        "Input: ages = [16,16]\n",
        "Output: 2\n",
        "Explanation: 2 people friend request each other.\n",
        "Example 2:\n",
        "\n",
        "Input: ages = [16,17,18]\n",
        "Output: 2\n",
        "Explanation: Friend requests are made 17 -> 16, 18 -> 17.\n",
        "Example 3:\n",
        "\n",
        "Input: ages = [20,30,100,110,120]\n",
        "Output: 3\n",
        "Explanation: Friend requests are made 110 -> 100, 120 -> 110, 120 -> 100.\n",
        " \n",
        "\n",
        "Constraints:\n",
        "\n",
        "n == ages.length\n",
        "1 <= n <= 2 * 104\n",
        "1 <= ages[i] <= 120"
      ]
    }
  ],
  "metadata": {
    "language_info": {
      "name": "python"
    }
  },
  "nbformat": 4,
  "nbformat_minor": 5
}
