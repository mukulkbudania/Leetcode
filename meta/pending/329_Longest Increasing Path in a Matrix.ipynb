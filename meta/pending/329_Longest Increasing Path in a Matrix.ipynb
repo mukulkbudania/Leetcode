{
 "cells": [
  {
   "cell_type": "markdown",
   "id": "c605e766",
   "metadata": {},
   "source": [
    "# 329. Longest Increasing Path in a Matrix"
   ]
  },
  {
   "cell_type": "markdown",
   "id": "bb273de3",
   "metadata": {},
   "source": [
    "Given an m x n integers matrix, return the length of the longest increasing path in matrix.\n",
    "\n",
    "\n",
    "\n",
    "From each cell, you can either move in four directions: left, right, up, or down. You may not move diagonally or move outside the boundary (i.e., wrap-around is not allowed).\n",
    "\n",
    "\n",
    "\n",
    " \n",
    "\n",
    "\n",
    "\n",
    "**Example 1:**\n",
    "\n",
    "\n",
    "\n",
    "\n",
    "\n",
    "Input: matrix = [[9,9,4],[6,6,8],[2,1,1]]\n",
    "\n",
    "Output: 4\n",
    "\n",
    "Explanation: The longest increasing path is [1, 2, 6, 9].\n",
    "\n",
    "**Example 2:**\n",
    "\n",
    "\n",
    "\n",
    "\n",
    "\n",
    "Input: matrix = [[3,4,5],[3,2,6],[2,2,1]]\n",
    "\n",
    "Output: 4\n",
    "\n",
    "Explanation: The longest increasing path is [3, 4, 5, 6]. Moving diagonally is not allowed.\n",
    "\n",
    "**Example 3:**\n",
    "\n",
    "\n",
    "\n",
    "Input: matrix = [[1]]\n",
    "\n",
    "Output: 1\n",
    "\n",
    " \n",
    "\n",
    "\n",
    "\n",
    "**Constraints:**\n",
    "\n",
    "\n",
    "\n",
    "m == matrix.length\n",
    "\n",
    "n == matrix[i].length\n",
    "\n",
    "1 <= m, n <= 200\n",
    "\n",
    "0 <= matrix[i][j] <= 231 - 1"
   ]
  }
 ],
 "metadata": {
  "language_info": {
   "name": "python"
  }
 },
 "nbformat": 4,
 "nbformat_minor": 5
}
