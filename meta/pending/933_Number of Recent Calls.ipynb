{
 "cells": [
  {
   "cell_type": "markdown",
   "id": "efce2959",
   "metadata": {},
   "source": [
    "# 933. Number of Recent Calls"
   ]
  },
  {
   "cell_type": "markdown",
   "id": "73318d21",
   "metadata": {},
   "source": [
    "You have a RecentCounter class which counts the number of recent requests within a certain time frame.\n",
    "\n",
    "\n",
    "\n",
    "Implement the RecentCounter class:\n",
    "\n",
    "\n",
    "\n",
    "RecentCounter() Initializes the counter with zero recent requests.\n",
    "\n",
    "int ping(int t) Adds a new request at time t, where t represents some time in milliseconds, and returns the number of requests that has happened in the past 3000 milliseconds (including the new request). Specifically, return the number of requests that have happened in the inclusive range [t - 3000, t].\n",
    "\n",
    "It is guaranteed that every call to ping uses a strictly larger value of t than the previous call.\n",
    "\n",
    "\n",
    "\n",
    " \n",
    "\n",
    "\n",
    "\n",
    "**Example 1:**\n",
    "\n",
    "\n",
    "\n",
    "Input\n",
    "\n",
    "[\"RecentCounter\", \"ping\", \"ping\", \"ping\", \"ping\"]\n",
    "\n",
    "[[], [1], [100], [3001], [3002]]\n",
    "\n",
    "Output\n",
    "\n",
    "[null, 1, 2, 3, 3]\n",
    "\n",
    "\n",
    "\n",
    "Explanation\n",
    "\n",
    "RecentCounter recentCounter = new RecentCounter();\n",
    "\n",
    "recentCounter.ping(1);     // requests = [1], range is [-2999,1], return 1\n",
    "\n",
    "recentCounter.ping(100);   // requests = [1, 100], range is [-2900,100], return 2\n",
    "\n",
    "recentCounter.ping(3001);  // requests = [1, 100, 3001], range is [1,3001], return 3\n",
    "\n",
    "recentCounter.ping(3002);  // requests = [1, 100, 3001, 3002], range is [2,3002], return 3\n",
    "\n",
    " \n",
    "\n",
    "\n",
    "\n",
    "**Constraints:**\n",
    "\n",
    "\n",
    "\n",
    "1 <= t <= 109\n",
    "\n",
    "Each test case will call ping with strictly increasing values of t.\n",
    "\n",
    "At most 104 calls will be made to ping.\n",
    "\n"
   ]
  }
 ],
 "metadata": {
  "language_info": {
   "name": "python"
  }
 },
 "nbformat": 4,
 "nbformat_minor": 5
}
