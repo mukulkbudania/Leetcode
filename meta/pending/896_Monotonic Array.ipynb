{
  "cells": [
    {
      "cell_type": "markdown",
      "id": "a568c589",
      "metadata": {},
      "source": [
        "An array is monotonic if it is either monotone increasing or monotone decreasing.\n",
        "\n",
        "An array nums is monotone increasing if for all i <= j, nums[i] <= nums[j]. An array nums is monotone decreasing if for all i <= j, nums[i] >= nums[j].\n",
        "\n",
        "Given an integer array nums, return true if the given array is monotonic, or false otherwise.\n",
        "\n",
        " \n",
        "\n",
        "Example 1:\n",
        "\n",
        "Input: nums = [1,2,2,3]\n",
        "Output: true\n",
        "Example 2:\n",
        "\n",
        "Input: nums = [6,5,4,4]\n",
        "Output: true\n",
        "Example 3:\n",
        "\n",
        "Input: nums = [1,3,2]\n",
        "Output: false\n",
        " \n",
        "\n",
        "Constraints:\n",
        "\n",
        "1 <= nums.length <= 105\n",
        "-105 <= nums[i] <= 105"
      ]
    }
  ],
  "metadata": {
    "language_info": {
      "name": "python"
    }
  },
  "nbformat": 4,
  "nbformat_minor": 5
}
