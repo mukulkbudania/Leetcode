{
  "cells": [
    {
      "cell_type": "markdown",
      "id": "656eb25e",
      "metadata": {},
      "source": [
        "Given an m x n matrix, return true if the matrix is Toeplitz. Otherwise, return false.\n",
        "\n",
        "A matrix is Toeplitz if every diagonal from top-left to bottom-right has the same elements.\n",
        "\n",
        " \n",
        "\n",
        "Example 1:\n",
        "\n",
        "\n",
        "Input: matrix = [[1,2,3,4],[5,1,2,3],[9,5,1,2]]\n",
        "Output: true\n",
        "Explanation:\n",
        "In the above grid, the diagonals are:\n",
        "\"[9]\", \"[5, 5]\", \"[1, 1, 1]\", \"[2, 2, 2]\", \"[3, 3]\", \"[4]\".\n",
        "In each diagonal all elements are the same, so the answer is True.\n",
        "Example 2:\n",
        "\n",
        "\n",
        "Input: matrix = [[1,2],[2,2]]\n",
        "Output: false\n",
        "Explanation:\n",
        "The diagonal \"[1, 2]\" has different elements.\n",
        " \n",
        "\n",
        "Constraints:\n",
        "\n",
        "m == matrix.length\n",
        "n == matrix[i].length\n",
        "1 <= m, n <= 20\n",
        "0 <= matrix[i][j] <= 99\n",
        " \n",
        "\n",
        "Follow up:\n",
        "\n",
        "What if the matrix is stored on disk, and the memory is limited such that you can only load at most one row of the matrix into the memory at once?\n",
        "What if the matrix is so large that you can only load up a partial row into the memory at once?"
      ]
    }
  ],
  "metadata": {
    "language_info": {
      "name": "python"
    }
  },
  "nbformat": 4,
  "nbformat_minor": 5
}
