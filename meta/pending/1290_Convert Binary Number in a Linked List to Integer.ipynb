{
  "cells": [
    {
      "cell_type": "markdown",
      "id": "2f20aff5",
      "metadata": {},
      "source": [
        "Given head which is a reference node to a singly-linked list. The value of each node in the linked list is either 0 or 1. The linked list holds the binary representation of a number.\n",
        "\n",
        "Return the decimal value of the number in the linked list.\n",
        "\n",
        "The most significant bit is at the head of the linked list.\n",
        "\n",
        " \n",
        "\n",
        "Example 1:\n",
        "\n",
        "\n",
        "Input: head = [1,0,1]\n",
        "Output: 5\n",
        "Explanation: (101) in base 2 = (5) in base 10\n",
        "Example 2:\n",
        "\n",
        "Input: head = [0]\n",
        "Output: 0\n",
        " \n",
        "\n",
        "Constraints:\n",
        "\n",
        "The Linked List is not empty.\n",
        "Number of nodes will not exceed 30.\n",
        "Each node's value is either 0 or 1."
      ]
    }
  ],
  "metadata": {
    "language_info": {
      "name": "python"
    }
  },
  "nbformat": 4,
  "nbformat_minor": 5
}
