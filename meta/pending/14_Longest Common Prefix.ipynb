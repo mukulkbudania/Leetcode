{
  "cells": [
    {
      "cell_type": "markdown",
      "id": "df753670",
      "metadata": {},
      "source": [
        "Write a function to find the longest common prefix string amongst an array of strings.\n",
        "\n",
        "If there is no common prefix, return an empty string \"\".\n",
        "\n",
        " \n",
        "\n",
        "Example 1:\n",
        "\n",
        "Input: strs = [\"flower\",\"flow\",\"flight\"]\n",
        "Output: \"fl\"\n",
        "Example 2:\n",
        "\n",
        "Input: strs = [\"dog\",\"racecar\",\"car\"]\n",
        "Output: \"\"\n",
        "Explanation: There is no common prefix among the input strings.\n",
        " \n",
        "\n",
        "Constraints:\n",
        "\n",
        "1 <= strs.length <= 200\n",
        "0 <= strs[i].length <= 200\n",
        "strs[i] consists of only lowercase English letters if it is non-empty.\n"
      ]
    }
  ],
  "metadata": {
    "language_info": {
      "name": "python"
    }
  },
  "nbformat": 4,
  "nbformat_minor": 5
}
