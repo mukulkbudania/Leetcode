{
 "cells": [
  {
   "cell_type": "markdown",
   "id": "e78ef1b9",
   "metadata": {},
   "source": [
    "# 2962. Count Subarrays Where Max Element Appears at Least K Times"
   ]
  },
  {
   "cell_type": "markdown",
   "id": "4eb57281",
   "metadata": {},
   "source": [
    "You are given an integer array nums and a positive integer k.\n",
    "\n",
    "\n",
    "\n",
    "Return the number of subarrays where the maximum element of nums appears at least k times in that subarray.\n",
    "\n",
    "\n",
    "\n",
    "A subarray is a contiguous sequence of elements within an array.\n",
    "\n",
    "\n",
    "\n",
    " \n",
    "\n",
    "\n",
    "\n",
    "**Example 1:**\n",
    "\n",
    "\n",
    "\n",
    "Input: nums = [1,3,2,3,3], k = 2\n",
    "\n",
    "Output: 6\n",
    "\n",
    "Explanation: The subarrays that contain the element 3 at least 2 times are: [1,3,2,3], [1,3,2,3,3], [3,2,3], [3,2,3,3], [2,3,3] and [3,3].\n",
    "\n",
    "**Example 2:**\n",
    "\n",
    "\n",
    "\n",
    "Input: nums = [1,4,2,1], k = 3\n",
    "\n",
    "Output: 0\n",
    "\n",
    "Explanation: No subarray contains the element 4 at least 3 times.\n",
    "\n",
    " \n",
    "\n",
    "\n",
    "\n",
    "**Constraints:**\n",
    "\n",
    "\n",
    "\n",
    "1 <= nums.length <= 105\n",
    "\n",
    "1 <= nums[i] <= 106\n",
    "\n",
    "1 <= k <= 105"
   ]
  }
 ],
 "metadata": {
  "language_info": {
   "name": "python"
  }
 },
 "nbformat": 4,
 "nbformat_minor": 5
}
