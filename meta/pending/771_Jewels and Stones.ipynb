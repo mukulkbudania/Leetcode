{
  "cells": [
    {
      "cell_type": "markdown",
      "id": "a4a78589",
      "metadata": {},
      "source": [
        "You're given strings jewels representing the types of stones that are jewels, and stones representing the stones you have. Each character in stones is a type of stone you have. You want to know how many of the stones you have are also jewels.\n",
        "\n",
        "Letters are case sensitive, so \"a\" is considered a different type of stone from \"A\".\n",
        "\n",
        " \n",
        "\n",
        "Example 1:\n",
        "\n",
        "Input: jewels = \"aA\", stones = \"aAAbbbb\"\n",
        "Output: 3\n",
        "Example 2:\n",
        "\n",
        "Input: jewels = \"z\", stones = \"ZZ\"\n",
        "Output: 0\n",
        " \n",
        "\n",
        "Constraints:\n",
        "\n",
        "1 <= jewels.length, stones.length <= 50\n",
        "jewels and stones consist of only English letters.\n",
        "All the characters of jewels are unique."
      ]
    }
  ],
  "metadata": {
    "language_info": {
      "name": "python"
    }
  },
  "nbformat": 4,
  "nbformat_minor": 5
}
