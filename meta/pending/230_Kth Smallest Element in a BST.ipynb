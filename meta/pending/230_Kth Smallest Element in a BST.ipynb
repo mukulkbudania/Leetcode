{
  "cells": [
    {
      "cell_type": "markdown",
      "id": "d5fdb86b",
      "metadata": {},
      "source": [
        "Given the root of a binary search tree, and an integer k, return the kth smallest value (1-indexed) of all the values of the nodes in the tree.\n",
        "\n",
        " \n",
        "\n",
        "Example 1:\n",
        "\n",
        "\n",
        "Input: root = [3,1,4,null,2], k = 1\n",
        "Output: 1\n",
        "Example 2:\n",
        "\n",
        "\n",
        "Input: root = [5,3,6,2,4,null,null,1], k = 3\n",
        "Output: 3\n",
        " \n",
        "\n",
        "Constraints:\n",
        "\n",
        "The number of nodes in the tree is n.\n",
        "1 <= k <= n <= 104\n",
        "0 <= Node.val <= 104\n",
        " \n",
        "\n",
        "Follow up: If the BST is modified often (i.e., we can do insert and delete operations) and you need to find the kth smallest frequently, how would you optimize?"
      ]
    }
  ],
  "metadata": {
    "language_info": {
      "name": "python"
    }
  },
  "nbformat": 4,
  "nbformat_minor": 5
}
