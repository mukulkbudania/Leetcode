{
 "cells": [
  {
   "cell_type": "markdown",
   "id": "b05c0925",
   "metadata": {},
   "source": [
    "# 605. Can Place Flowers"
   ]
  },
  {
   "cell_type": "markdown",
   "id": "16b18048",
   "metadata": {},
   "source": [
    "You have a long flowerbed in which some of the plots are planted, and some are not. However, flowers cannot be planted in adjacent plots.\n",
    "\n",
    "\n",
    "\n",
    "Given an integer array flowerbed containing 0's and 1's, where 0 means empty and 1 means not empty, and an integer n, return true if n new flowers can be planted in the flowerbed without violating the no-adjacent-flowers rule and false otherwise.\n",
    "\n",
    "\n",
    "\n",
    " \n",
    "\n",
    "\n",
    "\n",
    "**Example 1:**\n",
    "\n",
    "\n",
    "\n",
    "Input: flowerbed = [1,0,0,0,1], n = 1\n",
    "\n",
    "Output: true\n",
    "\n",
    "**Example 2:**\n",
    "\n",
    "\n",
    "\n",
    "Input: flowerbed = [1,0,0,0,1], n = 2\n",
    "\n",
    "Output: false\n",
    "\n",
    " \n",
    "\n",
    "\n",
    "\n",
    "**Constraints:**\n",
    "\n",
    "\n",
    "\n",
    "1 <= flowerbed.length <= 2 * 104\n",
    "\n",
    "flowerbed[i] is 0 or 1.\n",
    "\n",
    "There are no two adjacent flowers in flowerbed.\n",
    "\n",
    "0 <= n <= flowerbed.length"
   ]
  }
 ],
 "metadata": {
  "language_info": {
   "name": "python"
  }
 },
 "nbformat": 4,
 "nbformat_minor": 5
}
