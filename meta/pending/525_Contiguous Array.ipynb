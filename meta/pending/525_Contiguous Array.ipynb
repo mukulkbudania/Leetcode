{
  "cells": [
    {
      "cell_type": "markdown",
      "id": "4659b80a",
      "metadata": {},
      "source": [
        "Given a binary array nums, return the maximum length of a contiguous subarray with an equal number of 0 and 1.\n",
        "\n",
        " \n",
        "\n",
        "Example 1:\n",
        "\n",
        "Input: nums = [0,1]\n",
        "Output: 2\n",
        "Explanation: [0, 1] is the longest contiguous subarray with an equal number of 0 and 1.\n",
        "Example 2:\n",
        "\n",
        "Input: nums = [0,1,0]\n",
        "Output: 2\n",
        "Explanation: [0, 1] (or [1, 0]) is a longest contiguous subarray with equal number of 0 and 1.\n",
        "Example 3:\n",
        "\n",
        "Input: nums = [0,1,1,1,1,1,0,0,0]\n",
        "Output: 6\n",
        "Explanation: [1,1,1,0,0,0] is the longest contiguous subarray with equal number of 0 and 1.\n",
        " \n",
        "\n",
        "Constraints:\n",
        "\n",
        "1 <= nums.length <= 105\n",
        "nums[i] is either 0 or 1."
      ]
    }
  ],
  "metadata": {
    "language_info": {
      "name": "python"
    }
  },
  "nbformat": 4,
  "nbformat_minor": 5
}
