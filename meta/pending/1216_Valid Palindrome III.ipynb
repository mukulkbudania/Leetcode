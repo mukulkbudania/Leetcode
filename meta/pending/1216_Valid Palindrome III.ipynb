{
 "cells": [
  {
   "cell_type": "markdown",
   "id": "5f7a6de6",
   "metadata": {},
   "source": [
    "# 1216. Valid Palindrome III"
   ]
  },
  {
   "cell_type": "markdown",
   "id": "25e851ad",
   "metadata": {},
   "source": [
    "Given a string s and an integer k, return true if s is a k-palindrome.\n",
    "\n",
    "\n",
    "\n",
    "A string is k-palindrome if it can be transformed into a palindrome by removing at most k characters from it.\n",
    "\n",
    "\n",
    "\n",
    " \n",
    "\n",
    "\n",
    "\n",
    "**Example 1:**\n",
    "\n",
    "\n",
    "\n",
    "Input: s = \"abcdeca\", k = 2\n",
    "\n",
    "Output: true\n",
    "\n",
    "Explanation: Remove 'b' and 'e' characters.\n",
    "\n",
    "**Example 2:**\n",
    "\n",
    "\n",
    "\n",
    "Input: s = \"abbababa\", k = 1\n",
    "\n",
    "Output: true\n",
    "\n",
    " \n",
    "\n",
    "\n",
    "\n",
    "**Constraints:**\n",
    "\n",
    "\n",
    "\n",
    "1 <= s.length <= 1000\n",
    "\n",
    "s consists of only lowercase English letters.\n",
    "\n",
    "1 <= k <= s.length"
   ]
  }
 ],
 "metadata": {
  "language_info": {
   "name": "python"
  }
 },
 "nbformat": 4,
 "nbformat_minor": 5
}
