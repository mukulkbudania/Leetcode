{
  "cells": [
    {
      "cell_type": "markdown",
      "id": "25e851ad",
      "metadata": {},
      "source": [
        "Given a string s and an integer k, return true if s is a k-palindrome.\n",
        "\n",
        "A string is k-palindrome if it can be transformed into a palindrome by removing at most k characters from it.\n",
        "\n",
        " \n",
        "\n",
        "Example 1:\n",
        "\n",
        "Input: s = \"abcdeca\", k = 2\n",
        "Output: true\n",
        "Explanation: Remove 'b' and 'e' characters.\n",
        "Example 2:\n",
        "\n",
        "Input: s = \"abbababa\", k = 1\n",
        "Output: true\n",
        " \n",
        "\n",
        "Constraints:\n",
        "\n",
        "1 <= s.length <= 1000\n",
        "s consists of only lowercase English letters.\n",
        "1 <= k <= s.length"
      ]
    }
  ],
  "metadata": {
    "language_info": {
      "name": "python"
    }
  },
  "nbformat": 4,
  "nbformat_minor": 5
}
