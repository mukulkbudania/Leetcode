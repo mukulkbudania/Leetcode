{
 "cells": [
  {
   "cell_type": "markdown",
   "id": "95ab1f00",
   "metadata": {},
   "source": [
    "# 344. Reverse String"
   ]
  },
  {
   "cell_type": "markdown",
   "id": "f4824804",
   "metadata": {},
   "source": [
    "Write a function that reverses a string. The input string is given as an array of characters s.\n",
    "\n",
    "\n",
    "\n",
    "You must do this by modifying the input array in-place with O(1) extra memory.\n",
    "\n",
    "\n",
    "\n",
    " \n",
    "\n",
    "\n",
    "\n",
    "**Example 1:**\n",
    "\n",
    "\n",
    "\n",
    "Input: s = [\"h\",\"e\",\"l\",\"l\",\"o\"]\n",
    "\n",
    "Output: [\"o\",\"l\",\"l\",\"e\",\"h\"]\n",
    "\n",
    "**Example 2:**\n",
    "\n",
    "\n",
    "\n",
    "Input: s = [\"H\",\"a\",\"n\",\"n\",\"a\",\"h\"]\n",
    "\n",
    "Output: [\"h\",\"a\",\"n\",\"n\",\"a\",\"H\"]\n",
    "\n",
    " \n",
    "\n",
    "\n",
    "\n",
    "**Constraints:**\n",
    "\n",
    "\n",
    "\n",
    "1 <= s.length <= 105\n",
    "\n",
    "s[i] is a printable ascii character."
   ]
  }
 ],
 "metadata": {
  "language_info": {
   "name": "python"
  }
 },
 "nbformat": 4,
 "nbformat_minor": 5
}
