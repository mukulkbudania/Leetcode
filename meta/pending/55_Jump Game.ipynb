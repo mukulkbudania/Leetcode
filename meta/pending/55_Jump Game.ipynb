{
 "cells": [
  {
   "cell_type": "markdown",
   "id": "86e36761",
   "metadata": {},
   "source": [
    "# 55. Jump Game"
   ]
  },
  {
   "cell_type": "markdown",
   "id": "c48a5daa",
   "metadata": {},
   "source": [
    "You are given an integer array nums. You are initially positioned at the array's first index, and each element in the array represents your maximum jump length at that position.\n",
    "\n",
    "\n",
    "\n",
    "Return true if you can reach the last index, or false otherwise.\n",
    "\n",
    "\n",
    "\n",
    " \n",
    "\n",
    "\n",
    "\n",
    "**Example 1:**\n",
    "\n",
    "\n",
    "\n",
    "Input: nums = [2,3,1,1,4]\n",
    "\n",
    "Output: true\n",
    "\n",
    "Explanation: Jump 1 step from index 0 to 1, then 3 steps to the last index.\n",
    "\n",
    "**Example 2:**\n",
    "\n",
    "\n",
    "\n",
    "Input: nums = [3,2,1,0,4]\n",
    "\n",
    "Output: false\n",
    "\n",
    "Explanation: You will always arrive at index 3 no matter what. Its maximum jump length is 0, which makes it impossible to reach the last index.\n",
    "\n",
    " \n",
    "\n",
    "\n",
    "\n",
    "**Constraints:**\n",
    "\n",
    "\n",
    "\n",
    "1 <= nums.length <= 104\n",
    "\n",
    "0 <= nums[i] <= 105"
   ]
  }
 ],
 "metadata": {
  "language_info": {
   "name": "python"
  }
 },
 "nbformat": 4,
 "nbformat_minor": 5
}
