{
  "cells": [
    {
      "cell_type": "markdown",
      "id": "17b6c478",
      "metadata": {},
      "source": [
        "You are given an array of words where each word consists of lowercase English letters.\n",
        "\n",
        "wordA is a predecessor of wordB if and only if we can insert exactly one letter anywhere in wordA without changing the order of the other characters to make it equal to wordB.\n",
        "\n",
        "For example, \"abc\" is a predecessor of \"abac\", while \"cba\" is not a predecessor of \"bcad\".\n",
        "A word chain is a sequence of words [word1, word2, ..., wordk] with k >= 1, where word1 is a predecessor of word2, word2 is a predecessor of word3, and so on. A single word is trivially a word chain with k == 1.\n",
        "\n",
        "Return the length of the longest possible word chain with words chosen from the given list of words.\n",
        "\n",
        " \n",
        "\n",
        "Example 1:\n",
        "\n",
        "Input: words = [\"a\",\"b\",\"ba\",\"bca\",\"bda\",\"bdca\"]\n",
        "Output: 4\n",
        "Explanation: One of the longest word chains is [\"a\",\"ba\",\"bda\",\"bdca\"].\n",
        "Example 2:\n",
        "\n",
        "Input: words = [\"xbc\",\"pcxbcf\",\"xb\",\"cxbc\",\"pcxbc\"]\n",
        "Output: 5\n",
        "Explanation: All the words can be put in a word chain [\"xb\", \"xbc\", \"cxbc\", \"pcxbc\", \"pcxbcf\"].\n",
        "Example 3:\n",
        "\n",
        "Input: words = [\"abcd\",\"dbqca\"]\n",
        "Output: 1\n",
        "Explanation: The trivial word chain [\"abcd\"] is one of the longest word chains.\n",
        "[\"abcd\",\"dbqca\"] is not a valid word chain because the ordering of the letters is changed.\n",
        " \n",
        "\n",
        "Constraints:\n",
        "\n",
        "1 <= words.length <= 1000\n",
        "1 <= words[i].length <= 16\n",
        "words[i] only consists of lowercase English letters."
      ]
    }
  ],
  "metadata": {
    "language_info": {
      "name": "python"
    }
  },
  "nbformat": 4,
  "nbformat_minor": 5
}
