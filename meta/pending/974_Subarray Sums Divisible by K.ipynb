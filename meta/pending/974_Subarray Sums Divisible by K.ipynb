{
 "cells": [
  {
   "cell_type": "markdown",
   "id": "d4089d31",
   "metadata": {},
   "source": [
    "# 974. Subarray Sums Divisible by K"
   ]
  },
  {
   "cell_type": "markdown",
   "id": "46282600",
   "metadata": {},
   "source": [
    "Given an integer array nums and an integer k, return the number of non-empty subarrays that have a sum divisible by k.\n",
    "\n",
    "\n",
    "\n",
    "A subarray is a contiguous part of an array.\n",
    "\n",
    "\n",
    "\n",
    " \n",
    "\n",
    "\n",
    "\n",
    "**Example 1:**\n",
    "\n",
    "\n",
    "\n",
    "Input: nums = [4,5,0,-2,-3,1], k = 5\n",
    "\n",
    "Output: 7\n",
    "\n",
    "Explanation: There are 7 subarrays with a sum divisible by k = 5:\n",
    "\n",
    "[4, 5, 0, -2, -3, 1], [5], [5, 0], [5, 0, -2, -3], [0], [0, -2, -3], [-2, -3]\n",
    "\n",
    "**Example 2:**\n",
    "\n",
    "\n",
    "\n",
    "Input: nums = [5], k = 9\n",
    "\n",
    "Output: 0\n",
    "\n",
    " \n",
    "\n",
    "\n",
    "\n",
    "**Constraints:**\n",
    "\n",
    "\n",
    "\n",
    "1 <= nums.length <= 3 * 104\n",
    "\n",
    "-104 <= nums[i] <= 104\n",
    "\n",
    "2 <= k <= 104\n",
    "\n"
   ]
  }
 ],
 "metadata": {
  "language_info": {
   "name": "python"
  }
 },
 "nbformat": 4,
 "nbformat_minor": 5
}
