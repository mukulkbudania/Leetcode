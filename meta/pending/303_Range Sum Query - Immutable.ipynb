{
 "cells": [
  {
   "cell_type": "markdown",
   "id": "e221ef04",
   "metadata": {},
   "source": [
    "# 303. Range Sum Query - Immutable"
   ]
  },
  {
   "cell_type": "markdown",
   "id": "b2892041",
   "metadata": {},
   "source": [
    "Given an integer array nums, handle multiple queries of the following type:\n",
    "\n",
    "\n",
    "\n",
    "Calculate the sum of the elements of nums between indices left and right inclusive where left <= right.\n",
    "\n",
    "Implement the NumArray class:\n",
    "\n",
    "\n",
    "\n",
    "NumArray(int[] nums) Initializes the object with the integer array nums.\n",
    "\n",
    "int sumRange(int left, int right) Returns the sum of the elements of nums between indices left and right inclusive (i.e. nums[left] + nums[left + 1] + ... + nums[right]).\n",
    "\n",
    " \n",
    "\n",
    "\n",
    "\n",
    "**Example 1:**\n",
    "\n",
    "\n",
    "\n",
    "Input\n",
    "\n",
    "[\"NumArray\", \"sumRange\", \"sumRange\", \"sumRange\"]\n",
    "\n",
    "[[[-2, 0, 3, -5, 2, -1]], [0, 2], [2, 5], [0, 5]]\n",
    "\n",
    "Output\n",
    "\n",
    "[null, 1, -1, -3]\n",
    "\n",
    "\n",
    "\n",
    "Explanation\n",
    "\n",
    "NumArray numArray = new NumArray([-2, 0, 3, -5, 2, -1]);\n",
    "\n",
    "numArray.sumRange(0, 2); // return (-2) + 0 + 3 = 1\n",
    "\n",
    "numArray.sumRange(2, 5); // return 3 + (-5) + 2 + (-1) = -1\n",
    "\n",
    "numArray.sumRange(0, 5); // return (-2) + 0 + 3 + (-5) + 2 + (-1) = -3\n",
    "\n",
    " \n",
    "\n",
    "\n",
    "\n",
    "**Constraints:**\n",
    "\n",
    "\n",
    "\n",
    "1 <= nums.length <= 104\n",
    "\n",
    "-105 <= nums[i] <= 105\n",
    "\n",
    "0 <= left <= right < nums.length\n",
    "\n",
    "At most 104 calls will be made to sumRange."
   ]
  }
 ],
 "metadata": {
  "language_info": {
   "name": "python"
  }
 },
 "nbformat": 4,
 "nbformat_minor": 5
}
