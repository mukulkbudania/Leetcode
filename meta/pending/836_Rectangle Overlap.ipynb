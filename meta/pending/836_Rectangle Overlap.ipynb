{
 "cells": [
  {
   "cell_type": "markdown",
   "id": "b6708202",
   "metadata": {},
   "source": [
    "# 836. Rectangle Overlap"
   ]
  },
  {
   "cell_type": "markdown",
   "id": "73d7ffbf",
   "metadata": {},
   "source": [
    "An axis-aligned rectangle is represented as a list [x1, y1, x2, y2], where (x1, y1) is the coordinate of its bottom-left corner, and (x2, y2) is the coordinate of its top-right corner. Its top and bottom edges are parallel to the X-axis, and its left and right edges are parallel to the Y-axis.\n",
    "\n",
    "\n",
    "\n",
    "Two rectangles overlap if the area of their intersection is positive. To be clear, two rectangles that only touch at the corner or edges do not overlap.\n",
    "\n",
    "\n",
    "\n",
    "Given two axis-aligned rectangles rec1 and rec2, return true if they overlap, otherwise return false.\n",
    "\n",
    "\n",
    "\n",
    " \n",
    "\n",
    "\n",
    "\n",
    "**Example 1:**\n",
    "\n",
    "\n",
    "\n",
    "Input: rec1 = [0,0,2,2], rec2 = [1,1,3,3]\n",
    "\n",
    "Output: true\n",
    "\n",
    "**Example 2:**\n",
    "\n",
    "\n",
    "\n",
    "Input: rec1 = [0,0,1,1], rec2 = [1,0,2,1]\n",
    "\n",
    "Output: false\n",
    "\n",
    "**Example 3:**\n",
    "\n",
    "\n",
    "\n",
    "Input: rec1 = [0,0,1,1], rec2 = [2,2,3,3]\n",
    "\n",
    "Output: false\n",
    "\n",
    " \n",
    "\n",
    "\n",
    "\n",
    "**Constraints:**\n",
    "\n",
    "\n",
    "\n",
    "rec1.length == 4\n",
    "\n",
    "rec2.length == 4\n",
    "\n",
    "-109 <= rec1[i], rec2[i] <= 109\n",
    "\n",
    "rec1 and rec2 represent a valid rectangle with a non-zero area."
   ]
  }
 ],
 "metadata": {
  "language_info": {
   "name": "python"
  }
 },
 "nbformat": 4,
 "nbformat_minor": 5
}
