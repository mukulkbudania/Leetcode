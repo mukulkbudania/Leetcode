{
  "cells": [
    {
      "cell_type": "markdown",
      "id": "73d7ffbf",
      "metadata": {},
      "source": [
        "An axis-aligned rectangle is represented as a list [x1, y1, x2, y2], where (x1, y1) is the coordinate of its bottom-left corner, and (x2, y2) is the coordinate of its top-right corner. Its top and bottom edges are parallel to the X-axis, and its left and right edges are parallel to the Y-axis.\n",
        "\n",
        "Two rectangles overlap if the area of their intersection is positive. To be clear, two rectangles that only touch at the corner or edges do not overlap.\n",
        "\n",
        "Given two axis-aligned rectangles rec1 and rec2, return true if they overlap, otherwise return false.\n",
        "\n",
        " \n",
        "\n",
        "Example 1:\n",
        "\n",
        "Input: rec1 = [0,0,2,2], rec2 = [1,1,3,3]\n",
        "Output: true\n",
        "Example 2:\n",
        "\n",
        "Input: rec1 = [0,0,1,1], rec2 = [1,0,2,1]\n",
        "Output: false\n",
        "Example 3:\n",
        "\n",
        "Input: rec1 = [0,0,1,1], rec2 = [2,2,3,3]\n",
        "Output: false\n",
        " \n",
        "\n",
        "Constraints:\n",
        "\n",
        "rec1.length == 4\n",
        "rec2.length == 4\n",
        "-109 <= rec1[i], rec2[i] <= 109\n",
        "rec1 and rec2 represent a valid rectangle with a non-zero area."
      ]
    }
  ],
  "metadata": {
    "language_info": {
      "name": "python"
    }
  },
  "nbformat": 4,
  "nbformat_minor": 5
}
