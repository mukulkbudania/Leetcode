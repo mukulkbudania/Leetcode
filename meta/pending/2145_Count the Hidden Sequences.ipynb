{
  "cells": [
    {
      "cell_type": "markdown",
      "id": "27a7b143",
      "metadata": {},
      "source": [
        "You are given a 0-indexed array of n integers differences, which describes the differences between each pair of consecutive integers of a hidden sequence of length (n + 1). More formally, call the hidden sequence hidden, then we have that differences[i] = hidden[i + 1] - hidden[i].\n",
        "\n",
        "You are further given two integers lower and upper that describe the inclusive range of values [lower, upper] that the hidden sequence can contain.\n",
        "\n",
        "For example, given differences = [1, -3, 4], lower = 1, upper = 6, the hidden sequence is a sequence of length 4 whose elements are in between 1 and 6 (inclusive).\n",
        "[3, 4, 1, 5] and [4, 5, 2, 6] are possible hidden sequences.\n",
        "[5, 6, 3, 7] is not possible since it contains an element greater than 6.\n",
        "[1, 2, 3, 4] is not possible since the differences are not correct.\n",
        "Return the number of possible hidden sequences there are. If there are no possible sequences, return 0.\n",
        "\n",
        " \n",
        "\n",
        "Example 1:\n",
        "\n",
        "Input: differences = [1,-3,4], lower = 1, upper = 6\n",
        "Output: 2\n",
        "Explanation: The possible hidden sequences are:\n",
        "- [3, 4, 1, 5]\n",
        "- [4, 5, 2, 6]\n",
        "Thus, we return 2.\n",
        "Example 2:\n",
        "\n",
        "Input: differences = [3,-4,5,1,-2], lower = -4, upper = 5\n",
        "Output: 4\n",
        "Explanation: The possible hidden sequences are:\n",
        "- [-3, 0, -4, 1, 2, 0]\n",
        "- [-2, 1, -3, 2, 3, 1]\n",
        "- [-1, 2, -2, 3, 4, 2]\n",
        "- [0, 3, -1, 4, 5, 3]\n",
        "Thus, we return 4.\n",
        "Example 3:\n",
        "\n",
        "Input: differences = [4,-7,2], lower = 3, upper = 6\n",
        "Output: 0\n",
        "Explanation: There are no possible hidden sequences. Thus, we return 0.\n",
        " \n",
        "\n",
        "Constraints:\n",
        "\n",
        "n == differences.length\n",
        "1 <= n <= 105\n",
        "-105 <= differences[i] <= 105\n",
        "-105 <= lower <= upper <= 105"
      ]
    }
  ],
  "metadata": {
    "language_info": {
      "name": "python"
    }
  },
  "nbformat": 4,
  "nbformat_minor": 5
}
