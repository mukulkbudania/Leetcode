{
 "cells": [
  {
   "cell_type": "markdown",
   "id": "1cba363b",
   "metadata": {},
   "source": [
    "# 270. Closest Binary Search Tree Value"
   ]
  },
  {
   "cell_type": "markdown",
   "id": "afdadeca",
   "metadata": {},
   "source": [
    "Given the root of a binary search tree and a target value, return the value in the BST that is closest to the target. If there are multiple answers, print the smallest.\n",
    "\n",
    "\n",
    "\n",
    " \n",
    "\n",
    "\n",
    "\n",
    "**Example 1:**\n",
    "\n",
    "\n",
    "\n",
    "\n",
    "\n",
    "Input: root = [4,2,5,1,3], target = 3.714286\n",
    "\n",
    "Output: 4\n",
    "\n",
    "**Example 2:**\n",
    "\n",
    "\n",
    "\n",
    "Input: root = [1], target = 4.428571\n",
    "\n",
    "Output: 1\n",
    "\n",
    " \n",
    "\n",
    "\n",
    "\n",
    "**Constraints:**\n",
    "\n",
    "\n",
    "\n",
    "The number of nodes in the tree is in the range [1, 104].\n",
    "\n",
    "0 <= Node.val <= 109\n",
    "\n",
    "-109 <= target <= 109"
   ]
  }
 ],
 "metadata": {
  "language_info": {
   "name": "python"
  }
 },
 "nbformat": 4,
 "nbformat_minor": 5
}
