{
 "cells": [
  {
   "cell_type": "markdown",
   "id": "d3cef684",
   "metadata": {},
   "source": [
    "# 1557. Minimum Number of Vertices to Reach All Nodes"
   ]
  },
  {
   "cell_type": "markdown",
   "id": "4e7db68b",
   "metadata": {},
   "source": [
    "Given a directed acyclic graph, with n vertices numbered from 0 to n-1, and an array edges where edges[i] = [fromi, toi] represents a directed edge from node fromi to node toi.\n",
    "\n",
    "\n",
    "\n",
    "Find the smallest set of vertices from which all nodes in the graph are reachable. It's guaranteed that a unique solution exists.\n",
    "\n",
    "\n",
    "\n",
    "Notice that you can return the vertices in any order.\n",
    "\n",
    "\n",
    "\n",
    " \n",
    "\n",
    "\n",
    "\n",
    "**Example 1:**\n",
    "\n",
    "\n",
    "\n",
    "\n",
    "\n",
    "\n",
    "\n",
    "Input: n = 6, edges = [[0,1],[0,2],[2,5],[3,4],[4,2]]\n",
    "\n",
    "Output: [0,3]\n",
    "\n",
    "Explanation: It's not possible to reach all the nodes from a single vertex. From 0 we can reach [0,1,2,5]. From 3 we can reach [3,4,2,5]. So we output [0,3].\n",
    "\n",
    "**Example 2:**\n",
    "\n",
    "\n",
    "\n",
    "\n",
    "\n",
    "\n",
    "\n",
    "Input: n = 5, edges = [[0,1],[2,1],[3,1],[1,4],[2,4]]\n",
    "\n",
    "Output: [0,2,3]\n",
    "\n",
    "Explanation: Notice that vertices 0, 3 and 2 are not reachable from any other node, so we must include them. Also any of these vertices can reach nodes 1 and 4.\n",
    "\n",
    " \n",
    "\n",
    "\n",
    "\n",
    "**Constraints:**\n",
    "\n",
    "\n",
    "\n",
    "2 <= n <= 10^5\n",
    "\n",
    "1 <= edges.length <= min(10^5, n * (n - 1) / 2)\n",
    "\n",
    "edges[i].length == 2\n",
    "\n",
    "0 <= fromi, toi < n\n",
    "\n",
    "All pairs (fromi, toi) are distinct."
   ]
  }
 ],
 "metadata": {
  "language_info": {
   "name": "python"
  }
 },
 "nbformat": 4,
 "nbformat_minor": 5
}
