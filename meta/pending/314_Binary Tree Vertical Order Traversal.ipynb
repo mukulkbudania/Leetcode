{
  "cells": [
    {
      "cell_type": "markdown",
      "id": "f1158cbb",
      "metadata": {},
      "source": [
        "Given the root of a binary tree, return the vertical order traversal of its nodes' values. (i.e., from top to bottom, column by column).\n",
        "\n",
        "If two nodes are in the same row and column, the order should be from left to right.\n",
        "\n",
        " \n",
        "\n",
        "Example 1:\n",
        "\n",
        "\n",
        "Input: root = [3,9,20,null,null,15,7]\n",
        "Output: [[9],[3,15],[20],[7]]\n",
        "Example 2:\n",
        "\n",
        "\n",
        "Input: root = [3,9,8,4,0,1,7]\n",
        "Output: [[4],[9],[3,0,1],[8],[7]]\n",
        "Example 3:\n",
        "\n",
        "\n",
        "Input: root = [1,2,3,4,10,9,11,null,5,null,null,null,null,null,null,null,6]\n",
        "Output: [[4],[2,5],[1,10,9,6],[3],[11]]\n",
        " \n",
        "\n",
        "Constraints:\n",
        "\n",
        "The number of nodes in the tree is in the range [0, 100].\n",
        "-100 <= Node.val <= 100"
      ]
    }
  ],
  "metadata": {
    "language_info": {
      "name": "python"
    }
  },
  "nbformat": 4,
  "nbformat_minor": 5
}
