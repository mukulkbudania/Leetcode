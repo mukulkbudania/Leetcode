{
  "cells": [
    {
      "cell_type": "markdown",
      "id": "26644eb0",
      "metadata": {},
      "source": [
        "Given an unsorted integer array nums. Return the smallest positive integer that is not present in nums.\n",
        "\n",
        "You must implement an algorithm that runs in O(n) time and uses O(1) auxiliary space.\n",
        "\n",
        " \n",
        "\n",
        "Example 1:\n",
        "\n",
        "Input: nums = [1,2,0]\n",
        "Output: 3\n",
        "Explanation: The numbers in the range [1,2] are all in the array.\n",
        "Example 2:\n",
        "\n",
        "Input: nums = [3,4,-1,1]\n",
        "Output: 2\n",
        "Explanation: 1 is in the array but 2 is missing.\n",
        "Example 3:\n",
        "\n",
        "Input: nums = [7,8,9,11,12]\n",
        "Output: 1\n",
        "Explanation: The smallest positive integer 1 is missing.\n",
        " \n",
        "\n",
        "Constraints:\n",
        "\n",
        "1 <= nums.length <= 105\n",
        "-231 <= nums[i] <= 231 - 1"
      ]
    }
  ],
  "metadata": {
    "language_info": {
      "name": "python"
    }
  },
  "nbformat": 4,
  "nbformat_minor": 5
}
