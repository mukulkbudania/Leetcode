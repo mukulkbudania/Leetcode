{
 "cells": [
  {
   "cell_type": "markdown",
   "id": "72831d85",
   "metadata": {},
   "source": [
    "# 92. Reverse Linked List II"
   ]
  },
  {
   "cell_type": "markdown",
   "id": "ee3987a4",
   "metadata": {},
   "source": [
    "Given the head of a singly linked list and two integers left and right where left <= right, reverse the nodes of the list from position left to position right, and return the reversed list.\n",
    "\n",
    "\n",
    "\n",
    " \n",
    "\n",
    "\n",
    "\n",
    "**Example 1:**\n",
    "\n",
    "\n",
    "\n",
    "\n",
    "\n",
    "Input: head = [1,2,3,4,5], left = 2, right = 4\n",
    "\n",
    "Output: [1,4,3,2,5]\n",
    "\n",
    "**Example 2:**\n",
    "\n",
    "\n",
    "\n",
    "Input: head = [5], left = 1, right = 1\n",
    "\n",
    "Output: [5]\n",
    "\n",
    " \n",
    "\n",
    "\n",
    "\n",
    "**Constraints:**\n",
    "\n",
    "\n",
    "\n",
    "The number of nodes in the list is n.\n",
    "\n",
    "1 <= n <= 500\n",
    "\n",
    "-500 <= Node.val <= 500\n",
    "\n",
    "1 <= left <= right <= n\n",
    "\n",
    "\n",
    "\n",
    "Follow up: Could you do it in one pass?\n",
    "\n"
   ]
  }
 ],
 "metadata": {
  "language_info": {
   "name": "python"
  }
 },
 "nbformat": 4,
 "nbformat_minor": 5
}
