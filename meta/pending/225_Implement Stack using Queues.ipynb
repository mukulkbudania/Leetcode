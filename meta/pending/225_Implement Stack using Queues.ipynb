{
  "cells": [
    {
      "cell_type": "markdown",
      "id": "45add224",
      "metadata": {},
      "source": [
        "Implement a last-in-first-out (LIFO) stack using only two queues. The implemented stack should support all the functions of a normal stack (push, top, pop, and empty).\n",
        "\n",
        "Implement the MyStack class:\n",
        "\n",
        "void push(int x) Pushes element x to the top of the stack.\n",
        "int pop() Removes the element on the top of the stack and returns it.\n",
        "int top() Returns the element on the top of the stack.\n",
        "boolean empty() Returns true if the stack is empty, false otherwise.\n",
        "Notes:\n",
        "\n",
        "You must use only standard operations of a queue, which means that only push to back, peek/pop from front, size and is empty operations are valid.\n",
        "Depending on your language, the queue may not be supported natively. You may simulate a queue using a list or deque (double-ended queue) as long as you use only a queue's standard operations.\n",
        " \n",
        "\n",
        "Example 1:\n",
        "\n",
        "Input\n",
        "[\"MyStack\", \"push\", \"push\", \"top\", \"pop\", \"empty\"]\n",
        "[[], [1], [2], [], [], []]\n",
        "Output\n",
        "[null, null, null, 2, 2, false]\n",
        "\n",
        "Explanation\n",
        "MyStack myStack = new MyStack();\n",
        "myStack.push(1);\n",
        "myStack.push(2);\n",
        "myStack.top(); // return 2\n",
        "myStack.pop(); // return 2\n",
        "myStack.empty(); // return False\n",
        " \n",
        "\n",
        "Constraints:\n",
        "\n",
        "1 <= x <= 9\n",
        "At most 100 calls will be made to push, pop, top, and empty.\n",
        "All the calls to pop and top are valid.\n",
        " \n",
        "\n",
        "Follow-up: Can you implement the stack using only one queue?\n",
        "\n"
      ]
    }
  ],
  "metadata": {
    "language_info": {
      "name": "python"
    }
  },
  "nbformat": 4,
  "nbformat_minor": 5
}
