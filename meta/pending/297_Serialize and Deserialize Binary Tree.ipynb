{
  "cells": [
    {
      "cell_type": "markdown",
      "id": "2b3bd1e4",
      "metadata": {},
      "source": [
        "Serialization is the process of converting a data structure or object into a sequence of bits so that it can be stored in a file or memory buffer, or transmitted across a network connection link to be reconstructed later in the same or another computer environment.\n",
        "\n",
        "Design an algorithm to serialize and deserialize a binary tree. There is no restriction on how your serialization/deserialization algorithm should work. You just need to ensure that a binary tree can be serialized to a string and this string can be deserialized to the original tree structure.\n",
        "\n",
        "Clarification: The input/output format is the same as how LeetCode serializes a binary tree. You do not necessarily need to follow this format, so please be creative and come up with different approaches yourself.\n",
        "\n",
        " \n",
        "\n",
        "Example 1:\n",
        "\n",
        "\n",
        "Input: root = [1,2,3,null,null,4,5]\n",
        "Output: [1,2,3,null,null,4,5]\n",
        "Example 2:\n",
        "\n",
        "Input: root = []\n",
        "Output: []\n",
        " \n",
        "\n",
        "Constraints:\n",
        "\n",
        "The number of nodes in the tree is in the range [0, 104].\n",
        "-1000 <= Node.val <= 1000"
      ]
    }
  ],
  "metadata": {
    "language_info": {
      "name": "python"
    }
  },
  "nbformat": 4,
  "nbformat_minor": 5
}
