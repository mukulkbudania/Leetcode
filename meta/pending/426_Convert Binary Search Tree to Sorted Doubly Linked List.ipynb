{
 "cells": [
  {
   "cell_type": "markdown",
   "id": "926da9f3",
   "metadata": {},
   "source": [
    "# 426. Convert Binary Search Tree to Sorted Doubly Linked List"
   ]
  },
  {
   "cell_type": "markdown",
   "id": "2de43af7",
   "metadata": {},
   "source": [
    "Convert a Binary Search Tree to a sorted Circular Doubly-Linked List in place.\n",
    "\n",
    "\n",
    "\n",
    "You can think of the left and right pointers as synonymous to the predecessor and successor pointers in a doubly-linked list. For a circular doubly linked list, the predecessor of the first element is the last element, and the successor of the last element is the first element.\n",
    "\n",
    "\n",
    "\n",
    "We want to do the transformation in place. After the transformation, the left pointer of the tree node should point to its predecessor, and the right pointer should point to its successor. You should return the pointer to the smallest element of the linked list.\n",
    "\n",
    "\n",
    "\n",
    " \n",
    "\n",
    "\n",
    "\n",
    "**Example 1:**\n",
    "\n",
    "\n",
    "\n",
    "\n",
    "\n",
    "\n",
    "\n",
    "Input: root = [4,2,5,1,3]\n",
    "\n",
    "\n",
    "\n",
    "\n",
    "\n",
    "Output: [1,2,3,4,5]\n",
    "\n",
    "\n",
    "\n",
    "Explanation: The figure below shows the transformed BST. The solid line indicates the successor relationship, while the dashed line means the predecessor relationship.\n",
    "\n",
    "\n",
    "\n",
    "**Example 2:**\n",
    "\n",
    "\n",
    "\n",
    "Input: root = [2,1,3]\n",
    "\n",
    "Output: [1,2,3]\n",
    "\n",
    " \n",
    "\n",
    "\n",
    "\n",
    "**Constraints:**\n",
    "\n",
    "\n",
    "\n",
    "The number of nodes in the tree is in the range [0, 2000].\n",
    "\n",
    "-1000 <= Node.val <= 1000\n",
    "\n",
    "All the values of the tree are unique."
   ]
  }
 ],
 "metadata": {
  "language_info": {
   "name": "python"
  }
 },
 "nbformat": 4,
 "nbformat_minor": 5
}
