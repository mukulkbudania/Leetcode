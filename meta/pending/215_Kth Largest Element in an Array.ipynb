{
 "cells": [
  {
   "cell_type": "markdown",
   "id": "5d4b8202",
   "metadata": {},
   "source": [
    "# 215. Kth Largest Element in an Array"
   ]
  },
  {
   "cell_type": "markdown",
   "id": "eba47171",
   "metadata": {},
   "source": [
    "Given an integer array nums and an integer k, return the kth largest element in the array.\n",
    "\n",
    "\n",
    "\n",
    "Note that it is the kth largest element in the sorted order, not the kth distinct element.\n",
    "\n",
    "\n",
    "\n",
    "Can you solve it without sorting?\n",
    "\n",
    "\n",
    "\n",
    " \n",
    "\n",
    "\n",
    "\n",
    "**Example 1:**\n",
    "\n",
    "\n",
    "\n",
    "Input: nums = [3,2,1,5,6,4], k = 2\n",
    "\n",
    "Output: 5\n",
    "\n",
    "**Example 2:**\n",
    "\n",
    "\n",
    "\n",
    "Input: nums = [3,2,3,1,2,4,5,5,6], k = 4\n",
    "\n",
    "Output: 4\n",
    "\n",
    " \n",
    "\n",
    "\n",
    "\n",
    "**Constraints:**\n",
    "\n",
    "\n",
    "\n",
    "1 <= k <= nums.length <= 105\n",
    "\n",
    "-104 <= nums[i] <= 104"
   ]
  }
 ],
 "metadata": {
  "language_info": {
   "name": "python"
  }
 },
 "nbformat": 4,
 "nbformat_minor": 5
}
