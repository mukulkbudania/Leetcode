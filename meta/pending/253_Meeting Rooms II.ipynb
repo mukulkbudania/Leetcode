{
 "cells": [
  {
   "cell_type": "markdown",
   "id": "1de52e8c",
   "metadata": {},
   "source": [
    "# 253. Meeting Rooms II"
   ]
  },
  {
   "cell_type": "markdown",
   "id": "540aea6d",
   "metadata": {},
   "source": [
    "Given an array of meeting time intervals intervals where intervals[i] = [starti, endi], return the minimum number of conference rooms required.\n",
    "\n",
    "\n",
    "\n",
    " \n",
    "\n",
    "\n",
    "\n",
    "**Example 1:**\n",
    "\n",
    "\n",
    "\n",
    "Input: intervals = [[0,30],[5,10],[15,20]]\n",
    "\n",
    "Output: 2\n",
    "\n",
    "**Example 2:**\n",
    "\n",
    "\n",
    "\n",
    "Input: intervals = [[7,10],[2,4]]\n",
    "\n",
    "Output: 1\n",
    "\n",
    " \n",
    "\n",
    "\n",
    "\n",
    "**Constraints:**\n",
    "\n",
    "\n",
    "\n",
    "1 <= intervals.length <= 104\n",
    "\n",
    "0 <= starti < endi <= 106"
   ]
  }
 ],
 "metadata": {
  "language_info": {
   "name": "python"
  }
 },
 "nbformat": 4,
 "nbformat_minor": 5
}
