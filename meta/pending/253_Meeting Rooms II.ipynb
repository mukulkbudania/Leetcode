{
  "cells": [
    {
      "cell_type": "markdown",
      "id": "540aea6d",
      "metadata": {},
      "source": [
        "Given an array of meeting time intervals intervals where intervals[i] = [starti, endi], return the minimum number of conference rooms required.\n",
        "\n",
        " \n",
        "\n",
        "Example 1:\n",
        "\n",
        "Input: intervals = [[0,30],[5,10],[15,20]]\n",
        "Output: 2\n",
        "Example 2:\n",
        "\n",
        "Input: intervals = [[7,10],[2,4]]\n",
        "Output: 1\n",
        " \n",
        "\n",
        "Constraints:\n",
        "\n",
        "1 <= intervals.length <= 104\n",
        "0 <= starti < endi <= 106"
      ]
    }
  ],
  "metadata": {
    "language_info": {
      "name": "python"
    }
  },
  "nbformat": 4,
  "nbformat_minor": 5
}
