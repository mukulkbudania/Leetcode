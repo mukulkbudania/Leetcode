{
  "cells": [
    {
      "cell_type": "markdown",
      "id": "14bf2754",
      "metadata": {},
      "source": [
        "Implement pow(x, n), which calculates x raised to the power n (i.e., xn).\n",
        "\n",
        " \n",
        "\n",
        "Example 1:\n",
        "\n",
        "Input: x = 2.00000, n = 10\n",
        "Output: 1024.00000\n",
        "Example 2:\n",
        "\n",
        "Input: x = 2.10000, n = 3\n",
        "Output: 9.26100\n",
        "Example 3:\n",
        "\n",
        "Input: x = 2.00000, n = -2\n",
        "Output: 0.25000\n",
        "Explanation: 2-2 = 1/22 = 1/4 = 0.25\n",
        " \n",
        "\n",
        "Constraints:\n",
        "\n",
        "-100.0 < x < 100.0\n",
        "-231 <= n <= 231-1\n",
        "n is an integer.\n",
        "Either x is not zero or n > 0.\n",
        "-104 <= xn <= 104"
      ]
    }
  ],
  "metadata": {
    "language_info": {
      "name": "python"
    }
  },
  "nbformat": 4,
  "nbformat_minor": 5
}
