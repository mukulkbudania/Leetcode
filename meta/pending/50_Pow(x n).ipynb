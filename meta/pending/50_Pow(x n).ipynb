{
 "cells": [
  {
   "cell_type": "markdown",
   "id": "60b230bf",
   "metadata": {},
   "source": [
    "# 50. Pow(x n)"
   ]
  },
  {
   "cell_type": "markdown",
   "id": "14bf2754",
   "metadata": {},
   "source": [
    "Implement pow(x, n), which calculates x raised to the power n (i.e., xn).\n",
    "\n",
    "\n",
    "\n",
    " \n",
    "\n",
    "\n",
    "\n",
    "**Example 1:**\n",
    "\n",
    "\n",
    "\n",
    "Input: x = 2.00000, n = 10\n",
    "\n",
    "Output: 1024.00000\n",
    "\n",
    "**Example 2:**\n",
    "\n",
    "\n",
    "\n",
    "Input: x = 2.10000, n = 3\n",
    "\n",
    "Output: 9.26100\n",
    "\n",
    "**Example 3:**\n",
    "\n",
    "\n",
    "\n",
    "Input: x = 2.00000, n = -2\n",
    "\n",
    "Output: 0.25000\n",
    "\n",
    "Explanation: 2-2 = 1/22 = 1/4 = 0.25\n",
    "\n",
    " \n",
    "\n",
    "\n",
    "\n",
    "**Constraints:**\n",
    "\n",
    "\n",
    "\n",
    "-100.0 < x < 100.0\n",
    "\n",
    "-231 <= n <= 231-1\n",
    "\n",
    "n is an integer.\n",
    "\n",
    "Either x is not zero or n > 0.\n",
    "\n",
    "-104 <= xn <= 104"
   ]
  }
 ],
 "metadata": {
  "language_info": {
   "name": "python"
  }
 },
 "nbformat": 4,
 "nbformat_minor": 5
}
