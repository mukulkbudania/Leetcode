{
 "cells": [
  {
   "cell_type": "markdown",
   "id": "3166f745",
   "metadata": {},
   "source": [
    "# 415. Add Strings"
   ]
  },
  {
   "cell_type": "markdown",
   "id": "d80e3015",
   "metadata": {},
   "source": [
    "Given two non-negative integers, num1 and num2 represented as string, return the sum of num1 and num2 as a string.\n",
    "\n",
    "\n",
    "\n",
    "You must solve the problem without using any built-in library for handling large integers (such as BigInteger). You must also not convert the inputs to integers directly.\n",
    "\n",
    "\n",
    "\n",
    " \n",
    "\n",
    "\n",
    "\n",
    "**Example 1:**\n",
    "\n",
    "\n",
    "\n",
    "Input: num1 = \"11\", num2 = \"123\"\n",
    "\n",
    "Output: \"134\"\n",
    "\n",
    "**Example 2:**\n",
    "\n",
    "\n",
    "\n",
    "Input: num1 = \"456\", num2 = \"77\"\n",
    "\n",
    "Output: \"533\"\n",
    "\n",
    "**Example 3:**\n",
    "\n",
    "\n",
    "\n",
    "Input: num1 = \"0\", num2 = \"0\"\n",
    "\n",
    "Output: \"0\"\n",
    "\n",
    " \n",
    "\n",
    "\n",
    "\n",
    "**Constraints:**\n",
    "\n",
    "\n",
    "\n",
    "1 <= num1.length, num2.length <= 104\n",
    "\n",
    "num1 and num2 consist of only digits.\n",
    "\n",
    "num1 and num2 don't have any leading zeros except for the zero itself."
   ]
  }
 ],
 "metadata": {
  "language_info": {
   "name": "python"
  }
 },
 "nbformat": 4,
 "nbformat_minor": 5
}
