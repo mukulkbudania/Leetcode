{
  "cells": [
    {
      "cell_type": "markdown",
      "id": "d80e3015",
      "metadata": {},
      "source": [
        "Given two non-negative integers, num1 and num2 represented as string, return the sum of num1 and num2 as a string.\n",
        "\n",
        "You must solve the problem without using any built-in library for handling large integers (such as BigInteger). You must also not convert the inputs to integers directly.\n",
        "\n",
        " \n",
        "\n",
        "Example 1:\n",
        "\n",
        "Input: num1 = \"11\", num2 = \"123\"\n",
        "Output: \"134\"\n",
        "Example 2:\n",
        "\n",
        "Input: num1 = \"456\", num2 = \"77\"\n",
        "Output: \"533\"\n",
        "Example 3:\n",
        "\n",
        "Input: num1 = \"0\", num2 = \"0\"\n",
        "Output: \"0\"\n",
        " \n",
        "\n",
        "Constraints:\n",
        "\n",
        "1 <= num1.length, num2.length <= 104\n",
        "num1 and num2 consist of only digits.\n",
        "num1 and num2 don't have any leading zeros except for the zero itself."
      ]
    }
  ],
  "metadata": {
    "language_info": {
      "name": "python"
    }
  },
  "nbformat": 4,
  "nbformat_minor": 5
}
