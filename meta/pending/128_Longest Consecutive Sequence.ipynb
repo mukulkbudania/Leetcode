{
 "cells": [
  {
   "cell_type": "markdown",
   "id": "33ae841a",
   "metadata": {},
   "source": [
    "# 128. Longest Consecutive Sequence"
   ]
  },
  {
   "cell_type": "markdown",
   "id": "11e73263",
   "metadata": {},
   "source": [
    "Given an unsorted array of integers nums, return the length of the longest consecutive elements sequence.\n",
    "\n",
    "\n",
    "\n",
    "You must write an algorithm that runs in O(n) time.\n",
    "\n",
    "\n",
    "\n",
    " \n",
    "\n",
    "\n",
    "\n",
    "**Example 1:**\n",
    "\n",
    "\n",
    "\n",
    "Input: nums = [100,4,200,1,3,2]\n",
    "\n",
    "Output: 4\n",
    "\n",
    "Explanation: The longest consecutive elements sequence is [1, 2, 3, 4]. Therefore its length is 4.\n",
    "\n",
    "**Example 2:**\n",
    "\n",
    "\n",
    "\n",
    "Input: nums = [0,3,7,2,5,8,4,6,0,1]\n",
    "\n",
    "Output: 9\n",
    "\n",
    "**Example 3:**\n",
    "\n",
    "\n",
    "\n",
    "Input: nums = [1,0,1,2]\n",
    "\n",
    "Output: 3\n",
    "\n",
    " \n",
    "\n",
    "\n",
    "\n",
    "**Constraints:**\n",
    "\n",
    "\n",
    "\n",
    "0 <= nums.length <= 105\n",
    "\n",
    "-109 <= nums[i] <= 109"
   ]
  }
 ],
 "metadata": {
  "language_info": {
   "name": "python"
  }
 },
 "nbformat": 4,
 "nbformat_minor": 5
}
