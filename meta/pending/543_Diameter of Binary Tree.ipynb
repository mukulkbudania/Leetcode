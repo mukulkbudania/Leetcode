{
  "cells": [
    {
      "cell_type": "markdown",
      "id": "30ce0393",
      "metadata": {},
      "source": [
        "Given the root of a binary tree, return the length of the diameter of the tree.\n",
        "\n",
        "The diameter of a binary tree is the length of the longest path between any two nodes in a tree. This path may or may not pass through the root.\n",
        "\n",
        "The length of a path between two nodes is represented by the number of edges between them.\n",
        "\n",
        " \n",
        "\n",
        "Example 1:\n",
        "\n",
        "\n",
        "Input: root = [1,2,3,4,5]\n",
        "Output: 3\n",
        "Explanation: 3 is the length of the path [4,2,1,3] or [5,2,1,3].\n",
        "Example 2:\n",
        "\n",
        "Input: root = [1,2]\n",
        "Output: 1\n",
        " \n",
        "\n",
        "Constraints:\n",
        "\n",
        "The number of nodes in the tree is in the range [1, 104].\n",
        "-100 <= Node.val <= 100"
      ]
    }
  ],
  "metadata": {
    "language_info": {
      "name": "python"
    }
  },
  "nbformat": 4,
  "nbformat_minor": 5
}
