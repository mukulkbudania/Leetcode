{
  "cells": [
    {
      "cell_type": "markdown",
      "id": "b3d37450",
      "metadata": {},
      "source": [
        "Given an integer array nums of length n, you want to create an array ans of length 2n where ans[i] == nums[i] and ans[i + n] == nums[i] for 0 <= i < n (0-indexed).\n",
        "\n",
        "Specifically, ans is the concatenation of two nums arrays.\n",
        "\n",
        "Return the array ans.\n",
        "\n",
        " \n",
        "\n",
        "Example 1:\n",
        "\n",
        "Input: nums = [1,2,1]\n",
        "Output: [1,2,1,1,2,1]\n",
        "Explanation: The array ans is formed as follows:\n",
        "- ans = [nums[0],nums[1],nums[2],nums[0],nums[1],nums[2]]\n",
        "- ans = [1,2,1,1,2,1]\n",
        "Example 2:\n",
        "\n",
        "Input: nums = [1,3,2,1]\n",
        "Output: [1,3,2,1,1,3,2,1]\n",
        "Explanation: The array ans is formed as follows:\n",
        "- ans = [nums[0],nums[1],nums[2],nums[3],nums[0],nums[1],nums[2],nums[3]]\n",
        "- ans = [1,3,2,1,1,3,2,1]\n",
        " \n",
        "\n",
        "Constraints:\n",
        "\n",
        "n == nums.length\n",
        "1 <= n <= 1000\n",
        "1 <= nums[i] <= 1000\n"
      ]
    }
  ],
  "metadata": {
    "language_info": {
      "name": "python"
    }
  },
  "nbformat": 4,
  "nbformat_minor": 5
}
