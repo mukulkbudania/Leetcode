{
 "cells": [
  {
   "cell_type": "markdown",
   "id": "f777442e",
   "metadata": {},
   "source": [
    "# 1929. Concatenation of Array"
   ]
  },
  {
   "cell_type": "markdown",
   "id": "b3d37450",
   "metadata": {},
   "source": [
    "Given an integer array nums of length n, you want to create an array ans of length 2n where ans[i] == nums[i] and ans[i + n] == nums[i] for 0 <= i < n (0-indexed).\n",
    "\n",
    "\n",
    "\n",
    "Specifically, ans is the concatenation of two nums arrays.\n",
    "\n",
    "\n",
    "\n",
    "Return the array ans.\n",
    "\n",
    "\n",
    "\n",
    " \n",
    "\n",
    "\n",
    "\n",
    "**Example 1:**\n",
    "\n",
    "\n",
    "\n",
    "Input: nums = [1,2,1]\n",
    "\n",
    "Output: [1,2,1,1,2,1]\n",
    "\n",
    "Explanation: The array ans is formed as follows:\n",
    "\n",
    "- ans = [nums[0],nums[1],nums[2],nums[0],nums[1],nums[2]]\n",
    "\n",
    "- ans = [1,2,1,1,2,1]\n",
    "\n",
    "**Example 2:**\n",
    "\n",
    "\n",
    "\n",
    "Input: nums = [1,3,2,1]\n",
    "\n",
    "Output: [1,3,2,1,1,3,2,1]\n",
    "\n",
    "Explanation: The array ans is formed as follows:\n",
    "\n",
    "- ans = [nums[0],nums[1],nums[2],nums[3],nums[0],nums[1],nums[2],nums[3]]\n",
    "\n",
    "- ans = [1,3,2,1,1,3,2,1]\n",
    "\n",
    " \n",
    "\n",
    "\n",
    "\n",
    "**Constraints:**\n",
    "\n",
    "\n",
    "\n",
    "n == nums.length\n",
    "\n",
    "1 <= n <= 1000\n",
    "\n",
    "1 <= nums[i] <= 1000\n",
    "\n"
   ]
  }
 ],
 "metadata": {
  "language_info": {
   "name": "python"
  }
 },
 "nbformat": 4,
 "nbformat_minor": 5
}
