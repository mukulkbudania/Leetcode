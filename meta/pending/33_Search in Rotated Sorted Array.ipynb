{
  "cells": [
    {
      "cell_type": "markdown",
      "id": "5283d13c",
      "metadata": {},
      "source": [
        "There is an integer array nums sorted in ascending order (with distinct values).\n",
        "\n",
        "Prior to being passed to your function, nums is possibly rotated at an unknown pivot index k (1 <= k < nums.length) such that the resulting array is [nums[k], nums[k+1], ..., nums[n-1], nums[0], nums[1], ..., nums[k-1]] (0-indexed). For example, [0,1,2,4,5,6,7] might be rotated at pivot index 3 and become [4,5,6,7,0,1,2].\n",
        "\n",
        "Given the array nums after the possible rotation and an integer target, return the index of target if it is in nums, or -1 if it is not in nums.\n",
        "\n",
        "You must write an algorithm with O(log n) runtime complexity.\n",
        "\n",
        " \n",
        "\n",
        "Example 1:\n",
        "\n",
        "Input: nums = [4,5,6,7,0,1,2], target = 0\n",
        "Output: 4\n",
        "Example 2:\n",
        "\n",
        "Input: nums = [4,5,6,7,0,1,2], target = 3\n",
        "Output: -1\n",
        "Example 3:\n",
        "\n",
        "Input: nums = [1], target = 0\n",
        "Output: -1\n",
        " \n",
        "\n",
        "Constraints:\n",
        "\n",
        "1 <= nums.length <= 5000\n",
        "-104 <= nums[i] <= 104\n",
        "All values of nums are unique.\n",
        "nums is an ascending array that is possibly rotated.\n",
        "-104 <= target <= 104\n"
      ]
    }
  ],
  "metadata": {
    "language_info": {
      "name": "python"
    }
  },
  "nbformat": 4,
  "nbformat_minor": 5
}
