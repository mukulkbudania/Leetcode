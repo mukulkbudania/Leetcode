{
  "cells": [
    {
      "cell_type": "markdown",
      "id": "151824b3",
      "metadata": {},
      "source": [
        "Given an m x n matrix, return all elements of the matrix in spiral order.\n",
        "\n",
        " \n",
        "\n",
        "Example 1:\n",
        "\n",
        "\n",
        "Input: matrix = [[1,2,3],[4,5,6],[7,8,9]]\n",
        "Output: [1,2,3,6,9,8,7,4,5]\n",
        "Example 2:\n",
        "\n",
        "\n",
        "Input: matrix = [[1,2,3,4],[5,6,7,8],[9,10,11,12]]\n",
        "Output: [1,2,3,4,8,12,11,10,9,5,6,7]\n",
        " \n",
        "\n",
        "Constraints:\n",
        "\n",
        "m == matrix.length\n",
        "n == matrix[i].length\n",
        "1 <= m, n <= 10\n",
        "-100 <= matrix[i][j] <= 100"
      ]
    }
  ],
  "metadata": {
    "language_info": {
      "name": "python"
    }
  },
  "nbformat": 4,
  "nbformat_minor": 5
}
