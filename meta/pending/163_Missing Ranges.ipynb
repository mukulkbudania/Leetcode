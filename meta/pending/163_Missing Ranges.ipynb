{
  "cells": [
    {
      "cell_type": "markdown",
      "id": "0602d058",
      "metadata": {},
      "source": [
        "You are given an inclusive range [lower, upper] and a sorted unique integer array nums, where all elements are within the inclusive range.\n",
        "\n",
        "A number x is considered missing if x is in the range [lower, upper] and x is not in nums.\n",
        "\n",
        "Return the shortest sorted list of ranges that exactly covers all the missing numbers. That is, no element of nums is included in any of the ranges, and each missing number is covered by one of the ranges.\n",
        "\n",
        " \n",
        "\n",
        " \n",
        "\n",
        "Example 1:\n",
        "\n",
        "Input: nums = [0,1,3,50,75], lower = 0, upper = 99\n",
        "Output: [[2,2],[4,49],[51,74],[76,99]]\n",
        "Explanation: The ranges are:\n",
        "[2,2]\n",
        "[4,49]\n",
        "[51,74]\n",
        "[76,99]\n",
        "Example 2:\n",
        "\n",
        "Input: nums = [-1], lower = -1, upper = -1\n",
        "Output: []\n",
        "Explanation: There are no missing ranges since there are no missing numbers.\n",
        " \n",
        "\n",
        "Constraints:\n",
        "\n",
        "-109 <= lower <= upper <= 109\n",
        "0 <= nums.length <= 100\n",
        "lower <= nums[i] <= upper\n",
        "All the values of nums are unique."
      ]
    }
  ],
  "metadata": {
    "language_info": {
      "name": "python"
    }
  },
  "nbformat": 4,
  "nbformat_minor": 5
}
