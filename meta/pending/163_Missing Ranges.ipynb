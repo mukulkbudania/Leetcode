{
 "cells": [
  {
   "cell_type": "markdown",
   "id": "427e0a70",
   "metadata": {},
   "source": [
    "# 163. Missing Ranges"
   ]
  },
  {
   "cell_type": "markdown",
   "id": "0602d058",
   "metadata": {},
   "source": [
    "You are given an inclusive range [lower, upper] and a sorted unique integer array nums, where all elements are within the inclusive range.\n",
    "\n",
    "\n",
    "\n",
    "A number x is considered missing if x is in the range [lower, upper] and x is not in nums.\n",
    "\n",
    "\n",
    "\n",
    "Return the shortest sorted list of ranges that exactly covers all the missing numbers. That is, no element of nums is included in any of the ranges, and each missing number is covered by one of the ranges.\n",
    "\n",
    "\n",
    "\n",
    " \n",
    "\n",
    "\n",
    "\n",
    " \n",
    "\n",
    "\n",
    "\n",
    "**Example 1:**\n",
    "\n",
    "\n",
    "\n",
    "Input: nums = [0,1,3,50,75], lower = 0, upper = 99\n",
    "\n",
    "Output: [[2,2],[4,49],[51,74],[76,99]]\n",
    "\n",
    "Explanation: The ranges are:\n",
    "\n",
    "[2,2]\n",
    "\n",
    "[4,49]\n",
    "\n",
    "[51,74]\n",
    "\n",
    "[76,99]\n",
    "\n",
    "**Example 2:**\n",
    "\n",
    "\n",
    "\n",
    "Input: nums = [-1], lower = -1, upper = -1\n",
    "\n",
    "Output: []\n",
    "\n",
    "Explanation: There are no missing ranges since there are no missing numbers.\n",
    "\n",
    " \n",
    "\n",
    "\n",
    "\n",
    "**Constraints:**\n",
    "\n",
    "\n",
    "\n",
    "-109 <= lower <= upper <= 109\n",
    "\n",
    "0 <= nums.length <= 100\n",
    "\n",
    "lower <= nums[i] <= upper\n",
    "\n",
    "All the values of nums are unique."
   ]
  }
 ],
 "metadata": {
  "language_info": {
   "name": "python"
  }
 },
 "nbformat": 4,
 "nbformat_minor": 5
}
