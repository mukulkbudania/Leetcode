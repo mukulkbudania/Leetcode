{
  "cells": [
    {
      "cell_type": "markdown",
      "id": "e14b6095",
      "metadata": {},
      "source": [
        "Given two strings word1 and word2, return the minimum number of operations required to convert word1 to word2.\n",
        "\n",
        "You have the following three operations permitted on a word:\n",
        "\n",
        "Insert a character\n",
        "Delete a character\n",
        "Replace a character\n",
        " \n",
        "\n",
        "Example 1:\n",
        "\n",
        "Input: word1 = \"horse\", word2 = \"ros\"\n",
        "Output: 3\n",
        "Explanation: \n",
        "horse -> rorse (replace 'h' with 'r')\n",
        "rorse -> rose (remove 'r')\n",
        "rose -> ros (remove 'e')\n",
        "Example 2:\n",
        "\n",
        "Input: word1 = \"intention\", word2 = \"execution\"\n",
        "Output: 5\n",
        "Explanation: \n",
        "intention -> inention (remove 't')\n",
        "inention -> enention (replace 'i' with 'e')\n",
        "enention -> exention (replace 'n' with 'x')\n",
        "exention -> exection (replace 'n' with 'c')\n",
        "exection -> execution (insert 'u')\n",
        " \n",
        "\n",
        "Constraints:\n",
        "\n",
        "0 <= word1.length, word2.length <= 500\n",
        "word1 and word2 consist of lowercase English letters."
      ]
    }
  ],
  "metadata": {
    "language_info": {
      "name": "python"
    }
  },
  "nbformat": 4,
  "nbformat_minor": 5
}
