{
  "cells": [
    {
      "cell_type": "markdown",
      "id": "638f33fc",
      "metadata": {},
      "source": [
        "At a lemonade stand, each lemonade costs $5. Customers are standing in a queue to buy from you and order one at a time (in the order specified by bills). Each customer will only buy one lemonade and pay with either a $5, $10, or $20 bill. You must provide the correct change to each customer so that the net transaction is that the customer pays $5.\n",
        "\n",
        "Note that you do not have any change in hand at first.\n",
        "\n",
        "Given an integer array bills where bills[i] is the bill the ith customer pays, return true if you can provide every customer with the correct change, or false otherwise.\n",
        "\n",
        " \n",
        "\n",
        "Example 1:\n",
        "\n",
        "Input: bills = [5,5,5,10,20]\n",
        "Output: true\n",
        "Explanation: \n",
        "From the first 3 customers, we collect three $5 bills in order.\n",
        "From the fourth customer, we collect a $10 bill and give back a $5.\n",
        "From the fifth customer, we give a $10 bill and a $5 bill.\n",
        "Since all customers got correct change, we output true.\n",
        "Example 2:\n",
        "\n",
        "Input: bills = [5,5,10,10,20]\n",
        "Output: false\n",
        "Explanation: \n",
        "From the first two customers in order, we collect two $5 bills.\n",
        "For the next two customers in order, we collect a $10 bill and give back a $5 bill.\n",
        "For the last customer, we can not give the change of $15 back because we only have two $10 bills.\n",
        "Since not every customer received the correct change, the answer is false.\n",
        " \n",
        "\n",
        "Constraints:\n",
        "\n",
        "1 <= bills.length <= 105\n",
        "bills[i] is either 5, 10, or 20."
      ]
    }
  ],
  "metadata": {
    "language_info": {
      "name": "python"
    }
  },
  "nbformat": 4,
  "nbformat_minor": 5
}
