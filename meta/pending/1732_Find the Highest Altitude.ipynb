{
 "cells": [
  {
   "cell_type": "markdown",
   "id": "23d031c5",
   "metadata": {},
   "source": [
    "# 1732. Find the Highest Altitude"
   ]
  },
  {
   "cell_type": "markdown",
   "id": "0dfb81d4",
   "metadata": {},
   "source": [
    "There is a biker going on a road trip. The road trip consists of n + 1 points at different altitudes. The biker starts his trip on point 0 with altitude equal 0.\n",
    "\n",
    "\n",
    "\n",
    "You are given an integer array gain of length n where gain[i] is the net gain in altitude between points i​​​​​​ and i + 1 for all (0 <= i < n). Return the highest altitude of a point.\n",
    "\n",
    "\n",
    "\n",
    " \n",
    "\n",
    "\n",
    "\n",
    "**Example 1:**\n",
    "\n",
    "\n",
    "\n",
    "Input: gain = [-5,1,5,0,-7]\n",
    "\n",
    "Output: 1\n",
    "\n",
    "Explanation: The altitudes are [0,-5,-4,1,1,-6]. The highest is 1.\n",
    "\n",
    "**Example 2:**\n",
    "\n",
    "\n",
    "\n",
    "Input: gain = [-4,-3,-2,-1,4,3,2]\n",
    "\n",
    "Output: 0\n",
    "\n",
    "Explanation: The altitudes are [0,-4,-7,-9,-10,-6,-3,-1]. The highest is 0.\n",
    "\n",
    " \n",
    "\n",
    "\n",
    "\n",
    "**Constraints:**\n",
    "\n",
    "\n",
    "\n",
    "n == gain.length\n",
    "\n",
    "1 <= n <= 100\n",
    "\n",
    "-100 <= gain[i] <= 100"
   ]
  }
 ],
 "metadata": {
  "language_info": {
   "name": "python"
  }
 },
 "nbformat": 4,
 "nbformat_minor": 5
}
