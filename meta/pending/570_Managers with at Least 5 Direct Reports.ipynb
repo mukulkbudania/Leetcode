{
  "cells": [
    {
      "cell_type": "markdown",
      "id": "440574f6",
      "metadata": {},
      "source": [
        "SQL Schema\n",
        "Pandas Schema\n",
        "Table: Employee\n",
        "\n",
        "+-------------+---------+\n",
        "| Column Name | Type    |\n",
        "+-------------+---------+\n",
        "| id          | int     |\n",
        "| name        | varchar |\n",
        "| department  | varchar |\n",
        "| managerId   | int     |\n",
        "+-------------+---------+\n",
        "id is the primary key (column with unique values) for this table.\n",
        "Each row of this table indicates the name of an employee, their department, and the id of their manager.\n",
        "If managerId is null, then the employee does not have a manager.\n",
        "No employee will be the manager of themself.\n",
        " \n",
        "\n",
        "Write a solution to find managers with at least five direct reports.\n",
        "\n",
        "Return the result table in any order.\n",
        "\n",
        "The result format is in the following example.\n",
        "\n",
        " \n",
        "\n",
        "Example 1:\n",
        "\n",
        "Input: \n",
        "Employee table:\n",
        "+-----+-------+------------+-----------+\n",
        "| id  | name  | department | managerId |\n",
        "+-----+-------+------------+-----------+\n",
        "| 101 | John  | A          | null      |\n",
        "| 102 | Dan   | A          | 101       |\n",
        "| 103 | James | A          | 101       |\n",
        "| 104 | Amy   | A          | 101       |\n",
        "| 105 | Anne  | A          | 101       |\n",
        "| 106 | Ron   | B          | 101       |\n",
        "+-----+-------+------------+-----------+\n",
        "Output: \n",
        "+------+\n",
        "| name |\n",
        "+------+\n",
        "| John |\n",
        "+------+\n"
      ]
    }
  ],
  "metadata": {
    "language_info": {
      "name": "python"
    }
  },
  "nbformat": 4,
  "nbformat_minor": 5
}
