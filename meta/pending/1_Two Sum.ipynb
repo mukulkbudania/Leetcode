{
  "cells": [
    {
      "cell_type": "markdown",
      "id": "35380fa9",
      "metadata": {},
      "source": [
        "Given an array of integers nums and an integer target, return indices of the two numbers such that they add up to target.\n",
        "\n",
        "You may assume that each input would have exactly one solution, and you may not use the same element twice.\n",
        "\n",
        "You can return the answer in any order.\n",
        "\n",
        " \n",
        "\n",
        "Example 1:\n",
        "\n",
        "Input: nums = [2,7,11,15], target = 9\n",
        "Output: [0,1]\n",
        "Explanation: Because nums[0] + nums[1] == 9, we return [0, 1].\n",
        "Example 2:\n",
        "\n",
        "Input: nums = [3,2,4], target = 6\n",
        "Output: [1,2]\n",
        "Example 3:\n",
        "\n",
        "Input: nums = [3,3], target = 6\n",
        "Output: [0,1]\n",
        " \n",
        "\n",
        "Constraints:\n",
        "\n",
        "2 <= nums.length <= 104\n",
        "-109 <= nums[i] <= 109\n",
        "-109 <= target <= 109\n",
        "Only one valid answer exists.\n",
        " \n",
        "\n",
        "Follow-up: Can you come up with an algorithm that is less than O(n2) time complexity?"
      ]
    },
    {
      "cell_type": "code",
      "execution_count": 1,
      "id": "e401fb0c",
      "metadata": {},
      "outputs": [],
      "source": [
        "def twoSum(nums, target):\n",
        "    num_to_index = {}  # stores number as key and its index as value\n",
        "    for index, num in enumerate(nums):\n",
        "        complement = target - num\n",
        "        if complement in num_to_index:\n",
        "            return [num_to_index[complement], index]\n",
        "        num_to_index[num] = index\n",
        "    # Since the problem states exactly one solution exists, no need to handle \"not found\" case."
      ]
    },
    {
      "cell_type": "code",
      "execution_count": 2,
      "id": "0d40957c",
      "metadata": {},
      "outputs": [
        {
          "name": "stdout",
          "output_type": "stream",
          "text": [
            "[0, 1]\n"
          ]
        }
      ],
      "source": [
        "nums = [2,7,11,15]\n",
        "target = 9\n",
        "print(twoSum(nums, target))  # Output: [0, 1]"
      ]
    },
    {
      "cell_type": "markdown",
      "id": "c943c7f5",
      "metadata": {},
      "source": [
        "✅ Explanation:\n",
        "\t•\tWe iterate through the list once.\n",
        "\t•\tFor each number, we check if its complement (i.e., target - num) has been seen before.\n",
        "\t•\tIf yes → return the indices.\n",
        "\t•\tIf no → store the current number and its index in the dictionary.\n",
        "\n",
        "This way:\n",
        "\t•\tTime complexity: O(n) (we scan the list once).\n",
        "\t•\tSpace complexity: O(n) (we store up to n elements in the dictionary).\n"
      ]
    }
  ],
  "metadata": {
    "kernelspec": {
      "display_name": "Python 3",
      "language": "python",
      "name": "python3"
    },
    "language_info": {
      "codemirror_mode": {
        "name": "ipython",
        "version": 3
      },
      "file_extension": ".py",
      "mimetype": "text/x-python",
      "name": "python",
      "nbconvert_exporter": "python",
      "pygments_lexer": "ipython3",
      "version": "3.11.9"
    }
  },
  "nbformat": 4,
  "nbformat_minor": 5
}
