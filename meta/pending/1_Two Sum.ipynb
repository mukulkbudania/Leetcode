{
 "cells": [
  {
   "cell_type": "markdown",
   "id": "ccdab76c",
   "metadata": {},
   "source": [
    "# 1. Two Sum"
   ]
  },
  {
   "cell_type": "markdown",
   "id": "35380fa9",
   "metadata": {},
   "source": [
    "Given an array of integers nums and an integer target, return indices of the two numbers such that they add up to target.\n",
    "\n",
    "You may assume that each input would have exactly one solution, and you may not use the same element twice.\n",
    "\n",
    "You can return the answer in any order.\n",
    "\n",
    " \n",
    "\n",
    "**Example 1:**\n",
    "\n",
    "Input: nums = [2,7,11,15], target = 9\n",
    "\n",
    "Output: [0,1]\n",
    "\n",
    "Explanation: Because nums[0] + nums[1] == 9, we return [0, 1].\n",
    "\n",
    "**Example 2:**\n",
    "\n",
    "Input: nums = [3,2,4], target = 6\n",
    "\n",
    "Output: [1,2]\n",
    "\n",
    "**Example 3:**\n",
    "\n",
    "Input: nums = [3,3], target = 6\n",
    "\n",
    "Output: [0,1]\n",
    " \n",
    "\n",
    "**Constraints:**\n",
    "\n",
    "2 <= nums.length <= 104\n",
    "\n",
    "-109 <= nums[i] <= 109\n",
    "\n",
    "-109 <= target <= 109\n",
    "\n",
    "Only one valid answer exists.\n",
    "\n",
    " \n",
    "\n",
    "Follow-up: Can you come up with an algorithm that is less than O(n2) time complexity?"
   ]
  }
 ],
 "metadata": {
  "kernelspec": {
   "display_name": "Python 3",
   "language": "python",
   "name": "python3"
  },
  "language_info": {
   "codemirror_mode": {
    "name": "ipython",
    "version": 3
   },
   "file_extension": ".py",
   "mimetype": "text/x-python",
   "name": "python",
   "nbconvert_exporter": "python",
   "pygments_lexer": "ipython3",
   "version": "3.11.9"
  }
 },
 "nbformat": 4,
 "nbformat_minor": 5
}
