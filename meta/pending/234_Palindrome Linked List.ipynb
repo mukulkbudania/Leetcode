{
  "cells": [
    {
      "cell_type": "markdown",
      "id": "14e059b1",
      "metadata": {},
      "source": [
        "Given the head of a singly linked list, return true if it is a palindrome or false otherwise.\n",
        "\n",
        " \n",
        "\n",
        "Example 1:\n",
        "\n",
        "\n",
        "Input: head = [1,2,2,1]\n",
        "Output: true\n",
        "Example 2:\n",
        "\n",
        "\n",
        "Input: head = [1,2]\n",
        "Output: false\n",
        " \n",
        "\n",
        "Constraints:\n",
        "\n",
        "The number of nodes in the list is in the range [1, 105].\n",
        "0 <= Node.val <= 9\n",
        " \n",
        "\n",
        "Follow up: Could you do it in O(n) time and O(1) space?"
      ]
    }
  ],
  "metadata": {
    "language_info": {
      "name": "python"
    }
  },
  "nbformat": 4,
  "nbformat_minor": 5
}
