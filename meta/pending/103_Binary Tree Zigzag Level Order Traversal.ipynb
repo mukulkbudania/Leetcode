{
  "cells": [
    {
      "cell_type": "markdown",
      "id": "4933cfbb",
      "metadata": {},
      "source": [
        "Given the root of a binary tree, return the zigzag level order traversal of its nodes' values. (i.e., from left to right, then right to left for the next level and alternate between).\n",
        "\n",
        " \n",
        "\n",
        "Example 1:\n",
        "\n",
        "\n",
        "Input: root = [3,9,20,null,null,15,7]\n",
        "Output: [[3],[20,9],[15,7]]\n",
        "Example 2:\n",
        "\n",
        "Input: root = [1]\n",
        "Output: [[1]]\n",
        "Example 3:\n",
        "\n",
        "Input: root = []\n",
        "Output: []\n",
        " \n",
        "\n",
        "Constraints:\n",
        "\n",
        "The number of nodes in the tree is in the range [0, 2000].\n",
        "-100 <= Node.val <= 100"
      ]
    }
  ],
  "metadata": {
    "language_info": {
      "name": "python"
    }
  },
  "nbformat": 4,
  "nbformat_minor": 5
}
