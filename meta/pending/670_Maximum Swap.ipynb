{
 "cells": [
  {
   "cell_type": "markdown",
   "id": "939db177",
   "metadata": {},
   "source": [
    "# 670. Maximum Swap"
   ]
  },
  {
   "cell_type": "markdown",
   "id": "8203019e",
   "metadata": {},
   "source": [
    "You are given an integer num. You can swap two digits at most once to get the maximum valued number.\n",
    "\n",
    "\n",
    "\n",
    "Return the maximum valued number you can get.\n",
    "\n",
    "\n",
    "\n",
    " \n",
    "\n",
    "\n",
    "\n",
    "**Example 1:**\n",
    "\n",
    "\n",
    "\n",
    "Input: num = 2736\n",
    "\n",
    "Output: 7236\n",
    "\n",
    "Explanation: Swap the number 2 and the number 7.\n",
    "\n",
    "**Example 2:**\n",
    "\n",
    "\n",
    "\n",
    "Input: num = 9973\n",
    "\n",
    "Output: 9973\n",
    "\n",
    "Explanation: No swap.\n",
    "\n",
    " \n",
    "\n",
    "\n",
    "\n",
    "**Constraints:**\n",
    "\n",
    "\n",
    "\n",
    "0 <= num <= 108"
   ]
  }
 ],
 "metadata": {
  "language_info": {
   "name": "python"
  }
 },
 "nbformat": 4,
 "nbformat_minor": 5
}
