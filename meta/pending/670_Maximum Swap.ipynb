{
  "cells": [
    {
      "cell_type": "markdown",
      "id": "8203019e",
      "metadata": {},
      "source": [
        "You are given an integer num. You can swap two digits at most once to get the maximum valued number.\n",
        "\n",
        "Return the maximum valued number you can get.\n",
        "\n",
        " \n",
        "\n",
        "Example 1:\n",
        "\n",
        "Input: num = 2736\n",
        "Output: 7236\n",
        "Explanation: Swap the number 2 and the number 7.\n",
        "Example 2:\n",
        "\n",
        "Input: num = 9973\n",
        "Output: 9973\n",
        "Explanation: No swap.\n",
        " \n",
        "\n",
        "Constraints:\n",
        "\n",
        "0 <= num <= 108"
      ]
    }
  ],
  "metadata": {
    "language_info": {
      "name": "python"
    }
  },
  "nbformat": 4,
  "nbformat_minor": 5
}
