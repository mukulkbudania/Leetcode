{
  "cells": [
    {
      "cell_type": "markdown",
      "id": "6ea56cb4",
      "metadata": {},
      "source": [
        "Given a non-negative integer x, return the square root of x rounded down to the nearest integer. The returned integer should be non-negative as well.\n",
        "\n",
        "You must not use any built-in exponent function or operator.\n",
        "\n",
        "For example, do not use pow(x, 0.5) in c++ or x ** 0.5 in python.\n",
        " \n",
        "\n",
        "Example 1:\n",
        "\n",
        "Input: x = 4\n",
        "Output: 2\n",
        "Explanation: The square root of 4 is 2, so we return 2.\n",
        "Example 2:\n",
        "\n",
        "Input: x = 8\n",
        "Output: 2\n",
        "Explanation: The square root of 8 is 2.82842..., and since we round it down to the nearest integer, 2 is returned.\n",
        " \n",
        "\n",
        "Constraints:\n",
        "\n",
        "0 <= x <= 231 - 1"
      ]
    }
  ],
  "metadata": {
    "language_info": {
      "name": "python"
    }
  },
  "nbformat": 4,
  "nbformat_minor": 5
}
