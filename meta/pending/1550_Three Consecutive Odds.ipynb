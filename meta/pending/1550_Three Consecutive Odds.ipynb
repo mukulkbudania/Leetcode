{
 "cells": [
  {
   "cell_type": "markdown",
   "id": "d7564b78",
   "metadata": {},
   "source": [
    "# 1550. Three Consecutive Odds"
   ]
  },
  {
   "cell_type": "markdown",
   "id": "cfb90a30",
   "metadata": {},
   "source": [
    "Given an integer array arr, return true if there are three consecutive odd numbers in the array. Otherwise, return false.\n",
    "\n",
    " \n",
    "\n",
    "\n",
    "\n",
    "**Example 1:**\n",
    "\n",
    "\n",
    "\n",
    "Input: arr = [2,6,4,1]\n",
    "\n",
    "Output: false\n",
    "\n",
    "Explanation: There are no three consecutive odds.\n",
    "\n",
    "**Example 2:**\n",
    "\n",
    "\n",
    "\n",
    "Input: arr = [1,2,34,3,4,5,7,23,12]\n",
    "\n",
    "Output: true\n",
    "\n",
    "Explanation: [5,7,23] are three consecutive odds.\n",
    "\n",
    " \n",
    "\n",
    "\n",
    "\n",
    "**Constraints:**\n",
    "\n",
    "\n",
    "\n",
    "1 <= arr.length <= 1000\n",
    "\n",
    "1 <= arr[i] <= 1000"
   ]
  }
 ],
 "metadata": {
  "language_info": {
   "name": "python"
  }
 },
 "nbformat": 4,
 "nbformat_minor": 5
}
