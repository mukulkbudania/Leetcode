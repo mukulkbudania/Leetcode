{
  "cells": [
    {
      "cell_type": "markdown",
      "id": "cfb90a30",
      "metadata": {},
      "source": [
        "Given an integer array arr, return true if there are three consecutive odd numbers in the array. Otherwise, return false.\n",
        " \n",
        "\n",
        "Example 1:\n",
        "\n",
        "Input: arr = [2,6,4,1]\n",
        "Output: false\n",
        "Explanation: There are no three consecutive odds.\n",
        "Example 2:\n",
        "\n",
        "Input: arr = [1,2,34,3,4,5,7,23,12]\n",
        "Output: true\n",
        "Explanation: [5,7,23] are three consecutive odds.\n",
        " \n",
        "\n",
        "Constraints:\n",
        "\n",
        "1 <= arr.length <= 1000\n",
        "1 <= arr[i] <= 1000"
      ]
    }
  ],
  "metadata": {
    "language_info": {
      "name": "python"
    }
  },
  "nbformat": 4,
  "nbformat_minor": 5
}
