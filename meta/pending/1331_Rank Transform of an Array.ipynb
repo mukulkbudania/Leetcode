{
  "cells": [
    {
      "cell_type": "markdown",
      "id": "5cb1ee4a",
      "metadata": {},
      "source": [
        "Given an array of integers arr, replace each element with its rank.\n",
        "\n",
        "The rank represents how large the element is. The rank has the following rules:\n",
        "\n",
        "Rank is an integer starting from 1.\n",
        "The larger the element, the larger the rank. If two elements are equal, their rank must be the same.\n",
        "Rank should be as small as possible.\n",
        " \n",
        "\n",
        "Example 1:\n",
        "\n",
        "Input: arr = [40,10,20,30]\n",
        "Output: [4,1,2,3]\n",
        "Explanation: 40 is the largest element. 10 is the smallest. 20 is the second smallest. 30 is the third smallest.\n",
        "Example 2:\n",
        "\n",
        "Input: arr = [100,100,100]\n",
        "Output: [1,1,1]\n",
        "Explanation: Same elements share the same rank.\n",
        "Example 3:\n",
        "\n",
        "Input: arr = [37,12,28,9,100,56,80,5,12]\n",
        "Output: [5,3,4,2,8,6,7,1,3]\n",
        " \n",
        "\n",
        "Constraints:\n",
        "\n",
        "0 <= arr.length <= 105\n",
        "-109 <= arr[i] <= 109"
      ]
    }
  ],
  "metadata": {
    "language_info": {
      "name": "python"
    }
  },
  "nbformat": 4,
  "nbformat_minor": 5
}
