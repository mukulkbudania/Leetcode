{
 "cells": [
  {
   "cell_type": "markdown",
   "id": "c8d39152",
   "metadata": {},
   "source": [
    "# 1331. Rank Transform of an Array"
   ]
  },
  {
   "cell_type": "markdown",
   "id": "5cb1ee4a",
   "metadata": {},
   "source": [
    "Given an array of integers arr, replace each element with its rank.\n",
    "\n",
    "\n",
    "\n",
    "The rank represents how large the element is. The rank has the following rules:\n",
    "\n",
    "\n",
    "\n",
    "Rank is an integer starting from 1.\n",
    "\n",
    "The larger the element, the larger the rank. If two elements are equal, their rank must be the same.\n",
    "\n",
    "Rank should be as small as possible.\n",
    "\n",
    " \n",
    "\n",
    "\n",
    "\n",
    "**Example 1:**\n",
    "\n",
    "\n",
    "\n",
    "Input: arr = [40,10,20,30]\n",
    "\n",
    "Output: [4,1,2,3]\n",
    "\n",
    "Explanation: 40 is the largest element. 10 is the smallest. 20 is the second smallest. 30 is the third smallest.\n",
    "\n",
    "**Example 2:**\n",
    "\n",
    "\n",
    "\n",
    "Input: arr = [100,100,100]\n",
    "\n",
    "Output: [1,1,1]\n",
    "\n",
    "Explanation: Same elements share the same rank.\n",
    "\n",
    "**Example 3:**\n",
    "\n",
    "\n",
    "\n",
    "Input: arr = [37,12,28,9,100,56,80,5,12]\n",
    "\n",
    "Output: [5,3,4,2,8,6,7,1,3]\n",
    "\n",
    " \n",
    "\n",
    "\n",
    "\n",
    "**Constraints:**\n",
    "\n",
    "\n",
    "\n",
    "0 <= arr.length <= 105\n",
    "\n",
    "-109 <= arr[i] <= 109"
   ]
  }
 ],
 "metadata": {
  "language_info": {
   "name": "python"
  }
 },
 "nbformat": 4,
 "nbformat_minor": 5
}
