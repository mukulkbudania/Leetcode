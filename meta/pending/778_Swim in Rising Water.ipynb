{
  "cells": [
    {
      "cell_type": "markdown",
      "id": "3a8e33ee",
      "metadata": {},
      "source": [
        "You are given an n x n integer matrix grid where each value grid[i][j] represents the elevation at that point (i, j).\n",
        "\n",
        "It starts raining, and water gradually rises over time. At time t, the water level is t, meaning any cell with elevation less than equal to t is submerged or reachable.\n",
        "\n",
        "You can swim from a square to another 4-directionally adjacent square if and only if the elevation of both squares individually are at most t. You can swim infinite distances in zero time. Of course, you must stay within the boundaries of the grid during your swim.\n",
        "\n",
        "Return the minimum time until you can reach the bottom right square (n - 1, n - 1) if you start at the top left square (0, 0).\n",
        "\n",
        " \n",
        "\n",
        "Example 1:\n",
        "\n",
        "\n",
        "Input: grid = [[0,2],[1,3]]\n",
        "Output: 3\n",
        "Explanation:\n",
        "At time 0, you are in grid location (0, 0).\n",
        "You cannot go anywhere else because 4-directionally adjacent neighbors have a higher elevation than t = 0.\n",
        "You cannot reach point (1, 1) until time 3.\n",
        "When the depth of water is 3, we can swim anywhere inside the grid.\n",
        "Example 2:\n",
        "\n",
        "\n",
        "Input: grid = [[0,1,2,3,4],[24,23,22,21,5],[12,13,14,15,16],[11,17,18,19,20],[10,9,8,7,6]]\n",
        "Output: 16\n",
        "Explanation: The final route is shown.\n",
        "We need to wait until time 16 so that (0, 0) and (4, 4) are connected.\n",
        " \n",
        "\n",
        "Constraints:\n",
        "\n",
        "n == grid.length\n",
        "n == grid[i].length\n",
        "1 <= n <= 50\n",
        "0 <= grid[i][j] < n2\n",
        "Each value grid[i][j] is unique."
      ]
    }
  ],
  "metadata": {
    "language_info": {
      "name": "python"
    }
  },
  "nbformat": 4,
  "nbformat_minor": 5
}
