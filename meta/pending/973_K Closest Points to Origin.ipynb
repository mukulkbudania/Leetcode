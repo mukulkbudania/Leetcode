{
 "cells": [
  {
   "cell_type": "markdown",
   "id": "a7a7c189",
   "metadata": {},
   "source": [
    "# 973. K Closest Points to Origin"
   ]
  },
  {
   "cell_type": "markdown",
   "id": "1862a2c1",
   "metadata": {},
   "source": [
    "Given an array of points where points[i] = [xi, yi] represents a point on the X-Y plane and an integer k, return the k closest points to the origin (0, 0).\n",
    "\n",
    "\n",
    "\n",
    "The distance between two points on the X-Y plane is the Euclidean distance (i.e., √(x1 - x2)2 + (y1 - y2)2).\n",
    "\n",
    "\n",
    "\n",
    "You may return the answer in any order. The answer is guaranteed to be unique (except for the order that it is in).\n",
    "\n",
    "\n",
    "\n",
    " \n",
    "\n",
    "\n",
    "\n",
    "**Example 1:**\n",
    "\n",
    "\n",
    "\n",
    "\n",
    "\n",
    "Input: points = [[1,3],[-2,2]], k = 1\n",
    "\n",
    "Output: [[-2,2]]\n",
    "\n",
    "Explanation:\n",
    "\n",
    "The distance between (1, 3) and the origin is sqrt(10).\n",
    "\n",
    "The distance between (-2, 2) and the origin is sqrt(8).\n",
    "\n",
    "Since sqrt(8) < sqrt(10), (-2, 2) is closer to the origin.\n",
    "\n",
    "We only want the closest k = 1 points from the origin, so the answer is just [[-2,2]].\n",
    "\n",
    "**Example 2:**\n",
    "\n",
    "\n",
    "\n",
    "Input: points = [[3,3],[5,-1],[-2,4]], k = 2\n",
    "\n",
    "Output: [[3,3],[-2,4]]\n",
    "\n",
    "Explanation: The answer [[-2,4],[3,3]] would also be accepted.\n",
    "\n",
    " \n",
    "\n",
    "\n",
    "\n",
    "**Constraints:**\n",
    "\n",
    "\n",
    "\n",
    "1 <= k <= points.length <= 104\n",
    "\n",
    "-104 <= xi, yi <= 104\n",
    "\n"
   ]
  }
 ],
 "metadata": {
  "language_info": {
   "name": "python"
  }
 },
 "nbformat": 4,
 "nbformat_minor": 5
}
