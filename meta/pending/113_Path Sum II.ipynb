{
  "cells": [
    {
      "cell_type": "markdown",
      "id": "335003f7",
      "metadata": {},
      "source": [
        "Given the root of a binary tree and an integer targetSum, return all root-to-leaf paths where the sum of the node values in the path equals targetSum. Each path should be returned as a list of the node values, not node references.\n",
        "\n",
        "A root-to-leaf path is a path starting from the root and ending at any leaf node. A leaf is a node with no children.\n",
        "\n",
        " \n",
        "\n",
        "Example 1:\n",
        "\n",
        "\n",
        "Input: root = [5,4,8,11,null,13,4,7,2,null,null,5,1], targetSum = 22\n",
        "Output: [[5,4,11,2],[5,8,4,5]]\n",
        "Explanation: There are two paths whose sum equals targetSum:\n",
        "5 + 4 + 11 + 2 = 22\n",
        "5 + 8 + 4 + 5 = 22\n",
        "Example 2:\n",
        "\n",
        "\n",
        "Input: root = [1,2,3], targetSum = 5\n",
        "Output: []\n",
        "Example 3:\n",
        "\n",
        "Input: root = [1,2], targetSum = 0\n",
        "Output: []\n",
        " \n",
        "\n",
        "Constraints:\n",
        "\n",
        "The number of nodes in the tree is in the range [0, 5000].\n",
        "-1000 <= Node.val <= 1000\n",
        "-1000 <= targetSum <= 1000"
      ]
    }
  ],
  "metadata": {
    "language_info": {
      "name": "python"
    }
  },
  "nbformat": 4,
  "nbformat_minor": 5
}
