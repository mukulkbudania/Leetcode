{
  "cells": [
    {
      "cell_type": "markdown",
      "id": "83e7280b",
      "metadata": {},
      "source": [
        "Given an integer array nums, return the number of reverse pairs in the array.\n",
        "\n",
        "A reverse pair is a pair (i, j) where:\n",
        "\n",
        "0 <= i < j < nums.length and\n",
        "nums[i] > 2 * nums[j].\n",
        " \n",
        "\n",
        "Example 1:\n",
        "\n",
        "Input: nums = [1,3,2,3,1]\n",
        "Output: 2\n",
        "Explanation: The reverse pairs are:\n",
        "(1, 4) --> nums[1] = 3, nums[4] = 1, 3 > 2 * 1\n",
        "(3, 4) --> nums[3] = 3, nums[4] = 1, 3 > 2 * 1\n",
        "Example 2:\n",
        "\n",
        "Input: nums = [2,4,3,5,1]\n",
        "Output: 3\n",
        "Explanation: The reverse pairs are:\n",
        "(1, 4) --> nums[1] = 4, nums[4] = 1, 4 > 2 * 1\n",
        "(2, 4) --> nums[2] = 3, nums[4] = 1, 3 > 2 * 1\n",
        "(3, 4) --> nums[3] = 5, nums[4] = 1, 5 > 2 * 1\n",
        " \n",
        "\n",
        "Constraints:\n",
        "\n",
        "1 <= nums.length <= 5 * 104\n",
        "-231 <= nums[i] <= 231 - 1\n"
      ]
    }
  ],
  "metadata": {
    "language_info": {
      "name": "python"
    }
  },
  "nbformat": 4,
  "nbformat_minor": 5
}
