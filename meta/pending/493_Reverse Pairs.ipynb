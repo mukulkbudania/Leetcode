{
 "cells": [
  {
   "cell_type": "markdown",
   "id": "b29bcf10",
   "metadata": {},
   "source": [
    "# 493. Reverse Pairs"
   ]
  },
  {
   "cell_type": "markdown",
   "id": "83e7280b",
   "metadata": {},
   "source": [
    "Given an integer array nums, return the number of reverse pairs in the array.\n",
    "\n",
    "\n",
    "\n",
    "A reverse pair is a pair (i, j) where:\n",
    "\n",
    "\n",
    "\n",
    "0 <= i < j < nums.length and\n",
    "\n",
    "nums[i] > 2 * nums[j].\n",
    "\n",
    " \n",
    "\n",
    "\n",
    "\n",
    "**Example 1:**\n",
    "\n",
    "\n",
    "\n",
    "Input: nums = [1,3,2,3,1]\n",
    "\n",
    "Output: 2\n",
    "\n",
    "Explanation: The reverse pairs are:\n",
    "\n",
    "(1, 4) --> nums[1] = 3, nums[4] = 1, 3 > 2 * 1\n",
    "\n",
    "(3, 4) --> nums[3] = 3, nums[4] = 1, 3 > 2 * 1\n",
    "\n",
    "**Example 2:**\n",
    "\n",
    "\n",
    "\n",
    "Input: nums = [2,4,3,5,1]\n",
    "\n",
    "Output: 3\n",
    "\n",
    "Explanation: The reverse pairs are:\n",
    "\n",
    "(1, 4) --> nums[1] = 4, nums[4] = 1, 4 > 2 * 1\n",
    "\n",
    "(2, 4) --> nums[2] = 3, nums[4] = 1, 3 > 2 * 1\n",
    "\n",
    "(3, 4) --> nums[3] = 5, nums[4] = 1, 5 > 2 * 1\n",
    "\n",
    " \n",
    "\n",
    "\n",
    "\n",
    "**Constraints:**\n",
    "\n",
    "\n",
    "\n",
    "1 <= nums.length <= 5 * 104\n",
    "\n",
    "-231 <= nums[i] <= 231 - 1\n",
    "\n"
   ]
  }
 ],
 "metadata": {
  "language_info": {
   "name": "python"
  }
 },
 "nbformat": 4,
 "nbformat_minor": 5
}
