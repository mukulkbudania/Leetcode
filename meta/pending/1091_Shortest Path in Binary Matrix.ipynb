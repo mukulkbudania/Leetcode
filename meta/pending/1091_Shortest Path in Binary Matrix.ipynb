{
  "cells": [
    {
      "cell_type": "markdown",
      "id": "f3b3055c",
      "metadata": {},
      "source": [
        "Given an n x n binary matrix grid, return the length of the shortest clear path in the matrix. If there is no clear path, return -1.\n",
        "\n",
        "A clear path in a binary matrix is a path from the top-left cell (i.e., (0, 0)) to the bottom-right cell (i.e., (n - 1, n - 1)) such that:\n",
        "\n",
        "All the visited cells of the path are 0.\n",
        "All the adjacent cells of the path are 8-directionally connected (i.e., they are different and they share an edge or a corner).\n",
        "The length of a clear path is the number of visited cells of this path.\n",
        "\n",
        " \n",
        "\n",
        "Example 1:\n",
        "\n",
        "\n",
        "Input: grid = [[0,1],[1,0]]\n",
        "Output: 2\n",
        "Example 2:\n",
        "\n",
        "\n",
        "Input: grid = [[0,0,0],[1,1,0],[1,1,0]]\n",
        "Output: 4\n",
        "Example 3:\n",
        "\n",
        "Input: grid = [[1,0,0],[1,1,0],[1,1,0]]\n",
        "Output: -1\n",
        " \n",
        "\n",
        "Constraints:\n",
        "\n",
        "n == grid.length\n",
        "n == grid[i].length\n",
        "1 <= n <= 100\n",
        "grid[i][j] is 0 or 1"
      ]
    }
  ],
  "metadata": {
    "language_info": {
      "name": "python"
    }
  },
  "nbformat": 4,
  "nbformat_minor": 5
}
