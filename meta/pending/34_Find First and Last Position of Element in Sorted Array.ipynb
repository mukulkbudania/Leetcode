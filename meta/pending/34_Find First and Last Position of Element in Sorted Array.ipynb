{
 "cells": [
  {
   "cell_type": "markdown",
   "id": "cf1c68b8",
   "metadata": {},
   "source": [
    "# 34. Find First and Last Position of Element in Sorted Array"
   ]
  },
  {
   "cell_type": "markdown",
   "id": "7d0da9be",
   "metadata": {},
   "source": [
    "Given an array of integers nums sorted in non-decreasing order, find the starting and ending position of a given target value.\n",
    "\n",
    "\n",
    "\n",
    "If target is not found in the array, return [-1, -1].\n",
    "\n",
    "\n",
    "\n",
    "You must write an algorithm with O(log n) runtime complexity.\n",
    "\n",
    "\n",
    "\n",
    " \n",
    "\n",
    "\n",
    "\n",
    "**Example 1:**\n",
    "\n",
    "\n",
    "\n",
    "Input: nums = [5,7,7,8,8,10], target = 8\n",
    "\n",
    "Output: [3,4]\n",
    "\n",
    "**Example 2:**\n",
    "\n",
    "\n",
    "\n",
    "Input: nums = [5,7,7,8,8,10], target = 6\n",
    "\n",
    "Output: [-1,-1]\n",
    "\n",
    "**Example 3:**\n",
    "\n",
    "\n",
    "\n",
    "Input: nums = [], target = 0\n",
    "\n",
    "Output: [-1,-1]\n",
    "\n",
    " \n",
    "\n",
    "\n",
    "\n",
    "**Constraints:**\n",
    "\n",
    "\n",
    "\n",
    "0 <= nums.length <= 105\n",
    "\n",
    "-109 <= nums[i] <= 109\n",
    "\n",
    "nums is a non-decreasing array.\n",
    "\n",
    "-109 <= target <= 109"
   ]
  }
 ],
 "metadata": {
  "language_info": {
   "name": "python"
  }
 },
 "nbformat": 4,
 "nbformat_minor": 5
}
