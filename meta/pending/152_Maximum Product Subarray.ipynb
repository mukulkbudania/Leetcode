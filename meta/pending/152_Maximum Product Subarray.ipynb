{
  "cells": [
    {
      "cell_type": "markdown",
      "id": "db7f3364",
      "metadata": {},
      "source": [
        "Given an integer array nums, find a subarray that has the largest product, and return the product.\n",
        "\n",
        "The test cases are generated so that the answer will fit in a 32-bit integer.\n",
        "\n",
        " \n",
        "\n",
        "Example 1:\n",
        "\n",
        "Input: nums = [2,3,-2,4]\n",
        "Output: 6\n",
        "Explanation: [2,3] has the largest product 6.\n",
        "Example 2:\n",
        "\n",
        "Input: nums = [-2,0,-1]\n",
        "Output: 0\n",
        "Explanation: The result cannot be 2, because [-2,-1] is not a subarray.\n",
        " \n",
        "\n",
        "Constraints:\n",
        "\n",
        "1 <= nums.length <= 2 * 104\n",
        "-10 <= nums[i] <= 10\n",
        "The product of any subarray of nums is guaranteed to fit in a 32-bit integer."
      ]
    }
  ],
  "metadata": {
    "language_info": {
      "name": "python"
    }
  },
  "nbformat": 4,
  "nbformat_minor": 5
}
