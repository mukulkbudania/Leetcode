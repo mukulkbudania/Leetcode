{
 "cells": [
  {
   "cell_type": "markdown",
   "id": "d7b729a1",
   "metadata": {},
   "source": [
    "# 152. Maximum Product Subarray"
   ]
  },
  {
   "cell_type": "markdown",
   "id": "db7f3364",
   "metadata": {},
   "source": [
    "Given an integer array nums, find a subarray that has the largest product, and return the product.\n",
    "\n",
    "\n",
    "\n",
    "The test cases are generated so that the answer will fit in a 32-bit integer.\n",
    "\n",
    "\n",
    "\n",
    " \n",
    "\n",
    "\n",
    "\n",
    "**Example 1:**\n",
    "\n",
    "\n",
    "\n",
    "Input: nums = [2,3,-2,4]\n",
    "\n",
    "Output: 6\n",
    "\n",
    "Explanation: [2,3] has the largest product 6.\n",
    "\n",
    "**Example 2:**\n",
    "\n",
    "\n",
    "\n",
    "Input: nums = [-2,0,-1]\n",
    "\n",
    "Output: 0\n",
    "\n",
    "Explanation: The result cannot be 2, because [-2,-1] is not a subarray.\n",
    "\n",
    " \n",
    "\n",
    "\n",
    "\n",
    "**Constraints:**\n",
    "\n",
    "\n",
    "\n",
    "1 <= nums.length <= 2 * 104\n",
    "\n",
    "-10 <= nums[i] <= 10\n",
    "\n",
    "The product of any subarray of nums is guaranteed to fit in a 32-bit integer."
   ]
  }
 ],
 "metadata": {
  "language_info": {
   "name": "python"
  }
 },
 "nbformat": 4,
 "nbformat_minor": 5
}
