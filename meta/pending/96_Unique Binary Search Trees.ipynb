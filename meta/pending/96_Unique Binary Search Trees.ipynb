{
  "cells": [
    {
      "cell_type": "markdown",
      "id": "ac38316b",
      "metadata": {},
      "source": [
        "Given an integer n, return the number of structurally unique BST's (binary search trees) which has exactly n nodes of unique values from 1 to n.\n",
        "\n",
        " \n",
        "\n",
        "Example 1:\n",
        "\n",
        "\n",
        "Input: n = 3\n",
        "Output: 5\n",
        "Example 2:\n",
        "\n",
        "Input: n = 1\n",
        "Output: 1\n",
        " \n",
        "\n",
        "Constraints:\n",
        "\n",
        "1 <= n <= 19"
      ]
    }
  ],
  "metadata": {
    "language_info": {
      "name": "python"
    }
  },
  "nbformat": 4,
  "nbformat_minor": 5
}
