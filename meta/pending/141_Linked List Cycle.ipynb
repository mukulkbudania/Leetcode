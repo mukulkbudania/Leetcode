{
  "cells": [
    {
      "cell_type": "markdown",
      "id": "f8f7f56b",
      "metadata": {},
      "source": [
        "Given head, the head of a linked list, determine if the linked list has a cycle in it.\n",
        "\n",
        "There is a cycle in a linked list if there is some node in the list that can be reached again by continuously following the next pointer. Internally, pos is used to denote the index of the node that tail's next pointer is connected to. Note that pos is not passed as a parameter.\n",
        "\n",
        "Return true if there is a cycle in the linked list. Otherwise, return false.\n",
        "\n",
        " \n",
        "\n",
        "Example 1:\n",
        "\n",
        "\n",
        "Input: head = [3,2,0,-4], pos = 1\n",
        "Output: true\n",
        "Explanation: There is a cycle in the linked list, where the tail connects to the 1st node (0-indexed).\n",
        "Example 2:\n",
        "\n",
        "\n",
        "Input: head = [1,2], pos = 0\n",
        "Output: true\n",
        "Explanation: There is a cycle in the linked list, where the tail connects to the 0th node.\n",
        "Example 3:\n",
        "\n",
        "\n",
        "Input: head = [1], pos = -1\n",
        "Output: false\n",
        "Explanation: There is no cycle in the linked list.\n",
        " \n",
        "\n",
        "Constraints:\n",
        "\n",
        "The number of the nodes in the list is in the range [0, 104].\n",
        "-105 <= Node.val <= 105\n",
        "pos is -1 or a valid index in the linked-list.\n",
        " \n",
        "\n",
        "Follow up: Can you solve it using O(1) (i.e. constant) memory?\n",
        "\n"
      ]
    }
  ],
  "metadata": {
    "language_info": {
      "name": "python"
    }
  },
  "nbformat": 4,
  "nbformat_minor": 5
}
