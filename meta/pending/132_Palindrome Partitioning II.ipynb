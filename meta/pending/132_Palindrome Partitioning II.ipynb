{
  "cells": [
    {
      "cell_type": "markdown",
      "id": "8158e233",
      "metadata": {},
      "source": [
        "Given a string s, partition s such that every substring of the partition is a palindrome.\n",
        "\n",
        "Return the minimum cuts needed for a palindrome partitioning of s.\n",
        "\n",
        " \n",
        "\n",
        "Example 1:\n",
        "\n",
        "Input: s = \"aab\"\n",
        "Output: 1\n",
        "Explanation: The palindrome partitioning [\"aa\",\"b\"] could be produced using 1 cut.\n",
        "Example 2:\n",
        "\n",
        "Input: s = \"a\"\n",
        "Output: 0\n",
        "Example 3:\n",
        "\n",
        "Input: s = \"ab\"\n",
        "Output: 1\n",
        " \n",
        "\n",
        "Constraints:\n",
        "\n",
        "1 <= s.length <= 2000\n",
        "s consists of lowercase English letters only."
      ]
    }
  ],
  "metadata": {
    "language_info": {
      "name": "python"
    }
  },
  "nbformat": 4,
  "nbformat_minor": 5
}
