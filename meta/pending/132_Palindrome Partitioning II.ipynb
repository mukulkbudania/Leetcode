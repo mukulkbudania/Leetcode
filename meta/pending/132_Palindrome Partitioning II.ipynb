{
 "cells": [
  {
   "cell_type": "markdown",
   "id": "89f2ed2d",
   "metadata": {},
   "source": [
    "# 132. Palindrome Partitioning II"
   ]
  },
  {
   "cell_type": "markdown",
   "id": "8158e233",
   "metadata": {},
   "source": [
    "Given a string s, partition s such that every substring of the partition is a palindrome.\n",
    "\n",
    "\n",
    "\n",
    "Return the minimum cuts needed for a palindrome partitioning of s.\n",
    "\n",
    "\n",
    "\n",
    " \n",
    "\n",
    "\n",
    "\n",
    "**Example 1:**\n",
    "\n",
    "\n",
    "\n",
    "Input: s = \"aab\"\n",
    "\n",
    "Output: 1\n",
    "\n",
    "Explanation: The palindrome partitioning [\"aa\",\"b\"] could be produced using 1 cut.\n",
    "\n",
    "**Example 2:**\n",
    "\n",
    "\n",
    "\n",
    "Input: s = \"a\"\n",
    "\n",
    "Output: 0\n",
    "\n",
    "**Example 3:**\n",
    "\n",
    "\n",
    "\n",
    "Input: s = \"ab\"\n",
    "\n",
    "Output: 1\n",
    "\n",
    " \n",
    "\n",
    "\n",
    "\n",
    "**Constraints:**\n",
    "\n",
    "\n",
    "\n",
    "1 <= s.length <= 2000\n",
    "\n",
    "s consists of lowercase English letters only."
   ]
  }
 ],
 "metadata": {
  "language_info": {
   "name": "python"
  }
 },
 "nbformat": 4,
 "nbformat_minor": 5
}
