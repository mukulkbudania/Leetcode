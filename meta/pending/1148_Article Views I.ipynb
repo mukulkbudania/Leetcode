{
  "cells": [
    {
      "cell_type": "markdown",
      "id": "fa3a5c33",
      "metadata": {},
      "source": [
        "SQL Schema\n",
        "Pandas Schema\n",
        "Table: Views\n",
        "\n",
        "+---------------+---------+\n",
        "| Column Name   | Type    |\n",
        "+---------------+---------+\n",
        "| article_id    | int     |\n",
        "| author_id     | int     |\n",
        "| viewer_id     | int     |\n",
        "| view_date     | date    |\n",
        "+---------------+---------+\n",
        "There is no primary key (column with unique values) for this table, the table may have duplicate rows.\n",
        "Each row of this table indicates that some viewer viewed an article (written by some author) on some date. \n",
        "Note that equal author_id and viewer_id indicate the same person.\n",
        " \n",
        "\n",
        "Write a solution to find all the authors that viewed at least one of their own articles.\n",
        "\n",
        "Return the result table sorted by id in ascending order.\n",
        "\n",
        "The result format is in the following example.\n",
        "\n",
        " \n",
        "\n",
        "Example 1:\n",
        "\n",
        "Input: \n",
        "Views table:\n",
        "+------------+-----------+-----------+------------+\n",
        "| article_id | author_id | viewer_id | view_date  |\n",
        "+------------+-----------+-----------+------------+\n",
        "| 1          | 3         | 5         | 2019-08-01 |\n",
        "| 1          | 3         | 6         | 2019-08-02 |\n",
        "| 2          | 7         | 7         | 2019-08-01 |\n",
        "| 2          | 7         | 6         | 2019-08-02 |\n",
        "| 4          | 7         | 1         | 2019-07-22 |\n",
        "| 3          | 4         | 4         | 2019-07-21 |\n",
        "| 3          | 4         | 4         | 2019-07-21 |\n",
        "+------------+-----------+-----------+------------+\n",
        "Output: \n",
        "+------+\n",
        "| id   |\n",
        "+------+\n",
        "| 4    |\n",
        "| 7    |\n",
        "+------+"
      ]
    }
  ],
  "metadata": {
    "language_info": {
      "name": "python"
    }
  },
  "nbformat": 4,
  "nbformat_minor": 5
}
