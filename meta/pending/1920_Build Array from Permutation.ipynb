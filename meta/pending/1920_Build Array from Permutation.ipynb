{
  "cells": [
    {
      "cell_type": "markdown",
      "id": "8082e6c5",
      "metadata": {},
      "source": [
        "Given a zero-based permutation nums (0-indexed), build an array ans of the same length where ans[i] = nums[nums[i]] for each 0 <= i < nums.length and return it.\n",
        "\n",
        "A zero-based permutation nums is an array of distinct integers from 0 to nums.length - 1 (inclusive).\n",
        "\n",
        " \n",
        "\n",
        "Example 1:\n",
        "\n",
        "Input: nums = [0,2,1,5,3,4]\n",
        "Output: [0,1,2,4,5,3]\n",
        "Explanation: The array ans is built as follows: \n",
        "ans = [nums[nums[0]], nums[nums[1]], nums[nums[2]], nums[nums[3]], nums[nums[4]], nums[nums[5]]]\n",
        "    = [nums[0], nums[2], nums[1], nums[5], nums[3], nums[4]]\n",
        "    = [0,1,2,4,5,3]\n",
        "Example 2:\n",
        "\n",
        "Input: nums = [5,0,1,2,3,4]\n",
        "Output: [4,5,0,1,2,3]\n",
        "Explanation: The array ans is built as follows:\n",
        "ans = [nums[nums[0]], nums[nums[1]], nums[nums[2]], nums[nums[3]], nums[nums[4]], nums[nums[5]]]\n",
        "    = [nums[5], nums[0], nums[1], nums[2], nums[3], nums[4]]\n",
        "    = [4,5,0,1,2,3]\n",
        " \n",
        "\n",
        "Constraints:\n",
        "\n",
        "1 <= nums.length <= 1000\n",
        "0 <= nums[i] < nums.length\n",
        "The elements in nums are distinct.\n",
        " \n",
        "\n",
        "Follow-up: Can you solve it without using an extra space (i.e., O(1) memory)?"
      ]
    }
  ],
  "metadata": {
    "language_info": {
      "name": "python"
    }
  },
  "nbformat": 4,
  "nbformat_minor": 5
}
