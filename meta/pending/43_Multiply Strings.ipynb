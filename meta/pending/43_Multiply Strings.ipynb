{
  "cells": [
    {
      "cell_type": "markdown",
      "id": "f18aeab7",
      "metadata": {},
      "source": [
        "Given two non-negative integers num1 and num2 represented as strings, return the product of num1 and num2, also represented as a string.\n",
        "\n",
        "Note: You must not use any built-in BigInteger library or convert the inputs to integer directly.\n",
        "\n",
        " \n",
        "\n",
        "Example 1:\n",
        "\n",
        "Input: num1 = \"2\", num2 = \"3\"\n",
        "Output: \"6\"\n",
        "Example 2:\n",
        "\n",
        "Input: num1 = \"123\", num2 = \"456\"\n",
        "Output: \"56088\"\n",
        " \n",
        "\n",
        "Constraints:\n",
        "\n",
        "1 <= num1.length, num2.length <= 200\n",
        "num1 and num2 consist of digits only.\n",
        "Both num1 and num2 do not contain any leading zero, except the number 0 itself."
      ]
    }
  ],
  "metadata": {
    "language_info": {
      "name": "python"
    }
  },
  "nbformat": 4,
  "nbformat_minor": 5
}
