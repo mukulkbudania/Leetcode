{
  "cells": [
    {
      "cell_type": "markdown",
      "id": "b7f4fd65",
      "metadata": {},
      "source": [
        "Reverse bits of a given 32 bits unsigned integer.\n",
        "\n",
        "Note:\n",
        "\n",
        "Note that in some languages, such as Java, there is no unsigned integer type. In this case, both input and output will be given as a signed integer type. They should not affect your implementation, as the integer's internal binary representation is the same, whether it is signed or unsigned.\n",
        "In Java, the compiler represents the signed integers using 2's complement notation. Therefore, in Example 2 below, the input represents the signed integer -3 and the output represents the signed integer -1073741825.\n",
        " \n",
        "\n",
        "Example 1:\n",
        "\n",
        "Input: n = 43261596\n",
        "\n",
        "Output: 964176192\n",
        "\n",
        "Explanation:\n",
        "\n",
        "Integer\tBinary\n",
        "43261596\t00000010100101000001111010011100\n",
        "964176192\t00111001011110000010100101000000\n",
        "Example 2:\n",
        "\n",
        "Input: n = 2147483644\n",
        "\n",
        "Output: 1073741822\n",
        "\n",
        "Explanation:\n",
        "\n",
        "Integer\tBinary\n",
        "2147483644\t01111111111111111111111111111100\n",
        "1073741822\t00111111111111111111111111111110\n",
        " \n",
        "\n",
        "Constraints:\n",
        "\n",
        "0 <= n <= 231 - 2\n",
        "n is even.\n",
        " \n",
        "\n",
        "Follow up: If this function is called many times, how would yo"
      ]
    }
  ],
  "metadata": {
    "language_info": {
      "name": "python"
    }
  },
  "nbformat": 4,
  "nbformat_minor": 5
}
