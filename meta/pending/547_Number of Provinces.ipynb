{
 "cells": [
  {
   "cell_type": "markdown",
   "id": "55095ab5",
   "metadata": {},
   "source": [
    "# 547. Number of Provinces"
   ]
  },
  {
   "cell_type": "markdown",
   "id": "05bfbd04",
   "metadata": {},
   "source": [
    "There are n cities. Some of them are connected, while some are not. If city a is connected directly with city b, and city b is connected directly with city c, then city a is connected indirectly with city c.\n",
    "\n",
    "\n",
    "\n",
    "A province is a group of directly or indirectly connected cities and no other cities outside of the group.\n",
    "\n",
    "\n",
    "\n",
    "You are given an n x n matrix isConnected where isConnected[i][j] = 1 if the ith city and the jth city are directly connected, and isConnected[i][j] = 0 otherwise.\n",
    "\n",
    "\n",
    "\n",
    "Return the total number of provinces.\n",
    "\n",
    "\n",
    "\n",
    " \n",
    "\n",
    "\n",
    "\n",
    "**Example 1:**\n",
    "\n",
    "\n",
    "\n",
    "\n",
    "\n",
    "Input: isConnected = [[1,1,0],[1,1,0],[0,0,1]]\n",
    "\n",
    "Output: 2\n",
    "\n",
    "**Example 2:**\n",
    "\n",
    "\n",
    "\n",
    "\n",
    "\n",
    "Input: isConnected = [[1,0,0],[0,1,0],[0,0,1]]\n",
    "\n",
    "Output: 3\n",
    "\n",
    " \n",
    "\n",
    "\n",
    "\n",
    "**Constraints:**\n",
    "\n",
    "\n",
    "\n",
    "1 <= n <= 200\n",
    "\n",
    "n == isConnected.length\n",
    "\n",
    "n == isConnected[i].length\n",
    "\n",
    "isConnected[i][j] is 1 or 0.\n",
    "\n",
    "isConnected[i][i] == 1\n",
    "\n",
    "isConnected[i][j] == isConnected[j][i]"
   ]
  }
 ],
 "metadata": {
  "language_info": {
   "name": "python"
  }
 },
 "nbformat": 4,
 "nbformat_minor": 5
}
