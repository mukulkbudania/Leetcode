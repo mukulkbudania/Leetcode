{
  "cells": [
    {
      "cell_type": "markdown",
      "id": "c36da378",
      "metadata": {},
      "source": [
        "You are given an integer array nums and an integer k. You want to find a subsequence of nums of length k that has the largest sum.\n",
        "\n",
        "Return any such subsequence as an integer array of length k.\n",
        "\n",
        "A subsequence is an array that can be derived from another array by deleting some or no elements without changing the order of the remaining elements.\n",
        "\n",
        " \n",
        "\n",
        "Example 1:\n",
        "\n",
        "Input: nums = [2,1,3,3], k = 2\n",
        "Output: [3,3]\n",
        "Explanation:\n",
        "The subsequence has the largest sum of 3 + 3 = 6.\n",
        "Example 2:\n",
        "\n",
        "Input: nums = [-1,-2,3,4], k = 3\n",
        "Output: [-1,3,4]\n",
        "Explanation: \n",
        "The subsequence has the largest sum of -1 + 3 + 4 = 6.\n",
        "Example 3:\n",
        "\n",
        "Input: nums = [3,4,3,3], k = 2\n",
        "Output: [3,4]\n",
        "Explanation:\n",
        "The subsequence has the largest sum of 3 + 4 = 7. \n",
        "Another possible subsequence is [4, 3].\n",
        " \n",
        "\n",
        "Constraints:\n",
        "\n",
        "1 <= nums.length <= 1000\n",
        "-105 <= nums[i] <= 105\n",
        "1 <= k <= nums.length"
      ]
    }
  ],
  "metadata": {
    "language_info": {
      "name": "python"
    }
  },
  "nbformat": 4,
  "nbformat_minor": 5
}
