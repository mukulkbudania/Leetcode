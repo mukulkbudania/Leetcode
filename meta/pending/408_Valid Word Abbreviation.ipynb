{
  "cells": [
    {
      "cell_type": "markdown",
      "id": "b22924ed",
      "metadata": {},
      "source": [
        "A string can be abbreviated by replacing any number of non-adjacent, non-empty substrings with their lengths. The lengths should not have leading zeros.\n",
        "\n",
        "For example, a string such as \"substitution\" could be abbreviated as (but not limited to):\n",
        "\n",
        "\"s10n\" (\"s ubstitutio n\")\n",
        "\"sub4u4\" (\"sub stit u tion\")\n",
        "\"12\" (\"substitution\")\n",
        "\"su3i1u2on\" (\"su bst i t u ti on\")\n",
        "\"substitution\" (no substrings replaced)\n",
        "The following are not valid abbreviations:\n",
        "\n",
        "\"s55n\" (\"s ubsti tutio n\", the replaced substrings are adjacent)\n",
        "\"s010n\" (has leading zeros)\n",
        "\"s0ubstitution\" (replaces an empty substring)\n",
        "Given a string word and an abbreviation abbr, return whether the string matches the given abbreviation.\n",
        "\n",
        "A substring is a contiguous non-empty sequence of characters within a string.\n",
        "\n",
        " \n",
        "\n",
        "Example 1:\n",
        "\n",
        "Input: word = \"internationalization\", abbr = \"i12iz4n\"\n",
        "Output: true\n",
        "Explanation: The word \"internationalization\" can be abbreviated as \"i12iz4n\" (\"i nternational iz atio n\").\n",
        "Example 2:\n",
        "\n",
        "Input: word = \"apple\", abbr = \"a2e\"\n",
        "Output: false\n",
        "Explanation: The word \"apple\" cannot be abbreviated as \"a2e\".\n",
        " \n",
        "\n",
        "Constraints:\n",
        "\n",
        "1 <= word.length <= 20\n",
        "word consists of only lowercase English letters.\n",
        "1 <= abbr.length <= 10\n",
        "abbr consists of lowercase English letters and digits.\n",
        "All the integers in abbr will fit in a 32-bit integer."
      ]
    }
  ],
  "metadata": {
    "language_info": {
      "name": "python"
    }
  },
  "nbformat": 4,
  "nbformat_minor": 5
}
