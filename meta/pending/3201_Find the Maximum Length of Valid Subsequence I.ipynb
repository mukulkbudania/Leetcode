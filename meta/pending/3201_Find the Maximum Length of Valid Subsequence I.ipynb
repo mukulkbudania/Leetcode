{
  "cells": [
    {
      "cell_type": "markdown",
      "id": "de2f0a64",
      "metadata": {},
      "source": [
        "You are given an integer array nums.\n",
        "A subsequence sub of nums with length x is called valid if it satisfies:\n",
        "\n",
        "(sub[0] + sub[1]) % 2 == (sub[1] + sub[2]) % 2 == ... == (sub[x - 2] + sub[x - 1]) % 2.\n",
        "Return the length of the longest valid subsequence of nums.\n",
        "\n",
        "A subsequence is an array that can be derived from another array by deleting some or no elements without changing the order of the remaining elements.\n",
        "\n",
        " \n",
        "\n",
        "Example 1:\n",
        "\n",
        "Input: nums = [1,2,3,4]\n",
        "\n",
        "Output: 4\n",
        "\n",
        "Explanation:\n",
        "\n",
        "The longest valid subsequence is [1, 2, 3, 4].\n",
        "\n",
        "Example 2:\n",
        "\n",
        "Input: nums = [1,2,1,1,2,1,2]\n",
        "\n",
        "Output: 6\n",
        "\n",
        "Explanation:\n",
        "\n",
        "The longest valid subsequence is [1, 2, 1, 2, 1, 2].\n",
        "\n",
        "Example 3:\n",
        "\n",
        "Input: nums = [1,3]\n",
        "\n",
        "Output: 2\n",
        "\n",
        "Explanation:\n",
        "\n",
        "The longest valid subsequence is [1, 3].\n",
        "\n",
        " \n",
        "\n",
        "Constraints:\n",
        "\n",
        "2 <= nums.length <= 2 * 105\n",
        "1 <= nums[i] <= 107\n"
      ]
    }
  ],
  "metadata": {
    "language_info": {
      "name": "python"
    }
  },
  "nbformat": 4,
  "nbformat_minor": 5
}
