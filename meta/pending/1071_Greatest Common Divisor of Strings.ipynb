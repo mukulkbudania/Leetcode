{
  "cells": [
    {
      "cell_type": "markdown",
      "id": "3574c546",
      "metadata": {},
      "source": [
        "For two strings s and t, we say \"t divides s\" if and only if s = t + t + t + ... + t + t (i.e., t is concatenated with itself one or more times).\n",
        "\n",
        "Given two strings str1 and str2, return the largest string x such that x divides both str1 and str2.\n",
        "\n",
        " \n",
        "\n",
        "Example 1:\n",
        "\n",
        "Input: str1 = \"ABCABC\", str2 = \"ABC\"\n",
        "Output: \"ABC\"\n",
        "Example 2:\n",
        "\n",
        "Input: str1 = \"ABABAB\", str2 = \"ABAB\"\n",
        "Output: \"AB\"\n",
        "Example 3:\n",
        "\n",
        "Input: str1 = \"LEET\", str2 = \"CODE\"\n",
        "Output: \"\"\n",
        " \n",
        "\n",
        "Constraints:\n",
        "\n",
        "1 <= str1.length, str2.length <= 1000\n",
        "str1 and str2 consist of English uppercase letters."
      ]
    }
  ],
  "metadata": {
    "language_info": {
      "name": "python"
    }
  },
  "nbformat": 4,
  "nbformat_minor": 5
}
