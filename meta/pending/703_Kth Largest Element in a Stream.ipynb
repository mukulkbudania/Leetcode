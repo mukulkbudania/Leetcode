{
  "cells": [
    {
      "cell_type": "markdown",
      "id": "c4bbd97f",
      "metadata": {},
      "source": [
        "You are part of a university admissions office and need to keep track of the kth highest test score from applicants in real-time. This helps to determine cut-off marks for interviews and admissions dynamically as new applicants submit their scores.\n",
        "\n",
        "You are tasked to implement a class which, for a given integer k, maintains a stream of test scores and continuously returns the kth highest test score after a new score has been submitted. More specifically, we are looking for the kth highest score in the sorted list of all scores.\n",
        "\n",
        "Implement the KthLargest class:\n",
        "\n",
        "KthLargest(int k, int[] nums) Initializes the object with the integer k and the stream of test scores nums.\n",
        "int add(int val) Adds a new test score val to the stream and returns the element representing the kth largest element in the pool of test scores so far.\n",
        " \n",
        "\n",
        "Example 1:\n",
        "\n",
        "Input:\n",
        "[\"KthLargest\", \"add\", \"add\", \"add\", \"add\", \"add\"]\n",
        "[[3, [4, 5, 8, 2]], [3], [5], [10], [9], [4]]\n",
        "\n",
        "Output: [null, 4, 5, 5, 8, 8]\n",
        "\n",
        "Explanation:\n",
        "\n",
        "KthLargest kthLargest = new KthLargest(3, [4, 5, 8, 2]);\n",
        "kthLargest.add(3); // return 4\n",
        "kthLargest.add(5); // return 5\n",
        "kthLargest.add(10); // return 5\n",
        "kthLargest.add(9); // return 8\n",
        "kthLargest.add(4); // return 8\n",
        "\n",
        "Example 2:\n",
        "\n",
        "Input:\n",
        "[\"KthLargest\", \"add\", \"add\", \"add\", \"add\"]\n",
        "[[4, [7, 7, 7, 7, 8, 3]], [2], [10], [9], [9]]\n",
        "\n",
        "Output: [null, 7, 7, 7, 8]\n",
        "\n",
        "Explanation:\n",
        "\n",
        "KthLargest kthLargest = new KthLargest(4, [7, 7, 7, 7, 8, 3]);\n",
        "kthLargest.add(2); // return 7\n",
        "kthLargest.add(10); // return 7\n",
        "kthLargest.add(9); // return 7\n",
        "kthLargest.add(9); // return 8\n",
        " \n",
        "\n",
        "Constraints:\n",
        "\n",
        "0 <= nums.length <= 104\n",
        "1 <= k <= nums.length + 1\n",
        "-104 <= nums[i] <= 104\n",
        "-104 <= val <= 104\n",
        "At most 104 calls will be made to add."
      ]
    }
  ],
  "metadata": {
    "language_info": {
      "name": "python"
    }
  },
  "nbformat": 4,
  "nbformat_minor": 5
}
