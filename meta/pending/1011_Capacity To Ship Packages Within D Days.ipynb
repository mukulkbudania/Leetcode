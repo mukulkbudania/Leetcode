{
  "cells": [
    {
      "cell_type": "markdown",
      "id": "399b6762",
      "metadata": {},
      "source": [
        "A conveyor belt has packages that must be shipped from one port to another within days days.\n",
        "\n",
        "The ith package on the conveyor belt has a weight of weights[i]. Each day, we load the ship with packages on the conveyor belt (in the order given by weights). We may not load more weight than the maximum weight capacity of the ship.\n",
        "\n",
        "Return the least weight capacity of the ship that will result in all the packages on the conveyor belt being shipped within days days.\n",
        "\n",
        " \n",
        "\n",
        "Example 1:\n",
        "\n",
        "Input: weights = [1,2,3,4,5,6,7,8,9,10], days = 5\n",
        "Output: 15\n",
        "Explanation: A ship capacity of 15 is the minimum to ship all the packages in 5 days like this:\n",
        "1st day: 1, 2, 3, 4, 5\n",
        "2nd day: 6, 7\n",
        "3rd day: 8\n",
        "4th day: 9\n",
        "5th day: 10\n",
        "\n",
        "Note that the cargo must be shipped in the order given, so using a ship of capacity 14 and splitting the packages into parts like (2, 3, 4, 5), (1, 6, 7), (8), (9), (10) is not allowed.\n",
        "Example 2:\n",
        "\n",
        "Input: weights = [3,2,2,4,1,4], days = 3\n",
        "Output: 6\n",
        "Explanation: A ship capacity of 6 is the minimum to ship all the packages in 3 days like this:\n",
        "1st day: 3, 2\n",
        "2nd day: 2, 4\n",
        "3rd day: 1, 4\n",
        "Example 3:\n",
        "\n",
        "Input: weights = [1,2,3,1,1], days = 4\n",
        "Output: 3\n",
        "Explanation:\n",
        "1st day: 1\n",
        "2nd day: 2\n",
        "3rd day: 3\n",
        "4th day: 1, 1\n",
        " \n",
        "\n",
        "Constraints:\n",
        "\n",
        "1 <= days <= weights.length <= 5 * 104\n",
        "1 <= weights[i] <= 500"
      ]
    }
  ],
  "metadata": {
    "language_info": {
      "name": "python"
    }
  },
  "nbformat": 4,
  "nbformat_minor": 5
}
