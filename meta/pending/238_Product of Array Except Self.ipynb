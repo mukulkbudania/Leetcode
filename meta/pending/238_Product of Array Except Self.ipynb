{
 "cells": [
  {
   "cell_type": "markdown",
   "id": "559ce4a2",
   "metadata": {},
   "source": [
    "# 238. Product of Array Except Self"
   ]
  },
  {
   "cell_type": "markdown",
   "id": "dfa2de10",
   "metadata": {},
   "source": [
    "Given an integer array nums, return an array answer such that answer[i] is equal to the product of all the elements of nums except nums[i].\n",
    "\n",
    "\n",
    "\n",
    "The product of any prefix or suffix of nums is guaranteed to fit in a 32-bit integer.\n",
    "\n",
    "\n",
    "\n",
    "You must write an algorithm that runs in O(n) time and without using the division operation.\n",
    "\n",
    "\n",
    "\n",
    " \n",
    "\n",
    "\n",
    "\n",
    "**Example 1:**\n",
    "\n",
    "\n",
    "\n",
    "Input: nums = [1,2,3,4]\n",
    "\n",
    "Output: [24,12,8,6]\n",
    "\n",
    "**Example 2:**\n",
    "\n",
    "\n",
    "\n",
    "Input: nums = [-1,1,0,-3,3]\n",
    "\n",
    "Output: [0,0,9,0,0]\n",
    "\n",
    " \n",
    "\n",
    "\n",
    "\n",
    "**Constraints:**\n",
    "\n",
    "\n",
    "\n",
    "2 <= nums.length <= 105\n",
    "\n",
    "-30 <= nums[i] <= 30\n",
    "\n",
    "The input is generated such that answer[i] is guaranteed to fit in a 32-bit integer.\n",
    "\n",
    " \n",
    "\n",
    "\n",
    "\n",
    "Follow up: Can you solve the problem in O(1) extra space complexity? (The output array does not count as extra space for space complexity analysis.)\n",
    "\n",
    "\n",
    "\n"
   ]
  }
 ],
 "metadata": {
  "language_info": {
   "name": "python"
  }
 },
 "nbformat": 4,
 "nbformat_minor": 5
}
