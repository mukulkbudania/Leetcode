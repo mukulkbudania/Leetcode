{
 "cells": [
  {
   "cell_type": "markdown",
   "id": "f21e2c1e",
   "metadata": {},
   "source": [
    "# 1161. Maximum Level Sum of a Binary Tree"
   ]
  },
  {
   "cell_type": "markdown",
   "id": "7ff71174",
   "metadata": {},
   "source": [
    "Given the root of a binary tree, the level of its root is 1, the level of its children is 2, and so on.\n",
    "\n",
    "\n",
    "\n",
    "Return the smallest level x such that the sum of all the values of nodes at level x is maximal.\n",
    "\n",
    "\n",
    "\n",
    " \n",
    "\n",
    "\n",
    "\n",
    "**Example 1:**\n",
    "\n",
    "\n",
    "\n",
    "\n",
    "\n",
    "Input: root = [1,7,0,7,-8,null,null]\n",
    "\n",
    "Output: 2\n",
    "\n",
    "Explanation: \n",
    "\n",
    "Level 1 sum = 1.\n",
    "\n",
    "Level 2 sum = 7 + 0 = 7.\n",
    "\n",
    "Level 3 sum = 7 + -8 = -1.\n",
    "\n",
    "So we return the level with the maximum sum which is level 2.\n",
    "\n",
    "**Example 2:**\n",
    "\n",
    "\n",
    "\n",
    "Input: root = [989,null,10250,98693,-89388,null,null,null,-32127]\n",
    "\n",
    "Output: 2\n",
    "\n",
    " \n",
    "\n",
    "\n",
    "\n",
    "**Constraints:**\n",
    "\n",
    "\n",
    "\n",
    "The number of nodes in the tree is in the range [1, 104].\n",
    "\n",
    "-105 <= Node.val <= 105"
   ]
  }
 ],
 "metadata": {
  "language_info": {
   "name": "python"
  }
 },
 "nbformat": 4,
 "nbformat_minor": 5
}
