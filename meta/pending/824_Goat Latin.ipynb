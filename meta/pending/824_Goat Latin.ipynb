{
 "cells": [
  {
   "cell_type": "markdown",
   "id": "3d0f2b20",
   "metadata": {},
   "source": [
    "# 824. Goat Latin"
   ]
  },
  {
   "cell_type": "markdown",
   "id": "43917b11",
   "metadata": {},
   "source": [
    "You are given a string sentence that consist of words separated by spaces. Each word consists of lowercase and uppercase letters only.\n",
    "\n",
    "\n",
    "\n",
    "We would like to convert the sentence to \"Goat Latin\" (a made-up language similar to Pig Latin.) The rules of Goat Latin are as follows:\n",
    "\n",
    "\n",
    "\n",
    "If a word begins with a vowel ('a', 'e', 'i', 'o', or 'u'), append \"ma\" to the end of the word.\n",
    "\n",
    "For example, the word \"apple\" becomes \"applema\".\n",
    "\n",
    "If a word begins with a consonant (i.e., not a vowel), remove the first letter and append it to the end, then add \"ma\".\n",
    "\n",
    "For example, the word \"goat\" becomes \"oatgma\".\n",
    "\n",
    "Add one letter 'a' to the end of each word per its word index in the sentence, starting with 1.\n",
    "\n",
    "For example, the first word gets \"a\" added to the end, the second word gets \"aa\" added to the end, and so on.\n",
    "\n",
    "Return the final sentence representing the conversion from sentence to Goat Latin.\n",
    "\n",
    "\n",
    "\n",
    " \n",
    "\n",
    "\n",
    "\n",
    "**Example 1:**\n",
    "\n",
    "\n",
    "\n",
    "Input: sentence = \"I speak Goat Latin\"\n",
    "\n",
    "Output: \"Imaa peaksmaaa oatGmaaaa atinLmaaaaa\"\n",
    "\n",
    "**Example 2:**\n",
    "\n",
    "\n",
    "\n",
    "Input: sentence = \"The quick brown fox jumped over the lazy dog\"\n",
    "\n",
    "Output: \"heTmaa uickqmaaa rownbmaaaa oxfmaaaaa umpedjmaaaaaa overmaaaaaaa hetmaaaaaaaa azylmaaaaaaaaa ogdmaaaaaaaaaa\"\n",
    "\n",
    " \n",
    "\n",
    "\n",
    "\n",
    "**Constraints:**\n",
    "\n",
    "\n",
    "\n",
    "1 <= sentence.length <= 150\n",
    "\n",
    "sentence consists of English letters and spaces.\n",
    "\n",
    "sentence has no leading or trailing spaces.\n",
    "\n",
    "All the words in sentence are separated by a single space."
   ]
  }
 ],
 "metadata": {
  "language_info": {
   "name": "python"
  }
 },
 "nbformat": 4,
 "nbformat_minor": 5
}
