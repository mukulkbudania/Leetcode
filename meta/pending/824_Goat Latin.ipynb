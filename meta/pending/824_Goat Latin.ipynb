{
  "cells": [
    {
      "cell_type": "markdown",
      "id": "43917b11",
      "metadata": {},
      "source": [
        "You are given a string sentence that consist of words separated by spaces. Each word consists of lowercase and uppercase letters only.\n",
        "\n",
        "We would like to convert the sentence to \"Goat Latin\" (a made-up language similar to Pig Latin.) The rules of Goat Latin are as follows:\n",
        "\n",
        "If a word begins with a vowel ('a', 'e', 'i', 'o', or 'u'), append \"ma\" to the end of the word.\n",
        "For example, the word \"apple\" becomes \"applema\".\n",
        "If a word begins with a consonant (i.e., not a vowel), remove the first letter and append it to the end, then add \"ma\".\n",
        "For example, the word \"goat\" becomes \"oatgma\".\n",
        "Add one letter 'a' to the end of each word per its word index in the sentence, starting with 1.\n",
        "For example, the first word gets \"a\" added to the end, the second word gets \"aa\" added to the end, and so on.\n",
        "Return the final sentence representing the conversion from sentence to Goat Latin.\n",
        "\n",
        " \n",
        "\n",
        "Example 1:\n",
        "\n",
        "Input: sentence = \"I speak Goat Latin\"\n",
        "Output: \"Imaa peaksmaaa oatGmaaaa atinLmaaaaa\"\n",
        "Example 2:\n",
        "\n",
        "Input: sentence = \"The quick brown fox jumped over the lazy dog\"\n",
        "Output: \"heTmaa uickqmaaa rownbmaaaa oxfmaaaaa umpedjmaaaaaa overmaaaaaaa hetmaaaaaaaa azylmaaaaaaaaa ogdmaaaaaaaaaa\"\n",
        " \n",
        "\n",
        "Constraints:\n",
        "\n",
        "1 <= sentence.length <= 150\n",
        "sentence consists of English letters and spaces.\n",
        "sentence has no leading or trailing spaces.\n",
        "All the words in sentence are separated by a single space."
      ]
    }
  ],
  "metadata": {
    "language_info": {
      "name": "python"
    }
  },
  "nbformat": 4,
  "nbformat_minor": 5
}
