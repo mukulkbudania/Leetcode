{
  "cells": [
    {
      "cell_type": "markdown",
      "id": "5a69e2d4",
      "metadata": {},
      "source": [
        "There are n people standing in a queue, and they numbered from 0 to n - 1 in left to right order. You are given an array heights of distinct integers where heights[i] represents the height of the ith person.\n",
        "\n",
        "A person can see another person to their right in the queue if everybody in between is shorter than both of them. More formally, the ith person can see the jth person if i < j and min(heights[i], heights[j]) > max(heights[i+1], heights[i+2], ..., heights[j-1]).\n",
        "\n",
        "Return an array answer of length n where answer[i] is the number of people the ith person can see to their right in the queue.\n",
        "\n",
        " \n",
        "\n",
        "Example 1:\n",
        "\n",
        "\n",
        "\n",
        "Input: heights = [10,6,8,5,11,9]\n",
        "Output: [3,1,2,1,1,0]\n",
        "Explanation:\n",
        "Person 0 can see person 1, 2, and 4.\n",
        "Person 1 can see person 2.\n",
        "Person 2 can see person 3 and 4.\n",
        "Person 3 can see person 4.\n",
        "Person 4 can see person 5.\n",
        "Person 5 can see no one since nobody is to the right of them.\n",
        "Example 2:\n",
        "\n",
        "Input: heights = [5,1,2,3,10]\n",
        "Output: [4,1,1,1,0]\n",
        " \n",
        "\n",
        "Constraints:\n",
        "\n",
        "n == heights.length\n",
        "1 <= n <= 105\n",
        "1 <= heights[i] <= 105\n",
        "All the values of heights are unique."
      ]
    }
  ],
  "metadata": {
    "language_info": {
      "name": "python"
    }
  },
  "nbformat": 4,
  "nbformat_minor": 5
}
