{
  "cells": [
    {
      "cell_type": "markdown",
      "id": "966f7049",
      "metadata": {},
      "source": [
        "Given an integer array nums that may contain duplicates, return all possible subsets (the power set).\n",
        "\n",
        "The solution set must not contain duplicate subsets. Return the solution in any order.\n",
        "\n",
        " \n",
        "\n",
        "Example 1:\n",
        "\n",
        "Input: nums = [1,2,2]\n",
        "Output: [[],[1],[1,2],[1,2,2],[2],[2,2]]\n",
        "Example 2:\n",
        "\n",
        "Input: nums = [0]\n",
        "Output: [[],[0]]\n",
        " \n",
        "\n",
        "Constraints:\n",
        "\n",
        "1 <= nums.length <= 10\n",
        "-10 <= nums[i] <= 10"
      ]
    }
  ],
  "metadata": {
    "language_info": {
      "name": "python"
    }
  },
  "nbformat": 4,
  "nbformat_minor": 5
}
