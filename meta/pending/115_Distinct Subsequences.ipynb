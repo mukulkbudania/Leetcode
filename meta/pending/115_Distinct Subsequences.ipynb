{
 "cells": [
  {
   "cell_type": "markdown",
   "id": "b5f69ae4",
   "metadata": {},
   "source": [
    "# 115. Distinct Subsequences"
   ]
  },
  {
   "cell_type": "markdown",
   "id": "6bbad6fa",
   "metadata": {},
   "source": [
    "Given two strings s and t, return the number of distinct subsequences of s which equals t.\n",
    "\n",
    "\n",
    "\n",
    "The test cases are generated so that the answer fits on a 32-bit signed integer.\n",
    "\n",
    "\n",
    "\n",
    " \n",
    "\n",
    "\n",
    "\n",
    "**Example 1:**\n",
    "\n",
    "\n",
    "\n",
    "Input: s = \"rabbbit\", t = \"rabbit\"\n",
    "\n",
    "Output: 3\n",
    "\n",
    "Explanation:\n",
    "\n",
    "As shown below, there are 3 ways you can generate \"rabbit\" from s.\n",
    "\n",
    "rabbbit\n",
    "\n",
    "rabbbit\n",
    "\n",
    "rabbbit\n",
    "\n",
    "**Example 2:**\n",
    "\n",
    "\n",
    "\n",
    "Input: s = \"babgbag\", t = \"bag\"\n",
    "\n",
    "Output: 5\n",
    "\n",
    "Explanation:\n",
    "\n",
    "As shown below, there are 5 ways you can generate \"bag\" from s.\n",
    "\n",
    "babgbag\n",
    "\n",
    "babgbag\n",
    "\n",
    "babgbag\n",
    "\n",
    "babgbag\n",
    "\n",
    "babgbag\n",
    "\n",
    " \n",
    "\n",
    "\n",
    "\n",
    "**Constraints:**\n",
    "\n",
    "\n",
    "\n",
    "1 <= s.length, t.length <= 1000\n",
    "\n",
    "s and t consist of English letters."
   ]
  }
 ],
 "metadata": {
  "language_info": {
   "name": "python"
  }
 },
 "nbformat": 4,
 "nbformat_minor": 5
}
