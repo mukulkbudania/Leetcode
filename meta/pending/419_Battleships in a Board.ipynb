{
 "cells": [
  {
   "cell_type": "markdown",
   "id": "49b63094",
   "metadata": {},
   "source": [
    "# 419. Battleships in a Board"
   ]
  },
  {
   "cell_type": "markdown",
   "id": "1c259d69",
   "metadata": {},
   "source": [
    "Given an m x n matrix board where each cell is a battleship 'X' or empty '.', return the number of the battleships on board.\n",
    "\n",
    "\n",
    "\n",
    "Battleships can only be placed horizontally or vertically on board. In other words, they can only be made of the shape 1 x k (1 row, k columns) or k x 1 (k rows, 1 column), where k can be of any size. At least one horizontal or vertical cell separates between two battleships (i.e., there are no adjacent battleships).\n",
    "\n",
    "\n",
    "\n",
    " \n",
    "\n",
    "\n",
    "\n",
    "**Example 1:**\n",
    "\n",
    "\n",
    "\n",
    "\n",
    "\n",
    "Input: board = [[\"X\",\".\",\".\",\"X\"],[\".\",\".\",\".\",\"X\"],[\".\",\".\",\".\",\"X\"]]\n",
    "\n",
    "Output: 2\n",
    "\n",
    "**Example 2:**\n",
    "\n",
    "\n",
    "\n",
    "Input: board = [[\".\"]]\n",
    "\n",
    "Output: 0\n",
    "\n",
    " \n",
    "\n",
    "\n",
    "\n",
    "**Constraints:**\n",
    "\n",
    "\n",
    "\n",
    "m == board.length\n",
    "\n",
    "n == board[i].length\n",
    "\n",
    "1 <= m, n <= 200\n",
    "\n",
    "board[i][j] is either '.' or 'X'.\n",
    "\n",
    " \n",
    "\n",
    "\n",
    "\n",
    "Follow up: Could you do it in one-pass, using only O(1) extra memory and without modifying the values board?"
   ]
  }
 ],
 "metadata": {
  "language_info": {
   "name": "python"
  }
 },
 "nbformat": 4,
 "nbformat_minor": 5
}
