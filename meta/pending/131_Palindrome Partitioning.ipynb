{
  "cells": [
    {
      "cell_type": "markdown",
      "id": "b0805de9",
      "metadata": {},
      "source": [
        "Given a string s, partition s such that every substring of the partition is a palindrome. Return all possible palindrome partitioning of s.\n",
        "\n",
        " \n",
        "\n",
        "Example 1:\n",
        "\n",
        "Input: s = \"aab\"\n",
        "Output: [[\"a\",\"a\",\"b\"],[\"aa\",\"b\"]]\n",
        "Example 2:\n",
        "\n",
        "Input: s = \"a\"\n",
        "Output: [[\"a\"]]\n",
        " \n",
        "\n",
        "Constraints:\n",
        "\n",
        "1 <= s.length <= 16\n",
        "s contains only lowercase English letters."
      ]
    }
  ],
  "metadata": {
    "language_info": {
      "name": "python"
    }
  },
  "nbformat": 4,
  "nbformat_minor": 5
}
