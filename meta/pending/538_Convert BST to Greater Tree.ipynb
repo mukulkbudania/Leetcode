{
 "cells": [
  {
   "cell_type": "markdown",
   "id": "28c3b57b",
   "metadata": {},
   "source": [
    "# 538. Convert BST to Greater Tree"
   ]
  },
  {
   "cell_type": "markdown",
   "id": "8eefa3d7",
   "metadata": {},
   "source": [
    "Given the root of a Binary Search Tree (BST), convert it to a Greater Tree such that every key of the original BST is changed to the original key plus the sum of all keys greater than the original key in BST.\n",
    "\n",
    "\n",
    "\n",
    "As a reminder, a binary search tree is a tree that satisfies these constraints:\n",
    "\n",
    "\n",
    "\n",
    "The left subtree of a node contains only nodes with keys less than the node's key.\n",
    "\n",
    "The right subtree of a node contains only nodes with keys greater than the node's key.\n",
    "\n",
    "Both the left and right subtrees must also be binary search trees.\n",
    "\n",
    " \n",
    "\n",
    "\n",
    "\n",
    "**Example 1:**\n",
    "\n",
    "\n",
    "\n",
    "\n",
    "\n",
    "Input: root = [4,1,6,0,2,5,7,null,null,null,3,null,null,null,8]\n",
    "\n",
    "Output: [30,36,21,36,35,26,15,null,null,null,33,null,null,null,8]\n",
    "\n",
    "**Example 2:**\n",
    "\n",
    "\n",
    "\n",
    "Input: root = [0,null,1]\n",
    "\n",
    "Output: [1,null,1]\n",
    "\n",
    " \n",
    "\n",
    "\n",
    "\n",
    "**Constraints:**\n",
    "\n",
    "\n",
    "\n",
    "The number of nodes in the tree is in the range [0, 104].\n",
    "\n",
    "-104 <= Node.val <= 104\n",
    "\n",
    "All the values in the tree are unique.\n",
    "\n",
    "root is guaranteed to be a valid binary search tree.\n",
    "\n",
    " \n",
    "\n",
    "\n",
    "\n",
    "Note: This question is the same as 1038: https://leetcode.com/problems/binary-search-tree-to-greater-sum-tree/"
   ]
  }
 ],
 "metadata": {
  "language_info": {
   "name": "python"
  }
 },
 "nbformat": 4,
 "nbformat_minor": 5
}
