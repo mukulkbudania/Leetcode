{
  "cells": [
    {
      "cell_type": "markdown",
      "id": "f3a917eb",
      "metadata": {},
      "source": [
        "There is a tournament where n players are participating. The players are standing in a single row and are numbered from 1 to n based on their initial standing position (player 1 is the first player in the row, player 2 is the second player in the row, etc.).\n",
        "\n",
        "The tournament consists of multiple rounds (starting from round number 1). In each round, the ith player from the front of the row competes against the ith player from the end of the row, and the winner advances to the next round. When the number of players is odd for the current round, the player in the middle automatically advances to the next round.\n",
        "\n",
        "For example, if the row consists of players 1, 2, 4, 6, 7\n",
        "Player 1 competes against player 7.\n",
        "Player 2 competes against player 6.\n",
        "Player 4 automatically advances to the next round.\n",
        "After each round is over, the winners are lined back up in the row based on the original ordering assigned to them initially (ascending order).\n",
        "\n",
        "The players numbered firstPlayer and secondPlayer are the best in the tournament. They can win against any other player before they compete against each other. If any two other players compete against each other, either of them might win, and thus you may choose the outcome of this round.\n",
        "\n",
        "Given the integers n, firstPlayer, and secondPlayer, return an integer array containing two values, the earliest possible round number and the latest possible round number in which these two players will compete against each other, respectively.\n",
        "\n",
        " \n",
        "\n",
        "Example 1:\n",
        "\n",
        "Input: n = 11, firstPlayer = 2, secondPlayer = 4\n",
        "Output: [3,4]\n",
        "Explanation:\n",
        "One possible scenario which leads to the earliest round number:\n",
        "First round: 1, 2, 3, 4, 5, 6, 7, 8, 9, 10, 11\n",
        "Second round: 2, 3, 4, 5, 6, 11\n",
        "Third round: 2, 3, 4\n",
        "One possible scenario which leads to the latest round number:\n",
        "First round: 1, 2, 3, 4, 5, 6, 7, 8, 9, 10, 11\n",
        "Second round: 1, 2, 3, 4, 5, 6\n",
        "Third round: 1, 2, 4\n",
        "Fourth round: 2, 4\n",
        "Example 2:\n",
        "\n",
        "Input: n = 5, firstPlayer = 1, secondPlayer = 5\n",
        "Output: [1,1]\n",
        "Explanation: The players numbered 1 and 5 compete in the first round.\n",
        "There is no way to make them compete in any other round.\n",
        " \n",
        "\n",
        "Constraints:\n",
        "\n",
        "2 <= n <= 28\n",
        "1 <= firstPlayer < secondPlayer <= n"
      ]
    }
  ],
  "metadata": {
    "language_info": {
      "name": "python"
    }
  },
  "nbformat": 4,
  "nbformat_minor": 5
}
