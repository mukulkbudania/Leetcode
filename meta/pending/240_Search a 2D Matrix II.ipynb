{
 "cells": [
  {
   "cell_type": "markdown",
   "id": "98c0a828",
   "metadata": {},
   "source": [
    "# 240. Search a 2D Matrix II"
   ]
  },
  {
   "cell_type": "markdown",
   "id": "f0942f5f",
   "metadata": {},
   "source": [
    "Write an efficient algorithm that searches for a value target in an m x n integer matrix matrix. This matrix has the following properties:\n",
    "\n",
    "\n",
    "\n",
    "Integers in each row are sorted in ascending from left to right.\n",
    "\n",
    "Integers in each column are sorted in ascending from top to bottom.\n",
    "\n",
    " \n",
    "\n",
    "\n",
    "\n",
    "**Example 1:**\n",
    "\n",
    "\n",
    "\n",
    "\n",
    "\n",
    "Input: matrix = [[1,4,7,11,15],[2,5,8,12,19],[3,6,9,16,22],[10,13,14,17,24],[18,21,23,26,30]], target = 5\n",
    "\n",
    "Output: true\n",
    "\n",
    "**Example 2:**\n",
    "\n",
    "\n",
    "\n",
    "\n",
    "\n",
    "Input: matrix = [[1,4,7,11,15],[2,5,8,12,19],[3,6,9,16,22],[10,13,14,17,24],[18,21,23,26,30]], target = 20\n",
    "\n",
    "Output: false\n",
    "\n",
    " \n",
    "\n",
    "\n",
    "\n",
    "**Constraints:**\n",
    "\n",
    "\n",
    "\n",
    "m == matrix.length\n",
    "\n",
    "n == matrix[i].length\n",
    "\n",
    "1 <= n, m <= 300\n",
    "\n",
    "-109 <= matrix[i][j] <= 109\n",
    "\n",
    "All the integers in each row are sorted in ascending order.\n",
    "\n",
    "All the integers in each column are sorted in ascending order.\n",
    "\n",
    "-109 <= target <= 109\n",
    "\n"
   ]
  }
 ],
 "metadata": {
  "language_info": {
   "name": "python"
  }
 },
 "nbformat": 4,
 "nbformat_minor": 5
}
