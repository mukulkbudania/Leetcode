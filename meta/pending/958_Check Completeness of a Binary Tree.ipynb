{
  "cells": [
    {
      "cell_type": "markdown",
      "id": "2faa57a3",
      "metadata": {},
      "source": [
        "Given the root of a binary tree, determine if it is a complete binary tree.\n",
        "\n",
        "In a complete binary tree, every level, except possibly the last, is completely filled, and all nodes in the last level are as far left as possible. It can have between 1 and 2h nodes inclusive at the last level h.\n",
        "\n",
        " \n",
        "\n",
        "Example 1:\n",
        "\n",
        "\n",
        "Input: root = [1,2,3,4,5,6]\n",
        "Output: true\n",
        "Explanation: Every level before the last is full (ie. levels with node-values {1} and {2, 3}), and all nodes in the last level ({4, 5, 6}) are as far left as possible.\n",
        "Example 2:\n",
        "\n",
        "\n",
        "Input: root = [1,2,3,4,5,null,7]\n",
        "Output: false\n",
        "Explanation: The node with value 7 isn't as far left as possible.\n",
        " \n",
        "\n",
        "Constraints:\n",
        "\n",
        "The number of nodes in the tree is in the range [1, 100].\n",
        "1 <= Node.val <= 1000\n"
      ]
    }
  ],
  "metadata": {
    "language_info": {
      "name": "python"
    }
  },
  "nbformat": 4,
  "nbformat_minor": 5
}
