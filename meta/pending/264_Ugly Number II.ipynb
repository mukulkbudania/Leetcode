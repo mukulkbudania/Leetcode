{
  "cells": [
    {
      "cell_type": "markdown",
      "id": "c9f72623",
      "metadata": {},
      "source": [
        "An ugly number is a positive integer whose prime factors are limited to 2, 3, and 5.\n",
        "\n",
        "Given an integer n, return the nth ugly number.\n",
        "\n",
        " \n",
        "\n",
        "Example 1:\n",
        "\n",
        "Input: n = 10\n",
        "Output: 12\n",
        "Explanation: [1, 2, 3, 4, 5, 6, 8, 9, 10, 12] is the sequence of the first 10 ugly numbers.\n",
        "Example 2:\n",
        "\n",
        "Input: n = 1\n",
        "Output: 1\n",
        "Explanation: 1 has no prime factors, therefore all of its prime factors are limited to 2, 3, and 5.\n",
        " \n",
        "\n",
        "Constraints:\n",
        "\n",
        "1 <= n <= 1690"
      ]
    }
  ],
  "metadata": {
    "language_info": {
      "name": "python"
    }
  },
  "nbformat": 4,
  "nbformat_minor": 5
}
