{
 "cells": [
  {
   "cell_type": "markdown",
   "id": "faade3fe",
   "metadata": {},
   "source": [
    "# 521. Longest Uncommon Subsequence I"
   ]
  },
  {
   "cell_type": "markdown",
   "id": "45b7c031",
   "metadata": {},
   "source": [
    "Given two strings a and b, return the length of the longest uncommon subsequence between a and b. If no such uncommon subsequence exists, return -1.\n",
    "\n",
    "\n",
    "\n",
    "An uncommon subsequence between two strings is a string that is a subsequence of exactly one of them.\n",
    "\n",
    "\n",
    "\n",
    " \n",
    "\n",
    "\n",
    "\n",
    "**Example 1:**\n",
    "\n",
    "\n",
    "\n",
    "Input: a = \"aba\", b = \"cdc\"\n",
    "\n",
    "Output: 3\n",
    "\n",
    "Explanation: One longest uncommon subsequence is \"aba\" because \"aba\" is a subsequence of \"aba\" but not \"cdc\".\n",
    "\n",
    "Note that \"cdc\" is also a longest uncommon subsequence.\n",
    "\n",
    "**Example 2:**\n",
    "\n",
    "\n",
    "\n",
    "Input: a = \"aaa\", b = \"bbb\"\n",
    "\n",
    "Output: 3\n",
    "\n",
    "Explanation: The longest uncommon subsequences are \"aaa\" and \"bbb\".\n",
    "\n",
    "**Example 3:**\n",
    "\n",
    "\n",
    "\n",
    "Input: a = \"aaa\", b = \"aaa\"\n",
    "\n",
    "Output: -1\n",
    "\n",
    "Explanation: Every subsequence of string a is also a subsequence of string b. Similarly, every subsequence of string b is also a subsequence of string a. So the answer would be -1.\n",
    "\n",
    " \n",
    "\n",
    "\n",
    "\n",
    "**Constraints:**\n",
    "\n",
    "\n",
    "\n",
    "1 <= a.length, b.length <= 100\n",
    "\n",
    "a and b consist of lower-case English letters.\n",
    "\n"
   ]
  }
 ],
 "metadata": {
  "language_info": {
   "name": "python"
  }
 },
 "nbformat": 4,
 "nbformat_minor": 5
}
