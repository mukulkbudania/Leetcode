{
 "cells": [
  {
   "cell_type": "markdown",
   "id": "b97e8af1",
   "metadata": {},
   "source": [
    "# 159. Longest Substring with At Most Two Distinct Characters"
   ]
  },
  {
   "cell_type": "markdown",
   "id": "3fefeaa8",
   "metadata": {},
   "source": [
    "Given a string s, return the length of the longest substring that contains at most two distinct characters.\n",
    "\n",
    "\n",
    "\n",
    " \n",
    "\n",
    "\n",
    "\n",
    "**Example 1:**\n",
    "\n",
    "\n",
    "\n",
    "Input: s = \"eceba\"\n",
    "\n",
    "Output: 3\n",
    "\n",
    "Explanation: The substring is \"ece\" which its length is 3.\n",
    "\n",
    "**Example 2:**\n",
    "\n",
    "\n",
    "\n",
    "Input: s = \"ccaabbb\"\n",
    "\n",
    "Output: 5\n",
    "\n",
    "Explanation: The substring is \"aabbb\" which its length is 5.\n",
    "\n",
    " \n",
    "\n",
    "\n",
    "\n",
    "**Constraints:**\n",
    "\n",
    "\n",
    "\n",
    "1 <= s.length <= 105\n",
    "\n",
    "s consists of English letters."
   ]
  }
 ],
 "metadata": {
  "language_info": {
   "name": "python"
  }
 },
 "nbformat": 4,
 "nbformat_minor": 5
}
