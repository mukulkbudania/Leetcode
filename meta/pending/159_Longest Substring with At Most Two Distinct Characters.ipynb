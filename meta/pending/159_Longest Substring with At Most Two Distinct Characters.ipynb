{
  "cells": [
    {
      "cell_type": "markdown",
      "id": "3fefeaa8",
      "metadata": {},
      "source": [
        "Given a string s, return the length of the longest substring that contains at most two distinct characters.\n",
        "\n",
        " \n",
        "\n",
        "Example 1:\n",
        "\n",
        "Input: s = \"eceba\"\n",
        "Output: 3\n",
        "Explanation: The substring is \"ece\" which its length is 3.\n",
        "Example 2:\n",
        "\n",
        "Input: s = \"ccaabbb\"\n",
        "Output: 5\n",
        "Explanation: The substring is \"aabbb\" which its length is 5.\n",
        " \n",
        "\n",
        "Constraints:\n",
        "\n",
        "1 <= s.length <= 105\n",
        "s consists of English letters."
      ]
    }
  ],
  "metadata": {
    "language_info": {
      "name": "python"
    }
  },
  "nbformat": 4,
  "nbformat_minor": 5
}
