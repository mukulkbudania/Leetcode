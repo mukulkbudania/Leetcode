{
  "cells": [
    {
      "cell_type": "markdown",
      "id": "d2f78567",
      "metadata": {},
      "source": [
        "SQL Schema\n",
        "Pandas Schema\n",
        "Table: Seat\n",
        "\n",
        "+-------------+---------+\n",
        "| Column Name | Type    |\n",
        "+-------------+---------+\n",
        "| id          | int     |\n",
        "| student     | varchar |\n",
        "+-------------+---------+\n",
        "id is the primary key (unique value) column for this table.\n",
        "Each row of this table indicates the name and the ID of a student.\n",
        "The ID sequence always starts from 1 and increments continuously.\n",
        " \n",
        "\n",
        "Write a solution to swap the seat id of every two consecutive students. If the number of students is odd, the id of the last student is not swapped.\n",
        "\n",
        "Return the result table ordered by id in ascending order.\n",
        "\n",
        "The result format is in the following example.\n",
        "\n",
        " \n",
        "\n",
        "Example 1:\n",
        "\n",
        "Input: \n",
        "Seat table:\n",
        "+----+---------+\n",
        "| id | student |\n",
        "+----+---------+\n",
        "| 1  | Abbot   |\n",
        "| 2  | Doris   |\n",
        "| 3  | Emerson |\n",
        "| 4  | Green   |\n",
        "| 5  | Jeames  |\n",
        "+----+---------+\n",
        "Output: \n",
        "+----+---------+\n",
        "| id | student |\n",
        "+----+---------+\n",
        "| 1  | Doris   |\n",
        "| 2  | Abbot   |\n",
        "| 3  | Green   |\n",
        "| 4  | Emerson |\n",
        "| 5  | Jeames  |\n",
        "+----+---------+\n",
        "Explanation: \n",
        "Note that if the number of students is odd, there is no need to change the last one's seat."
      ]
    }
  ],
  "metadata": {
    "language_info": {
      "name": "python"
    }
  },
  "nbformat": 4,
  "nbformat_minor": 5
}
