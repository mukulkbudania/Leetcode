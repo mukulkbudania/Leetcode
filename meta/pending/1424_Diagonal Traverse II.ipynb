{
  "cells": [
    {
      "cell_type": "markdown",
      "id": "4ea58e29",
      "metadata": {},
      "source": [
        "Given a 2D integer array nums, return all elements of nums in diagonal order as shown in the below images.\n",
        "\n",
        " \n",
        "\n",
        "Example 1:\n",
        "\n",
        "\n",
        "Input: nums = [[1,2,3],[4,5,6],[7,8,9]]\n",
        "Output: [1,4,2,7,5,3,8,6,9]\n",
        "Example 2:\n",
        "\n",
        "\n",
        "Input: nums = [[1,2,3,4,5],[6,7],[8],[9,10,11],[12,13,14,15,16]]\n",
        "Output: [1,6,2,8,7,3,9,4,12,10,5,13,11,14,15,16]\n",
        " \n",
        "\n",
        "Constraints:\n",
        "\n",
        "1 <= nums.length <= 105\n",
        "1 <= nums[i].length <= 105\n",
        "1 <= sum(nums[i].length) <= 105\n",
        "1 <= nums[i][j] <= 105"
      ]
    }
  ],
  "metadata": {
    "language_info": {
      "name": "python"
    }
  },
  "nbformat": 4,
  "nbformat_minor": 5
}
