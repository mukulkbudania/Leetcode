{
 "cells": [
  {
   "cell_type": "markdown",
   "id": "81738638",
   "metadata": {},
   "source": [
    "# 32. Longest Valid Parentheses"
   ]
  },
  {
   "cell_type": "markdown",
   "id": "3449de08",
   "metadata": {},
   "source": [
    "Given a string containing just the characters '(' and ')', return the length of the longest valid (well-formed) parentheses substring.\n",
    "\n",
    "\n",
    "\n",
    " \n",
    "\n",
    "\n",
    "\n",
    "**Example 1:**\n",
    "\n",
    "\n",
    "\n",
    "Input: s = \"(()\"\n",
    "\n",
    "Output: 2\n",
    "\n",
    "Explanation: The longest valid parentheses substring is \"()\".\n",
    "\n",
    "**Example 2:**\n",
    "\n",
    "\n",
    "\n",
    "Input: s = \")()())\"\n",
    "\n",
    "Output: 4\n",
    "\n",
    "Explanation: The longest valid parentheses substring is \"()()\".\n",
    "\n",
    "**Example 3:**\n",
    "\n",
    "\n",
    "\n",
    "Input: s = \"\"\n",
    "\n",
    "Output: 0\n",
    "\n",
    " \n",
    "\n",
    "\n",
    "\n",
    "**Constraints:**\n",
    "\n",
    "\n",
    "\n",
    "0 <= s.length <= 3 * 104\n",
    "\n",
    "s[i] is '(', or ')'.\n",
    "\n"
   ]
  }
 ],
 "metadata": {
  "language_info": {
   "name": "python"
  }
 },
 "nbformat": 4,
 "nbformat_minor": 5
}
