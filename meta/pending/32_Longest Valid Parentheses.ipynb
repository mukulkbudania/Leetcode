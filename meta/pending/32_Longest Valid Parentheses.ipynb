{
  "cells": [
    {
      "cell_type": "markdown",
      "id": "3449de08",
      "metadata": {},
      "source": [
        "Given a string containing just the characters '(' and ')', return the length of the longest valid (well-formed) parentheses substring.\n",
        "\n",
        " \n",
        "\n",
        "Example 1:\n",
        "\n",
        "Input: s = \"(()\"\n",
        "Output: 2\n",
        "Explanation: The longest valid parentheses substring is \"()\".\n",
        "Example 2:\n",
        "\n",
        "Input: s = \")()())\"\n",
        "Output: 4\n",
        "Explanation: The longest valid parentheses substring is \"()()\".\n",
        "Example 3:\n",
        "\n",
        "Input: s = \"\"\n",
        "Output: 0\n",
        " \n",
        "\n",
        "Constraints:\n",
        "\n",
        "0 <= s.length <= 3 * 104\n",
        "s[i] is '(', or ')'.\n"
      ]
    }
  ],
  "metadata": {
    "language_info": {
      "name": "python"
    }
  },
  "nbformat": 4,
  "nbformat_minor": 5
}
