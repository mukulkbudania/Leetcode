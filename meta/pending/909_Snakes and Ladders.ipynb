{
  "cells": [
    {
      "cell_type": "markdown",
      "id": "f9450b99",
      "metadata": {},
      "source": [
        "You are given an n x n integer matrix board where the cells are labeled from 1 to n2 in a Boustrophedon style starting from the bottom left of the board (i.e. board[n - 1][0]) and alternating direction each row.\n",
        "\n",
        "You start on square 1 of the board. In each move, starting from square curr, do the following:\n",
        "\n",
        "Choose a destination square next with a label in the range [curr + 1, min(curr + 6, n2)].\n",
        "This choice simulates the result of a standard 6-sided die roll: i.e., there are always at most 6 destinations, regardless of the size of the board.\n",
        "If next has a snake or ladder, you must move to the destination of that snake or ladder. Otherwise, you move to next.\n",
        "The game ends when you reach the square n2.\n",
        "A board square on row r and column c has a snake or ladder if board[r][c] != -1. The destination of that snake or ladder is board[r][c]. Squares 1 and n2 are not the starting points of any snake or ladder.\n",
        "\n",
        "Note that you only take a snake or ladder at most once per dice roll. If the destination to a snake or ladder is the start of another snake or ladder, you do not follow the subsequent snake or ladder.\n",
        "\n",
        "For example, suppose the board is [[-1,4],[-1,3]], and on the first move, your destination square is 2. You follow the ladder to square 3, but do not follow the subsequent ladder to 4.\n",
        "Return the least number of dice rolls required to reach the square n2. If it is not possible to reach the square, return -1.\n",
        "\n",
        " \n",
        "\n",
        "Example 1:\n",
        "\n",
        "\n",
        "Input: board = [[-1,-1,-1,-1,-1,-1],[-1,-1,-1,-1,-1,-1],[-1,-1,-1,-1,-1,-1],[-1,35,-1,-1,13,-1],[-1,-1,-1,-1,-1,-1],[-1,15,-1,-1,-1,-1]]\n",
        "Output: 4\n",
        "Explanation: \n",
        "In the beginning, you start at square 1 (at row 5, column 0).\n",
        "You decide to move to square 2 and must take the ladder to square 15.\n",
        "You then decide to move to square 17 and must take the snake to square 13.\n",
        "You then decide to move to square 14 and must take the ladder to square 35.\n",
        "You then decide to move to square 36, ending the game.\n",
        "This is the lowest possible number of moves to reach the last square, so return 4.\n",
        "Example 2:\n",
        "\n",
        "Input: board = [[-1,-1],[-1,3]]\n",
        "Output: 1\n",
        " \n",
        "\n",
        "Constraints:\n",
        "\n",
        "n == board.length == board[i].length\n",
        "2 <= n <= 20\n",
        "board[i][j] is either -1 or in the range [1, n2].\n",
        "The squares labeled 1 and n2 are not the starting points of any snake or ladder."
      ]
    }
  ],
  "metadata": {
    "language_info": {
      "name": "python"
    }
  },
  "nbformat": 4,
  "nbformat_minor": 5
}
