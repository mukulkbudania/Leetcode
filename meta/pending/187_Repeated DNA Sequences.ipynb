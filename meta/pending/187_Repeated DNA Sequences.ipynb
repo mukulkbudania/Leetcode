{
 "cells": [
  {
   "cell_type": "markdown",
   "id": "2fac995d",
   "metadata": {},
   "source": [
    "# 187. Repeated DNA Sequences"
   ]
  },
  {
   "cell_type": "markdown",
   "id": "52b5ab1c",
   "metadata": {},
   "source": [
    "The DNA sequence is composed of a series of nucleotides abbreviated as 'A', 'C', 'G', and 'T'.\n",
    "\n",
    "\n",
    "\n",
    "For example, \"ACGAATTCCG\" is a DNA sequence.\n",
    "\n",
    "When studying DNA, it is useful to identify repeated sequences within the DNA.\n",
    "\n",
    "\n",
    "\n",
    "Given a string s that represents a DNA sequence, return all the 10-letter-long sequences (substrings) that occur more than once in a DNA molecule. You may return the answer in any order.\n",
    "\n",
    "\n",
    "\n",
    " \n",
    "\n",
    "\n",
    "\n",
    "**Example 1:**\n",
    "\n",
    "\n",
    "\n",
    "Input: s = \"AAAAACCCCCAAAAACCCCCCAAAAAGGGTTT\"\n",
    "\n",
    "Output: [\"AAAAACCCCC\",\"CCCCCAAAAA\"]\n",
    "\n",
    "**Example 2:**\n",
    "\n",
    "\n",
    "\n",
    "Input: s = \"AAAAAAAAAAAAA\"\n",
    "\n",
    "Output: [\"AAAAAAAAAA\"]\n",
    "\n",
    " \n",
    "\n",
    "\n",
    "\n",
    "**Constraints:**\n",
    "\n",
    "\n",
    "\n",
    "1 <= s.length <= 105\n",
    "\n",
    "s[i] is either 'A', 'C', 'G', or 'T'."
   ]
  }
 ],
 "metadata": {
  "language_info": {
   "name": "python"
  }
 },
 "nbformat": 4,
 "nbformat_minor": 5
}
