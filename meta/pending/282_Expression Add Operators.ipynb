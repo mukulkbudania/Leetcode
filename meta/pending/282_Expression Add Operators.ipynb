{
  "cells": [
    {
      "cell_type": "markdown",
      "id": "2115d1ce",
      "metadata": {},
      "source": [
        "Given a string num that contains only digits and an integer target, return all possibilities to insert the binary operators '+', '-', and/or '*' between the digits of num so that the resultant expression evaluates to the target value.\n",
        "\n",
        "Note that operands in the returned expressions should not contain leading zeros.\n",
        "\n",
        "Note that a number can contain multiple digits.\n",
        "\n",
        " \n",
        "\n",
        "Example 1:\n",
        "\n",
        "Input: num = \"123\", target = 6\n",
        "Output: [\"1*2*3\",\"1+2+3\"]\n",
        "Explanation: Both \"1*2*3\" and \"1+2+3\" evaluate to 6.\n",
        "Example 2:\n",
        "\n",
        "Input: num = \"232\", target = 8\n",
        "Output: [\"2*3+2\",\"2+3*2\"]\n",
        "Explanation: Both \"2*3+2\" and \"2+3*2\" evaluate to 8.\n",
        "Example 3:\n",
        "\n",
        "Input: num = \"3456237490\", target = 9191\n",
        "Output: []\n",
        "Explanation: There are no expressions that can be created from \"3456237490\" to evaluate to 9191.\n",
        " \n",
        "\n",
        "Constraints:\n",
        "\n",
        "1 <= num.length <= 10\n",
        "num consists of only digits.\n",
        "-231 <= target <= 231 - 1"
      ]
    }
  ],
  "metadata": {
    "language_info": {
      "name": "python"
    }
  },
  "nbformat": 4,
  "nbformat_minor": 5
}
