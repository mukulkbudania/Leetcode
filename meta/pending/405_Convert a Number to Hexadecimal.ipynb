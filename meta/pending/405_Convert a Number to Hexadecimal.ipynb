{
  "cells": [
    {
      "cell_type": "markdown",
      "id": "e62c2ca3",
      "metadata": {},
      "source": [
        "Given a 32-bit integer num, return a string representing its hexadecimal representation. For negative integers, two’s complement method is used.\n",
        "\n",
        "All the letters in the answer string should be lowercase characters, and there should not be any leading zeros in the answer except for the zero itself.\n",
        "\n",
        "Note: You are not allowed to use any built-in library method to directly solve this problem.\n",
        "\n",
        " \n",
        "\n",
        "Example 1:\n",
        "\n",
        "Input: num = 26\n",
        "Output: \"1a\"\n",
        "Example 2:\n",
        "\n",
        "Input: num = -1\n",
        "Output: \"ffffffff\"\n",
        " \n",
        "\n",
        "Constraints:\n",
        "\n",
        "-231 <= num <= 231 - 1"
      ]
    }
  ],
  "metadata": {
    "language_info": {
      "name": "python"
    }
  },
  "nbformat": 4,
  "nbformat_minor": 5
}
