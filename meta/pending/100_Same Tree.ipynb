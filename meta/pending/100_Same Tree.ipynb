{
  "cells": [
    {
      "cell_type": "markdown",
      "id": "657c1912",
      "metadata": {},
      "source": [
        "Given the roots of two binary trees p and q, write a function to check if they are the same or not.\n",
        "\n",
        "Two binary trees are considered the same if they are structurally identical, and the nodes have the same value.\n",
        "\n",
        " \n",
        "\n",
        "Example 1:\n",
        "\n",
        "\n",
        "Input: p = [1,2,3], q = [1,2,3]\n",
        "Output: true\n",
        "Example 2:\n",
        "\n",
        "\n",
        "Input: p = [1,2], q = [1,null,2]\n",
        "Output: false\n",
        "Example 3:\n",
        "\n",
        "\n",
        "Input: p = [1,2,1], q = [1,1,2]\n",
        "Output: false\n",
        " \n",
        "\n",
        "Constraints:\n",
        "\n",
        "The number of nodes in both trees is in the range [0, 100].\n",
        "-104 <= Node.val <= 104\n"
      ]
    }
  ],
  "metadata": {
    "language_info": {
      "name": "python"
    }
  },
  "nbformat": 4,
  "nbformat_minor": 5
}
