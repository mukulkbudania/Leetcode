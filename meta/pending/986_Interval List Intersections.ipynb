{
  "cells": [
    {
      "cell_type": "markdown",
      "id": "b7f898e3",
      "metadata": {},
      "source": [
        "You are given two lists of closed intervals, firstList and secondList, where firstList[i] = [starti, endi] and secondList[j] = [startj, endj]. Each list of intervals is pairwise disjoint and in sorted order.\n",
        "\n",
        "Return the intersection of these two interval lists.\n",
        "\n",
        "A closed interval [a, b] (with a <= b) denotes the set of real numbers x with a <= x <= b.\n",
        "\n",
        "The intersection of two closed intervals is a set of real numbers that are either empty or represented as a closed interval. For example, the intersection of [1, 3] and [2, 4] is [2, 3].\n",
        "\n",
        " \n",
        "\n",
        "Example 1:\n",
        "\n",
        "\n",
        "Input: firstList = [[0,2],[5,10],[13,23],[24,25]], secondList = [[1,5],[8,12],[15,24],[25,26]]\n",
        "Output: [[1,2],[5,5],[8,10],[15,23],[24,24],[25,25]]\n",
        "Example 2:\n",
        "\n",
        "Input: firstList = [[1,3],[5,9]], secondList = []\n",
        "Output: []\n",
        " \n",
        "\n",
        "Constraints:\n",
        "\n",
        "0 <= firstList.length, secondList.length <= 1000\n",
        "firstList.length + secondList.length >= 1\n",
        "0 <= starti < endi <= 109\n",
        "endi < starti+1\n",
        "0 <= startj < endj <= 109 \n",
        "endj < startj+1"
      ]
    }
  ],
  "metadata": {
    "language_info": {
      "name": "python"
    }
  },
  "nbformat": 4,
  "nbformat_minor": 5
}
