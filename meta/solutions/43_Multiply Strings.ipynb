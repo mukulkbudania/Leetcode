{
  "cells": [
    {
      "cell_type": "markdown",
      "metadata": {},
      "source": [
        "# 43. Multiply Strings"
      ]
    },
    {
      "cell_type": "markdown",
      "metadata": {},
      "source": [
        "Given two non-negative integers num1 and num2 represented as strings, return the product of num1 and num2, also represented as a string.",
        "",
        "",
        "",
        "Note: You must not use any built-in BigInteger library or convert the inputs to integer directly.",
        "",
        "",
        "",
        " ",
        "",
        "",
        "",
        "**Example 1:**",
        "",
        "",
        "",
        "Input: num1 = \"2\", num2 = \"3\"",
        "",
        "Output: \"6\"",
        "",
        "**Example 2:**",
        "",
        "",
        "",
        "Input: num1 = \"123\", num2 = \"456\"",
        "",
        "Output: \"56088\"",
        "",
        " ",
        "",
        "",
        "",
        "**Constraints:**",
        "",
        "",
        "",
        "1 <= num1.length, num2.length <= 200",
        "",
        "num1 and num2 consist of digits only.",
        "",
        "Both num1 and num2 do not contain any leading zero, except the number 0 itself."
      ]
    },
    {
      "cell_type": "markdown",
      "metadata": {},
      "source": [
        "## Solution Explanation\n",
        "This problem asks us to multiply two large numbers represented as strings without converting them to integers directly. To solve this, we'll implement the standard multiplication algorithm that we learn in school:",
        "",
        "1. Multiply each digit of the second number with the entire first number",
        "2. Shift the result based on the position of the digit in the second number",
        "3. Sum up all the intermediate results",
        "",
        "For example, to multiply 123 \u00d7 456:",
        "* 6 \u00d7 123 = 738",
        "* 5 \u00d7 123 = 615, shifted by one position: 6150",
        "* 4 \u00d7 123 = 492, shifted by two positions: 49200",
        "* Sum: 738 + 6150 + 49200 = 56088",
        "",
        "To optimize this process, we can use an array to store intermediate results and then convert the final result to a string. This approach avoids string concatenation operations which can be inefficient."
      ]
    },
    {
      "cell_type": "code",
      "metadata": {},
      "source": [
        "def multiply(num1: str, num2: str) -> str:",
        "    # Handle edge cases",
        "    if num1 == \"0\" or num2 == \"0\":",
        "        return \"0\"",
        "    ",
        "    # Initialize result array with zeros",
        "    # The maximum length of the product will be len(num1) + len(num2)",
        "    result = [0] * (len(num1) + len(num2))",
        "    ",
        "    # Multiply each digit and add to result",
        "    for i in range(len(num1) - 1, -1, -1):",
        "        for j in range(len(num2) - 1, -1, -1):",
        "            # Calculate position in result array",
        "            p1 = i + j",
        "            p2 = i + j + 1",
        "            ",
        "            # Multiply digits and add to existing value",
        "            mul = int(num1[i]) * int(num2[j])",
        "            total = mul + result[p2]",
        "            ",
        "            # Update result array",
        "            result[p1] += total // 10",
        "            result[p2] = total % 10",
        "    ",
        "    # Convert result to string, removing leading zeros",
        "    result_str = ''.join(map(str, result))",
        "    return result_str.lstrip('0') or \"0\"",
        ""
      ],
      "execution_count": null,
      "outputs": []
    },
    {
      "cell_type": "markdown",
      "metadata": {},
      "source": [
        "## Time and Space Complexity\n",
        "* *Time Complexity**: O(m * n), where m and n are the lengths of num1 and num2 respectively. We perform a nested loop where we iterate through each digit of both numbers.",
        "* *Space Complexity**: O(m + n) for the result array that stores the product. The maximum length of the product of two numbers with lengths m and n is m + n."
      ]
    },
    {
      "cell_type": "markdown",
      "metadata": {},
      "source": [
        "## Test Cases\n"
      ]
    },
    {
      "cell_type": "code",
      "metadata": {},
      "source": [
        "def test_multiply():",
        "    # Test case 1: Basic multiplication",
        "    assert multiply(\"2\", \"3\") == \"6\"",
        "    ",
        "    # Test case 2: Larger numbers",
        "    assert multiply(\"123\", \"456\") == \"56088\"",
        "    ",
        "    # Test case 3: Multiplication with zero",
        "    assert multiply(\"0\", \"123\") == \"0\"",
        "    assert multiply(\"123\", \"0\") == \"0\"",
        "    ",
        "    # Test case 4: Single digit multiplication",
        "    assert multiply(\"9\", \"9\") == \"81\"",
        "    ",
        "    # Test case 5: Large numbers",
        "    assert multiply(\"9999\", \"9999\") == \"99980001\"",
        "    ",
        "    # Test case 6: Different length numbers",
        "    assert multiply(\"12\", \"345\") == \"4140\"",
        "    ",
        "    # Test case 7: Edge case - both numbers are 1",
        "    assert multiply(\"1\", \"1\") == \"1\"",
        "    ",
        "    print(\"All test cases passed!\")",
        "",
        "# Run the tests",
        "test_multiply()",
        ""
      ],
      "execution_count": null,
      "outputs": []
    }
  ],
  "metadata": {
    "kernelspec": {
      "display_name": "Python 3",
      "language": "python",
      "name": "python3"
    },
    "language_info": {
      "codemirror_mode": {
        "name": "ipython",
        "version": 3
      },
      "file_extension": ".py",
      "mimetype": "text/x-python",
      "name": "python",
      "nbconvert_exporter": "python",
      "pygments_lexer": "ipython3",
      "version": "3.11.9"
    }
  },
  "nbformat": 4,
  "nbformat_minor": 5
}