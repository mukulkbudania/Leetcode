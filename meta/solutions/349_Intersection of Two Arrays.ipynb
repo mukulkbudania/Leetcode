{
  "cells": [
    {
      "cell_type": "markdown",
      "metadata": {},
      "source": [
        "# 349. Intersection of Two Arrays"
      ]
    },
    {
      "cell_type": "markdown",
      "metadata": {},
      "source": [
        "Given two integer arrays nums1 and nums2, return an array of their intersection. Each element in the result must be unique and you may return the result in any order.",
        "",
        "",
        "",
        " ",
        "",
        "",
        "",
        "**Example 1:**",
        "",
        "",
        "",
        "Input: nums1 = [1,2,2,1], nums2 = [2,2]",
        "",
        "Output: [2]",
        "",
        "**Example 2:**",
        "",
        "",
        "",
        "Input: nums1 = [4,9,5], nums2 = [9,4,9,8,4]",
        "",
        "Output: [9,4]",
        "",
        "Explanation: [4,9] is also accepted.",
        "",
        " ",
        "",
        "",
        "",
        "**Constraints:**",
        "",
        "",
        "",
        "1 <= nums1.length, nums2.length <= 1000",
        "",
        "0 <= nums1[i], nums2[i] <= 1000"
      ]
    },
    {
      "cell_type": "markdown",
      "metadata": {},
      "source": [
        "## Solution Explanation\n",
        "To find the intersection of two arrays where each element in the result must be unique, we need to:",
        "",
        "1. Convert one of the arrays to a set to eliminate duplicates",
        "2. Iterate through the other array and check if each element exists in the set",
        "3. If it does, add it to our result set (to ensure uniqueness)",
        "4. Convert the result set back to a list",
        "",
        "This approach is efficient because set lookups are O(1) on average, which means we can check if an element exists in a set in constant time. By converting the first array to a set, we eliminate duplicates and create a fast lookup structure. Then we only need to iterate through the second array once, checking for each element if it exists in our set."
      ]
    },
    {
      "cell_type": "code",
      "metadata": {},
      "source": [
        "def intersection(nums1, nums2):",
        "    \"\"\"",
        "    :type nums1: List[int]",
        "    :type nums2: List[int]",
        "    :rtype: List[int]",
        "    \"\"\"",
        "    # Convert nums1 to a set for O(1) lookups and to remove duplicates",
        "    set1 = set(nums1)",
        "    ",
        "    # Create a result set to store intersection elements",
        "    result = set()",
        "    ",
        "    # Check each element in nums2",
        "    for num in nums2:",
        "        if num in set1:",
        "            result.add(num)",
        "    ",
        "    # Convert result set back to a list",
        "    return list(result)",
        ""
      ],
      "execution_count": null,
      "outputs": []
    },
    {
      "cell_type": "markdown",
      "metadata": {},
      "source": [
        "## Time and Space Complexity\n",
        "* *Time Complexity**: O(n + m) where n is the length of nums1 and m is the length of nums2.",
        "* Converting nums1 to a set takes O(n) time",
        "* Iterating through nums2 takes O(m) time",
        "* Each lookup in the set is O(1) on average",
        "* Converting the result set back to a list takes O(k) time where k is the size of the intersection, but k \u2264 min(n, m)",
        "* *Space Complexity**: O(n + k) where n is the length of nums1 and k is the size of the intersection.",
        "* The set created from nums1 takes O(n) space",
        "* The result set takes O(k) space where k is the size of the intersection"
      ]
    },
    {
      "cell_type": "markdown",
      "metadata": {},
      "source": [
        "## Test Cases\n"
      ]
    },
    {
      "cell_type": "code",
      "metadata": {},
      "source": [
        "def test_intersection():",
        "    # Test case 1: Example from the problem",
        "    assert set(intersection([1, 2, 2, 1], [2, 2])) == set([2])",
        "    ",
        "    # Test case 2: Example from the problem",
        "    assert set(intersection([4, 9, 5], [9, 4, 9, 8, 4])) == set([9, 4])",
        "    ",
        "    # Test case 3: No intersection",
        "    assert intersection([1, 2, 3], [4, 5, 6]) == []",
        "    ",
        "    # Test case 4: One empty array",
        "    assert intersection([], [1, 2, 3]) == []",
        "    ",
        "    # Test case 5: Both arrays are the same",
        "    assert set(intersection([1, 2, 3], [1, 2, 3])) == set([1, 2, 3])",
        "    ",
        "    # Test case 6: Edge case with maximum values",
        "    assert set(intersection([0, 1000], [0, 1000])) == set([0, 1000])",
        "    ",
        "    print(\"All test cases passed!\")",
        "",
        "# Run the tests",
        "test_intersection()",
        ""
      ],
      "execution_count": null,
      "outputs": []
    }
  ],
  "metadata": {
    "kernelspec": {
      "display_name": "Python 3",
      "language": "python",
      "name": "python3"
    },
    "language_info": {
      "codemirror_mode": {
        "name": "ipython",
        "version": 3
      },
      "file_extension": ".py",
      "mimetype": "text/x-python",
      "name": "python",
      "nbconvert_exporter": "python",
      "pygments_lexer": "ipython3",
      "version": "3.11.9"
    }
  },
  "nbformat": 4,
  "nbformat_minor": 5
}