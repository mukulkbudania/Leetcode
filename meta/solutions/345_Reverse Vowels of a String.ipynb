{
  "cells": [
    {
      "cell_type": "markdown",
      "metadata": {},
      "source": [
        "# 345. Reverse Vowels of a String"
      ]
    },
    {
      "cell_type": "markdown",
      "metadata": {},
      "source": [
        "Given a string s, reverse only all the vowels in the string and return it.",
        "",
        "",
        "",
        "The vowels are 'a', 'e', 'i', 'o', and 'u', and they can appear in both lower and upper cases, more than once.",
        "",
        "",
        "",
        " ",
        "",
        "",
        "",
        "**Example 1:**",
        "",
        "",
        "",
        "Input: s = \"IceCreAm\"",
        "",
        "",
        "",
        "Output: \"AceCreIm\"",
        "",
        "",
        "",
        "Explanation:",
        "",
        "",
        "",
        "The vowels in s are ['I', 'e', 'e', 'A']. On reversing the vowels, s becomes \"AceCreIm\".",
        "",
        "",
        "",
        "**Example 2:**",
        "",
        "",
        "",
        "Input: s = \"leetcode\"",
        "",
        "",
        "",
        "Output: \"leotcede\"",
        "",
        "",
        "",
        " ",
        "",
        "",
        "",
        "**Constraints:**",
        "",
        "",
        "",
        "1 <= s.length <= 3 * 105",
        "",
        "s consist of printable ASCII characters."
      ]
    },
    {
      "cell_type": "markdown",
      "metadata": {},
      "source": [
        "## Solution Explanation\n",
        "To reverse only the vowels in a string, we can use a two-pointer approach:",
        "",
        "1. Initialize two pointers: one at the beginning of the string and one at the end.",
        "2. Move the left pointer to the right until it points to a vowel.",
        "3. Move the right pointer to the left until it points to a vowel.",
        "4. Swap the characters at these two positions.",
        "5. Repeat steps 2-4 until the left pointer meets or crosses the right pointer.",
        "",
        "Since strings in Python are immutable, we'll convert the string to a list of characters first, perform the swaps, and then join the list back into a string.",
        "",
        "The key insight is that we only want to swap vowels while keeping all other characters in their original positions. By using two pointers moving from opposite ends, we ensure that the vowels are reversed in order."
      ]
    },
    {
      "cell_type": "code",
      "metadata": {},
      "source": [
        "def reverseVowels(s: str) -> str:",
        "    # Convert string to list for easier manipulation",
        "    chars = list(s)",
        "    ",
        "    # Define a set of vowels (both lowercase and uppercase)",
        "    vowels = set('aeiouAEIOU')",
        "    ",
        "    # Initialize two pointers",
        "    left, right = 0, len(s) - 1",
        "    ",
        "    while left < right:",
        "        # Move left pointer until it points to a vowel",
        "        while left < right and chars[left] not in vowels:",
        "            left += 1",
        "        ",
        "        # Move right pointer until it points to a vowel",
        "        while left < right and chars[right] not in vowels:",
        "            right -= 1",
        "        ",
        "        # Swap the vowels",
        "        chars[left], chars[right] = chars[right], chars[left]",
        "        ",
        "        # Move pointers for next iteration",
        "        left += 1",
        "        right -= 1",
        "    ",
        "    # Convert list back to string",
        "    return ''.join(chars)",
        ""
      ],
      "execution_count": null,
      "outputs": []
    },
    {
      "cell_type": "markdown",
      "metadata": {},
      "source": [
        "## Time and Space Complexity\n",
        "* *Time Complexity**: O(n), where n is the length of the input string. We traverse the string once with our two pointers, and each character is visited at most once.",
        "* *Space Complexity**: O(n) for the list of characters we create from the input string. The set of vowels takes constant space O(1) as it always contains exactly 10 characters (5 lowercase and 5 uppercase vowels)."
      ]
    },
    {
      "cell_type": "markdown",
      "metadata": {},
      "source": [
        "## Test Cases\n"
      ]
    },
    {
      "cell_type": "code",
      "metadata": {},
      "source": [
        "def test_reverseVowels():",
        "    # Test case 1: Example from problem statement",
        "    assert reverseVowels(\"IceCreAm\") == \"AceCreIm\"",
        "    ",
        "    # Test case 2: Example from problem statement",
        "    assert reverseVowels(\"leetcode\") == \"leotcede\"",
        "    ",
        "    # Test case 3: No vowels",
        "    assert reverseVowels(\"xyz\") == \"xyz\"",
        "    ",
        "    # Test case 4: All vowels",
        "    assert reverseVowels(\"aeiou\") == \"uoiea\"",
        "    ",
        "    # Test case 5: Empty string",
        "    assert reverseVowels(\"\") == \"\"",
        "    ",
        "    # Test case 6: Single character (vowel)",
        "    assert reverseVowels(\"a\") == \"a\"",
        "    ",
        "    # Test case 7: Single character (consonant)",
        "    assert reverseVowels(\"b\") == \"b\"",
        "    ",
        "    # Test case 8: Mixed case vowels",
        "    assert reverseVowels(\"aEiOu\") == \"uOiEa\"",
        "    ",
        "    # Test case 9: Longer string with spaces and special characters",
        "    assert reverseVowels(\"hello world!\") == \"hollo werld!\"",
        "    ",
        "    print(\"All test cases passed!\")",
        "",
        "# Run the tests",
        "test_reverseVowels()",
        ""
      ],
      "execution_count": null,
      "outputs": []
    }
  ],
  "metadata": {
    "kernelspec": {
      "display_name": "Python 3",
      "language": "python",
      "name": "python3"
    },
    "language_info": {
      "codemirror_mode": {
        "name": "ipython",
        "version": 3
      },
      "file_extension": ".py",
      "mimetype": "text/x-python",
      "name": "python",
      "nbconvert_exporter": "python",
      "pygments_lexer": "ipython3",
      "version": "3.11.9"
    }
  },
  "nbformat": 4,
  "nbformat_minor": 5
}