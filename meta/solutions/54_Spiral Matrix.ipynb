{
  "cells": [
    {
      "cell_type": "markdown",
      "metadata": {},
      "source": [
        "# 54. Spiral Matrix"
      ]
    },
    {
      "cell_type": "markdown",
      "metadata": {},
      "source": [
        "Given an m x n matrix, return all elements of the matrix in spiral order.",
        "",
        "",
        "",
        " ",
        "",
        "",
        "",
        "**Example 1:**",
        "",
        "",
        "",
        "",
        "",
        "Input: matrix = [[1,2,3],[4,5,6],[7,8,9]]",
        "",
        "Output: [1,2,3,6,9,8,7,4,5]",
        "",
        "**Example 2:**",
        "",
        "",
        "",
        "",
        "",
        "Input: matrix = [[1,2,3,4],[5,6,7,8],[9,10,11,12]]",
        "",
        "Output: [1,2,3,4,8,12,11,10,9,5,6,7]",
        "",
        " ",
        "",
        "",
        "",
        "**Constraints:**",
        "",
        "",
        "",
        "m == matrix.length",
        "",
        "n == matrix[i].length",
        "",
        "1 <= m, n <= 10",
        "",
        "-100 <= matrix[i][j] <= 100"
      ]
    },
    {
      "cell_type": "markdown",
      "metadata": {},
      "source": [
        "## Solution Explanation\n",
        "To solve this problem, we need to traverse the matrix in a spiral order. The spiral traversal follows a pattern of going right, down, left, and up repeatedly until all elements are visited.",
        "",
        "The approach is to define four boundaries: top, right, bottom, and left. We'll traverse the matrix in four directions:",
        "1. From left to right along the top boundary",
        "2. From top to bottom along the right boundary",
        "3. From right to left along the bottom boundary",
        "4. From bottom to top along the left boundary",
        "",
        "After each traversal, we update the corresponding boundary (top increases, right decreases, bottom decreases, left increases). We continue this process until all elements are visited, which happens when the top boundary exceeds the bottom boundary or the left boundary exceeds the right boundary."
      ]
    },
    {
      "cell_type": "code",
      "metadata": {},
      "source": [
        "def spiralOrder(matrix):",
        "    if not matrix:",
        "        return []",
        "    ",
        "    result = []",
        "    top, bottom = 0, len(matrix) - 1",
        "    left, right = 0, len(matrix[0]) - 1",
        "    ",
        "    while top <= bottom and left <= right:",
        "        # Traverse right",
        "        for j in range(left, right + 1):",
        "            result.append(matrix[top][j])",
        "        top += 1",
        "        ",
        "        # Traverse down",
        "        for i in range(top, bottom + 1):",
        "            result.append(matrix[i][right])",
        "        right -= 1",
        "        ",
        "        # Traverse left",
        "        if top <= bottom:  # Check if there are rows left",
        "            for j in range(right, left - 1, -1):",
        "                result.append(matrix[bottom][j])",
        "            bottom -= 1",
        "        ",
        "        # Traverse up",
        "        if left <= right:  # Check if there are columns left",
        "            for i in range(bottom, top - 1, -1):",
        "                result.append(matrix[i][left])",
        "            left += 1",
        "    ",
        "    return result",
        ""
      ],
      "execution_count": null,
      "outputs": []
    },
    {
      "cell_type": "markdown",
      "metadata": {},
      "source": [
        "## Time and Space Complexity\n",
        "* *Time Complexity**: O(m*n), where m is the number of rows and n is the number of columns in the matrix. We visit each element in the matrix exactly once.",
        "* *Space Complexity**: O(1) for the algorithm itself, excluding the space required for the output. If we include the output array, then the space complexity is O(m*n) since we need to store all elements of the matrix in the result array."
      ]
    },
    {
      "cell_type": "markdown",
      "metadata": {},
      "source": [
        "## Test Cases\n"
      ]
    },
    {
      "cell_type": "code",
      "metadata": {},
      "source": [
        "def test_spiral_order():",
        "    # Test case 1: Standard 3x3 matrix",
        "    matrix1 = [[1, 2, 3], [4, 5, 6], [7, 8, 9]]",
        "    assert spiralOrder(matrix1) == [1, 2, 3, 6, 9, 8, 7, 4, 5]",
        "    ",
        "    # Test case 2: Non-square matrix",
        "    matrix2 = [[1, 2, 3, 4], [5, 6, 7, 8], [9, 10, 11, 12]]",
        "    assert spiralOrder(matrix2) == [1, 2, 3, 4, 8, 12, 11, 10, 9, 5, 6, 7]",
        "    ",
        "    # Test case 3: Single row matrix",
        "    matrix3 = [[1, 2, 3, 4]]",
        "    assert spiralOrder(matrix3) == [1, 2, 3, 4]",
        "    ",
        "    # Test case 4: Single column matrix",
        "    matrix4 = [[1], [2], [3], [4]]",
        "    assert spiralOrder(matrix4) == [1, 2, 3, 4]",
        "    ",
        "    # Test case 5: Empty matrix",
        "    matrix5 = []",
        "    assert spiralOrder(matrix5) == []",
        "    ",
        "    # Test case 6: 1x1 matrix",
        "    matrix6 = [[7]]",
        "    assert spiralOrder(matrix6) == [7]",
        "    ",
        "    print(\"All test cases passed!\")",
        "",
        "# Run the tests",
        "test_spiral_order()",
        ""
      ],
      "execution_count": null,
      "outputs": []
    }
  ],
  "metadata": {
    "kernelspec": {
      "display_name": "Python 3",
      "language": "python",
      "name": "python3"
    },
    "language_info": {
      "codemirror_mode": {
        "name": "ipython",
        "version": 3
      },
      "file_extension": ".py",
      "mimetype": "text/x-python",
      "name": "python",
      "nbconvert_exporter": "python",
      "pygments_lexer": "ipython3",
      "version": "3.11.9"
    }
  },
  "nbformat": 4,
  "nbformat_minor": 5
}