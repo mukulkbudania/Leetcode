{
  "cells": [
    {
      "cell_type": "markdown",
      "metadata": {},
      "source": [
        "# 560. Subarray Sum Equals K"
      ]
    },
    {
      "cell_type": "markdown",
      "metadata": {},
      "source": [
        "Given an array of integers nums and an integer k, return the total number of subarrays whose sum equals to k.",
        "",
        "",
        "",
        "A subarray is a contiguous non-empty sequence of elements within an array.",
        "",
        "",
        "",
        " ",
        "",
        "",
        "",
        "**Example 1:**",
        "",
        "",
        "",
        "Input: nums = [1,1,1], k = 2",
        "",
        "Output: 2",
        "",
        "**Example 2:**",
        "",
        "",
        "",
        "Input: nums = [1,2,3], k = 3",
        "",
        "Output: 2",
        "",
        " ",
        "",
        "",
        "",
        "**Constraints:**",
        "",
        "",
        "",
        "1 <= nums.length <= 2 * 104",
        "",
        "-1000 <= nums[i] <= 1000",
        "",
        "-107 <= k <= 107"
      ]
    },
    {
      "cell_type": "markdown",
      "metadata": {},
      "source": [
        "## Solution Explanation\n",
        "This problem asks us to find the number of contiguous subarrays whose sum equals k. A naive approach would be to check all possible subarrays, which would be O(n\u00b2) time complexity. However, we can solve this more efficiently using a prefix sum approach with a hash map.",
        "",
        "The key insight is to track the running sum as we iterate through the array. For each position, we check if (running_sum - k) exists in our hash map. If it does, it means there's a subarray ending at the current position with sum k.",
        "",
        "Here's the approach:",
        "1. Initialize a hash map to store prefix sums and their frequencies, with {0: 1} to account for subarrays starting from the beginning.",
        "2. Initialize variables for the running sum and count of valid subarrays.",
        "3. Iterate through the array:",
        "* Update the running sum with the current element.",
        "* Check if (running_sum - k) exists in the hash map. If yes, add its frequency to our count.",
        "* Update the hash map with the current running sum.",
        "4. Return the final count."
      ]
    },
    {
      "cell_type": "code",
      "metadata": {},
      "source": [
        "def subarraySum(nums, k):",
        "    \"\"\"",
        "    :type nums: List[int]",
        "    :type k: int",
        "    :rtype: int",
        "    \"\"\"",
        "    # Hash map to store prefix sum frequencies",
        "    prefix_sum_count = {0: 1}  # Initialize with 0 having count 1 for subarrays starting from beginning",
        "    ",
        "    current_sum = 0",
        "    count = 0",
        "    ",
        "    for num in nums:",
        "        # Update running sum",
        "        current_sum += num",
        "        ",
        "        # If (current_sum - k) exists in the hash map, it means we have subarrays with sum k",
        "        if current_sum - k in prefix_sum_count:",
        "            count += prefix_sum_count[current_sum - k]",
        "        ",
        "        # Update the prefix sum frequency",
        "        prefix_sum_count[current_sum] = prefix_sum_count.get(current_sum, 0) + 1",
        "    ",
        "    return count",
        ""
      ],
      "execution_count": null,
      "outputs": []
    },
    {
      "cell_type": "markdown",
      "metadata": {},
      "source": [
        "## Time and Space Complexity\n",
        "* *Time Complexity**: O(n) where n is the length of the input array. We iterate through the array once, and hash map operations are O(1) on average.",
        "* *Space Complexity**: O(n) in the worst case, where we might need to store up to n different prefix sums in our hash map. This happens when all prefix sums are unique."
      ]
    },
    {
      "cell_type": "markdown",
      "metadata": {},
      "source": [
        "## Test Cases\n"
      ]
    },
    {
      "cell_type": "code",
      "metadata": {},
      "source": [
        "def test_subarray_sum():",
        "    # Test case 1: Example from problem statement",
        "    assert subarraySum([1, 1, 1], 2) == 2, \"Test case 1 failed\"",
        "    ",
        "    # Test case 2: Example from problem statement",
        "    assert subarraySum([1, 2, 3], 3) == 2, \"Test case 2 failed\"",
        "    ",
        "    # Test case 3: Single element equal to k",
        "    assert subarraySum([5], 5) == 1, \"Test case 3 failed\"",
        "    ",
        "    # Test case 4: No subarrays with sum k",
        "    assert subarraySum([1, 2, 3], 6) == 0, \"Test case 4 failed\"",
        "    ",
        "    # Test case 5: Array with negative numbers",
        "    assert subarraySum([1, -1, 1, -1], 0) == 4, \"Test case 5 failed\"",
        "    ",
        "    # Test case 6: Larger array with multiple valid subarrays",
        "    assert subarraySum([3, 4, 7, 2, -3, 1, 4, 2], 7) == 4, \"Test case 6 failed\"",
        "    ",
        "    # Test case 7: Empty array",
        "    assert subarraySum([], 5) == 0, \"Test case 7 failed\"",
        "    ",
        "    # Test case 8: k = 0 with zeros in array",
        "    assert subarraySum([0, 0, 0], 0) == 6, \"Test case 8 failed\"",
        "    ",
        "    print(\"All test cases passed!\")",
        "",
        "# Run the tests",
        "test_subarray_sum()",
        ""
      ],
      "execution_count": null,
      "outputs": []
    }
  ],
  "metadata": {
    "kernelspec": {
      "display_name": "Python 3",
      "language": "python",
      "name": "python3"
    },
    "language_info": {
      "codemirror_mode": {
        "name": "ipython",
        "version": 3
      },
      "file_extension": ".py",
      "mimetype": "text/x-python",
      "name": "python",
      "nbconvert_exporter": "python",
      "pygments_lexer": "ipython3",
      "version": "3.11.9"
    }
  },
  "nbformat": 4,
  "nbformat_minor": 5
}