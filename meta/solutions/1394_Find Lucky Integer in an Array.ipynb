{
  "cells": [
    {
      "cell_type": "markdown",
      "metadata": {},
      "source": [
        "# 1394. Find Lucky Integer in an Array"
      ]
    },
    {
      "cell_type": "markdown",
      "metadata": {},
      "source": [
        "Given an array of integers arr, a lucky integer is an integer that has a frequency in the array equal to its value.",
        "",
        "",
        "",
        "Return the largest lucky integer in the array. If there is no lucky integer return -1.",
        "",
        "",
        "",
        " ",
        "",
        "",
        "",
        "**Example 1:**",
        "",
        "",
        "",
        "Input: arr = [2,2,3,4]",
        "",
        "Output: 2",
        "",
        "Explanation: The only lucky number in the array is 2 because frequency[2] == 2.",
        "",
        "**Example 2:**",
        "",
        "",
        "",
        "Input: arr = [1,2,2,3,3,3]",
        "",
        "Output: 3",
        "",
        "Explanation: 1, 2 and 3 are all lucky numbers, return the largest of them.",
        "",
        "**Example 3:**",
        "",
        "",
        "",
        "Input: arr = [2,2,2,3,3]",
        "",
        "Output: -1",
        "",
        "Explanation: There are no lucky numbers in the array.",
        "",
        " ",
        "",
        "",
        "",
        "**Constraints:**",
        "",
        "",
        "",
        "1 <= arr.length <= 500",
        "",
        "1 <= arr[i] <= 500"
      ]
    },
    {
      "cell_type": "markdown",
      "metadata": {},
      "source": [
        "## Solution Explanation\n",
        "To solve this problem, we need to find the largest integer in the array whose frequency equals its value.",
        "",
        "The approach is straightforward:",
        "1. Count the frequency of each integer in the array",
        "2. Iterate through the frequency counts",
        "3. Find the largest number where the frequency equals the number itself",
        "4. If no such number exists, return -1",
        "",
        "We can use a hash map (dictionary in Python) to count the frequencies efficiently. Then we'll check each number to see if it's \"lucky\" (frequency equals value) and keep track of the largest one."
      ]
    },
    {
      "cell_type": "code",
      "metadata": {},
      "source": [
        "def findLucky(arr: list[int]) -> int:",
        "    # Count frequencies using a dictionary",
        "    freq = {}",
        "    for num in arr:",
        "        freq[num] = freq.get(num, 0) + 1",
        "    ",
        "    # Find the largest lucky number",
        "    largest_lucky = -1",
        "    for num, count in freq.items():",
        "        if num == count and num > largest_lucky:",
        "            largest_lucky = num",
        "    ",
        "    return largest_lucky",
        ""
      ],
      "execution_count": null,
      "outputs": []
    },
    {
      "cell_type": "markdown",
      "metadata": {},
      "source": [
        "## Time and Space Complexity\n",
        "* *Time Complexity**: O(n), where n is the length of the input array. We iterate through the array once to count frequencies, and then iterate through the unique elements in the array (which is at most n) to find the largest lucky number.",
        "* *Space Complexity**: O(k), where k is the number of unique elements in the array. In the worst case, all elements are unique, so the space complexity would be O(n). However, given the constraint that all elements are between 1 and 500, the space complexity is bounded by O(500) = O(1)."
      ]
    },
    {
      "cell_type": "markdown",
      "metadata": {},
      "source": [
        "## Test Cases\n"
      ]
    },
    {
      "cell_type": "code",
      "metadata": {},
      "source": [
        "def test_findLucky():",
        "    # Test case 1: Example from problem statement",
        "    assert findLucky([2, 2, 3, 4]) == 2",
        "    ",
        "    # Test case 2: Multiple lucky numbers",
        "    assert findLucky([1, 2, 2, 3, 3, 3]) == 3",
        "    ",
        "    # Test case 3: No lucky numbers",
        "    assert findLucky([2, 2, 2, 3, 3]) == -1",
        "    ",
        "    # Test case 4: Single element array with lucky number",
        "    assert findLucky([1]) == 1",
        "    ",
        "    # Test case 5: Single element array without lucky number",
        "    assert findLucky([5]) == -1",
        "    ",
        "    # Test case 6: Empty array (though problem states arr.length >= 1)",
        "    assert findLucky([]) == -1",
        "    ",
        "    # Test case 7: Array with maximum constraint values",
        "    assert findLucky([500] * 500) == 500",
        "    ",
        "    print(\"All test cases passed!\")",
        "",
        "# Run the tests",
        "test_findLucky()",
        ""
      ],
      "execution_count": null,
      "outputs": []
    }
  ],
  "metadata": {
    "kernelspec": {
      "display_name": "Python 3",
      "language": "python",
      "name": "python3"
    },
    "language_info": {
      "codemirror_mode": {
        "name": "ipython",
        "version": 3
      },
      "file_extension": ".py",
      "mimetype": "text/x-python",
      "name": "python",
      "nbconvert_exporter": "python",
      "pygments_lexer": "ipython3",
      "version": "3.11.9"
    }
  },
  "nbformat": 4,
  "nbformat_minor": 5
}