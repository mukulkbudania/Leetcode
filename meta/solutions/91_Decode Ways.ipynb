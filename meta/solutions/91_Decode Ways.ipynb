{
  "cells": [
    {
      "cell_type": "markdown",
      "metadata": {},
      "source": [
        "# 91. Decode Ways"
      ]
    },
    {
      "cell_type": "markdown",
      "metadata": {},
      "source": [
        "Given an integer array nums that may contain duplicates, return all possible subsets (the power set).",
        "",
        "",
        "",
        "The solution set must not contain duplicate subsets. Return the solution in any order.",
        "",
        "",
        "",
        " ",
        "",
        "",
        "",
        "**Example 1:**",
        "",
        "",
        "",
        "Input: nums = [1,2,2]",
        "",
        "Output: [[],[1],[1,2],[1,2,2],[2],[2,2]]",
        "",
        "**Example 2:**",
        "",
        "",
        "",
        "Input: nums = [0]",
        "",
        "Output: [[],[0]]",
        "",
        " ",
        "",
        "",
        "",
        "**Constraints:**",
        "",
        "",
        "",
        "1 <= nums.length <= 10",
        "",
        "-10 <= nums[i] <= 10"
      ]
    },
    {
      "cell_type": "markdown",
      "metadata": {},
      "source": [
        "## Solution Explanation\n",
        "This problem asks us to find all possible subsets of an array that may contain duplicates, without including duplicate subsets in the result.",
        "",
        "The key challenge is handling duplicates. If we use a standard backtracking approach without any modifications, we'll generate duplicate subsets when the input array contains duplicate elements.",
        "",
        "My approach is to:",
        "1. Sort the array first - this groups duplicate elements together",
        "2. Use backtracking to generate all subsets",
        "3. When deciding whether to include an element, we need to be careful about duplicates:",
        "* If the current element is the same as the previous one, we only include it if we included the previous one",
        "* This prevents generating duplicate subsets",
        "",
        "For example, with [1,2,2]:",
        "* We first include/exclude 1 \u2192 [] and [1]",
        "* For the first 2, we include/exclude \u2192 [], [2], [1], [1,2]",
        "* For the second 2, we only include it if we included the first 2 \u2192 [], [2], [2,2], [1], [1,2], [1,2,2]",
        "",
        "This approach ensures we don't generate duplicate subsets while still exploring all possibilities."
      ]
    },
    {
      "cell_type": "code",
      "metadata": {},
      "source": [
        "def subsetsWithDup(nums):",
        "    nums.sort()  # Sort to handle duplicates",
        "    result = []",
        "    ",
        "    def backtrack(start, current):",
        "        result.append(current[:])  # Add the current subset to result",
        "        ",
        "        for i in range(start, len(nums)):",
        "            # Skip duplicates",
        "            if i > start and nums[i] == nums[i-1]:",
        "                continue",
        "                ",
        "            # Include nums[i] in the current subset",
        "            current.append(nums[i])",
        "            backtrack(i + 1, current)",
        "            current.pop()  # Backtrack",
        "    ",
        "    backtrack(0, [])",
        "    return result",
        ""
      ],
      "execution_count": null,
      "outputs": []
    },
    {
      "cell_type": "markdown",
      "metadata": {},
      "source": [
        "## Time and Space Complexity\n",
        "* *Time Complexity**: O(n * 2^n)",
        "* There are 2^n possible subsets for an array of length n",
        "* For each subset, we might need O(n) time to copy it to the result",
        "* The sorting operation takes O(n log n), but this is dominated by the subset generation",
        "* *Space Complexity**: O(n * 2^n)",
        "* We store all 2^n subsets",
        "* Each subset can have up to n elements",
        "* The recursion stack can go up to n levels deep, but this is dominated by the space needed for the result"
      ]
    },
    {
      "cell_type": "markdown",
      "metadata": {},
      "source": [
        "## Test Cases\n"
      ]
    },
    {
      "cell_type": "code",
      "metadata": {},
      "source": [
        "def test_subsetsWithDup():",
        "    # Test case 1: Array with duplicates",
        "    assert sorted([sorted(subset) for subset in subsetsWithDup([1, 2, 2])]) == sorted([[], [1], [2], [1, 2], [2, 2], [1, 2, 2]])",
        "    ",
        "    # Test case 2: Single element array",
        "    assert sorted([sorted(subset) for subset in subsetsWithDup([0])]) == sorted([[], [0]])",
        "    ",
        "    # Test case 3: Empty array",
        "    assert subsetsWithDup([]) == [[]]",
        "    ",
        "    # Test case 4: Array with multiple duplicates",
        "    result = subsetsWithDup([1, 2, 2, 3, 3])",
        "    expected = [[], [1], [2], [3], [1, 2], [1, 3], [2, 2], [2, 3], [3, 3], ",
        "                [1, 2, 2], [1, 2, 3], [1, 3, 3], [2, 2, 3], [2, 3, 3], ",
        "                [1, 2, 2, 3], [1, 2, 3, 3], [1, 2, 2, 3, 3], [2, 2, 3, 3]]",
        "    assert sorted([sorted(subset) for subset in result]) == sorted([sorted(subset) for subset in expected])",
        "    ",
        "    # Test case 5: Array with negative numbers",
        "    assert sorted([sorted(subset) for subset in subsetsWithDup([-1, 1, 2])]) == sorted([[], [-1], [1], [2], [-1, 1], [-1, 2], [1, 2], [-1, 1, 2]])",
        "    ",
        "    print(\"All test cases passed!\")",
        "",
        "test_subsetsWithDup()",
        ""
      ],
      "execution_count": null,
      "outputs": []
    }
  ],
  "metadata": {
    "kernelspec": {
      "display_name": "Python 3",
      "language": "python",
      "name": "python3"
    },
    "language_info": {
      "codemirror_mode": {
        "name": "ipython",
        "version": 3
      },
      "file_extension": ".py",
      "mimetype": "text/x-python",
      "name": "python",
      "nbconvert_exporter": "python",
      "pygments_lexer": "ipython3",
      "version": "3.11.9"
    }
  },
  "nbformat": 4,
  "nbformat_minor": 5
}