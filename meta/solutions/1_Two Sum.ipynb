{
  "cells": [
    {
      "cell_type": "markdown",
      "metadata": {},
      "source": [
        "# 1. Two Sum"
      ]
    },
    {
      "cell_type": "markdown",
      "metadata": {},
      "source": [
        "Given an array of integers nums and an integer target, return indices of the two numbers such that they add up to target.\n",
        "\n",
        "You may assume that each input would have exactly one solution, and you may not use the same element twice.\n",
        "\n",
        "You can return the answer in any order.\n",
        "\n",
        " \n",
        "\n",
        "**Example 1:**\n",
        "\n",
        "Input: nums = [2,7,11,15], target = 9\n",
        "\n",
        "Output: [0,1]\n",
        "\n",
        "Explanation: Because nums[0] + nums[1] == 9, we return [0, 1].\n",
        "\n",
        "**Example 2:**\n",
        "\n",
        "Input: nums = [3,2,4], target = 6\n",
        "\n",
        "Output: [1,2]\n",
        "\n",
        "**Example 3:**\n",
        "\n",
        "Input: nums = [3,3], target = 6\n",
        "\n",
        "Output: [0,1]\n",
        " \n",
        "\n",
        "**Constraints:**\n",
        "\n",
        "2 <= nums.length <= 104\n",
        "\n",
        "-109 <= nums[i] <= 109\n",
        "\n",
        "-109 <= target <= 109\n",
        "\n",
        "Only one valid answer exists.\n",
        "\n",
        " \n",
        "\n",
        "Follow-up: Can you come up with an algorithm that is less than O(n2) time complexity?"
      ]
    },
    {
      "cell_type": "markdown",
      "id": "73d92c7a",
      "metadata": {},
      "source": [
        "## Solution Explanation\n",
        "To solve this problem efficiently, I'll use a hash map (dictionary in Python) to store the numbers we've seen so far and their indices. The key insight is that for any number `nums[i]`, we need to find another number that equals `target - nums[i]`.\n",
        "\n",
        "The algorithm works as follows:\n",
        "1. Create an empty hash map to store numbers and their indices.\n",
        "2. Iterate through the array with index `i`:\n",
        "* Calculate the complement: `complement = target - nums[i]`\n",
        "* If the complement exists in our hash map, we've found our pair.\n",
        "* Otherwise, add the current number and its index to the hash map.\n",
        "3. Return the indices of the two numbers that add up to the target.\n",
        "\n",
        "This approach allows us to find the solution in a single pass through the array, giving us O(n) time complexity."
      ]
    },
    {
      "cell_type": "code",
      "execution_count": null,
      "id": "ccb753cb",
      "metadata": {},
      "outputs": [],
      "source": [
        "def twoSum(nums, target):\n",
        "    \"\"\"\n",
        "    :type nums: List[int]\n",
        "    :type target: int\n",
        "    :rtype: List[int]\n",
        "    \"\"\"\n",
        "    # Hash map to store numbers and their indices\n",
        "    num_map = {}\n",
        "    \n",
        "    # Iterate through the array\n",
        "    for i, num in enumerate(nums):\n",
        "        # Calculate the complement\n",
        "        complement = target - num\n",
        "        \n",
        "        # If complement exists in the map, return both indices\n",
        "        if complement in num_map:\n",
        "            return [num_map[complement], i]\n",
        "        \n",
        "        # Otherwise, add the current number and its index to the map\n",
        "        num_map[num] = i\n",
        "    \n",
        "    # No solution found (though problem guarantees one exists)\n",
        "    return []\n"
      ]
    },
    {
      "cell_type": "markdown",
      "id": "ece56d63",
      "metadata": {},
      "source": [
        "## Time and Space Complexity\n",
        "* *Time Complexity**: O(n) where n is the length of the input array. We traverse the array once, and hash map operations (lookup and insert) are O(1) on average.\n",
        "* *Space Complexity**: O(n) in the worst case, where we might need to store almost all elements in the hash map before finding the solution. This happens when the two numbers that sum to the target are at the end of the array."
      ]
    },
    {
      "cell_type": "markdown",
      "id": "e8968b45",
      "metadata": {},
      "source": [
        "## Test Cases\n"
      ]
    },
    {
      "cell_type": "code",
      "execution_count": null,
      "id": "12cc9727",
      "metadata": {},
      "outputs": [],
      "source": [
        "def test_twoSum():\n",
        "    # Test case 1: Regular case\n",
        "    assert sorted(twoSum([2, 7, 11, 15], 9)) == sorted([0, 1])\n",
        "    \n",
        "    # Test case 2: Numbers not in order\n",
        "    assert sorted(twoSum([3, 2, 4], 6)) == sorted([1, 2])\n",
        "    \n",
        "    # Test case 3: Duplicate numbers\n",
        "    assert sorted(twoSum([3, 3], 6)) == sorted([0, 1])\n",
        "    \n",
        "    # Test case 4: Negative numbers\n",
        "    assert sorted(twoSum([-1, -2, -3, -4, -5], -8)) == sorted([2, 4])\n",
        "    \n",
        "    # Test case 5: Larger array\n",
        "    assert sorted(twoSum([1, 2, 3, 4, 5, 6, 7, 8, 9, 10], 19)) == sorted([8, 9])\n",
        "    \n",
        "    # Test case 6: Zero and negative numbers\n",
        "    assert sorted(twoSum([-3, 0, 3, 4, 5], 0)) == sorted([0, 2])\n",
        "    \n",
        "    print(\"All test cases passed!\")\n",
        "\n",
        "# Run the tests\n",
        "test_twoSum()\n"
      ]
    }
  ],
  "metadata": {
    "kernelspec": {
      "display_name": "Python 3",
      "language": "python",
      "name": "python3"
    },
    "language_info": {
      "codemirror_mode": {
        "name": "ipython",
        "version": 3
      },
      "file_extension": ".py",
      "mimetype": "text/x-python",
      "name": "python",
      "nbconvert_exporter": "python",
      "pygments_lexer": "ipython3",
      "version": "3.11.9"
    }
  },
  "nbformat": 4,
  "nbformat_minor": 5
}
