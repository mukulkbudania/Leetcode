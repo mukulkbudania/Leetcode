{
  "cells": [
    {
      "cell_type": "markdown",
      "metadata": {},
      "source": [
        "# 1557. Minimum Number of Vertices to Reach All Nodes"
      ]
    },
    {
      "cell_type": "markdown",
      "metadata": {},
      "source": [
        "Given a directed acyclic graph, with n vertices numbered from 0 to n-1, and an array edges where edges[i] = [fromi, toi] represents a directed edge from node fromi to node toi.",
        "",
        "",
        "",
        "Find the smallest set of vertices from which all nodes in the graph are reachable. It's guaranteed that a unique solution exists.",
        "",
        "",
        "",
        "Notice that you can return the vertices in any order.",
        "",
        "",
        "",
        " ",
        "",
        "",
        "",
        "**Example 1:**",
        "",
        "",
        "",
        "",
        "",
        "",
        "",
        "Input: n = 6, edges = [[0,1],[0,2],[2,5],[3,4],[4,2]]",
        "",
        "Output: [0,3]",
        "",
        "Explanation: It's not possible to reach all the nodes from a single vertex. From 0 we can reach [0,1,2,5]. From 3 we can reach [3,4,2,5]. So we output [0,3].",
        "",
        "**Example 2:**",
        "",
        "",
        "",
        "",
        "",
        "",
        "",
        "Input: n = 5, edges = [[0,1],[2,1],[3,1],[1,4],[2,4]]",
        "",
        "Output: [0,2,3]",
        "",
        "Explanation: Notice that vertices 0, 3 and 2 are not reachable from any other node, so we must include them. Also any of these vertices can reach nodes 1 and 4.",
        "",
        " ",
        "",
        "",
        "",
        "**Constraints:**",
        "",
        "",
        "",
        "2 <= n <= 10^5",
        "",
        "1 <= edges.length <= min(10^5, n * (n - 1) / 2)",
        "",
        "edges[i].length == 2",
        "",
        "0 <= fromi, toi < n",
        "",
        "All pairs (fromi, toi) are distinct."
      ]
    },
    {
      "cell_type": "markdown",
      "metadata": {},
      "source": [
        "## Solution Explanation\n",
        "To find the smallest set of vertices from which all nodes are reachable in a directed acyclic graph (DAG), we need to identify all nodes that have no incoming edges (nodes with in-degree of 0).",
        "",
        "The key insight is that:",
        "1. Any node with at least one incoming edge can be reached from another node.",
        "2. Any node with no incoming edges (in-degree = 0) must be included in our answer set, as there's no way to reach it from any other node in the graph.",
        "",
        "Since we're working with a DAG, there are no cycles, and we're guaranteed that a unique solution exists. Therefore, the smallest set of vertices from which all nodes are reachable is precisely the set of all nodes with in-degree 0.",
        "",
        "The algorithm is straightforward:",
        "1. Count the in-degree of each node by iterating through all edges.",
        "2. Identify all nodes with in-degree 0 and add them to our result set."
      ]
    },
    {
      "cell_type": "code",
      "metadata": {},
      "source": [
        "def findSmallestSetOfVertices(n: int, edges: list[list[int]]) -> list[int]:",
        "    # Create a set of all nodes with incoming edges",
        "    nodes_with_incoming_edges = set()",
        "    ",
        "    # Populate the set by examining all edges",
        "    for _, to_node in edges:",
        "        nodes_with_incoming_edges.add(to_node)",
        "    ",
        "    # The result is all nodes that don't have incoming edges",
        "    result = []",
        "    for i in range(n):",
        "        if i not in nodes_with_incoming_edges:",
        "            result.append(i)",
        "    ",
        "    return result",
        ""
      ],
      "execution_count": null,
      "outputs": []
    },
    {
      "cell_type": "markdown",
      "metadata": {},
      "source": [
        "## Time and Space Complexity\n",
        "* *Time Complexity**: O(n + e), where n is the number of nodes and e is the number of edges.",
        "* We iterate through all edges once to count incoming edges: O(e)",
        "* We iterate through all nodes once to find those with no incoming edges: O(n)",
        "* Overall: O(n + e)",
        "* *Space Complexity**: O(n)",
        "* We use a set to store nodes with incoming edges, which in the worst case could be all nodes except one: O(n)",
        "* We use a list to store the result, which in the worst case could be all nodes: O(n)",
        "* Overall: O(n)"
      ]
    },
    {
      "cell_type": "markdown",
      "metadata": {},
      "source": [
        "## Test Cases\n"
      ]
    },
    {
      "cell_type": "code",
      "metadata": {},
      "source": [
        "def test_findSmallestSetOfVertices():",
        "    # Test case 1: Example 1 from the problem",
        "    n1 = 6",
        "    edges1 = [[0,1],[0,2],[2,5],[3,4],[4,2]]",
        "    result1 = findSmallestSetOfVertices(n1, edges1)",
        "    assert set(result1) == {0, 3}, f\"Expected [0, 3] but got {result1}\"",
        "    ",
        "    # Test case 2: Example 2 from the problem",
        "    n2 = 5",
        "    edges2 = [[0,1],[2,1],[3,1],[1,4],[2,4]]",
        "    result2 = findSmallestSetOfVertices(n2, edges2)",
        "    assert set(result2) == {0, 2, 3}, f\"Expected [0, 2, 3] but got {result2}\"",
        "    ",
        "    # Test case 3: Single source node",
        "    n3 = 3",
        "    edges3 = [[0,1],[0,2]]",
        "    result3 = findSmallestSetOfVertices(n3, edges3)",
        "    assert result3 == [0], f\"Expected [0] but got {result3}\"",
        "    ",
        "    # Test case 4: Line graph",
        "    n4 = 4",
        "    edges4 = [[0,1],[1,2],[2,3]]",
        "    result4 = findSmallestSetOfVertices(n4, edges4)",
        "    assert result4 == [0], f\"Expected [0] but got {result4}\"",
        "    ",
        "    # Test case 5: Disconnected nodes",
        "    n5 = 5",
        "    edges5 = [[0,1],[2,3]]",
        "    result5 = findSmallestSetOfVertices(n5, edges5)",
        "    assert set(result5) == {0, 2, 4}, f\"Expected [0, 2, 4] but got {result5}\"",
        "    ",
        "    print(\"All test cases passed!\")",
        "",
        "# Run the tests",
        "test_findSmallestSetOfVertices()",
        ""
      ],
      "execution_count": null,
      "outputs": []
    }
  ],
  "metadata": {
    "kernelspec": {
      "display_name": "Python 3",
      "language": "python",
      "name": "python3"
    },
    "language_info": {
      "codemirror_mode": {
        "name": "ipython",
        "version": 3
      },
      "file_extension": ".py",
      "mimetype": "text/x-python",
      "name": "python",
      "nbconvert_exporter": "python",
      "pygments_lexer": "ipython3",
      "version": "3.11.9"
    }
  },
  "nbformat": 4,
  "nbformat_minor": 5
}