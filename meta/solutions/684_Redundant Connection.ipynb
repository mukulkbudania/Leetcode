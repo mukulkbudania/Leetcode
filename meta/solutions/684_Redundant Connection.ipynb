{
  "cells": [
    {
      "cell_type": "markdown",
      "metadata": {},
      "source": [
        "# 684. Redundant Connection"
      ]
    },
    {
      "cell_type": "markdown",
      "metadata": {},
      "source": [
        "In this problem, a tree is an undirected graph that is connected and has no cycles.",
        "",
        "",
        "",
        "You are given a graph that started as a tree with n nodes labeled from 1 to n, with one additional edge added. The added edge has two different vertices chosen from 1 to n, and was not an edge that already existed. The graph is represented as an array edges of length n where edges[i] = [ai, bi] indicates that there is an edge between nodes ai and bi in the graph.",
        "",
        "",
        "",
        "Return an edge that can be removed so that the resulting graph is a tree of n nodes. If there are multiple answers, return the answer that occurs last in the input.",
        "",
        "",
        "",
        " ",
        "",
        "",
        "",
        "**Example 1:**",
        "",
        "",
        "",
        "",
        "",
        "Input: edges = [[1,2],[1,3],[2,3]]",
        "",
        "Output: [2,3]",
        "",
        "**Example 2:**",
        "",
        "",
        "",
        "",
        "",
        "Input: edges = [[1,2],[2,3],[3,4],[1,4],[1,5]]",
        "",
        "Output: [1,4]",
        "",
        " ",
        "",
        "",
        "",
        "**Constraints:**",
        "",
        "",
        "",
        "n == edges.length",
        "",
        "3 <= n <= 1000",
        "",
        "edges[i].length == 2",
        "",
        "1 <= ai < bi <= edges.length",
        "",
        "ai != bi",
        "",
        "There are no repeated edges.",
        "",
        "The given graph is connected."
      ]
    },
    {
      "cell_type": "markdown",
      "metadata": {},
      "source": [
        "## Solution Explanation\n",
        "This problem asks us to find the redundant edge in a graph that was originally a tree with one extra edge added.",
        "",
        "The key insight is that a tree with n nodes has exactly n-1 edges. Since we have n edges, one of them is redundant. When we add this redundant edge, it creates a cycle in the graph.",
        "",
        "We can use a Union-Find (Disjoint Set) data structure to detect cycles in the graph. The approach is:",
        "",
        "1. Initialize a Union-Find data structure for n nodes.",
        "2. Iterate through each edge in the given order.",
        "3. For each edge (u, v), check if u and v are already in the same set (connected).",
        "* If they are, this edge creates a cycle and is redundant.",
        "* If not, union the sets containing u and v.",
        "4. Return the last edge that creates a cycle.",
        "",
        "Since we need to return the edge that occurs last in the input if there are multiple answers, we'll process edges in the given order and return the last one that creates a cycle."
      ]
    },
    {
      "cell_type": "code",
      "metadata": {},
      "source": [
        "class Solution:",
        "    def findRedundantConnection(self, edges: list[list[int]]) -> list[int]:",
        "        n = len(edges)",
        "        parent = list(range(n + 1))  # Parent array for Union-Find",
        "        ",
        "        def find(x):",
        "            # Find the root of x with path compression",
        "            if parent[x] != x:",
        "                parent[x] = find(parent[x])",
        "            return parent[x]",
        "        ",
        "        def union(x, y):",
        "            # Union by merging the sets containing x and y",
        "            parent[find(x)] = find(y)",
        "        ",
        "        for u, v in edges:",
        "            # If u and v are already connected, this edge creates a cycle",
        "            if find(u) == find(v):",
        "                return [u, v]",
        "            # Otherwise, union the sets",
        "            union(u, v)",
        "        ",
        "        # This should not happen as the problem guarantees a redundant edge",
        "        return []",
        ""
      ],
      "execution_count": null,
      "outputs": []
    },
    {
      "cell_type": "markdown",
      "metadata": {},
      "source": [
        "## Time and Space Complexity\n",
        "* *Time Complexity**: O(n), where n is the number of edges. ",
        "* We iterate through each edge once.",
        "* The find and union operations with path compression have an amortized time complexity of O(\u03b1(n)), where \u03b1 is the inverse Ackermann function, which grows extremely slowly and is effectively constant for all practical purposes.",
        "* *Space Complexity**: O(n) for the parent array in the Union-Find data structure."
      ]
    },
    {
      "cell_type": "markdown",
      "metadata": {},
      "source": [
        "## Test Cases\n"
      ]
    },
    {
      "cell_type": "code",
      "metadata": {},
      "source": [
        "def test_solution():",
        "    solution = Solution()",
        "    ",
        "    # Test case 1: Example 1 from the problem",
        "    edges1 = [[1,2], [1,3], [2,3]]",
        "    assert solution.findRedundantConnection(edges1) == [2,3]",
        "    ",
        "    # Test case 2: Example 2 from the problem",
        "    edges2 = [[1,2], [2,3], [3,4], [1,4], [1,5]]",
        "    assert solution.findRedundantConnection(edges2) == [1,4]",
        "    ",
        "    # Test case 3: Cycle at the beginning",
        "    edges3 = [[1,2], [2,3], [1,3], [3,4], [4,5]]",
        "    assert solution.findRedundantConnection(edges3) == [1,3]",
        "    ",
        "    # Test case 4: Cycle at the end",
        "    edges4 = [[1,2], [2,3], [3,4], [4,5], [5,1]]",
        "    assert solution.findRedundantConnection(edges4) == [5,1]",
        "    ",
        "    # Test case 5: Multiple possible redundant edges, return the last one",
        "    edges5 = [[1,2], [2,3], [3,1], [3,4], [4,1]]",
        "    assert solution.findRedundantConnection(edges5) == [4,1]",
        "    ",
        "    print(\"All test cases passed!\")",
        "",
        "test_solution()",
        ""
      ],
      "execution_count": null,
      "outputs": []
    }
  ],
  "metadata": {
    "kernelspec": {
      "display_name": "Python 3",
      "language": "python",
      "name": "python3"
    },
    "language_info": {
      "codemirror_mode": {
        "name": "ipython",
        "version": 3
      },
      "file_extension": ".py",
      "mimetype": "text/x-python",
      "name": "python",
      "nbconvert_exporter": "python",
      "pygments_lexer": "ipython3",
      "version": "3.11.9"
    }
  },
  "nbformat": 4,
  "nbformat_minor": 5
}