{
  "cells": [
    {
      "cell_type": "markdown",
      "metadata": {},
      "source": [
        "# 123. Best Time to Buy and Sell Stock III"
      ]
    },
    {
      "cell_type": "markdown",
      "metadata": {},
      "source": [
        "You are given an array prices where prices[i] is the price of a given stock on the ith day.",
        "",
        "",
        "",
        "Find the maximum profit you can achieve. You may complete at most two transactions.",
        "",
        "",
        "",
        "Note: You may not engage in multiple transactions simultaneously (i.e., you must sell the stock before you buy again).",
        "",
        "",
        "",
        " ",
        "",
        "",
        "",
        "**Example 1:**",
        "",
        "",
        "",
        "Input: prices = [3,3,5,0,0,3,1,4]",
        "",
        "Output: 6",
        "",
        "Explanation: Buy on day 4 (price = 0) and sell on day 6 (price = 3), profit = 3-0 = 3.",
        "",
        "Then buy on day 7 (price = 1) and sell on day 8 (price = 4), profit = 4-1 = 3.",
        "",
        "**Example 2:**",
        "",
        "",
        "",
        "Input: prices = [1,2,3,4,5]",
        "",
        "Output: 4",
        "",
        "Explanation: Buy on day 1 (price = 1) and sell on day 5 (price = 5), profit = 5-1 = 4.",
        "",
        "Note that you cannot buy on day 1, buy on day 2 and sell them later, as you are engaging multiple transactions at the same time. You must sell before buying again.",
        "",
        "**Example 3:**",
        "",
        "",
        "",
        "Input: prices = [7,6,4,3,1]",
        "",
        "Output: 0",
        "",
        "Explanation: In this case, no transaction is done, i.e. max profit = 0.",
        "",
        " ",
        "",
        "",
        "",
        "**Constraints:**",
        "",
        "",
        "",
        "1 <= prices.length <= 105",
        "",
        "0 <= prices[i] <= 105"
      ]
    },
    {
      "cell_type": "markdown",
      "metadata": {},
      "source": [
        "## Solution Explanation\n",
        "This problem asks us to find the maximum profit with at most two transactions. We need to buy before selling, and we need to sell before buying again.",
        "",
        "There are several approaches to solve this problem. I'll use a dynamic programming approach with state transitions.",
        "",
        "The key insight is to track the maximum profit we can make after each state:",
        "1. After first buy (buy1)",
        "2. After first sell (sell1)",
        "3. After second buy (buy2)",
        "4. After second sell (sell2)",
        "",
        "For each day, we have two choices for each state:",
        "* For buy1: Either keep the previous buy1 state or buy the stock today",
        "* For sell1: Either keep the previous sell1 state or sell the stock today",
        "* For buy2: Either keep the previous buy2 state or buy the stock today (using profit from sell1)",
        "* For sell2: Either keep the previous sell2 state or sell the stock today",
        "",
        "We'll initialize buy1 and buy2 to negative infinity (or a very negative number) since we start with no stock. We'll initialize sell1 and sell2 to 0 since we haven't made any profit yet.",
        "",
        "The final answer will be the maximum profit after the second sell (sell2), which could be 0 if no transactions are profitable."
      ]
    },
    {
      "cell_type": "code",
      "metadata": {},
      "source": [
        "def maxProfit(prices):",
        "    if not prices or len(prices) < 2:",
        "        return 0",
        "    ",
        "    # Initialize states",
        "    buy1 = -prices[0]  # Maximum profit after buying first stock",
        "    sell1 = 0          # Maximum profit after selling first stock",
        "    buy2 = -prices[0]  # Maximum profit after buying second stock",
        "    sell2 = 0          # Maximum profit after selling second stock",
        "    ",
        "    for i in range(1, len(prices)):",
        "        # Update states for the current day",
        "        buy1 = max(buy1, -prices[i])",
        "        sell1 = max(sell1, buy1 + prices[i])",
        "        buy2 = max(buy2, sell1 - prices[i])",
        "        sell2 = max(sell2, buy2 + prices[i])",
        "    ",
        "    return sell2",
        ""
      ],
      "execution_count": null,
      "outputs": []
    },
    {
      "cell_type": "markdown",
      "metadata": {},
      "source": [
        "## Time and Space Complexity\n",
        "* *Time Complexity**: O(n), where n is the length of the prices array. We iterate through the prices array once, and for each price, we perform constant-time operations.",
        "* *Space Complexity**: O(1), as we only use four variables (buy1, sell1, buy2, sell2) regardless of the input size. We're not using any additional data structures that scale with the input size."
      ]
    },
    {
      "cell_type": "markdown",
      "metadata": {},
      "source": [
        "## Test Cases\n"
      ]
    },
    {
      "cell_type": "code",
      "metadata": {},
      "source": [
        "def test_maxProfit():",
        "    # Test case 1: Example from the problem statement",
        "    assert maxProfit([3, 3, 5, 0, 0, 3, 1, 4]) == 6",
        "    ",
        "    # Test case 2: Increasing prices",
        "    assert maxProfit([1, 2, 3, 4, 5]) == 4",
        "    ",
        "    # Test case 3: Decreasing prices",
        "    assert maxProfit([7, 6, 4, 3, 1]) == 0",
        "    ",
        "    # Test case 4: Empty array",
        "    assert maxProfit([]) == 0",
        "    ",
        "    # Test case 5: Single element",
        "    assert maxProfit([5]) == 0",
        "    ",
        "    # Test case 6: Two elements",
        "    assert maxProfit([1, 2]) == 1",
        "    ",
        "    # Test case 7: More complex case",
        "    assert maxProfit([3, 2, 6, 5, 0, 3]) == 7  # Buy at 2, sell at 6, buy at 0, sell at 3",
        "    ",
        "    # Test case 8: Same prices",
        "    assert maxProfit([1, 1, 1, 1]) == 0",
        "    ",
        "    print(\"All test cases passed!\")",
        "",
        "# Run the tests",
        "test_maxProfit()",
        ""
      ],
      "execution_count": null,
      "outputs": []
    }
  ],
  "metadata": {
    "kernelspec": {
      "display_name": "Python 3",
      "language": "python",
      "name": "python3"
    },
    "language_info": {
      "codemirror_mode": {
        "name": "ipython",
        "version": 3
      },
      "file_extension": ".py",
      "mimetype": "text/x-python",
      "name": "python",
      "nbconvert_exporter": "python",
      "pygments_lexer": "ipython3",
      "version": "3.11.9"
    }
  },
  "nbformat": 4,
  "nbformat_minor": 5
}