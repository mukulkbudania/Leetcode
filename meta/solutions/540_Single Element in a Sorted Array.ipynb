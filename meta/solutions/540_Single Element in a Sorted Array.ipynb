{
  "cells": [
    {
      "cell_type": "markdown",
      "metadata": {},
      "source": [
        "# 540. Single Element in a Sorted Array"
      ]
    },
    {
      "cell_type": "markdown",
      "metadata": {},
      "source": [
        "You are given a sorted array consisting of only integers where every element appears exactly twice, except for one element which appears exactly once.",
        "",
        "",
        "",
        "Return the single element that appears only once.",
        "",
        "",
        "",
        "Your solution must run in O(log n) time and O(1) space.",
        "",
        "",
        "",
        " ",
        "",
        "",
        "",
        "**Example 1:**",
        "",
        "",
        "",
        "Input: nums = [1,1,2,3,3,4,4,8,8]",
        "",
        "Output: 2",
        "",
        "**Example 2:**",
        "",
        "",
        "",
        "Input: nums = [3,3,7,7,10,11,11]",
        "",
        "Output: 10",
        "",
        " ",
        "",
        "",
        "",
        "**Constraints:**",
        "",
        "",
        "",
        "1 <= nums.length <= 105",
        "",
        "0 <= nums[i] <= 105"
      ]
    },
    {
      "cell_type": "markdown",
      "metadata": {},
      "source": [
        "## Solution Explanation\n",
        "This problem requires finding the single element in a sorted array where all other elements appear exactly twice. Since we need O(log n) time complexity, we must use a binary search approach.",
        "",
        "The key insight is to understand how the positions of elements change due to the single element. In a normal sorted array with all elements appearing twice, the first occurrence of each element would be at even indices (0, 2, 4...) and the second occurrence at odd indices (1, 3, 5...). However, the presence of a single element disrupts this pattern.",
        "* If the single element is before the middle, then after that point, the first occurrence shifts to odd indices.",
        "* If the single element is after the middle, then before that point, the pattern remains normal.",
        "",
        "We can use this pattern disruption to determine which half of the array contains the single element:",
        "1. If mid is even, compare nums[mid] with nums[mid+1]",
        "2. If mid is odd, compare nums[mid] with nums[mid-1]",
        "",
        "Based on these comparisons and the expected pattern, we can decide which half to search next."
      ]
    },
    {
      "cell_type": "code",
      "metadata": {},
      "source": [
        "def singleNonDuplicate(nums):",
        "    left, right = 0, len(nums) - 1",
        "    ",
        "    while left < right:",
        "        mid = left + (right - left) // 2",
        "        ",
        "        # Ensure mid is even",
        "        if mid % 2 == 1:",
        "            mid -= 1",
        "            ",
        "        # If the pair is (mid, mid+1), the single element is to the right",
        "        if nums[mid] == nums[mid + 1]:",
        "            left = mid + 2",
        "        # Otherwise, the single element is to the left or at mid",
        "        else:",
        "            right = mid",
        "            ",
        "    return nums[left]",
        ""
      ],
      "execution_count": null,
      "outputs": []
    },
    {
      "cell_type": "markdown",
      "metadata": {},
      "source": [
        "## Time and Space Complexity\n",
        "* *Time Complexity**: O(log n) - We're using binary search which divides the search space in half with each iteration.",
        "* *Space Complexity**: O(1) - We only use a constant amount of extra space regardless of input size (just a few variables for the binary search).",
        "",
        "The solution meets the required constraints of O(log n) time and O(1) space."
      ]
    },
    {
      "cell_type": "markdown",
      "metadata": {},
      "source": [
        "## Test Cases\n"
      ]
    },
    {
      "cell_type": "code",
      "metadata": {},
      "source": [
        "# Test case 1: Single element in the middle",
        "def test_middle():",
        "    nums = [1, 1, 2, 3, 3, 4, 4, 8, 8]",
        "    assert singleNonDuplicate(nums) == 2",
        "    print(\"Test case 1 passed!\")",
        "",
        "# Test case 2: Single element at the end",
        "def test_end():",
        "    nums = [3, 3, 7, 7, 10, 11, 11]",
        "    assert singleNonDuplicate(nums) == 10",
        "    print(\"Test case 2 passed!\")",
        "",
        "# Test case 3: Single element at the beginning",
        "def test_beginning():",
        "    nums = [1, 2, 2, 3, 3]",
        "    assert singleNonDuplicate(nums) == 1",
        "    print(\"Test case 3 passed!\")",
        "",
        "# Test case 4: Array with only one element",
        "def test_single_element():",
        "    nums = [5]",
        "    assert singleNonDuplicate(nums) == 5",
        "    print(\"Test case 4 passed!\")",
        "",
        "# Test case 5: Larger numbers",
        "def test_larger_numbers():",
        "    nums = [10000, 10000, 20000, 30000, 30000]",
        "    assert singleNonDuplicate(nums) == 20000",
        "    print(\"Test case 5 passed!\")",
        "",
        "# Run all tests",
        "test_middle()",
        "test_end()",
        "test_beginning()",
        "test_single_element()",
        "test_larger_numbers()",
        ""
      ],
      "execution_count": null,
      "outputs": []
    }
  ],
  "metadata": {
    "kernelspec": {
      "display_name": "Python 3",
      "language": "python",
      "name": "python3"
    },
    "language_info": {
      "codemirror_mode": {
        "name": "ipython",
        "version": 3
      },
      "file_extension": ".py",
      "mimetype": "text/x-python",
      "name": "python",
      "nbconvert_exporter": "python",
      "pygments_lexer": "ipython3",
      "version": "3.11.9"
    }
  },
  "nbformat": 4,
  "nbformat_minor": 5
}