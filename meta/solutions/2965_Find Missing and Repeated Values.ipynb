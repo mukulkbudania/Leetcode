{
  "cells": [
    {
      "cell_type": "markdown",
      "metadata": {},
      "source": [
        "# 2965. Find Missing and Repeated Values"
      ]
    },
    {
      "cell_type": "markdown",
      "metadata": {},
      "source": [
        "You are given a 0-indexed 2D integer matrix grid of size n * n with values in the range [1, n2]. Each integer appears exactly once except a which appears twice and b which is missing. The task is to find the repeating and missing numbers a and b.",
        "",
        "",
        "",
        "Return a 0-indexed integer array ans of size 2 where ans[0] equals to a and ans[1] equals to b.",
        "",
        "",
        "",
        " ",
        "",
        "",
        "",
        "**Example 1:**",
        "",
        "",
        "",
        "Input: grid = [[1,3],[2,2]]",
        "",
        "Output: [2,4]",
        "",
        "Explanation: Number 2 is repeated and number 4 is missing so the answer is [2,4].",
        "",
        "**Example 2:**",
        "",
        "",
        "",
        "Input: grid = [[9,1,7],[8,9,2],[3,4,6]]",
        "",
        "Output: [9,5]",
        "",
        "Explanation: Number 9 is repeated and number 5 is missing so the answer is [9,5].",
        "",
        " ",
        "",
        "",
        "",
        "**Constraints:**",
        "",
        "",
        "",
        "2 <= n == grid.length == grid[i].length <= 50",
        "",
        "1 <= grid[i][j] <= n * n",
        "",
        "For all x that 1 <= x <= n * n there is exactly one x that is not equal to any of the grid members.",
        "",
        "For all x that 1 <= x <= n * n there is exactly one x that is equal to exactly two of the grid members.",
        "",
        "For all x that 1 <= x <= n * n except two of them there is exactly one pair of i, j that 0 <= i, j <= n - 1 and grid[i][j] == x."
      ]
    },
    {
      "cell_type": "markdown",
      "metadata": {},
      "source": [
        "## Solution Explanation\n",
        "To solve this problem, we need to find a number that appears twice and a number that is missing in a matrix where values should range from 1 to n\u00b2.",
        "",
        "The approach is straightforward:",
        "1. Create a set to track all numbers we've seen",
        "2. Iterate through the matrix",
        "3. If we encounter a number we've already seen, that's our repeating number (a)",
        "4. After processing the matrix, check which number from 1 to n\u00b2 is missing from our set",
        "",
        "Since we're dealing with a matrix of size n\u00d7n, the total range of expected numbers is 1 to n\u00b2. We can calculate n from the input matrix dimensions."
      ]
    },
    {
      "cell_type": "code",
      "metadata": {},
      "source": [
        "def findMissingAndRepeatedValues(grid):",
        "    n = len(grid)",
        "    seen = set()",
        "    repeated = -1",
        "    ",
        "    # Find the repeated number",
        "    for i in range(n):",
        "        for j in range(n):",
        "            num = grid[i][j]",
        "            if num in seen:",
        "                repeated = num",
        "            else:",
        "                seen.add(num)",
        "    ",
        "    # Find the missing number",
        "    for num in range(1, n*n + 1):",
        "        if num not in seen:",
        "            missing = num",
        "            break",
        "    ",
        "    return [repeated, missing]",
        ""
      ],
      "execution_count": null,
      "outputs": []
    },
    {
      "cell_type": "markdown",
      "metadata": {},
      "source": [
        "## Time and Space Complexity\n",
        "* *Time Complexity**: O(n\u00b2)",
        "* We iterate through the entire n\u00d7n matrix once to find the repeated number, which takes O(n\u00b2) time.",
        "* We then iterate through the range 1 to n\u00b2 to find the missing number, which takes O(n\u00b2) time in the worst case.",
        "* Overall, the time complexity is O(n\u00b2).",
        "* *Space Complexity**: O(n\u00b2)",
        "* We use a set to store all the numbers we've seen, which in the worst case will contain n\u00b2-1 elements (all numbers except the missing one).",
        "* Therefore, the space complexity is O(n\u00b2)."
      ]
    },
    {
      "cell_type": "markdown",
      "metadata": {},
      "source": [
        "## Test Cases\n"
      ]
    },
    {
      "cell_type": "code",
      "metadata": {},
      "source": [
        "# Test case 1: 2x2 matrix",
        "grid1 = [[1, 3], [2, 2]]",
        "assert findMissingAndRepeatedValues(grid1) == [2, 4], \"Test case 1 failed\"",
        "",
        "# Test case 2: 3x3 matrix",
        "grid2 = [[9, 1, 7], [8, 9, 2], [3, 4, 6]]",
        "assert findMissingAndRepeatedValues(grid2) == [9, 5], \"Test case 2 failed\"",
        "",
        "# Test case 3: Edge case - repeated and missing at extremes",
        "grid3 = [[1, 1], [3, 4]]",
        "assert findMissingAndRepeatedValues(grid3) == [1, 2], \"Test case 3 failed\"",
        "",
        "# Test case 4: Larger matrix",
        "grid4 = [",
        "    [1, 2, 3, 4],",
        "    [5, 6, 7, 8],",
        "    [9, 10, 11, 12],",
        "    [13, 14, 14, 16]",
        "]",
        "assert findMissingAndRepeatedValues(grid4) == [14, 15], \"Test case 4 failed\"",
        "",
        "print(\"All test cases passed!\")",
        ""
      ],
      "execution_count": null,
      "outputs": []
    }
  ],
  "metadata": {
    "kernelspec": {
      "display_name": "Python 3",
      "language": "python",
      "name": "python3"
    },
    "language_info": {
      "codemirror_mode": {
        "name": "ipython",
        "version": 3
      },
      "file_extension": ".py",
      "mimetype": "text/x-python",
      "name": "python",
      "nbconvert_exporter": "python",
      "pygments_lexer": "ipython3",
      "version": "3.11.9"
    }
  },
  "nbformat": 4,
  "nbformat_minor": 5
}