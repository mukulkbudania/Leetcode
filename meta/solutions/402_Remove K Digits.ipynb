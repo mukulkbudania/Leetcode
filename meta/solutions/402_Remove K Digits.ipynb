{
  "cells": [
    {
      "cell_type": "markdown",
      "metadata": {},
      "source": [
        "# 402. Remove K Digits"
      ]
    },
    {
      "cell_type": "markdown",
      "metadata": {},
      "source": [
        "Given string num representing a non-negative integer num, and an integer k, return the smallest possible integer after removing k digits from num.",
        "",
        "",
        "",
        " ",
        "",
        "",
        "",
        "**Example 1:**",
        "",
        "",
        "",
        "Input: num = \"1432219\", k = 3",
        "",
        "Output: \"1219\"",
        "",
        "Explanation: Remove the three digits 4, 3, and 2 to form the new number 1219 which is the smallest.",
        "",
        "**Example 2:**",
        "",
        "",
        "",
        "Input: num = \"10200\", k = 1",
        "",
        "Output: \"200\"",
        "",
        "Explanation: Remove the leading 1 and the number is 200. Note that the output must not contain leading zeroes.",
        "",
        "**Example 3:**",
        "",
        "",
        "",
        "Input: num = \"10\", k = 2",
        "",
        "Output: \"0\"",
        "",
        "Explanation: Remove all the digits from the number and it is left with nothing which is 0.",
        "",
        " ",
        "",
        "",
        "",
        "**Constraints:**",
        "",
        "",
        "",
        "1 <= k <= num.length <= 105",
        "",
        "num consists of only digits.",
        "",
        "num does not have any leading zeros except for the zero itself."
      ]
    },
    {
      "cell_type": "markdown",
      "metadata": {},
      "source": [
        "## Solution Explanation\n",
        "To find the smallest possible integer after removing k digits, we need to understand that the position of digits matters. The most significant digits (leftmost) have the greatest impact on the number's value.",
        "",
        "The key insight is that we want to remove digits that are larger than the digits that follow them. This is because removing such digits will make the number smaller.",
        "",
        "We can use a monotonic increasing stack approach:",
        "1. Iterate through each digit in the input string.",
        "2. For each digit, while the stack is not empty, the current digit is smaller than the top of the stack, and we still have removals left (k > 0), pop from the stack and decrement k.",
        "3. Push the current digit onto the stack.",
        "4. After processing all digits, if we still have removals left, remove them from the end of the stack.",
        "5. Remove any leading zeros from the result.",
        "6. If the result is empty, return \"0\".",
        "",
        "This approach ensures that we always remove larger digits that come before smaller digits, resulting in the smallest possible number."
      ]
    },
    {
      "cell_type": "code",
      "metadata": {},
      "source": [
        "def removeKdigits(num: str, k: int) -> str:",
        "    # Edge case: if k equals the length of num, return \"0\"",
        "    if k >= len(num):",
        "        return \"0\"",
        "    ",
        "    stack = []",
        "    ",
        "    # Process each digit",
        "    for digit in num:",
        "        # Remove digits from stack if current digit is smaller and we have removals left",
        "        while k > 0 and stack and stack[-1] > digit:",
        "            stack.pop()",
        "            k -= 1",
        "        ",
        "        # Add current digit to stack",
        "        stack.append(digit)",
        "    ",
        "    # If we still have removals left, remove from the end",
        "    if k > 0:",
        "        stack = stack[:-k]",
        "    ",
        "    # Convert stack to string and remove leading zeros",
        "    result = ''.join(stack).lstrip('0')",
        "    ",
        "    # If result is empty, return \"0\"",
        "    return result if result else \"0\"",
        ""
      ],
      "execution_count": null,
      "outputs": []
    },
    {
      "cell_type": "markdown",
      "metadata": {},
      "source": [
        "## Time and Space Complexity\n",
        "* *Time Complexity**: O(n), where n is the length of the input string. We iterate through each digit once, and each digit can be pushed and popped from the stack at most once.",
        "* *Space Complexity**: O(n) in the worst case, where we need to store all digits in the stack. This happens when the digits are in increasing order and k = 0."
      ]
    },
    {
      "cell_type": "markdown",
      "metadata": {},
      "source": [
        "## Test Cases\n"
      ]
    },
    {
      "cell_type": "code",
      "metadata": {},
      "source": [
        "def test_removeKdigits():",
        "    # Test case 1: Example 1 from problem statement",
        "    assert removeKdigits(\"1432219\", 3) == \"1219\", \"Failed for num=1432219, k=3\"",
        "    ",
        "    # Test case 2: Example 2 from problem statement",
        "    assert removeKdigits(\"10200\", 1) == \"200\", \"Failed for num=10200, k=1\"",
        "    ",
        "    # Test case 3: Example 3 from problem statement",
        "    assert removeKdigits(\"10\", 2) == \"0\", \"Failed for num=10, k=2\"",
        "    ",
        "    # Test case 4: Edge case - remove all digits",
        "    assert removeKdigits(\"123\", 3) == \"0\", \"Failed for num=123, k=3\"",
        "    ",
        "    # Test case 5: Edge case - remove no digits",
        "    assert removeKdigits(\"123\", 0) == \"123\", \"Failed for num=123, k=0\"",
        "    ",
        "    # Test case 6: Monotonically increasing digits",
        "    assert removeKdigits(\"12345\", 2) == \"345\", \"Failed for num=12345, k=2\"",
        "    ",
        "    # Test case 7: Monotonically decreasing digits",
        "    assert removeKdigits(\"54321\", 2) == \"321\", \"Failed for num=54321, k=2\"",
        "    ",
        "    # Test case 8: Leading zeros after removal",
        "    assert removeKdigits(\"10001\", 1) == \"1\", \"Failed for num=10001, k=1\"",
        "    ",
        "    # Test case 9: All zeros after removal",
        "    assert removeKdigits(\"100\", 2) == \"0\", \"Failed for num=100, k=2\"",
        "    ",
        "    print(\"All test cases passed!\")",
        "",
        "# Run the tests",
        "test_removeKdigits()",
        ""
      ],
      "execution_count": null,
      "outputs": []
    }
  ],
  "metadata": {
    "kernelspec": {
      "display_name": "Python 3",
      "language": "python",
      "name": "python3"
    },
    "language_info": {
      "codemirror_mode": {
        "name": "ipython",
        "version": 3
      },
      "file_extension": ".py",
      "mimetype": "text/x-python",
      "name": "python",
      "nbconvert_exporter": "python",
      "pygments_lexer": "ipython3",
      "version": "3.11.9"
    }
  },
  "nbformat": 4,
  "nbformat_minor": 5
}