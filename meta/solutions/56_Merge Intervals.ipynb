{
  "cells": [
    {
      "cell_type": "markdown",
      "metadata": {},
      "source": [
        "# 56. Merge Intervals"
      ]
    },
    {
      "cell_type": "markdown",
      "metadata": {},
      "source": [
        "Given an array of intervals where intervals[i] = [starti, endi], merge all overlapping intervals, and return an array of the non-overlapping intervals that cover all the intervals in the input.",
        "",
        "",
        "",
        " ",
        "",
        "",
        "",
        "**Example 1:**",
        "",
        "",
        "",
        "Input: intervals = [[1,3],[2,6],[8,10],[15,18]]",
        "",
        "Output: [[1,6],[8,10],[15,18]]",
        "",
        "Explanation: Since intervals [1,3] and [2,6] overlap, merge them into [1,6].",
        "",
        "**Example 2:**",
        "",
        "",
        "",
        "Input: intervals = [[1,4],[4,5]]",
        "",
        "Output: [[1,5]]",
        "",
        "Explanation: Intervals [1,4] and [4,5] are considered overlapping.",
        "",
        " ",
        "",
        "",
        "",
        "**Constraints:**",
        "",
        "",
        "",
        "1 <= intervals.length <= 104",
        "",
        "intervals[i].length == 2",
        "",
        "0 <= starti <= endi <= 104",
        "",
        ""
      ]
    },
    {
      "cell_type": "markdown",
      "metadata": {},
      "source": [
        "## Solution Explanation\n",
        "To solve this problem of merging overlapping intervals, I'll follow these steps:",
        "",
        "1. Sort the intervals based on their start times. This ensures that we can process intervals in order and easily identify overlaps.",
        "2. Initialize a result list with the first interval from the sorted list.",
        "3. Iterate through the remaining intervals:",
        "* If the current interval overlaps with the last interval in our result list, merge them by updating the end time of the last interval in the result list.",
        "* If there's no overlap, simply add the current interval to the result list.",
        "",
        "Two intervals [a, b] and [c, d] overlap if b >= c (assuming a <= b and c <= d, which is true for valid intervals).",
        "",
        "When merging overlapping intervals, the start time of the merged interval is the minimum of the two start times, and the end time is the maximum of the two end times. However, since we're processing intervals in order of their start times, the start time of the merged interval will always be the start time of the first interval."
      ]
    },
    {
      "cell_type": "code",
      "metadata": {},
      "source": [
        "def merge(intervals):",
        "    # Sort intervals based on start times",
        "    intervals.sort(key=lambda x: x[0])",
        "    ",
        "    # Initialize result with the first interval",
        "    result = [intervals[0]]",
        "    ",
        "    # Process remaining intervals",
        "    for i in range(1, len(intervals)):",
        "        current_interval = intervals[i]",
        "        last_merged_interval = result[-1]",
        "        ",
        "        # If current interval overlaps with the last merged interval",
        "        if current_interval[0] <= last_merged_interval[1]:",
        "            # Merge by updating the end time of the last interval in result",
        "            last_merged_interval[1] = max(last_merged_interval[1], current_interval[1])",
        "        else:",
        "            # No overlap, add current interval to result",
        "            result.append(current_interval)",
        "    ",
        "    return result",
        ""
      ],
      "execution_count": null,
      "outputs": []
    },
    {
      "cell_type": "markdown",
      "metadata": {},
      "source": [
        "## Time and Space Complexity\n",
        "* *Time Complexity**: O(n log n), where n is the number of intervals.",
        "* Sorting the intervals takes O(n log n) time.",
        "* The subsequent linear scan through the intervals takes O(n) time.",
        "* Overall, the time complexity is dominated by the sorting step: O(n log n).",
        "* *Space Complexity**: O(n) in the worst case.",
        "* The space used for the output list is O(n) in the worst case where no intervals overlap.",
        "* The sorting algorithm may require O(log n) or O(n) additional space depending on the implementation.",
        "* Overall, the space complexity is O(n)."
      ]
    },
    {
      "cell_type": "markdown",
      "metadata": {},
      "source": [
        "## Test Cases\n"
      ]
    },
    {
      "cell_type": "code",
      "metadata": {},
      "source": [
        "def test_merge_intervals():",
        "    # Test case 1: Example from the problem statement",
        "    intervals1 = [[1, 3], [2, 6], [8, 10], [15, 18]]",
        "    expected1 = [[1, 6], [8, 10], [15, 18]]",
        "    assert merge(intervals1) == expected1, f\"Test case 1 failed: {merge(intervals1)} != {expected1}\"",
        "    ",
        "    # Test case 2: Example from the problem statement",
        "    intervals2 = [[1, 4], [4, 5]]",
        "    expected2 = [[1, 5]]",
        "    assert merge(intervals2) == expected2, f\"Test case 2 failed: {merge(intervals2)} != {expected2}\"",
        "    ",
        "    # Test case 3: No overlapping intervals",
        "    intervals3 = [[1, 2], [3, 4], [5, 6]]",
        "    expected3 = [[1, 2], [3, 4], [5, 6]]",
        "    assert merge(intervals3) == expected3, f\"Test case 3 failed: {merge(intervals3)} != {expected3}\"",
        "    ",
        "    # Test case 4: All intervals overlap",
        "    intervals4 = [[1, 10], [2, 9], [3, 8], [4, 7]]",
        "    expected4 = [[1, 10]]",
        "    assert merge(intervals4) == expected4, f\"Test case 4 failed: {merge(intervals4)} != {expected4}\"",
        "    ",
        "    # Test case 5: Single interval",
        "    intervals5 = [[1, 5]]",
        "    expected5 = [[1, 5]]",
        "    assert merge(intervals5) == expected5, f\"Test case 5 failed: {merge(intervals5)} != {expected5}\"",
        "    ",
        "    # Test case 6: Unsorted intervals",
        "    intervals6 = [[15, 18], [1, 3], [8, 10], [2, 6]]",
        "    expected6 = [[1, 6], [8, 10], [15, 18]]",
        "    assert merge(intervals6) == expected6, f\"Test case 6 failed: {merge(intervals6)} != {expected6}\"",
        "    ",
        "    # Test case 7: Intervals with same start time",
        "    intervals7 = [[1, 4], [1, 5]]",
        "    expected7 = [[1, 5]]",
        "    assert merge(intervals7) == expected7, f\"Test case 7 failed: {merge(intervals7)} != {expected7}\"",
        "    ",
        "    print(\"All test cases passed!\")",
        "",
        "# Run the tests",
        "test_merge_intervals()",
        ""
      ],
      "execution_count": null,
      "outputs": []
    }
  ],
  "metadata": {
    "kernelspec": {
      "display_name": "Python 3",
      "language": "python",
      "name": "python3"
    },
    "language_info": {
      "codemirror_mode": {
        "name": "ipython",
        "version": 3
      },
      "file_extension": ".py",
      "mimetype": "text/x-python",
      "name": "python",
      "nbconvert_exporter": "python",
      "pygments_lexer": "ipython3",
      "version": "3.11.9"
    }
  },
  "nbformat": 4,
  "nbformat_minor": 5
}