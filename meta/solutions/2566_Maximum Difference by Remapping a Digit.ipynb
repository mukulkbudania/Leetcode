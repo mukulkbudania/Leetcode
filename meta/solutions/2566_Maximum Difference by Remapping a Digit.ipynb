{
  "cells": [
    {
      "cell_type": "markdown",
      "metadata": {},
      "source": [
        "# 2566. Maximum Difference by Remapping a Digit"
      ]
    },
    {
      "cell_type": "markdown",
      "metadata": {},
      "source": [
        "You are given an integer num. You know that Bob will sneakily remap one of the 10 possible digits (0 to 9) to another digit.",
        "",
        "",
        "",
        "Return the difference between the maximum and minimum values Bob can make by remapping exactly one digit in num.",
        "",
        "",
        "",
        "Notes:",
        "",
        "",
        "",
        "When Bob remaps a digit d1 to another digit d2, Bob replaces all occurrences of d1 in num with d2.",
        "",
        "Bob can remap a digit to itself, in which case num does not change.",
        "",
        "Bob can remap different digits for obtaining minimum and maximum values respectively.",
        "",
        "The resulting number after remapping can contain leading zeroes.",
        "",
        " ",
        "",
        "",
        "",
        "**Example 1:**",
        "",
        "",
        "",
        "Input: num = 11891",
        "",
        "Output: 99009",
        "",
        "Explanation: ",
        "",
        "To achieve the maximum value, Bob can remap the digit 1 to the digit 9 to yield 99899.",
        "",
        "To achieve the minimum value, Bob can remap the digit 1 to the digit 0, yielding 890.",
        "",
        "The difference between these two numbers is 99009.",
        "",
        "**Example 2:**",
        "",
        "",
        "",
        "Input: num = 90",
        "",
        "Output: 99",
        "",
        "Explanation:",
        "",
        "The maximum value that can be returned by the function is 99 (if 0 is replaced by 9) and the minimum value that can be returned by the function is 0 (if 9 is replaced by 0).",
        "",
        "Thus, we return 99.",
        "",
        " ",
        "",
        "",
        "",
        "**Constraints:**",
        "",
        "",
        "",
        "1 <= num <= 108"
      ]
    },
    {
      "cell_type": "markdown",
      "metadata": {},
      "source": [
        "## Solution Explanation\n",
        "To solve this problem, we need to find the maximum and minimum values that can be obtained by remapping exactly one digit in the given number.",
        "",
        "For the maximum value:",
        "1. We want to replace a digit with 9 (the largest possible digit).",
        "2. To maximize the result, we should replace the most significant digit that is not already 9.",
        "3. If all digits are already 9, we can just remap any digit to itself.",
        "",
        "For the minimum value:",
        "1. We want to replace a digit with 0 (the smallest possible digit).",
        "2. However, we need to be careful about leading zeros. If we replace the most significant digit with 0, the number will have a leading zero, which might affect the value.",
        "3. If the most significant digit is not already 0, we should replace it with 0 to minimize the value.",
        "4. If the most significant digit is already 0, we should replace the next most significant digit that is not 0.",
        "5. If all digits are already 0, we can just remap any digit to itself.",
        "",
        "The approach is to try all possible digit remappings and find the maximum and minimum values."
      ]
    },
    {
      "cell_type": "code",
      "metadata": {},
      "source": [
        "def minMaxDifference(num: int) -> int:",
        "    # Convert the number to a string for easier digit manipulation",
        "    num_str = str(num)",
        "    ",
        "    # Find maximum value by replacing the first non-9 digit with 9",
        "    max_val = num_str",
        "    for digit in num_str:",
        "        if digit != '9':",
        "            max_val = num_str.replace(digit, '9')",
        "            break",
        "    ",
        "    # Find minimum value by replacing the first digit with 0",
        "    min_val = num_str.replace(num_str[0], '0')",
        "    ",
        "    # Calculate the difference",
        "    return int(max_val) - int(min_val)",
        ""
      ],
      "execution_count": null,
      "outputs": []
    },
    {
      "cell_type": "markdown",
      "metadata": {},
      "source": [
        "## Time and Space Complexity\n",
        "Time Complexity: O(n), where n is the number of digits in the input number. We need to iterate through the digits once to find the first non-9 digit, and then perform string replacements which take O(n) time.",
        "",
        "Space Complexity: O(n), as we store the number as a string and create new strings for the maximum and minimum values, each of which can have at most n digits."
      ]
    },
    {
      "cell_type": "markdown",
      "metadata": {},
      "source": [
        "## Test Cases\n"
      ]
    },
    {
      "cell_type": "code",
      "metadata": {},
      "source": [
        "def test_minMaxDifference():",
        "    # Test case 1: Example from the problem",
        "    assert minMaxDifference(11891) == 99009, \"Test case 1 failed\"",
        "    ",
        "    # Test case 2: Example from the problem",
        "    assert minMaxDifference(90) == 99, \"Test case 2 failed\"",
        "    ",
        "    # Test case 3: All digits are the same",
        "    assert minMaxDifference(111) == 888, \"Test case 3 failed\"",
        "    ",
        "    # Test case 4: All digits are already 9",
        "    assert minMaxDifference(999) == 999, \"Test case 4 failed\"",
        "    ",
        "    # Test case 5: Single digit",
        "    assert minMaxDifference(5) == 9, \"Test case 5 failed\"",
        "    ",
        "    # Test case 6: Number with leading digit 0 (not possible in constraints, but testing logic)",
        "    assert minMaxDifference(10) == 9, \"Test case 6 failed\"",
        "    ",
        "    # Test case 7: Large number",
        "    assert minMaxDifference(12345678) == 87654678, \"Test case 7 failed\"",
        "    ",
        "    print(\"All test cases passed!\")",
        "",
        "# Run the tests",
        "test_minMaxDifference()",
        ""
      ],
      "execution_count": null,
      "outputs": []
    }
  ],
  "metadata": {
    "kernelspec": {
      "display_name": "Python 3",
      "language": "python",
      "name": "python3"
    },
    "language_info": {
      "codemirror_mode": {
        "name": "ipython",
        "version": 3
      },
      "file_extension": ".py",
      "mimetype": "text/x-python",
      "name": "python",
      "nbconvert_exporter": "python",
      "pygments_lexer": "ipython3",
      "version": "3.11.9"
    }
  },
  "nbformat": 4,
  "nbformat_minor": 5
}