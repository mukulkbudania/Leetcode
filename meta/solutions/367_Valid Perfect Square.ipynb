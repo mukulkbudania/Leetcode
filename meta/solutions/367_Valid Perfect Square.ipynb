{
  "cells": [
    {
      "cell_type": "markdown",
      "metadata": {},
      "source": [
        "# 367. Valid Perfect Square"
      ]
    },
    {
      "cell_type": "markdown",
      "metadata": {},
      "source": [
        "Given a positive integer num, return true if num is a perfect square or false otherwise.",
        "",
        "",
        "",
        "A perfect square is an integer that is the square of an integer. In other words, it is the product of some integer with itself.",
        "",
        "",
        "",
        "You must not use any built-in library function, such as sqrt.",
        "",
        "",
        "",
        " ",
        "",
        "",
        "",
        "**Example 1:**",
        "",
        "",
        "",
        "Input: num = 16",
        "",
        "Output: true",
        "",
        "Explanation: We return true because 4 * 4 = 16 and 4 is an integer.",
        "",
        "**Example 2:**",
        "",
        "",
        "",
        "Input: num = 14",
        "",
        "Output: false",
        "",
        "Explanation: We return false because 3.742 * 3.742 = 14 and 3.742 is not an integer.",
        "",
        " ",
        "",
        "",
        "",
        "**Constraints:**",
        "",
        "",
        "",
        "1 <= num <= 231 - 1"
      ]
    },
    {
      "cell_type": "markdown",
      "metadata": {},
      "source": [
        "## Solution Explanation\n",
        "To determine if a number is a perfect square without using built-in functions like `sqrt()`, we can use a binary search approach. ",
        "",
        "A perfect square is a number that can be expressed as the product of an integer with itself. For example, 16 is a perfect square because 4 * 4 = 16.",
        "",
        "The binary search approach works as follows:",
        "1. We know that the square root of `num` must be between 1 and `num` itself.",
        "2. We can use binary search to find a value `mid` such that `mid * mid = num`.",
        "3. If we find such a value, then `num` is a perfect square.",
        "4. If no such value exists, then `num` is not a perfect square.",
        "",
        "Since we're looking for an integer square root, if `mid * mid` is greater than `num`, we search in the lower half; otherwise, we search in the upper half."
      ]
    },
    {
      "cell_type": "code",
      "metadata": {},
      "source": [
        "def isPerfectSquare(num: int) -> bool:",
        "    if num < 2:",
        "        return True",
        "    ",
        "    left, right = 2, num // 2",
        "    ",
        "    while left <= right:",
        "        mid = left + (right - left) // 2",
        "        square = mid * mid",
        "        ",
        "        if square == num:",
        "            return True",
        "        elif square > num:",
        "            right = mid - 1",
        "        else:",
        "            left = mid + 1",
        "    ",
        "    return False",
        ""
      ],
      "execution_count": null,
      "outputs": []
    },
    {
      "cell_type": "markdown",
      "metadata": {},
      "source": [
        "## Time and Space Complexity\n",
        "* *Time Complexity**: O(log n), where n is the input number. This is because we're using binary search, which halves the search space in each iteration.",
        "* *Space Complexity**: O(1), as we only use a constant amount of extra space regardless of the input size. We're just storing a few variables (left, right, mid, square) and not using any data structures that grow with the input."
      ]
    },
    {
      "cell_type": "markdown",
      "metadata": {},
      "source": [
        "## Test Cases\n"
      ]
    },
    {
      "cell_type": "code",
      "metadata": {},
      "source": [
        "def test_isPerfectSquare():",
        "    # Test case 1: Perfect square",
        "    assert isPerfectSquare(16) == True, \"16 is a perfect square (4*4)\"",
        "    ",
        "    # Test case 2: Not a perfect square",
        "    assert isPerfectSquare(14) == False, \"14 is not a perfect square\"",
        "    ",
        "    # Test case 3: Edge case - smallest perfect square",
        "    assert isPerfectSquare(1) == True, \"1 is a perfect square (1*1)\"",
        "    ",
        "    # Test case 4: Edge case - large perfect square",
        "    assert isPerfectSquare(10000) == True, \"10000 is a perfect square (100*100)\"",
        "    ",
        "    # Test case 5: Edge case - large non-perfect square",
        "    assert isPerfectSquare(10001) == False, \"10001 is not a perfect square\"",
        "    ",
        "    # Test case 6: Edge case - close to a perfect square",
        "    assert isPerfectSquare(15) == False, \"15 is not a perfect square\"",
        "    ",
        "    # Test case 7: Edge case - close to a perfect square",
        "    assert isPerfectSquare(17) == False, \"17 is not a perfect square\"",
        "    ",
        "    print(\"All test cases passed!\")",
        "",
        "# Run the tests",
        "test_isPerfectSquare()",
        ""
      ],
      "execution_count": null,
      "outputs": []
    }
  ],
  "metadata": {
    "kernelspec": {
      "display_name": "Python 3",
      "language": "python",
      "name": "python3"
    },
    "language_info": {
      "codemirror_mode": {
        "name": "ipython",
        "version": 3
      },
      "file_extension": ".py",
      "mimetype": "text/x-python",
      "name": "python",
      "nbconvert_exporter": "python",
      "pygments_lexer": "ipython3",
      "version": "3.11.9"
    }
  },
  "nbformat": 4,
  "nbformat_minor": 5
}