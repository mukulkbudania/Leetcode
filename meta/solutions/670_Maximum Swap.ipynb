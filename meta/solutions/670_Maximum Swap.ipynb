{
  "cells": [
    {
      "cell_type": "markdown",
      "metadata": {},
      "source": [
        "# 670. Maximum Swap"
      ]
    },
    {
      "cell_type": "markdown",
      "metadata": {},
      "source": [
        "You are given an integer num. You can swap two digits at most once to get the maximum valued number.",
        "",
        "",
        "",
        "Return the maximum valued number you can get.",
        "",
        "",
        "",
        " ",
        "",
        "",
        "",
        "**Example 1:**",
        "",
        "",
        "",
        "Input: num = 2736",
        "",
        "Output: 7236",
        "",
        "Explanation: Swap the number 2 and the number 7.",
        "",
        "**Example 2:**",
        "",
        "",
        "",
        "Input: num = 9973",
        "",
        "Output: 9973",
        "",
        "Explanation: No swap.",
        "",
        " ",
        "",
        "",
        "",
        "**Constraints:**",
        "",
        "",
        "",
        "0 <= num <= 108"
      ]
    },
    {
      "cell_type": "markdown",
      "metadata": {},
      "source": [
        "## Solution Explanation\n",
        "To solve this problem, we need to find the maximum value after at most one swap of digits. The key insight is that to maximize the number, we should try to place larger digits in more significant positions.",
        "",
        "The approach is:",
        "1. Convert the number to a string for easier digit manipulation",
        "2. Iterate through each digit from left to right (most significant to least)",
        "3. For each position, find the maximum digit that appears to its right",
        "4. If this maximum digit is greater than the current digit, swap them",
        "5. Return the resulting number",
        "",
        "However, there's a complication: what if there are multiple occurrences of the maximum digit? We should choose the leftmost occurrence to swap with, as this will result in the maximum value. But we also need to be careful to swap with the rightmost occurrence of the maximum digit if there are multiple instances of it, to ensure we get the largest possible number.",
        "",
        "To handle this, we'll scan from left to right, and for each position, we'll look for the maximum digit to its right. If we find a digit larger than the current one, we'll remember this position. After the scan, if we found a position to swap, we perform the swap and return the result."
      ]
    },
    {
      "cell_type": "code",
      "metadata": {},
      "source": [
        "def maximumSwap(num: int) -> int:",
        "    # Convert to list of digits for easy manipulation",
        "    digits = list(str(num))",
        "    n = len(digits)",
        "    ",
        "    # For each digit position, find the maximum digit to its right",
        "    # that is greater than the current digit",
        "    for i in range(n - 1):",
        "        # Find the maximum digit to the right",
        "        max_digit = digits[i]",
        "        max_idx = i",
        "        ",
        "        for j in range(n - 1, i, -1):",
        "            if digits[j] > max_digit:",
        "                max_digit = digits[j]",
        "                max_idx = j",
        "        ",
        "        # If we found a larger digit, swap and return",
        "        if max_digit > digits[i]:",
        "            digits[i], digits[max_idx] = digits[max_idx], digits[i]",
        "            return int(''.join(digits))",
        "    ",
        "    # No swap needed",
        "    return num",
        ""
      ],
      "execution_count": null,
      "outputs": []
    },
    {
      "cell_type": "markdown",
      "metadata": {},
      "source": [
        "## Time and Space Complexity\n",
        "* *Time Complexity**: O(n\u00b2) where n is the number of digits in the input number. In the worst case, we need to iterate through each digit position (O(n)) and for each position, we scan all digits to its right to find the maximum (O(n)). However, since the constraint says num \u2264 10^8, the number of digits is at most 9, so the time complexity is effectively constant.",
        "* *Space Complexity**: O(n) where n is the number of digits in the input number. We convert the number to a string and then to a list of digits, which requires O(n) space. Again, since the number of digits is bounded by a small constant, the space complexity is effectively constant."
      ]
    },
    {
      "cell_type": "markdown",
      "metadata": {},
      "source": [
        "## Test Cases\n"
      ]
    },
    {
      "cell_type": "code",
      "metadata": {},
      "source": [
        "def test_maximumSwap():",
        "    # Test case 1: Example from problem statement",
        "    assert maximumSwap(2736) == 7236, \"Failed test case 2736\"",
        "    ",
        "    # Test case 2: No swap needed",
        "    assert maximumSwap(9973) == 9973, \"Failed test case 9973\"",
        "    ",
        "    # Test case 3: Single digit",
        "    assert maximumSwap(5) == 5, \"Failed test case 5\"",
        "    ",
        "    # Test case 4: Two digits",
        "    assert maximumSwap(12) == 21, \"Failed test case 12\"",
        "    ",
        "    # Test case 5: Multiple occurrences of the same digit",
        "    assert maximumSwap(1993) == 9913, \"Failed test case 1993\"",
        "    ",
        "    # Test case 6: Zero",
        "    assert maximumSwap(0) == 0, \"Failed test case 0\"",
        "    ",
        "    # Test case 7: Digits in descending order",
        "    assert maximumSwap(9876) == 9876, \"Failed test case 9876\"",
        "    ",
        "    # Test case 8: Swap with rightmost largest digit",
        "    assert maximumSwap(98368) == 98863, \"Failed test case 98368\"",
        "    ",
        "    print(\"All test cases passed!\")",
        "",
        "# Run the tests",
        "test_maximumSwap()",
        ""
      ],
      "execution_count": null,
      "outputs": []
    }
  ],
  "metadata": {
    "kernelspec": {
      "display_name": "Python 3",
      "language": "python",
      "name": "python3"
    },
    "language_info": {
      "codemirror_mode": {
        "name": "ipython",
        "version": 3
      },
      "file_extension": ".py",
      "mimetype": "text/x-python",
      "name": "python",
      "nbconvert_exporter": "python",
      "pygments_lexer": "ipython3",
      "version": "3.11.9"
    }
  },
  "nbformat": 4,
  "nbformat_minor": 5
}