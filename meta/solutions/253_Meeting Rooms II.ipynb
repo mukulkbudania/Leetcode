{
  "cells": [
    {
      "cell_type": "markdown",
      "metadata": {},
      "source": [
        "# 253. Meeting Rooms II"
      ]
    },
    {
      "cell_type": "markdown",
      "metadata": {},
      "source": [
        "Given an array of meeting time intervals intervals where intervals[i] = [starti, endi], return the minimum number of conference rooms required.",
        "",
        "",
        "",
        " ",
        "",
        "",
        "",
        "**Example 1:**",
        "",
        "",
        "",
        "Input: intervals = [[0,30],[5,10],[15,20]]",
        "",
        "Output: 2",
        "",
        "**Example 2:**",
        "",
        "",
        "",
        "Input: intervals = [[7,10],[2,4]]",
        "",
        "Output: 1",
        "",
        " ",
        "",
        "",
        "",
        "**Constraints:**",
        "",
        "",
        "",
        "1 <= intervals.length <= 104",
        "",
        "0 <= starti < endi <= 106"
      ]
    },
    {
      "cell_type": "markdown",
      "metadata": {},
      "source": [
        "## Solution Explanation\n",
        "To solve this problem, we need to determine the minimum number of conference rooms required to accommodate all meetings without any overlap conflicts.",
        "",
        "The key insight is to track when rooms are occupied and released. We can do this by:",
        "",
        "1. Separating all start times and end times",
        "2. Sorting both start and end time arrays",
        "3. Simulating the chronological flow of meetings by comparing start and end times",
        "",
        "As we iterate through the sorted start times:",
        "* If a new meeting starts before the earliest ending meeting finishes, we need an additional room",
        "* If a meeting ends before or at the same time a new one starts, we can reuse that room",
        "",
        "We'll use two pointers to track our position in the start and end time arrays. The maximum number of rooms needed at any point will be our answer."
      ]
    },
    {
      "cell_type": "code",
      "metadata": {},
      "source": [
        "def minMeetingRooms(intervals):",
        "    if not intervals:",
        "        return 0",
        "    ",
        "    # Extract start and end times",
        "    start_times = sorted([interval[0] for interval in intervals])",
        "    end_times = sorted([interval[1] for interval in intervals])",
        "    ",
        "    rooms_needed = 0",
        "    max_rooms = 0",
        "    ",
        "    start_ptr = 0",
        "    end_ptr = 0",
        "    ",
        "    # Process events in chronological order",
        "    while start_ptr < len(intervals):",
        "        # If the next event is a meeting start",
        "        if start_times[start_ptr] < end_times[end_ptr]:",
        "            rooms_needed += 1",
        "            start_ptr += 1",
        "        # If the next event is a meeting end",
        "        else:",
        "            rooms_needed -= 1",
        "            end_ptr += 1",
        "        ",
        "        max_rooms = max(max_rooms, rooms_needed)",
        "    ",
        "    return max_rooms",
        ""
      ],
      "execution_count": null,
      "outputs": []
    },
    {
      "cell_type": "markdown",
      "metadata": {},
      "source": [
        "## Time and Space Complexity\n",
        "* *Time Complexity**: O(n log n)",
        "* Sorting the start and end times takes O(n log n) time, where n is the number of meetings",
        "* The while loop iterates through all meetings once, which is O(n)",
        "* Overall, the time complexity is dominated by the sorting operations: O(n log n)",
        "* *Space Complexity**: O(n)",
        "* We store two arrays of length n for the start and end times",
        "* The space used for sorting depends on the implementation, but is typically O(n)",
        "* Overall, the space complexity is O(n)"
      ]
    },
    {
      "cell_type": "markdown",
      "metadata": {},
      "source": [
        "## Test Cases\n"
      ]
    },
    {
      "cell_type": "code",
      "metadata": {},
      "source": [
        "def test_min_meeting_rooms():",
        "    # Test case 1: Example from problem statement",
        "    assert minMeetingRooms([[0, 30], [5, 10], [15, 20]]) == 2",
        "    ",
        "    # Test case 2: Example from problem statement",
        "    assert minMeetingRooms([[7, 10], [2, 4]]) == 1",
        "    ",
        "    # Test case 3: Empty input",
        "    assert minMeetingRooms([]) == 0",
        "    ",
        "    # Test case 4: Single meeting",
        "    assert minMeetingRooms([[1, 5]]) == 1",
        "    ",
        "    # Test case 5: Multiple overlapping meetings requiring many rooms",
        "    assert minMeetingRooms([[1, 10], [2, 7], [3, 19], [8, 12], [10, 20], [11, 30]]) == 4",
        "    ",
        "    # Test case 6: Back-to-back meetings (no overlap)",
        "    assert minMeetingRooms([[1, 5], [5, 10], [10, 15]]) == 1",
        "    ",
        "    # Test case 7: Nested meetings",
        "    assert minMeetingRooms([[1, 10], [2, 5], [3, 4]]) == 3",
        "    ",
        "    print(\"All test cases passed!\")",
        "",
        "# Run the tests",
        "test_min_meeting_rooms()",
        ""
      ],
      "execution_count": null,
      "outputs": []
    }
  ],
  "metadata": {
    "kernelspec": {
      "display_name": "Python 3",
      "language": "python",
      "name": "python3"
    },
    "language_info": {
      "codemirror_mode": {
        "name": "ipython",
        "version": 3
      },
      "file_extension": ".py",
      "mimetype": "text/x-python",
      "name": "python",
      "nbconvert_exporter": "python",
      "pygments_lexer": "ipython3",
      "version": "3.11.9"
    }
  },
  "nbformat": 4,
  "nbformat_minor": 5
}