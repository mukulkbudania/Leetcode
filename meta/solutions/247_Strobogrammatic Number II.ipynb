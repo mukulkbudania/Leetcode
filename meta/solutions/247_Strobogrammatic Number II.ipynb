{
  "cells": [
    {
      "cell_type": "markdown",
      "metadata": {},
      "source": [
        "# 247. Strobogrammatic Number II"
      ]
    },
    {
      "cell_type": "markdown",
      "metadata": {},
      "source": [
        "Given an integer n, return all the strobogrammatic numbers that are of length n. You may return the answer in any order.",
        "",
        "",
        "",
        "A strobogrammatic number is a number that looks the same when rotated 180 degrees (looked at upside down).",
        "",
        "",
        "",
        " ",
        "",
        "",
        "",
        "**Example 1:**",
        "",
        "",
        "",
        "Input: n = 2",
        "",
        "Output: [\"11\",\"69\",\"88\",\"96\"]",
        "",
        "**Example 2:**",
        "",
        "",
        "",
        "Input: n = 1",
        "",
        "Output: [\"0\",\"1\",\"8\"]",
        "",
        " ",
        "",
        "",
        "",
        "**Constraints:**",
        "",
        "",
        "",
        "1 <= n <= 14"
      ]
    },
    {
      "cell_type": "markdown",
      "metadata": {},
      "source": [
        "## Solution Explanation\n",
        "To solve this problem, we need to find all strobogrammatic numbers of length n. A strobogrammatic number is a number that looks the same when rotated 180 degrees.",
        "",
        "The key insight is to understand which digits are strobogrammatic:",
        "* 0 rotated becomes 0",
        "* 1 rotated becomes 1",
        "* 8 rotated becomes 8",
        "* 6 rotated becomes 9",
        "* 9 rotated becomes 6",
        "",
        "All other digits are not strobogrammatic.",
        "",
        "We can use a recursive approach:",
        "1. Start with base cases:",
        "* For n=1: [\"0\", \"1\", \"8\"]",
        "* For n=2: [\"11\", \"69\", \"88\", \"96\", \"00\"]",
        "* Note: \"00\" is only valid if it's not the entire number (i.e., not for n=2 directly)",
        "",
        "2. For n > 2, we can build strobogrammatic numbers recursively:",
        "* Find all strobogrammatic numbers of length n-2",
        "* For each such number, insert pairs of strobogrammatic digits at the beginning and end",
        "* Valid pairs are: (0,0), (1,1), (8,8), (6,9), (9,6)",
        "",
        "3. Special handling for leading zeros:",
        "* We need to exclude numbers with leading zeros when returning the final result"
      ]
    },
    {
      "cell_type": "code",
      "metadata": {},
      "source": [
        "class Solution:",
        "    def findStrobogrammatic(self, n: int) -> list[str]:",
        "        def generate_strobogrammatic(length):",
        "            # Base cases",
        "            if length == 0:",
        "                return [\"\"]",
        "            if length == 1:",
        "                return [\"0\", \"1\", \"8\"]",
        "            ",
        "            # Get all strobogrammatic numbers with length-2",
        "            middles = generate_strobogrammatic(length - 2)",
        "            result = []",
        "            ",
        "            # Add pairs around each middle number",
        "            for middle in middles:",
        "                # Don't add '0' at the beginning if it's the outermost digit",
        "                if length != n:",
        "                    result.append(\"0\" + middle + \"0\")",
        "                ",
        "                result.append(\"1\" + middle + \"1\")",
        "                result.append(\"8\" + middle + \"8\")",
        "                result.append(\"6\" + middle + \"9\")",
        "                result.append(\"9\" + middle + \"6\")",
        "            ",
        "            return result",
        "        ",
        "        return generate_strobogrammatic(n)",
        ""
      ],
      "execution_count": null,
      "outputs": []
    },
    {
      "cell_type": "markdown",
      "metadata": {},
      "source": [
        "## Time and Space Complexity\n",
        "Time Complexity: O(5^(n/2))",
        "* For each recursive call, we generate 5 new numbers for each number in the previous call",
        "* We make approximately n/2 recursive calls",
        "* This leads to approximately 5^(n/2) numbers in the final result",
        "",
        "Space Complexity: O(5^(n/2))",
        "* We need to store all the generated strobogrammatic numbers",
        "* The number of strobogrammatic numbers of length n is approximately 5^(n/2)",
        "* The recursion stack also takes O(n) space, but this is dominated by the output size"
      ]
    },
    {
      "cell_type": "markdown",
      "metadata": {},
      "source": [
        "## Test Cases\n"
      ]
    },
    {
      "cell_type": "code",
      "metadata": {},
      "source": [
        "def test_solution():",
        "    solution = Solution()",
        "    ",
        "    # Test case 1: n = 1",
        "    result1 = solution.findStrobogrammatic(1)",
        "    expected1 = [\"0\", \"1\", \"8\"]",
        "    assert sorted(result1) == sorted(expected1), f\"Expected {expected1}, got {result1}\"",
        "    ",
        "    # Test case 2: n = 2",
        "    result2 = solution.findStrobogrammatic(2)",
        "    expected2 = [\"11\", \"69\", \"88\", \"96\"]",
        "    assert sorted(result2) == sorted(expected2), f\"Expected {expected2}, got {result2}\"",
        "    ",
        "    # Test case 3: n = 3",
        "    result3 = solution.findStrobogrammatic(3)",
        "    expected3 = [\"101\", \"111\", \"181\", \"609\", \"619\", \"689\", \"808\", \"818\", \"888\", \"906\", \"916\", \"986\"]",
        "    assert sorted(result3) == sorted(expected3), f\"Expected {expected3}, got {result3}\"",
        "    ",
        "    # Test case 4: n = 4",
        "    result4 = solution.findStrobogrammatic(4)",
        "    # Check length instead of full comparison for brevity",
        "    assert len(result4) == 20, f\"Expected 20 results, got {len(result4)}\"",
        "    # Verify a few expected values",
        "    assert \"1001\" in result4",
        "    assert \"8008\" in result4",
        "    assert \"9006\" in result4",
        "    assert \"1111\" in result4",
        "    ",
        "    print(\"All test cases passed!\")",
        "",
        "test_solution()",
        ""
      ],
      "execution_count": null,
      "outputs": []
    }
  ],
  "metadata": {
    "kernelspec": {
      "display_name": "Python 3",
      "language": "python",
      "name": "python3"
    },
    "language_info": {
      "codemirror_mode": {
        "name": "ipython",
        "version": 3
      },
      "file_extension": ".py",
      "mimetype": "text/x-python",
      "name": "python",
      "nbconvert_exporter": "python",
      "pygments_lexer": "ipython3",
      "version": "3.11.9"
    }
  },
  "nbformat": 4,
  "nbformat_minor": 5
}