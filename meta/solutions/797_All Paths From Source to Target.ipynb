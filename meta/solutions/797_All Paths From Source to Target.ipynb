{
  "cells": [
    {
      "cell_type": "markdown",
      "metadata": {},
      "source": [
        "# 797. All Paths From Source to Target"
      ]
    },
    {
      "cell_type": "markdown",
      "metadata": {},
      "source": [
        "Given a directed acyclic graph (DAG) of n nodes labeled from 0 to n - 1, find all possible paths from node 0 to node n - 1 and return them in any order.",
        "",
        "",
        "",
        "The graph is given as follows: graph[i] is a list of all nodes you can visit from node i (i.e., there is a directed edge from node i to node graph[i][j]).",
        "",
        "",
        "",
        " ",
        "",
        "",
        "",
        "**Example 1:**",
        "",
        "",
        "",
        "",
        "",
        "Input: graph = [[1,2],[3],[3],[]]",
        "",
        "Output: [[0,1,3],[0,2,3]]",
        "",
        "Explanation: There are two paths: 0 -> 1 -> 3 and 0 -> 2 -> 3.",
        "",
        "**Example 2:**",
        "",
        "",
        "",
        "",
        "",
        "Input: graph = [[4,3,1],[3,2,4],[3],[4],[]]",
        "",
        "Output: [[0,4],[0,3,4],[0,1,3,4],[0,1,2,3,4],[0,1,4]]",
        "",
        " ",
        "",
        "",
        "",
        "**Constraints:**",
        "",
        "",
        "",
        "n == graph.length",
        "",
        "2 <= n <= 15",
        "",
        "0 <= graph[i][j] < n",
        "",
        "graph[i][j] != i (i.e., there will be no self-loops).",
        "",
        "All the elements of graph[i] are unique.",
        "",
        "The input graph is guaranteed to be a DAG."
      ]
    },
    {
      "cell_type": "markdown",
      "metadata": {},
      "source": [
        "## Solution Explanation\n",
        "This problem asks us to find all possible paths from node 0 to node n-1 in a directed acyclic graph (DAG). Since we need to find all possible paths, we'll use a depth-first search (DFS) approach.",
        "",
        "The algorithm works as follows:",
        "1. Start a DFS from node 0.",
        "2. For each node, explore all its neighbors.",
        "3. Keep track of the current path as we traverse.",
        "4. When we reach node n-1, we've found a valid path, so add it to our result.",
        "5. Use backtracking to explore all possible paths.",
        "",
        "Since the graph is a DAG, we don't need to worry about cycles, so we don't need to keep track of visited nodes to avoid infinite loops. However, we do need to make sure we don't revisit nodes in the current path."
      ]
    },
    {
      "cell_type": "code",
      "metadata": {},
      "source": [
        "from typing import List",
        "",
        "class Solution:",
        "    def allPathsSourceTarget(self, graph: List[List[int]]) -> List[List[int]]:",
        "        n = len(graph)",
        "        result = []",
        "        ",
        "        def dfs(node, path):",
        "            # Add current node to path",
        "            path.append(node)",
        "            ",
        "            # If we've reached the target node, add the path to result",
        "            if node == n - 1:",
        "                result.append(path.copy())",
        "                path.pop()  # Backtrack",
        "                return",
        "            ",
        "            # Explore all neighbors",
        "            for neighbor in graph[node]:",
        "                dfs(neighbor, path)",
        "            ",
        "            # Backtrack",
        "            path.pop()",
        "        ",
        "        dfs(0, [])",
        "        return result",
        ""
      ],
      "execution_count": null,
      "outputs": []
    },
    {
      "cell_type": "markdown",
      "metadata": {},
      "source": [
        "## Time and Space Complexity\n",
        "* *Time Complexity**: O(2^n * n), where n is the number of nodes in the graph. In the worst case, there could be 2^(n-2) paths from node 0 to node n-1 (if every node except 0 and n-1 is connected to every other node). For each path, we need O(n) time to copy it to the result.",
        "* *Space Complexity**: O(n) for the recursion stack and the current path we're building. The result space is not counted in the space complexity analysis as it's part of the output."
      ]
    },
    {
      "cell_type": "markdown",
      "metadata": {},
      "source": [
        "## Test Cases\n"
      ]
    },
    {
      "cell_type": "code",
      "metadata": {},
      "source": [
        "def test_solution():",
        "    solution = Solution()",
        "    ",
        "    # Test case 1: Example 1 from the problem",
        "    graph1 = [[1, 2], [3], [3], []]",
        "    expected1 = [[0, 1, 3], [0, 2, 3]]",
        "    result1 = solution.allPathsSourceTarget(graph1)",
        "    assert sorted([tuple(path) for path in result1]) == sorted([tuple(path) for path in expected1]), f\"Expected {expected1}, got {result1}\"",
        "    ",
        "    # Test case 2: Example 2 from the problem",
        "    graph2 = [[4, 3, 1], [3, 2, 4], [3], [4], []]",
        "    expected2 = [[0, 4], [0, 3, 4], [0, 1, 3, 4], [0, 1, 2, 3, 4], [0, 1, 4]]",
        "    result2 = solution.allPathsSourceTarget(graph2)",
        "    assert sorted([tuple(path) for path in result2]) == sorted([tuple(path) for path in expected2]), f\"Expected {expected2}, got {result2}\"",
        "    ",
        "    # Test case 3: Minimal graph with just source and target",
        "    graph3 = [[1], []]",
        "    expected3 = [[0, 1]]",
        "    result3 = solution.allPathsSourceTarget(graph3)",
        "    assert result3 == expected3, f\"Expected {expected3}, got {result3}\"",
        "    ",
        "    # Test case 4: No direct path from source to target",
        "    graph4 = [[1, 2], [2], []]",
        "    expected4 = [[0, 1, 2]]",
        "    result4 = solution.allPathsSourceTarget(graph4)",
        "    assert result4 == expected4, f\"Expected {expected4}, got {result4}\"",
        "    ",
        "    # Test case 5: Multiple paths with different lengths",
        "    graph5 = [[1, 2, 3], [4], [4], [4], [5], []]",
        "    expected5 = [[0, 1, 4, 5], [0, 2, 4, 5], [0, 3, 4, 5]]",
        "    result5 = solution.allPathsSourceTarget(graph5)",
        "    assert sorted([tuple(path) for path in result5]) == sorted([tuple(path) for path in expected5]), f\"Expected {expected5}, got {result5}\"",
        "    ",
        "    print(\"All test cases passed!\")",
        "",
        "test_solution()",
        ""
      ],
      "execution_count": null,
      "outputs": []
    }
  ],
  "metadata": {
    "kernelspec": {
      "display_name": "Python 3",
      "language": "python",
      "name": "python3"
    },
    "language_info": {
      "codemirror_mode": {
        "name": "ipython",
        "version": 3
      },
      "file_extension": ".py",
      "mimetype": "text/x-python",
      "name": "python",
      "nbconvert_exporter": "python",
      "pygments_lexer": "ipython3",
      "version": "3.11.9"
    }
  },
  "nbformat": 4,
  "nbformat_minor": 5
}