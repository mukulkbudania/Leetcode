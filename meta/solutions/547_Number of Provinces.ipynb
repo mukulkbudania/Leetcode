{
  "cells": [
    {
      "cell_type": "markdown",
      "metadata": {},
      "source": [
        "# 547. Number of Provinces"
      ]
    },
    {
      "cell_type": "markdown",
      "metadata": {},
      "source": [
        "There are n cities. Some of them are connected, while some are not. If city a is connected directly with city b, and city b is connected directly with city c, then city a is connected indirectly with city c.",
        "",
        "",
        "",
        "A province is a group of directly or indirectly connected cities and no other cities outside of the group.",
        "",
        "",
        "",
        "You are given an n x n matrix isConnected where isConnected[i][j] = 1 if the ith city and the jth city are directly connected, and isConnected[i][j] = 0 otherwise.",
        "",
        "",
        "",
        "Return the total number of provinces.",
        "",
        "",
        "",
        " ",
        "",
        "",
        "",
        "**Example 1:**",
        "",
        "",
        "",
        "",
        "",
        "Input: isConnected = [[1,1,0],[1,1,0],[0,0,1]]",
        "",
        "Output: 2",
        "",
        "**Example 2:**",
        "",
        "",
        "",
        "",
        "",
        "Input: isConnected = [[1,0,0],[0,1,0],[0,0,1]]",
        "",
        "Output: 3",
        "",
        " ",
        "",
        "",
        "",
        "**Constraints:**",
        "",
        "",
        "",
        "1 <= n <= 200",
        "",
        "n == isConnected.length",
        "",
        "n == isConnected[i].length",
        "",
        "isConnected[i][j] is 1 or 0.",
        "",
        "isConnected[i][i] == 1",
        "",
        "isConnected[i][j] == isConnected[j][i]"
      ]
    },
    {
      "cell_type": "markdown",
      "metadata": {},
      "source": [
        "## Solution Explanation\n",
        "This problem is asking us to find the number of connected components in an undirected graph, where each city is a node and connections between cities are edges. The number of connected components is equivalent to the number of provinces.",
        "",
        "There are two common approaches to solve this problem:",
        "1. Depth-First Search (DFS)",
        "2. Union-Find (Disjoint Set)",
        "",
        "I'll implement the DFS approach. The idea is to:",
        "1. Iterate through each city (node)",
        "2. For each unvisited city, start a DFS to visit all cities in its province",
        "3. Increment the province count for each new DFS we start",
        "4. Return the total province count",
        "",
        "The DFS will mark all cities in a province as visited, so when we encounter them later in our iteration, we won't count them as new provinces."
      ]
    },
    {
      "cell_type": "code",
      "metadata": {},
      "source": [
        "class Solution:",
        "    def findCircleNum(self, isConnected: list[list[int]]) -> int:",
        "        n = len(isConnected)",
        "        visited = [False] * n",
        "        provinces = 0",
        "        ",
        "        def dfs(city):",
        "            visited[city] = True",
        "            for neighbor in range(n):",
        "                if isConnected[city][neighbor] == 1 and not visited[neighbor]:",
        "                    dfs(neighbor)",
        "        ",
        "        for city in range(n):",
        "            if not visited[city]:",
        "                provinces += 1",
        "                dfs(city)",
        "        ",
        "        return provinces",
        ""
      ],
      "execution_count": null,
      "outputs": []
    },
    {
      "cell_type": "markdown",
      "metadata": {},
      "source": [
        "## Time and Space Complexity\n",
        "* *Time Complexity**: O(n\u00b2) where n is the number of cities. In the worst case, we need to traverse the entire adjacency matrix. For each city, we might need to check all other cities to find its connections.",
        "* *Space Complexity**: O(n) for the visited array and the recursion stack. In the worst case (a linear chain of cities), the recursion stack could go n levels deep."
      ]
    },
    {
      "cell_type": "markdown",
      "metadata": {},
      "source": [
        "## Test Cases\n"
      ]
    },
    {
      "cell_type": "code",
      "metadata": {},
      "source": [
        "def test_solution():",
        "    solution = Solution()",
        "    ",
        "    # Test case 1: Example 1 from the problem",
        "    assert solution.findCircleNum([[1,1,0],[1,1,0],[0,0,1]]) == 2",
        "    ",
        "    # Test case 2: Example 2 from the problem",
        "    assert solution.findCircleNum([[1,0,0],[0,1,0],[0,0,1]]) == 3",
        "    ",
        "    # Test case 3: All cities connected (one province)",
        "    assert solution.findCircleNum([[1,1,1],[1,1,1],[1,1,1]]) == 1",
        "    ",
        "    # Test case 4: Single city",
        "    assert solution.findCircleNum([[1]]) == 1",
        "    ",
        "    # Test case 5: Larger example with multiple provinces",
        "    assert solution.findCircleNum([",
        "        [1,0,0,1,0],",
        "        [0,1,1,0,0],",
        "        [0,1,1,0,0],",
        "        [1,0,0,1,0],",
        "        [0,0,0,0,1]",
        "    ]) == 3",
        "    ",
        "    print(\"All test cases passed!\")",
        "",
        "test_solution()",
        ""
      ],
      "execution_count": null,
      "outputs": []
    }
  ],
  "metadata": {
    "kernelspec": {
      "display_name": "Python 3",
      "language": "python",
      "name": "python3"
    },
    "language_info": {
      "codemirror_mode": {
        "name": "ipython",
        "version": 3
      },
      "file_extension": ".py",
      "mimetype": "text/x-python",
      "name": "python",
      "nbconvert_exporter": "python",
      "pygments_lexer": "ipython3",
      "version": "3.11.9"
    }
  },
  "nbformat": 4,
  "nbformat_minor": 5
}