{
  "cells": [
    {
      "cell_type": "markdown",
      "metadata": {},
      "source": [
        "# 139. Word Break"
      ]
    },
    {
      "cell_type": "markdown",
      "metadata": {},
      "source": [
        "Given a string s and a dictionary of strings wordDict, return true if s can be segmented into a space-separated sequence of one or more dictionary words.",
        "",
        "",
        "",
        "Note that the same word in the dictionary may be reused multiple times in the segmentation.",
        "",
        "",
        "",
        " ",
        "",
        "",
        "",
        "**Example 1:**",
        "",
        "",
        "",
        "Input: s = \"leetcode\", wordDict = [\"leet\",\"code\"]",
        "",
        "Output: true",
        "",
        "Explanation: Return true because \"leetcode\" can be segmented as \"leet code\".",
        "",
        "**Example 2:**",
        "",
        "",
        "",
        "Input: s = \"applepenapple\", wordDict = [\"apple\",\"pen\"]",
        "",
        "Output: true",
        "",
        "Explanation: Return true because \"applepenapple\" can be segmented as \"apple pen apple\".",
        "",
        "Note that you are allowed to reuse a dictionary word.",
        "",
        "**Example 3:**",
        "",
        "",
        "",
        "Input: s = \"catsandog\", wordDict = [\"cats\",\"dog\",\"sand\",\"and\",\"cat\"]",
        "",
        "Output: false",
        "",
        " ",
        "",
        "",
        "",
        "**Constraints:**",
        "",
        "",
        "",
        "1 <= s.length <= 300",
        "",
        "1 <= wordDict.length <= 1000",
        "",
        "1 <= wordDict[i].length <= 20",
        "",
        "s and wordDict[i] consist of only lowercase English letters.",
        "",
        "All the strings of wordDict are unique."
      ]
    },
    {
      "cell_type": "markdown",
      "metadata": {},
      "source": [
        "## Solution Explanation\n",
        "This problem is a classic dynamic programming problem. We need to determine if a string can be segmented into words from a given dictionary.",
        "",
        "The key insight is to use a bottom-up dynamic programming approach:",
        "1. Create a boolean array `dp` of length `n+1` where `n` is the length of the string `s`.",
        "2. `dp[i]` represents whether the substring `s[0:i]` can be segmented into words from the dictionary.",
        "3. Base case: `dp[0] = True` (an empty string can always be segmented).",
        "4. For each position `i` in the string, we check if there's a valid word ending at position `i`.",
        "5. If `dp[j]` is True (meaning s[0:j] can be segmented) and s[j:i] is a word in the dictionary, then `dp[i]` is also True.",
        "",
        "This approach efficiently handles the case where words can be reused from the dictionary."
      ]
    },
    {
      "cell_type": "code",
      "metadata": {},
      "source": [
        "def wordBreak(s: str, wordDict: list[str]) -> bool:",
        "    # Convert wordDict to a set for O(1) lookups",
        "    word_set = set(wordDict)",
        "    ",
        "    # Length of the string",
        "    n = len(s)",
        "    ",
        "    # dp[i] indicates whether s[0:i] can be segmented into words from the dictionary",
        "    dp = [False] * (n + 1)",
        "    ",
        "    # Base case: empty string can be segmented",
        "    dp[0] = True",
        "    ",
        "    # Fill the dp array",
        "    for i in range(1, n + 1):",
        "        for j in range(i):",
        "            # If s[0:j] can be segmented and s[j:i] is a word in the dictionary",
        "            if dp[j] and s[j:i] in word_set:",
        "                dp[i] = True",
        "                break",
        "    ",
        "    return dp[n]",
        ""
      ],
      "execution_count": null,
      "outputs": []
    },
    {
      "cell_type": "markdown",
      "metadata": {},
      "source": [
        "## Time and Space Complexity\n",
        "* *Time Complexity**: O(n\u00b2), where n is the length of the string s.",
        "* We have two nested loops: the outer loop runs n times, and the inner loop can run up to n times in the worst case.",
        "* Each substring check s[j:i] takes O(i-j) time, but since Python strings are immutable and slicing creates a new string, we can consider it as O(1) for this analysis.",
        "* The lookup in the word_set is O(1) on average.",
        "* *Space Complexity**: O(n + m), where n is the length of the string and m is the total length of all words in wordDict.",
        "* The dp array takes O(n) space.",
        "* The word_set can take up to O(m) space where m is the total length of all words in wordDict."
      ]
    },
    {
      "cell_type": "markdown",
      "metadata": {},
      "source": [
        "## Test Cases\n"
      ]
    },
    {
      "cell_type": "code",
      "metadata": {},
      "source": [
        "def test_word_break():",
        "    # Test case 1: Basic example",
        "    assert wordBreak(\"leetcode\", [\"leet\", \"code\"]) == True",
        "    ",
        "    # Test case 2: Reusing words from dictionary",
        "    assert wordBreak(\"applepenapple\", [\"apple\", \"pen\"]) == True",
        "    ",
        "    # Test case 3: Cannot be segmented",
        "    assert wordBreak(\"catsandog\", [\"cats\", \"dog\", \"sand\", \"and\", \"cat\"]) == False",
        "    ",
        "    # Test case 4: Empty string",
        "    assert wordBreak(\"\", []) == True",
        "    ",
        "    # Test case 5: Single character",
        "    assert wordBreak(\"a\", [\"a\"]) == True",
        "    ",
        "    # Test case 6: Long string with repeated patterns",
        "    assert wordBreak(\"aaaaaaa\", [\"a\", \"aa\", \"aaa\"]) == True",
        "    ",
        "    # Test case 7: Edge case - no valid segmentation",
        "    assert wordBreak(\"aaaaaaaaaaaaaaaaaaaaaaaaaaaaaaaaaaaaaaaaaaaaaaaaaaaaaaaaaaaaaaaaaaaaaaaaaaaaaaaaaaaaaaaaaaaaaaaaaaaaaaaaaaaaaaaaaaaaaaaaaaaaaaaaaaaaaaaaaaaaaaaaaaaaaab\", ",
        "                    [\"a\",\"aa\",\"aaa\",\"aaaa\",\"aaaaa\"]) == False",
        "    ",
        "    print(\"All test cases passed!\")",
        "",
        "# Run the tests",
        "test_word_break()",
        ""
      ],
      "execution_count": null,
      "outputs": []
    }
  ],
  "metadata": {
    "kernelspec": {
      "display_name": "Python 3",
      "language": "python",
      "name": "python3"
    },
    "language_info": {
      "codemirror_mode": {
        "name": "ipython",
        "version": 3
      },
      "file_extension": ".py",
      "mimetype": "text/x-python",
      "name": "python",
      "nbconvert_exporter": "python",
      "pygments_lexer": "ipython3",
      "version": "3.11.9"
    }
  },
  "nbformat": 4,
  "nbformat_minor": 5
}