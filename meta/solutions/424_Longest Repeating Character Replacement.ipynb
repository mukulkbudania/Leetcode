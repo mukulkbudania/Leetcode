{
  "cells": [
    {
      "cell_type": "markdown",
      "metadata": {},
      "source": [
        "# 424. Longest Repeating Character Replacement"
      ]
    },
    {
      "cell_type": "markdown",
      "metadata": {},
      "source": [
        "You are given a string s and an integer k. You can choose any character of the string and change it to any other uppercase English character. You can perform this operation at most k times.",
        "",
        "",
        "",
        "Return the length of the longest substring containing the same letter you can get after performing the above operations.",
        "",
        "",
        "",
        " ",
        "",
        "",
        "",
        "**Example 1:**",
        "",
        "",
        "",
        "Input: s = \"ABAB\", k = 2",
        "",
        "Output: 4",
        "",
        "Explanation: Replace the two 'A's with two 'B's or vice versa.",
        "",
        "**Example 2:**",
        "",
        "",
        "",
        "Input: s = \"AABABBA\", k = 1",
        "",
        "Output: 4",
        "",
        "Explanation: Replace the one 'A' in the middle with 'B' and form \"AABBBBA\".",
        "",
        "The substring \"BBBB\" has the longest repeating letters, which is 4.",
        "",
        "There may exists other ways to achieve this answer too.",
        "",
        " ",
        "",
        "",
        "",
        "**Constraints:**",
        "",
        "",
        "",
        "1 <= s.length <= 105",
        "",
        "s consists of only uppercase English letters.",
        "",
        "0 <= k <= s.length"
      ]
    },
    {
      "cell_type": "markdown",
      "metadata": {},
      "source": [
        "## Solution Explanation\n",
        "This problem asks for the longest substring with the same letter after at most k character replacements. The key insight is to use a sliding window approach with a frequency counter.",
        "",
        "The algorithm works as follows:",
        "1. Maintain a sliding window and a frequency counter for characters in the window",
        "2. Expand the window by moving the right pointer",
        "3. Calculate how many characters we need to replace to make all characters in the window the same",
        "* This is: (window size) - (count of most frequent character)",
        "4. If the number of replacements needed exceeds k, shrink the window from the left",
        "5. Keep track of the maximum valid window size",
        "",
        "The key insight is that we don't need to actually perform the replacements. We just need to know if it's possible to make all characters in the window the same with at most k replacements."
      ]
    },
    {
      "cell_type": "code",
      "metadata": {},
      "source": [
        "def characterReplacement(s: str, k: int) -> int:",
        "    # Edge case",
        "    if not s:",
        "        return 0",
        "    ",
        "    # Initialize variables",
        "    char_count = {}  # Frequency counter for characters in the window",
        "    max_length = 0   # Result: maximum valid window length",
        "    max_count = 0    # Count of the most frequent character in the window",
        "    left = 0         # Left pointer of the window",
        "    ",
        "    # Iterate through the string with right pointer",
        "    for right in range(len(s)):",
        "        # Update frequency counter for the current character",
        "        char_count[s[right]] = char_count.get(s[right], 0) + 1",
        "        ",
        "        # Update the count of the most frequent character",
        "        max_count = max(max_count, char_count[s[right]])",
        "        ",
        "        # Calculate how many characters we need to replace",
        "        # window_size - count_of_most_frequent_character",
        "        replacements_needed = (right - left + 1) - max_count",
        "        ",
        "        # If we need more replacements than allowed, shrink the window",
        "        if replacements_needed > k:",
        "            char_count[s[left]] -= 1",
        "            left += 1",
        "        ",
        "        # Update the maximum length",
        "        max_length = max(max_length, right - left + 1)",
        "    ",
        "    return max_length",
        ""
      ],
      "execution_count": null,
      "outputs": []
    },
    {
      "cell_type": "markdown",
      "metadata": {},
      "source": [
        "## Time and Space Complexity\n",
        "* *Time Complexity**: O(n), where n is the length of the string. We process each character exactly once with the right pointer, and the left pointer can move at most n times.",
        "* *Space Complexity**: O(1) because we're using a dictionary to store character frequencies, but since we're only dealing with uppercase English letters, the dictionary will have at most 26 entries regardless of the input size."
      ]
    },
    {
      "cell_type": "markdown",
      "metadata": {},
      "source": [
        "## Test Cases\n"
      ]
    },
    {
      "cell_type": "code",
      "metadata": {},
      "source": [
        "def test_character_replacement():",
        "    # Test case 1: Example 1 from the problem",
        "    assert characterReplacement(\"ABAB\", 2) == 4",
        "    print(\"Test case 1 passed!\")",
        "    ",
        "    # Test case 2: Example 2 from the problem",
        "    assert characterReplacement(\"AABABBA\", 1) == 4",
        "    print(\"Test case 2 passed!\")",
        "    ",
        "    # Test case 3: All same characters",
        "    assert characterReplacement(\"AAAA\", 0) == 4",
        "    print(\"Test case 3 passed!\")",
        "    ",
        "    # Test case 4: k is 0, no replacements allowed",
        "    assert characterReplacement(\"ABCDE\", 0) == 1",
        "    print(\"Test case 4 passed!\")",
        "    ",
        "    # Test case 5: k is large enough to replace all characters",
        "    assert characterReplacement(\"ABCDE\", 5) == 5",
        "    print(\"Test case 5 passed!\")",
        "    ",
        "    # Test case 6: Empty string",
        "    assert characterReplacement(\"\", 3) == 0",
        "    print(\"Test case 6 passed!\")",
        "    ",
        "    # Test case 7: Single character",
        "    assert characterReplacement(\"A\", 10) == 1",
        "    print(\"Test case 7 passed!\")",
        "    ",
        "    # Test case 8: Complex case",
        "    assert characterReplacement(\"ABCDEFGHIJKLMNOPQRSTUVWXYZ\", 10) == 11",
        "    print(\"Test case 8 passed!\")",
        "",
        "# Run the tests",
        "test_character_replacement()",
        ""
      ],
      "execution_count": null,
      "outputs": []
    }
  ],
  "metadata": {
    "kernelspec": {
      "display_name": "Python 3",
      "language": "python",
      "name": "python3"
    },
    "language_info": {
      "codemirror_mode": {
        "name": "ipython",
        "version": 3
      },
      "file_extension": ".py",
      "mimetype": "text/x-python",
      "name": "python",
      "nbconvert_exporter": "python",
      "pygments_lexer": "ipython3",
      "version": "3.11.9"
    }
  },
  "nbformat": 4,
  "nbformat_minor": 5
}