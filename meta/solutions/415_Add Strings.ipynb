{
  "cells": [
    {
      "cell_type": "markdown",
      "metadata": {},
      "source": [
        "# 415. Add Strings"
      ]
    },
    {
      "cell_type": "markdown",
      "metadata": {},
      "source": [
        "Given two non-negative integers, num1 and num2 represented as string, return the sum of num1 and num2 as a string.",
        "",
        "",
        "",
        "You must solve the problem without using any built-in library for handling large integers (such as BigInteger). You must also not convert the inputs to integers directly.",
        "",
        "",
        "",
        " ",
        "",
        "",
        "",
        "**Example 1:**",
        "",
        "",
        "",
        "Input: num1 = \"11\", num2 = \"123\"",
        "",
        "Output: \"134\"",
        "",
        "**Example 2:**",
        "",
        "",
        "",
        "Input: num1 = \"456\", num2 = \"77\"",
        "",
        "Output: \"533\"",
        "",
        "**Example 3:**",
        "",
        "",
        "",
        "Input: num1 = \"0\", num2 = \"0\"",
        "",
        "Output: \"0\"",
        "",
        " ",
        "",
        "",
        "",
        "**Constraints:**",
        "",
        "",
        "",
        "1 <= num1.length, num2.length <= 104",
        "",
        "num1 and num2 consist of only digits.",
        "",
        "num1 and num2 don't have any leading zeros except for the zero itself."
      ]
    },
    {
      "cell_type": "markdown",
      "metadata": {},
      "source": [
        "## Solution Explanation\n",
        "To solve this problem of adding two string numbers without converting them to integers, we'll implement a digit-by-digit addition algorithm similar to how we add numbers by hand:",
        "",
        "1. Start from the rightmost digits of both numbers",
        "2. Add the corresponding digits along with any carry from the previous addition",
        "3. Take the remainder when divided by 10 as the current digit of the result",
        "4. Take the quotient when divided by 10 as the carry for the next addition",
        "5. Continue this process until we've processed all digits from both numbers",
        "",
        "Since the strings might have different lengths, we'll iterate from right to left until we've processed all digits from both numbers. If there's a final carry after processing all digits, we'll add it to the beginning of our result."
      ]
    },
    {
      "cell_type": "code",
      "metadata": {},
      "source": [
        "def addStrings(num1: str, num2: str) -> str:",
        "    # Pointers to the last digits of both numbers",
        "    p1, p2 = len(num1) - 1, len(num2) - 1",
        "    ",
        "    # Initialize result and carry",
        "    result = []",
        "    carry = 0",
        "    ",
        "    # Process digits from right to left",
        "    while p1 >= 0 or p2 >= 0:",
        "        # Get current digits (or 0 if we've gone past the start of the string)",
        "        x1 = ord(num1[p1]) - ord('0') if p1 >= 0 else 0",
        "        x2 = ord(num2[p2]) - ord('0') if p2 >= 0 else 0",
        "        ",
        "        # Calculate value and new carry",
        "        value = (x1 + x2 + carry) % 10",
        "        carry = (x1 + x2 + carry) // 10",
        "        ",
        "        # Add current digit to result",
        "        result.append(str(value))",
        "        ",
        "        # Move pointers",
        "        p1 -= 1",
        "        p2 -= 1",
        "    ",
        "    # If there's still a carry, add it to the result",
        "    if carry:",
        "        result.append(str(carry))",
        "    ",
        "    # Reverse the result and join into a string",
        "    return ''.join(result[::-1])",
        ""
      ],
      "execution_count": null,
      "outputs": []
    },
    {
      "cell_type": "markdown",
      "metadata": {},
      "source": [
        "## Time and Space Complexity\n",
        "* *Time Complexity**: O(max(n, m)) where n and m are the lengths of num1 and num2 respectively. We iterate through both strings once, processing each digit in constant time.",
        "* *Space Complexity**: O(max(n, m)) for the result string. In the worst case, the sum will have max(n, m) + 1 digits (when there's a carry in the most significant position)."
      ]
    },
    {
      "cell_type": "markdown",
      "metadata": {},
      "source": [
        "## Test Cases\n"
      ]
    },
    {
      "cell_type": "code",
      "metadata": {},
      "source": [
        "def test_addStrings():",
        "    # Test case 1: Example from the problem",
        "    assert addStrings(\"11\", \"123\") == \"134\"",
        "    ",
        "    # Test case 2: Example from the problem",
        "    assert addStrings(\"456\", \"77\") == \"533\"",
        "    ",
        "    # Test case 3: Example from the problem",
        "    assert addStrings(\"0\", \"0\") == \"0\"",
        "    ",
        "    # Test case 4: Different length strings",
        "    assert addStrings(\"9\", \"99\") == \"108\"",
        "    ",
        "    # Test case 5: Large numbers",
        "    assert addStrings(\"9999\", \"1\") == \"10000\"",
        "    ",
        "    # Test case 6: Equal length strings with carry",
        "    assert addStrings(\"999\", \"999\") == \"1998\"",
        "    ",
        "    # Test case 7: One empty string (though problem states min length is 1)",
        "    assert addStrings(\"123\", \"\") == \"123\"",
        "    ",
        "    # Test case 8: Very large numbers",
        "    num1 = \"1\" * 10000",
        "    num2 = \"9\" * 10000",
        "    expected = \"1\" + \"0\" * 10000",
        "    assert addStrings(num1, num2) == expected",
        "    ",
        "    print(\"All test cases passed!\")",
        "",
        "# Run the tests",
        "test_addStrings()",
        ""
      ],
      "execution_count": null,
      "outputs": []
    }
  ],
  "metadata": {
    "kernelspec": {
      "display_name": "Python 3",
      "language": "python",
      "name": "python3"
    },
    "language_info": {
      "codemirror_mode": {
        "name": "ipython",
        "version": 3
      },
      "file_extension": ".py",
      "mimetype": "text/x-python",
      "name": "python",
      "nbconvert_exporter": "python",
      "pygments_lexer": "ipython3",
      "version": "3.11.9"
    }
  },
  "nbformat": 4,
  "nbformat_minor": 5
}