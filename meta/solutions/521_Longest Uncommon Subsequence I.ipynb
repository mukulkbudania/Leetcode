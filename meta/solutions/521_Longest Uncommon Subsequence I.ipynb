{
  "cells": [
    {
      "cell_type": "markdown",
      "metadata": {},
      "source": [
        "# 521. Longest Uncommon Subsequence I"
      ]
    },
    {
      "cell_type": "markdown",
      "metadata": {},
      "source": [
        "Given two strings a and b, return the length of the longest uncommon subsequence between a and b. If no such uncommon subsequence exists, return -1.",
        "",
        "",
        "",
        "An uncommon subsequence between two strings is a string that is a subsequence of exactly one of them.",
        "",
        "",
        "",
        " ",
        "",
        "",
        "",
        "**Example 1:**",
        "",
        "",
        "",
        "Input: a = \"aba\", b = \"cdc\"",
        "",
        "Output: 3",
        "",
        "Explanation: One longest uncommon subsequence is \"aba\" because \"aba\" is a subsequence of \"aba\" but not \"cdc\".",
        "",
        "Note that \"cdc\" is also a longest uncommon subsequence.",
        "",
        "**Example 2:**",
        "",
        "",
        "",
        "Input: a = \"aaa\", b = \"bbb\"",
        "",
        "Output: 3",
        "",
        "Explanation: The longest uncommon subsequences are \"aaa\" and \"bbb\".",
        "",
        "**Example 3:**",
        "",
        "",
        "",
        "Input: a = \"aaa\", b = \"aaa\"",
        "",
        "Output: -1",
        "",
        "Explanation: Every subsequence of string a is also a subsequence of string b. Similarly, every subsequence of string b is also a subsequence of string a. So the answer would be -1.",
        "",
        " ",
        "",
        "",
        "",
        "**Constraints:**",
        "",
        "",
        "",
        "1 <= a.length, b.length <= 100",
        "",
        "a and b consist of lower-case English letters.",
        "",
        ""
      ]
    },
    {
      "cell_type": "markdown",
      "metadata": {},
      "source": [
        "## Solution Explanation\n",
        "This problem asks for the length of the longest uncommon subsequence between two strings. An uncommon subsequence is a string that is a subsequence of one string but not the other.",
        "",
        "The key insight is to understand when a subsequence can be uncommon:",
        "",
        "1. If strings `a` and `b` are different, then the longer string itself is an uncommon subsequence (since it cannot be a subsequence of the shorter string).",
        "2. If strings `a` and `b` are the same, then no uncommon subsequence exists (every subsequence of `a` is also a subsequence of `b` and vice versa).",
        "3. If strings `a` and `b` have the same length but are different, then either string is an uncommon subsequence.",
        "",
        "Therefore, the solution is quite simple:",
        "* If `a` equals `b`, return -1 (no uncommon subsequence exists)",
        "* Otherwise, return the length of the longer string (or either string if they have the same length)"
      ]
    },
    {
      "cell_type": "code",
      "metadata": {},
      "source": [
        "def findLUSlength(a: str, b: str) -> int:",
        "    # If the strings are identical, no uncommon subsequence exists",
        "    if a == b:",
        "        return -1",
        "    ",
        "    # Otherwise, the longer string is the longest uncommon subsequence",
        "    return max(len(a), len(b))",
        ""
      ],
      "execution_count": null,
      "outputs": []
    },
    {
      "cell_type": "markdown",
      "metadata": {},
      "source": [
        "## Time and Space Complexity\n",
        "* *Time Complexity**: O(min(len(a), len(b)))",
        "* Comparing two strings takes time proportional to the length of the shorter string",
        "* Finding the maximum length is O(1)",
        "* *Space Complexity**: O(1)",
        "* We only use a constant amount of extra space regardless of input size"
      ]
    },
    {
      "cell_type": "markdown",
      "metadata": {},
      "source": [
        "## Test Cases\n"
      ]
    },
    {
      "cell_type": "code",
      "metadata": {},
      "source": [
        "def test_findLUSlength():",
        "    # Test case 1: Different strings of same length",
        "    assert findLUSlength(\"aba\", \"cdc\") == 3",
        "    ",
        "    # Test case 2: Completely different strings",
        "    assert findLUSlength(\"aaa\", \"bbb\") == 3",
        "    ",
        "    # Test case 3: Identical strings",
        "    assert findLUSlength(\"aaa\", \"aaa\") == -1",
        "    ",
        "    # Test case 4: One string is longer",
        "    assert findLUSlength(\"abcdef\", \"abc\") == 6",
        "    ",
        "    # Test case 5: Empty string and non-empty string",
        "    assert findLUSlength(\"\", \"abc\") == 3",
        "    ",
        "    # Test case 6: Both strings are empty",
        "    assert findLUSlength(\"\", \"\") == -1",
        "    ",
        "    # Test case 7: One string is a subsequence of the other but not identical",
        "    assert findLUSlength(\"abc\", \"abcdef\") == 6",
        "    ",
        "    print(\"All test cases passed!\")",
        "",
        "# Run the tests",
        "test_findLUSlength()",
        ""
      ],
      "execution_count": null,
      "outputs": []
    }
  ],
  "metadata": {
    "kernelspec": {
      "display_name": "Python 3",
      "language": "python",
      "name": "python3"
    },
    "language_info": {
      "codemirror_mode": {
        "name": "ipython",
        "version": 3
      },
      "file_extension": ".py",
      "mimetype": "text/x-python",
      "name": "python",
      "nbconvert_exporter": "python",
      "pygments_lexer": "ipython3",
      "version": "3.11.9"
    }
  },
  "nbformat": 4,
  "nbformat_minor": 5
}