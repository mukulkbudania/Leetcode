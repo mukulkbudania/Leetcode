{
  "cells": [
    {
      "cell_type": "markdown",
      "metadata": {},
      "source": [
        "# 5. Longest Palindromic Substring"
      ]
    },
    {
      "cell_type": "markdown",
      "metadata": {},
      "source": [
        "Given a string s, return the longest palindromic substring in s.",
        "",
        "",
        "",
        " ",
        "",
        "",
        "",
        "**Example 1:**",
        "",
        "",
        "",
        "Input: s = \"babad\"",
        "",
        "Output: \"bab\"",
        "",
        "Explanation: \"aba\" is also a valid answer.",
        "",
        "**Example 2:**",
        "",
        "",
        "",
        "Input: s = \"cbbd\"",
        "",
        "Output: \"bb\"",
        "",
        " ",
        "",
        "",
        "",
        "**Constraints:**",
        "",
        "",
        "",
        "1 <= s.length <= 1000",
        "",
        "s consist of only digits and English letters."
      ]
    },
    {
      "cell_type": "markdown",
      "metadata": {},
      "source": [
        "## Solution Explanation\n",
        "To find the longest palindromic substring, I'll use the \"expand around center\" approach. This is more efficient than the naive approach of checking all possible substrings.",
        "",
        "The key insight is that a palindrome mirrors around its center. The center can be either:",
        "1. A single character (for odd-length palindromes like \"racecar\")",
        "2. Between two characters (for even-length palindromes like \"abba\")",
        "",
        "For each position in the string, we'll try to expand outward in both directions as long as the characters match. We'll keep track of the longest palindrome found.",
        "",
        "The algorithm steps are:",
        "1. For each position i in the string:",
        "   a. Expand around center i (odd-length palindromes)",
        "   b. Expand around center i and i+1 (even-length palindromes)",
        "2. Keep track of the longest palindrome found",
        "3. Return the longest palindrome substring"
      ]
    },
    {
      "cell_type": "code",
      "metadata": {},
      "source": [
        "def longestPalindrome(s: str) -> str:",
        "    if not s:",
        "        return \"\"",
        "    ",
        "    start = 0",
        "    max_length = 1",
        "    ",
        "    # Helper function to expand around center",
        "    def expand_around_center(left, right):",
        "        while left >= 0 and right < len(s) and s[left] == s[right]:",
        "            left -= 1",
        "            right += 1",
        "        # Return the length of palindrome",
        "        return right - left - 1, left + 1, right - 1",
        "    ",
        "    # Check each position as a potential center",
        "    for i in range(len(s)):",
        "        # Odd length palindrome with center at i",
        "        odd_length, odd_start, odd_end = expand_around_center(i, i)",
        "        ",
        "        # Even length palindrome with center between i and i+1",
        "        even_length, even_start, even_end = expand_around_center(i, i + 1)",
        "        ",
        "        # Update the longest palindrome if needed",
        "        if odd_length > max_length:",
        "            max_length = odd_length",
        "            start = odd_start",
        "            end = odd_end",
        "        ",
        "        if even_length > max_length:",
        "            max_length = even_length",
        "            start = even_start",
        "            end = even_end",
        "    ",
        "    return s[start:end + 1]",
        ""
      ],
      "execution_count": null,
      "outputs": []
    },
    {
      "cell_type": "markdown",
      "metadata": {},
      "source": [
        "## Time and Space Complexity\n",
        "* *Time Complexity**: O(n\u00b2) where n is the length of the string.",
        "* For each of the n positions in the string, we potentially expand up to n/2 positions to the left and right.",
        "* The expand_around_center function takes O(n) time in the worst case.",
        "* We call this function 2n times (once for odd-length and once for even-length palindromes at each position).",
        "* Therefore, the overall time complexity is O(n\u00b2).",
        "* *Space Complexity**: O(1) as we only use a constant amount of extra space regardless of the input size. We're not creating any data structures that scale with the input size; we're just keeping track of indices and lengths."
      ]
    },
    {
      "cell_type": "markdown",
      "metadata": {},
      "source": [
        "## Test Cases\n"
      ]
    },
    {
      "cell_type": "code",
      "metadata": {},
      "source": [
        "def test_longest_palindrome():",
        "    # Test case 1: Example from problem statement",
        "    assert longestPalindrome(\"babad\") in [\"bab\", \"aba\"], \"Failed for 'babad'\"",
        "    ",
        "    # Test case 2: Example from problem statement",
        "    assert longestPalindrome(\"cbbd\") == \"bb\", \"Failed for 'cbbd'\"",
        "    ",
        "    # Test case 3: Single character",
        "    assert longestPalindrome(\"a\") == \"a\", \"Failed for single character\"",
        "    ",
        "    # Test case 4: All same characters",
        "    assert longestPalindrome(\"aaaaa\") == \"aaaaa\", \"Failed for all same characters\"",
        "    ",
        "    # Test case 5: No palindrome longer than 1",
        "    assert len(longestPalindrome(\"abcd\")) == 1, \"Failed for no palindrome longer than 1\"",
        "    ",
        "    # Test case 6: Long palindrome",
        "    assert longestPalindrome(\"abcdefgfedcba\") == \"abcdefgfedcba\", \"Failed for long palindrome\"",
        "    ",
        "    # Test case 7: Palindrome at the beginning",
        "    assert longestPalindrome(\"abacde\") == \"aba\", \"Failed for palindrome at beginning\"",
        "    ",
        "    # Test case 8: Palindrome at the end",
        "    assert longestPalindrome(\"cdeaba\") == \"aba\", \"Failed for palindrome at end\"",
        "    ",
        "    # Test case 9: Empty string",
        "    assert longestPalindrome(\"\") == \"\", \"Failed for empty string\"",
        "    ",
        "    print(\"All test cases passed!\")",
        "",
        "# Run the tests",
        "test_longest_palindrome()",
        ""
      ],
      "execution_count": null,
      "outputs": []
    }
  ],
  "metadata": {
    "kernelspec": {
      "display_name": "Python 3",
      "language": "python",
      "name": "python3"
    },
    "language_info": {
      "codemirror_mode": {
        "name": "ipython",
        "version": 3
      },
      "file_extension": ".py",
      "mimetype": "text/x-python",
      "name": "python",
      "nbconvert_exporter": "python",
      "pygments_lexer": "ipython3",
      "version": "3.11.9"
    }
  },
  "nbformat": 4,
  "nbformat_minor": 5
}