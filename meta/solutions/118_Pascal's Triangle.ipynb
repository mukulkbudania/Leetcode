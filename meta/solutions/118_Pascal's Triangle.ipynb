{
  "cells": [
    {
      "cell_type": "markdown",
      "metadata": {},
      "source": [
        "# 118. Pascal's Triangle"
      ]
    },
    {
      "cell_type": "markdown",
      "metadata": {},
      "source": [
        "Given an integer numRows, return the first numRows of Pascal's triangle.",
        "",
        "",
        "",
        "In Pascal's triangle, each number is the sum of the two numbers directly above it as shown:",
        "",
        "",
        "",
        "",
        "",
        " ",
        "",
        "",
        "",
        "**Example 1:**",
        "",
        "",
        "",
        "Input: numRows = 5",
        "",
        "Output: [[1],[1,1],[1,2,1],[1,3,3,1],[1,4,6,4,1]]",
        "",
        "**Example 2:**",
        "",
        "",
        "",
        "Input: numRows = 1",
        "",
        "Output: [[1]]",
        "",
        " ",
        "",
        "",
        "",
        "**Constraints:**",
        "",
        "",
        "",
        "1 <= numRows <= 30"
      ]
    },
    {
      "cell_type": "markdown",
      "metadata": {},
      "source": [
        "## Solution Explanation\n",
        "Pascal's triangle is a triangular array where each number is the sum of the two numbers directly above it. The first row is always [1], and each subsequent row starts and ends with 1.",
        "",
        "To generate Pascal's triangle:",
        "1. Create a result list to store all rows",
        "2. The first row is always [1], so add it to the result",
        "3. For each subsequent row (from row 2 to numRows):",
        "* Create a new row starting with 1",
        "* For positions between the first and last element, calculate the value by adding the two numbers above it from the previous row",
        "* End the row with 1",
        "* Add the completed row to the result",
        "",
        "The value at position j in row i is the sum of values at positions j-1 and j in row i-1."
      ]
    },
    {
      "cell_type": "code",
      "metadata": {},
      "source": [
        "def generate(numRows: int) -> list[list[int]]:",
        "    # Initialize result with the first row",
        "    result = [[1]]",
        "    ",
        "    # Generate each row from the second row to numRows",
        "    for i in range(1, numRows):",
        "        # Previous row",
        "        prev_row = result[i-1]",
        "        ",
        "        # Create current row starting with 1",
        "        current_row = [1]",
        "        ",
        "        # Calculate middle elements",
        "        for j in range(1, i):",
        "            current_row.append(prev_row[j-1] + prev_row[j])",
        "        ",
        "        # End the row with 1",
        "        current_row.append(1)",
        "        ",
        "        # Add the row to result",
        "        result.append(current_row)",
        "    ",
        "    return result",
        ""
      ],
      "execution_count": null,
      "outputs": []
    },
    {
      "cell_type": "markdown",
      "metadata": {},
      "source": [
        "## Time and Space Complexity\n",
        "* *Time Complexity**: O(numRows\u00b2)",
        "* We need to generate numRows rows",
        "* For each row i, we compute i elements",
        "* The total number of elements is 1 + 2 + 3 + ... + numRows, which is numRows*(numRows+1)/2",
        "* This simplifies to O(numRows\u00b2)",
        "* *Space Complexity**: O(numRows\u00b2)",
        "* We store all elements of Pascal's triangle",
        "* The total number of elements is numRows*(numRows+1)/2, which is O(numRows\u00b2)",
        "* Note that this doesn't include the output space, as we're required to return the triangle"
      ]
    },
    {
      "cell_type": "markdown",
      "metadata": {},
      "source": [
        "## Test Cases\n"
      ]
    },
    {
      "cell_type": "code",
      "metadata": {},
      "source": [
        "def test_generate():",
        "    # Test case 1: Example from problem statement",
        "    assert generate(5) == [[1], [1, 1], [1, 2, 1], [1, 3, 3, 1], [1, 4, 6, 4, 1]]",
        "    print(\"Test case 1 passed!\")",
        "    ",
        "    # Test case 2: Minimum input",
        "    assert generate(1) == [[1]]",
        "    print(\"Test case 2 passed!\")",
        "    ",
        "    # Test case 3: Small input",
        "    assert generate(3) == [[1], [1, 1], [1, 2, 1]]",
        "    print(\"Test case 3 passed!\")",
        "    ",
        "    # Test case 4: Medium input",
        "    result = generate(7)",
        "    expected = [",
        "        [1],",
        "        [1, 1],",
        "        [1, 2, 1],",
        "        [1, 3, 3, 1],",
        "        [1, 4, 6, 4, 1],",
        "        [1, 5, 10, 10, 5, 1],",
        "        [1, 6, 15, 20, 15, 6, 1]",
        "    ]",
        "    assert result == expected",
        "    print(\"Test case 4 passed!\")",
        "    ",
        "    print(\"All test cases passed!\")",
        "",
        "# Run the tests",
        "test_generate()",
        ""
      ],
      "execution_count": null,
      "outputs": []
    }
  ],
  "metadata": {
    "kernelspec": {
      "display_name": "Python 3",
      "language": "python",
      "name": "python3"
    },
    "language_info": {
      "codemirror_mode": {
        "name": "ipython",
        "version": 3
      },
      "file_extension": ".py",
      "mimetype": "text/x-python",
      "name": "python",
      "nbconvert_exporter": "python",
      "pygments_lexer": "ipython3",
      "version": "3.11.9"
    }
  },
  "nbformat": 4,
  "nbformat_minor": 5
}