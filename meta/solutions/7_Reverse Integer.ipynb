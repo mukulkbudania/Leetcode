{
  "cells": [
    {
      "cell_type": "markdown",
      "metadata": {},
      "source": [
        "# 7. Reverse Integer"
      ]
    },
    {
      "cell_type": "markdown",
      "metadata": {},
      "source": [
        "Given a signed 32-bit integer x, return x with its digits reversed. If reversing x causes the value to go outside the signed 32-bit integer range [-231, 231 - 1], then return 0.",
        "",
        "",
        "",
        "Assume the environment does not allow you to store 64-bit integers (signed or unsigned).",
        "",
        "",
        "",
        " ",
        "",
        "",
        "",
        "**Example 1:**",
        "",
        "",
        "",
        "Input: x = 123",
        "",
        "Output: 321",
        "",
        "**Example 2:**",
        "",
        "",
        "",
        "Input: x = -123",
        "",
        "Output: -321",
        "",
        "**Example 3:**",
        "",
        "",
        "",
        "Input: x = 120",
        "",
        "Output: 21",
        "",
        " ",
        "",
        "",
        "",
        "**Constraints:**",
        "",
        "",
        "",
        "-231 <= x <= 231 - 1"
      ]
    },
    {
      "cell_type": "markdown",
      "metadata": {},
      "source": [
        "## Solution Explanation\n",
        "To reverse a signed 32-bit integer, we need to:",
        "",
        "1. Handle the sign separately (keep track if the number is negative)",
        "2. Reverse the digits of the absolute value",
        "3. Check if the reversed number is within the 32-bit integer range",
        "4. Apply the original sign to the result",
        "",
        "The approach is to extract digits one by one from the end of the number using the modulo operator (%) and build the reversed number. We'll use integer division to remove the last digit after processing it.",
        "",
        "Since we can't use 64-bit integers, we need to check for potential overflow before adding each digit to our result. If at any point the reversed number is greater than INT_MAX/10, or if it equals INT_MAX/10 and the next digit is greater than 7, we know an overflow will occur (since 2^31-1 ends with 7)."
      ]
    },
    {
      "cell_type": "code",
      "metadata": {},
      "source": [
        "def reverse(x: int) -> int:",
        "    # Constants for 32-bit integer limits",
        "    INT_MAX = 2**31 - 1",
        "    INT_MIN = -2**31",
        "    ",
        "    # Handle sign",
        "    is_negative = x < 0",
        "    x = abs(x)",
        "    ",
        "    # Reverse digits",
        "    reversed_num = 0",
        "    while x > 0:",
        "        # Extract the last digit",
        "        digit = x % 10",
        "        ",
        "        # Check for potential overflow before adding the digit",
        "        if reversed_num > INT_MAX // 10 or (reversed_num == INT_MAX // 10 and digit > 7):",
        "            return 0",
        "            ",
        "        # Add digit to reversed number",
        "        reversed_num = reversed_num * 10 + digit",
        "        ",
        "        # Remove the last digit from x",
        "        x //= 10",
        "    ",
        "    # Apply original sign",
        "    if is_negative:",
        "        reversed_num = -reversed_num",
        "        ",
        "    # Check if result is within 32-bit integer range",
        "    if reversed_num < INT_MIN or reversed_num > INT_MAX:",
        "        return 0",
        "        ",
        "    return reversed_num",
        ""
      ],
      "execution_count": null,
      "outputs": []
    },
    {
      "cell_type": "markdown",
      "metadata": {},
      "source": [
        "## Time and Space Complexity\n",
        "* *Time Complexity**: O(log(x)) where x is the input integer. This is because we process each digit of the number, and the number of digits in a number x is approximately log10(x).",
        "* *Space Complexity**: O(1) as we only use a constant amount of space regardless of the input size. We're using a few variables (is_negative, reversed_num, digit) that don't scale with the input."
      ]
    },
    {
      "cell_type": "markdown",
      "metadata": {},
      "source": [
        "## Test Cases\n"
      ]
    },
    {
      "cell_type": "code",
      "metadata": {},
      "source": [
        "def test_reverse():",
        "    # Test case 1: Regular positive number",
        "    assert reverse(123) == 321",
        "    ",
        "    # Test case 2: Negative number",
        "    assert reverse(-123) == -321",
        "    ",
        "    # Test case 3: Number ending with zeros",
        "    assert reverse(120) == 21",
        "    ",
        "    # Test case 4: Single digit",
        "    assert reverse(7) == 7",
        "    ",
        "    # Test case 5: Zero",
        "    assert reverse(0) == 0",
        "    ",
        "    # Test case 6: Overflow case (beyond 32-bit integer range)",
        "    assert reverse(1534236469) == 0",
        "    ",
        "    # Test case 7: Negative number with overflow after reversal",
        "    assert reverse(-2147483648) == 0",
        "    ",
        "    # Test case 8: Number that becomes 0 when reversed",
        "    assert reverse(10000) == 1",
        "    ",
        "    print(\"All test cases passed!\")",
        "",
        "# Run the tests",
        "test_reverse()",
        ""
      ],
      "execution_count": null,
      "outputs": []
    }
  ],
  "metadata": {
    "kernelspec": {
      "display_name": "Python 3",
      "language": "python",
      "name": "python3"
    },
    "language_info": {
      "codemirror_mode": {
        "name": "ipython",
        "version": 3
      },
      "file_extension": ".py",
      "mimetype": "text/x-python",
      "name": "python",
      "nbconvert_exporter": "python",
      "pygments_lexer": "ipython3",
      "version": "3.11.9"
    }
  },
  "nbformat": 4,
  "nbformat_minor": 5
}