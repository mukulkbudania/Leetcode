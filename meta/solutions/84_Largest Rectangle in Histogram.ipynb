{
  "cells": [
    {
      "cell_type": "markdown",
      "metadata": {},
      "source": [
        "# 84. Largest Rectangle in Histogram"
      ]
    },
    {
      "cell_type": "markdown",
      "metadata": {},
      "source": [
        "Given an array of integers heights representing the histogram's bar height where the width of each bar is 1, return the area of the largest rectangle in the histogram.",
        "",
        "",
        "",
        " ",
        "",
        "",
        "",
        "**Example 1:**",
        "",
        "",
        "",
        "",
        "",
        "Input: heights = [2,1,5,6,2,3]",
        "",
        "Output: 10",
        "",
        "Explanation: The above is a histogram where width of each bar is 1.",
        "",
        "The largest rectangle is shown in the red area, which has an area = 10 units.",
        "",
        "**Example 2:**",
        "",
        "",
        "",
        "",
        "",
        "Input: heights = [2,4]",
        "",
        "Output: 4",
        "",
        " ",
        "",
        "",
        "",
        "**Constraints:**",
        "",
        "",
        "",
        "1 <= heights.length <= 105",
        "",
        "0 <= heights[i] <= 104"
      ]
    },
    {
      "cell_type": "markdown",
      "metadata": {},
      "source": [
        "## Solution Explanation\n",
        "This problem asks us to find the largest rectangle in a histogram. A key insight is that for each bar, we can extend a rectangle horizontally until we hit a shorter bar. The area of this rectangle is the height of the current bar multiplied by the width of the extension.",
        "",
        "The brute force approach would be to consider each bar as a potential height for the rectangle and find the maximum width possible with that height. However, this would be O(n\u00b2).",
        "",
        "A more efficient approach uses a stack to keep track of bars in increasing order of height. When we encounter a bar shorter than the top of the stack, we know we can't extend the rectangle further to the right. At this point, we calculate the area of rectangles with heights of each popped bar.",
        "",
        "The algorithm works as follows:",
        "1. Use a stack to store indices of bars in increasing order of height.",
        "2. For each bar:",
        "* While the current bar is shorter than the bar at the top of the stack, pop the stack and calculate the area.",
        "* The width is the current position minus the position of the next bar on the stack (or 0 if the stack is empty).",
        "* Push the current bar's index onto the stack.",
        "3. After processing all bars, pop any remaining indices from the stack and calculate areas.",
        "",
        "This approach ensures we find the largest rectangle in a single pass through the array."
      ]
    },
    {
      "cell_type": "code",
      "metadata": {},
      "source": [
        "def largestRectangleArea(heights):",
        "    stack = []",
        "    max_area = 0",
        "    n = len(heights)",
        "    ",
        "    for i in range(n + 1):",
        "        # When we reach the end or find a bar shorter than what's on top of the stack",
        "        while stack and (i == n or heights[i] < heights[stack[-1]]):",
        "            height = heights[stack.pop()]",
        "            # Calculate width based on the next bar in stack or from the beginning",
        "            width = i if not stack else i - stack[-1] - 1",
        "            max_area = max(max_area, height * width)",
        "        ",
        "        # Push current index to stack",
        "        if i < n:",
        "            stack.append(i)",
        "    ",
        "    return max_area",
        ""
      ],
      "execution_count": null,
      "outputs": []
    },
    {
      "cell_type": "markdown",
      "metadata": {},
      "source": [
        "## Time and Space Complexity\n",
        "* *Time Complexity**: O(n), where n is the length of the heights array. Although we have a nested while loop inside the for loop, each element is pushed and popped from the stack at most once, resulting in amortized O(n) time.",
        "* *Space Complexity**: O(n) in the worst case, where the stack might need to store all indices if the heights are in strictly increasing order."
      ]
    },
    {
      "cell_type": "markdown",
      "metadata": {},
      "source": [
        "## Test Cases\n"
      ]
    },
    {
      "cell_type": "code",
      "metadata": {},
      "source": [
        "def test_largest_rectangle_area():",
        "    # Test case 1: Example from the problem",
        "    assert largestRectangleArea([2, 1, 5, 6, 2, 3]) == 10",
        "    ",
        "    # Test case 2: Another example from the problem",
        "    assert largestRectangleArea([2, 4]) == 4",
        "    ",
        "    # Test case 3: All bars with the same height",
        "    assert largestRectangleArea([3, 3, 3, 3]) == 12",
        "    ",
        "    # Test case 4: Increasing heights",
        "    assert largestRectangleArea([1, 2, 3, 4, 5]) == 9",
        "    ",
        "    # Test case 5: Decreasing heights",
        "    assert largestRectangleArea([5, 4, 3, 2, 1]) == 9",
        "    ",
        "    # Test case 6: Single bar",
        "    assert largestRectangleArea([5]) == 5",
        "    ",
        "    # Test case 7: Empty array",
        "    assert largestRectangleArea([]) == 0",
        "    ",
        "    # Test case 8: Complex case",
        "    assert largestRectangleArea([6, 7, 5, 2, 4, 5, 9, 3]) == 16",
        "    ",
        "    print(\"All test cases passed!\")",
        "",
        "# Run the tests",
        "test_largest_rectangle_area()",
        ""
      ],
      "execution_count": null,
      "outputs": []
    }
  ],
  "metadata": {
    "kernelspec": {
      "display_name": "Python 3",
      "language": "python",
      "name": "python3"
    },
    "language_info": {
      "codemirror_mode": {
        "name": "ipython",
        "version": 3
      },
      "file_extension": ".py",
      "mimetype": "text/x-python",
      "name": "python",
      "nbconvert_exporter": "python",
      "pygments_lexer": "ipython3",
      "version": "3.11.9"
    }
  },
  "nbformat": 4,
  "nbformat_minor": 5
}