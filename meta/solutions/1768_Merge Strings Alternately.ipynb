{
  "cells": [
    {
      "cell_type": "markdown",
      "metadata": {},
      "source": [
        "# 1768. Merge Strings Alternately"
      ]
    },
    {
      "cell_type": "markdown",
      "metadata": {},
      "source": [
        "You are given two strings word1 and word2. Merge the strings by adding letters in alternating order, starting with word1. If a string is longer than the other, append the additional letters onto the end of the merged string.",
        "",
        "",
        "",
        "Return the merged string.",
        "",
        "",
        "",
        " ",
        "",
        "",
        "",
        "**Example 1:**",
        "",
        "",
        "",
        "Input: word1 = \"abc\", word2 = \"pqr\"",
        "",
        "Output: \"apbqcr\"",
        "",
        "Explanation: The merged string will be merged as so:",
        "",
        "word1:  a   b   c",
        "",
        "word2:    p   q   r",
        "",
        "merged: a p b q c r",
        "",
        "**Example 2:**",
        "",
        "",
        "",
        "Input: word1 = \"ab\", word2 = \"pqrs\"",
        "",
        "Output: \"apbqrs\"",
        "",
        "Explanation: Notice that as word2 is longer, \"rs\" is appended to the end.",
        "",
        "word1:  a   b ",
        "",
        "word2:    p   q   r   s",
        "",
        "merged: a p b q   r   s",
        "",
        "**Example 3:**",
        "",
        "",
        "",
        "Input: word1 = \"abcd\", word2 = \"pq\"",
        "",
        "Output: \"apbqcd\"",
        "",
        "Explanation: Notice that as word1 is longer, \"cd\" is appended to the end.",
        "",
        "word1:  a   b   c   d",
        "",
        "word2:    p   q ",
        "",
        "merged: a p b q c   d",
        "",
        " ",
        "",
        "",
        "",
        "**Constraints:**",
        "",
        "",
        "",
        "1 <= word1.length, word2.length <= 100",
        "",
        "word1 and word2 consist of lowercase English letters."
      ]
    },
    {
      "cell_type": "markdown",
      "metadata": {},
      "source": [
        "## Solution Explanation\n",
        "To merge two strings in alternating order, we need to iterate through both strings simultaneously and add characters from each string alternately. The approach is straightforward:",
        "",
        "1. Initialize an empty result string.",
        "2. Iterate through both strings simultaneously until we reach the end of at least one string.",
        "3. In each iteration, add a character from word1 followed by a character from word2.",
        "4. After the loop, if any string has remaining characters, append them to the result.",
        "",
        "This approach ensures that we merge the strings in alternating order, starting with word1, and if one string is longer than the other, the additional characters are appended to the end of the merged string."
      ]
    },
    {
      "cell_type": "code",
      "metadata": {},
      "source": [
        "def mergeAlternately(word1: str, word2: str) -> str:",
        "    result = []",
        "    i, j = 0, 0",
        "    ",
        "    # Iterate until we reach the end of at least one string",
        "    while i < len(word1) and j < len(word2):",
        "        result.append(word1[i])",
        "        result.append(word2[j])",
        "        i += 1",
        "        j += 1",
        "    ",
        "    # Append remaining characters from word1, if any",
        "    while i < len(word1):",
        "        result.append(word1[i])",
        "        i += 1",
        "    ",
        "    # Append remaining characters from word2, if any",
        "    while j < len(word2):",
        "        result.append(word2[j])",
        "        j += 1",
        "    ",
        "    return ''.join(result)",
        ""
      ],
      "execution_count": null,
      "outputs": []
    },
    {
      "cell_type": "markdown",
      "metadata": {},
      "source": [
        "## Time and Space Complexity\n",
        "* *Time Complexity**: O(n + m), where n is the length of word1 and m is the length of word2. We iterate through both strings once, and the time to join the result list is also O(n + m).",
        "* *Space Complexity**: O(n + m) for storing the result. The result string will have a length equal to the sum of the lengths of word1 and word2."
      ]
    },
    {
      "cell_type": "markdown",
      "metadata": {},
      "source": [
        "## Test Cases\n"
      ]
    },
    {
      "cell_type": "code",
      "metadata": {},
      "source": [
        "def test_mergeAlternately():",
        "    # Test case 1: Equal length strings",
        "    assert mergeAlternately(\"abc\", \"pqr\") == \"apbqcr\"",
        "    ",
        "    # Test case 2: word2 is longer",
        "    assert mergeAlternately(\"ab\", \"pqrs\") == \"apbqrs\"",
        "    ",
        "    # Test case 3: word1 is longer",
        "    assert mergeAlternately(\"abcd\", \"pq\") == \"apbqcd\"",
        "    ",
        "    # Test case 4: Empty word1",
        "    assert mergeAlternately(\"\", \"pqr\") == \"pqr\"",
        "    ",
        "    # Test case 5: Empty word2",
        "    assert mergeAlternately(\"abc\", \"\") == \"abc\"",
        "    ",
        "    # Test case 6: Both empty",
        "    assert mergeAlternately(\"\", \"\") == \"\"",
        "    ",
        "    # Test case 7: Single character strings",
        "    assert mergeAlternately(\"a\", \"p\") == \"ap\"",
        "    ",
        "    print(\"All test cases passed!\")",
        "",
        "# Run the tests",
        "test_mergeAlternately()",
        ""
      ],
      "execution_count": null,
      "outputs": []
    }
  ],
  "metadata": {
    "kernelspec": {
      "display_name": "Python 3",
      "language": "python",
      "name": "python3"
    },
    "language_info": {
      "codemirror_mode": {
        "name": "ipython",
        "version": 3
      },
      "file_extension": ".py",
      "mimetype": "text/x-python",
      "name": "python",
      "nbconvert_exporter": "python",
      "pygments_lexer": "ipython3",
      "version": "3.11.9"
    }
  },
  "nbformat": 4,
  "nbformat_minor": 5
}