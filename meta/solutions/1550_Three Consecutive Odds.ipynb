{
  "cells": [
    {
      "cell_type": "markdown",
      "metadata": {},
      "source": [
        "# 1550. Three Consecutive Odds"
      ]
    },
    {
      "cell_type": "markdown",
      "metadata": {},
      "source": [
        "Given an integer array arr, return true if there are three consecutive odd numbers in the array. Otherwise, return false.",
        "",
        " ",
        "",
        "",
        "",
        "**Example 1:**",
        "",
        "",
        "",
        "Input: arr = [2,6,4,1]",
        "",
        "Output: false",
        "",
        "Explanation: There are no three consecutive odds.",
        "",
        "**Example 2:**",
        "",
        "",
        "",
        "Input: arr = [1,2,34,3,4,5,7,23,12]",
        "",
        "Output: true",
        "",
        "Explanation: [5,7,23] are three consecutive odds.",
        "",
        " ",
        "",
        "",
        "",
        "**Constraints:**",
        "",
        "",
        "",
        "1 <= arr.length <= 1000",
        "",
        "1 <= arr[i] <= 1000"
      ]
    },
    {
      "cell_type": "markdown",
      "metadata": {},
      "source": [
        "## Solution Explanation\n",
        "To solve this problem, we need to check if there are three consecutive odd numbers in the array. A number is odd if it's not divisible by 2 (i.e., `num % 2 == 1`).",
        "",
        "The approach is straightforward:",
        "1. Iterate through the array.",
        "2. For each position, check if the current element and the next two elements (if they exist) are all odd.",
        "3. If we find such a triplet, return `True`.",
        "4. If we go through the entire array without finding a triplet of consecutive odd numbers, return `False`.",
        "",
        "We need to be careful not to go out of bounds when checking the next two elements. We should only check positions where `i + 2 < len(arr)`."
      ]
    },
    {
      "cell_type": "code",
      "metadata": {},
      "source": [
        "def threeConsecutiveOdds(arr):",
        "    \"\"\"",
        "    :type arr: List[int]",
        "    :rtype: bool",
        "    \"\"\"",
        "    n = len(arr)",
        "    ",
        "    # We need at least 3 elements to have 3 consecutive odds",
        "    if n < 3:",
        "        return False",
        "    ",
        "    for i in range(n - 2):",
        "        if arr[i] % 2 == 1 and arr[i + 1] % 2 == 1 and arr[i + 2] % 2 == 1:",
        "            return True",
        "    ",
        "    return False",
        ""
      ],
      "execution_count": null,
      "outputs": []
    },
    {
      "cell_type": "markdown",
      "metadata": {},
      "source": [
        "## Time and Space Complexity\n",
        "* *Time Complexity**: O(n), where n is the length of the input array. We iterate through the array once, and for each position, we perform constant-time operations.",
        "* *Space Complexity**: O(1), as we only use a constant amount of extra space regardless of the input size. We're not using any additional data structures that scale with the input."
      ]
    },
    {
      "cell_type": "markdown",
      "metadata": {},
      "source": [
        "## Test Cases\n"
      ]
    },
    {
      "cell_type": "code",
      "metadata": {},
      "source": [
        "def test_threeConsecutiveOdds():",
        "    # Test case 1: No three consecutive odds",
        "    assert threeConsecutiveOdds([2, 6, 4, 1]) == False",
        "    ",
        "    # Test case 2: Three consecutive odds exist",
        "    assert threeConsecutiveOdds([1, 2, 34, 3, 4, 5, 7, 23, 12]) == True",
        "    ",
        "    # Test case 3: Empty array",
        "    assert threeConsecutiveOdds([]) == False",
        "    ",
        "    # Test case 4: Array with less than 3 elements",
        "    assert threeConsecutiveOdds([1, 3]) == False",
        "    ",
        "    # Test case 5: All odd numbers",
        "    assert threeConsecutiveOdds([1, 3, 5, 7, 9]) == True",
        "    ",
        "    # Test case 6: All even numbers",
        "    assert threeConsecutiveOdds([2, 4, 6, 8, 10]) == False",
        "    ",
        "    # Test case 7: Three consecutive odds at the beginning",
        "    assert threeConsecutiveOdds([1, 3, 5, 2, 4, 6]) == True",
        "    ",
        "    # Test case 8: Three consecutive odds at the end",
        "    assert threeConsecutiveOdds([2, 4, 6, 1, 3, 5]) == True",
        "    ",
        "    print(\"All test cases passed!\")",
        "",
        "# Run the tests",
        "test_threeConsecutiveOdds()",
        ""
      ],
      "execution_count": null,
      "outputs": []
    }
  ],
  "metadata": {
    "kernelspec": {
      "display_name": "Python 3",
      "language": "python",
      "name": "python3"
    },
    "language_info": {
      "codemirror_mode": {
        "name": "ipython",
        "version": 3
      },
      "file_extension": ".py",
      "mimetype": "text/x-python",
      "name": "python",
      "nbconvert_exporter": "python",
      "pygments_lexer": "ipython3",
      "version": "3.11.9"
    }
  },
  "nbformat": 4,
  "nbformat_minor": 5
}