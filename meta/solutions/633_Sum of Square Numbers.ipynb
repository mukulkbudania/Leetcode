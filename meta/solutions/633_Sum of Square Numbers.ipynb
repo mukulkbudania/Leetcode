{
  "cells": [
    {
      "cell_type": "markdown",
      "metadata": {},
      "source": [
        "# 633. Sum of Square Numbers"
      ]
    },
    {
      "cell_type": "markdown",
      "metadata": {},
      "source": [
        "Given a non-negative integer c, decide whether there're two integers a and b such that a2 + b2 = c.",
        "",
        "",
        "",
        " ",
        "",
        "",
        "",
        "**Example 1:**",
        "",
        "",
        "",
        "Input: c = 5",
        "",
        "Output: true",
        "",
        "Explanation: 1 * 1 + 2 * 2 = 5",
        "",
        "**Example 2:**",
        "",
        "",
        "",
        "Input: c = 3",
        "",
        "Output: false",
        "",
        " ",
        "",
        "",
        "",
        "**Constraints:**",
        "",
        "",
        "",
        "0 <= c <= 231 - 1"
      ]
    },
    {
      "cell_type": "markdown",
      "metadata": {},
      "source": [
        "## Solution Explanation\n",
        "To solve this problem, we need to determine if there exist two integers a and b such that a\u00b2 + b\u00b2 = c.",
        "",
        "The approach is to iterate through all possible values of a from 0 to the square root of c (since a\u00b2 would exceed c if a > \u221ac). For each value of a, we calculate b\u00b2 = c - a\u00b2. If b\u00b2 is a perfect square, then we've found our answer.",
        "",
        "To check if a number is a perfect square, we can compute its square root and check if it's an integer. In Python, we can check if a float is an integer by comparing it with its integer conversion."
      ]
    },
    {
      "cell_type": "code",
      "metadata": {},
      "source": [
        "import math",
        "",
        "def judgeSquareSum(c: int) -> bool:",
        "    # Iterate from 0 to sqrt(c)",
        "    for a in range(int(math.sqrt(c)) + 1):",
        "        # Calculate b^2",
        "        b_squared = c - a * a",
        "        ",
        "        # Check if b^2 is a perfect square",
        "        b = math.sqrt(b_squared)",
        "        if b == int(b):",
        "            return True",
        "    ",
        "    return False",
        ""
      ],
      "execution_count": null,
      "outputs": []
    },
    {
      "cell_type": "markdown",
      "metadata": {},
      "source": [
        "## Time and Space Complexity\n",
        "Time Complexity: O(\u221ac)",
        "* We iterate from 0 to \u221ac, and for each iteration, we perform constant-time operations.",
        "",
        "Space Complexity: O(1)",
        "* We only use a constant amount of extra space regardless of the input size."
      ]
    },
    {
      "cell_type": "markdown",
      "metadata": {},
      "source": [
        "## Test Cases\n"
      ]
    },
    {
      "cell_type": "code",
      "metadata": {},
      "source": [
        "def test_judgeSquareSum():",
        "    # Test case 1: c = 5 (Example 1)",
        "    assert judgeSquareSum(5) == True, \"Test case 1 failed: 1^2 + 2^2 = 5\"",
        "    ",
        "    # Test case 2: c = 3 (Example 2)",
        "    assert judgeSquareSum(3) == False, \"Test case 2 failed: No solution for c = 3\"",
        "    ",
        "    # Test case 3: c = 0 (Edge case)",
        "    assert judgeSquareSum(0) == True, \"Test case 3 failed: 0^2 + 0^2 = 0\"",
        "    ",
        "    # Test case 4: c = 1 (Edge case)",
        "    assert judgeSquareSum(1) == True, \"Test case 4 failed: 0^2 + 1^2 = 1\"",
        "    ",
        "    # Test case 5: c = 2 (Edge case)",
        "    assert judgeSquareSum(2) == True, \"Test case 5 failed: 1^2 + 1^2 = 2\"",
        "    ",
        "    # Test case 6: c = 4 (Perfect square)",
        "    assert judgeSquareSum(4) == True, \"Test case 6 failed: 0^2 + 2^2 = 4 or 2^2 + 0^2 = 4\"",
        "    ",
        "    # Test case 7: Large number",
        "    assert judgeSquareSum(2147483647) == False, \"Test case 7 failed: No solution for c = 2^31 - 1\"",
        "    ",
        "    # Test case 8: c = 25 (Multiple solutions)",
        "    assert judgeSquareSum(25) == True, \"Test case 8 failed: 0^2 + 5^2 = 25 or 3^2 + 4^2 = 25\"",
        "    ",
        "    print(\"All test cases passed!\")",
        "",
        "# Run the tests",
        "test_judgeSquareSum()",
        ""
      ],
      "execution_count": null,
      "outputs": []
    }
  ],
  "metadata": {
    "kernelspec": {
      "display_name": "Python 3",
      "language": "python",
      "name": "python3"
    },
    "language_info": {
      "codemirror_mode": {
        "name": "ipython",
        "version": 3
      },
      "file_extension": ".py",
      "mimetype": "text/x-python",
      "name": "python",
      "nbconvert_exporter": "python",
      "pygments_lexer": "ipython3",
      "version": "3.11.9"
    }
  },
  "nbformat": 4,
  "nbformat_minor": 5
}