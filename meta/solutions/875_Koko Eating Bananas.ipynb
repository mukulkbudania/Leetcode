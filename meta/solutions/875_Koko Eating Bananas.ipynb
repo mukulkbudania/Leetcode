{
  "cells": [
    {
      "cell_type": "markdown",
      "metadata": {},
      "source": [
        "# 875. Koko Eating Bananas"
      ]
    },
    {
      "cell_type": "markdown",
      "metadata": {},
      "source": [
        "Koko loves to eat bananas. There are n piles of bananas, the ith pile has piles[i] bananas. The guards have gone and will come back in h hours.",
        "",
        "",
        "",
        "Koko can decide her bananas-per-hour eating speed of k. Each hour, she chooses some pile of bananas and eats k bananas from that pile. If the pile has less than k bananas, she eats all of them instead and will not eat any more bananas during this hour.",
        "",
        "",
        "",
        "Koko likes to eat slowly but still wants to finish eating all the bananas before the guards return.",
        "",
        "",
        "",
        "Return the minimum integer k such that she can eat all the bananas within h hours.",
        "",
        "",
        "",
        " ",
        "",
        "",
        "",
        "**Example 1:**",
        "",
        "",
        "",
        "Input: piles = [3,6,7,11], h = 8",
        "",
        "Output: 4",
        "",
        "**Example 2:**",
        "",
        "",
        "",
        "Input: piles = [30,11,23,4,20], h = 5",
        "",
        "Output: 30",
        "",
        "**Example 3:**",
        "",
        "",
        "",
        "Input: piles = [30,11,23,4,20], h = 6",
        "",
        "Output: 23",
        "",
        " ",
        "",
        "",
        "",
        "**Constraints:**",
        "",
        "",
        "",
        "1 <= piles.length <= 104",
        "",
        "piles.length <= h <= 109",
        "",
        "1 <= piles[i] <= 109",
        "",
        ""
      ]
    },
    {
      "cell_type": "markdown",
      "metadata": {},
      "source": [
        "## Solution Explanation\n",
        "This problem asks us to find the minimum eating speed `k` such that Koko can eat all bananas within `h` hours.",
        "",
        "The key insight is that we can use binary search to find the minimum valid eating speed. Here's why:",
        "1. If Koko can finish all bananas at speed `k`, she can also finish at any speed greater than `k`.",
        "2. If Koko cannot finish all bananas at speed `k`, she cannot finish at any speed less than `k`.",
        "",
        "This monotonic property makes binary search applicable. We'll search for the minimum valid `k` in the range [1, max(piles)], since:",
        "* The minimum possible speed is 1 banana per hour",
        "* The maximum needed speed is the size of the largest pile (since eating more than that in one hour doesn't provide additional benefit)",
        "",
        "For each potential speed `k`, we calculate how many hours it would take Koko to eat all piles:",
        "* For each pile of size `p`, she needs ceil(p/k) hours = (p + k - 1) // k hours",
        "* If the total hours \u2264 h, then speed `k` is sufficient",
        "",
        "We use binary search to find the minimum valid `k`."
      ]
    },
    {
      "cell_type": "code",
      "metadata": {},
      "source": [
        "from math import ceil",
        "",
        "class Solution:",
        "    def minEatingSpeed(self, piles: list[int], h: int) -> int:",
        "        # Binary search to find the minimum eating speed",
        "        left, right = 1, max(piles)",
        "        ",
        "        while left < right:",
        "            mid = left + (right - left) // 2",
        "            ",
        "            # Calculate hours needed at speed 'mid'",
        "            hours_needed = sum((pile + mid - 1) // mid for pile in piles)",
        "            ",
        "            if hours_needed <= h:",
        "                # This speed works, try a lower speed",
        "                right = mid",
        "            else:",
        "                # This speed is too slow, try a higher speed",
        "                left = mid + 1",
        "                ",
        "        return left",
        ""
      ],
      "execution_count": null,
      "outputs": []
    },
    {
      "cell_type": "markdown",
      "metadata": {},
      "source": [
        "## Time and Space Complexity\n",
        "* *Time Complexity**: O(n log m), where:",
        "* n is the number of piles",
        "* m is the maximum pile size (max(piles))",
        "",
        "The binary search takes O(log m) iterations, and in each iteration, we iterate through all n piles to calculate the hours needed, which takes O(n) time.",
        "* *Space Complexity**: O(1), as we only use a constant amount of extra space regardless of input size."
      ]
    },
    {
      "cell_type": "markdown",
      "metadata": {},
      "source": [
        "## Test Cases\n"
      ]
    },
    {
      "cell_type": "code",
      "metadata": {},
      "source": [
        "def test_min_eating_speed():",
        "    solution = Solution()",
        "    ",
        "    # Example 1: piles = [3,6,7,11], h = 8",
        "    assert solution.minEatingSpeed([3, 6, 7, 11], 8) == 4",
        "    ",
        "    # Example 2: piles = [30,11,23,4,20], h = 5",
        "    assert solution.minEatingSpeed([30, 11, 23, 4, 20], 5) == 30",
        "    ",
        "    # Example 3: piles = [30,11,23,4,20], h = 6",
        "    assert solution.minEatingSpeed([30, 11, 23, 4, 20], 6) == 23",
        "    ",
        "    # Edge case: single pile",
        "    assert solution.minEatingSpeed([10], 10) == 1",
        "    ",
        "    # Edge case: h equals number of piles",
        "    assert solution.minEatingSpeed([10, 20, 30], 3) == 30",
        "    ",
        "    # Edge case: large pile sizes",
        "    assert solution.minEatingSpeed([1000000000], 2) == 500000000",
        "    ",
        "    # Edge case: many small piles",
        "    assert solution.minEatingSpeed([1, 1, 1, 1, 1], 5) == 1",
        "    ",
        "    print(\"All test cases passed!\")",
        "",
        "# Run the tests",
        "test_min_eating_speed()",
        ""
      ],
      "execution_count": null,
      "outputs": []
    }
  ],
  "metadata": {
    "kernelspec": {
      "display_name": "Python 3",
      "language": "python",
      "name": "python3"
    },
    "language_info": {
      "codemirror_mode": {
        "name": "ipython",
        "version": 3
      },
      "file_extension": ".py",
      "mimetype": "text/x-python",
      "name": "python",
      "nbconvert_exporter": "python",
      "pygments_lexer": "ipython3",
      "version": "3.11.9"
    }
  },
  "nbformat": 4,
  "nbformat_minor": 5
}