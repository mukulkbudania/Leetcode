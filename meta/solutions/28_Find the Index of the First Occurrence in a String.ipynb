{
  "cells": [
    {
      "cell_type": "markdown",
      "metadata": {},
      "source": [
        "# 28. Find the Index of the First Occurrence in a String"
      ]
    },
    {
      "cell_type": "markdown",
      "metadata": {},
      "source": [
        "Given two strings needle and haystack, return the index of the first occurrence of needle in haystack, or -1 if needle is not part of haystack.",
        "",
        "",
        "",
        " ",
        "",
        "",
        "",
        "**Example 1:**",
        "",
        "",
        "",
        "Input: haystack = \"sadbutsad\", needle = \"sad\"",
        "",
        "Output: 0",
        "",
        "Explanation: \"sad\" occurs at index 0 and 6.",
        "",
        "The first occurrence is at index 0, so we return 0.",
        "",
        "**Example 2:**",
        "",
        "",
        "",
        "Input: haystack = \"leetcode\", needle = \"leeto\"",
        "",
        "Output: -1",
        "",
        "Explanation: \"leeto\" did not occur in \"leetcode\", so we return -1.",
        "",
        " ",
        "",
        "",
        "",
        "**Constraints:**",
        "",
        "",
        "",
        "1 <= haystack.length, needle.length <= 104",
        "",
        "haystack and needle consist of only lowercase English characters."
      ]
    },
    {
      "cell_type": "markdown",
      "metadata": {},
      "source": [
        "## Solution Explanation\n",
        "This problem asks us to find the first occurrence of a string (needle) within another string (haystack). There are several approaches to solve this:",
        "",
        "1. **Brute Force**: Check every possible starting position in haystack and see if needle matches.",
        "2. **Built-in Function**: Use Python's `str.find()` method.",
        "3. **KMP Algorithm**: A more advanced string matching algorithm.",
        "",
        "For clarity and efficiency, I'll implement the brute force approach, which is straightforward and works well for the given constraints. The algorithm is:",
        "",
        "1. Iterate through each possible starting position in haystack (from 0 to haystack.length - needle.length).",
        "2. For each position, check if the substring of haystack starting at that position and of length equal to needle's length matches needle.",
        "3. If a match is found, return the starting position.",
        "4. If no match is found after checking all positions, return -1."
      ]
    },
    {
      "cell_type": "code",
      "metadata": {},
      "source": [
        "def strStr(haystack: str, needle: str) -> int:",
        "    # Edge cases",
        "    if not needle:",
        "        return 0",
        "    ",
        "    # Get lengths",
        "    h_len = len(haystack)",
        "    n_len = len(needle)",
        "    ",
        "    # If needle is longer than haystack, it can't be found",
        "    if n_len > h_len:",
        "        return -1",
        "    ",
        "    # Check each possible starting position in haystack",
        "    for i in range(h_len - n_len + 1):",
        "        # Check if substring matches needle",
        "        if haystack[i:i+n_len] == needle:",
        "            return i",
        "    ",
        "    # If no match found",
        "    return -1",
        ""
      ],
      "execution_count": null,
      "outputs": []
    },
    {
      "cell_type": "markdown",
      "metadata": {},
      "source": [
        "## Time and Space Complexity\n",
        "* *Time Complexity**: O(m * n), where m is the length of haystack and n is the length of needle. In the worst case, we need to check each position in haystack, and for each position, we compare up to n characters.",
        "* *Space Complexity**: O(1) if we consider the slicing operation as constant space. However, in Python, string slicing creates a new string, so it could be considered O(n) space for each comparison. But since we're not storing these slices, the overall auxiliary space complexity is O(1).",
        "",
        "Note: There are more efficient algorithms like KMP with O(m + n) time complexity, but the brute force approach is more straightforward and works well for the given constraints."
      ]
    },
    {
      "cell_type": "markdown",
      "metadata": {},
      "source": [
        "## Test Cases\n"
      ]
    },
    {
      "cell_type": "code",
      "metadata": {},
      "source": [
        "def test_strStr():",
        "    # Test case 1: Normal case with match at beginning",
        "    assert strStr(\"sadbutsad\", \"sad\") == 0",
        "    ",
        "    # Test case 2: No match",
        "    assert strStr(\"leetcode\", \"leeto\") == -1",
        "    ",
        "    # Test case 3: Match in the middle",
        "    assert strStr(\"hello\", \"ll\") == 2",
        "    ",
        "    # Test case 4: Empty needle (should return 0 as per problem statement)",
        "    assert strStr(\"hello\", \"\") == 0",
        "    ",
        "    # Test case 5: Needle longer than haystack",
        "    assert strStr(\"a\", \"abc\") == -1",
        "    ",
        "    # Test case 6: Single character match",
        "    assert strStr(\"a\", \"a\") == 0",
        "    ",
        "    # Test case 7: Multiple matches (should return first occurrence)",
        "    assert strStr(\"mississippi\", \"issi\") == 1",
        "    ",
        "    # Test case 8: Match at the end",
        "    assert strStr(\"abcdef\", \"ef\") == 4",
        "    ",
        "    print(\"All test cases passed!\")",
        "",
        "# Run the tests",
        "test_strStr()",
        ""
      ],
      "execution_count": null,
      "outputs": []
    }
  ],
  "metadata": {
    "kernelspec": {
      "display_name": "Python 3",
      "language": "python",
      "name": "python3"
    },
    "language_info": {
      "codemirror_mode": {
        "name": "ipython",
        "version": 3
      },
      "file_extension": ".py",
      "mimetype": "text/x-python",
      "name": "python",
      "nbconvert_exporter": "python",
      "pygments_lexer": "ipython3",
      "version": "3.11.9"
    }
  },
  "nbformat": 4,
  "nbformat_minor": 5
}