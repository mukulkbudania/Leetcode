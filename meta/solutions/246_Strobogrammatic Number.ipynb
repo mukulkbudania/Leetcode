{
  "cells": [
    {
      "cell_type": "markdown",
      "metadata": {},
      "source": [
        "# 246. Strobogrammatic Number"
      ]
    },
    {
      "cell_type": "markdown",
      "metadata": {},
      "source": [
        "Given a string num which represents an integer, return true if num is a strobogrammatic number.",
        "",
        "",
        "",
        "A strobogrammatic number is a number that looks the same when rotated 180 degrees (looked at upside down).",
        "",
        "",
        "",
        " ",
        "",
        "",
        "",
        "**Example 1:**",
        "",
        "",
        "",
        "Input: num = \"69\"",
        "",
        "Output: true",
        "",
        "**Example 2:**",
        "",
        "",
        "",
        "Input: num = \"88\"",
        "",
        "Output: true",
        "",
        "**Example 3:**",
        "",
        "",
        "",
        "Input: num = \"962\"",
        "",
        "Output: false",
        "",
        " ",
        "",
        "",
        "",
        "**Constraints:**",
        "",
        "",
        "",
        "1 <= num.length <= 50",
        "",
        "num consists of only digits.",
        "",
        "num does not contain any leading zeros except for zero itself.",
        "",
        ""
      ]
    },
    {
      "cell_type": "markdown",
      "metadata": {},
      "source": [
        "## Solution Explanation\n",
        "To solve this problem, we need to understand what makes a number strobogrammatic. A strobogrammatic number is one that looks the same when rotated 180 degrees. This means that certain digits, when rotated, look like other digits:",
        "* 0 looks like 0 when rotated",
        "* 1 looks like 1 when rotated",
        "* 8 looks like 8 when rotated",
        "* 6 looks like 9 when rotated",
        "* 9 looks like 6 when rotated",
        "",
        "All other digits (2, 3, 4, 5, 7) don't look like valid digits when rotated 180 degrees.",
        "",
        "The approach is to check if the string can be read the same way when rotated. We can use a two-pointer technique:",
        "1. Create a mapping of valid strobogrammatic pairs (0:0, 1:1, 8:8, 6:9, 9:6)",
        "2. Use two pointers, one at the start and one at the end of the string",
        "3. For each pair of characters, check if they form a valid strobogrammatic pair",
        "4. If any pair is invalid, return False",
        "5. If all pairs are valid, return True"
      ]
    },
    {
      "cell_type": "code",
      "metadata": {},
      "source": [
        "def isStrobogrammatic(num: str) -> bool:",
        "    # Define the mapping for strobogrammatic pairs",
        "    strobogrammatic_pairs = {",
        "        '0': '0',",
        "        '1': '1',",
        "        '8': '8',",
        "        '6': '9',",
        "        '9': '6'",
        "    }",
        "    ",
        "    left, right = 0, len(num) - 1",
        "    ",
        "    while left <= right:",
        "        # If the current digit is not in our mapping, it's not strobogrammatic",
        "        if num[left] not in strobogrammatic_pairs:",
        "            return False",
        "        ",
        "        # Check if the pair is valid",
        "        if strobogrammatic_pairs[num[left]] != num[right]:",
        "            return False",
        "        ",
        "        left += 1",
        "        right -= 1",
        "    ",
        "    return True",
        ""
      ],
      "execution_count": null,
      "outputs": []
    },
    {
      "cell_type": "markdown",
      "metadata": {},
      "source": [
        "## Time and Space Complexity\n",
        "* *Time Complexity**: O(n), where n is the length of the input string. We need to check at most n/2 pairs of digits.",
        "* *Space Complexity**: O(1), as we only use a fixed-size dictionary for the strobogrammatic pairs and a constant amount of extra space regardless of the input size. The dictionary has a fixed size of 5 entries."
      ]
    },
    {
      "cell_type": "markdown",
      "metadata": {},
      "source": [
        "## Test Cases\n"
      ]
    },
    {
      "cell_type": "code",
      "metadata": {},
      "source": [
        "def test_isStrobogrammatic():",
        "    # Test case 1: Basic valid strobogrammatic number",
        "    assert isStrobogrammatic(\"69\") == True",
        "    ",
        "    # Test case 2: Another valid strobogrammatic number",
        "    assert isStrobogrammatic(\"88\") == True",
        "    ",
        "    # Test case 3: Invalid strobogrammatic number",
        "    assert isStrobogrammatic(\"962\") == False",
        "    ",
        "    # Test case 4: Single digit valid strobogrammatic number",
        "    assert isStrobogrammatic(\"8\") == True",
        "    ",
        "    # Test case 5: Single digit invalid strobogrammatic number",
        "    assert isStrobogrammatic(\"2\") == False",
        "    ",
        "    # Test case 6: Empty string (edge case)",
        "    assert isStrobogrammatic(\"\") == True",
        "    ",
        "    # Test case 7: Longer valid strobogrammatic number",
        "    assert isStrobogrammatic(\"69869\") == True",
        "    ",
        "    # Test case 8: Longer invalid strobogrammatic number",
        "    assert isStrobogrammatic(\"69862\") == False",
        "    ",
        "    # Test case 9: Valid strobogrammatic number with zeros",
        "    assert isStrobogrammatic(\"609\") == False",
        "    ",
        "    # Test case 10: Valid strobogrammatic number with all valid digits",
        "    assert isStrobogrammatic(\"1698019886901\") == True",
        "    ",
        "    print(\"All test cases passed!\")",
        "",
        "# Run the tests",
        "test_isStrobogrammatic()",
        ""
      ],
      "execution_count": null,
      "outputs": []
    }
  ],
  "metadata": {
    "kernelspec": {
      "display_name": "Python 3",
      "language": "python",
      "name": "python3"
    },
    "language_info": {
      "codemirror_mode": {
        "name": "ipython",
        "version": 3
      },
      "file_extension": ".py",
      "mimetype": "text/x-python",
      "name": "python",
      "nbconvert_exporter": "python",
      "pygments_lexer": "ipython3",
      "version": "3.11.9"
    }
  },
  "nbformat": 4,
  "nbformat_minor": 5
}