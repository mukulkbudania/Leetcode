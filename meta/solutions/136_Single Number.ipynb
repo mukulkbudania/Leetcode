{
  "cells": [
    {
      "cell_type": "markdown",
      "metadata": {},
      "source": [
        "# 136. Single Number"
      ]
    },
    {
      "cell_type": "markdown",
      "metadata": {},
      "source": [
        "Given a non-empty array of integers nums, every element appears twice except for one. Find that single one.",
        "",
        "",
        "",
        "You must implement a solution with a linear runtime complexity and use only constant extra space.",
        "",
        "",
        "",
        " ",
        "",
        "",
        "",
        "**Example 1:**",
        "",
        "",
        "",
        "Input: nums = [2,2,1]",
        "",
        "",
        "",
        "Output: 1",
        "",
        "",
        "",
        "**Example 2:**",
        "",
        "",
        "",
        "Input: nums = [4,1,2,1,2]",
        "",
        "",
        "",
        "Output: 4",
        "",
        "",
        "",
        "**Example 3:**",
        "",
        "",
        "",
        "Input: nums = [1]",
        "",
        "",
        "",
        "Output: 1",
        "",
        "",
        "",
        " ",
        "",
        "",
        "",
        "**Constraints:**",
        "",
        "",
        "",
        "1 <= nums.length <= 3 * 104",
        "",
        "-3 * 104 <= nums[i] <= 3 * 104",
        "",
        "Each element in the array appears twice except for one element which appears only once."
      ]
    },
    {
      "cell_type": "markdown",
      "metadata": {},
      "source": [
        "## Solution Explanation\n",
        "This problem asks us to find the single element in an array where every other element appears exactly twice.",
        "",
        "The key insight is to use the XOR (exclusive or) operation. XOR has several useful properties:",
        "1. XOR of a number with itself is 0: `a ^ a = 0`",
        "2. XOR of a number with 0 is the number itself: `a ^ 0 = a`",
        "3. XOR is commutative and associative: `a ^ b = b ^ a` and `(a ^ b) ^ c = a ^ (b ^ c)`",
        "",
        "Using these properties, if we XOR all numbers in the array, the elements that appear twice will cancel out (become 0), and only the single element will remain.",
        "",
        "For example, with [4,1,2,1,2]:",
        "* 4 ^ 1 ^ 2 ^ 1 ^ 2",
        "* 4 ^ (1 ^ 1) ^ (2 ^ 2)  // Rearranging using associative property",
        "* 4 ^ 0 ^ 0  // Using property 1",
        "* 4  // Using property 2",
        "",
        "This approach has O(n) time complexity and O(1) space complexity, meeting the problem's requirements."
      ]
    },
    {
      "cell_type": "code",
      "metadata": {},
      "source": [
        "def singleNumber(nums):",
        "    \"\"\"",
        "    :type nums: List[int]",
        "    :rtype: int",
        "    \"\"\"",
        "    result = 0",
        "    for num in nums:",
        "        result ^= num",
        "    return result",
        ""
      ],
      "execution_count": null,
      "outputs": []
    },
    {
      "cell_type": "markdown",
      "metadata": {},
      "source": [
        "## Time and Space Complexity\n",
        "* *Time Complexity**: O(n) where n is the length of the input array. We iterate through the array once, performing a constant-time XOR operation for each element.",
        "* *Space Complexity**: O(1) as we only use a single variable (result) regardless of the input size. This meets the problem's requirement of using only constant extra space."
      ]
    },
    {
      "cell_type": "markdown",
      "metadata": {},
      "source": [
        "## Test Cases\n"
      ]
    },
    {
      "cell_type": "code",
      "metadata": {},
      "source": [
        "def test_single_number():",
        "    # Test case 1: Basic case with three elements",
        "    assert singleNumber([2, 2, 1]) == 1",
        "    ",
        "    # Test case 2: Multiple pairs with single element in the middle",
        "    assert singleNumber([4, 1, 2, 1, 2]) == 4",
        "    ",
        "    # Test case 3: Single element array",
        "    assert singleNumber([1]) == 1",
        "    ",
        "    # Test case 4: Larger array with negative numbers",
        "    assert singleNumber([1, 3, 1, -2, 5, 5, -2, 7, 3]) == 7",
        "    ",
        "    # Test case 5: Array with zeros",
        "    assert singleNumber([0, 1, 0]) == 1",
        "    ",
        "    # Test case 6: Array with larger numbers",
        "    assert singleNumber([10000, 10000, 5000]) == 5000",
        "    ",
        "    print(\"All test cases passed!\")",
        "",
        "# Run the tests",
        "test_single_number()",
        ""
      ],
      "execution_count": null,
      "outputs": []
    }
  ],
  "metadata": {
    "kernelspec": {
      "display_name": "Python 3",
      "language": "python",
      "name": "python3"
    },
    "language_info": {
      "codemirror_mode": {
        "name": "ipython",
        "version": 3
      },
      "file_extension": ".py",
      "mimetype": "text/x-python",
      "name": "python",
      "nbconvert_exporter": "python",
      "pygments_lexer": "ipython3",
      "version": "3.11.9"
    }
  },
  "nbformat": 4,
  "nbformat_minor": 5
}