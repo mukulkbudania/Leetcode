{
  "cells": [
    {
      "cell_type": "markdown",
      "metadata": {},
      "source": [
        "# 122. Best Time to Buy and Sell Stock II"
      ]
    },
    {
      "cell_type": "markdown",
      "metadata": {},
      "source": [
        "You are given an integer array prices where prices[i] is the price of a given stock on the ith day.",
        "",
        "",
        "",
        "On each day, you may decide to buy and/or sell the stock. You can only hold at most one share of the stock at any time. However, you can buy it then immediately sell it on the same day.",
        "",
        "",
        "",
        "Find and return the maximum profit you can achieve.",
        "",
        "",
        "",
        " ",
        "",
        "",
        "",
        "**Example 1:**",
        "",
        "",
        "",
        "Input: prices = [7,1,5,3,6,4]",
        "",
        "Output: 7",
        "",
        "Explanation: Buy on day 2 (price = 1) and sell on day 3 (price = 5), profit = 5-1 = 4.",
        "",
        "Then buy on day 4 (price = 3) and sell on day 5 (price = 6), profit = 6-3 = 3.",
        "",
        "Total profit is 4 + 3 = 7.",
        "",
        "**Example 2:**",
        "",
        "",
        "",
        "Input: prices = [1,2,3,4,5]",
        "",
        "Output: 4",
        "",
        "Explanation: Buy on day 1 (price = 1) and sell on day 5 (price = 5), profit = 5-1 = 4.",
        "",
        "Total profit is 4.",
        "",
        "**Example 3:**",
        "",
        "",
        "",
        "Input: prices = [7,6,4,3,1]",
        "",
        "Output: 0",
        "",
        "Explanation: There is no way to make a positive profit, so we never buy the stock to achieve the maximum profit of 0.",
        "",
        " ",
        "",
        "",
        "",
        "**Constraints:**",
        "",
        "",
        "",
        "1 <= prices.length <= 3 * 104",
        "",
        "0 <= prices[i] <= 104"
      ]
    },
    {
      "cell_type": "markdown",
      "metadata": {},
      "source": [
        "## Solution Explanation\n",
        "This problem is asking us to find the maximum profit we can achieve by buying and selling stocks, where we can make multiple transactions but can only hold one share at a time.",
        "",
        "The key insight is that we want to capture every upward trend in the price. Whenever the price tomorrow is higher than today, we should buy today and sell tomorrow to make a profit.",
        "",
        "This is a greedy approach that works because:",
        "1. If prices are increasing (e.g., [1,2,3,4,5]), we can either buy at 1 and sell at 5, or buy at 1, sell at 2, buy at 2, sell at 3, etc. Both approaches give the same profit.",
        "2. If there's a dip (e.g., [1,5,3,6]), we should sell before the dip and buy again after it.",
        "",
        "So the algorithm is simple:",
        "1. Iterate through the prices array",
        "2. For each day, if the price is higher than the previous day, add the difference to our profit",
        "3. Return the total profit"
      ]
    },
    {
      "cell_type": "code",
      "metadata": {},
      "source": [
        "def maxProfit(prices):",
        "    \"\"\"",
        "    Calculate the maximum profit that can be achieved by buying and selling stocks.",
        "    ",
        "    Args:",
        "        prices: List[int], prices of the stock on each day",
        "        ",
        "    Returns:",
        "        int: Maximum profit that can be achieved",
        "    \"\"\"",
        "    if not prices or len(prices) <= 1:",
        "        return 0",
        "    ",
        "    max_profit = 0",
        "    ",
        "    for i in range(1, len(prices)):",
        "        # If current price is higher than previous day's price",
        "        if prices[i] > prices[i-1]:",
        "            # Add the profit to our total",
        "            max_profit += prices[i] - prices[i-1]",
        "    ",
        "    return max_profit",
        ""
      ],
      "execution_count": null,
      "outputs": []
    },
    {
      "cell_type": "markdown",
      "metadata": {},
      "source": [
        "## Time and Space Complexity\n",
        "* *Time Complexity**: O(n), where n is the length of the prices array. We iterate through the array once, performing constant-time operations at each step.",
        "* *Space Complexity**: O(1), as we only use a single variable to keep track of the maximum profit, regardless of the input size."
      ]
    },
    {
      "cell_type": "markdown",
      "metadata": {},
      "source": [
        "## Test Cases\n"
      ]
    },
    {
      "cell_type": "code",
      "metadata": {},
      "source": [
        "def test_max_profit():",
        "    # Test case 1: Regular case with ups and downs",
        "    assert maxProfit([7,1,5,3,6,4]) == 7",
        "    ",
        "    # Test case 2: Continuously increasing prices",
        "    assert maxProfit([1,2,3,4,5]) == 4",
        "    ",
        "    # Test case 3: Continuously decreasing prices",
        "    assert maxProfit([7,6,4,3,1]) == 0",
        "    ",
        "    # Test case 4: Empty array",
        "    assert maxProfit([]) == 0",
        "    ",
        "    # Test case 5: Single element",
        "    assert maxProfit([5]) == 0",
        "    ",
        "    # Test case 6: Two elements with profit",
        "    assert maxProfit([1, 2]) == 1",
        "    ",
        "    # Test case 7: Two elements with no profit",
        "    assert maxProfit([2, 1]) == 0",
        "    ",
        "    # Test case 8: Multiple peaks and valleys",
        "    assert maxProfit([3,2,6,5,0,3]) == 7",
        "    ",
        "    print(\"All test cases passed!\")",
        "",
        "# Run the tests",
        "test_max_profit()",
        ""
      ],
      "execution_count": null,
      "outputs": []
    }
  ],
  "metadata": {
    "kernelspec": {
      "display_name": "Python 3",
      "language": "python",
      "name": "python3"
    },
    "language_info": {
      "codemirror_mode": {
        "name": "ipython",
        "version": 3
      },
      "file_extension": ".py",
      "mimetype": "text/x-python",
      "name": "python",
      "nbconvert_exporter": "python",
      "pygments_lexer": "ipython3",
      "version": "3.11.9"
    }
  },
  "nbformat": 4,
  "nbformat_minor": 5
}