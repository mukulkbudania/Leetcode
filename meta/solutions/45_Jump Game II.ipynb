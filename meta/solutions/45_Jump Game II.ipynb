{
  "cells": [
    {
      "cell_type": "markdown",
      "metadata": {},
      "source": [
        "# 45. Jump Game II"
      ]
    },
    {
      "cell_type": "markdown",
      "metadata": {},
      "source": [
        "You are given a 0-indexed array of integers nums of length n. You are initially positioned at nums[0].",
        "",
        "",
        "",
        "Each element nums[i] represents the maximum length of a forward jump from index i. In other words, if you are at nums[i], you can jump to any nums[i + j] where:",
        "",
        "",
        "",
        "0 <= j <= nums[i] and",
        "",
        "i + j < n",
        "",
        "Return the minimum number of jumps to reach nums[n - 1]. The test cases are generated such that you can reach nums[n - 1].",
        "",
        "",
        "",
        " ",
        "",
        "",
        "",
        "**Example 1:**",
        "",
        "",
        "",
        "Input: nums = [2,3,1,1,4]",
        "",
        "Output: 2",
        "",
        "Explanation: The minimum number of jumps to reach the last index is 2. Jump 1 step from index 0 to 1, then 3 steps to the last index.",
        "",
        "**Example 2:**",
        "",
        "",
        "",
        "Input: nums = [2,3,0,1,4]",
        "",
        "Output: 2",
        "",
        " ",
        "",
        "",
        "",
        "**Constraints:**",
        "",
        "",
        "",
        "1 <= nums.length <= 104",
        "",
        "0 <= nums[i] <= 1000",
        "",
        "It's guaranteed that you can reach nums[n - 1].",
        "",
        ""
      ]
    },
    {
      "cell_type": "markdown",
      "metadata": {},
      "source": [
        "## Solution Explanation\n",
        "This problem asks for the minimum number of jumps needed to reach the end of an array, where each element represents the maximum jump distance from that position.",
        "",
        "I'll solve this using a greedy approach. The key insight is that we want to maximize how far we can reach with each jump. For each position, we'll track:",
        "",
        "1. The furthest position we can reach with the current number of jumps (`current_max_reach`)",
        "2. The furthest position we can reach with one more jump (`next_max_reach`)",
        "",
        "When we reach the current maximum position, we need to make another jump, so we increment our jump counter and update our current maximum reach to the next maximum reach we've calculated.",
        "",
        "The algorithm works as follows:",
        "1. If the array has only one element, we're already at the end, so return 0 jumps.",
        "2. Initialize variables to track jumps, current maximum reach, and next maximum reach.",
        "3. Iterate through the array (except the last element, since we don't need to jump from there).",
        "4. For each position, update the furthest position we can reach with one more jump.",
        "5. If we've reached our current maximum reach, make a jump and update the current maximum reach.",
        "6. Return the total number of jumps when we finish the iteration."
      ]
    },
    {
      "cell_type": "code",
      "metadata": {},
      "source": [
        "def jump(nums):",
        "    n = len(nums)",
        "    ",
        "    # If there's only one element, we're already at the end",
        "    if n == 1:",
        "        return 0",
        "    ",
        "    jumps = 0",
        "    current_max_reach = 0",
        "    next_max_reach = 0",
        "    ",
        "    # We don't need to process the last element",
        "    for i in range(n - 1):",
        "        # Update the furthest position we can reach",
        "        next_max_reach = max(next_max_reach, i + nums[i])",
        "        ",
        "        # If we've reached the current maximum position, we need to jump",
        "        if i == current_max_reach:",
        "            jumps += 1",
        "            current_max_reach = next_max_reach",
        "            ",
        "            # If we can already reach the end, no need to continue",
        "            if current_max_reach >= n - 1:",
        "                break",
        "    ",
        "    return jumps",
        ""
      ],
      "execution_count": null,
      "outputs": []
    },
    {
      "cell_type": "markdown",
      "metadata": {},
      "source": [
        "## Time and Space Complexity\n",
        "* *Time Complexity**: O(n), where n is the length of the input array. We iterate through the array once, and each operation inside the loop takes constant time.",
        "* *Space Complexity**: O(1), as we only use a constant amount of extra space regardless of the input size. We're just using a few variables to track our state."
      ]
    },
    {
      "cell_type": "markdown",
      "metadata": {},
      "source": [
        "## Test Cases\n"
      ]
    },
    {
      "cell_type": "code",
      "metadata": {},
      "source": [
        "def test_jump():",
        "    # Test case 1: Example from the problem",
        "    assert jump([2, 3, 1, 1, 4]) == 2",
        "    ",
        "    # Test case 2: Another example from the problem",
        "    assert jump([2, 3, 0, 1, 4]) == 2",
        "    ",
        "    # Test case 3: Single element array",
        "    assert jump([0]) == 0",
        "    ",
        "    # Test case 4: All elements are 1 (maximum number of jumps)",
        "    assert jump([1, 1, 1, 1, 1]) == 4",
        "    ",
        "    # Test case 5: First element can reach the end",
        "    assert jump([5, 1, 1, 1, 1]) == 1",
        "    ",
        "    # Test case 6: Larger array with varying jump distances",
        "    assert jump([3, 4, 3, 2, 5, 4, 3, 1, 1, 1, 1]) == 3",
        "    ",
        "    # Test case 7: Edge case - minimum jumps with exact reaches",
        "    assert jump([1, 2, 3, 4, 5]) == 3",
        "    ",
        "    print(\"All test cases passed!\")",
        "",
        "# Run the tests",
        "test_jump()",
        ""
      ],
      "execution_count": null,
      "outputs": []
    }
  ],
  "metadata": {
    "kernelspec": {
      "display_name": "Python 3",
      "language": "python",
      "name": "python3"
    },
    "language_info": {
      "codemirror_mode": {
        "name": "ipython",
        "version": 3
      },
      "file_extension": ".py",
      "mimetype": "text/x-python",
      "name": "python",
      "nbconvert_exporter": "python",
      "pygments_lexer": "ipython3",
      "version": "3.11.9"
    }
  },
  "nbformat": 4,
  "nbformat_minor": 5
}