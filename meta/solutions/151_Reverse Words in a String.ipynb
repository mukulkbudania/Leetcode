{
  "cells": [
    {
      "cell_type": "markdown",
      "metadata": {},
      "source": [
        "# 151. Reverse Words in a String"
      ]
    },
    {
      "cell_type": "markdown",
      "metadata": {},
      "source": [
        "Given an input string s, reverse the order of the words.",
        "",
        "",
        "",
        "A word is defined as a sequence of non-space characters. The words in s will be separated by at least one space.",
        "",
        "",
        "",
        "Return a string of the words in reverse order concatenated by a single space.",
        "",
        "",
        "",
        "Note that s may contain leading or trailing spaces or multiple spaces between two words. The returned string should only have a single space separating the words. Do not include any extra spaces.",
        "",
        "",
        "",
        " ",
        "",
        "",
        "",
        "**Example 1:**",
        "",
        "",
        "",
        "Input: s = \"the sky is blue\"",
        "",
        "Output: \"blue is sky the\"",
        "",
        "**Example 2:**",
        "",
        "",
        "",
        "Input: s = \"  hello world  \"",
        "",
        "Output: \"world hello\"",
        "",
        "Explanation: Your reversed string should not contain leading or trailing spaces.",
        "",
        "**Example 3:**",
        "",
        "",
        "",
        "Input: s = \"a good   example\"",
        "",
        "Output: \"example good a\"",
        "",
        "Explanation: You need to reduce multiple spaces between two words to a single space in the reversed string.",
        "",
        " ",
        "",
        "",
        "",
        "**Constraints:**",
        "",
        "",
        "",
        "1 <= s.length <= 104",
        "",
        "s contains English letters (upper-case and lower-case), digits, and spaces ' '.",
        "",
        "There is at least one word in s.",
        "",
        " ",
        "",
        "",
        "",
        "Follow-up: If the string data type is mutable in your language, can you solve it in-place with O(1) extra space?"
      ]
    },
    {
      "cell_type": "markdown",
      "metadata": {},
      "source": [
        "## Solution Explanation\n",
        "This problem asks us to reverse the order of words in a string while handling multiple spaces correctly. The approach I'll take involves:",
        "",
        "1. Trim leading and trailing spaces from the input string",
        "2. Split the string by spaces to get individual words",
        "3. Filter out any empty strings that might result from multiple spaces",
        "4. Reverse the order of the words",
        "5. Join the words with a single space",
        "",
        "For the follow-up question about solving it in-place with O(1) extra space: In Python, strings are immutable, so we can't modify them in-place. However, if we were using a language with mutable strings (like C++), we could:",
        "1. Reverse the entire string",
        "2. Reverse each word individually",
        "3. Handle spaces during the process"
      ]
    },
    {
      "cell_type": "code",
      "metadata": {},
      "source": [
        "class Solution:",
        "    def reverseWords(self, s: str) -> str:",
        "        # Split the string by spaces and filter out empty strings",
        "        words = s.split()",
        "        ",
        "        # Reverse the list of words",
        "        words.reverse()",
        "        ",
        "        # Join the words with a single space",
        "        return ' '.join(words)",
        "    ",
        "    # Alternative implementation using a more functional approach",
        "    def reverseWords_alt(self, s: str) -> str:",
        "        return ' '.join(s.split()[::-1])",
        ""
      ],
      "execution_count": null,
      "outputs": []
    },
    {
      "cell_type": "markdown",
      "metadata": {},
      "source": [
        "## Time and Space Complexity\n",
        "* *Time Complexity**: O(n), where n is the length of the input string.",
        "* Splitting the string takes O(n) time",
        "* Reversing the list of words takes O(m) time, where m is the number of words (which is at most n/2 in the worst case)",
        "* Joining the words takes O(n) time",
        "* *Space Complexity**: O(n)",
        "* We need to store the split words, which in the worst case could be O(n) space",
        "* The output string also requires O(n) space",
        "",
        "For the follow-up question about O(1) extra space: In languages with mutable strings, we could achieve O(1) extra space by manipulating the string in-place, but Python strings are immutable, so we need at least O(n) space for the result."
      ]
    },
    {
      "cell_type": "markdown",
      "metadata": {},
      "source": [
        "## Test Cases\n"
      ]
    },
    {
      "cell_type": "code",
      "metadata": {},
      "source": [
        "def test_solution():",
        "    solution = Solution()",
        "    ",
        "    # Test case 1: Normal case with multiple words",
        "    assert solution.reverseWords(\"the sky is blue\") == \"blue is sky the\"",
        "    ",
        "    # Test case 2: Leading and trailing spaces",
        "    assert solution.reverseWords(\"  hello world  \") == \"world hello\"",
        "    ",
        "    # Test case 3: Multiple spaces between words",
        "    assert solution.reverseWords(\"a good   example\") == \"example good a\"",
        "    ",
        "    # Test case 4: Single word",
        "    assert solution.reverseWords(\"hello\") == \"hello\"",
        "    ",
        "    # Test case 5: Empty string (though the problem states there's at least one word)",
        "    assert solution.reverseWords(\"\") == \"\"",
        "    ",
        "    # Test case 6: String with only spaces",
        "    assert solution.reverseWords(\"   \") == \"\"",
        "    ",
        "    # Test case 7: Mix of letters, digits, and spaces",
        "    assert solution.reverseWords(\"1 22 333 4444\") == \"4444 333 22 1\"",
        "    ",
        "    print(\"All test cases passed!\")",
        "",
        "test_solution()",
        ""
      ],
      "execution_count": null,
      "outputs": []
    }
  ],
  "metadata": {
    "kernelspec": {
      "display_name": "Python 3",
      "language": "python",
      "name": "python3"
    },
    "language_info": {
      "codemirror_mode": {
        "name": "ipython",
        "version": 3
      },
      "file_extension": ".py",
      "mimetype": "text/x-python",
      "name": "python",
      "nbconvert_exporter": "python",
      "pygments_lexer": "ipython3",
      "version": "3.11.9"
    }
  },
  "nbformat": 4,
  "nbformat_minor": 5
}