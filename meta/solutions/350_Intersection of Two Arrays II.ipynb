{
  "cells": [
    {
      "cell_type": "markdown",
      "metadata": {},
      "source": [
        "# 350. Intersection of Two Arrays II"
      ]
    },
    {
      "cell_type": "markdown",
      "metadata": {},
      "source": [
        "Given two integer arrays nums1 and nums2, return an array of their intersection. Each element in the result must appear as many times as it shows in both arrays and you may return the result in any order.",
        "",
        "",
        "",
        " ",
        "",
        "",
        "",
        "**Example 1:**",
        "",
        "",
        "",
        "Input: nums1 = [1,2,2,1], nums2 = [2,2]",
        "",
        "Output: [2,2]",
        "",
        "**Example 2:**",
        "",
        "",
        "",
        "Input: nums1 = [4,9,5], nums2 = [9,4,9,8,4]",
        "",
        "Output: [4,9]",
        "",
        "Explanation: [9,4] is also accepted.",
        "",
        " ",
        "",
        "",
        "",
        "**Constraints:**",
        "",
        "",
        "",
        "1 <= nums1.length, nums2.length <= 1000",
        "",
        "0 <= nums1[i], nums2[i] <= 1000",
        "",
        " ",
        "",
        "",
        "",
        "Follow up:",
        "",
        "",
        "",
        "What if the given array is already sorted? How would you optimize your algorithm?",
        "",
        "What if nums1's size is small compared to nums2's size? Which algorithm is better?",
        "",
        "What if elements of nums2 are stored on disk, and the memory is limited such that you cannot load all elements into the memory at once?"
      ]
    },
    {
      "cell_type": "markdown",
      "metadata": {},
      "source": [
        "## Solution Explanation\n",
        "To find the intersection of two arrays where each element appears as many times as it shows in both arrays, we need to count the frequency of elements in both arrays and take the minimum count for each element.",
        "",
        "The most straightforward approach is to use a hash map (dictionary in Python) to count the occurrences of each element in the first array. Then, we iterate through the second array and check if each element exists in our hash map. If it does and its count is greater than 0, we include it in our result and decrement its count in the hash map.",
        "",
        "This approach ensures that we only include elements that appear in both arrays, and we include them exactly the minimum number of times they appear in either array."
      ]
    },
    {
      "cell_type": "code",
      "metadata": {},
      "source": [
        "def intersect(nums1, nums2):",
        "    \"\"\"",
        "    :type nums1: List[int]",
        "    :type nums2: List[int]",
        "    :rtype: List[int]",
        "    \"\"\"",
        "    # Create a counter for nums1",
        "    counter = {}",
        "    for num in nums1:",
        "        counter[num] = counter.get(num, 0) + 1",
        "    ",
        "    # Check nums2 against the counter",
        "    result = []",
        "    for num in nums2:",
        "        if num in counter and counter[num] > 0:",
        "            result.append(num)",
        "            counter[num] -= 1",
        "    ",
        "    return result",
        ""
      ],
      "execution_count": null,
      "outputs": []
    },
    {
      "cell_type": "markdown",
      "metadata": {},
      "source": [
        "## Time and Space Complexity\n",
        "* *Time Complexity**: O(n + m) where n is the length of nums1 and m is the length of nums2. We iterate through each array once.",
        "* *Space Complexity**: O(min(n, m)) in the worst case. The hash map will store at most the number of unique elements in nums1, and the result array will have at most min(n, m) elements (when all elements in the smaller array are in the intersection).",
        "",
        "For the follow-up questions:",
        "1. If arrays are already sorted, we can use a two-pointer approach with O(n + m) time and O(min(n, m)) space complexity, which avoids using a hash map.",
        "2. If nums1 is much smaller than nums2, the current approach is optimal as we only need to store counts for nums1.",
        "3. If nums2 is on disk with limited memory, we can process nums2 in chunks, updating our result as we go through each chunk."
      ]
    },
    {
      "cell_type": "markdown",
      "metadata": {},
      "source": [
        "## Test Cases\n"
      ]
    },
    {
      "cell_type": "code",
      "metadata": {},
      "source": [
        "def test_intersect():",
        "    # Test case 1: Basic example",
        "    assert sorted(intersect([1, 2, 2, 1], [2, 2])) == [2, 2]",
        "    ",
        "    # Test case 2: Another example",
        "    assert sorted(intersect([4, 9, 5], [9, 4, 9, 8, 4])) == [4, 9]",
        "    ",
        "    # Test case 3: Empty array",
        "    assert intersect([], [1, 2, 3]) == []",
        "    ",
        "    # Test case 4: No intersection",
        "    assert intersect([1, 2, 3], [4, 5, 6]) == []",
        "    ",
        "    # Test case 5: All elements intersect",
        "    assert sorted(intersect([1, 1, 2], [1, 1, 2])) == [1, 1, 2]",
        "    ",
        "    # Test case 6: Some elements intersect multiple times",
        "    assert sorted(intersect([1, 1, 1, 2, 2], [1, 1, 2, 2, 2])) == [1, 1, 2, 2]",
        "    ",
        "    print(\"All test cases passed!\")",
        "",
        "# Run the tests",
        "test_intersect()",
        ""
      ],
      "execution_count": null,
      "outputs": []
    }
  ],
  "metadata": {
    "kernelspec": {
      "display_name": "Python 3",
      "language": "python",
      "name": "python3"
    },
    "language_info": {
      "codemirror_mode": {
        "name": "ipython",
        "version": 3
      },
      "file_extension": ".py",
      "mimetype": "text/x-python",
      "name": "python",
      "nbconvert_exporter": "python",
      "pygments_lexer": "ipython3",
      "version": "3.11.9"
    }
  },
  "nbformat": 4,
  "nbformat_minor": 5
}