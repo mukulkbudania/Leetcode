{
  "cells": [
    {
      "cell_type": "markdown",
      "metadata": {},
      "source": [
        "# 152. Maximum Product Subarray"
      ]
    },
    {
      "cell_type": "markdown",
      "metadata": {},
      "source": [
        "Given an integer array nums, find a subarray that has the largest product, and return the product.",
        "",
        "",
        "",
        "The test cases are generated so that the answer will fit in a 32-bit integer.",
        "",
        "",
        "",
        " ",
        "",
        "",
        "",
        "**Example 1:**",
        "",
        "",
        "",
        "Input: nums = [2,3,-2,4]",
        "",
        "Output: 6",
        "",
        "Explanation: [2,3] has the largest product 6.",
        "",
        "**Example 2:**",
        "",
        "",
        "",
        "Input: nums = [-2,0,-1]",
        "",
        "Output: 0",
        "",
        "Explanation: The result cannot be 2, because [-2,-1] is not a subarray.",
        "",
        " ",
        "",
        "",
        "",
        "**Constraints:**",
        "",
        "",
        "",
        "1 <= nums.length <= 2 * 104",
        "",
        "-10 <= nums[i] <= 10",
        "",
        "The product of any subarray of nums is guaranteed to fit in a 32-bit integer."
      ]
    },
    {
      "cell_type": "markdown",
      "metadata": {},
      "source": [
        "## Solution Explanation\n",
        "This problem asks us to find a subarray with the largest product. A key insight is that negative numbers can make the product larger when they appear in pairs. Also, zeros effectively \"reset\" our product calculation.",
        "",
        "The approach is to use a dynamic programming technique similar to Kadane's algorithm, but with a twist: we need to track both the maximum and minimum products ending at each position. Why? Because if we encounter a negative number, the minimum product (which is negative) can become the maximum product when multiplied by another negative number.",
        "",
        "For each position i in the array:",
        "1. If nums[i] is positive:",
        "* max_product = max(nums[i], max_product * nums[i])",
        "* min_product = min(nums[i], min_product * nums[i])",
        "2. If nums[i] is negative:",
        "* We need to swap max_product and min_product before applying the above formulas because multiplying by a negative number flips the relationship.",
        "3. If nums[i] is zero:",
        "* Both max_product and min_product become zero.",
        "",
        "Throughout this process, we keep track of the overall maximum product seen so far."
      ]
    },
    {
      "cell_type": "code",
      "metadata": {},
      "source": [
        "def maxProduct(nums):",
        "    if not nums:",
        "        return 0",
        "    ",
        "    # Initialize variables",
        "    max_so_far = nums[0]",
        "    max_ending_here = nums[0]",
        "    min_ending_here = nums[0]",
        "    ",
        "    # Traverse the array from the second element",
        "    for i in range(1, len(nums)):",
        "        # If current element is negative, swap max and min",
        "        # This is because multiplying a negative number with a minimum negative ",
        "        # makes it a maximum positive",
        "        if nums[i] < 0:",
        "            max_ending_here, min_ending_here = min_ending_here, max_ending_here",
        "        ",
        "        # Update max_ending_here and min_ending_here",
        "        max_ending_here = max(nums[i], max_ending_here * nums[i])",
        "        min_ending_here = min(nums[i], min_ending_here * nums[i])",
        "        ",
        "        # Update max_so_far",
        "        max_so_far = max(max_so_far, max_ending_here)",
        "    ",
        "    return max_so_far",
        ""
      ],
      "execution_count": null,
      "outputs": []
    },
    {
      "cell_type": "markdown",
      "metadata": {},
      "source": [
        "## Time and Space Complexity\n",
        "* *Time Complexity**: O(n) where n is the length of the input array. We traverse the array once, performing constant time operations at each step.",
        "* *Space Complexity**: O(1) as we only use a fixed number of variables regardless of the input size. We don't use any additional data structures that scale with the input."
      ]
    },
    {
      "cell_type": "markdown",
      "metadata": {},
      "source": [
        "## Test Cases\n"
      ]
    },
    {
      "cell_type": "code",
      "metadata": {},
      "source": [
        "def test_maxProduct():",
        "    # Test case 1: Example from the problem",
        "    assert maxProduct([2, 3, -2, 4]) == 6",
        "    ",
        "    # Test case 2: Example from the problem",
        "    assert maxProduct([-2, 0, -1]) == 0",
        "    ",
        "    # Test case 3: All positive numbers",
        "    assert maxProduct([1, 2, 3, 4]) == 24",
        "    ",
        "    # Test case 4: All negative numbers",
        "    assert maxProduct([-1, -2, -3, -4]) == 24",
        "    ",
        "    # Test case 5: Mix of positive and negative with zeros",
        "    assert maxProduct([-2, 3, -4, 0, 5, -6]) == 120",
        "    ",
        "    # Test case 6: Single element array",
        "    assert maxProduct([5]) == 5",
        "    ",
        "    # Test case 7: Two negative numbers",
        "    assert maxProduct([-2, -3]) == 6",
        "    ",
        "    # Test case 8: Zero in the middle",
        "    assert maxProduct([2, 0, 3]) == 3",
        "    ",
        "    # Test case 9: Multiple zeros",
        "    assert maxProduct([0, 0, 0]) == 0",
        "    ",
        "    # Test case 10: Negative numbers with zero",
        "    assert maxProduct([-2, 0, -1, -3]) == 3",
        "    ",
        "    print(\"All test cases passed!\")",
        "",
        "# Run the tests",
        "test_maxProduct()",
        ""
      ],
      "execution_count": null,
      "outputs": []
    }
  ],
  "metadata": {
    "kernelspec": {
      "display_name": "Python 3",
      "language": "python",
      "name": "python3"
    },
    "language_info": {
      "codemirror_mode": {
        "name": "ipython",
        "version": 3
      },
      "file_extension": ".py",
      "mimetype": "text/x-python",
      "name": "python",
      "nbconvert_exporter": "python",
      "pygments_lexer": "ipython3",
      "version": "3.11.9"
    }
  },
  "nbformat": 4,
  "nbformat_minor": 5
}