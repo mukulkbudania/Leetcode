{
  "cells": [
    {
      "cell_type": "markdown",
      "metadata": {},
      "source": [
        "# 905. Sort Array By Parity"
      ]
    },
    {
      "cell_type": "markdown",
      "metadata": {},
      "source": [
        "Given an integer array nums, move all the even integers at the beginning of the array followed by all the odd integers.",
        "",
        "",
        "",
        "Return any array that satisfies this condition.",
        "",
        "",
        "",
        " ",
        "",
        "",
        "",
        "**Example 1:**",
        "",
        "",
        "",
        "Input: nums = [3,1,2,4]",
        "",
        "Output: [2,4,3,1]",
        "",
        "Explanation: The outputs [4,2,3,1], [2,4,1,3], and [4,2,1,3] would also be accepted.",
        "",
        "**Example 2:**",
        "",
        "",
        "",
        "Input: nums = [0]",
        "",
        "Output: [0]",
        "",
        " ",
        "",
        "",
        "",
        "**Constraints:**",
        "",
        "",
        "",
        "1 <= nums.length <= 5000",
        "",
        "0 <= nums[i] <= 5000"
      ]
    },
    {
      "cell_type": "markdown",
      "metadata": {},
      "source": [
        "## Solution Explanation\n",
        "This problem asks us to rearrange an array so that all even integers appear before all odd integers. The order within each group (even and odd) doesn't matter.",
        "",
        "I'll use the two-pointer approach to solve this problem:",
        "1. Initialize two pointers: `left` at the beginning of the array and `right` at the end of the array.",
        "2. While `left` is less than `right`:",
        "* If the element at `left` is odd and the element at `right` is even, swap them.",
        "* If the element at `left` is even, move `left` to the right.",
        "* If the element at `right` is odd, move `right` to the left.",
        "3. Continue until the pointers meet or cross.",
        "",
        "This approach ensures that all even numbers are moved to the left side of the array and all odd numbers to the right side, satisfying the problem's requirement."
      ]
    },
    {
      "cell_type": "code",
      "metadata": {},
      "source": [
        "def sortArrayByParity(nums):",
        "    \"\"\"",
        "    Move all even integers to the beginning of the array followed by all odd integers.",
        "    ",
        "    Args:",
        "        nums: List[int] - The input array of integers",
        "        ",
        "    Returns:",
        "        List[int] - The rearranged array with even integers followed by odd integers",
        "    \"\"\"",
        "    left, right = 0, len(nums) - 1",
        "    ",
        "    while left < right:",
        "        # If left is odd and right is even, swap them",
        "        if nums[left] % 2 == 1 and nums[right] % 2 == 0:",
        "            nums[left], nums[right] = nums[right], nums[left]",
        "        ",
        "        # If left is even, move left pointer to the right",
        "        if nums[left] % 2 == 0:",
        "            left += 1",
        "        ",
        "        # If right is odd, move right pointer to the left",
        "        if nums[right] % 2 == 1:",
        "            right -= 1",
        "    ",
        "    return nums",
        ""
      ],
      "execution_count": null,
      "outputs": []
    },
    {
      "cell_type": "markdown",
      "metadata": {},
      "source": [
        "## Time and Space Complexity\n",
        "* *Time Complexity**: O(n), where n is the length of the input array. We traverse the array once with the two pointers, and each element is examined at most once.",
        "* *Space Complexity**: O(1), as we are modifying the array in-place and only using a constant amount of extra space (the two pointers)."
      ]
    },
    {
      "cell_type": "markdown",
      "metadata": {},
      "source": [
        "## Test Cases\n"
      ]
    },
    {
      "cell_type": "code",
      "metadata": {},
      "source": [
        "def test_sortArrayByParity():",
        "    # Test case 1: Mixed even and odd numbers",
        "    assert set(sortArrayByParity([3, 1, 2, 4])) == set([2, 4, 3, 1])",
        "    ",
        "    # Test case 2: Single element",
        "    assert sortArrayByParity([0]) == [0]",
        "    ",
        "    # Test case 3: All even numbers",
        "    assert sortArrayByParity([2, 4, 6, 8]) == [2, 4, 6, 8]",
        "    ",
        "    # Test case 4: All odd numbers",
        "    assert sortArrayByParity([1, 3, 5, 7]) == [1, 3, 5, 7]",
        "    ",
        "    # Test case 5: Empty array",
        "    assert sortArrayByParity([]) == []",
        "    ",
        "    # Test case 6: Alternating even and odd",
        "    result = sortArrayByParity([2, 3, 4, 5])",
        "    # Check if all even numbers come before all odd numbers",
        "    even_part = [num for num in result if num % 2 == 0]",
        "    odd_part = [num for num in result if num % 2 == 1]",
        "    assert set(even_part) == set([2, 4]) and set(odd_part) == set([3, 5])",
        "    ",
        "    # Test case 7: Larger array",
        "    result = sortArrayByParity([1, 2, 3, 4, 5, 6, 7, 8, 9, 10])",
        "    even_part = [num for num in result if num % 2 == 0]",
        "    odd_part = [num for num in result if num % 2 == 1]",
        "    assert set(even_part) == set([2, 4, 6, 8, 10]) and set(odd_part) == set([1, 3, 5, 7, 9])",
        "    ",
        "    print(\"All test cases passed!\")",
        "",
        "# Run the tests",
        "test_sortArrayByParity()",
        ""
      ],
      "execution_count": null,
      "outputs": []
    }
  ],
  "metadata": {
    "kernelspec": {
      "display_name": "Python 3",
      "language": "python",
      "name": "python3"
    },
    "language_info": {
      "codemirror_mode": {
        "name": "ipython",
        "version": 3
      },
      "file_extension": ".py",
      "mimetype": "text/x-python",
      "name": "python",
      "nbconvert_exporter": "python",
      "pygments_lexer": "ipython3",
      "version": "3.11.9"
    }
  },
  "nbformat": 4,
  "nbformat_minor": 5
}