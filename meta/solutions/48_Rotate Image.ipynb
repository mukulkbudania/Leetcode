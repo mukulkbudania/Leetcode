{
  "cells": [
    {
      "cell_type": "markdown",
      "metadata": {},
      "source": [
        "# 48. Rotate Image"
      ]
    },
    {
      "cell_type": "markdown",
      "metadata": {},
      "source": [
        "You are given an n x n 2D matrix representing an image, rotate the image by 90 degrees (clockwise).",
        "",
        "",
        "",
        "You have to rotate the image in-place, which means you have to modify the input 2D matrix directly. DO NOT allocate another 2D matrix and do the rotation.",
        "",
        "",
        "",
        " ",
        "",
        "",
        "",
        "**Example 1:**",
        "",
        "",
        "",
        "",
        "",
        "Input: matrix = [[1,2,3],[4,5,6],[7,8,9]]",
        "",
        "Output: [[7,4,1],[8,5,2],[9,6,3]]",
        "",
        "**Example 2:**",
        "",
        "",
        "",
        "",
        "",
        "Input: matrix = [[5,1,9,11],[2,4,8,10],[13,3,6,7],[15,14,12,16]]",
        "",
        "Output: [[15,13,2,5],[14,3,4,1],[12,6,8,9],[16,7,10,11]]",
        "",
        " ",
        "",
        "",
        "",
        "**Constraints:**",
        "",
        "",
        "",
        "n == matrix.length == matrix[i].length",
        "",
        "1 <= n <= 20",
        "",
        "-1000 <= matrix[i][j] <= 1000"
      ]
    },
    {
      "cell_type": "markdown",
      "metadata": {},
      "source": [
        "## Solution Explanation\n",
        "To rotate the image by 90 degrees clockwise in-place, we can use a two-step approach:",
        "",
        "1. Transpose the matrix (swap rows with columns)",
        "2. Reverse each row",
        "",
        "This works because a 90-degree clockwise rotation can be decomposed into these two operations:",
        "* Transposing the matrix flips it along the main diagonal (top-left to bottom-right)",
        "* Reversing each row then completes the 90-degree clockwise rotation",
        "",
        "For example, with the matrix [[1,2,3],[4,5,6],[7,8,9]]:",
        "",
        "1. After transposing: [[1,4,7],[2,5,8],[3,6,9]]",
        "2. After reversing each row: [[7,4,1],[8,5,2],[9,6,3]]",
        "",
        "This approach is elegant because it avoids the need to track complex rotation patterns directly."
      ]
    },
    {
      "cell_type": "code",
      "metadata": {},
      "source": [
        "def rotate(matrix):",
        "    \"\"\"",
        "    Rotate the given n x n matrix 90 degrees clockwise in-place.",
        "    ",
        "    Args:",
        "        matrix: List[List[int]] - n x n 2D matrix",
        "    ",
        "    Returns:",
        "        None (modifies matrix in-place)",
        "    \"\"\"",
        "    n = len(matrix)",
        "    ",
        "    # Step 1: Transpose the matrix",
        "    for i in range(n):",
        "        for j in range(i, n):",
        "            matrix[i][j], matrix[j][i] = matrix[j][i], matrix[i][j]",
        "    ",
        "    # Step 2: Reverse each row",
        "    for i in range(n):",
        "        left, right = 0, n - 1",
        "        while left < right:",
        "            matrix[i][left], matrix[i][right] = matrix[i][right], matrix[i][left]",
        "            left += 1",
        "            right -= 1",
        ""
      ],
      "execution_count": null,
      "outputs": []
    },
    {
      "cell_type": "markdown",
      "metadata": {},
      "source": [
        "## Time and Space Complexity\n",
        "* *Time Complexity**: O(n\u00b2) where n is the dimension of the matrix.",
        "* Transposing the matrix requires visiting roughly half of the elements: O(n\u00b2/2) = O(n\u00b2)",
        "* Reversing each row requires visiting all elements once: O(n\u00b2)",
        "* Total: O(n\u00b2)",
        "* *Space Complexity**: O(1) since we're modifying the matrix in-place and only using a constant amount of extra space for temporary variables during swapping."
      ]
    },
    {
      "cell_type": "markdown",
      "metadata": {},
      "source": [
        "## Test Cases\n"
      ]
    },
    {
      "cell_type": "code",
      "metadata": {},
      "source": [
        "def test_rotate():",
        "    # Test case 1: 3x3 matrix",
        "    matrix1 = [[1, 2, 3], [4, 5, 6], [7, 8, 9]]",
        "    expected1 = [[7, 4, 1], [8, 5, 2], [9, 6, 3]]",
        "    rotate(matrix1)",
        "    assert matrix1 == expected1, f\"Expected {expected1}, got {matrix1}\"",
        "    ",
        "    # Test case 2: 4x4 matrix",
        "    matrix2 = [[5, 1, 9, 11], [2, 4, 8, 10], [13, 3, 6, 7], [15, 14, 12, 16]]",
        "    expected2 = [[15, 13, 2, 5], [14, 3, 4, 1], [12, 6, 8, 9], [16, 7, 10, 11]]",
        "    rotate(matrix2)",
        "    assert matrix2 == expected2, f\"Expected {expected2}, got {matrix2}\"",
        "    ",
        "    # Test case 3: 1x1 matrix (edge case)",
        "    matrix3 = [[1]]",
        "    expected3 = [[1]]",
        "    rotate(matrix3)",
        "    assert matrix3 == expected3, f\"Expected {expected3}, got {matrix3}\"",
        "    ",
        "    # Test case 4: 2x2 matrix",
        "    matrix4 = [[1, 2], [3, 4]]",
        "    expected4 = [[3, 1], [4, 2]]",
        "    rotate(matrix4)",
        "    assert matrix4 == expected4, f\"Expected {expected4}, got {matrix4}\"",
        "    ",
        "    print(\"All test cases passed!\")",
        "",
        "# Run the tests",
        "test_rotate()",
        ""
      ],
      "execution_count": null,
      "outputs": []
    }
  ],
  "metadata": {
    "kernelspec": {
      "display_name": "Python 3",
      "language": "python",
      "name": "python3"
    },
    "language_info": {
      "codemirror_mode": {
        "name": "ipython",
        "version": 3
      },
      "file_extension": ".py",
      "mimetype": "text/x-python",
      "name": "python",
      "nbconvert_exporter": "python",
      "pygments_lexer": "ipython3",
      "version": "3.11.9"
    }
  },
  "nbformat": 4,
  "nbformat_minor": 5
}