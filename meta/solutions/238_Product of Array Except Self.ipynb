{
  "cells": [
    {
      "cell_type": "markdown",
      "metadata": {},
      "source": [
        "# 238. Product of Array Except Self"
      ]
    },
    {
      "cell_type": "markdown",
      "metadata": {},
      "source": [
        "Given an integer array nums, return an array answer such that answer[i] is equal to the product of all the elements of nums except nums[i].",
        "",
        "",
        "",
        "The product of any prefix or suffix of nums is guaranteed to fit in a 32-bit integer.",
        "",
        "",
        "",
        "You must write an algorithm that runs in O(n) time and without using the division operation.",
        "",
        "",
        "",
        " ",
        "",
        "",
        "",
        "**Example 1:**",
        "",
        "",
        "",
        "Input: nums = [1,2,3,4]",
        "",
        "Output: [24,12,8,6]",
        "",
        "**Example 2:**",
        "",
        "",
        "",
        "Input: nums = [-1,1,0,-3,3]",
        "",
        "Output: [0,0,9,0,0]",
        "",
        " ",
        "",
        "",
        "",
        "**Constraints:**",
        "",
        "",
        "",
        "2 <= nums.length <= 105",
        "",
        "-30 <= nums[i] <= 30",
        "",
        "The input is generated such that answer[i] is guaranteed to fit in a 32-bit integer.",
        "",
        " ",
        "",
        "",
        "",
        "Follow up: Can you solve the problem in O(1) extra space complexity? (The output array does not count as extra space for space complexity analysis.)",
        "",
        "",
        "",
        ""
      ]
    },
    {
      "cell_type": "markdown",
      "metadata": {},
      "source": [
        "## Solution Explanation\n",
        "This problem asks us to calculate the product of all elements in the array except the current element, without using division and in O(n) time.",
        "",
        "The key insight is to use prefix and suffix products:",
        "1. For each position i, we need the product of all elements before i (prefix product) and the product of all elements after i (suffix product).",
        "2. Then, the answer for position i is prefix_product[i-1] * suffix_product[i+1].",
        "",
        "We can solve this in two passes:",
        "1. First pass: Calculate prefix products. For each position i, store the product of all elements from index 0 to i-1.",
        "2. Second pass: Calculate suffix products and the final result in one go. We'll maintain a running suffix product and multiply it with the corresponding prefix product.",
        "",
        "This approach avoids division, runs in O(n) time, and can be implemented with O(1) extra space (not counting the output array)."
      ]
    },
    {
      "cell_type": "code",
      "metadata": {},
      "source": [
        "def productExceptSelf(nums):",
        "    n = len(nums)",
        "    answer = [1] * n",
        "    ",
        "    # First pass: Calculate prefix products",
        "    # answer[i] will hold the product of all elements to the left of i",
        "    prefix = 1",
        "    for i in range(n):",
        "        answer[i] = prefix",
        "        prefix *= nums[i]",
        "    ",
        "    # Second pass: Calculate suffix products and final result",
        "    # For each position, multiply its prefix product with the suffix product",
        "    suffix = 1",
        "    for i in range(n-1, -1, -1):",
        "        answer[i] *= suffix",
        "        suffix *= nums[i]",
        "    ",
        "    return answer",
        ""
      ],
      "execution_count": null,
      "outputs": []
    },
    {
      "cell_type": "markdown",
      "metadata": {},
      "source": [
        "## Time and Space Complexity\n",
        "* *Time Complexity**: O(n) where n is the length of the input array. We make two passes through the array, each taking O(n) time.",
        "* *Space Complexity**: O(1) extra space, not counting the output array. We only use a constant amount of extra space for the prefix and suffix variables. The problem statement specifies that the output array doesn't count towards the space complexity."
      ]
    },
    {
      "cell_type": "markdown",
      "metadata": {},
      "source": [
        "## Test Cases\n"
      ]
    },
    {
      "cell_type": "code",
      "metadata": {},
      "source": [
        "def test_product_except_self():",
        "    # Test case 1: Regular case with positive numbers",
        "    nums1 = [1, 2, 3, 4]",
        "    expected1 = [24, 12, 8, 6]",
        "    result1 = productExceptSelf(nums1)",
        "    assert result1 == expected1, f\"Test case 1 failed: expected {expected1}, got {result1}\"",
        "    ",
        "    # Test case 2: Array with negative numbers and zero",
        "    nums2 = [-1, 1, 0, -3, 3]",
        "    expected2 = [0, 0, 9, 0, 0]",
        "    result2 = productExceptSelf(nums2)",
        "    assert result2 == expected2, f\"Test case 2 failed: expected {expected2}, got {result2}\"",
        "    ",
        "    # Test case 3: Minimum length array",
        "    nums3 = [2, 3]",
        "    expected3 = [3, 2]",
        "    result3 = productExceptSelf(nums3)",
        "    assert result3 == expected3, f\"Test case 3 failed: expected {expected3}, got {result3}\"",
        "    ",
        "    # Test case 4: Array with multiple zeros",
        "    nums4 = [0, 0, 1, 2]",
        "    expected4 = [0, 0, 0, 0]",
        "    result4 = productExceptSelf(nums4)",
        "    assert result4 == expected4, f\"Test case 4 failed: expected {expected4}, got {result4}\"",
        "    ",
        "    # Test case 5: Array with one zero",
        "    nums5 = [1, 0, 3, 4]",
        "    expected5 = [0, 12, 0, 0]",
        "    result5 = productExceptSelf(nums5)",
        "    assert result5 == expected5, f\"Test case 5 failed: expected {expected5}, got {result5}\"",
        "    ",
        "    print(\"All test cases passed!\")",
        "",
        "# Run the tests",
        "test_product_except_self()",
        ""
      ],
      "execution_count": null,
      "outputs": []
    }
  ],
  "metadata": {
    "kernelspec": {
      "display_name": "Python 3",
      "language": "python",
      "name": "python3"
    },
    "language_info": {
      "codemirror_mode": {
        "name": "ipython",
        "version": 3
      },
      "file_extension": ".py",
      "mimetype": "text/x-python",
      "name": "python",
      "nbconvert_exporter": "python",
      "pygments_lexer": "ipython3",
      "version": "3.11.9"
    }
  },
  "nbformat": 4,
  "nbformat_minor": 5
}