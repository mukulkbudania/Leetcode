{
  "cells": [
    {
      "cell_type": "markdown",
      "metadata": {},
      "source": [
        "# 62. Unique Paths"
      ]
    },
    {
      "cell_type": "markdown",
      "metadata": {},
      "source": [
        "There is a robot on an m x n grid. The robot is initially located at the top-left corner (i.e., grid[0][0]). The robot tries to move to the bottom-right corner (i.e., grid[m - 1][n - 1]). The robot can only move either down or right at any point in time.",
        "",
        "",
        "",
        "Given the two integers m and n, return the number of possible unique paths that the robot can take to reach the bottom-right corner.",
        "",
        "",
        "",
        "The test cases are generated so that the answer will be less than or equal to 2 * 109.",
        "",
        "",
        "",
        " ",
        "",
        "",
        "",
        "**Example 1:**",
        "",
        "",
        "",
        "",
        "",
        "Input: m = 3, n = 7",
        "",
        "Output: 28",
        "",
        "**Example 2:**",
        "",
        "",
        "",
        "Input: m = 3, n = 2",
        "",
        "Output: 3",
        "",
        "Explanation: From the top-left corner, there are a total of 3 ways to reach the bottom-right corner:",
        "",
        "1. Right -> Down -> Down",
        "",
        "2. Down -> Down -> Right",
        "",
        "3. Down -> Right -> Down",
        "",
        " ",
        "",
        "",
        "",
        "**Constraints:**",
        "",
        "",
        "",
        "1 <= m, n <= 100"
      ]
    },
    {
      "cell_type": "markdown",
      "metadata": {},
      "source": [
        "## Solution Explanation\n",
        "This problem is a classic combinatorial problem that can be solved using dynamic programming. ",
        "",
        "The key insight is that to reach any cell (i, j) in the grid, the robot can only come from either the cell above it (i-1, j) or the cell to its left (i, j-1). Therefore, the number of unique paths to reach cell (i, j) is the sum of the number of unique paths to reach cell (i-1, j) and the number of unique paths to reach cell (i, j-1).",
        "",
        "We can use a 2D DP array where dp[i][j] represents the number of unique paths to reach cell (i, j). The base cases are:",
        "* dp[0][0] = 1 (there's only one way to reach the starting cell)",
        "* dp[0][j] = 1 for all j (only one way to reach any cell in the first row - by going right)",
        "* dp[i][0] = 1 for all i (only one way to reach any cell in the first column - by going down)",
        "",
        "For all other cells, we apply the recurrence relation:",
        "dp[i][j] = dp[i-1][j] + dp[i][j-1]",
        "",
        "We can optimize the space complexity by using a 1D array instead of a 2D array, as we only need the previous row's values to calculate the current row's values."
      ]
    },
    {
      "cell_type": "code",
      "metadata": {},
      "source": [
        "def uniquePaths(m: int, n: int) -> int:",
        "    # Initialize a 1D DP array with all 1s",
        "    dp = [1] * n",
        "    ",
        "    # Fill the DP array row by row",
        "    for i in range(1, m):",
        "        for j in range(1, n):",
        "            # The number of ways to reach the current cell is the sum of",
        "            # the number of ways to reach the cell above and the cell to the left",
        "            dp[j] += dp[j-1]",
        "    ",
        "    # Return the number of unique paths to reach the bottom-right corner",
        "    return dp[n-1]",
        ""
      ],
      "execution_count": null,
      "outputs": []
    },
    {
      "cell_type": "markdown",
      "metadata": {},
      "source": [
        "## Time and Space Complexity\n",
        "* *Time Complexity**: O(m * n)",
        "* We need to fill in the DP array, which requires iterating through (m-1) * (n-1) cells (excluding the first row and first column which are initialized to 1).",
        "* Each cell calculation is O(1).",
        "* *Space Complexity**: O(n)",
        "* We only need to store one row of the DP array at a time, which requires O(n) space.",
        "* This is an optimization over the O(m * n) space that would be required if we used a 2D DP array."
      ]
    },
    {
      "cell_type": "markdown",
      "metadata": {},
      "source": [
        "## Test Cases\n"
      ]
    },
    {
      "cell_type": "code",
      "metadata": {},
      "source": [
        "def test_unique_paths():",
        "    # Test case 1: Example 1 from the problem",
        "    assert uniquePaths(3, 7) == 28",
        "    ",
        "    # Test case 2: Example 2 from the problem",
        "    assert uniquePaths(3, 2) == 3",
        "    ",
        "    # Test case 3: Minimum grid size",
        "    assert uniquePaths(1, 1) == 1",
        "    ",
        "    # Test case 4: Single row",
        "    assert uniquePaths(1, 10) == 1",
        "    ",
        "    # Test case 5: Single column",
        "    assert uniquePaths(10, 1) == 1",
        "    ",
        "    # Test case 6: Square grid",
        "    assert uniquePaths(5, 5) == 70",
        "    ",
        "    # Test case 7: Large grid (but within constraints)",
        "    assert uniquePaths(10, 10) == 48620",
        "    ",
        "    print(\"All test cases passed!\")",
        "",
        "# Run the tests",
        "test_unique_paths()",
        ""
      ],
      "execution_count": null,
      "outputs": []
    }
  ],
  "metadata": {
    "kernelspec": {
      "display_name": "Python 3",
      "language": "python",
      "name": "python3"
    },
    "language_info": {
      "codemirror_mode": {
        "name": "ipython",
        "version": 3
      },
      "file_extension": ".py",
      "mimetype": "text/x-python",
      "name": "python",
      "nbconvert_exporter": "python",
      "pygments_lexer": "ipython3",
      "version": "3.11.9"
    }
  },
  "nbformat": 4,
  "nbformat_minor": 5
}