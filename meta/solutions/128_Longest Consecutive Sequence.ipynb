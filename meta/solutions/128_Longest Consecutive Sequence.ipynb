{
  "cells": [
    {
      "cell_type": "markdown",
      "metadata": {},
      "source": [
        "# 128. Longest Consecutive Sequence"
      ]
    },
    {
      "cell_type": "markdown",
      "metadata": {},
      "source": [
        "Given an unsorted array of integers nums, return the length of the longest consecutive elements sequence.",
        "",
        "",
        "",
        "You must write an algorithm that runs in O(n) time.",
        "",
        "",
        "",
        " ",
        "",
        "",
        "",
        "**Example 1:**",
        "",
        "",
        "",
        "Input: nums = [100,4,200,1,3,2]",
        "",
        "Output: 4",
        "",
        "Explanation: The longest consecutive elements sequence is [1, 2, 3, 4]. Therefore its length is 4.",
        "",
        "**Example 2:**",
        "",
        "",
        "",
        "Input: nums = [0,3,7,2,5,8,4,6,0,1]",
        "",
        "Output: 9",
        "",
        "**Example 3:**",
        "",
        "",
        "",
        "Input: nums = [1,0,1,2]",
        "",
        "Output: 3",
        "",
        " ",
        "",
        "",
        "",
        "**Constraints:**",
        "",
        "",
        "",
        "0 <= nums.length <= 105",
        "",
        "-109 <= nums[i] <= 109"
      ]
    },
    {
      "cell_type": "markdown",
      "metadata": {},
      "source": [
        "## Solution Explanation\n",
        "To solve this problem in O(n) time, we need to avoid sorting the array (which would be O(n log n)). Instead, we can use a hash set to achieve O(1) lookups.",
        "",
        "The approach is as follows:",
        "1. First, we convert the input array into a hash set for O(1) lookups.",
        "2. For each number in the array, we check if it's the start of a sequence by verifying that (num-1) is not in the set.",
        "3. If it is a start of a sequence, we count how long the consecutive sequence is by checking if (num+1), (num+2), etc. are in the set.",
        "4. We keep track of the longest sequence found.",
        "",
        "This approach ensures that we only do one pass through the array, and for each number, we at most do O(length of its sequence) operations. Since each number can only be part of one sequence, the total operations remain O(n)."
      ]
    },
    {
      "cell_type": "code",
      "metadata": {},
      "source": [
        "def longestConsecutive(nums):",
        "    if not nums:",
        "        return 0",
        "    ",
        "    # Convert to set for O(1) lookups",
        "    num_set = set(nums)",
        "    max_length = 0",
        "    ",
        "    for num in num_set:",
        "        # Check if this is the start of a sequence",
        "        if num - 1 not in num_set:",
        "            current_num = num",
        "            current_length = 1",
        "            ",
        "            # Count the length of the sequence",
        "            while current_num + 1 in num_set:",
        "                current_num += 1",
        "                current_length += 1",
        "            ",
        "            # Update max length if needed",
        "            max_length = max(max_length, current_length)",
        "    ",
        "    return max_length",
        ""
      ],
      "execution_count": null,
      "outputs": []
    },
    {
      "cell_type": "markdown",
      "metadata": {},
      "source": [
        "## Time and Space Complexity\n",
        "* *Time Complexity**: O(n)",
        "* Converting the array to a set takes O(n) time.",
        "* We iterate through each number in the set once, which is O(n).",
        "* For each number that is the start of a sequence, we check consecutive numbers. Although this looks like a nested loop, each number can only be part of one sequence, so the total number of operations across all sequences is at most O(n).",
        "* Therefore, the overall time complexity is O(n).",
        "* *Space Complexity**: O(n)",
        "* We store all numbers in a hash set, which requires O(n) space.",
        "* Other than that, we only use a constant amount of extra space for variables."
      ]
    },
    {
      "cell_type": "markdown",
      "metadata": {},
      "source": [
        "## Test Cases\n"
      ]
    },
    {
      "cell_type": "code",
      "metadata": {},
      "source": [
        "def test_longest_consecutive():",
        "    # Test case 1: Example from problem statement",
        "    assert longestConsecutive([100, 4, 200, 1, 3, 2]) == 4",
        "    ",
        "    # Test case 2: Another example from problem statement",
        "    assert longestConsecutive([0, 3, 7, 2, 5, 8, 4, 6, 0, 1]) == 9",
        "    ",
        "    # Test case 3: Third example from problem statement",
        "    assert longestConsecutive([1, 0, 1, 2]) == 3",
        "    ",
        "    # Test case 4: Empty array",
        "    assert longestConsecutive([]) == 0",
        "    ",
        "    # Test case 5: Single element",
        "    assert longestConsecutive([5]) == 1",
        "    ",
        "    # Test case 6: Duplicate elements",
        "    assert longestConsecutive([1, 1, 2, 2, 3, 3]) == 3",
        "    ",
        "    # Test case 7: Negative numbers",
        "    assert longestConsecutive([-3, -2, -1, 0, 1]) == 5",
        "    ",
        "    # Test case 8: Non-consecutive numbers",
        "    assert longestConsecutive([5, 10, 15, 20]) == 1",
        "    ",
        "    print(\"All test cases passed!\")",
        "",
        "# Run the tests",
        "test_longest_consecutive()",
        ""
      ],
      "execution_count": null,
      "outputs": []
    }
  ],
  "metadata": {
    "kernelspec": {
      "display_name": "Python 3",
      "language": "python",
      "name": "python3"
    },
    "language_info": {
      "codemirror_mode": {
        "name": "ipython",
        "version": 3
      },
      "file_extension": ".py",
      "mimetype": "text/x-python",
      "name": "python",
      "nbconvert_exporter": "python",
      "pygments_lexer": "ipython3",
      "version": "3.11.9"
    }
  },
  "nbformat": 4,
  "nbformat_minor": 5
}