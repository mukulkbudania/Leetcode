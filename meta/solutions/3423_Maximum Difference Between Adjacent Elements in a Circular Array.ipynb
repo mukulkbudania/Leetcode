{
  "cells": [
    {
      "cell_type": "markdown",
      "metadata": {},
      "source": [
        "# 3423. Maximum Difference Between Adjacent Elements in a Circular Array"
      ]
    },
    {
      "cell_type": "markdown",
      "metadata": {},
      "source": [
        "Given a circular array nums, find the maximum absolute difference between adjacent elements.",
        "",
        "",
        "",
        "Note: In a circular array, the first and last elements are adjacent.",
        "",
        "",
        "",
        " ",
        "",
        "",
        "",
        "**Example 1:**",
        "",
        "",
        "",
        "Input: nums = [1,2,4]",
        "",
        "",
        "",
        "Output: 3",
        "",
        "",
        "",
        "Explanation:",
        "",
        "",
        "",
        "Because nums is circular, nums[0] and nums[2] are adjacent. They have the maximum absolute difference of |4 - 1| = 3.",
        "",
        "",
        "",
        "**Example 2:**",
        "",
        "",
        "",
        "Input: nums = [-5,-10,-5]",
        "",
        "",
        "",
        "Output: 5",
        "",
        "",
        "",
        "Explanation:",
        "",
        "",
        "",
        "The adjacent elements nums[0] and nums[1] have the maximum absolute difference of |-5 - (-10)| = 5.",
        "",
        "",
        "",
        " ",
        "",
        "",
        "",
        "**Constraints:**",
        "",
        "",
        "",
        "2 <= nums.length <= 100",
        "",
        "-100 <= nums[i] <= 100"
      ]
    },
    {
      "cell_type": "markdown",
      "metadata": {},
      "source": [
        "## Solution Explanation\n",
        "To solve this problem, we need to find the maximum absolute difference between any two adjacent elements in a circular array. In a circular array, the first and last elements are considered adjacent.",
        "",
        "The approach is straightforward:",
        "1. For each pair of adjacent elements in the array, calculate the absolute difference.",
        "2. For a circular array, we need to also consider the difference between the first and last elements.",
        "3. Return the maximum difference found.",
        "",
        "The key insight is to remember that in a circular array, we need to check the difference between nums[n-1] and nums[0] in addition to the differences between consecutive elements."
      ]
    },
    {
      "cell_type": "code",
      "metadata": {},
      "source": [
        "def maxCircularDifference(nums):",
        "    n = len(nums)",
        "    if n < 2:",
        "        return 0",
        "    ",
        "    max_diff = 0",
        "    ",
        "    # Check differences between adjacent elements",
        "    for i in range(n - 1):",
        "        diff = abs(nums[i] - nums[i + 1])",
        "        max_diff = max(max_diff, diff)",
        "    ",
        "    # Check difference between first and last element (circular property)",
        "    diff = abs(nums[0] - nums[n - 1])",
        "    max_diff = max(max_diff, diff)",
        "    ",
        "    return max_diff",
        ""
      ],
      "execution_count": null,
      "outputs": []
    },
    {
      "cell_type": "markdown",
      "metadata": {},
      "source": [
        "## Time and Space Complexity\n",
        "* *Time Complexity**: O(n), where n is the length of the input array. We iterate through the array once to calculate the differences between adjacent elements.",
        "* *Space Complexity**: O(1), as we only use a constant amount of extra space regardless of the input size. We just need a few variables to keep track of the maximum difference."
      ]
    },
    {
      "cell_type": "markdown",
      "metadata": {},
      "source": [
        "## Test Cases\n"
      ]
    },
    {
      "cell_type": "code",
      "metadata": {},
      "source": [
        "def test_maxCircularDifference():",
        "    # Test case 1: Example from the problem",
        "    assert maxCircularDifference([1, 2, 4]) == 3",
        "    ",
        "    # Test case 2: Example from the problem",
        "    assert maxCircularDifference([-5, -10, -5]) == 5",
        "    ",
        "    # Test case 3: All elements are the same",
        "    assert maxCircularDifference([5, 5, 5, 5]) == 0",
        "    ",
        "    # Test case 4: Two elements",
        "    assert maxCircularDifference([10, -10]) == 20",
        "    ",
        "    # Test case 5: Alternating positive and negative",
        "    assert maxCircularDifference([5, -5, 5, -5]) == 10",
        "    ",
        "    # Test case 6: Increasing sequence",
        "    assert maxCircularDifference([1, 2, 3, 4, 5]) == 4  # |5-1| = 4",
        "    ",
        "    print(\"All test cases passed!\")",
        "",
        "# Run the tests",
        "test_maxCircularDifference()",
        ""
      ],
      "execution_count": null,
      "outputs": []
    }
  ],
  "metadata": {
    "kernelspec": {
      "display_name": "Python 3",
      "language": "python",
      "name": "python3"
    },
    "language_info": {
      "codemirror_mode": {
        "name": "ipython",
        "version": 3
      },
      "file_extension": ".py",
      "mimetype": "text/x-python",
      "name": "python",
      "nbconvert_exporter": "python",
      "pygments_lexer": "ipython3",
      "version": "3.11.9"
    }
  },
  "nbformat": 4,
  "nbformat_minor": 5
}