{
  "cells": [
    {
      "cell_type": "markdown",
      "metadata": {},
      "source": [
        "# 1094. Car Pooling"
      ]
    },
    {
      "cell_type": "markdown",
      "metadata": {},
      "source": [
        "There is a car with capacity empty seats. The vehicle only drives east (i.e., it cannot turn around and drive west).",
        "",
        "",
        "",
        "You are given the integer capacity and an array trips where trips[i] = [numPassengersi, fromi, toi] indicates that the ith trip has numPassengersi passengers and the locations to pick them up and drop them off are fromi and toi respectively. The locations are given as the number of kilometers due east from the car's initial location.",
        "",
        "",
        "",
        "Return true if it is possible to pick up and drop off all passengers for all the given trips, or false otherwise.",
        "",
        "",
        "",
        " ",
        "",
        "",
        "",
        "**Example 1:**",
        "",
        "",
        "",
        "Input: trips = [[2,1,5],[3,3,7]], capacity = 4",
        "",
        "Output: false",
        "",
        "**Example 2:**",
        "",
        "",
        "",
        "Input: trips = [[2,1,5],[3,3,7]], capacity = 5",
        "",
        "Output: true",
        "",
        " ",
        "",
        "",
        "",
        "**Constraints:**",
        "",
        "",
        "",
        "1 <= trips.length <= 1000",
        "",
        "trips[i].length == 3",
        "",
        "1 <= numPassengersi <= 100",
        "",
        "0 <= fromi < toi <= 1000",
        "",
        "1 <= capacity <= 105"
      ]
    },
    {
      "cell_type": "markdown",
      "metadata": {},
      "source": [
        "## Solution Explanation\n",
        "To solve this problem, we need to track the number of passengers in the car at each point along the route. The key insight is that we don't need to simulate the actual journey - we just need to know if at any point the number of passengers exceeds the capacity.",
        "",
        "We can use a \"line sweep\" approach:",
        "1. For each trip, we'll mark the pickup point with +numPassengers and the dropoff point with -numPassengers",
        "2. Sort all these events by location",
        "3. Scan through the events in order, keeping a running count of passengers",
        "4. If at any point the count exceeds capacity, return false",
        "",
        "This approach works because we only care about the number of passengers at each critical point (pickup or dropoff locations), and the car only moves in one direction (east)."
      ]
    },
    {
      "cell_type": "code",
      "metadata": {},
      "source": [
        "def carPooling(trips, capacity):",
        "    # Create events for pickups and dropoffs",
        "    events = []",
        "    for passengers, start, end in trips:",
        "        events.append((start, passengers))  # Pickup",
        "        events.append((end, -passengers))   # Dropoff",
        "    ",
        "    # Sort events by location",
        "    events.sort()",
        "    ",
        "    # Simulate the journey",
        "    current_passengers = 0",
        "    for location, passenger_change in events:",
        "        current_passengers += passenger_change",
        "        if current_passengers > capacity:",
        "            return False",
        "    ",
        "    return True",
        ""
      ],
      "execution_count": null,
      "outputs": []
    },
    {
      "cell_type": "markdown",
      "metadata": {},
      "source": [
        "## Time and Space Complexity\n",
        "* *Time Complexity**: O(n log n) where n is the number of trips. This is dominated by the sorting operation of the events array, which has 2n elements (one pickup and one dropoff per trip).",
        "* *Space Complexity**: O(n) for storing the events array, which contains 2n elements.",
        "",
        "The solution is efficient because:",
        "1. We only process each trip once to create events",
        "2. We only need to check passenger count at critical points (pickups and dropoffs)",
        "3. Sorting allows us to process events in the correct order without simulating the entire journey"
      ]
    },
    {
      "cell_type": "markdown",
      "metadata": {},
      "source": [
        "## Test Cases\n"
      ]
    },
    {
      "cell_type": "code",
      "metadata": {},
      "source": [
        "def test_car_pooling():",
        "    # Example 1: Should return False (exceeds capacity)",
        "    assert carPooling([[2,1,5],[3,3,7]], 4) == False",
        "    ",
        "    # Example 2: Should return True (exactly meets capacity)",
        "    assert carPooling([[2,1,5],[3,3,7]], 5) == True",
        "    ",
        "    # Edge case: Single trip within capacity",
        "    assert carPooling([[2,1,5]], 2) == True",
        "    ",
        "    # Edge case: Single trip exceeding capacity",
        "    assert carPooling([[2,1,5]], 1) == False",
        "    ",
        "    # Edge case: Multiple pickups at same location",
        "    assert carPooling([[2,1,5],[3,1,7]], 5) == True",
        "    assert carPooling([[2,1,5],[4,1,7]], 5) == False",
        "    ",
        "    # Edge case: Dropoff and pickup at same location",
        "    assert carPooling([[2,1,3],[2,3,5]], 2) == True",
        "    ",
        "    # Edge case: Multiple overlapping trips",
        "    assert carPooling([[2,1,5],[5,2,6],[3,3,7]], 9) == True",
        "    assert carPooling([[2,1,5],[5,2,6],[3,3,7]], 8) == False",
        "    ",
        "    # Edge case: Maximum constraints",
        "    large_trips = [[100,0,1000]] * 1000  # 1000 trips with max passengers and distance",
        "    assert carPooling(large_trips, 100000) == True",
        "    assert carPooling(large_trips, 99999) == False",
        "    ",
        "    print(\"All test cases passed!\")",
        "",
        "test_car_pooling()",
        ""
      ],
      "execution_count": null,
      "outputs": []
    }
  ],
  "metadata": {
    "kernelspec": {
      "display_name": "Python 3",
      "language": "python",
      "name": "python3"
    },
    "language_info": {
      "codemirror_mode": {
        "name": "ipython",
        "version": 3
      },
      "file_extension": ".py",
      "mimetype": "text/x-python",
      "name": "python",
      "nbconvert_exporter": "python",
      "pygments_lexer": "ipython3",
      "version": "3.11.9"
    }
  },
  "nbformat": 4,
  "nbformat_minor": 5
}