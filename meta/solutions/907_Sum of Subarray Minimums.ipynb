{
  "cells": [
    {
      "cell_type": "markdown",
      "metadata": {},
      "source": [
        "# 907. Sum of Subarray Minimums"
      ]
    },
    {
      "cell_type": "markdown",
      "metadata": {},
      "source": [
        "Given an array of integers arr, find the sum of min(b), where b ranges over every (contiguous) subarray of arr. Since the answer may be large, return the answer modulo 109 + 7.",
        "",
        "",
        "",
        " ",
        "",
        "",
        "",
        "**Example 1:**",
        "",
        "",
        "",
        "Input: arr = [3,1,2,4]",
        "",
        "Output: 17",
        "",
        "Explanation: ",
        "",
        "Subarrays are [3], [1], [2], [4], [3,1], [1,2], [2,4], [3,1,2], [1,2,4], [3,1,2,4]. ",
        "",
        "Minimums are 3, 1, 2, 4, 1, 1, 2, 1, 1, 1.",
        "",
        "Sum is 17.",
        "",
        "**Example 2:**",
        "",
        "",
        "",
        "Input: arr = [11,81,94,43,3]",
        "",
        "Output: 444",
        "",
        " ",
        "",
        "",
        "",
        "**Constraints:**",
        "",
        "",
        "",
        "1 <= arr.length <= 3 * 104",
        "",
        "1 <= arr[i] <= 3 * 104"
      ]
    },
    {
      "cell_type": "markdown",
      "metadata": {},
      "source": [
        "## Solution Explanation\n",
        "This problem asks us to find the sum of the minimum value in each subarray of the given array. A naive approach would be to generate all subarrays and find their minimums, but that would be O(n\u00b3) which is too slow.",
        "",
        "A more efficient approach is to calculate the contribution of each element to the final sum. For each element arr[i], we need to determine how many subarrays have arr[i] as their minimum.",
        "",
        "For an element arr[i], we need to find:",
        "1. The left boundary: the nearest element to the left that is smaller than arr[i]",
        "2. The right boundary: the nearest element to the right that is smaller than arr[i]",
        "",
        "Once we have these boundaries, the number of subarrays with arr[i] as their minimum is:",
        "(i - left_boundary) * (right_boundary - i)",
        "",
        "We can use a monotonic stack to efficiently find these boundaries for each element."
      ]
    },
    {
      "cell_type": "code",
      "metadata": {},
      "source": [
        "def sumSubarrayMins(arr):",
        "    MOD = 10**9 + 7",
        "    n = len(arr)",
        "    ",
        "    # Find the previous less element",
        "    left = [-1] * n  # left[i] = j means j is the index of the previous less element for arr[i]",
        "    stack = []",
        "    for i in range(n):",
        "        while stack and arr[stack[-1]] >= arr[i]:",
        "            stack.pop()",
        "        if stack:",
        "            left[i] = stack[-1]",
        "        stack.append(i)",
        "    ",
        "    # Find the next less element",
        "    right = [n] * n  # right[i] = j means j is the index of the next less element for arr[i]",
        "    stack = []",
        "    for i in range(n-1, -1, -1):",
        "        while stack and arr[stack[-1]] > arr[i]:  # Note: use > instead of >= to handle duplicates correctly",
        "            stack.pop()",
        "        if stack:",
        "            right[i] = stack[-1]",
        "        stack.append(i)",
        "    ",
        "    # Calculate the sum",
        "    result = 0",
        "    for i in range(n):",
        "        # Number of subarrays where arr[i] is the minimum",
        "        count = (i - left[i]) * (right[i] - i)",
        "        result = (result + arr[i] * count) % MOD",
        "    ",
        "    return result",
        ""
      ],
      "execution_count": null,
      "outputs": []
    },
    {
      "cell_type": "markdown",
      "metadata": {},
      "source": [
        "## Time and Space Complexity\n",
        "* *Time Complexity**: O(n), where n is the length of the input array. We iterate through the array three times: once to find the left boundaries, once to find the right boundaries, and once to calculate the sum.",
        "* *Space Complexity**: O(n) for storing the left and right arrays, as well as the stack used for finding boundaries."
      ]
    },
    {
      "cell_type": "markdown",
      "metadata": {},
      "source": [
        "## Test Cases\n"
      ]
    },
    {
      "cell_type": "code",
      "metadata": {},
      "source": [
        "def test_sumSubarrayMins():",
        "    # Test case 1: Example 1 from the problem",
        "    assert sumSubarrayMins([3, 1, 2, 4]) == 17",
        "    ",
        "    # Test case 2: Example 2 from the problem",
        "    assert sumSubarrayMins([11, 81, 94, 43, 3]) == 444",
        "    ",
        "    # Test case 3: Array with duplicate elements",
        "    assert sumSubarrayMins([3, 1, 2, 4, 1]) == 20",
        "    ",
        "    # Test case 4: Array with all same elements",
        "    assert sumSubarrayMins([2, 2, 2]) == 12",
        "    ",
        "    # Test case 5: Single element array",
        "    assert sumSubarrayMins([5]) == 5",
        "    ",
        "    # Test case 6: Array with decreasing elements",
        "    assert sumSubarrayMins([5, 4, 3, 2, 1]) == 35",
        "    ",
        "    # Test case 7: Array with increasing elements",
        "    assert sumSubarrayMins([1, 2, 3, 4, 5]) == 35",
        "    ",
        "    print(\"All test cases passed!\")",
        "",
        "# Run the tests",
        "test_sumSubarrayMins()",
        ""
      ],
      "execution_count": null,
      "outputs": []
    }
  ],
  "metadata": {
    "kernelspec": {
      "display_name": "Python 3",
      "language": "python",
      "name": "python3"
    },
    "language_info": {
      "codemirror_mode": {
        "name": "ipython",
        "version": 3
      },
      "file_extension": ".py",
      "mimetype": "text/x-python",
      "name": "python",
      "nbconvert_exporter": "python",
      "pygments_lexer": "ipython3",
      "version": "3.11.9"
    }
  },
  "nbformat": 4,
  "nbformat_minor": 5
}