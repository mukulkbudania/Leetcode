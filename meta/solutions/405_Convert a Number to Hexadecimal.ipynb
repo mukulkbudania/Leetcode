{
  "cells": [
    {
      "cell_type": "markdown",
      "metadata": {},
      "source": [
        "# 405. Convert a Number to Hexadecimal"
      ]
    },
    {
      "cell_type": "markdown",
      "metadata": {},
      "source": [
        "Given a 32-bit integer num, return a string representing its hexadecimal representation. For negative integers, two\u2019s complement method is used.",
        "",
        "",
        "",
        "All the letters in the answer string should be lowercase characters, and there should not be any leading zeros in the answer except for the zero itself.",
        "",
        "",
        "",
        "Note: You are not allowed to use any built-in library method to directly solve this problem.",
        "",
        "",
        "",
        " ",
        "",
        "",
        "",
        "**Example 1:**",
        "",
        "",
        "",
        "Input: num = 26",
        "",
        "Output: \"1a\"",
        "",
        "**Example 2:**",
        "",
        "",
        "",
        "Input: num = -1",
        "",
        "Output: \"ffffffff\"",
        "",
        " ",
        "",
        "",
        "",
        "**Constraints:**",
        "",
        "",
        "",
        "-231 <= num <= 231 - 1"
      ]
    },
    {
      "cell_type": "markdown",
      "metadata": {},
      "source": [
        "## Solution Explanation\n",
        "To convert an integer to its hexadecimal representation, we need to understand how to handle both positive and negative numbers in two's complement representation.",
        "",
        "For positive numbers, the approach is straightforward:",
        "1. Repeatedly divide the number by 16",
        "2. Take the remainder (0-15) and convert it to a hex digit (0-9, a-f)",
        "3. Prepend each digit to our result string",
        "4. Continue until the number becomes 0",
        "",
        "For negative numbers in two's complement:",
        "* In a 32-bit system, negative numbers are represented by taking the two's complement of their absolute value",
        "* Instead of handling this conversion explicitly, we can use a trick: mask the number with 0xFFFFFFFF to get the correct bit pattern, then process it as an unsigned integer",
        "* This works because the two's complement representation of a negative number, when interpreted as unsigned, gives us the correct bit pattern",
        "",
        "The key insight is to handle the number as an unsigned integer and process it 4 bits (one hex digit) at a time."
      ]
    },
    {
      "cell_type": "code",
      "metadata": {},
      "source": [
        "def toHex(num: int) -> str:",
        "    if num == 0:",
        "        return \"0\"",
        "    ",
        "    # Map for hex digits",
        "    hex_chars = \"0123456789abcdef\"",
        "    ",
        "    # Handle negative numbers using two's complement (32-bit)",
        "    if num < 0:",
        "        num = num & 0xFFFFFFFF  # Apply mask to get two's complement representation",
        "    ",
        "    result = \"\"",
        "    ",
        "    # Process the number 4 bits at a time (one hex digit)",
        "    while num > 0:",
        "        result = hex_chars[num % 16] + result",
        "        num //= 16",
        "    ",
        "    return result",
        ""
      ],
      "execution_count": null,
      "outputs": []
    },
    {
      "cell_type": "markdown",
      "metadata": {},
      "source": [
        "## Time and Space Complexity\n",
        "* *Time Complexity**: O(log(num)) or more specifically O(8) for a 32-bit integer. This is because we process the number 4 bits at a time, and a 32-bit integer has at most 8 hexadecimal digits. Each iteration of the while loop takes O(1) time.",
        "* *Space Complexity**: O(1) for the variables and O(log(num)) or O(8) for the output string. Since the output size is bounded by a constant (8 characters for a 32-bit integer), we can consider the space complexity to be O(1)."
      ]
    },
    {
      "cell_type": "markdown",
      "metadata": {},
      "source": [
        "## Test Cases\n"
      ]
    },
    {
      "cell_type": "code",
      "metadata": {},
      "source": [
        "def test_toHex():",
        "    # Test case 1: Positive number",
        "    assert toHex(26) == \"1a\", \"Failed for num = 26\"",
        "    ",
        "    # Test case 2: Negative number",
        "    assert toHex(-1) == \"ffffffff\", \"Failed for num = -1\"",
        "    ",
        "    # Test case 3: Zero",
        "    assert toHex(0) == \"0\", \"Failed for num = 0\"",
        "    ",
        "    # Test case 4: Maximum 32-bit integer",
        "    assert toHex(2147483647) == \"7fffffff\", \"Failed for max int\"",
        "    ",
        "    # Test case 5: Minimum 32-bit integer",
        "    assert toHex(-2147483648) == \"80000000\", \"Failed for min int\"",
        "    ",
        "    # Test case 6: Another negative number",
        "    assert toHex(-16) == \"fffffff0\", \"Failed for num = -16\"",
        "    ",
        "    # Test case 7: Power of 16",
        "    assert toHex(16) == \"10\", \"Failed for num = 16\"",
        "    ",
        "    print(\"All test cases passed!\")",
        "",
        "# Run the tests",
        "test_toHex()",
        ""
      ],
      "execution_count": null,
      "outputs": []
    }
  ],
  "metadata": {
    "kernelspec": {
      "display_name": "Python 3",
      "language": "python",
      "name": "python3"
    },
    "language_info": {
      "codemirror_mode": {
        "name": "ipython",
        "version": 3
      },
      "file_extension": ".py",
      "mimetype": "text/x-python",
      "name": "python",
      "nbconvert_exporter": "python",
      "pygments_lexer": "ipython3",
      "version": "3.11.9"
    }
  },
  "nbformat": 4,
  "nbformat_minor": 5
}