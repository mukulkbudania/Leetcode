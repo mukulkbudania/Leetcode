{
  "cells": [
    {
      "cell_type": "markdown",
      "metadata": {},
      "source": [
        "# 1047. Remove All Adjacent Duplicates In String"
      ]
    },
    {
      "cell_type": "markdown",
      "metadata": {},
      "source": [
        "You are given a string s consisting of lowercase English letters. A duplicate removal consists of choosing two adjacent and equal letters and removing them.",
        "",
        "",
        "",
        "We repeatedly make duplicate removals on s until we no longer can.",
        "",
        "",
        "",
        "Return the final string after all such duplicate removals have been made. It can be proven that the answer is unique.",
        "",
        "",
        "",
        " ",
        "",
        "",
        "",
        "**Example 1:**",
        "",
        "",
        "",
        "Input: s = \"abbaca\"",
        "",
        "Output: \"ca\"",
        "",
        "Explanation: ",
        "",
        "For example, in \"abbaca\" we could remove \"bb\" since the letters are adjacent and equal, and this is the only possible move.  The result of this move is that the string is \"aaca\", of which only \"aa\" is possible, so the final string is \"ca\".",
        "",
        "**Example 2:**",
        "",
        "",
        "",
        "Input: s = \"azxxzy\"",
        "",
        "Output: \"ay\"",
        "",
        " ",
        "",
        "",
        "",
        "**Constraints:**",
        "",
        "",
        "",
        "1 <= s.length <= 105",
        "",
        "s consists of lowercase English letters."
      ]
    },
    {
      "cell_type": "markdown",
      "metadata": {},
      "source": [
        "## Solution Explanation\n",
        "This problem is asking us to repeatedly remove adjacent duplicate characters from a string until no more removals are possible. This is a perfect use case for a stack data structure.",
        "",
        "The algorithm works as follows:",
        "1. Initialize an empty stack.",
        "2. Iterate through each character in the input string.",
        "3. If the stack is empty or the current character is different from the top of the stack, push the current character onto the stack.",
        "4. If the current character is the same as the top of the stack, pop the top element from the stack (removing the duplicate).",
        "5. After processing all characters, the stack will contain the characters of the final string.",
        "6. Convert the stack to a string and return it.",
        "",
        "This approach ensures that we remove all adjacent duplicates in a single pass through the string, and the stack naturally handles the \"cascading\" effect where removing one pair of duplicates can create new adjacent duplicates."
      ]
    },
    {
      "cell_type": "code",
      "metadata": {},
      "source": [
        "def removeDuplicates(s: str) -> str:",
        "    stack = []",
        "    ",
        "    for char in s:",
        "        if stack and stack[-1] == char:",
        "            stack.pop()",
        "        else:",
        "            stack.append(char)",
        "    ",
        "    return ''.join(stack)",
        ""
      ],
      "execution_count": null,
      "outputs": []
    },
    {
      "cell_type": "markdown",
      "metadata": {},
      "source": [
        "## Time and Space Complexity\n",
        "* *Time Complexity**: O(n), where n is the length of the input string. We iterate through each character in the string exactly once, and each stack operation (push/pop) takes O(1) time.",
        "* *Space Complexity**: O(n) in the worst case, where no duplicates are removed and we need to store all characters in the stack. In the best case, if all characters are removed, the space complexity would be O(1)."
      ]
    },
    {
      "cell_type": "markdown",
      "metadata": {},
      "source": [
        "## Test Cases\n"
      ]
    },
    {
      "cell_type": "code",
      "metadata": {},
      "source": [
        "def test_removeDuplicates():",
        "    # Test case 1: Example from the problem",
        "    assert removeDuplicates(\"abbaca\") == \"ca\"",
        "    ",
        "    # Test case 2: Another example from the problem",
        "    assert removeDuplicates(\"azxxzy\") == \"ay\"",
        "    ",
        "    # Test case 3: No duplicates",
        "    assert removeDuplicates(\"abcdef\") == \"abcdef\"",
        "    ",
        "    # Test case 4: All duplicates",
        "    assert removeDuplicates(\"aabbcc\") == \"\"",
        "    ",
        "    # Test case 5: Cascading removals",
        "    assert removeDuplicates(\"abccba\") == \"\"",
        "    ",
        "    # Test case 6: Single character",
        "    assert removeDuplicates(\"a\") == \"a\"",
        "    ",
        "    # Test case 7: Empty string",
        "    assert removeDuplicates(\"\") == \"\"",
        "    ",
        "    # Test case 8: Complex cascading",
        "    assert removeDuplicates(\"abbacddcefggfe\") == \"ae\"",
        "    ",
        "    print(\"All test cases passed!\")",
        "",
        "# Run the tests",
        "test_removeDuplicates()",
        ""
      ],
      "execution_count": null,
      "outputs": []
    }
  ],
  "metadata": {
    "kernelspec": {
      "display_name": "Python 3",
      "language": "python",
      "name": "python3"
    },
    "language_info": {
      "codemirror_mode": {
        "name": "ipython",
        "version": 3
      },
      "file_extension": ".py",
      "mimetype": "text/x-python",
      "name": "python",
      "nbconvert_exporter": "python",
      "pygments_lexer": "ipython3",
      "version": "3.11.9"
    }
  },
  "nbformat": 4,
  "nbformat_minor": 5
}