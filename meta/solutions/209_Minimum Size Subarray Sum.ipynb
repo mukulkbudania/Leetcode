{
  "cells": [
    {
      "cell_type": "markdown",
      "metadata": {},
      "source": [
        "# 209. Minimum Size Subarray Sum"
      ]
    },
    {
      "cell_type": "markdown",
      "metadata": {},
      "source": [
        "Given an array of positive integers nums and a positive integer target, return the minimal length of a subarray whose sum is greater than or equal to target. If there is no such subarray, return 0 instead.",
        "",
        "",
        "",
        " ",
        "",
        "",
        "",
        "**Example 1:**",
        "",
        "",
        "",
        "Input: target = 7, nums = [2,3,1,2,4,3]",
        "",
        "Output: 2",
        "",
        "Explanation: The subarray [4,3] has the minimal length under the problem constraint.",
        "",
        "**Example 2:**",
        "",
        "",
        "",
        "Input: target = 4, nums = [1,4,4]",
        "",
        "Output: 1",
        "",
        "**Example 3:**",
        "",
        "",
        "",
        "Input: target = 11, nums = [1,1,1,1,1,1,1,1]",
        "",
        "Output: 0",
        "",
        " ",
        "",
        "",
        "",
        "**Constraints:**",
        "",
        "",
        "",
        "1 <= target <= 109",
        "",
        "1 <= nums.length <= 105",
        "",
        "1 <= nums[i] <= 104",
        "",
        " ",
        "",
        "",
        "",
        "Follow up: If you have figured out the O(n) solution, try coding another solution of which the time complexity is O(n log(n))."
      ]
    },
    {
      "cell_type": "markdown",
      "metadata": {},
      "source": [
        "## Solution Explanation\n",
        "This problem asks for the minimal length of a subarray whose sum is greater than or equal to a target value. I'll solve it using the sliding window technique, which is an efficient O(n) approach.",
        "",
        "The sliding window technique works by maintaining two pointers (left and right) that define the current window. We expand the window by moving the right pointer forward and contract it by moving the left pointer forward. This allows us to efficiently find all valid subarrays without having to recompute sums from scratch.",
        "",
        "Here's the approach:",
        "1. Initialize two pointers (left and right) at the beginning of the array",
        "2. Initialize a variable to track the current sum and another for the minimum length",
        "3. Expand the window by moving the right pointer and adding elements to the current sum",
        "4. When the current sum becomes greater than or equal to the target:",
        "* Update the minimum length if the current window is smaller",
        "* Contract the window from the left and subtract elements from the sum",
        "5. Continue this process until we've processed the entire array",
        "",
        "This approach ensures we find the minimum length subarray with a sum that meets our criteria in a single pass through the array."
      ]
    },
    {
      "cell_type": "code",
      "metadata": {},
      "source": [
        "def minSubArrayLen(target: int, nums: list[int]) -> int:",
        "    n = len(nums)",
        "    left = 0",
        "    current_sum = 0",
        "    min_length = float('inf')",
        "    ",
        "    for right in range(n):",
        "        # Expand the window",
        "        current_sum += nums[right]",
        "        ",
        "        # Contract the window from the left as long as the sum is >= target",
        "        while current_sum >= target:",
        "            # Update the minimum length",
        "            min_length = min(min_length, right - left + 1)",
        "            ",
        "            # Remove the leftmost element from the window",
        "            current_sum -= nums[left]",
        "            left += 1",
        "    ",
        "    # If min_length is still infinity, no valid subarray was found",
        "    return min_length if min_length != float('inf') else 0",
        ""
      ],
      "execution_count": null,
      "outputs": []
    },
    {
      "cell_type": "markdown",
      "metadata": {},
      "source": [
        "## Time and Space Complexity\n",
        "* *Time Complexity**: O(n)",
        "* Each element in the array is added to the window exactly once (when the right pointer moves over it)",
        "* Each element is removed from the window at most once (when the left pointer moves past it)",
        "* This means each element is processed at most twice, resulting in O(n) time complexity",
        "* *Space Complexity**: O(1)",
        "* We only use a constant amount of extra space regardless of the input size",
        "* We maintain a few variables (left, current_sum, min_length) that don't scale with the input",
        "",
        "The sliding window approach is optimal for this problem as it achieves the required O(n) time complexity mentioned in the follow-up."
      ]
    },
    {
      "cell_type": "markdown",
      "metadata": {},
      "source": [
        "## Test Cases\n"
      ]
    },
    {
      "cell_type": "code",
      "metadata": {},
      "source": [
        "def test_min_subarray_len():",
        "    # Test case 1: Example from the problem",
        "    assert minSubArrayLen(7, [2, 3, 1, 2, 4, 3]) == 2",
        "    ",
        "    # Test case 2: Another example from the problem",
        "    assert minSubArrayLen(4, [1, 4, 4]) == 1",
        "    ",
        "    # Test case 3: No valid subarray",
        "    assert minSubArrayLen(11, [1, 1, 1, 1, 1, 1, 1, 1]) == 0",
        "    ",
        "    # Test case 4: Target equals a single element",
        "    assert minSubArrayLen(5, [5, 1, 2, 3, 4]) == 1",
        "    ",
        "    # Test case 5: Empty array (though problem states nums.length >= 1)",
        "    assert minSubArrayLen(5, []) == 0",
        "    ",
        "    # Test case 6: All elements sum to exactly the target",
        "    assert minSubArrayLen(10, [1, 2, 3, 4]) == 4",
        "    ",
        "    # Test case 7: Large numbers",
        "    assert minSubArrayLen(100, [50, 60]) == 2",
        "    ",
        "    # Test case 8: Single element array",
        "    assert minSubArrayLen(3, [2]) == 0",
        "    ",
        "    print(\"All test cases passed!\")",
        "",
        "# Run the tests",
        "test_min_subarray_len()",
        ""
      ],
      "execution_count": null,
      "outputs": []
    }
  ],
  "metadata": {
    "kernelspec": {
      "display_name": "Python 3",
      "language": "python",
      "name": "python3"
    },
    "language_info": {
      "codemirror_mode": {
        "name": "ipython",
        "version": 3
      },
      "file_extension": ".py",
      "mimetype": "text/x-python",
      "name": "python",
      "nbconvert_exporter": "python",
      "pygments_lexer": "ipython3",
      "version": "3.11.9"
    }
  },
  "nbformat": 4,
  "nbformat_minor": 5
}