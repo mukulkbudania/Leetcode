{
  "cells": [
    {
      "cell_type": "markdown",
      "metadata": {},
      "source": [
        "# 498. Diagonal Traverse"
      ]
    },
    {
      "cell_type": "markdown",
      "metadata": {},
      "source": [
        "Given an m x n matrix mat, return an array of all the elements of the array in a diagonal order.",
        "",
        "",
        "",
        " ",
        "",
        "",
        "",
        "**Example 1:**",
        "",
        "",
        "",
        "",
        "",
        "Input: mat = [[1,2,3],[4,5,6],[7,8,9]]",
        "",
        "Output: [1,2,4,7,5,3,6,8,9]",
        "",
        "**Example 2:**",
        "",
        "",
        "",
        "Input: mat = [[1,2],[3,4]]",
        "",
        "Output: [1,2,3,4]",
        "",
        " ",
        "",
        "",
        "",
        "**Constraints:**",
        "",
        "",
        "",
        "m == mat.length",
        "",
        "n == mat[i].length",
        "",
        "1 <= m, n <= 104",
        "",
        "1 <= m * n <= 104",
        "",
        "-105 <= mat[i][j] <= 105"
      ]
    },
    {
      "cell_type": "markdown",
      "metadata": {},
      "source": [
        "## Solution Explanation\n",
        "To solve this problem, we need to traverse the matrix in a diagonal order, alternating between going up-right and down-left.",
        "",
        "The key insight is that for each diagonal, the sum of row and column indices (i+j) is constant. For example, elements with i+j=0 form the first diagonal, i+j=1 form the second diagonal, and so on.",
        "",
        "The approach is:",
        "1. Group elements by their diagonal (i+j sum)",
        "2. For even-numbered diagonals, we traverse from bottom to top",
        "3. For odd-numbered diagonals, we traverse from top to bottom",
        "",
        "We can use a dictionary to group elements by their diagonal number, then process them in the correct order.",
        "",
        "Alternatively, we can directly determine the traversal pattern:",
        "* When the diagonal number (i+j) is even, we move up-right (decrease row, increase column)",
        "* When the diagonal number is odd, we move down-left (increase row, decrease column)",
        "",
        "We need to handle boundary conditions carefully to ensure we don't go out of bounds."
      ]
    },
    {
      "cell_type": "code",
      "metadata": {},
      "source": [
        "def findDiagonalOrder(mat):",
        "    if not mat or not mat[0]:",
        "        return []",
        "    ",
        "    m, n = len(mat), len(mat[0])",
        "    result = []",
        "    row, col = 0, 0",
        "    direction = 1  # 1 for up-right, -1 for down-left",
        "    ",
        "    for _ in range(m * n):",
        "        result.append(mat[row][col])",
        "        ",
        "        if direction == 1:",
        "            # Moving up-right",
        "            if col == n - 1:  # Reached right boundary",
        "                row += 1",
        "                direction = -1",
        "            elif row == 0:  # Reached top boundary",
        "                col += 1",
        "                direction = -1",
        "            else:",
        "                row -= 1",
        "                col += 1",
        "        else:",
        "            # Moving down-left",
        "            if row == m - 1:  # Reached bottom boundary",
        "                col += 1",
        "                direction = 1",
        "            elif col == 0:  # Reached left boundary",
        "                row += 1",
        "                direction = 1",
        "            else:",
        "                row += 1",
        "                col -= 1",
        "    ",
        "    return result",
        ""
      ],
      "execution_count": null,
      "outputs": []
    },
    {
      "cell_type": "markdown",
      "metadata": {},
      "source": [
        "## Time and Space Complexity\n",
        "* *Time Complexity**: O(m * n), where m is the number of rows and n is the number of columns in the matrix. We visit each element in the matrix exactly once.",
        "* *Space Complexity**: O(m * n) for the result array. If we don't count the output array, the space complexity is O(1) as we only use a constant amount of extra space regardless of input size."
      ]
    },
    {
      "cell_type": "markdown",
      "metadata": {},
      "source": [
        "## Test Cases\n"
      ]
    },
    {
      "cell_type": "code",
      "metadata": {},
      "source": [
        "def test_findDiagonalOrder():",
        "    # Test case 1: Standard 3x3 matrix",
        "    mat1 = [[1, 2, 3], [4, 5, 6], [7, 8, 9]]",
        "    assert findDiagonalOrder(mat1) == [1, 2, 4, 7, 5, 3, 6, 8, 9], \"Test case 1 failed\"",
        "    ",
        "    # Test case 2: 2x2 matrix",
        "    mat2 = [[1, 2], [3, 4]]",
        "    assert findDiagonalOrder(mat2) == [1, 2, 3, 4], \"Test case 2 failed\"",
        "    ",
        "    # Test case 3: 1x1 matrix (edge case)",
        "    mat3 = [[7]]",
        "    assert findDiagonalOrder(mat3) == [7], \"Test case 3 failed\"",
        "    ",
        "    # Test case 4: Single row matrix",
        "    mat4 = [[1, 2, 3, 4]]",
        "    assert findDiagonalOrder(mat4) == [1, 2, 3, 4], \"Test case 4 failed\"",
        "    ",
        "    # Test case 5: Single column matrix",
        "    mat5 = [[1], [2], [3], [4]]",
        "    assert findDiagonalOrder(mat5) == [1, 2, 3, 4], \"Test case 5 failed\"",
        "    ",
        "    # Test case 6: Non-square matrix",
        "    mat6 = [[1, 2, 3], [4, 5, 6]]",
        "    assert findDiagonalOrder(mat6) == [1, 2, 4, 5, 3, 6], \"Test case 6 failed\"",
        "    ",
        "    print(\"All test cases passed!\")",
        "",
        "# Run the tests",
        "test_findDiagonalOrder()",
        ""
      ],
      "execution_count": null,
      "outputs": []
    }
  ],
  "metadata": {
    "kernelspec": {
      "display_name": "Python 3",
      "language": "python",
      "name": "python3"
    },
    "language_info": {
      "codemirror_mode": {
        "name": "ipython",
        "version": 3
      },
      "file_extension": ".py",
      "mimetype": "text/x-python",
      "name": "python",
      "nbconvert_exporter": "python",
      "pygments_lexer": "ipython3",
      "version": "3.11.9"
    }
  },
  "nbformat": 4,
  "nbformat_minor": 5
}