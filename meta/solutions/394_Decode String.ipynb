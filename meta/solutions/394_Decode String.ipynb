{
  "cells": [
    {
      "cell_type": "markdown",
      "metadata": {},
      "source": [
        "# 394. Decode String"
      ]
    },
    {
      "cell_type": "markdown",
      "metadata": {},
      "source": [
        "Given an encoded string, return its decoded string.",
        "",
        "",
        "",
        "The encoding rule is: k[encoded_string], where the encoded_string inside the square brackets is being repeated exactly k times. Note that k is guaranteed to be a positive integer.",
        "",
        "",
        "",
        "You may assume that the input string is always valid; there are no extra white spaces, square brackets are well-formed, etc. Furthermore, you may assume that the original data does not contain any digits and that digits are only for those repeat numbers, k. For example, there will not be input like 3a or 2[4].",
        "",
        "",
        "",
        "The test cases are generated so that the length of the output will never exceed 105.",
        "",
        "",
        "",
        " ",
        "",
        "",
        "",
        "**Example 1:**",
        "",
        "",
        "",
        "Input: s = \"3[a]2[bc]\"",
        "",
        "Output: \"aaabcbc\"",
        "",
        "**Example 2:**",
        "",
        "",
        "",
        "Input: s = \"3[a2[c]]\"",
        "",
        "Output: \"accaccacc\"",
        "",
        "**Example 3:**",
        "",
        "",
        "",
        "Input: s = \"2[abc]3[cd]ef\"",
        "",
        "Output: \"abcabccdcdcdef\"",
        "",
        " ",
        "",
        "",
        "",
        "**Constraints:**",
        "",
        "",
        "",
        "1 <= s.length <= 30",
        "",
        "s consists of lowercase English letters, digits, and square brackets '[]'.",
        "",
        "s is guaranteed to be a valid input.",
        "",
        "All the integers in s are in the range [1, 300]."
      ]
    },
    {
      "cell_type": "markdown",
      "metadata": {},
      "source": [
        "## Solution Explanation\n",
        "This problem involves decoding a string that follows a specific encoding rule: `k[encoded_string]` where `k` is a positive integer and `encoded_string` is repeated `k` times.",
        "",
        "The key insight is that this is a nested structure, which suggests using a stack-based approach. When we encounter an opening bracket `[`, we need to remember the current state (the repeat count and the string built so far) and start building a new string. When we encounter a closing bracket `]`, we need to pop the previous state, repeat the current string the specified number of times, and append it to the previous string.",
        "",
        "Here's the step-by-step approach:",
        "1. Initialize an empty stack and an empty current string.",
        "2. Iterate through each character in the input string:",
        "* If the character is a digit, calculate the repeat count.",
        "* If the character is `[`, push the current repeat count and current string onto the stack, and reset both.",
        "* If the character is `]`, pop the previous string and repeat count from the stack, repeat the current string that many times, and append it to the previous string.",
        "* If the character is a letter, append it to the current string.",
        "3. Return the final string."
      ]
    },
    {
      "cell_type": "code",
      "metadata": {},
      "source": [
        "def decodeString(s: str) -> str:",
        "    stack = []",
        "    current_string = \"\"",
        "    current_number = 0",
        "    ",
        "    for char in s:",
        "        if char.isdigit():",
        "            current_number = current_number * 10 + int(char)",
        "        elif char == '[':",
        "            # Push the current state onto the stack and reset",
        "            stack.append((current_string, current_number))",
        "            current_string = \"\"",
        "            current_number = 0",
        "        elif char == ']':",
        "            # Pop the previous state",
        "            prev_string, repeat_count = stack.pop()",
        "            # Repeat the current string and append to previous string",
        "            current_string = prev_string + current_string * repeat_count",
        "        else:  # char is a letter",
        "            current_string += char",
        "    ",
        "    return current_string",
        ""
      ],
      "execution_count": null,
      "outputs": []
    },
    {
      "cell_type": "markdown",
      "metadata": {},
      "source": [
        "## Time and Space Complexity\n",
        "* *Time Complexity**: O(n), where n is the length of the input string. We iterate through each character of the input string once. The operations inside the loop (pushing to stack, popping from stack, string concatenation) are all O(1) amortized time. The string multiplication operation (`current_string * repeat_count`) might seem expensive, but the total number of characters processed across all operations is still bounded by the output size, which is at most 10^5 according to the problem constraints.",
        "* *Space Complexity**: O(n), where n is the length of the input string. In the worst case, we might need to store most of the string on the stack (e.g., for deeply nested expressions). The space used by the stack and the current string is proportional to the input size."
      ]
    },
    {
      "cell_type": "markdown",
      "metadata": {},
      "source": [
        "## Test Cases\n"
      ]
    },
    {
      "cell_type": "code",
      "metadata": {},
      "source": [
        "def test_decodeString():",
        "    # Test case 1: Basic test with single nesting level",
        "    assert decodeString(\"3[a]2[bc]\") == \"aaabcbc\"",
        "    ",
        "    # Test case 2: Nested brackets",
        "    assert decodeString(\"3[a2[c]]\") == \"accaccacc\"",
        "    ",
        "    # Test case 3: Multiple patterns with suffix",
        "    assert decodeString(\"2[abc]3[cd]ef\") == \"abcabccdcdcdef\"",
        "    ",
        "    # Test case 4: Empty string inside brackets",
        "    assert decodeString(\"2[]\") == \"\"",
        "    ",
        "    # Test case 5: Single character",
        "    assert decodeString(\"a\") == \"a\"",
        "    ",
        "    # Test case 6: No brackets, just a string",
        "    assert decodeString(\"abc\") == \"abc\"",
        "    ",
        "    # Test case 7: Multiple digit number",
        "    assert decodeString(\"10[a]\") == \"aaaaaaaaaa\"",
        "    ",
        "    # Test case 8: Deeply nested structure",
        "    assert decodeString(\"2[3[a]b]\") == \"aaabaaab\"",
        "    ",
        "    print(\"All test cases passed!\")",
        "",
        "# Run the tests",
        "test_decodeString()",
        ""
      ],
      "execution_count": null,
      "outputs": []
    }
  ],
  "metadata": {
    "kernelspec": {
      "display_name": "Python 3",
      "language": "python",
      "name": "python3"
    },
    "language_info": {
      "codemirror_mode": {
        "name": "ipython",
        "version": 3
      },
      "file_extension": ".py",
      "mimetype": "text/x-python",
      "name": "python",
      "nbconvert_exporter": "python",
      "pygments_lexer": "ipython3",
      "version": "3.11.9"
    }
  },
  "nbformat": 4,
  "nbformat_minor": 5
}