{
  "cells": [
    {
      "cell_type": "markdown",
      "metadata": {},
      "source": [
        "# 1060. Missing Element in Sorted Array"
      ]
    },
    {
      "cell_type": "markdown",
      "metadata": {},
      "source": [
        "Given an integer array nums which is sorted in ascending order and all of its elements are unique and given also an integer k, return the kth missing number starting from the leftmost number of the array.",
        "",
        "",
        "",
        " ",
        "",
        "",
        "",
        "**Example 1:**",
        "",
        "",
        "",
        "Input: nums = [4,7,9,10], k = 1",
        "",
        "Output: 5",
        "",
        "Explanation: The first missing number is 5.",
        "",
        "**Example 2:**",
        "",
        "",
        "",
        "Input: nums = [4,7,9,10], k = 3",
        "",
        "Output: 8",
        "",
        "Explanation: The missing numbers are [5,6,8,...], hence the third missing number is 8.",
        "",
        "**Example 3:**",
        "",
        "",
        "",
        "Input: nums = [1,2,4], k = 3",
        "",
        "Output: 6",
        "",
        "Explanation: The missing numbers are [3,5,6,7,...], hence the third missing number is 6.",
        "",
        " ",
        "",
        "",
        "",
        "**Constraints:**",
        "",
        "",
        "",
        "1 <= nums.length <= 5 * 104",
        "",
        "1 <= nums[i] <= 107",
        "",
        "nums is sorted in ascending order, and all the elements are unique.",
        "",
        "1 <= k <= 108",
        "",
        " ",
        "",
        "",
        "",
        "Follow up: Can you find a logarithmic time complexity (i.e., O(log(n))) solution?"
      ]
    },
    {
      "cell_type": "markdown",
      "metadata": {},
      "source": [
        "## Solution Explanation\n",
        "To find the kth missing number in a sorted array, we need to understand how to count missing numbers efficiently.",
        "",
        "The key insight is that for any position `i` in the array, the number of missing integers before `nums[i]` is `nums[i] - (i + 1)`. This is because if no numbers were missing, the array would contain all integers from 1 to `nums[i]`, and the element at index `i` would be `i + 1`.",
        "",
        "For example, in `[4,7,9,10]`:",
        "* At index 0, nums[0] = 4. Missing numbers before 4 = 4 - (0 + 1) = 3 (missing 1, 2, 3)",
        "* At index 1, nums[1] = 7. Missing numbers before 7 = 7 - (1 + 1) = 5 (missing 1, 2, 3, 5, 6)",
        "",
        "We can use binary search to find the position where the kth missing number would be:",
        "1. For each middle position, calculate how many numbers are missing before it",
        "2. If missing count < k, search in the right half",
        "3. If missing count \u2265 k, search in the left half",
        "",
        "Once we find the correct position, we can calculate the kth missing number directly."
      ]
    },
    {
      "cell_type": "code",
      "metadata": {},
      "source": [
        "def findKthPositive(nums, k):",
        "    left, right = 0, len(nums) - 1",
        "    ",
        "    # Binary search to find the position where the kth missing number would be",
        "    while left <= right:",
        "        mid = left + (right - left) // 2",
        "        ",
        "        # Calculate how many numbers are missing before nums[mid]",
        "        missing = nums[mid] - (mid + 1)",
        "        ",
        "        if missing < k:",
        "            left = mid + 1",
        "        else:",
        "            right = mid - 1",
        "    ",
        "    # At this point, 'right' is the index before the position where the kth missing number would be",
        "    # The kth missing number is (right + 1) + k - missing_before_right",
        "    # Simplified: right + 1 + k - (nums[right] - (right + 1)) = k + 2*right + 2 - nums[right]",
        "    # Further simplified: if right = -1 (no elements to the left), the answer is k",
        "    # Otherwise, it's k + right + 1 - (nums[right] - (right + 1)) = k + 2*right + 2 - nums[right]",
        "    ",
        "    if right == -1:",
        "        return k",
        "    ",
        "    missing_before = nums[right] - (right + 1)",
        "    return nums[right] + (k - missing_before)",
        ""
      ],
      "execution_count": null,
      "outputs": []
    },
    {
      "cell_type": "markdown",
      "metadata": {},
      "source": [
        "## Time and Space Complexity\n",
        "* *Time Complexity**: O(log n) where n is the length of the array. We're using binary search which divides the search space in half with each iteration.",
        "* *Space Complexity**: O(1) as we only use a constant amount of extra space regardless of the input size.",
        "",
        "The solution meets the follow-up requirement of achieving logarithmic time complexity."
      ]
    },
    {
      "cell_type": "markdown",
      "metadata": {},
      "source": [
        "## Test Cases\n"
      ]
    },
    {
      "cell_type": "code",
      "metadata": {},
      "source": [
        "def test_findKthPositive():",
        "    # Test case 1: Example 1 from the problem",
        "    assert findKthPositive([4, 7, 9, 10], 1) == 5",
        "    ",
        "    # Test case 2: Example 2 from the problem",
        "    assert findKthPositive([4, 7, 9, 10], 3) == 8",
        "    ",
        "    # Test case 3: Example 3 from the problem",
        "    assert findKthPositive([1, 2, 4], 3) == 6",
        "    ",
        "    # Test case 4: Edge case - k is larger than the number of missing values in the array",
        "    assert findKthPositive([1, 2, 3, 4], 5) == 9",
        "    ",
        "    # Test case 5: Edge case - single element array",
        "    assert findKthPositive([2], 1) == 1",
        "    ",
        "    # Test case 6: Edge case - k is much larger",
        "    assert findKthPositive([1, 3, 5, 7], 10) == 15",
        "    ",
        "    # Test case 7: Edge case - array starts with a large number",
        "    assert findKthPositive([10, 20, 30], 5) == 5",
        "    ",
        "    print(\"All test cases passed!\")",
        "",
        "# Run the tests",
        "test_findKthPositive()",
        ""
      ],
      "execution_count": null,
      "outputs": []
    }
  ],
  "metadata": {
    "kernelspec": {
      "display_name": "Python 3",
      "language": "python",
      "name": "python3"
    },
    "language_info": {
      "codemirror_mode": {
        "name": "ipython",
        "version": 3
      },
      "file_extension": ".py",
      "mimetype": "text/x-python",
      "name": "python",
      "nbconvert_exporter": "python",
      "pygments_lexer": "ipython3",
      "version": "3.11.9"
    }
  },
  "nbformat": 4,
  "nbformat_minor": 5
}