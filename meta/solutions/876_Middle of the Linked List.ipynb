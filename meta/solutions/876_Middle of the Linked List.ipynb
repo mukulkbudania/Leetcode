{
  "cells": [
    {
      "cell_type": "markdown",
      "metadata": {},
      "source": [
        "# 876. Middle of the Linked List"
      ]
    },
    {
      "cell_type": "markdown",
      "metadata": {},
      "source": [
        "Given the head of a singly linked list, return the middle node of the linked list.",
        "",
        "",
        "",
        "If there are two middle nodes, return the second middle node.",
        "",
        "",
        "",
        " ",
        "",
        "",
        "",
        "**Example 1:**",
        "",
        "",
        "",
        "",
        "",
        "Input: head = [1,2,3,4,5]",
        "",
        "Output: [3,4,5]",
        "",
        "Explanation: The middle node of the list is node 3.",
        "",
        "**Example 2:**",
        "",
        "",
        "",
        "",
        "",
        "Input: head = [1,2,3,4,5,6]",
        "",
        "Output: [4,5,6]",
        "",
        "Explanation: Since the list has two middle nodes with values 3 and 4, we return the second one.",
        "",
        " ",
        "",
        "",
        "",
        "**Constraints:**",
        "",
        "",
        "",
        "The number of nodes in the list is in the range [1, 100].",
        "",
        "1 <= Node.val <= 100"
      ]
    },
    {
      "cell_type": "markdown",
      "metadata": {},
      "source": [
        "## Solution Explanation\n",
        "This problem asks us to find the middle node of a linked list. If there are two middle nodes (when the list has an even number of nodes), we should return the second one.",
        "",
        "I'll use the \"two-pointer\" technique, also known as the \"slow and fast pointer\" approach:",
        "1. Initialize two pointers, `slow` and `fast`, both pointing to the head of the list.",
        "2. Move `slow` one step at a time and `fast` two steps at a time.",
        "3. When `fast` reaches the end of the list, `slow` will be at the middle.",
        "",
        "This works because:",
        "* If the list has odd length (e.g., 5 nodes), when `fast` reaches the end, `slow` will be at the 3rd node (middle).",
        "* If the list has even length (e.g., 6 nodes), when `fast` reaches the end, `slow` will be at the 4th node (second middle)."
      ]
    },
    {
      "cell_type": "code",
      "metadata": {},
      "source": [
        "# Definition for singly-linked list.",
        "# class ListNode:",
        "#     def __init__(self, val=0, next=None):",
        "#         self.val = val",
        "#         self.next = next",
        "",
        "class Solution:",
        "    def middleNode(self, head: Optional[ListNode]) -> Optional[ListNode]:",
        "        # Edge case: empty list or single node",
        "        if not head or not head.next:",
        "            return head",
        "        ",
        "        # Initialize slow and fast pointers",
        "        slow = head",
        "        fast = head",
        "        ",
        "        # Move slow one step and fast two steps",
        "        # When fast reaches the end, slow will be at the middle",
        "        while fast and fast.next:",
        "            slow = slow.next",
        "            fast = fast.next.next",
        "        ",
        "        return slow",
        ""
      ],
      "execution_count": null,
      "outputs": []
    },
    {
      "cell_type": "markdown",
      "metadata": {},
      "source": [
        "## Time and Space Complexity\n",
        "* *Time Complexity**: O(n), where n is the number of nodes in the linked list. We traverse the list once with the fast pointer, which moves at twice the speed but still requires a linear scan.",
        "* *Space Complexity**: O(1), as we only use two pointers regardless of the input size. We don't use any extra data structures that scale with input size."
      ]
    },
    {
      "cell_type": "markdown",
      "metadata": {},
      "source": [
        "## Test Cases\n"
      ]
    },
    {
      "cell_type": "code",
      "metadata": {},
      "source": [
        "# Definition for singly-linked list for testing",
        "class ListNode:",
        "    def __init__(self, val=0, next=None):",
        "        self.val = val",
        "        self.next = next",
        "    ",
        "    # Helper to create a string representation of the list",
        "    def __str__(self):",
        "        result = []",
        "        current = self",
        "        while current:",
        "            result.append(str(current.val))",
        "            current = current.next",
        "        return \"[\" + \",\".join(result) + \"]\"",
        "",
        "def test_middle_node():",
        "    solution = Solution()",
        "    ",
        "    # Test case 1: Odd number of nodes [1,2,3,4,5]",
        "    head1 = ListNode(1, ListNode(2, ListNode(3, ListNode(4, ListNode(5)))))",
        "    result1 = solution.middleNode(head1)",
        "    assert str(result1) == \"[3,4,5]\", f\"Expected [3,4,5], got {result1}\"",
        "    ",
        "    # Test case 2: Even number of nodes [1,2,3,4,5,6]",
        "    head2 = ListNode(1, ListNode(2, ListNode(3, ListNode(4, ListNode(5, ListNode(6))))))",
        "    result2 = solution.middleNode(head2)",
        "    assert str(result2) == \"[4,5,6]\", f\"Expected [4,5,6], got {result2}\"",
        "    ",
        "    # Test case 3: Single node [1]",
        "    head3 = ListNode(1)",
        "    result3 = solution.middleNode(head3)",
        "    assert str(result3) == \"[1]\", f\"Expected [1], got {result3}\"",
        "    ",
        "    # Test case 4: Two nodes [1,2]",
        "    head4 = ListNode(1, ListNode(2))",
        "    result4 = solution.middleNode(head4)",
        "    assert str(result4) == \"[2]\", f\"Expected [2], got {result4}\"",
        "    ",
        "    print(\"All test cases passed!\")",
        "",
        "# Run the tests",
        "test_middle_node()",
        ""
      ],
      "execution_count": null,
      "outputs": []
    }
  ],
  "metadata": {
    "kernelspec": {
      "display_name": "Python 3",
      "language": "python",
      "name": "python3"
    },
    "language_info": {
      "codemirror_mode": {
        "name": "ipython",
        "version": 3
      },
      "file_extension": ".py",
      "mimetype": "text/x-python",
      "name": "python",
      "nbconvert_exporter": "python",
      "pygments_lexer": "ipython3",
      "version": "3.11.9"
    }
  },
  "nbformat": 4,
  "nbformat_minor": 5
}