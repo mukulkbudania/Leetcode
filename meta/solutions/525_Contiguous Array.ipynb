{
  "cells": [
    {
      "cell_type": "markdown",
      "metadata": {},
      "source": [
        "# 525. Contiguous Array"
      ]
    },
    {
      "cell_type": "markdown",
      "metadata": {},
      "source": [
        "Given a binary array nums, return the maximum length of a contiguous subarray with an equal number of 0 and 1.",
        "",
        "",
        "",
        " ",
        "",
        "",
        "",
        "**Example 1:**",
        "",
        "",
        "",
        "Input: nums = [0,1]",
        "",
        "Output: 2",
        "",
        "Explanation: [0, 1] is the longest contiguous subarray with an equal number of 0 and 1.",
        "",
        "**Example 2:**",
        "",
        "",
        "",
        "Input: nums = [0,1,0]",
        "",
        "Output: 2",
        "",
        "Explanation: [0, 1] (or [1, 0]) is a longest contiguous subarray with equal number of 0 and 1.",
        "",
        "**Example 3:**",
        "",
        "",
        "",
        "Input: nums = [0,1,1,1,1,1,0,0,0]",
        "",
        "Output: 6",
        "",
        "Explanation: [1,1,1,0,0,0] is the longest contiguous subarray with equal number of 0 and 1.",
        "",
        " ",
        "",
        "",
        "",
        "**Constraints:**",
        "",
        "",
        "",
        "1 <= nums.length <= 105",
        "",
        "nums[i] is either 0 or 1."
      ]
    },
    {
      "cell_type": "markdown",
      "metadata": {},
      "source": [
        "## Solution Explanation\n",
        "This problem asks us to find the longest contiguous subarray with an equal number of 0s and 1s. A key insight is to convert this problem into finding the longest subarray with a sum of 0, by treating 0s as -1 and 1s as 1.",
        "",
        "The approach uses a prefix sum technique with a hash map:",
        "1. Convert each 0 to -1, so that a subarray with equal 0s and 1s will have a sum of 0",
        "2. Track the running sum as we iterate through the array",
        "3. Use a hash map to store the earliest occurrence of each running sum",
        "4. When we encounter a running sum we've seen before, it means the subarray between these positions has a sum of 0 (equal 0s and 1s)",
        "5. Calculate the length of this subarray and update the maximum length if needed",
        "",
        "A special case is when the running sum becomes 0, which means the subarray from the beginning to the current position has equal 0s and 1s."
      ]
    },
    {
      "cell_type": "code",
      "metadata": {},
      "source": [
        "def findMaxLength(nums):",
        "    # Initialize a hash map with 0 sum at index -1",
        "    # This handles the case where a valid subarray starts from index 0",
        "    sum_map = {0: -1}",
        "    max_length = 0",
        "    current_sum = 0",
        "    ",
        "    for i in range(len(nums)):",
        "        # Convert 0 to -1 to make equal number of 0s and 1s have a sum of 0",
        "        current_sum += 1 if nums[i] == 1 else -1",
        "        ",
        "        # If we've seen this sum before, we found a valid subarray",
        "        if current_sum in sum_map:",
        "            max_length = max(max_length, i - sum_map[current_sum])",
        "        else:",
        "            # Store the first occurrence of this sum",
        "            sum_map[current_sum] = i",
        "    ",
        "    return max_length",
        ""
      ],
      "execution_count": null,
      "outputs": []
    },
    {
      "cell_type": "markdown",
      "metadata": {},
      "source": [
        "## Time and Space Complexity\n",
        "* *Time Complexity**: O(n) where n is the length of the input array. We iterate through the array once, and all operations inside the loop (hash map lookups and insertions) are O(1) on average.",
        "* *Space Complexity**: O(n) in the worst case, where we might need to store n different running sums in the hash map. This happens when there are no valid subarrays with equal 0s and 1s, causing each prefix sum to be unique."
      ]
    },
    {
      "cell_type": "markdown",
      "metadata": {},
      "source": [
        "## Test Cases\n"
      ]
    },
    {
      "cell_type": "code",
      "metadata": {},
      "source": [
        "def test_findMaxLength():",
        "    # Test case 1: Basic example",
        "    assert findMaxLength([0, 1]) == 2, \"Test case 1 failed\"",
        "    ",
        "    # Test case 2: Another basic example",
        "    assert findMaxLength([0, 1, 0]) == 2, \"Test case 2 failed\"",
        "    ",
        "    # Test case 3: Longer example",
        "    assert findMaxLength([0, 1, 1, 1, 1, 1, 0, 0, 0]) == 6, \"Test case 3 failed\"",
        "    ",
        "    # Test case 4: All zeros",
        "    assert findMaxLength([0, 0, 0, 0]) == 0, \"Test case 4 failed\"",
        "    ",
        "    # Test case 5: All ones",
        "    assert findMaxLength([1, 1, 1, 1]) == 0, \"Test case 5 failed\"",
        "    ",
        "    # Test case 6: Empty array",
        "    assert findMaxLength([]) == 0, \"Test case 6 failed\"",
        "    ",
        "    # Test case 7: Alternating 0s and 1s",
        "    assert findMaxLength([0, 1, 0, 1, 0, 1]) == 6, \"Test case 7 failed\"",
        "    ",
        "    # Test case 8: Valid subarray at the beginning",
        "    assert findMaxLength([0, 1, 0, 0, 0]) == 2, \"Test case 8 failed\"",
        "    ",
        "    # Test case 9: Valid subarray at the end",
        "    assert findMaxLength([1, 1, 1, 0, 1]) == 2, \"Test case 9 failed\"",
        "    ",
        "    print(\"All test cases passed!\")",
        "",
        "# Run the tests",
        "test_findMaxLength()",
        ""
      ],
      "execution_count": null,
      "outputs": []
    }
  ],
  "metadata": {
    "kernelspec": {
      "display_name": "Python 3",
      "language": "python",
      "name": "python3"
    },
    "language_info": {
      "codemirror_mode": {
        "name": "ipython",
        "version": 3
      },
      "file_extension": ".py",
      "mimetype": "text/x-python",
      "name": "python",
      "nbconvert_exporter": "python",
      "pygments_lexer": "ipython3",
      "version": "3.11.9"
    }
  },
  "nbformat": 4,
  "nbformat_minor": 5
}