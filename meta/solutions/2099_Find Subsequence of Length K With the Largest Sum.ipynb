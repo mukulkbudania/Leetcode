{
  "cells": [
    {
      "cell_type": "markdown",
      "metadata": {},
      "source": [
        "# 2099. Find Subsequence of Length K With the Largest Sum"
      ]
    },
    {
      "cell_type": "markdown",
      "metadata": {},
      "source": [
        "You are given an integer array nums and an integer k. You want to find a subsequence of nums of length k that has the largest sum.",
        "",
        "",
        "",
        "Return any such subsequence as an integer array of length k.",
        "",
        "",
        "",
        "A subsequence is an array that can be derived from another array by deleting some or no elements without changing the order of the remaining elements.",
        "",
        "",
        "",
        " ",
        "",
        "",
        "",
        "**Example 1:**",
        "",
        "",
        "",
        "Input: nums = [2,1,3,3], k = 2",
        "",
        "Output: [3,3]",
        "",
        "Explanation:",
        "",
        "The subsequence has the largest sum of 3 + 3 = 6.",
        "",
        "**Example 2:**",
        "",
        "",
        "",
        "Input: nums = [-1,-2,3,4], k = 3",
        "",
        "Output: [-1,3,4]",
        "",
        "Explanation: ",
        "",
        "The subsequence has the largest sum of -1 + 3 + 4 = 6.",
        "",
        "**Example 3:**",
        "",
        "",
        "",
        "Input: nums = [3,4,3,3], k = 2",
        "",
        "Output: [3,4]",
        "",
        "Explanation:",
        "",
        "The subsequence has the largest sum of 3 + 4 = 7. ",
        "",
        "Another possible subsequence is [4, 3].",
        "",
        " ",
        "",
        "",
        "",
        "**Constraints:**",
        "",
        "",
        "",
        "1 <= nums.length <= 1000",
        "",
        "-105 <= nums[i] <= 105",
        "",
        "1 <= k <= nums.length"
      ]
    },
    {
      "cell_type": "markdown",
      "metadata": {},
      "source": [
        "## Solution Explanation\n",
        "To find a subsequence of length k with the largest sum, we need to select k elements from the array that maximize the sum. Since we're looking for a subsequence (which preserves the original order), we can simply select the k largest elements from the array and then return them in their original order.",
        "",
        "The approach is as follows:",
        "1. Create a list of (value, index) pairs from the input array.",
        "2. Sort this list by value in descending order to get the k largest elements.",
        "3. Sort the k largest elements by their original indices to maintain the subsequence property.",
        "4. Extract and return the values of these k elements.",
        "",
        "This approach works because:",
        "* We need exactly k elements",
        "* We want to maximize the sum",
        "* We need to maintain the original order (subsequence property)"
      ]
    },
    {
      "cell_type": "code",
      "metadata": {},
      "source": [
        "def maxSubsequence(nums, k):",
        "    # Create (value, index) pairs",
        "    indexed_nums = [(num, i) for i, num in enumerate(nums)]",
        "    ",
        "    # Sort by value in descending order and take k largest elements",
        "    largest_k = sorted(indexed_nums, key=lambda x: x[0], reverse=True)[:k]",
        "    ",
        "    # Sort by original index to maintain subsequence property",
        "    result_pairs = sorted(largest_k, key=lambda x: x[1])",
        "    ",
        "    # Extract values",
        "    return [pair[0] for pair in result_pairs]",
        ""
      ],
      "execution_count": null,
      "outputs": []
    },
    {
      "cell_type": "markdown",
      "metadata": {},
      "source": [
        "## Time and Space Complexity\n",
        "* *Time Complexity**: O(n log n)",
        "* Creating the indexed list takes O(n) time",
        "* Sorting the list takes O(n log n) time",
        "* Taking k elements takes O(k) time",
        "* Sorting the k elements takes O(k log k) time",
        "* Extracting the values takes O(k) time",
        "",
        "Since n \u2265 k, the overall time complexity is dominated by O(n log n).",
        "* *Space Complexity**: O(n)",
        "* We create a new list of (value, index) pairs which takes O(n) space",
        "* The result list takes O(k) space",
        "* Since n \u2265 k, the overall space complexity is O(n)"
      ]
    },
    {
      "cell_type": "markdown",
      "metadata": {},
      "source": [
        "## Test Cases\n"
      ]
    },
    {
      "cell_type": "code",
      "metadata": {},
      "source": [
        "def test_max_subsequence():",
        "    # Test case 1: Example from the problem",
        "    assert maxSubsequence([2, 1, 3, 3], 2) == [3, 3]",
        "    ",
        "    # Test case 2: Example from the problem",
        "    assert maxSubsequence([-1, -2, 3, 4], 3) == [-1, 3, 4]",
        "    ",
        "    # Test case 3: Example from the problem",
        "    result = maxSubsequence([3, 4, 3, 3], 2)",
        "    assert result == [3, 4] or result == [4, 3]  # Both are valid",
        "    ",
        "    # Test case 4: k equals the length of the array",
        "    assert sorted(maxSubsequence([1, 2, 3, 4, 5], 5)) == [1, 2, 3, 4, 5]",
        "    ",
        "    # Test case 5: k equals 1",
        "    assert maxSubsequence([5, 2, 1, 3, 4], 1) == [5]",
        "    ",
        "    # Test case 6: Array with negative numbers",
        "    assert maxSubsequence([-5, -4, -3, -2, -1], 3) == [-3, -2, -1]",
        "    ",
        "    # Test case 7: Array with duplicate values",
        "    result = maxSubsequence([5, 5, 5, 5], 2)",
        "    assert result == [5, 5]",
        "    ",
        "    print(\"All test cases passed!\")",
        "",
        "# Run the tests",
        "test_max_subsequence()",
        ""
      ],
      "execution_count": null,
      "outputs": []
    }
  ],
  "metadata": {
    "kernelspec": {
      "display_name": "Python 3",
      "language": "python",
      "name": "python3"
    },
    "language_info": {
      "codemirror_mode": {
        "name": "ipython",
        "version": 3
      },
      "file_extension": ".py",
      "mimetype": "text/x-python",
      "name": "python",
      "nbconvert_exporter": "python",
      "pygments_lexer": "ipython3",
      "version": "3.11.9"
    }
  },
  "nbformat": 4,
  "nbformat_minor": 5
}