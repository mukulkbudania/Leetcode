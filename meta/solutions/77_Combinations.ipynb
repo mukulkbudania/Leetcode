{
  "cells": [
    {
      "cell_type": "markdown",
      "metadata": {},
      "source": [
        "# 77. Combinations"
      ]
    },
    {
      "cell_type": "markdown",
      "metadata": {},
      "source": [
        "Given two integers n and k, return all possible combinations of k numbers chosen from the range [1, n].",
        "",
        "",
        "",
        "You may return the answer in any order.",
        "",
        "",
        "",
        " ",
        "",
        "",
        "",
        "**Example 1:**",
        "",
        "",
        "",
        "Input: n = 4, k = 2",
        "",
        "Output: [[1,2],[1,3],[1,4],[2,3],[2,4],[3,4]]",
        "",
        "Explanation: There are 4 choose 2 = 6 total combinations.",
        "",
        "Note that combinations are unordered, i.e., [1,2] and [2,1] are considered to be the same combination.",
        "",
        "**Example 2:**",
        "",
        "",
        "",
        "Input: n = 1, k = 1",
        "",
        "Output: [[1]]",
        "",
        "Explanation: There is 1 choose 1 = 1 total combination.",
        "",
        " ",
        "",
        "",
        "",
        "**Constraints:**",
        "",
        "",
        "",
        "1 <= n <= 20",
        "",
        "1 <= k <= n"
      ]
    },
    {
      "cell_type": "markdown",
      "metadata": {},
      "source": [
        "## Solution Explanation\n",
        "This problem asks us to find all combinations of k numbers from the range [1, n]. This is a classic combinatorial problem that can be solved using backtracking.",
        "",
        "The key insight is to build combinations incrementally. We'll use a recursive approach where at each step, we decide whether to include the current number in our combination or not. Once we've selected k numbers, we add that combination to our result.",
        "",
        "The backtracking algorithm works as follows:",
        "1. Start with an empty combination.",
        "2. For each number from a starting point up to n:",
        "   a. Add the number to our current combination.",
        "   b. Recursively find all combinations with this number included.",
        "   c. Remove the number (backtrack) to try other possibilities.",
        "3. When our combination has k numbers, add it to the result.",
        "",
        "To avoid duplicates, we ensure that we only consider numbers in ascending order. For example, after considering 1, we only look at numbers greater than 1."
      ]
    },
    {
      "cell_type": "code",
      "metadata": {},
      "source": [
        "def combine(n: int, k: int) -> list[list[int]]:",
        "    result = []",
        "    ",
        "    def backtrack(start, current_combination):",
        "        # If we have selected k numbers, add the combination to our result",
        "        if len(current_combination) == k:",
        "            result.append(current_combination[:])  # Make a copy of the current combination",
        "            return",
        "        ",
        "        # Try each number from start to n",
        "        for i in range(start, n + 1):",
        "            # Include the current number",
        "            current_combination.append(i)",
        "            ",
        "            # Recursively find combinations with this number included",
        "            backtrack(i + 1, current_combination)",
        "            ",
        "            # Backtrack: remove the number to try other possibilities",
        "            current_combination.pop()",
        "    ",
        "    backtrack(1, [])",
        "    return result",
        ""
      ],
      "execution_count": null,
      "outputs": []
    },
    {
      "cell_type": "markdown",
      "metadata": {},
      "source": [
        "## Time and Space Complexity\n",
        "* *Time Complexity**: O(n choose k) = O(n! / (k! * (n-k)!))",
        "* We generate all possible combinations of k numbers from n numbers.",
        "* The total number of such combinations is n choose k, which is n! / (k! * (n-k)!).",
        "* For each combination, we do O(k) work to create a copy of the combination.",
        "* *Space Complexity**: O(k) + O(n choose k)",
        "* O(k) for the recursion stack and to store the current combination.",
        "* O(n choose k) for storing all the combinations in the result.",
        "* The maximum recursion depth is k since we're selecting k numbers."
      ]
    },
    {
      "cell_type": "markdown",
      "metadata": {},
      "source": [
        "## Test Cases\n"
      ]
    },
    {
      "cell_type": "code",
      "metadata": {},
      "source": [
        "def test_combine():",
        "    # Test case 1: Example from the problem",
        "    assert sorted(combine(4, 2)) == sorted([[1, 2], [1, 3], [1, 4], [2, 3], [2, 4], [3, 4]])",
        "    ",
        "    # Test case 2: Another example from the problem",
        "    assert sorted(combine(1, 1)) == sorted([[1]])",
        "    ",
        "    # Test case 3: Edge case - k equals n",
        "    assert sorted(combine(3, 3)) == sorted([[1, 2, 3]])",
        "    ",
        "    # Test case 4: Larger values",
        "    result = combine(5, 3)",
        "    assert len(result) == 10  # 5C3 = 10",
        "    assert [1, 2, 3] in result",
        "    assert [3, 4, 5] in result",
        "    ",
        "    # Test case 5: Edge case - k equals 1",
        "    assert sorted(combine(5, 1)) == sorted([[1], [2], [3], [4], [5]])",
        "    ",
        "    print(\"All test cases passed!\")",
        "",
        "# Run the tests",
        "test_combine()",
        ""
      ],
      "execution_count": null,
      "outputs": []
    }
  ],
  "metadata": {
    "kernelspec": {
      "display_name": "Python 3",
      "language": "python",
      "name": "python3"
    },
    "language_info": {
      "codemirror_mode": {
        "name": "ipython",
        "version": 3
      },
      "file_extension": ".py",
      "mimetype": "text/x-python",
      "name": "python",
      "nbconvert_exporter": "python",
      "pygments_lexer": "ipython3",
      "version": "3.11.9"
    }
  },
  "nbformat": 4,
  "nbformat_minor": 5
}