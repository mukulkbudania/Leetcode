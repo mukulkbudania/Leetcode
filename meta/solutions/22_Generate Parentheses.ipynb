{
  "cells": [
    {
      "cell_type": "markdown",
      "metadata": {},
      "source": [
        "# 22. Generate Parentheses"
      ]
    },
    {
      "cell_type": "markdown",
      "metadata": {},
      "source": [
        "Given n pairs of parentheses, write a function to generate all combinations of well-formed parentheses.",
        "",
        "",
        "",
        " ",
        "",
        "",
        "",
        "**Example 1:**",
        "",
        "",
        "",
        "Input: n = 3",
        "",
        "Output: [\"((()))\",\"(()())\",\"(())()\",\"()(())\",\"()()()\"]",
        "",
        "**Example 2:**",
        "",
        "",
        "",
        "Input: n = 1",
        "",
        "Output: [\"()\"]",
        "",
        " ",
        "",
        "",
        "",
        "**Constraints:**",
        "",
        "",
        "",
        "1 <= n <= 8",
        "",
        ""
      ]
    },
    {
      "cell_type": "markdown",
      "metadata": {},
      "source": [
        "## Solution Explanation\n",
        "This problem asks us to generate all valid combinations of n pairs of parentheses. A valid combination means that every opening parenthesis '(' has a matching closing parenthesis ')' that comes after it.",
        "",
        "I'll solve this using a backtracking approach. The key insights are:",
        "1. We need to place exactly n opening parentheses and n closing parentheses.",
        "2. At any point, we can add an opening parenthesis if we haven't used all n.",
        "3. We can add a closing parenthesis only if there are more opening parentheses than closing ones so far.",
        "",
        "The backtracking algorithm works as follows:",
        "1. Start with an empty string and counters for open and close parentheses (both initially 0).",
        "2. If we've used all n pairs (open = close = n), add the current string to our result.",
        "3. If we can add an opening parenthesis (open < n), recursively try adding one.",
        "4. If we can add a closing parenthesis (close < open), recursively try adding one.",
        "5. Return all valid combinations when the recursion completes."
      ]
    },
    {
      "cell_type": "code",
      "metadata": {},
      "source": [
        "def generateParenthesis(n: int) -> list[str]:",
        "    result = []",
        "    ",
        "    def backtrack(s: str, open_count: int, close_count: int):",
        "        # Base case: if we've used all n pairs of parentheses",
        "        if open_count == n and close_count == n:",
        "            result.append(s)",
        "            return",
        "        ",
        "        # We can add an opening parenthesis if we haven't used all n",
        "        if open_count < n:",
        "            backtrack(s + '(', open_count + 1, close_count)",
        "        ",
        "        # We can add a closing parenthesis if there are more opening than closing ones",
        "        if close_count < open_count:",
        "            backtrack(s + ')', open_count, close_count + 1)",
        "    ",
        "    # Start backtracking with an empty string and no parentheses used",
        "    backtrack('', 0, 0)",
        "    return result",
        ""
      ],
      "execution_count": null,
      "outputs": []
    },
    {
      "cell_type": "markdown",
      "metadata": {},
      "source": [
        "## Time and Space Complexity\n",
        "* *Time Complexity**: O(4^n / \u221an)",
        "* The number of valid parentheses combinations is the nth Catalan number, which is approximately 4^n / (n\u221an).",
        "* For each valid combination, we do O(n) work to build the string.",
        "* Therefore, the overall time complexity is O(4^n / \u221an).",
        "* *Space Complexity**: O(4^n / \u221an)",
        "* We need to store all valid combinations, which is the nth Catalan number.",
        "* The recursion stack depth is at most 2n (for n opening and n closing parentheses).",
        "* The dominant factor is the storage of the result, so the space complexity is O(4^n / \u221an)."
      ]
    },
    {
      "cell_type": "markdown",
      "metadata": {},
      "source": [
        "## Test Cases\n"
      ]
    },
    {
      "cell_type": "code",
      "metadata": {},
      "source": [
        "def test_generate_parenthesis():",
        "    # Test case 1: n = 1",
        "    assert set(generateParenthesis(1)) == {\"()\"}, \"Test case 1 failed\"",
        "    ",
        "    # Test case 2: n = 2",
        "    assert set(generateParenthesis(2)) == {\"(())\", \"()()\"}, \"Test case 2 failed\"",
        "    ",
        "    # Test case 3: n = 3",
        "    expected = {\"((()))\", \"(()())\", \"(())()\", \"()(())\", \"()()()\"}",
        "    assert set(generateParenthesis(3)) == expected, \"Test case 3 failed\"",
        "    ",
        "    # Test case 4: Edge case n = 8 (max constraint)",
        "    # Just checking the length of the result, as the full comparison would be too verbose",
        "    result = generateParenthesis(8)",
        "    assert len(result) == 1430, \"Test case 4 failed: incorrect number of combinations for n=8\"",
        "    ",
        "    print(\"All test cases passed!\")",
        "",
        "# Run the tests",
        "test_generate_parenthesis()",
        ""
      ],
      "execution_count": null,
      "outputs": []
    }
  ],
  "metadata": {
    "kernelspec": {
      "display_name": "Python 3",
      "language": "python",
      "name": "python3"
    },
    "language_info": {
      "codemirror_mode": {
        "name": "ipython",
        "version": 3
      },
      "file_extension": ".py",
      "mimetype": "text/x-python",
      "name": "python",
      "nbconvert_exporter": "python",
      "pygments_lexer": "ipython3",
      "version": "3.11.9"
    }
  },
  "nbformat": 4,
  "nbformat_minor": 5
}