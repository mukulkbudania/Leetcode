{
  "cells": [
    {
      "cell_type": "markdown",
      "metadata": {},
      "source": [
        "# 167. Two Sum II - Input Array Is Sorted"
      ]
    },
    {
      "cell_type": "markdown",
      "metadata": {},
      "source": [
        "Given a 1-indexed array of integers numbers that is already sorted in non-decreasing order, find two numbers such that they add up to a specific target number. Let these two numbers be numbers[index1] and numbers[index2] where 1 <= index1 < index2 <= numbers.length.",
        "",
        "",
        "",
        "Return the indices of the two numbers, index1 and index2, added by one as an integer array [index1, index2] of length 2.",
        "",
        "",
        "",
        "The tests are generated such that there is exactly one solution. You may not use the same element twice.",
        "",
        "",
        "",
        "Your solution must use only constant extra space.",
        "",
        "",
        "",
        " ",
        "",
        "",
        "",
        "**Example 1:**",
        "",
        "",
        "",
        "Input: numbers = [2,7,11,15], target = 9",
        "",
        "Output: [1,2]",
        "",
        "Explanation: The sum of 2 and 7 is 9. Therefore, index1 = 1, index2 = 2. We return [1, 2].",
        "",
        "**Example 2:**",
        "",
        "",
        "",
        "Input: numbers = [2,3,4], target = 6",
        "",
        "Output: [1,3]",
        "",
        "Explanation: The sum of 2 and 4 is 6. Therefore index1 = 1, index2 = 3. We return [1, 3].",
        "",
        "**Example 3:**",
        "",
        "",
        "",
        "Input: numbers = [-1,0], target = -1",
        "",
        "Output: [1,2]",
        "",
        "Explanation: The sum of -1 and 0 is -1. Therefore index1 = 1, index2 = 2. We return [1, 2].",
        "",
        " ",
        "",
        "",
        "",
        "**Constraints:**",
        "",
        "",
        "",
        "2 <= numbers.length <= 3 * 104",
        "",
        "-1000 <= numbers[i] <= 1000",
        "",
        "numbers is sorted in non-decreasing order.",
        "",
        "-1000 <= target <= 1000",
        "",
        "The tests are generated such that there is exactly one solution."
      ]
    },
    {
      "cell_type": "markdown",
      "metadata": {},
      "source": [
        "## Solution Explanation\n",
        "This problem asks us to find two numbers in a sorted array that add up to a specific target. Since the array is already sorted, we can use the two-pointer technique to efficiently solve this problem.",
        "",
        "The approach is as follows:",
        "1. Initialize two pointers: `left` at the beginning of the array and `right` at the end of the array.",
        "2. Calculate the sum of the elements at these two pointers.",
        "3. If the sum equals the target, we've found our answer.",
        "4. If the sum is less than the target, move the `left` pointer to the right to increase the sum.",
        "5. If the sum is greater than the target, move the `right` pointer to the left to decrease the sum.",
        "6. Repeat steps 2-5 until we find the target sum.",
        "",
        "This approach works because the array is sorted. When we move the `left` pointer to the right, the sum increases; when we move the `right` pointer to the left, the sum decreases. This allows us to efficiently navigate through the array to find the target sum."
      ]
    },
    {
      "cell_type": "code",
      "metadata": {},
      "source": [
        "def twoSum(numbers, target):",
        "    \"\"\"",
        "    :type numbers: List[int]",
        "    :type target: int",
        "    :rtype: List[int]",
        "    \"\"\"",
        "    left, right = 0, len(numbers) - 1",
        "    ",
        "    while left < right:",
        "        current_sum = numbers[left] + numbers[right]",
        "        ",
        "        if current_sum == target:",
        "            # Adding 1 to convert from 0-indexed to 1-indexed",
        "            return [left + 1, right + 1]",
        "        elif current_sum < target:",
        "            left += 1",
        "        else:  # current_sum > target",
        "            right -= 1",
        "    ",
        "    # The problem guarantees a solution, so this should never be reached",
        "    return []",
        ""
      ],
      "execution_count": null,
      "outputs": []
    },
    {
      "cell_type": "markdown",
      "metadata": {},
      "source": [
        "## Time and Space Complexity\n",
        "* *Time Complexity**: O(n), where n is the length of the input array. In the worst case, we might need to scan the entire array once.",
        "* *Space Complexity**: O(1), as we only use a constant amount of extra space regardless of the input size. We're just using two pointers and a few variables, which is constant space."
      ]
    },
    {
      "cell_type": "markdown",
      "metadata": {},
      "source": [
        "## Test Cases\n"
      ]
    },
    {
      "cell_type": "code",
      "metadata": {},
      "source": [
        "# Test Case 1: Standard case",
        "assert twoSum([2, 7, 11, 15], 9) == [1, 2], \"Test case 1 failed\"",
        "",
        "# Test Case 2: Target at the end of the array",
        "assert twoSum([2, 3, 4], 6) == [1, 3], \"Test case 2 failed\"",
        "",
        "# Test Case 3: Negative numbers",
        "assert twoSum([-1, 0], -1) == [1, 2], \"Test case 3 failed\"",
        "",
        "# Test Case 4: Larger array with multiple potential pairs",
        "assert twoSum([1, 2, 3, 4, 5, 6, 7, 8, 9], 10) == [1, 9], \"Test case 4 failed\"",
        "",
        "# Test Case 5: Array with duplicates",
        "assert twoSum([1, 3, 3, 4], 6) == [2, 3], \"Test case 5 failed\"",
        "",
        "# Test Case 6: Edge case - smallest possible array",
        "assert twoSum([1, 2], 3) == [1, 2], \"Test case 6 failed\"",
        "",
        "print(\"All test cases passed!\")",
        ""
      ],
      "execution_count": null,
      "outputs": []
    }
  ],
  "metadata": {
    "kernelspec": {
      "display_name": "Python 3",
      "language": "python",
      "name": "python3"
    },
    "language_info": {
      "codemirror_mode": {
        "name": "ipython",
        "version": 3
      },
      "file_extension": ".py",
      "mimetype": "text/x-python",
      "name": "python",
      "nbconvert_exporter": "python",
      "pygments_lexer": "ipython3",
      "version": "3.11.9"
    }
  },
  "nbformat": 4,
  "nbformat_minor": 5
}