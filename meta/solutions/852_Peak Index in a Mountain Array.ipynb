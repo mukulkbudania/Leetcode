{
  "cells": [
    {
      "cell_type": "markdown",
      "metadata": {},
      "source": [
        "# 852. Peak Index in a Mountain Array"
      ]
    },
    {
      "cell_type": "markdown",
      "metadata": {},
      "source": [
        "You are given an integer mountain array arr of length n where the values increase to a peak element and then decrease.",
        "",
        "",
        "",
        "Return the index of the peak element.",
        "",
        "",
        "",
        "Your task is to solve it in O(log(n)) time complexity.",
        "",
        "",
        "",
        " ",
        "",
        "",
        "",
        "**Example 1:**",
        "",
        "",
        "",
        "Input: arr = [0,1,0]",
        "",
        "",
        "",
        "Output: 1",
        "",
        "",
        "",
        "**Example 2:**",
        "",
        "",
        "",
        "Input: arr = [0,2,1,0]",
        "",
        "",
        "",
        "Output: 1",
        "",
        "",
        "",
        "**Example 3:**",
        "",
        "",
        "",
        "Input: arr = [0,10,5,2]",
        "",
        "",
        "",
        "Output: 1",
        "",
        "",
        "",
        " ",
        "",
        "",
        "",
        "**Constraints:**",
        "",
        "",
        "",
        "3 <= arr.length <= 105",
        "",
        "0 <= arr[i] <= 106",
        "",
        "arr is guaranteed to be a mountain array."
      ]
    },
    {
      "cell_type": "markdown",
      "metadata": {},
      "source": [
        "## Solution Explanation\n",
        "This problem asks us to find the peak element in a mountain array, which is an array that increases to a peak and then decreases. We need to solve it in O(log n) time complexity, which suggests using a binary search approach.",
        "",
        "The key insight is that in a mountain array, for any position:",
        "1. If the element is greater than the next element, we are either at the peak or on the descending part of the mountain.",
        "2. If the element is less than the next element, we are on the ascending part of the mountain.",
        "",
        "Using binary search, we can eliminate half of the search space in each iteration:",
        "* If `arr[mid] > arr[mid+1]`, the peak is either at `mid` or to the left of `mid`.",
        "* If `arr[mid] < arr[mid+1]`, the peak is to the right of `mid`.",
        "",
        "We continue this process until we find the peak element, which is the element that is greater than both its neighbors."
      ]
    },
    {
      "cell_type": "code",
      "metadata": {},
      "source": [
        "def peakIndexInMountainArray(arr):",
        "    left, right = 0, len(arr) - 1",
        "    ",
        "    while left < right:",
        "        mid = left + (right - left) // 2",
        "        ",
        "        # If mid is greater than the next element, peak is at mid or to the left",
        "        if arr[mid] > arr[mid + 1]:",
        "            right = mid",
        "        # If mid is less than the next element, peak is to the right",
        "        else:",
        "            left = mid + 1",
        "    ",
        "    # When left == right, we've found the peak",
        "    return left",
        ""
      ],
      "execution_count": null,
      "outputs": []
    },
    {
      "cell_type": "markdown",
      "metadata": {},
      "source": [
        "## Time and Space Complexity\n",
        "* *Time Complexity**: O(log n), where n is the length of the array. This is because we're using binary search, which divides the search space in half in each iteration.",
        "* *Space Complexity**: O(1), as we only use a constant amount of extra space regardless of the input size. We're just using a few variables (left, right, mid) to keep track of indices."
      ]
    },
    {
      "cell_type": "markdown",
      "metadata": {},
      "source": [
        "## Test Cases\n"
      ]
    },
    {
      "cell_type": "code",
      "metadata": {},
      "source": [
        "def test_peakIndexInMountainArray():",
        "    # Test case 1: Simple mountain with peak in the middle",
        "    assert peakIndexInMountainArray([0, 1, 0]) == 1",
        "    ",
        "    # Test case 2: Mountain with peak at index 1",
        "    assert peakIndexInMountainArray([0, 2, 1, 0]) == 1",
        "    ",
        "    # Test case 3: Mountain with peak at index 1 and different values",
        "    assert peakIndexInMountainArray([0, 10, 5, 2]) == 1",
        "    ",
        "    # Test case 4: Larger mountain with peak in the middle",
        "    assert peakIndexInMountainArray([0, 1, 2, 3, 4, 3, 2, 1, 0]) == 4",
        "    ",
        "    # Test case 5: Mountain with peak at the second-to-last position",
        "    assert peakIndexInMountainArray([1, 2, 3, 4, 5, 6, 5]) == 5",
        "    ",
        "    # Test case 6: Minimum length mountain (3 elements)",
        "    assert peakIndexInMountainArray([3, 5, 3]) == 1",
        "    ",
        "    print(\"All test cases passed!\")",
        "",
        "# Run the tests",
        "test_peakIndexInMountainArray()",
        ""
      ],
      "execution_count": null,
      "outputs": []
    }
  ],
  "metadata": {
    "kernelspec": {
      "display_name": "Python 3",
      "language": "python",
      "name": "python3"
    },
    "language_info": {
      "codemirror_mode": {
        "name": "ipython",
        "version": 3
      },
      "file_extension": ".py",
      "mimetype": "text/x-python",
      "name": "python",
      "nbconvert_exporter": "python",
      "pygments_lexer": "ipython3",
      "version": "3.11.9"
    }
  },
  "nbformat": 4,
  "nbformat_minor": 5
}