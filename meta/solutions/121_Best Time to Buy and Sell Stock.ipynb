{
  "cells": [
    {
      "cell_type": "markdown",
      "metadata": {},
      "source": [
        "# 121. Best Time to Buy and Sell Stock"
      ]
    },
    {
      "cell_type": "markdown",
      "metadata": {},
      "source": [
        "You are given an array prices where prices[i] is the price of a given stock on the ith day.",
        "",
        "",
        "",
        "You want to maximize your profit by choosing a single day to buy one stock and choosing a different day in the future to sell that stock.",
        "",
        "",
        "",
        "Return the maximum profit you can achieve from this transaction. If you cannot achieve any profit, return 0.",
        "",
        "",
        "",
        " ",
        "",
        "",
        "",
        "**Example 1:**",
        "",
        "",
        "",
        "Input: prices = [7,1,5,3,6,4]",
        "",
        "Output: 5",
        "",
        "Explanation: Buy on day 2 (price = 1) and sell on day 5 (price = 6), profit = 6-1 = 5.",
        "",
        "Note that buying on day 2 and selling on day 1 is not allowed because you must buy before you sell.",
        "",
        "**Example 2:**",
        "",
        "",
        "",
        "Input: prices = [7,6,4,3,1]",
        "",
        "Output: 0",
        "",
        "Explanation: In this case, no transactions are done and the max profit = 0.",
        "",
        " ",
        "",
        "",
        "",
        "**Constraints:**",
        "",
        "",
        "",
        "1 <= prices.length <= 105",
        "",
        "0 <= prices[i] <= 104"
      ]
    },
    {
      "cell_type": "markdown",
      "metadata": {},
      "source": [
        "## Solution Explanation\n",
        "This problem asks us to find the maximum profit we can make by buying and selling a stock once. We need to buy before we sell, and we want to maximize the profit.",
        "",
        "The key insight is that to maximize profit, we want to buy at the lowest price and sell at the highest price after that lowest price. We can solve this with a single pass through the array:",
        "",
        "1. Keep track of the minimum price seen so far",
        "2. For each price, calculate the potential profit if we sell at that price (current price - minimum price seen so far)",
        "3. Update the maximum profit if this potential profit is greater",
        "",
        "This approach works because for each price, we're effectively asking: \"If I sell at this price, what's the best profit I can make?\" And to answer that, we need to know the minimum price we've seen before the current day."
      ]
    },
    {
      "cell_type": "code",
      "metadata": {},
      "source": [
        "def maxProfit(prices):",
        "    \"\"\"",
        "    :type prices: List[int]",
        "    :rtype: int",
        "    \"\"\"",
        "    if not prices or len(prices) < 2:",
        "        return 0",
        "    ",
        "    min_price = prices[0]",
        "    max_profit = 0",
        "    ",
        "    for price in prices[1:]:",
        "        # Update max profit if selling at current price gives better profit",
        "        max_profit = max(max_profit, price - min_price)",
        "        ",
        "        # Update min price if current price is lower",
        "        min_price = min(min_price, price)",
        "    ",
        "    return max_profit",
        ""
      ],
      "execution_count": null,
      "outputs": []
    },
    {
      "cell_type": "markdown",
      "metadata": {},
      "source": [
        "## Time and Space Complexity\n",
        "* *Time Complexity**: O(n) where n is the length of the prices array. We make a single pass through the array, performing constant-time operations for each element.",
        "* *Space Complexity**: O(1) as we only use a fixed amount of extra space regardless of the input size. We just maintain two variables: `min_price` and `max_profit`."
      ]
    },
    {
      "cell_type": "markdown",
      "metadata": {},
      "source": [
        "## Test Cases\n"
      ]
    },
    {
      "cell_type": "code",
      "metadata": {},
      "source": [
        "def test_maxProfit():",
        "    # Test case 1: Normal case with profit",
        "    assert maxProfit([7, 1, 5, 3, 6, 4]) == 5",
        "    ",
        "    # Test case 2: Decreasing prices, no profit",
        "    assert maxProfit([7, 6, 4, 3, 1]) == 0",
        "    ",
        "    # Test case 3: Empty array",
        "    assert maxProfit([]) == 0",
        "    ",
        "    # Test case 4: Single element",
        "    assert maxProfit([5]) == 0",
        "    ",
        "    # Test case 5: Two elements with profit",
        "    assert maxProfit([1, 2]) == 1",
        "    ",
        "    # Test case 6: Two elements with no profit",
        "    assert maxProfit([2, 1]) == 0",
        "    ",
        "    # Test case 7: Prices with same values",
        "    assert maxProfit([1, 1, 1, 1]) == 0",
        "    ",
        "    # Test case 8: Large profit case",
        "    assert maxProfit([3, 2, 6, 5, 0, 3]) == 4",
        "    ",
        "    print(\"All test cases passed!\")",
        "",
        "# Run the tests",
        "test_maxProfit()",
        ""
      ],
      "execution_count": null,
      "outputs": []
    }
  ],
  "metadata": {
    "kernelspec": {
      "display_name": "Python 3",
      "language": "python",
      "name": "python3"
    },
    "language_info": {
      "codemirror_mode": {
        "name": "ipython",
        "version": 3
      },
      "file_extension": ".py",
      "mimetype": "text/x-python",
      "name": "python",
      "nbconvert_exporter": "python",
      "pygments_lexer": "ipython3",
      "version": "3.11.9"
    }
  },
  "nbformat": 4,
  "nbformat_minor": 5
}