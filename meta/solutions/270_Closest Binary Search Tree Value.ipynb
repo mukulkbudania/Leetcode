{
  "cells": [
    {
      "cell_type": "markdown",
      "metadata": {},
      "source": [
        "# 270. Closest Binary Search Tree Value"
      ]
    },
    {
      "cell_type": "markdown",
      "metadata": {},
      "source": [
        "Given the root of a binary search tree and a target value, return the value in the BST that is closest to the target. If there are multiple answers, print the smallest.",
        "",
        "",
        "",
        " ",
        "",
        "",
        "",
        "**Example 1:**",
        "",
        "",
        "",
        "",
        "",
        "Input: root = [4,2,5,1,3], target = 3.714286",
        "",
        "Output: 4",
        "",
        "**Example 2:**",
        "",
        "",
        "",
        "Input: root = [1], target = 4.428571",
        "",
        "Output: 1",
        "",
        " ",
        "",
        "",
        "",
        "**Constraints:**",
        "",
        "",
        "",
        "The number of nodes in the tree is in the range [1, 104].",
        "",
        "0 <= Node.val <= 109",
        "",
        "-109 <= target <= 109"
      ]
    },
    {
      "cell_type": "markdown",
      "metadata": {},
      "source": [
        "## Solution Explanation\n",
        "To find the value in a BST that is closest to the target, we need to traverse the tree and keep track of the closest value we've seen so far. Since this is a BST, we can use its properties to efficiently search:",
        "",
        "1. Start at the root and initialize a variable to track the closest value.",
        "2. As we traverse the tree:",
        "* If the current node's value equals the target, we can immediately return it.",
        "* Compare the absolute difference between the current node's value and the target with the absolute difference between our current closest value and the target.",
        "* If the current node's value is closer to the target, update our closest value.",
        "* If the differences are equal, take the smaller value as specified in the problem.",
        "3. Use BST properties to decide which subtree to explore next:",
        "* If target < current node's value, go to the left subtree.",
        "* If target > current node's value, go to the right subtree.",
        "",
        "This approach ensures we find the closest value while only traversing a single path from root to leaf, which is efficient for a BST."
      ]
    },
    {
      "cell_type": "code",
      "metadata": {},
      "source": [
        "# Definition for a binary tree node.",
        "class TreeNode:",
        "    def __init__(self, val=0, left=None, right=None):",
        "        self.val = val",
        "        self.left = left",
        "        self.right = right",
        "",
        "class Solution:",
        "    def closestValue(self, root: TreeNode, target: float) -> int:",
        "        closest = root.val",
        "        ",
        "        while root:",
        "            # Update closest if current node is closer to target",
        "            if abs(root.val - target) < abs(closest - target):",
        "                closest = root.val",
        "            # If differences are equal, take the smaller value",
        "            elif abs(root.val - target) == abs(closest - target):",
        "                closest = min(closest, root.val)",
        "            ",
        "            # Navigate to the next node based on BST property",
        "            if target < root.val:",
        "                root = root.left",
        "            else:",
        "                root = root.right",
        "                ",
        "        return closest",
        ""
      ],
      "execution_count": null,
      "outputs": []
    },
    {
      "cell_type": "markdown",
      "metadata": {},
      "source": [
        "## Time and Space Complexity\n",
        "* *Time Complexity**: O(h), where h is the height of the BST. In the worst case (a skewed tree), this becomes O(n) where n is the number of nodes. In a balanced BST, the height is log(n), so the time complexity would be O(log n).",
        "* *Space Complexity**: O(1), as we only use a constant amount of extra space regardless of the input size. We're using an iterative approach rather than recursion, so we don't have the overhead of the call stack."
      ]
    },
    {
      "cell_type": "markdown",
      "metadata": {},
      "source": [
        "## Test Cases\n"
      ]
    },
    {
      "cell_type": "code",
      "metadata": {},
      "source": [
        "def test_closest_value():",
        "    # Helper function to create a tree from a list representation",
        "    def create_tree(values, index=0):",
        "        if index >= len(values) or values[index] is None:",
        "            return None",
        "        root = TreeNode(values[index])",
        "        root.left = create_tree(values, 2 * index + 1)",
        "        root.right = create_tree(values, 2 * index + 2)",
        "        return root",
        "    ",
        "    solution = Solution()",
        "    ",
        "    # Test case 1: Example from the problem",
        "    root1 = create_tree([4, 2, 5, 1, 3])",
        "    assert solution.closestValue(root1, 3.714286) == 4",
        "    ",
        "    # Test case 2: Single node tree",
        "    root2 = TreeNode(1)",
        "    assert solution.closestValue(root2, 4.428571) == 1",
        "    ",
        "    # Test case 3: Target exactly matches a node value",
        "    root3 = create_tree([4, 2, 5, 1, 3])",
        "    assert solution.closestValue(root3, 3.0) == 3",
        "    ",
        "    # Test case 4: Two nodes with equal distance to target, should return smaller",
        "    root4 = create_tree([3, 1, 5])",
        "    assert solution.closestValue(root4, 4.0) == 3  # Both 3 and 5 are 1 away, but 3 is smaller",
        "    ",
        "    # Test case 5: Target is smaller than all nodes",
        "    root5 = create_tree([10, 5, 15, 3, 7, 13, 18])",
        "    assert solution.closestValue(root5, 0) == 3",
        "    ",
        "    # Test case 6: Target is larger than all nodes",
        "    root6 = create_tree([10, 5, 15, 3, 7, 13, 18])",
        "    assert solution.closestValue(root6, 20) == 18",
        "    ",
        "    print(\"All test cases passed!\")",
        "",
        "test_closest_value()",
        ""
      ],
      "execution_count": null,
      "outputs": []
    }
  ],
  "metadata": {
    "kernelspec": {
      "display_name": "Python 3",
      "language": "python",
      "name": "python3"
    },
    "language_info": {
      "codemirror_mode": {
        "name": "ipython",
        "version": 3
      },
      "file_extension": ".py",
      "mimetype": "text/x-python",
      "name": "python",
      "nbconvert_exporter": "python",
      "pygments_lexer": "ipython3",
      "version": "3.11.9"
    }
  },
  "nbformat": 4,
  "nbformat_minor": 5
}