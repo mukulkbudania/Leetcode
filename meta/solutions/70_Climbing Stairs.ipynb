{
  "cells": [
    {
      "cell_type": "markdown",
      "metadata": {},
      "source": [
        "# 70. Climbing Stairs"
      ]
    },
    {
      "cell_type": "markdown",
      "metadata": {},
      "source": [
        "You are climbing a staircase. It takes n steps to reach the top.",
        "",
        "",
        "",
        "Each time you can either climb 1 or 2 steps. In how many distinct ways can you climb to the top?",
        "",
        "",
        "",
        " ",
        "",
        "",
        "",
        "**Example 1:**",
        "",
        "",
        "",
        "Input: n = 2",
        "",
        "Output: 2",
        "",
        "Explanation: There are two ways to climb to the top.",
        "",
        "1. 1 step + 1 step",
        "",
        "2. 2 steps",
        "",
        "**Example 2:**",
        "",
        "",
        "",
        "Input: n = 3",
        "",
        "Output: 3",
        "",
        "Explanation: There are three ways to climb to the top.",
        "",
        "1. 1 step + 1 step + 1 step",
        "",
        "2. 1 step + 2 steps",
        "",
        "3. 2 steps + 1 step",
        "",
        " ",
        "",
        "",
        "",
        "**Constraints:**",
        "",
        "",
        "",
        "1 <= n <= 45"
      ]
    },
    {
      "cell_type": "markdown",
      "metadata": {},
      "source": [
        "## Solution Explanation\n",
        "This problem is a classic example of a dynamic programming problem. The key insight is to recognize that to reach step n, we can either:",
        "1. Take a single step from step n-1",
        "2. Take a double step from step n-2",
        "",
        "Therefore, the number of ways to reach step n is the sum of the number of ways to reach step n-1 and the number of ways to reach step n-2. This forms a recurrence relation similar to the Fibonacci sequence:",
        "",
        "dp[n] = dp[n-1] + dp[n-2]",
        "",
        "Base cases:",
        "* dp[1] = 1 (only one way to climb 1 step)",
        "* dp[2] = 2 (two ways to climb 2 steps: 1+1 or 2)",
        "",
        "We can solve this using:",
        "1. A bottom-up dynamic programming approach with an array",
        "2. A more space-efficient approach with just two variables",
        "3. A recursive approach with memoization",
        "",
        "I'll implement the space-efficient iterative solution since it's the most optimal."
      ]
    },
    {
      "cell_type": "code",
      "metadata": {},
      "source": [
        "def climbStairs(n: int) -> int:",
        "    # Base cases",
        "    if n <= 0:",
        "        return 0",
        "    if n == 1:",
        "        return 1",
        "    if n == 2:",
        "        return 2",
        "    ",
        "    # Initialize first two steps",
        "    one_step_before = 2  # ways to reach step 2",
        "    two_steps_before = 1  # ways to reach step 1",
        "    ",
        "    # Calculate ways for remaining steps",
        "    for i in range(3, n + 1):",
        "        current = one_step_before + two_steps_before",
        "        two_steps_before = one_step_before",
        "        one_step_before = current",
        "    ",
        "    return one_step_before",
        ""
      ],
      "execution_count": null,
      "outputs": []
    },
    {
      "cell_type": "markdown",
      "metadata": {},
      "source": [
        "## Time and Space Complexity\n",
        "* *Time Complexity**: O(n)",
        "* We iterate from 3 to n, performing constant-time operations in each iteration.",
        "* *Space Complexity**: O(1)",
        "* We only use two variables to keep track of the previous two steps, regardless of the input size.",
        "* This is more efficient than the O(n) space that would be required if we used an array to store all intermediate results."
      ]
    },
    {
      "cell_type": "markdown",
      "metadata": {},
      "source": [
        "## Test Cases\n"
      ]
    },
    {
      "cell_type": "code",
      "metadata": {},
      "source": [
        "def test_climb_stairs():",
        "    # Test case 1: Example 1",
        "    assert climbStairs(2) == 2, \"Failed for n=2\"",
        "    ",
        "    # Test case 2: Example 2",
        "    assert climbStairs(3) == 3, \"Failed for n=3\"",
        "    ",
        "    # Test case 3: Edge case - minimum value",
        "    assert climbStairs(1) == 1, \"Failed for n=1\"",
        "    ",
        "    # Test case 4: Medium size input",
        "    assert climbStairs(5) == 8, \"Failed for n=5\"",
        "    ",
        "    # Test case 5: Larger input",
        "    assert climbStairs(10) == 89, \"Failed for n=10\"",
        "    ",
        "    # Test case 6: Even larger input (verifying against known Fibonacci values)",
        "    assert climbStairs(20) == 10946, \"Failed for n=20\"",
        "    ",
        "    print(\"All test cases passed!\")",
        "",
        "# Run the tests",
        "test_climb_stairs()",
        ""
      ],
      "execution_count": null,
      "outputs": []
    }
  ],
  "metadata": {
    "kernelspec": {
      "display_name": "Python 3",
      "language": "python",
      "name": "python3"
    },
    "language_info": {
      "codemirror_mode": {
        "name": "ipython",
        "version": 3
      },
      "file_extension": ".py",
      "mimetype": "text/x-python",
      "name": "python",
      "nbconvert_exporter": "python",
      "pygments_lexer": "ipython3",
      "version": "3.11.9"
    }
  },
  "nbformat": 4,
  "nbformat_minor": 5
}