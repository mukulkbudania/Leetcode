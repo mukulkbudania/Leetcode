{
  "cells": [
    {
      "cell_type": "markdown",
      "metadata": {},
      "source": [
        "# 766. Toeplitz Matrix"
      ]
    },
    {
      "cell_type": "markdown",
      "metadata": {},
      "source": [
        "Given an m x n matrix, return true if the matrix is Toeplitz. Otherwise, return false.",
        "",
        "",
        "",
        "A matrix is Toeplitz if every diagonal from top-left to bottom-right has the same elements.",
        "",
        "",
        "",
        " ",
        "",
        "",
        "",
        "**Example 1:**",
        "",
        "",
        "",
        "",
        "",
        "Input: matrix = [[1,2,3,4],[5,1,2,3],[9,5,1,2]]",
        "",
        "Output: true",
        "",
        "Explanation:",
        "",
        "In the above grid, the diagonals are:",
        "",
        "\"[9]\", \"[5, 5]\", \"[1, 1, 1]\", \"[2, 2, 2]\", \"[3, 3]\", \"[4]\".",
        "",
        "In each diagonal all elements are the same, so the answer is True.",
        "",
        "**Example 2:**",
        "",
        "",
        "",
        "",
        "",
        "Input: matrix = [[1,2],[2,2]]",
        "",
        "Output: false",
        "",
        "Explanation:",
        "",
        "The diagonal \"[1, 2]\" has different elements.",
        "",
        " ",
        "",
        "",
        "",
        "**Constraints:**",
        "",
        "",
        "",
        "m == matrix.length",
        "",
        "n == matrix[i].length",
        "",
        "1 <= m, n <= 20",
        "",
        "0 <= matrix[i][j] <= 99",
        "",
        " ",
        "",
        "",
        "",
        "Follow up:",
        "",
        "",
        "",
        "What if the matrix is stored on disk, and the memory is limited such that you can only load at most one row of the matrix into the memory at once?",
        "",
        "What if the matrix is so large that you can only load up a partial row into the memory at once?"
      ]
    },
    {
      "cell_type": "markdown",
      "metadata": {},
      "source": [
        "## Solution Explanation\n",
        "A Toeplitz matrix has the property that each diagonal from top-left to bottom-right contains the same element. This means that for any position (i, j) in the matrix, the element at that position should be equal to the element at position (i-1, j-1), if both positions are valid.",
        "",
        "To solve this problem, we can iterate through the matrix and check if each element (except those in the first row or first column) is equal to the element diagonally above it to the left. If we find any element that doesn't satisfy this condition, we return false. Otherwise, we return true.",
        "",
        "The key insight is that we only need to compare each element with its diagonal neighbor, rather than checking entire diagonals."
      ]
    },
    {
      "cell_type": "code",
      "metadata": {},
      "source": [
        "def isToeplitzMatrix(matrix):",
        "    \"\"\"",
        "    :type matrix: List[List[int]]",
        "    :rtype: bool",
        "    \"\"\"",
        "    m = len(matrix)",
        "    n = len(matrix[0])",
        "    ",
        "    # Check each element (except first row and first column)",
        "    for i in range(1, m):",
        "        for j in range(1, n):",
        "            # Compare with the element diagonally above",
        "            if matrix[i][j] != matrix[i-1][j-1]:",
        "                return False",
        "    ",
        "    return True",
        ""
      ],
      "execution_count": null,
      "outputs": []
    },
    {
      "cell_type": "markdown",
      "metadata": {},
      "source": [
        "## Time and Space Complexity\n",
        "* *Time Complexity**: O(m * n), where m is the number of rows and n is the number of columns in the matrix. We need to check each element in the matrix (except those in the first row and first column), which gives us approximately (m-1) * (n-1) comparisons.",
        "* *Space Complexity**: O(1), as we only use a constant amount of extra space regardless of the input size. We're just iterating through the matrix and doing comparisons without using any additional data structures that scale with input size.",
        "",
        "For the follow-up questions:",
        "1. If the matrix is stored on disk and we can only load one row at a time: We would need to keep track of the previous row and compare it with the current row. This would still be O(1) space complexity.",
        "2. If we can only load part of a row: We would need to load corresponding parts of consecutive rows and compare them. This would require careful management of which parts of the rows we're loading, but the algorithm would remain similar."
      ]
    },
    {
      "cell_type": "markdown",
      "metadata": {},
      "source": [
        "## Test Cases\n"
      ]
    },
    {
      "cell_type": "code",
      "metadata": {},
      "source": [
        "def test_isToeplitzMatrix():",
        "    # Test case 1: Example from the problem statement",
        "    matrix1 = [[1,2,3,4],[5,1,2,3],[9,5,1,2]]",
        "    assert isToeplitzMatrix(matrix1) == True, \"Test case 1 failed\"",
        "    ",
        "    # Test case 2: Another example from the problem statement",
        "    matrix2 = [[1,2],[2,2]]",
        "    assert isToeplitzMatrix(matrix2) == False, \"Test case 2 failed\"",
        "    ",
        "    # Test case 3: Single row matrix",
        "    matrix3 = [[1,2,3,4,5]]",
        "    assert isToeplitzMatrix(matrix3) == True, \"Test case 3 failed\"",
        "    ",
        "    # Test case 4: Single column matrix",
        "    matrix4 = [[1],[2],[3],[4]]",
        "    assert isToeplitzMatrix(matrix4) == True, \"Test case 4 failed\"",
        "    ",
        "    # Test case 5: 1x1 matrix",
        "    matrix5 = [[5]]",
        "    assert isToeplitzMatrix(matrix5) == True, \"Test case 5 failed\"",
        "    ",
        "    # Test case 6: Larger matrix with false condition",
        "    matrix6 = [[1,2,3,4],[5,1,2,3],[9,5,7,2]]",
        "    assert isToeplitzMatrix(matrix6) == False, \"Test case 6 failed\"",
        "    ",
        "    print(\"All test cases passed!\")",
        "",
        "# Run the tests",
        "test_isToeplitzMatrix()",
        ""
      ],
      "execution_count": null,
      "outputs": []
    }
  ],
  "metadata": {
    "kernelspec": {
      "display_name": "Python 3",
      "language": "python",
      "name": "python3"
    },
    "language_info": {
      "codemirror_mode": {
        "name": "ipython",
        "version": 3
      },
      "file_extension": ".py",
      "mimetype": "text/x-python",
      "name": "python",
      "nbconvert_exporter": "python",
      "pygments_lexer": "ipython3",
      "version": "3.11.9"
    }
  },
  "nbformat": 4,
  "nbformat_minor": 5
}