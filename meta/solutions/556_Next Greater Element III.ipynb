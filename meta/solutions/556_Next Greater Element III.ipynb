{
  "cells": [
    {
      "cell_type": "markdown",
      "metadata": {},
      "source": [
        "# 556. Next Greater Element III"
      ]
    },
    {
      "cell_type": "markdown",
      "metadata": {},
      "source": [
        "Given a positive integer n, find the smallest integer which has exactly the same digits existing in the integer n and is greater in value than n. If no such positive integer exists, return -1.",
        "",
        "",
        "",
        "Note that the returned integer should fit in 32-bit integer, if there is a valid answer but it does not fit in 32-bit integer, return -1.",
        "",
        "",
        "",
        " ",
        "",
        "",
        "",
        "**Example 1:**",
        "",
        "",
        "",
        "Input: n = 12",
        "",
        "Output: 21",
        "",
        "**Example 2:**",
        "",
        "",
        "",
        "Input: n = 21",
        "",
        "Output: -1",
        "",
        " ",
        "",
        "",
        "",
        "**Constraints:**",
        "",
        "",
        "",
        "1 <= n <= 231 - 1"
      ]
    },
    {
      "cell_type": "markdown",
      "metadata": {},
      "source": [
        "## Solution Explanation\n",
        "This problem is asking us to find the next permutation of the digits in the given number. The next permutation is the lexicographically next greater permutation of the digits.",
        "",
        "The algorithm to find the next permutation is as follows:",
        "1. Find the largest index i such that digits[i] < digits[i+1]. If no such index exists, the digits are in descending order, and no next permutation exists.",
        "2. Find the largest index j > i such that digits[j] > digits[i].",
        "3. Swap digits[i] and digits[j].",
        "4. Reverse the sub-array digits[i+1:].",
        "",
        "For our problem, we need to:",
        "1. Convert the integer to a list of digits.",
        "2. Find the next permutation using the algorithm above.",
        "3. Convert the list of digits back to an integer.",
        "4. Check if the result fits in a 32-bit integer."
      ]
    },
    {
      "cell_type": "code",
      "metadata": {},
      "source": [
        "def nextGreaterElement(n: int) -> int:",
        "    # Convert integer to list of digits",
        "    digits = list(str(n))",
        "    ",
        "    # Find the first digit that can be increased (from right to left)",
        "    i = len(digits) - 2",
        "    while i >= 0 and digits[i] >= digits[i + 1]:",
        "        i -= 1",
        "    ",
        "    # If no such digit exists, return -1",
        "    if i == -1:",
        "        return -1",
        "    ",
        "    # Find the smallest digit to the right of digits[i] that is greater than digits[i]",
        "    j = len(digits) - 1",
        "    while digits[j] <= digits[i]:",
        "        j -= 1",
        "    ",
        "    # Swap digits[i] and digits[j]",
        "    digits[i], digits[j] = digits[j], digits[i]",
        "    ",
        "    # Reverse the digits to the right of position i",
        "    digits[i+1:] = reversed(digits[i+1:])",
        "    ",
        "    # Convert back to integer",
        "    result = int(''.join(digits))",
        "    ",
        "    # Check if result fits in 32-bit signed integer",
        "    if result > 2**31 - 1:",
        "        return -1",
        "    ",
        "    return result",
        ""
      ],
      "execution_count": null,
      "outputs": []
    },
    {
      "cell_type": "markdown",
      "metadata": {},
      "source": [
        "## Time and Space Complexity\n",
        "* *Time Complexity**: O(d), where d is the number of digits in n. We need to convert the integer to a list of digits, which takes O(d) time. The algorithm to find the next permutation also takes O(d) time in the worst case, as we might need to scan through all digits.",
        "* *Space Complexity**: O(d), where d is the number of digits in n. We need to store the digits in a list, which requires O(d) space."
      ]
    },
    {
      "cell_type": "markdown",
      "metadata": {},
      "source": [
        "## Test Cases\n"
      ]
    },
    {
      "cell_type": "code",
      "metadata": {},
      "source": [
        "def test_nextGreaterElement():",
        "    # Test case 1: Basic case where next permutation exists",
        "    assert nextGreaterElement(12) == 21",
        "    ",
        "    # Test case 2: No next permutation exists",
        "    assert nextGreaterElement(21) == -1",
        "    ",
        "    # Test case 3: Multiple digits",
        "    assert nextGreaterElement(12345) == 12354",
        "    ",
        "    # Test case 4: Digits in descending order",
        "    assert nextGreaterElement(54321) == -1",
        "    ",
        "    # Test case 5: Repeated digits",
        "    assert nextGreaterElement(1122) == 1212",
        "    ",
        "    # Test case 6: Large number but within 32-bit integer range",
        "    assert nextGreaterElement(2147483647) == -1  # Max 32-bit integer, no next permutation",
        "    ",
        "    # Test case 7: Result would exceed 32-bit integer range",
        "    assert nextGreaterElement(2147483476) == -1  # Next permutation would exceed 2^31-1",
        "    ",
        "    # Test case 8: Single digit",
        "    assert nextGreaterElement(5) == -1",
        "    ",
        "    print(\"All test cases passed!\")",
        "",
        "# Run the tests",
        "test_nextGreaterElement()",
        ""
      ],
      "execution_count": null,
      "outputs": []
    }
  ],
  "metadata": {
    "kernelspec": {
      "display_name": "Python 3",
      "language": "python",
      "name": "python3"
    },
    "language_info": {
      "codemirror_mode": {
        "name": "ipython",
        "version": 3
      },
      "file_extension": ".py",
      "mimetype": "text/x-python",
      "name": "python",
      "nbconvert_exporter": "python",
      "pygments_lexer": "ipython3",
      "version": "3.11.9"
    }
  },
  "nbformat": 4,
  "nbformat_minor": 5
}