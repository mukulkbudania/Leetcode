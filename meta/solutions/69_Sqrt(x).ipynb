{
  "cells": [
    {
      "cell_type": "markdown",
      "metadata": {},
      "source": [
        "# 69. Sqrt(x)"
      ]
    },
    {
      "cell_type": "markdown",
      "metadata": {},
      "source": [
        "Given a non-negative integer x, return the square root of x rounded down to the nearest integer. The returned integer should be non-negative as well.",
        "",
        "",
        "",
        "You must not use any built-in exponent function or operator.",
        "",
        "",
        "",
        "For example, do not use pow(x, 0.5) in c++ or x ** 0.5 in python.",
        "",
        " ",
        "",
        "",
        "",
        "**Example 1:**",
        "",
        "",
        "",
        "Input: x = 4",
        "",
        "Output: 2",
        "",
        "Explanation: The square root of 4 is 2, so we return 2.",
        "",
        "**Example 2:**",
        "",
        "",
        "",
        "Input: x = 8",
        "",
        "Output: 2",
        "",
        "Explanation: The square root of 8 is 2.82842..., and since we round it down to the nearest integer, 2 is returned.",
        "",
        " ",
        "",
        "",
        "",
        "**Constraints:**",
        "",
        "",
        "",
        "0 <= x <= 231 - 1"
      ]
    },
    {
      "cell_type": "markdown",
      "metadata": {},
      "source": [
        "## Solution Explanation\n",
        "To find the square root of a non-negative integer x without using built-in exponent functions, we can use the binary search algorithm. The square root of x is a number y such that y\u00b2 = x. If y\u00b2 > x, then y is too large; if y\u00b2 < x, then y is too small.",
        "",
        "Since we need to round down to the nearest integer, we're looking for the largest integer y such that y\u00b2 \u2264 x.",
        "",
        "The approach is:",
        "1. Define a search range from 0 to x (or a more efficient upper bound like x//2 + 1 for x > 1)",
        "2. Use binary search to find the largest integer y where y\u00b2 \u2264 x",
        "3. Return this integer y",
        "",
        "This approach is efficient because binary search has logarithmic time complexity, which is much faster than linear search for large inputs."
      ]
    },
    {
      "cell_type": "code",
      "metadata": {},
      "source": [
        "def mySqrt(x: int) -> int:",
        "    if x == 0:",
        "        return 0",
        "    ",
        "    # For x >= 1, the square root is at most x//2 + 1",
        "    left, right = 1, x // 2 + 1",
        "    ",
        "    while left <= right:",
        "        mid = left + (right - left) // 2",
        "        ",
        "        # Calculate mid squared carefully to avoid overflow",
        "        if mid * mid <= x < (mid + 1) * (mid + 1):",
        "            return mid",
        "        elif mid * mid > x:",
        "            right = mid - 1",
        "        else:",
        "            left = mid + 1",
        "    ",
        "    return right  # This line should not be reached for valid inputs",
        ""
      ],
      "execution_count": null,
      "outputs": []
    },
    {
      "cell_type": "markdown",
      "metadata": {},
      "source": [
        "## Time and Space Complexity\n",
        "* *Time Complexity**: O(log n), where n is the input number x. This is because we're using binary search, which halves the search space in each iteration. The number of iterations is proportional to log(x).",
        "* *Space Complexity**: O(1), as we only use a constant amount of extra space regardless of the input size. We're just storing a few integer variables (left, right, mid) throughout the algorithm."
      ]
    },
    {
      "cell_type": "markdown",
      "metadata": {},
      "source": [
        "## Test Cases\n"
      ]
    },
    {
      "cell_type": "code",
      "metadata": {},
      "source": [
        "def test_mySqrt():",
        "    # Test case 1: Perfect square",
        "    assert mySqrt(4) == 2, \"Should return 2 for input 4\"",
        "    ",
        "    # Test case 2: Non-perfect square",
        "    assert mySqrt(8) == 2, \"Should return 2 for input 8\"",
        "    ",
        "    # Test case 3: Edge case - zero",
        "    assert mySqrt(0) == 0, \"Should return 0 for input 0\"",
        "    ",
        "    # Test case 4: Edge case - one",
        "    assert mySqrt(1) == 1, \"Should return 1 for input 1\"",
        "    ",
        "    # Test case 5: Large number",
        "    assert mySqrt(2147483647) == 46340, \"Should handle large inputs correctly\"",
        "    ",
        "    # Test case 6: Another perfect square",
        "    assert mySqrt(9) == 3, \"Should return 3 for input 9\"",
        "    ",
        "    # Test case 7: Another non-perfect square",
        "    assert mySqrt(10) == 3, \"Should return 3 for input 10\"",
        "    ",
        "    print(\"All test cases passed!\")",
        "",
        "# Run the tests",
        "test_mySqrt()",
        ""
      ],
      "execution_count": null,
      "outputs": []
    }
  ],
  "metadata": {
    "kernelspec": {
      "display_name": "Python 3",
      "language": "python",
      "name": "python3"
    },
    "language_info": {
      "codemirror_mode": {
        "name": "ipython",
        "version": 3
      },
      "file_extension": ".py",
      "mimetype": "text/x-python",
      "name": "python",
      "nbconvert_exporter": "python",
      "pygments_lexer": "ipython3",
      "version": "3.11.9"
    }
  },
  "nbformat": 4,
  "nbformat_minor": 5
}