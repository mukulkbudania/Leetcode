{
  "cells": [
    {
      "cell_type": "markdown",
      "metadata": {},
      "source": [
        "# 933. Number of Recent Calls"
      ]
    },
    {
      "cell_type": "markdown",
      "metadata": {},
      "source": [
        "You have a RecentCounter class which counts the number of recent requests within a certain time frame.",
        "",
        "",
        "",
        "Implement the RecentCounter class:",
        "",
        "",
        "",
        "RecentCounter() Initializes the counter with zero recent requests.",
        "",
        "int ping(int t) Adds a new request at time t, where t represents some time in milliseconds, and returns the number of requests that has happened in the past 3000 milliseconds (including the new request). Specifically, return the number of requests that have happened in the inclusive range [t - 3000, t].",
        "",
        "It is guaranteed that every call to ping uses a strictly larger value of t than the previous call.",
        "",
        "",
        "",
        " ",
        "",
        "",
        "",
        "**Example 1:**",
        "",
        "",
        "",
        "Input",
        "",
        "[\"RecentCounter\", \"ping\", \"ping\", \"ping\", \"ping\"]",
        "",
        "[[], [1], [100], [3001], [3002]]",
        "",
        "Output",
        "",
        "[null, 1, 2, 3, 3]",
        "",
        "",
        "",
        "Explanation",
        "",
        "RecentCounter recentCounter = new RecentCounter();",
        "",
        "recentCounter.ping(1);     // requests = [1], range is [-2999,1], return 1",
        "",
        "recentCounter.ping(100);   // requests = [1, 100], range is [-2900,100], return 2",
        "",
        "recentCounter.ping(3001);  // requests = [1, 100, 3001], range is [1,3001], return 3",
        "",
        "recentCounter.ping(3002);  // requests = [1, 100, 3001, 3002], range is [2,3002], return 3",
        "",
        " ",
        "",
        "",
        "",
        "**Constraints:**",
        "",
        "",
        "",
        "1 <= t <= 109",
        "",
        "Each test case will call ping with strictly increasing values of t.",
        "",
        "At most 104 calls will be made to ping.",
        "",
        ""
      ]
    },
    {
      "cell_type": "markdown",
      "metadata": {},
      "source": [
        "## Solution Explanation\n",
        "This problem asks us to implement a class that keeps track of requests within a sliding window of 3000 milliseconds.",
        "",
        "The key insight is that we need to maintain a data structure that:",
        "1. Can efficiently add new requests",
        "2. Can efficiently remove requests that are older than 3000 milliseconds from the current time",
        "",
        "A queue is the perfect data structure for this problem because:",
        "* We can add new requests to the end of the queue in O(1) time",
        "* We can remove old requests from the front of the queue in O(1) time",
        "* Since the ping method is called with strictly increasing values of t, we know that older requests will always be at the front of the queue",
        "",
        "For each ping(t) call, we:",
        "1. Add the new request time t to the queue",
        "2. Remove all requests from the front of the queue that are outside the time window [t-3000, t]",
        "3. Return the size of the queue, which represents the number of requests within the time window"
      ]
    },
    {
      "cell_type": "code",
      "metadata": {},
      "source": [
        "from collections import deque",
        "",
        "class RecentCounter:",
        "    def __init__(self):",
        "        # Initialize an empty queue to store request timestamps",
        "        self.requests = deque()",
        "        ",
        "    def ping(self, t: int) -> int:",
        "        # Add the current request timestamp to the queue",
        "        self.requests.append(t)",
        "        ",
        "        # Remove timestamps that are outside the 3000ms window",
        "        while self.requests and self.requests[0] < t - 3000:",
        "            self.requests.popleft()",
        "            ",
        "        # Return the number of requests in the current window",
        "        return len(self.requests)",
        ""
      ],
      "execution_count": null,
      "outputs": []
    },
    {
      "cell_type": "markdown",
      "metadata": {},
      "source": [
        "## Time and Space Complexity\n",
        "* *Time Complexity:**",
        "* `__init__()`: O(1) - Just initializing a deque",
        "* `ping(t)`: Amortized O(1) - In the worst case, we might need to remove all previous elements from the queue, but each element is added and removed at most once, so the amortized time complexity is O(1) per ping operation.",
        "* *Space Complexity:**",
        "* O(N), where N is the maximum number of requests that can occur within a 3000ms window. In the worst case, if all requests happen very close to each other in time, we might need to store up to 10^4 requests (the maximum number of calls to ping as per the constraints)."
      ]
    },
    {
      "cell_type": "markdown",
      "metadata": {},
      "source": [
        "## Test Cases\n"
      ]
    },
    {
      "cell_type": "code",
      "metadata": {},
      "source": [
        "def test_recent_counter():",
        "    # Test case 1: Example from the problem statement",
        "    counter = RecentCounter()",
        "    assert counter.ping(1) == 1",
        "    assert counter.ping(100) == 2",
        "    assert counter.ping(3001) == 3",
        "    assert counter.ping(3002) == 3",
        "    ",
        "    # Test case 2: Requests that are exactly 3000ms apart",
        "    counter = RecentCounter()",
        "    assert counter.ping(1000) == 1",
        "    assert counter.ping(4000) == 2  # 4000 - 1000 = 3000, so 1000 is still in range",
        "    assert counter.ping(7000) == 2  # 7000 - 4000 = 3000, 1000 is now out of range",
        "    ",
        "    # Test case 3: Many requests in quick succession",
        "    counter = RecentCounter()",
        "    assert counter.ping(1) == 1",
        "    assert counter.ping(2) == 2",
        "    assert counter.ping(3) == 3",
        "    assert counter.ping(4) == 4",
        "    assert counter.ping(3002) == 5  # All previous requests are in range",
        "    assert counter.ping(6002) == 2  # Only 3002 and 6002 are in range",
        "    ",
        "    print(\"All test cases passed!\")",
        "",
        "# Run the tests",
        "test_recent_counter()",
        ""
      ],
      "execution_count": null,
      "outputs": []
    }
  ],
  "metadata": {
    "kernelspec": {
      "display_name": "Python 3",
      "language": "python",
      "name": "python3"
    },
    "language_info": {
      "codemirror_mode": {
        "name": "ipython",
        "version": 3
      },
      "file_extension": ".py",
      "mimetype": "text/x-python",
      "name": "python",
      "nbconvert_exporter": "python",
      "pygments_lexer": "ipython3",
      "version": "3.11.9"
    }
  },
  "nbformat": 4,
  "nbformat_minor": 5
}