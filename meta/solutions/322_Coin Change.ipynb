{
  "cells": [
    {
      "cell_type": "markdown",
      "metadata": {},
      "source": [
        "# 322. Coin Change"
      ]
    },
    {
      "cell_type": "markdown",
      "metadata": {},
      "source": [
        "You are given an integer array coins representing coins of different denominations and an integer amount representing a total amount of money.",
        "",
        "",
        "",
        "Return the fewest number of coins that you need to make up that amount. If that amount of money cannot be made up by any combination of the coins, return -1.",
        "",
        "",
        "",
        "You may assume that you have an infinite number of each kind of coin.",
        "",
        "",
        "",
        " ",
        "",
        "",
        "",
        "**Example 1:**",
        "",
        "",
        "",
        "Input: coins = [1,2,5], amount = 11",
        "",
        "Output: 3",
        "",
        "Explanation: 11 = 5 + 5 + 1",
        "",
        "**Example 2:**",
        "",
        "",
        "",
        "Input: coins = [2], amount = 3",
        "",
        "Output: -1",
        "",
        "**Example 3:**",
        "",
        "",
        "",
        "Input: coins = [1], amount = 0",
        "",
        "Output: 0",
        "",
        " ",
        "",
        "",
        "",
        "**Constraints:**",
        "",
        "",
        "",
        "1 <= coins.length <= 12",
        "",
        "1 <= coins[i] <= 231 - 1",
        "",
        "0 <= amount <= 104"
      ]
    },
    {
      "cell_type": "markdown",
      "metadata": {},
      "source": [
        "## Solution Explanation\n",
        "This is a classic coin change problem that can be solved using dynamic programming. The goal is to find the minimum number of coins needed to make up a given amount.",
        "",
        "The approach is to build a DP array where `dp[i]` represents the minimum number of coins needed to make amount `i`. We initialize `dp[0] = 0` since it takes 0 coins to make amount 0. For all other amounts, we initialize to a value larger than any possible answer (amount + 1).",
        "",
        "For each amount from 1 to the target amount, we consider each coin denomination. If the current coin can be used (i.e., its value is less than or equal to the current amount), we update `dp[amount]` to be the minimum of its current value and `1 + dp[amount - coin]` (1 for using the current coin plus the minimum coins needed for the remaining amount).",
        "",
        "After filling the DP array, if `dp[amount]` is still the initial large value, it means the amount cannot be made with the given coins, so we return -1. Otherwise, we return `dp[amount]`."
      ]
    },
    {
      "cell_type": "code",
      "metadata": {},
      "source": [
        "def coinChange(coins, amount):",
        "    # Initialize dp array with amount+1 (which is greater than max possible coins needed)",
        "    dp = [amount + 1] * (amount + 1)",
        "    dp[0] = 0  # Base case: 0 coins needed to make amount 0",
        "    ",
        "    # Fill dp array",
        "    for i in range(1, amount + 1):",
        "        for coin in coins:",
        "            if coin <= i:",
        "                dp[i] = min(dp[i], dp[i - coin] + 1)",
        "    ",
        "    # If dp[amount] is still amount+1, it means amount cannot be made up",
        "    return dp[amount] if dp[amount] <= amount else -1",
        ""
      ],
      "execution_count": null,
      "outputs": []
    },
    {
      "cell_type": "markdown",
      "metadata": {},
      "source": [
        "## Time and Space Complexity\n",
        "* *Time Complexity**: O(amount * n), where n is the number of coin denominations. We have a nested loop where the outer loop runs 'amount' times and the inner loop runs 'n' times.",
        "* *Space Complexity**: O(amount) for the dp array that stores the minimum number of coins needed for each amount from 0 to the target amount."
      ]
    },
    {
      "cell_type": "markdown",
      "metadata": {},
      "source": [
        "## Test Cases\n"
      ]
    },
    {
      "cell_type": "code",
      "metadata": {},
      "source": [
        "def test_coin_change():",
        "    # Test case 1: Example 1 from the problem",
        "    assert coinChange([1, 2, 5], 11) == 3, \"Failed test case 1\"",
        "    ",
        "    # Test case 2: Example 2 from the problem",
        "    assert coinChange([2], 3) == -1, \"Failed test case 2\"",
        "    ",
        "    # Test case 3: Example 3 from the problem",
        "    assert coinChange([1], 0) == 0, \"Failed test case 3\"",
        "    ",
        "    # Test case 4: Large amount with small coins",
        "    assert coinChange([1, 2, 5], 100) == 20, \"Failed test case 4\"",
        "    ",
        "    # Test case 5: Multiple ways to make the amount",
        "    assert coinChange([1, 3, 4, 5], 7) == 2, \"Failed test case 5\"",
        "    ",
        "    # Test case 6: Edge case - only one coin that divides the amount evenly",
        "    assert coinChange([3], 9) == 3, \"Failed test case 6\"",
        "    ",
        "    # Test case 7: Edge case - only one coin that doesn't divide the amount evenly",
        "    assert coinChange([2], 5) == -1, \"Failed test case 7\"",
        "    ",
        "    print(\"All test cases passed!\")",
        "",
        "# Run the tests",
        "test_coin_change()",
        ""
      ],
      "execution_count": null,
      "outputs": []
    }
  ],
  "metadata": {
    "kernelspec": {
      "display_name": "Python 3",
      "language": "python",
      "name": "python3"
    },
    "language_info": {
      "codemirror_mode": {
        "name": "ipython",
        "version": 3
      },
      "file_extension": ".py",
      "mimetype": "text/x-python",
      "name": "python",
      "nbconvert_exporter": "python",
      "pygments_lexer": "ipython3",
      "version": "3.11.9"
    }
  },
  "nbformat": 4,
  "nbformat_minor": 5
}