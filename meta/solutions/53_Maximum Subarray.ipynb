{
  "cells": [
    {
      "cell_type": "markdown",
      "metadata": {},
      "source": [
        "# 53. Maximum Subarray"
      ]
    },
    {
      "cell_type": "markdown",
      "metadata": {},
      "source": [
        "Given an integer array nums, find the subarray with the largest sum, and return its sum.",
        "",
        "",
        "",
        " ",
        "",
        "",
        "",
        "**Example 1:**",
        "",
        "",
        "",
        "Input: nums = [-2,1,-3,4,-1,2,1,-5,4]",
        "",
        "Output: 6",
        "",
        "Explanation: The subarray [4,-1,2,1] has the largest sum 6.",
        "",
        "**Example 2:**",
        "",
        "",
        "",
        "Input: nums = [1]",
        "",
        "Output: 1",
        "",
        "Explanation: The subarray [1] has the largest sum 1.",
        "",
        "**Example 3:**",
        "",
        "",
        "",
        "Input: nums = [5,4,-1,7,8]",
        "",
        "Output: 23",
        "",
        "Explanation: The subarray [5,4,-1,7,8] has the largest sum 23.",
        "",
        " ",
        "",
        "",
        "",
        "**Constraints:**",
        "",
        "",
        "",
        "1 <= nums.length <= 105",
        "",
        "-104 <= nums[i] <= 104",
        "",
        " ",
        "",
        "",
        "",
        "Follow up: If you have figured out the O(n) solution, try coding another solution using the divide and conquer approach, which is more subtle."
      ]
    },
    {
      "cell_type": "markdown",
      "metadata": {},
      "source": [
        "## Solution Explanation\n",
        "This problem is asking for the maximum subarray sum, which is a classic problem that can be solved using Kadane's algorithm. The algorithm works by keeping track of two values:",
        "1. The maximum sum ending at the current position",
        "2. The global maximum sum found so far",
        "",
        "For each element in the array, we have two choices:",
        "* Start a new subarray beginning with the current element",
        "* Extend the previous subarray by including the current element",
        "",
        "We choose the option that gives us the larger sum. This approach allows us to find the maximum subarray sum in a single pass through the array.",
        "",
        "For the follow-up question about a divide and conquer approach, we can split the array into two halves recursively and find:",
        "1. The maximum subarray sum in the left half",
        "2. The maximum subarray sum in the right half",
        "3. The maximum subarray sum that crosses the middle (includes elements from both halves)",
        "Then take the maximum of these three values.",
        "",
        "However, I'll focus on the O(n) Kadane's algorithm solution as it's more efficient."
      ]
    },
    {
      "cell_type": "code",
      "metadata": {},
      "source": [
        "def maxSubArray(nums):",
        "    \"\"\"",
        "    Find the contiguous subarray with the largest sum.",
        "    ",
        "    Args:",
        "        nums: List[int] - The input array of integers",
        "        ",
        "    Returns:",
        "        int - The sum of the subarray with the largest sum",
        "    \"\"\"",
        "    if not nums:",
        "        return 0",
        "        ",
        "    current_sum = nums[0]  # Maximum sum ending at current position",
        "    max_sum = nums[0]      # Global maximum sum",
        "    ",
        "    for i in range(1, len(nums)):",
        "        # Either start a new subarray or extend the existing one",
        "        current_sum = max(nums[i], current_sum + nums[i])",
        "        # Update the global maximum",
        "        max_sum = max(max_sum, current_sum)",
        "    ",
        "    return max_sum",
        ""
      ],
      "execution_count": null,
      "outputs": []
    },
    {
      "cell_type": "markdown",
      "metadata": {},
      "source": [
        "## Time and Space Complexity\n",
        "* *Time Complexity**: O(n) where n is the length of the input array. We only need to iterate through the array once.",
        "* *Space Complexity**: O(1) as we only use a constant amount of extra space regardless of the input size. We just maintain two variables: `current_sum` and `max_sum`.",
        "",
        "For the divide and conquer approach (not implemented here), the time complexity would be O(n log n) and the space complexity would be O(log n) due to the recursive call stack."
      ]
    },
    {
      "cell_type": "markdown",
      "metadata": {},
      "source": [
        "## Test Cases\n"
      ]
    },
    {
      "cell_type": "code",
      "metadata": {},
      "source": [
        "def test_maxSubArray():",
        "    # Test case 1: Standard case with positive and negative numbers",
        "    assert maxSubArray([-2, 1, -3, 4, -1, 2, 1, -5, 4]) == 6",
        "    ",
        "    # Test case 2: Single element array",
        "    assert maxSubArray([1]) == 1",
        "    ",
        "    # Test case 3: All positive numbers",
        "    assert maxSubArray([5, 4, -1, 7, 8]) == 23",
        "    ",
        "    # Test case 4: All negative numbers",
        "    assert maxSubArray([-1, -2, -3, -4]) == -1",
        "    ",
        "    # Test case 5: Empty array (though problem states length is at least 1)",
        "    assert maxSubArray([]) == 0",
        "    ",
        "    # Test case 6: Array with zeros",
        "    assert maxSubArray([0, 0, 0, 0]) == 0",
        "    ",
        "    # Test case 7: Large negative number followed by small positive numbers",
        "    assert maxSubArray([-100, 1, 2, 3]) == 6",
        "    ",
        "    # Test case 8: Alternating positive and negative numbers",
        "    assert maxSubArray([1, -1, 1, -1, 1]) == 1",
        "    ",
        "    print(\"All test cases passed!\")",
        "",
        "# Run the tests",
        "test_maxSubArray()",
        ""
      ],
      "execution_count": null,
      "outputs": []
    }
  ],
  "metadata": {
    "kernelspec": {
      "display_name": "Python 3",
      "language": "python",
      "name": "python3"
    },
    "language_info": {
      "codemirror_mode": {
        "name": "ipython",
        "version": 3
      },
      "file_extension": ".py",
      "mimetype": "text/x-python",
      "name": "python",
      "nbconvert_exporter": "python",
      "pygments_lexer": "ipython3",
      "version": "3.11.9"
    }
  },
  "nbformat": 4,
  "nbformat_minor": 5
}