{
  "cells": [
    {
      "cell_type": "markdown",
      "metadata": {},
      "source": [
        "# 419. Battleships in a Board"
      ]
    },
    {
      "cell_type": "markdown",
      "metadata": {},
      "source": [
        "Given an m x n matrix board where each cell is a battleship 'X' or empty '.', return the number of the battleships on board.",
        "",
        "",
        "",
        "Battleships can only be placed horizontally or vertically on board. In other words, they can only be made of the shape 1 x k (1 row, k columns) or k x 1 (k rows, 1 column), where k can be of any size. At least one horizontal or vertical cell separates between two battleships (i.e., there are no adjacent battleships).",
        "",
        "",
        "",
        " ",
        "",
        "",
        "",
        "**Example 1:**",
        "",
        "",
        "",
        "",
        "",
        "Input: board = [[\"X\",\".\",\".\",\"X\"],[\".\",\".\",\".\",\"X\"],[\".\",\".\",\".\",\"X\"]]",
        "",
        "Output: 2",
        "",
        "**Example 2:**",
        "",
        "",
        "",
        "Input: board = [[\".\"]]",
        "",
        "Output: 0",
        "",
        " ",
        "",
        "",
        "",
        "**Constraints:**",
        "",
        "",
        "",
        "m == board.length",
        "",
        "n == board[i].length",
        "",
        "1 <= m, n <= 200",
        "",
        "board[i][j] is either '.' or 'X'.",
        "",
        " ",
        "",
        "",
        "",
        "Follow up: Could you do it in one-pass, using only O(1) extra memory and without modifying the values board?"
      ]
    },
    {
      "cell_type": "markdown",
      "metadata": {},
      "source": [
        "## Solution Explanation\n",
        "This problem asks us to count the number of battleships on a board. A battleship is represented by 'X' characters that are connected horizontally or vertically. The key insight is that we only need to count the \"first\" cell of each battleship to avoid counting the same battleship multiple times.",
        "",
        "The approach is to count a cell as the start of a battleship if it contains an 'X' and has no 'X' to its left or above it. This ensures we only count each battleship once.",
        "",
        "For the follow-up question (one-pass, O(1) extra memory, no modification of the board):",
        "1. We iterate through each cell in the board.",
        "2. If the current cell is 'X', we check if it's the \"first\" cell of a battleship by looking at its left and top neighbors.",
        "3. If there's no 'X' to the left or above, we increment our battleship count.",
        "",
        "This approach satisfies all the requirements:",
        "* One-pass: We only go through the board once.",
        "* O(1) extra memory: We only use a counter variable.",
        "* No modification: We don't change the board values."
      ]
    },
    {
      "cell_type": "code",
      "metadata": {},
      "source": [
        "def countBattleships(board):",
        "    \"\"\"",
        "    Count the number of battleships on the board.",
        "    ",
        "    Args:",
        "        board: List[List[str]] - The game board with 'X' for battleships and '.' for empty cells",
        "        ",
        "    Returns:",
        "        int - The number of battleships",
        "    \"\"\"",
        "    if not board or not board[0]:",
        "        return 0",
        "    ",
        "    count = 0",
        "    m, n = len(board), len(board[0])",
        "    ",
        "    for i in range(m):",
        "        for j in range(n):",
        "            # Check if current cell is part of a battleship",
        "            if board[i][j] == 'X':",
        "                # Check if it's the \"first\" cell of the battleship",
        "                # (no 'X' to the left or above)",
        "                if (i == 0 or board[i-1][j] != 'X') and (j == 0 or board[i][j-1] != 'X'):",
        "                    count += 1",
        "    ",
        "    return count",
        ""
      ],
      "execution_count": null,
      "outputs": []
    },
    {
      "cell_type": "markdown",
      "metadata": {},
      "source": [
        "## Time and Space Complexity\n",
        "* *Time Complexity**: O(m * n), where m is the number of rows and n is the number of columns in the board. We need to visit each cell exactly once.",
        "* *Space Complexity**: O(1), as we only use a constant amount of extra space regardless of the input size. We only need a counter variable and a few pointers for iteration."
      ]
    },
    {
      "cell_type": "markdown",
      "metadata": {},
      "source": [
        "## Test Cases\n"
      ]
    },
    {
      "cell_type": "code",
      "metadata": {},
      "source": [
        "def test_countBattleships():",
        "    # Test case 1: Example from the problem",
        "    board1 = [[\"X\",\".\",\".\",\"X\"],",
        "              [\".\",\".\",\".\",\"X\"],",
        "              [\".\",\".\",\".\",\"X\"]]",
        "    assert countBattleships(board1) == 2, f\"Expected 2, got {countBattleships(board1)}\"",
        "    ",
        "    # Test case 2: Empty board",
        "    board2 = [[]]",
        "    assert countBattleships(board2) == 0, f\"Expected 0, got {countBattleships(board2)}\"",
        "    ",
        "    # Test case 3: Single cell with no battleship",
        "    board3 = [[\".\"]]",
        "    assert countBattleships(board3) == 0, f\"Expected 0, got {countBattleships(board3)}\"",
        "    ",
        "    # Test case 4: Single cell with a battleship",
        "    board4 = [[\"X\"]]",
        "    assert countBattleships(board4) == 1, f\"Expected 1, got {countBattleships(board4)}\"",
        "    ",
        "    # Test case 5: Multiple battleships of different sizes",
        "    board5 = [[\"X\",\"X\",\"X\",\".\"],",
        "              [\".\",\".\",\".\",\".\"],",
        "              [\"X\",\".\",\".\",\"X\"],",
        "              [\"X\",\".\",\".\",\"X\"]]",
        "    assert countBattleships(board5) == 3, f\"Expected 3, got {countBattleships(board5)}\"",
        "    ",
        "    # Test case 6: Board with only one large battleship",
        "    board6 = [[\"X\",\"X\",\"X\"],",
        "              [\"X\",\"X\",\"X\"],",
        "              [\"X\",\"X\",\"X\"]]",
        "    assert countBattleships(board6) == 1, f\"Expected 1, got {countBattleships(board6)}\"",
        "    ",
        "    print(\"All test cases passed!\")",
        "",
        "# Run the tests",
        "test_countBattleships()",
        ""
      ],
      "execution_count": null,
      "outputs": []
    }
  ],
  "metadata": {
    "kernelspec": {
      "display_name": "Python 3",
      "language": "python",
      "name": "python3"
    },
    "language_info": {
      "codemirror_mode": {
        "name": "ipython",
        "version": 3
      },
      "file_extension": ".py",
      "mimetype": "text/x-python",
      "name": "python",
      "nbconvert_exporter": "python",
      "pygments_lexer": "ipython3",
      "version": "3.11.9"
    }
  },
  "nbformat": 4,
  "nbformat_minor": 5
}