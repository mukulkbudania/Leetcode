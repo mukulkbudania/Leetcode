{
  "cells": [
    {
      "cell_type": "markdown",
      "metadata": {},
      "source": [
        "# 1929. Concatenation of Array"
      ]
    },
    {
      "cell_type": "markdown",
      "metadata": {},
      "source": [
        "Given an integer array nums of length n, you want to create an array ans of length 2n where ans[i] == nums[i] and ans[i + n] == nums[i] for 0 <= i < n (0-indexed).",
        "",
        "",
        "",
        "Specifically, ans is the concatenation of two nums arrays.",
        "",
        "",
        "",
        "Return the array ans.",
        "",
        "",
        "",
        " ",
        "",
        "",
        "",
        "**Example 1:**",
        "",
        "",
        "",
        "Input: nums = [1,2,1]",
        "",
        "Output: [1,2,1,1,2,1]",
        "",
        "Explanation: The array ans is formed as follows:",
        "",
        "- ans = [nums[0],nums[1],nums[2],nums[0],nums[1],nums[2]]",
        "",
        "- ans = [1,2,1,1,2,1]",
        "",
        "**Example 2:**",
        "",
        "",
        "",
        "Input: nums = [1,3,2,1]",
        "",
        "Output: [1,3,2,1,1,3,2,1]",
        "",
        "Explanation: The array ans is formed as follows:",
        "",
        "- ans = [nums[0],nums[1],nums[2],nums[3],nums[0],nums[1],nums[2],nums[3]]",
        "",
        "- ans = [1,3,2,1,1,3,2,1]",
        "",
        " ",
        "",
        "",
        "",
        "**Constraints:**",
        "",
        "",
        "",
        "n == nums.length",
        "",
        "1 <= n <= 1000",
        "",
        "1 <= nums[i] <= 1000",
        "",
        ""
      ]
    },
    {
      "cell_type": "markdown",
      "metadata": {},
      "source": [
        "## Solution Explanation\n",
        "This problem asks us to create a new array that is the concatenation of the input array with itself. In other words, we need to duplicate the array and append it to itself.",
        "",
        "The approach is straightforward:",
        "1. Create a new array of length 2n (twice the length of the input array)",
        "2. Copy the elements from the input array to the first half of the new array",
        "3. Copy the elements from the input array to the second half of the new array",
        "",
        "However, in Python, we can simplify this by using list concatenation or repetition operations. The most concise way is to use the `+` operator to concatenate the array with itself, or the `*` operator to repeat the array twice."
      ]
    },
    {
      "cell_type": "code",
      "metadata": {},
      "source": [
        "class Solution:",
        "    def getConcatenation(self, nums: List[int]) -> List[int]:",
        "        # Method 1: Using + operator for list concatenation",
        "        return nums + nums",
        "        ",
        "        # Alternative methods:",
        "        # Method 2: Using * operator for list repetition",
        "        # return nums * 2",
        "        ",
        "        # Method 3: Manual implementation",
        "        # n = len(nums)",
        "        # ans = [0] * (2 * n)",
        "        # for i in range(n):",
        "        #     ans[i] = nums[i]",
        "        #     ans[i + n] = nums[i]",
        "        # return ans",
        ""
      ],
      "execution_count": null,
      "outputs": []
    },
    {
      "cell_type": "markdown",
      "metadata": {},
      "source": [
        "## Time and Space Complexity\n",
        "* *Time Complexity**: O(n), where n is the length of the input array. This is because we need to copy each element of the input array twice.",
        "* *Space Complexity**: O(n), where n is the length of the input array. We create a new array of size 2n, which is O(n) in terms of space complexity.",
        "",
        "Note: While Python's `+` and `*` operators for lists might seem like O(1) operations, they actually create new lists and copy elements, which takes O(n) time."
      ]
    },
    {
      "cell_type": "markdown",
      "metadata": {},
      "source": [
        "## Test Cases\n"
      ]
    },
    {
      "cell_type": "code",
      "metadata": {},
      "source": [
        "def test_solution():",
        "    solution = Solution()",
        "    ",
        "    # Test case 1: Example from the problem",
        "    assert solution.getConcatenation([1, 2, 1]) == [1, 2, 1, 1, 2, 1]",
        "    ",
        "    # Test case 2: Another example from the problem",
        "    assert solution.getConcatenation([1, 3, 2, 1]) == [1, 3, 2, 1, 1, 3, 2, 1]",
        "    ",
        "    # Test case 3: Single element",
        "    assert solution.getConcatenation([5]) == [5, 5]",
        "    ",
        "    # Test case 4: Empty array (though problem states n >= 1)",
        "    assert solution.getConcatenation([]) == []",
        "    ",
        "    # Test case 5: Array with repeated elements",
        "    assert solution.getConcatenation([1, 1, 1]) == [1, 1, 1, 1, 1, 1]",
        "    ",
        "    print(\"All test cases passed!\")",
        "",
        "# Run the tests",
        "test_solution()",
        ""
      ],
      "execution_count": null,
      "outputs": []
    }
  ],
  "metadata": {
    "kernelspec": {
      "display_name": "Python 3",
      "language": "python",
      "name": "python3"
    },
    "language_info": {
      "codemirror_mode": {
        "name": "ipython",
        "version": 3
      },
      "file_extension": ".py",
      "mimetype": "text/x-python",
      "name": "python",
      "nbconvert_exporter": "python",
      "pygments_lexer": "ipython3",
      "version": "3.11.9"
    }
  },
  "nbformat": 4,
  "nbformat_minor": 5
}