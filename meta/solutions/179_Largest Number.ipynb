{
  "cells": [
    {
      "cell_type": "markdown",
      "metadata": {},
      "source": [
        "# 179. Largest Number"
      ]
    },
    {
      "cell_type": "markdown",
      "metadata": {},
      "source": [
        "Given a list of non-negative integers nums, arrange them such that they form the largest number and return it.",
        "",
        "",
        "",
        "Since the result may be very large, so you need to return a string instead of an integer.",
        "",
        "",
        "",
        " ",
        "",
        "",
        "",
        "**Example 1:**",
        "",
        "",
        "",
        "Input: nums = [10,2]",
        "",
        "Output: \"210\"",
        "",
        "**Example 2:**",
        "",
        "",
        "",
        "Input: nums = [3,30,34,5,9]",
        "",
        "Output: \"9534330\"",
        "",
        " ",
        "",
        "",
        "",
        "**Constraints:**",
        "",
        "",
        "",
        "1 <= nums.length <= 100",
        "",
        "0 <= nums[i] <= 109"
      ]
    },
    {
      "cell_type": "markdown",
      "metadata": {},
      "source": [
        "## Solution Explanation\n",
        "To form the largest number from a list of integers, we need to arrange them in a specific order. The key insight is that we need a custom sorting strategy.",
        "",
        "The naive approach of sorting by numerical value doesn't work because, for example, 3 is less than 30 numerically, but \"3\" + \"30\" = \"330\" is greater than \"30\" + \"3\" = \"303\".",
        "",
        "The correct approach is to compare two numbers by concatenating them in different orders and seeing which order produces a larger number. For example, to compare 3 and 30, we check whether \"330\" or \"303\" is larger.",
        "",
        "We can implement this using a custom comparator function for sorting. In Python, we can use the `functools.cmp_to_key` function to create a key function for sorting based on our custom comparison.",
        "",
        "After sorting the numbers using this custom comparator, we concatenate them to form the final result. There's one edge case to handle: if the largest number is 0 (which means all numbers in the array are 0), we should return \"0\" instead of multiple zeros."
      ]
    },
    {
      "cell_type": "code",
      "metadata": {},
      "source": [
        "from functools import cmp_to_key",
        "",
        "class Solution:",
        "    def largestNumber(self, nums: list[int]) -> str:",
        "        # Convert integers to strings for easier concatenation",
        "        nums_str = [str(num) for num in nums]",
        "        ",
        "        # Define custom comparison function",
        "        def compare(x, y):",
        "            # Compare x+y with y+x",
        "            return int(y + x) - int(x + y)",
        "        ",
        "        # Sort using the custom comparator",
        "        nums_str.sort(key=cmp_to_key(compare))",
        "        ",
        "        # Join the sorted strings",
        "        result = ''.join(nums_str)",
        "        ",
        "        # Handle edge case: if the largest number is 0, return \"0\" instead of multiple zeros",
        "        return \"0\" if result[0] == \"0\" else result",
        ""
      ],
      "execution_count": null,
      "outputs": []
    },
    {
      "cell_type": "markdown",
      "metadata": {},
      "source": [
        "## Time and Space Complexity\n",
        "* *Time Complexity**: O(n log n * m), where n is the length of the input array and m is the average length of the string representation of each number. The sorting operation takes O(n log n) comparisons, and each comparison involves string concatenation and conversion which takes O(m) time.",
        "* *Space Complexity**: O(n * m), where n is the length of the input array and m is the average length of the string representation of each number. We need to store the string representation of each number, and the space required for the sorting algorithm."
      ]
    },
    {
      "cell_type": "markdown",
      "metadata": {},
      "source": [
        "## Test Cases\n"
      ]
    },
    {
      "cell_type": "code",
      "metadata": {},
      "source": [
        "def test_largest_number():",
        "    solution = Solution()",
        "    ",
        "    # Test case 1: Example from problem statement",
        "    assert solution.largestNumber([10, 2]) == \"210\"",
        "    ",
        "    # Test case 2: Example from problem statement",
        "    assert solution.largestNumber([3, 30, 34, 5, 9]) == \"9534330\"",
        "    ",
        "    # Test case 3: Edge case - all zeros",
        "    assert solution.largestNumber([0, 0, 0]) == \"0\"",
        "    ",
        "    # Test case 4: Single element",
        "    assert solution.largestNumber([42]) == \"42\"",
        "    ",
        "    # Test case 5: Numbers with same first digit",
        "    assert solution.largestNumber([8, 89]) == \"898\"",
        "    ",
        "    # Test case 6: Larger test case",
        "    assert solution.largestNumber([3, 30, 34, 5, 9, 0]) == \"9534330\"",
        "    ",
        "    # Test case 7: Edge case - empty array (not in constraints but good to test)",
        "    assert solution.largestNumber([]) == \"0\"",
        "    ",
        "    print(\"All test cases passed!\")",
        "",
        "# Run the tests",
        "test_largest_number()",
        ""
      ],
      "execution_count": null,
      "outputs": []
    }
  ],
  "metadata": {
    "kernelspec": {
      "display_name": "Python 3",
      "language": "python",
      "name": "python3"
    },
    "language_info": {
      "codemirror_mode": {
        "name": "ipython",
        "version": 3
      },
      "file_extension": ".py",
      "mimetype": "text/x-python",
      "name": "python",
      "nbconvert_exporter": "python",
      "pygments_lexer": "ipython3",
      "version": "3.11.9"
    }
  },
  "nbformat": 4,
  "nbformat_minor": 5
}