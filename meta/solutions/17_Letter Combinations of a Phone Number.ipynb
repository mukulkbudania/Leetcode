{
  "cells": [
    {
      "cell_type": "markdown",
      "metadata": {},
      "source": [
        "# 17. Letter Combinations of a Phone Number"
      ]
    },
    {
      "cell_type": "markdown",
      "metadata": {},
      "source": [
        "Given a string containing digits from 2-9 inclusive, return all possible letter combinations that the number could represent. Return the answer in any order.",
        "",
        "",
        "",
        "A mapping of digits to letters (just like on the telephone buttons) is given below. Note that 1 does not map to any letters.",
        "",
        "",
        "",
        "",
        "",
        " ",
        "",
        "",
        "",
        "**Example 1:**",
        "",
        "",
        "",
        "Input: digits = \"23\"",
        "",
        "Output: [\"ad\",\"ae\",\"af\",\"bd\",\"be\",\"bf\",\"cd\",\"ce\",\"cf\"]",
        "",
        "**Example 2:**",
        "",
        "",
        "",
        "Input: digits = \"\"",
        "",
        "Output: []",
        "",
        "**Example 3:**",
        "",
        "",
        "",
        "Input: digits = \"2\"",
        "",
        "Output: [\"a\",\"b\",\"c\"]",
        "",
        " ",
        "",
        "",
        "",
        "**Constraints:**",
        "",
        "",
        "",
        "0 <= digits.length <= 4",
        "",
        "digits[i] is a digit in the range ['2', '9']."
      ]
    },
    {
      "cell_type": "markdown",
      "metadata": {},
      "source": [
        "## Solution Explanation\n",
        "This problem is asking us to generate all possible letter combinations from a given string of digits, where each digit maps to a set of letters as on a telephone keypad.",
        "",
        "The approach I'll use is a backtracking algorithm, which is a type of recursive algorithm that builds candidates for the solution incrementally and abandons a candidate (\"backtracks\") as soon as it determines the candidate cannot lead to a valid solution.",
        "",
        "Here's the step-by-step approach:",
        "1. Create a mapping from digits to their corresponding letters.",
        "2. If the input string is empty, return an empty list.",
        "3. Use a recursive helper function to build all possible combinations:",
        "* The function takes the current combination built so far and the index of the next digit to process.",
        "* For each letter corresponding to the current digit, append it to the current combination and recursively call the function for the next digit.",
        "* When we've processed all digits (index reaches the length of the input), add the current combination to our result.",
        "4. Return the list of all combinations.",
        "",
        "This approach ensures we explore all possible combinations of letters."
      ]
    },
    {
      "cell_type": "code",
      "metadata": {},
      "source": [
        "def letterCombinations(digits: str) -> list[str]:",
        "    # If the input is empty, return an empty list",
        "    if not digits:",
        "        return []",
        "    ",
        "    # Mapping of digits to letters",
        "    phone_map = {",
        "        '2': 'abc',",
        "        '3': 'def',",
        "        '4': 'ghi',",
        "        '5': 'jkl',",
        "        '6': 'mno',",
        "        '7': 'pqrs',",
        "        '8': 'tuv',",
        "        '9': 'wxyz'",
        "    }",
        "    ",
        "    result = []",
        "    ",
        "    def backtrack(combination, next_digits):",
        "        # If there are no more digits to process, add the combination to our result",
        "        if not next_digits:",
        "            result.append(combination)",
        "            return",
        "        ",
        "        # Get the letters corresponding to the current digit",
        "        current_digit = next_digits[0]",
        "        letters = phone_map[current_digit]",
        "        ",
        "        # Recursively build combinations for each letter",
        "        for letter in letters:",
        "            backtrack(combination + letter, next_digits[1:])",
        "    ",
        "    # Start the backtracking process",
        "    backtrack(\"\", digits)",
        "    ",
        "    return result",
        ""
      ],
      "execution_count": null,
      "outputs": []
    },
    {
      "cell_type": "markdown",
      "metadata": {},
      "source": [
        "## Time and Space Complexity\n",
        "* *Time Complexity**: O(4^N * N), where N is the length of the input string.",
        "* In the worst case, each digit maps to 4 letters (like '7' and '9').",
        "* For each digit, we have to explore all possible combinations with the previous digits.",
        "* The total number of combinations is at most 4^N.",
        "* Each combination requires O(N) time to build (concatenating strings).",
        "* *Space Complexity**: O(N), where N is the length of the input string.",
        "* The recursion stack can go as deep as N levels.",
        "* We also need to store the final result, which contains all combinations, but this is part of the output and not counted in the space complexity analysis of the algorithm itself.",
        "* The phone_map dictionary uses constant space."
      ]
    },
    {
      "cell_type": "markdown",
      "metadata": {},
      "source": [
        "## Test Cases\n"
      ]
    },
    {
      "cell_type": "code",
      "metadata": {},
      "source": [
        "def test_letter_combinations():",
        "    # Test case 1: Example from the problem",
        "    assert sorted(letterCombinations(\"23\")) == sorted([\"ad\", \"ae\", \"af\", \"bd\", \"be\", \"bf\", \"cd\", \"ce\", \"cf\"])",
        "    ",
        "    # Test case 2: Empty input",
        "    assert letterCombinations(\"\") == []",
        "    ",
        "    # Test case 3: Single digit",
        "    assert sorted(letterCombinations(\"2\")) == sorted([\"a\", \"b\", \"c\"])",
        "    ",
        "    # Test case 4: Multiple digits with some having 4 letters",
        "    assert len(letterCombinations(\"79\")) == 4 * 4  # 7: pqrs, 9: wxyz",
        "    ",
        "    # Test case 5: Maximum input length (4 digits)",
        "    assert len(letterCombinations(\"7294\")) == 4 * 3 * 3 * 3  # 7: pqrs, 2: abc, 9: wxyz, 4: ghi",
        "    ",
        "    print(\"All test cases passed!\")",
        "",
        "# Run the tests",
        "test_letter_combinations()",
        ""
      ],
      "execution_count": null,
      "outputs": []
    }
  ],
  "metadata": {
    "kernelspec": {
      "display_name": "Python 3",
      "language": "python",
      "name": "python3"
    },
    "language_info": {
      "codemirror_mode": {
        "name": "ipython",
        "version": 3
      },
      "file_extension": ".py",
      "mimetype": "text/x-python",
      "name": "python",
      "nbconvert_exporter": "python",
      "pygments_lexer": "ipython3",
      "version": "3.11.9"
    }
  },
  "nbformat": 4,
  "nbformat_minor": 5
}