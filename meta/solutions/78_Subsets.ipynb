{
  "cells": [
    {
      "cell_type": "markdown",
      "metadata": {},
      "source": [
        "# 78. Subsets"
      ]
    },
    {
      "cell_type": "markdown",
      "metadata": {},
      "source": [
        "Given an integer array nums of unique elements, return all possible subsets (the power set).",
        "",
        "",
        "",
        "The solution set must not contain duplicate subsets. Return the solution in any order.",
        "",
        "",
        "",
        " ",
        "",
        "",
        "",
        "**Example 1:**",
        "",
        "",
        "",
        "Input: nums = [1,2,3]",
        "",
        "Output: [[],[1],[2],[1,2],[3],[1,3],[2,3],[1,2,3]]",
        "",
        "**Example 2:**",
        "",
        "",
        "",
        "Input: nums = [0]",
        "",
        "Output: [[],[0]]",
        "",
        " ",
        "",
        "",
        "",
        "**Constraints:**",
        "",
        "",
        "",
        "1 <= nums.length <= 10",
        "",
        "-10 <= nums[i] <= 10",
        "",
        "All the numbers of nums are unique."
      ]
    },
    {
      "cell_type": "markdown",
      "metadata": {},
      "source": [
        "## Solution Explanation\n",
        "This problem asks us to find all possible subsets of a given array. This is a classic backtracking problem, but it can also be solved using other approaches.",
        "",
        "I'll present two approaches:",
        "",
        "1. **Backtracking**: We can use a recursive approach where for each element, we have two choices: either include it in the current subset or exclude it. This naturally leads to a binary tree of decisions, where each path from the root to a leaf represents a unique subset.",
        "",
        "2. **Iterative**: We can also solve this iteratively by starting with an empty set and then for each number in the array, we add it to all existing subsets to create new subsets.",
        "",
        "For clarity, I'll implement the backtracking approach as it's more intuitive for this problem.",
        "",
        "The key insight is that for each element in the array, we have two choices:",
        "* Include the element in the current subset",
        "* Exclude the element from the current subset",
        "",
        "By exploring all these choices recursively, we can generate all possible subsets."
      ]
    },
    {
      "cell_type": "code",
      "metadata": {},
      "source": [
        "def subsets(nums):",
        "    result = []",
        "    ",
        "    def backtrack(start, current):",
        "        # Add the current subset to the result",
        "        result.append(current[:])",
        "        ",
        "        # Explore all possible elements to add to the current subset",
        "        for i in range(start, len(nums)):",
        "            # Include nums[i] in the current subset",
        "            current.append(nums[i])",
        "            # Recursively generate all subsets that include nums[i]",
        "            backtrack(i + 1, current)",
        "            # Backtrack: remove nums[i] to explore other possibilities",
        "            current.pop()",
        "    ",
        "    # Start with an empty subset",
        "    backtrack(0, [])",
        "    return result",
        ""
      ],
      "execution_count": null,
      "outputs": []
    },
    {
      "cell_type": "markdown",
      "metadata": {},
      "source": [
        "## Time and Space Complexity\n",
        "* *Time Complexity**: O(n * 2^n)",
        "* There are 2^n possible subsets for an array of length n (each element can either be included or excluded).",
        "* For each subset, we might need O(n) time to copy the current subset to the result.",
        "* Therefore, the overall time complexity is O(n * 2^n).",
        "* *Space Complexity**: O(n * 2^n)",
        "* We need to store all 2^n subsets.",
        "* Each subset can have up to n elements.",
        "* The recursion stack will have a maximum depth of n.",
        "* Therefore, the overall space complexity is O(n * 2^n)."
      ]
    },
    {
      "cell_type": "markdown",
      "metadata": {},
      "source": [
        "## Test Cases\n"
      ]
    },
    {
      "cell_type": "code",
      "metadata": {},
      "source": [
        "def test_subsets():",
        "    # Test case 1: Example from the problem",
        "    nums1 = [1, 2, 3]",
        "    result1 = subsets(nums1)",
        "    expected1 = [[], [1], [1, 2], [1, 2, 3], [1, 3], [2], [2, 3], [3]]",
        "    assert sorted([sorted(subset) for subset in result1]) == sorted([sorted(subset) for subset in expected1]), f\"Test case 1 failed: {result1}\"",
        "    ",
        "    # Test case 2: Example from the problem",
        "    nums2 = [0]",
        "    result2 = subsets(nums2)",
        "    expected2 = [[], [0]]",
        "    assert sorted([sorted(subset) for subset in result2]) == sorted([sorted(subset) for subset in expected2]), f\"Test case 2 failed: {result2}\"",
        "    ",
        "    # Test case 3: Empty array",
        "    nums3 = []",
        "    result3 = subsets(nums3)",
        "    expected3 = [[]]  # Only the empty subset",
        "    assert result3 == expected3, f\"Test case 3 failed: {result3}\"",
        "    ",
        "    # Test case 4: Array with negative numbers",
        "    nums4 = [-1, -2, 3]",
        "    result4 = subsets(nums4)",
        "    expected4 = [[], [-1], [-1, -2], [-1, -2, 3], [-1, 3], [-2], [-2, 3], [3]]",
        "    assert sorted([sorted(subset) for subset in result4]) == sorted([sorted(subset) for subset in expected4]), f\"Test case 4 failed: {result4}\"",
        "    ",
        "    print(\"All test cases passed!\")",
        "",
        "# Run the tests",
        "test_subsets()",
        ""
      ],
      "execution_count": null,
      "outputs": []
    }
  ],
  "metadata": {
    "kernelspec": {
      "display_name": "Python 3",
      "language": "python",
      "name": "python3"
    },
    "language_info": {
      "codemirror_mode": {
        "name": "ipython",
        "version": 3
      },
      "file_extension": ".py",
      "mimetype": "text/x-python",
      "name": "python",
      "nbconvert_exporter": "python",
      "pygments_lexer": "ipython3",
      "version": "3.11.9"
    }
  },
  "nbformat": 4,
  "nbformat_minor": 5
}