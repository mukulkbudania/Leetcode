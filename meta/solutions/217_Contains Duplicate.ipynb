{
  "cells": [
    {
      "cell_type": "markdown",
      "metadata": {},
      "source": [
        "# 217. Contains Duplicate"
      ]
    },
    {
      "cell_type": "markdown",
      "metadata": {},
      "source": [
        "Given an integer array nums, return true if any value appears at least twice in the array, and return false if every element is distinct.",
        "",
        "",
        "",
        " ",
        "",
        "",
        "",
        "**Example 1:**",
        "",
        "",
        "",
        "Input: nums = [1,2,3,1]",
        "",
        "",
        "",
        "Output: true",
        "",
        "",
        "",
        "Explanation:",
        "",
        "",
        "",
        "The element 1 occurs at the indices 0 and 3.",
        "",
        "",
        "",
        "**Example 2:**",
        "",
        "",
        "",
        "Input: nums = [1,2,3,4]",
        "",
        "",
        "",
        "Output: false",
        "",
        "",
        "",
        "Explanation:",
        "",
        "",
        "",
        "All elements are distinct.",
        "",
        "",
        "",
        "**Example 3:**",
        "",
        "",
        "",
        "Input: nums = [1,1,1,3,3,4,3,2,4,2]",
        "",
        "",
        "",
        "Output: true",
        "",
        "",
        "",
        " ",
        "",
        "",
        "",
        "**Constraints:**",
        "",
        "",
        "",
        "1 <= nums.length <= 105",
        "",
        "-109 <= nums[i] <= 109"
      ]
    },
    {
      "cell_type": "markdown",
      "metadata": {},
      "source": [
        "## Solution Explanation\n",
        "To solve this problem, we need to determine if any value appears at least twice in the array. There are several approaches we can take:",
        "",
        "1. **Brute Force**: Compare each element with every other element. This would be O(n\u00b2) time complexity.",
        "2. **Sorting**: Sort the array and check adjacent elements. This would be O(n log n) time complexity.",
        "3. **Hash Set**: Use a hash set to track seen elements. This would be O(n) time complexity.",
        "",
        "The most efficient approach is using a hash set. We can iterate through the array once, and for each element:",
        "* If the element is already in the hash set, we've found a duplicate and can return true.",
        "* Otherwise, we add the element to the hash set.",
        "",
        "If we finish iterating without finding any duplicates, we return false."
      ]
    },
    {
      "cell_type": "code",
      "metadata": {},
      "source": [
        "def containsDuplicate(nums):",
        "    \"\"\"",
        "    :type nums: List[int]",
        "    :rtype: bool",
        "    \"\"\"",
        "    seen = set()",
        "    ",
        "    for num in nums:",
        "        if num in seen:",
        "            return True",
        "        seen.add(num)",
        "    ",
        "    return False",
        ""
      ],
      "execution_count": null,
      "outputs": []
    },
    {
      "cell_type": "markdown",
      "metadata": {},
      "source": [
        "## Time and Space Complexity\n",
        "* *Time Complexity**: O(n), where n is the length of the input array. We iterate through the array once, and each lookup and insertion operation in a hash set is O(1) on average.",
        "* *Space Complexity**: O(n) in the worst case, where all elements are distinct and we need to store all of them in the hash set. If there are duplicates, we might use less space as we return early."
      ]
    },
    {
      "cell_type": "markdown",
      "metadata": {},
      "source": [
        "## Test Cases\n"
      ]
    },
    {
      "cell_type": "code",
      "metadata": {},
      "source": [
        "def test_contains_duplicate():",
        "    # Test case 1: Array with duplicates",
        "    assert containsDuplicate([1, 2, 3, 1]) == True",
        "    ",
        "    # Test case 2: Array without duplicates",
        "    assert containsDuplicate([1, 2, 3, 4]) == False",
        "    ",
        "    # Test case 3: Array with multiple duplicates",
        "    assert containsDuplicate([1, 1, 1, 3, 3, 4, 3, 2, 4, 2]) == True",
        "    ",
        "    # Test case 4: Empty array (though problem states length >= 1)",
        "    assert containsDuplicate([]) == False",
        "    ",
        "    # Test case 5: Array with a single element",
        "    assert containsDuplicate([1]) == False",
        "    ",
        "    # Test case 6: Array with negative numbers",
        "    assert containsDuplicate([-1, -2, -3, -1]) == True",
        "    ",
        "    # Test case 7: Array with large numbers",
        "    assert containsDuplicate([10**9, 10**9]) == True",
        "    ",
        "    print(\"All test cases passed!\")",
        "",
        "# Run the tests",
        "test_contains_duplicate()",
        ""
      ],
      "execution_count": null,
      "outputs": []
    }
  ],
  "metadata": {
    "kernelspec": {
      "display_name": "Python 3",
      "language": "python",
      "name": "python3"
    },
    "language_info": {
      "codemirror_mode": {
        "name": "ipython",
        "version": 3
      },
      "file_extension": ".py",
      "mimetype": "text/x-python",
      "name": "python",
      "nbconvert_exporter": "python",
      "pygments_lexer": "ipython3",
      "version": "3.11.9"
    }
  },
  "nbformat": 4,
  "nbformat_minor": 5
}