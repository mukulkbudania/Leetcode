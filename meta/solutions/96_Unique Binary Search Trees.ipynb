{
  "cells": [
    {
      "cell_type": "markdown",
      "metadata": {},
      "source": [
        "# 96. Unique Binary Search Trees"
      ]
    },
    {
      "cell_type": "markdown",
      "metadata": {},
      "source": [
        "Given an integer n, return the number of structurally unique BST's (binary search trees) which has exactly n nodes of unique values from 1 to n.",
        "",
        "",
        "",
        " ",
        "",
        "",
        "",
        "**Example 1:**",
        "",
        "",
        "",
        "",
        "",
        "Input: n = 3",
        "",
        "Output: 5",
        "",
        "**Example 2:**",
        "",
        "",
        "",
        "Input: n = 1",
        "",
        "Output: 1",
        "",
        " ",
        "",
        "",
        "",
        "**Constraints:**",
        "",
        "",
        "",
        "1 <= n <= 19"
      ]
    },
    {
      "cell_type": "markdown",
      "metadata": {},
      "source": [
        "## Solution Explanation\n",
        "This problem asks for the number of structurally unique Binary Search Trees (BSTs) that can be formed with n nodes having values from 1 to n.",
        "",
        "The key insight is to use dynamic programming with the following approach:",
        "",
        "1. Let's define DP[i] as the number of unique BSTs that can be formed with i nodes.",
        "2. For a BST with i nodes, we can choose any value from 1 to i as the root.",
        "3. If we choose j as the root (1 \u2264 j \u2264 i):",
        "* Values 1 to j-1 will form the left subtree",
        "* Values j+1 to i will form the right subtree",
        "4. The number of unique BSTs with j as root = DP[j-1] * DP[i-j]",
        "* DP[j-1] represents the number of unique left subtrees",
        "* DP[i-j] represents the number of unique right subtrees",
        "5. Total number of unique BSTs for i nodes = sum of unique BSTs with each possible root",
        "",
        "This is actually the Catalan number sequence, which has a mathematical formula, but the dynamic programming approach is more intuitive."
      ]
    },
    {
      "cell_type": "code",
      "metadata": {},
      "source": [
        "def numTrees(n: int) -> int:",
        "    # Initialize DP array",
        "    dp = [0] * (n + 1)",
        "    ",
        "    # Base cases",
        "    dp[0] = 1  # Empty tree is considered as one valid BST",
        "    dp[1] = 1  # Tree with one node has only one structure",
        "    ",
        "    # Fill the DP array",
        "    for i in range(2, n + 1):",
        "        for j in range(1, i + 1):",
        "            # j is the root",
        "            # j-1 nodes for left subtree, i-j nodes for right subtree",
        "            dp[i] += dp[j - 1] * dp[i - j]",
        "    ",
        "    return dp[n]",
        ""
      ],
      "execution_count": null,
      "outputs": []
    },
    {
      "cell_type": "markdown",
      "metadata": {},
      "source": [
        "## Time and Space Complexity\n",
        "* *Time Complexity**: O(n\u00b2)",
        "* We have two nested loops: the outer loop runs from 2 to n, and the inner loop runs from 1 to i.",
        "* In the worst case, this gives us a time complexity of O(1 + 2 + ... + n) = O(n\u00b2).",
        "* *Space Complexity**: O(n)",
        "* We use a DP array of size n+1 to store the intermediate results.",
        "* No other significant space is used, so the space complexity is O(n)."
      ]
    },
    {
      "cell_type": "markdown",
      "metadata": {},
      "source": [
        "## Test Cases\n"
      ]
    },
    {
      "cell_type": "code",
      "metadata": {},
      "source": [
        "def test_numTrees():",
        "    # Test case 1: n = 1",
        "    assert numTrees(1) == 1, \"Test case 1 failed\"",
        "    ",
        "    # Test case 2: n = 2",
        "    # With 2 nodes, we can have:",
        "    # 1 as root with 2 in right subtree",
        "    # 2 as root with 1 in left subtree",
        "    assert numTrees(2) == 2, \"Test case 2 failed\"",
        "    ",
        "    # Test case 3: n = 3",
        "    # This should return 5 as shown in the example",
        "    assert numTrees(3) == 5, \"Test case 3 failed\"",
        "    ",
        "    # Test case 4: n = 4",
        "    # This should return 14",
        "    assert numTrees(4) == 14, \"Test case 4 failed\"",
        "    ",
        "    # Test case 5: n = 5",
        "    # This should return 42",
        "    assert numTrees(5) == 42, \"Test case 5 failed\"",
        "    ",
        "    # Test case 6: Edge case - maximum constraint",
        "    # This is to ensure our solution works for the maximum constraint",
        "    assert numTrees(19) > 0, \"Test case 6 failed\"",
        "    ",
        "    print(\"All test cases passed!\")",
        "",
        "# Run the tests",
        "test_numTrees()",
        ""
      ],
      "execution_count": null,
      "outputs": []
    }
  ],
  "metadata": {
    "kernelspec": {
      "display_name": "Python 3",
      "language": "python",
      "name": "python3"
    },
    "language_info": {
      "codemirror_mode": {
        "name": "ipython",
        "version": 3
      },
      "file_extension": ".py",
      "mimetype": "text/x-python",
      "name": "python",
      "nbconvert_exporter": "python",
      "pygments_lexer": "ipython3",
      "version": "3.11.9"
    }
  },
  "nbformat": 4,
  "nbformat_minor": 5
}