{
  "cells": [
    {
      "cell_type": "markdown",
      "metadata": {},
      "source": [
        "# 790. Domino and Tromino Tiling"
      ]
    },
    {
      "cell_type": "markdown",
      "metadata": {},
      "source": [
        "You have two types of tiles: a 2 x 1 domino shape and a tromino shape. You may rotate these shapes.",
        "",
        "",
        "",
        "",
        "",
        "Given an integer n, return the number of ways to tile an 2 x n board. Since the answer may be very large, return it modulo 109 + 7.",
        "",
        "",
        "",
        "In a tiling, every square must be covered by a tile. Two tilings are different if and only if there are two 4-directionally adjacent cells on the board such that exactly one of the tilings has both squares occupied by a tile.",
        "",
        "",
        "",
        " ",
        "",
        "",
        "",
        "**Example 1:**",
        "",
        "",
        "",
        "",
        "",
        "Input: n = 3",
        "",
        "Output: 5",
        "",
        "Explanation: The five different ways are shown above.",
        "",
        "**Example 2:**",
        "",
        "",
        "",
        "Input: n = 1",
        "",
        "Output: 1",
        "",
        " ",
        "",
        "",
        "",
        "**Constraints:**",
        "",
        "",
        "",
        "1 <= n <= 1000",
        "",
        ""
      ]
    },
    {
      "cell_type": "markdown",
      "metadata": {},
      "source": [
        "## Solution Explanation\n",
        "This problem is about counting the number of ways to tile a 2\u00d7n board using dominoes (2\u00d71) and trominoes. Let's define our state:",
        "* Let `dp[i]` be the number of ways to tile a 2\u00d7i board.",
        "",
        "For the recurrence relation, we need to consider different ways to place tiles:",
        "",
        "1. If we place a vertical domino at position i, we're left with a 2\u00d7(i-1) board to solve.",
        "2. If we place two horizontal dominoes at position i, we're left with a 2\u00d7(i-2) board.",
        "3. For trominoes, we need to consider special cases where they create patterns that extend beyond simple recurrence.",
        "",
        "After analyzing the pattern, we can derive the recurrence relation:",
        "* `dp[i] = dp[i-1] + dp[i-2] + 2 * (dp[i-3] + ... + dp[0])`",
        "",
        "This can be simplified to:",
        "* `dp[i] = 2 * dp[i-1] + dp[i-3]`",
        "",
        "The base cases are:",
        "* `dp[0] = 1` (empty board has one way to tile - do nothing)",
        "* `dp[1] = 1` (only one way to tile a 2\u00d71 board - with a vertical domino)",
        "* `dp[2] = 2` (two ways to tile a 2\u00d72 board - two vertical dominoes or two horizontal dominoes)"
      ]
    },
    {
      "cell_type": "code",
      "metadata": {},
      "source": [
        "def numTilings(n: int) -> int:",
        "    MOD = 10**9 + 7",
        "    ",
        "    # Handle base cases",
        "    if n <= 2:",
        "        return n",
        "    ",
        "    # Initialize dp array",
        "    dp = [0] * (n + 1)",
        "    dp[0] = 1",
        "    dp[1] = 1",
        "    dp[2] = 2",
        "    ",
        "    # Fill dp array using the recurrence relation",
        "    for i in range(3, n + 1):",
        "        dp[i] = (2 * dp[i-1] + dp[i-3]) % MOD",
        "    ",
        "    return dp[n]",
        ""
      ],
      "execution_count": null,
      "outputs": []
    },
    {
      "cell_type": "markdown",
      "metadata": {},
      "source": [
        "## Time and Space Complexity\n",
        "* *Time Complexity**: O(n)",
        "* We iterate from 3 to n, performing constant-time operations for each index.",
        "* *Space Complexity**: O(n)",
        "* We use an array of size n+1 to store the dp values.",
        "",
        "We can optimize the space complexity to O(1) by only keeping track of the last three values, but the current implementation is clearer for understanding the solution."
      ]
    },
    {
      "cell_type": "markdown",
      "metadata": {},
      "source": [
        "## Test Cases\n"
      ]
    },
    {
      "cell_type": "code",
      "metadata": {},
      "source": [
        "def test_numTilings():",
        "    # Test case 1: Example from problem statement",
        "    assert numTilings(3) == 5, \"Failed for n=3\"",
        "    ",
        "    # Test case 2: Example from problem statement",
        "    assert numTilings(1) == 1, \"Failed for n=1\"",
        "    ",
        "    # Test case 3: Base case",
        "    assert numTilings(2) == 2, \"Failed for n=2\"",
        "    ",
        "    # Test case 4: Larger input",
        "    assert numTilings(4) == 11, \"Failed for n=4\"",
        "    ",
        "    # Test case 5: Larger input",
        "    assert numTilings(5) == 24, \"Failed for n=5\"",
        "    ",
        "    # Test case 6: Verify modulo works for large inputs",
        "    large_n = 30",
        "    result = numTilings(large_n)",
        "    assert result < 10**9 + 7, f\"Failed for n={large_n}, result exceeds modulo\"",
        "    ",
        "    print(\"All test cases passed!\")",
        "",
        "# Run the tests",
        "test_numTilings()",
        ""
      ],
      "execution_count": null,
      "outputs": []
    }
  ],
  "metadata": {
    "kernelspec": {
      "display_name": "Python 3",
      "language": "python",
      "name": "python3"
    },
    "language_info": {
      "codemirror_mode": {
        "name": "ipython",
        "version": 3
      },
      "file_extension": ".py",
      "mimetype": "text/x-python",
      "name": "python",
      "nbconvert_exporter": "python",
      "pygments_lexer": "ipython3",
      "version": "3.11.9"
    }
  },
  "nbformat": 4,
  "nbformat_minor": 5
}