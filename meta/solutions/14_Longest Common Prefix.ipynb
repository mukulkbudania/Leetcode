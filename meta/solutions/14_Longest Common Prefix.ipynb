{
  "cells": [
    {
      "cell_type": "markdown",
      "metadata": {},
      "source": [
        "# 14. Longest Common Prefix"
      ]
    },
    {
      "cell_type": "markdown",
      "metadata": {},
      "source": [
        "Write a function to find the longest common prefix string amongst an array of strings.",
        "",
        "",
        "",
        "If there is no common prefix, return an empty string \"\".",
        "",
        "",
        "",
        " ",
        "",
        "",
        "",
        "**Example 1:**",
        "",
        "",
        "",
        "Input: strs = [\"flower\",\"flow\",\"flight\"]",
        "",
        "Output: \"fl\"",
        "",
        "**Example 2:**",
        "",
        "",
        "",
        "Input: strs = [\"dog\",\"racecar\",\"car\"]",
        "",
        "Output: \"\"",
        "",
        "Explanation: There is no common prefix among the input strings.",
        "",
        " ",
        "",
        "",
        "",
        "**Constraints:**",
        "",
        "",
        "",
        "1 <= strs.length <= 200",
        "",
        "0 <= strs[i].length <= 200",
        "",
        "strs[i] consists of only lowercase English letters if it is non-empty.",
        "",
        ""
      ]
    },
    {
      "cell_type": "markdown",
      "metadata": {},
      "source": [
        "## Solution Explanation\n",
        "To find the longest common prefix among an array of strings, we can use a character-by-character comparison approach. The idea is to:",
        "",
        "1. Take the first string as a reference.",
        "2. Iterate through each character of the first string.",
        "3. For each character, check if it exists at the same position in all other strings.",
        "4. If a mismatch is found or we reach the end of any string, return the prefix found so far.",
        "",
        "This approach is efficient because we only need to scan each string once, and we can stop early if we find a mismatch or reach the end of any string."
      ]
    },
    {
      "cell_type": "code",
      "metadata": {},
      "source": [
        "def longestCommonPrefix(strs):",
        "    \"\"\"",
        "    Find the longest common prefix string amongst an array of strings.",
        "    ",
        "    Args:",
        "        strs: List[str] - Array of strings",
        "        ",
        "    Returns:",
        "        str - Longest common prefix",
        "    \"\"\"",
        "    # Handle edge cases",
        "    if not strs:",
        "        return \"\"",
        "    ",
        "    if len(strs) == 1:",
        "        return strs[0]",
        "    ",
        "    # Take the first string as reference",
        "    first_str = strs[0]",
        "    ",
        "    # Iterate through each character of the first string",
        "    for i in range(len(first_str)):",
        "        # Check if this character exists at the same position in all other strings",
        "        for string in strs[1:]:",
        "            # If we've reached the end of the current string or found a mismatch",
        "            if i >= len(string) or string[i] != first_str[i]:",
        "                return first_str[:i]",
        "    ",
        "    # If we've gone through all characters in the first string without returning,",
        "    # it means the first string itself is the common prefix",
        "    return first_str",
        ""
      ],
      "execution_count": null,
      "outputs": []
    },
    {
      "cell_type": "markdown",
      "metadata": {},
      "source": [
        "## Time and Space Complexity\n",
        "* *Time Complexity**: O(S), where S is the sum of all characters in all strings. In the worst case, we might need to compare each character of each string. If there are n strings and m is the length of the shortest string, then the time complexity would be O(n*m), but since we're iterating through all characters, it's more accurate to say O(S).",
        "* *Space Complexity**: O(1), as we only use a constant amount of extra space regardless of the input size. We're not creating any data structures that grow with the input size; we're just returning a substring of the first string."
      ]
    },
    {
      "cell_type": "markdown",
      "metadata": {},
      "source": [
        "## Test Cases\n"
      ]
    },
    {
      "cell_type": "code",
      "metadata": {},
      "source": [
        "def test_longest_common_prefix():",
        "    # Test case 1: Common prefix exists",
        "    assert longestCommonPrefix([\"flower\", \"flow\", \"flight\"]) == \"fl\"",
        "    ",
        "    # Test case 2: No common prefix",
        "    assert longestCommonPrefix([\"dog\", \"racecar\", \"car\"]) == \"\"",
        "    ",
        "    # Test case 3: Empty array",
        "    assert longestCommonPrefix([]) == \"\"",
        "    ",
        "    # Test case 4: Single string",
        "    assert longestCommonPrefix([\"hello\"]) == \"hello\"",
        "    ",
        "    # Test case 5: One empty string",
        "    assert longestCommonPrefix([\"\", \"b\"]) == \"\"",
        "    ",
        "    # Test case 6: All identical strings",
        "    assert longestCommonPrefix([\"abc\", \"abc\", \"abc\"]) == \"abc\"",
        "    ",
        "    # Test case 7: First string is the prefix of all others",
        "    assert longestCommonPrefix([\"a\", \"ab\", \"abc\"]) == \"a\"",
        "    ",
        "    # Test case 8: Strings with different lengths but common prefix",
        "    assert longestCommonPrefix([\"abcdefg\", \"abcde\", \"abc\"]) == \"abc\"",
        "    ",
        "    print(\"All test cases passed!\")",
        "",
        "# Run the tests",
        "test_longest_common_prefix()",
        ""
      ],
      "execution_count": null,
      "outputs": []
    }
  ],
  "metadata": {
    "kernelspec": {
      "display_name": "Python 3",
      "language": "python",
      "name": "python3"
    },
    "language_info": {
      "codemirror_mode": {
        "name": "ipython",
        "version": 3
      },
      "file_extension": ".py",
      "mimetype": "text/x-python",
      "name": "python",
      "nbconvert_exporter": "python",
      "pygments_lexer": "ipython3",
      "version": "3.11.9"
    }
  },
  "nbformat": 4,
  "nbformat_minor": 5
}