{
  "cells": [
    {
      "cell_type": "markdown",
      "metadata": {},
      "source": [
        "# 41. First Missing Positive"
      ]
    },
    {
      "cell_type": "markdown",
      "metadata": {},
      "source": [
        "Given an unsorted integer array nums. Return the smallest positive integer that is not present in nums.",
        "",
        "",
        "",
        "You must implement an algorithm that runs in O(n) time and uses O(1) auxiliary space.",
        "",
        "",
        "",
        " ",
        "",
        "",
        "",
        "**Example 1:**",
        "",
        "",
        "",
        "Input: nums = [1,2,0]",
        "",
        "Output: 3",
        "",
        "Explanation: The numbers in the range [1,2] are all in the array.",
        "",
        "**Example 2:**",
        "",
        "",
        "",
        "Input: nums = [3,4,-1,1]",
        "",
        "Output: 2",
        "",
        "Explanation: 1 is in the array but 2 is missing.",
        "",
        "**Example 3:**",
        "",
        "",
        "",
        "Input: nums = [7,8,9,11,12]",
        "",
        "Output: 1",
        "",
        "Explanation: The smallest positive integer 1 is missing.",
        "",
        " ",
        "",
        "",
        "",
        "**Constraints:**",
        "",
        "",
        "",
        "1 <= nums.length <= 105",
        "",
        "-231 <= nums[i] <= 231 - 1"
      ]
    },
    {
      "cell_type": "markdown",
      "metadata": {},
      "source": [
        "## Solution Explanation\n",
        "This problem asks us to find the smallest positive integer that is not present in the array. The key constraint is that we need to solve it in O(n) time with O(1) auxiliary space.",
        "",
        "The approach I'll use is based on the fact that the answer must be between 1 and n+1 (where n is the length of the array). This is because if all numbers from 1 to n are present in the array, then the answer is n+1.",
        "",
        "The algorithm works as follows:",
        "1. First, we'll modify the array to mark the presence of positive integers within the range [1, n].",
        "2. For each number x in the array that is within the range [1, n], we'll mark its presence by negating the value at index (x-1).",
        "3. After this marking process, the first index i where nums[i] is positive indicates that i+1 is missing.",
        "4. If all values are negative, it means all numbers from 1 to n are present, so the answer is n+1.",
        "",
        "This approach satisfies the O(n) time and O(1) space requirements because we're only using the input array for our markings."
      ]
    },
    {
      "cell_type": "code",
      "metadata": {},
      "source": [
        "def firstMissingPositive(nums):",
        "    n = len(nums)",
        "    ",
        "    # Step 1: Replace negative numbers, zeros, and numbers larger than n with n+1",
        "    # This ensures they don't interfere with our marking process",
        "    for i in range(n):",
        "        if nums[i] <= 0 or nums[i] > n:",
        "            nums[i] = n + 1",
        "    ",
        "    # Step 2: Mark the presence of each number in the range [1, n]",
        "    for i in range(n):",
        "        num = abs(nums[i])",
        "        if num <= n:",
        "            # Mark the presence of num by negating the value at index (num-1)",
        "            # We use abs to handle the case where this position was already marked",
        "            nums[num - 1] = -abs(nums[num - 1])",
        "    ",
        "    # Step 3: Find the first missing positive integer",
        "    for i in range(n):",
        "        if nums[i] > 0:",
        "            return i + 1",
        "    ",
        "    # If all numbers from 1 to n are present, return n+1",
        "    return n + 1",
        ""
      ],
      "execution_count": null,
      "outputs": []
    },
    {
      "cell_type": "markdown",
      "metadata": {},
      "source": [
        "## Time and Space Complexity\n",
        "Time Complexity: O(n) where n is the length of the input array. We perform three passes through the array, each taking O(n) time.",
        "",
        "Space Complexity: O(1) as we only use a constant amount of extra space regardless of the input size. We modify the input array in-place without using any additional data structures that scale with the input size."
      ]
    },
    {
      "cell_type": "markdown",
      "metadata": {},
      "source": [
        "## Test Cases\n"
      ]
    },
    {
      "cell_type": "code",
      "metadata": {},
      "source": [
        "def test_first_missing_positive():",
        "    # Test case 1: Basic example",
        "    assert firstMissingPositive([1, 2, 0]) == 3",
        "    ",
        "    # Test case 2: Missing number in the middle",
        "    assert firstMissingPositive([3, 4, -1, 1]) == 2",
        "    ",
        "    # Test case 3: Missing the smallest positive integer",
        "    assert firstMissingPositive([7, 8, 9, 11, 12]) == 1",
        "    ",
        "    # Test case 4: Array with duplicates",
        "    assert firstMissingPositive([1, 1, 2, 2]) == 3",
        "    ",
        "    # Test case 5: Array with all negative numbers",
        "    assert firstMissingPositive([-1, -2, -3]) == 1",
        "    ",
        "    # Test case 6: Single element array",
        "    assert firstMissingPositive([1]) == 2",
        "    ",
        "    # Test case 7: Empty array (though problem states length is at least 1)",
        "    assert firstMissingPositive([]) == 1",
        "    ",
        "    # Test case 8: Array with large range of numbers",
        "    assert firstMissingPositive([2, 1, 0, 3, 4, 5, 6, 7, 8, 9, 10]) == 11",
        "    ",
        "    # Test case 9: Array with all numbers being the same",
        "    assert firstMissingPositive([5, 5, 5, 5]) == 1",
        "    ",
        "    print(\"All test cases passed!\")",
        "",
        "# Run the tests",
        "test_first_missing_positive()",
        ""
      ],
      "execution_count": null,
      "outputs": []
    }
  ],
  "metadata": {
    "kernelspec": {
      "display_name": "Python 3",
      "language": "python",
      "name": "python3"
    },
    "language_info": {
      "codemirror_mode": {
        "name": "ipython",
        "version": 3
      },
      "file_extension": ".py",
      "mimetype": "text/x-python",
      "name": "python",
      "nbconvert_exporter": "python",
      "pygments_lexer": "ipython3",
      "version": "3.11.9"
    }
  },
  "nbformat": 4,
  "nbformat_minor": 5
}