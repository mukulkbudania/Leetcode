{
  "cells": [
    {
      "cell_type": "markdown",
      "metadata": {},
      "source": [
        "# 561. Array Partition"
      ]
    },
    {
      "cell_type": "markdown",
      "metadata": {},
      "source": [
        "Given an integer array nums of 2n integers, group these integers into n pairs (a1, b1), (a2, b2), ..., (an, bn) such that the sum of min(ai, bi) for all i is maximized. Return the maximized sum.",
        "",
        "",
        "",
        " ",
        "",
        "",
        "",
        "**Example 1:**",
        "",
        "",
        "",
        "Input: nums = [1,4,3,2]",
        "",
        "Output: 4",
        "",
        "Explanation: All possible pairings (ignoring the ordering of elements) are:",
        "",
        "1. (1, 4), (2, 3) -> min(1, 4) + min(2, 3) = 1 + 2 = 3",
        "",
        "2. (1, 3), (2, 4) -> min(1, 3) + min(2, 4) = 1 + 2 = 3",
        "",
        "3. (1, 2), (3, 4) -> min(1, 2) + min(3, 4) = 1 + 3 = 4",
        "",
        "So the maximum possible sum is 4.",
        "",
        "**Example 2:**",
        "",
        "",
        "",
        "Input: nums = [6,2,6,5,1,2]",
        "",
        "Output: 9",
        "",
        "Explanation: The optimal pairing is (2, 1), (2, 5), (6, 6). min(2, 1) + min(2, 5) + min(6, 6) = 1 + 2 + 6 = 9.",
        "",
        " ",
        "",
        "",
        "",
        "**Constraints:**",
        "",
        "",
        "",
        "1 <= n <= 104",
        "",
        "nums.length == 2 * n",
        "",
        "-104 <= nums[i] <= 104"
      ]
    },
    {
      "cell_type": "markdown",
      "metadata": {},
      "source": [
        "## Solution Explanation\n",
        "To maximize the sum of min(ai, bi) for all pairs, we need to think about how to pair the numbers optimally.",
        "",
        "The key insight is that when we pair two numbers, we always take the minimum of the pair. So, to maximize the overall sum, we want to minimize the \"loss\" that occurs when we take the minimum of each pair.",
        "",
        "Consider what happens when we pair numbers:",
        "* If we pair the two smallest numbers together, we only \"lose\" one of them.",
        "* If we pair the smallest number with the largest number, we lose the largest number.",
        "",
        "This suggests that we should pair numbers that are close to each other to minimize the loss.",
        "",
        "The optimal strategy is to sort the array and then pair adjacent elements together. This way, we ensure that the difference between paired elements is minimized, which maximizes the sum of the minimums.",
        "",
        "For example, if we have [1,2,3,4], we pair (1,2) and (3,4), giving us min(1,2) + min(3,4) = 1 + 3 = 4."
      ]
    },
    {
      "cell_type": "code",
      "metadata": {},
      "source": [
        "def arrayPairSum(nums):",
        "    \"\"\"",
        "    :type nums: List[int]",
        "    :rtype: int",
        "    \"\"\"",
        "    # Sort the array",
        "    nums.sort()",
        "    ",
        "    # Sum up elements at even indices (0-indexed)",
        "    # This gives us the first element of each pair",
        "    total = 0",
        "    for i in range(0, len(nums), 2):",
        "        total += nums[i]",
        "    ",
        "    return total",
        ""
      ],
      "execution_count": null,
      "outputs": []
    },
    {
      "cell_type": "markdown",
      "metadata": {},
      "source": [
        "## Time and Space Complexity\n",
        "* *Time Complexity**: O(n log n), where n is the length of the input array. This is dominated by the sorting operation.",
        "* *Space Complexity**: O(1) if we don't count the space used for sorting (which depends on the implementation of the sorting algorithm). We only use a constant amount of extra space for the total variable and loop counter.",
        "",
        "If we consider the space used by the sorting algorithm, it would typically be O(log n) for the call stack in a merge sort or quicksort implementation."
      ]
    },
    {
      "cell_type": "markdown",
      "metadata": {},
      "source": [
        "## Test Cases\n"
      ]
    },
    {
      "cell_type": "code",
      "metadata": {},
      "source": [
        "def test_arrayPairSum():",
        "    # Test case 1: Example from the problem",
        "    assert arrayPairSum([1, 4, 3, 2]) == 4",
        "    ",
        "    # Test case 2: Another example from the problem",
        "    assert arrayPairSum([6, 2, 6, 5, 1, 2]) == 9",
        "    ",
        "    # Test case 3: All elements are the same",
        "    assert arrayPairSum([1, 1, 1, 1]) == 2",
        "    ",
        "    # Test case 4: Negative numbers",
        "    assert arrayPairSum([-1, -2, -3, -4]) == -6",
        "    ",
        "    # Test case 5: Mixed positive and negative",
        "    assert arrayPairSum([-1, 1, -2, 2]) == -1",
        "    ",
        "    # Test case 6: Single pair",
        "    assert arrayPairSum([3, 5]) == 3",
        "    ",
        "    # Test case 7: Larger test case",
        "    assert arrayPairSum([9, 8, 7, 6, 5, 4, 3, 2, 1, 0]) == 20",
        "    ",
        "    print(\"All test cases passed!\")",
        "",
        "# Run the tests",
        "test_arrayPairSum()",
        ""
      ],
      "execution_count": null,
      "outputs": []
    }
  ],
  "metadata": {
    "kernelspec": {
      "display_name": "Python 3",
      "language": "python",
      "name": "python3"
    },
    "language_info": {
      "codemirror_mode": {
        "name": "ipython",
        "version": 3
      },
      "file_extension": ".py",
      "mimetype": "text/x-python",
      "name": "python",
      "nbconvert_exporter": "python",
      "pygments_lexer": "ipython3",
      "version": "3.11.9"
    }
  },
  "nbformat": 4,
  "nbformat_minor": 5
}