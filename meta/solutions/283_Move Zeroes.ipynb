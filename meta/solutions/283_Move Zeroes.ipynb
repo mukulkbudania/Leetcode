{
  "cells": [
    {
      "cell_type": "markdown",
      "metadata": {},
      "source": [
        "# 283. Move Zeroes"
      ]
    },
    {
      "cell_type": "markdown",
      "metadata": {},
      "source": [
        "Given an integer array nums, move all 0's to the end of it while maintaining the relative order of the non-zero elements.",
        "",
        "",
        "",
        "Note that you must do this in-place without making a copy of the array.",
        "",
        "",
        "",
        " ",
        "",
        "",
        "",
        "**Example 1:**",
        "",
        "",
        "",
        "Input: nums = [0,1,0,3,12]",
        "",
        "Output: [1,3,12,0,0]",
        "",
        "**Example 2:**",
        "",
        "",
        "",
        "Input: nums = [0]",
        "",
        "Output: [0]",
        "",
        " ",
        "",
        "",
        "",
        "**Constraints:**",
        "",
        "",
        "",
        "1 <= nums.length <= 104",
        "",
        "-231 <= nums[i] <= 231 - 1",
        "",
        " ",
        "",
        "",
        "",
        "Follow up: Could you minimize the total number of operations done?"
      ]
    },
    {
      "cell_type": "markdown",
      "metadata": {},
      "source": [
        "## Solution Explanation\n",
        "This problem asks us to move all zeros to the end of the array while maintaining the relative order of non-zero elements. We need to do this in-place without creating a new array.",
        "",
        "The key insight is to use a two-pointer approach:",
        "1. Maintain a pointer `insertPos` that points to the position where the next non-zero element should be placed.",
        "2. Iterate through the array with another pointer `i`.",
        "3. When we encounter a non-zero element at position `i`, we place it at position `insertPos` and increment `insertPos`.",
        "4. After processing all elements, fill the remaining positions from `insertPos` to the end with zeros.",
        "",
        "This approach ensures that all non-zero elements maintain their relative order and all zeros are moved to the end."
      ]
    },
    {
      "cell_type": "code",
      "metadata": {},
      "source": [
        "def moveZeroes(nums):",
        "    \"\"\"",
        "    :type nums: List[int]",
        "    :rtype: None Do not return anything, modify nums in-place instead.",
        "    \"\"\"",
        "    # Position where the next non-zero element should be placed",
        "    insertPos = 0",
        "    ",
        "    # First pass: place all non-zero elements at the beginning",
        "    for i in range(len(nums)):",
        "        if nums[i] != 0:",
        "            nums[insertPos] = nums[i]",
        "            insertPos += 1",
        "    ",
        "    # Second pass: fill the remaining positions with zeros",
        "    while insertPos < len(nums):",
        "        nums[insertPos] = 0",
        "        insertPos += 1",
        ""
      ],
      "execution_count": null,
      "outputs": []
    },
    {
      "cell_type": "markdown",
      "metadata": {},
      "source": [
        "## Time and Space Complexity\n",
        "* *Time Complexity**: O(n), where n is the length of the array. We traverse the array twice: once to place non-zero elements and once to fill the remaining positions with zeros.",
        "* *Space Complexity**: O(1), as we are modifying the array in-place without using any extra space that scales with the input size. We only use a few variables regardless of the input size."
      ]
    },
    {
      "cell_type": "markdown",
      "metadata": {},
      "source": [
        "## Test Cases\n"
      ]
    },
    {
      "cell_type": "code",
      "metadata": {},
      "source": [
        "def test_moveZeroes():",
        "    # Test case 1: Standard case with zeros in the middle",
        "    nums1 = [0, 1, 0, 3, 12]",
        "    moveZeroes(nums1)",
        "    assert nums1 == [1, 3, 12, 0, 0], f\"Failed test case 1: {nums1}\"",
        "    ",
        "    # Test case 2: Array with a single zero",
        "    nums2 = [0]",
        "    moveZeroes(nums2)",
        "    assert nums2 == [0], f\"Failed test case 2: {nums2}\"",
        "    ",
        "    # Test case 3: Array with no zeros",
        "    nums3 = [1, 2, 3]",
        "    moveZeroes(nums3)",
        "    assert nums3 == [1, 2, 3], f\"Failed test case 3: {nums3}\"",
        "    ",
        "    # Test case 4: Array with all zeros",
        "    nums4 = [0, 0, 0]",
        "    moveZeroes(nums4)",
        "    assert nums4 == [0, 0, 0], f\"Failed test case 4: {nums4}\"",
        "    ",
        "    # Test case 5: Array with zeros at the beginning",
        "    nums5 = [0, 0, 1, 2, 3]",
        "    moveZeroes(nums5)",
        "    assert nums5 == [1, 2, 3, 0, 0], f\"Failed test case 5: {nums5}\"",
        "    ",
        "    # Test case 6: Array with zeros at the end",
        "    nums6 = [1, 2, 3, 0, 0]",
        "    moveZeroes(nums6)",
        "    assert nums6 == [1, 2, 3, 0, 0], f\"Failed test case 6: {nums6}\"",
        "    ",
        "    print(\"All test cases passed!\")",
        "",
        "test_moveZeroes()",
        ""
      ],
      "execution_count": null,
      "outputs": []
    }
  ],
  "metadata": {
    "kernelspec": {
      "display_name": "Python 3",
      "language": "python",
      "name": "python3"
    },
    "language_info": {
      "codemirror_mode": {
        "name": "ipython",
        "version": 3
      },
      "file_extension": ".py",
      "mimetype": "text/x-python",
      "name": "python",
      "nbconvert_exporter": "python",
      "pygments_lexer": "ipython3",
      "version": "3.11.9"
    }
  },
  "nbformat": 4,
  "nbformat_minor": 5
}