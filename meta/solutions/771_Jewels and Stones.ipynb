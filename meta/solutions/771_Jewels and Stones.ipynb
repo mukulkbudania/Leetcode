{
  "cells": [
    {
      "cell_type": "markdown",
      "metadata": {},
      "source": [
        "# 771. Jewels and Stones"
      ]
    },
    {
      "cell_type": "markdown",
      "metadata": {},
      "source": [
        "You're given strings jewels representing the types of stones that are jewels, and stones representing the stones you have. Each character in stones is a type of stone you have. You want to know how many of the stones you have are also jewels.",
        "",
        "",
        "",
        "Letters are case sensitive, so \"a\" is considered a different type of stone from \"A\".",
        "",
        "",
        "",
        " ",
        "",
        "",
        "",
        "**Example 1:**",
        "",
        "",
        "",
        "Input: jewels = \"aA\", stones = \"aAAbbbb\"",
        "",
        "Output: 3",
        "",
        "**Example 2:**",
        "",
        "",
        "",
        "Input: jewels = \"z\", stones = \"ZZ\"",
        "",
        "Output: 0",
        "",
        " ",
        "",
        "",
        "",
        "**Constraints:**",
        "",
        "",
        "",
        "1 <= jewels.length, stones.length <= 50",
        "",
        "jewels and stones consist of only English letters.",
        "",
        "All the characters of jewels are unique."
      ]
    },
    {
      "cell_type": "markdown",
      "metadata": {},
      "source": [
        "## Solution Explanation\n",
        "This problem asks us to count how many stones are jewels. A straightforward approach is to:",
        "",
        "1. Convert the jewels string into a set for O(1) lookups",
        "2. Iterate through each stone and check if it's in the jewels set",
        "3. Count the number of stones that are also jewels",
        "",
        "This approach is efficient because:",
        "* Set lookups are O(1) time complexity",
        "* We only need to iterate through each stone once",
        "* We don't need to sort or use complex data structures"
      ]
    },
    {
      "cell_type": "code",
      "metadata": {},
      "source": [
        "def numJewelsInStones(jewels: str, stones: str) -> int:",
        "    # Convert jewels to a set for O(1) lookups",
        "    jewel_set = set(jewels)",
        "    ",
        "    # Count stones that are also jewels",
        "    count = 0",
        "    for stone in stones:",
        "        if stone in jewel_set:",
        "            count += 1",
        "    ",
        "    return count",
        "",
        "",
        "We can also use a more concise approach with list comprehension:",
        "",
        "",
        "def numJewelsInStones(jewels: str, stones: str) -> int:",
        "    jewel_set = set(jewels)",
        "    return sum(stone in jewel_set for stone in stones)",
        ""
      ],
      "execution_count": null,
      "outputs": []
    },
    {
      "cell_type": "markdown",
      "metadata": {},
      "source": [
        "## Time and Space Complexity\n",
        "* *Time Complexity**: O(J + S) where J is the length of the jewels string and S is the length of the stones string.",
        "* Creating the jewel set takes O(J) time",
        "* Iterating through the stones takes O(S) time",
        "* Each lookup in the set is O(1)",
        "* *Space Complexity**: O(J) where J is the length of the jewels string.",
        "* We store each character from jewels in a set",
        "* No additional space that scales with input size is used"
      ]
    },
    {
      "cell_type": "markdown",
      "metadata": {},
      "source": [
        "## Test Cases\n"
      ]
    },
    {
      "cell_type": "code",
      "metadata": {},
      "source": [
        "def test_numJewelsInStones():",
        "    # Test case 1: Example from problem statement",
        "    assert numJewelsInStones(\"aA\", \"aAAbbbb\") == 3",
        "    ",
        "    # Test case 2: Example from problem statement",
        "    assert numJewelsInStones(\"z\", \"ZZ\") == 0",
        "    ",
        "    # Test case 3: All stones are jewels",
        "    assert numJewelsInStones(\"abc\", \"abcabc\") == 6",
        "    ",
        "    # Test case 4: No stones are jewels",
        "    assert numJewelsInStones(\"DEF\", \"abc\") == 0",
        "    ",
        "    # Test case 5: Empty jewels",
        "    assert numJewelsInStones(\"\", \"abc\") == 0",
        "    ",
        "    # Test case 6: Empty stones",
        "    assert numJewelsInStones(\"abc\", \"\") == 0",
        "    ",
        "    # Test case 7: Single character",
        "    assert numJewelsInStones(\"a\", \"a\") == 1",
        "    ",
        "    # Test case 8: Case sensitivity check",
        "    assert numJewelsInStones(\"a\", \"A\") == 0",
        "    ",
        "    print(\"All test cases passed!\")",
        "",
        "# Run the tests",
        "test_numJewelsInStones()",
        ""
      ],
      "execution_count": null,
      "outputs": []
    }
  ],
  "metadata": {
    "kernelspec": {
      "display_name": "Python 3",
      "language": "python",
      "name": "python3"
    },
    "language_info": {
      "codemirror_mode": {
        "name": "ipython",
        "version": 3
      },
      "file_extension": ".py",
      "mimetype": "text/x-python",
      "name": "python",
      "nbconvert_exporter": "python",
      "pygments_lexer": "ipython3",
      "version": "3.11.9"
    }
  },
  "nbformat": 4,
  "nbformat_minor": 5
}