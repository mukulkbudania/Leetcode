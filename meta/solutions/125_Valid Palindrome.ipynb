{
  "cells": [
    {
      "cell_type": "markdown",
      "metadata": {},
      "source": [
        "# 125. Valid Palindrome"
      ]
    },
    {
      "cell_type": "markdown",
      "metadata": {},
      "source": [
        "A phrase is a palindrome if, after converting all uppercase letters into lowercase letters and removing all non-alphanumeric characters, it reads the same forward and backward. Alphanumeric characters include letters and numbers.",
        "",
        "",
        "",
        "Given a string s, return true if it is a palindrome, or false otherwise.",
        "",
        "",
        "",
        " ",
        "",
        "",
        "",
        "**Example 1:**",
        "",
        "",
        "",
        "Input: s = \"A man, a plan, a canal: Panama\"",
        "",
        "Output: true",
        "",
        "Explanation: \"amanaplanacanalpanama\" is a palindrome.",
        "",
        "**Example 2:**",
        "",
        "",
        "",
        "Input: s = \"race a car\"",
        "",
        "Output: false",
        "",
        "Explanation: \"raceacar\" is not a palindrome.",
        "",
        "**Example 3:**",
        "",
        "",
        "",
        "Input: s = \" \"",
        "",
        "Output: true",
        "",
        "Explanation: s is an empty string \"\" after removing non-alphanumeric characters.",
        "",
        "Since an empty string reads the same forward and backward, it is a palindrome.",
        "",
        " ",
        "",
        "",
        "",
        "**Constraints:**",
        "",
        "",
        "",
        "1 <= s.length <= 2 * 105",
        "",
        "s consists only of printable ASCII characters."
      ]
    },
    {
      "cell_type": "markdown",
      "metadata": {},
      "source": [
        "## Solution Explanation\n",
        "To determine if a string is a palindrome according to the given definition, we need to:",
        "",
        "1. Convert all uppercase letters to lowercase",
        "2. Remove all non-alphanumeric characters",
        "3. Check if the resulting string reads the same forward and backward",
        "",
        "There are two main approaches to solve this:",
        "",
        "1. **Two-pointer approach**: Process the string to keep only alphanumeric characters in lowercase, then use two pointers (one from the start, one from the end) to check if it's a palindrome.",
        "",
        "2. **Clean and compare approach**: Process the string to keep only alphanumeric characters in lowercase, then check if the resulting string equals its reverse.",
        "",
        "I'll implement the two-pointer approach as it's more efficient in terms of space complexity. We'll use two pointers, one starting from the beginning and one from the end of the string. We'll skip non-alphanumeric characters and compare the lowercase versions of the characters at both pointers. If at any point the characters don't match, we return False. If the pointers meet or cross each other without finding any mismatch, we return True."
      ]
    },
    {
      "cell_type": "code",
      "metadata": {},
      "source": [
        "def isPalindrome(s: str) -> bool:",
        "    left, right = 0, len(s) - 1",
        "    ",
        "    while left < right:",
        "        # Skip non-alphanumeric characters from left",
        "        while left < right and not s[left].isalnum():",
        "            left += 1",
        "        ",
        "        # Skip non-alphanumeric characters from right",
        "        while left < right and not s[right].isalnum():",
        "            right -= 1",
        "        ",
        "        # Compare characters (case-insensitive)",
        "        if s[left].lower() != s[right].lower():",
        "            return False",
        "        ",
        "        # Move pointers",
        "        left += 1",
        "        right -= 1",
        "    ",
        "    return True",
        ""
      ],
      "execution_count": null,
      "outputs": []
    },
    {
      "cell_type": "markdown",
      "metadata": {},
      "source": [
        "## Time and Space Complexity\n",
        "* *Time Complexity**: O(n), where n is the length of the input string. We traverse the string once with the two pointers, and each character is examined at most once.",
        "* *Space Complexity**: O(1), as we only use a constant amount of extra space regardless of the input size. We're using two pointers and not creating any additional data structures that scale with the input size."
      ]
    },
    {
      "cell_type": "markdown",
      "metadata": {},
      "source": [
        "## Test Cases\n"
      ]
    },
    {
      "cell_type": "code",
      "metadata": {},
      "source": [
        "def test_isPalindrome():",
        "    # Test case 1: Standard palindrome with punctuation and spaces",
        "    assert isPalindrome(\"A man, a plan, a canal: Panama\") == True",
        "    ",
        "    # Test case 2: Non-palindrome",
        "    assert isPalindrome(\"race a car\") == False",
        "    ",
        "    # Test case 3: Empty string after removing non-alphanumeric characters",
        "    assert isPalindrome(\" \") == True",
        "    ",
        "    # Test case 4: Single character",
        "    assert isPalindrome(\"a\") == True",
        "    ",
        "    # Test case 5: Mixed case palindrome",
        "    assert isPalindrome(\"AbBa\") == True",
        "    ",
        "    # Test case 6: Palindrome with numbers",
        "    assert isPalindrome(\"12321\") == True",
        "    ",
        "    # Test case 7: Non-palindrome with numbers",
        "    assert isPalindrome(\"123a321\") == False",
        "    ",
        "    # Test case 8: String with only non-alphanumeric characters",
        "    assert isPalindrome(\".,;:\") == True",
        "    ",
        "    # Test case 9: Complex palindrome with mixed characters",
        "    assert isPalindrome(\"A1b,c: cb a 1\") == True",
        "    ",
        "    print(\"All test cases passed!\")",
        "",
        "# Run the tests",
        "test_isPalindrome()",
        ""
      ],
      "execution_count": null,
      "outputs": []
    }
  ],
  "metadata": {
    "kernelspec": {
      "display_name": "Python 3",
      "language": "python",
      "name": "python3"
    },
    "language_info": {
      "codemirror_mode": {
        "name": "ipython",
        "version": 3
      },
      "file_extension": ".py",
      "mimetype": "text/x-python",
      "name": "python",
      "nbconvert_exporter": "python",
      "pygments_lexer": "ipython3",
      "version": "3.11.9"
    }
  },
  "nbformat": 4,
  "nbformat_minor": 5
}