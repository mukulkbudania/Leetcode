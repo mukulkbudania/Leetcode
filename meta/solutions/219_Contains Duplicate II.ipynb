{
  "cells": [
    {
      "cell_type": "markdown",
      "metadata": {},
      "source": [
        "# 219. Contains Duplicate II"
      ]
    },
    {
      "cell_type": "markdown",
      "metadata": {},
      "source": [
        "Given an integer array nums and an integer k, return true if there are two distinct indices i and j in the array such that nums[i] == nums[j] and abs(i - j) <= k.",
        "",
        "",
        "",
        " ",
        "",
        "",
        "",
        "**Example 1:**",
        "",
        "",
        "",
        "Input: nums = [1,2,3,1], k = 3",
        "",
        "Output: true",
        "",
        "**Example 2:**",
        "",
        "",
        "",
        "Input: nums = [1,0,1,1], k = 1",
        "",
        "Output: true",
        "",
        "**Example 3:**",
        "",
        "",
        "",
        "Input: nums = [1,2,3,1,2,3], k = 2",
        "",
        "Output: false",
        "",
        " ",
        "",
        "",
        "",
        "**Constraints:**",
        "",
        "",
        "",
        "1 <= nums.length <= 105",
        "",
        "-109 <= nums[i] <= 109",
        "",
        "0 <= k <= 105"
      ]
    },
    {
      "cell_type": "markdown",
      "metadata": {},
      "source": [
        "## Solution Explanation\n",
        "This problem asks us to determine if there are two distinct indices i and j in the array such that nums[i] == nums[j] and abs(i - j) <= k.",
        "",
        "The key insight is that we need to keep track of the most recent index of each number we've seen. If we encounter a number that we've seen before, we check if the difference between the current index and the previous index is at most k.",
        "",
        "We can use a dictionary (hash map) to store the most recent index of each number. As we iterate through the array:",
        "1. For each number, check if it's already in our dictionary.",
        "2. If it is, check if the difference between the current index and the stored index is at most k.",
        "3. If the difference is at most k, return True.",
        "4. Otherwise, update the dictionary with the current index for this number.",
        "",
        "If we finish iterating through the array without finding any such pair, we return False."
      ]
    },
    {
      "cell_type": "code",
      "metadata": {},
      "source": [
        "def containsNearbyDuplicate(nums, k):",
        "    \"\"\"",
        "    :type nums: List[int]",
        "    :type k: int",
        "    :rtype: bool",
        "    \"\"\"",
        "    # Dictionary to store the most recent index of each number",
        "    num_indices = {}",
        "    ",
        "    for i, num in enumerate(nums):",
        "        # Check if the number has been seen before and is within k distance",
        "        if num in num_indices and i - num_indices[num] <= k:",
        "            return True",
        "        ",
        "        # Update the most recent index of this number",
        "        num_indices[num] = i",
        "    ",
        "    # No nearby duplicates found",
        "    return False",
        ""
      ],
      "execution_count": null,
      "outputs": []
    },
    {
      "cell_type": "markdown",
      "metadata": {},
      "source": [
        "## Time and Space Complexity\n",
        "* *Time Complexity**: O(n), where n is the length of the input array. We iterate through the array once, and dictionary operations (lookup and insertion) are O(1) on average.",
        "* *Space Complexity**: O(min(n, m)), where n is the length of the array and m is the number of unique elements in the array. In the worst case, all elements are unique, and we store all of them in the dictionary, resulting in O(n) space. However, if there are many duplicates, the space used will be less."
      ]
    },
    {
      "cell_type": "markdown",
      "metadata": {},
      "source": [
        "## Test Cases\n"
      ]
    },
    {
      "cell_type": "code",
      "metadata": {},
      "source": [
        "def test_contains_nearby_duplicate():",
        "    # Test case 1: Example from problem statement",
        "    assert containsNearbyDuplicate([1, 2, 3, 1], 3) == True",
        "    ",
        "    # Test case 2: Another example from problem statement",
        "    assert containsNearbyDuplicate([1, 0, 1, 1], 1) == True",
        "    ",
        "    # Test case 3: Third example from problem statement",
        "    assert containsNearbyDuplicate([1, 2, 3, 1, 2, 3], 2) == False",
        "    ",
        "    # Test case 4: Empty array",
        "    assert containsNearbyDuplicate([], 0) == False",
        "    ",
        "    # Test case 5: Single element array",
        "    assert containsNearbyDuplicate([1], 0) == False",
        "    ",
        "    # Test case 6: All elements are the same",
        "    assert containsNearbyDuplicate([1, 1, 1, 1], 1) == True",
        "    ",
        "    # Test case 7: No duplicates",
        "    assert containsNearbyDuplicate([1, 2, 3, 4, 5], 10) == False",
        "    ",
        "    # Test case 8: Duplicates exist but are too far apart",
        "    assert containsNearbyDuplicate([1, 2, 3, 1], 2) == False",
        "    ",
        "    # Test case 9: Negative numbers",
        "    assert containsNearbyDuplicate([-1, -2, -3, -1], 3) == True",
        "    ",
        "    # Test case 10: Large array with duplicates",
        "    large_array = [i % 10 for i in range(100)]  # [0,1,2,...,9,0,1,...]",
        "    assert containsNearbyDuplicate(large_array, 10) == True",
        "    ",
        "    print(\"All test cases passed!\")",
        "",
        "# Run the tests",
        "test_contains_nearby_duplicate()",
        ""
      ],
      "execution_count": null,
      "outputs": []
    }
  ],
  "metadata": {
    "kernelspec": {
      "display_name": "Python 3",
      "language": "python",
      "name": "python3"
    },
    "language_info": {
      "codemirror_mode": {
        "name": "ipython",
        "version": 3
      },
      "file_extension": ".py",
      "mimetype": "text/x-python",
      "name": "python",
      "nbconvert_exporter": "python",
      "pygments_lexer": "ipython3",
      "version": "3.11.9"
    }
  },
  "nbformat": 4,
  "nbformat_minor": 5
}