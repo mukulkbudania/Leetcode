{
  "cells": [
    {
      "cell_type": "markdown",
      "metadata": {},
      "source": [
        "# 9. Palindrome Number"
      ]
    },
    {
      "cell_type": "markdown",
      "metadata": {},
      "source": [
        "Given an integer x, return true if x is a palindrome, and false otherwise.",
        "",
        "",
        "",
        " ",
        "",
        "",
        "",
        "**Example 1:**",
        "",
        "",
        "",
        "Input: x = 121",
        "",
        "Output: true",
        "",
        "Explanation: 121 reads as 121 from left to right and from right to left.",
        "",
        "**Example 2:**",
        "",
        "",
        "",
        "Input: x = -121",
        "",
        "Output: false",
        "",
        "Explanation: From left to right, it reads -121. From right to left, it becomes 121-. Therefore it is not a palindrome.",
        "",
        "**Example 3:**",
        "",
        "",
        "",
        "Input: x = 10",
        "",
        "Output: false",
        "",
        "Explanation: Reads 01 from right to left. Therefore it is not a palindrome.",
        "",
        " ",
        "",
        "",
        "",
        "**Constraints:**",
        "",
        "",
        "",
        "-231 <= x <= 231 - 1",
        "",
        " ",
        "",
        "",
        "",
        "Follow up: Could you solve it without converting the integer to a string?",
        "",
        ""
      ]
    },
    {
      "cell_type": "markdown",
      "metadata": {},
      "source": [
        "## Solution Explanation\n",
        "To determine if an integer is a palindrome, we need to check if it reads the same forward and backward. There are two main approaches:",
        "",
        "1. **String Conversion Approach**: Convert the integer to a string and check if the string is a palindrome.",
        "2. **Mathematical Approach**: Reverse the integer mathematically and check if it equals the original.",
        "",
        "For the mathematical approach (which is requested in the follow-up), we can:",
        "1. Handle negative numbers (they can't be palindromes due to the minus sign)",
        "2. Reverse the digits of the number",
        "3. Compare the reversed number with the original",
        "",
        "To reverse the digits, we can:",
        "* Extract digits from the end of the number using modulo (%) and division (/)",
        "* Build the reversed number by multiplying the current result by 10 and adding the new digit"
      ]
    },
    {
      "cell_type": "code",
      "metadata": {},
      "source": [
        "def isPalindrome(x: int) -> bool:",
        "    # Negative numbers are not palindromes due to the minus sign",
        "    if x < 0:",
        "        return False",
        "    ",
        "    # Special case: single digit numbers are palindromes",
        "    if x < 10:",
        "        return True",
        "    ",
        "    # Numbers ending with 0 can't be palindromes unless it's 0 itself",
        "    if x % 10 == 0 and x != 0:",
        "        return False",
        "    ",
        "    reversed_num = 0",
        "    original = x",
        "    ",
        "    # Reverse the integer",
        "    while x > 0:",
        "        digit = x % 10  # Extract the last digit",
        "        reversed_num = reversed_num * 10 + digit  # Add digit to reversed number",
        "        x //= 10  # Remove the last digit from x",
        "    ",
        "    # Check if the original number equals its reverse",
        "    return original == reversed_num",
        ""
      ],
      "execution_count": null,
      "outputs": []
    },
    {
      "cell_type": "markdown",
      "metadata": {},
      "source": [
        "## Time and Space Complexity\n",
        "* *Time Complexity**: O(log\u2081\u2080(n)) where n is the input number.",
        "* The while loop runs once for each digit in the number.",
        "* An integer n has approximately log\u2081\u2080(n) digits.",
        "* *Space Complexity**: O(1)",
        "* We only use a constant amount of extra space regardless of the input size.",
        "* We're storing just a few variables (reversed_num, original, digit) which take constant space."
      ]
    },
    {
      "cell_type": "markdown",
      "metadata": {},
      "source": [
        "## Test Cases\n"
      ]
    },
    {
      "cell_type": "code",
      "metadata": {},
      "source": [
        "def test_isPalindrome():",
        "    # Test case 1: Regular palindrome",
        "    assert isPalindrome(121) == True, \"121 should be a palindrome\"",
        "    ",
        "    # Test case 2: Negative number",
        "    assert isPalindrome(-121) == False, \"Negative numbers cannot be palindromes\"",
        "    ",
        "    # Test case 3: Number ending with 0",
        "    assert isPalindrome(10) == False, \"10 is not a palindrome\"",
        "    ",
        "    # Test case 4: Single digit",
        "    assert isPalindrome(7) == True, \"Single digits are always palindromes\"",
        "    ",
        "    # Test case 5: Zero",
        "    assert isPalindrome(0) == True, \"0 is a palindrome\"",
        "    ",
        "    # Test case 6: Larger palindrome",
        "    assert isPalindrome(12321) == True, \"12321 should be a palindrome\"",
        "    ",
        "    # Test case 7: Non-palindrome",
        "    assert isPalindrome(12345) == False, \"12345 is not a palindrome\"",
        "    ",
        "    print(\"All test cases passed!\")",
        "",
        "# Run the tests",
        "test_isPalindrome()",
        ""
      ],
      "execution_count": null,
      "outputs": []
    }
  ],
  "metadata": {
    "kernelspec": {
      "display_name": "Python 3",
      "language": "python",
      "name": "python3"
    },
    "language_info": {
      "codemirror_mode": {
        "name": "ipython",
        "version": 3
      },
      "file_extension": ".py",
      "mimetype": "text/x-python",
      "name": "python",
      "nbconvert_exporter": "python",
      "pygments_lexer": "ipython3",
      "version": "3.11.9"
    }
  },
  "nbformat": 4,
  "nbformat_minor": 5
}