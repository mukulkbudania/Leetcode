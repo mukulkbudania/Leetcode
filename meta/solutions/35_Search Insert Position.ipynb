{
  "cells": [
    {
      "cell_type": "markdown",
      "metadata": {},
      "source": [
        "# 35. Search Insert Position"
      ]
    },
    {
      "cell_type": "markdown",
      "metadata": {},
      "source": [
        "Given a sorted array of distinct integers and a target value, return the index if the target is found. If not, return the index where it would be if it were inserted in order.",
        "",
        "",
        "",
        "You must write an algorithm with O(log n) runtime complexity.",
        "",
        "",
        "",
        " ",
        "",
        "",
        "",
        "**Example 1:**",
        "",
        "",
        "",
        "Input: nums = [1,3,5,6], target = 5",
        "",
        "Output: 2",
        "",
        "**Example 2:**",
        "",
        "",
        "",
        "Input: nums = [1,3,5,6], target = 2",
        "",
        "Output: 1",
        "",
        "**Example 3:**",
        "",
        "",
        "",
        "Input: nums = [1,3,5,6], target = 7",
        "",
        "Output: 4",
        "",
        " ",
        "",
        "",
        "",
        "**Constraints:**",
        "",
        "",
        "",
        "1 <= nums.length <= 104",
        "",
        "-104 <= nums[i] <= 104",
        "",
        "nums contains distinct values sorted in ascending order.",
        "",
        "-104 <= target <= 104"
      ]
    },
    {
      "cell_type": "markdown",
      "metadata": {},
      "source": [
        "## Solution Explanation\n",
        "This problem asks us to find the index of a target value in a sorted array, or where it would be inserted if it's not present. Since the array is sorted and we need O(log n) time complexity, binary search is the ideal approach.",
        "",
        "Binary search works by repeatedly dividing the search interval in half. We maintain two pointers, `left` and `right`, which represent the boundaries of the current search space. In each iteration:",
        "",
        "1. Calculate the middle index `mid = (left + right) // 2`",
        "2. If `nums[mid] == target`, we've found the target and return `mid`",
        "3. If `nums[mid] < target`, the target must be in the right half, so we set `left = mid + 1`",
        "4. If `nums[mid] > target`, the target must be in the left half, so we set `right = mid - 1`",
        "",
        "When the search ends (i.e., `left > right`), the `left` pointer will be at the position where the target should be inserted. This is because:",
        "* If the target is smaller than all elements, `left` will be 0",
        "* If the target is larger than all elements, `left` will be `len(nums)`",
        "* Otherwise, `left` will point to the smallest element that is greater than or equal to the target"
      ]
    },
    {
      "cell_type": "code",
      "metadata": {},
      "source": [
        "def searchInsert(nums, target):",
        "    left, right = 0, len(nums) - 1",
        "    ",
        "    while left <= right:",
        "        mid = (left + right) // 2",
        "        ",
        "        if nums[mid] == target:",
        "            return mid",
        "        elif nums[mid] < target:",
        "            left = mid + 1",
        "        else:",
        "            right = mid - 1",
        "    ",
        "    return left",
        ""
      ],
      "execution_count": null,
      "outputs": []
    },
    {
      "cell_type": "markdown",
      "metadata": {},
      "source": [
        "## Time and Space Complexity\n",
        "* *Time Complexity**: O(log n), where n is the length of the input array. This is because binary search divides the search space in half with each iteration.",
        "* *Space Complexity**: O(1), as we only use a constant amount of extra space regardless of the input size. We're just using a few variables (`left`, `right`, and `mid`) to keep track of indices."
      ]
    },
    {
      "cell_type": "markdown",
      "metadata": {},
      "source": [
        "## Test Cases\n"
      ]
    },
    {
      "cell_type": "code",
      "metadata": {},
      "source": [
        "def test_searchInsert():",
        "    # Test case 1: Target exists in the array",
        "    assert searchInsert([1, 3, 5, 6], 5) == 2",
        "    ",
        "    # Test case 2: Target doesn't exist, should be inserted in the middle",
        "    assert searchInsert([1, 3, 5, 6], 2) == 1",
        "    ",
        "    # Test case 3: Target doesn't exist, should be inserted at the end",
        "    assert searchInsert([1, 3, 5, 6], 7) == 4",
        "    ",
        "    # Test case 4: Target doesn't exist, should be inserted at the beginning",
        "    assert searchInsert([1, 3, 5, 6], 0) == 0",
        "    ",
        "    # Test case 5: Single element array, target exists",
        "    assert searchInsert([5], 5) == 0",
        "    ",
        "    # Test case 6: Single element array, target doesn't exist (smaller)",
        "    assert searchInsert([5], 3) == 0",
        "    ",
        "    # Test case 7: Single element array, target doesn't exist (larger)",
        "    assert searchInsert([5], 7) == 1",
        "    ",
        "    # Test case 8: Empty array (though problem states nums.length >= 1)",
        "    assert searchInsert([], 5) == 0",
        "    ",
        "    print(\"All test cases passed!\")",
        "",
        "# Run the tests",
        "test_searchInsert()",
        ""
      ],
      "execution_count": null,
      "outputs": []
    }
  ],
  "metadata": {
    "kernelspec": {
      "display_name": "Python 3",
      "language": "python",
      "name": "python3"
    },
    "language_info": {
      "codemirror_mode": {
        "name": "ipython",
        "version": 3
      },
      "file_extension": ".py",
      "mimetype": "text/x-python",
      "name": "python",
      "nbconvert_exporter": "python",
      "pygments_lexer": "ipython3",
      "version": "3.11.9"
    }
  },
  "nbformat": 4,
  "nbformat_minor": 5
}