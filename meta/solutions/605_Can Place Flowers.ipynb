{
  "cells": [
    {
      "cell_type": "markdown",
      "metadata": {},
      "source": [
        "# 605. Can Place Flowers"
      ]
    },
    {
      "cell_type": "markdown",
      "metadata": {},
      "source": [
        "You have a long flowerbed in which some of the plots are planted, and some are not. However, flowers cannot be planted in adjacent plots.",
        "",
        "",
        "",
        "Given an integer array flowerbed containing 0's and 1's, where 0 means empty and 1 means not empty, and an integer n, return true if n new flowers can be planted in the flowerbed without violating the no-adjacent-flowers rule and false otherwise.",
        "",
        "",
        "",
        " ",
        "",
        "",
        "",
        "**Example 1:**",
        "",
        "",
        "",
        "Input: flowerbed = [1,0,0,0,1], n = 1",
        "",
        "Output: true",
        "",
        "**Example 2:**",
        "",
        "",
        "",
        "Input: flowerbed = [1,0,0,0,1], n = 2",
        "",
        "Output: false",
        "",
        " ",
        "",
        "",
        "",
        "**Constraints:**",
        "",
        "",
        "",
        "1 <= flowerbed.length <= 2 * 104",
        "",
        "flowerbed[i] is 0 or 1.",
        "",
        "There are no two adjacent flowers in flowerbed.",
        "",
        "0 <= n <= flowerbed.length"
      ]
    },
    {
      "cell_type": "markdown",
      "metadata": {},
      "source": [
        "## Solution Explanation\n",
        "To solve this problem, we need to determine if we can plant n new flowers in the flowerbed without violating the rule that no two flowers can be adjacent.",
        "",
        "The approach is to iterate through the flowerbed and check each position to see if we can plant a flower there. We can plant a flower at a position if:",
        "1. The current position is empty (0)",
        "2. The previous position is empty (0) or it's the first position",
        "3. The next position is empty (0) or it's the last position",
        "",
        "For each position where we can plant a flower, we increment a counter and update the flowerbed by placing a flower (changing 0 to 1). We continue until we've either planted n flowers or gone through the entire flowerbed.",
        "",
        "If we can plant at least n flowers, we return true; otherwise, we return false."
      ]
    },
    {
      "cell_type": "code",
      "metadata": {},
      "source": [
        "def canPlaceFlowers(flowerbed, n):",
        "    \"\"\"",
        "    Determine if n new flowers can be planted in the flowerbed without violating the no-adjacent-flowers rule.",
        "    ",
        "    Args:",
        "        flowerbed: List[int] - Array of 0s and 1s representing empty and planted plots",
        "        n: int - Number of new flowers to plant",
        "    ",
        "    Returns:",
        "        bool - True if n flowers can be planted, False otherwise",
        "    \"\"\"",
        "    if n == 0:",
        "        return True",
        "    ",
        "    length = len(flowerbed)",
        "    count = 0",
        "    ",
        "    for i in range(length):",
        "        # Check if current position is empty",
        "        if flowerbed[i] == 0:",
        "            # Check if previous position is empty or it's the first position",
        "            prev_empty = (i == 0) or (flowerbed[i-1] == 0)",
        "            # Check if next position is empty or it's the last position",
        "            next_empty = (i == length-1) or (flowerbed[i+1] == 0)",
        "            ",
        "            # If both adjacent positions are empty, we can plant a flower here",
        "            if prev_empty and next_empty:",
        "                flowerbed[i] = 1  # Plant a flower",
        "                count += 1",
        "                ",
        "                if count >= n:",
        "                    return True",
        "    ",
        "    return count >= n",
        ""
      ],
      "execution_count": null,
      "outputs": []
    },
    {
      "cell_type": "markdown",
      "metadata": {},
      "source": [
        "## Time and Space Complexity\n",
        "* *Time Complexity**: O(m), where m is the length of the flowerbed array. We iterate through the array once, and each operation within the loop takes constant time.",
        "* *Space Complexity**: O(1), as we only use a constant amount of extra space regardless of the input size. We modify the input array in-place and only use a few variables to track our progress."
      ]
    },
    {
      "cell_type": "markdown",
      "metadata": {},
      "source": [
        "## Test Cases\n"
      ]
    },
    {
      "cell_type": "code",
      "metadata": {},
      "source": [
        "def test_canPlaceFlowers():",
        "    # Test case 1: Example from problem statement",
        "    assert canPlaceFlowers([1, 0, 0, 0, 1], 1) == True",
        "    ",
        "    # Test case 2: Example from problem statement",
        "    assert canPlaceFlowers([1, 0, 0, 0, 1], 2) == False",
        "    ",
        "    # Test case 3: Empty flowerbed",
        "    assert canPlaceFlowers([0], 1) == True",
        "    ",
        "    # Test case 4: Single flower already planted",
        "    assert canPlaceFlowers([1], 1) == False",
        "    ",
        "    # Test case 5: All empty plots",
        "    assert canPlaceFlowers([0, 0, 0, 0, 0], 3) == True",
        "    ",
        "    # Test case 6: All plots planted",
        "    assert canPlaceFlowers([1, 1, 1, 1, 1], 1) == False",
        "    ",
        "    # Test case 7: Edge case - n is 0",
        "    assert canPlaceFlowers([1, 1, 1, 1, 1], 0) == True",
        "    ",
        "    # Test case 8: Alternating pattern",
        "    assert canPlaceFlowers([1, 0, 1, 0, 1], 0) == True",
        "    ",
        "    # Test case 9: Longer flowerbed",
        "    assert canPlaceFlowers([0, 0, 1, 0, 0, 0, 1, 0, 0], 3) == True",
        "    ",
        "    # Test case 10: Exactly enough space",
        "    assert canPlaceFlowers([0, 0, 0, 0, 0], 3) == True",
        "    ",
        "    print(\"All test cases passed!\")",
        "",
        "# Run the tests",
        "test_canPlaceFlowers()",
        ""
      ],
      "execution_count": null,
      "outputs": []
    }
  ],
  "metadata": {
    "kernelspec": {
      "display_name": "Python 3",
      "language": "python",
      "name": "python3"
    },
    "language_info": {
      "codemirror_mode": {
        "name": "ipython",
        "version": 3
      },
      "file_extension": ".py",
      "mimetype": "text/x-python",
      "name": "python",
      "nbconvert_exporter": "python",
      "pygments_lexer": "ipython3",
      "version": "3.11.9"
    }
  },
  "nbformat": 4,
  "nbformat_minor": 5
}