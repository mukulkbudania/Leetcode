{
  "cells": [
    {
      "cell_type": "markdown",
      "metadata": {},
      "source": [
        "# 344. Reverse String"
      ]
    },
    {
      "cell_type": "markdown",
      "metadata": {},
      "source": [
        "Write a function that reverses a string. The input string is given as an array of characters s.",
        "",
        "",
        "",
        "You must do this by modifying the input array in-place with O(1) extra memory.",
        "",
        "",
        "",
        " ",
        "",
        "",
        "",
        "**Example 1:**",
        "",
        "",
        "",
        "Input: s = [\"h\",\"e\",\"l\",\"l\",\"o\"]",
        "",
        "Output: [\"o\",\"l\",\"l\",\"e\",\"h\"]",
        "",
        "**Example 2:**",
        "",
        "",
        "",
        "Input: s = [\"H\",\"a\",\"n\",\"n\",\"a\",\"h\"]",
        "",
        "Output: [\"h\",\"a\",\"n\",\"n\",\"a\",\"H\"]",
        "",
        " ",
        "",
        "",
        "",
        "**Constraints:**",
        "",
        "",
        "",
        "1 <= s.length <= 105",
        "",
        "s[i] is a printable ascii character."
      ]
    },
    {
      "cell_type": "markdown",
      "metadata": {},
      "source": [
        "## Solution Explanation\n",
        "To reverse a string represented as an array of characters in-place with O(1) extra memory, we can use the two-pointer technique. This approach involves:",
        "",
        "1. Initialize two pointers: one at the beginning of the array (left) and one at the end (right).",
        "2. While the left pointer is less than the right pointer:",
        "* Swap the characters at the left and right positions.",
        "* Move the left pointer one step to the right.",
        "* Move the right pointer one step to the left.",
        "3. When the pointers meet or cross each other, the string is fully reversed.",
        "",
        "This approach is efficient because it only requires a single pass through the array and uses constant extra space (just the two pointers and a temporary variable for swapping)."
      ]
    },
    {
      "cell_type": "code",
      "metadata": {},
      "source": [
        "def reverseString(s: list[str]) -> None:",
        "    \"\"\"",
        "    Reverse a string in-place with O(1) extra memory.",
        "    ",
        "    Args:",
        "        s: List of characters representing the string",
        "    \"\"\"",
        "    left, right = 0, len(s) - 1",
        "    ",
        "    while left < right:",
        "        # Swap characters at left and right pointers",
        "        s[left], s[right] = s[right], s[left]",
        "        ",
        "        # Move pointers towards the center",
        "        left += 1",
        "        right -= 1",
        ""
      ],
      "execution_count": null,
      "outputs": []
    },
    {
      "cell_type": "markdown",
      "metadata": {},
      "source": [
        "## Time and Space Complexity\n",
        "* *Time Complexity**: O(n), where n is the length of the string. We perform n/2 swaps, which simplifies to O(n).",
        "* *Space Complexity**: O(1), as we only use a constant amount of extra space regardless of the input size. We use two pointers (left and right) and no additional data structures that scale with the input size. The swapping is done in-place, which means we don't allocate any extra memory proportional to the input size."
      ]
    },
    {
      "cell_type": "markdown",
      "metadata": {},
      "source": [
        "## Test Cases\n"
      ]
    },
    {
      "cell_type": "code",
      "metadata": {},
      "source": [
        "def test_reverseString():",
        "    # Test case 1: Regular string",
        "    s1 = [\"h\", \"e\", \"l\", \"l\", \"o\"]",
        "    reverseString(s1)",
        "    assert s1 == [\"o\", \"l\", \"l\", \"e\", \"h\"], f\"Test case 1 failed: {s1}\"",
        "    ",
        "    # Test case 2: Palindrome",
        "    s2 = [\"a\", \"b\", \"c\", \"b\", \"a\"]",
        "    reverseString(s2)",
        "    assert s2 == [\"a\", \"b\", \"c\", \"b\", \"a\"], f\"Test case 2 failed: {s2}\"",
        "    ",
        "    # Test case 3: Single character",
        "    s3 = [\"a\"]",
        "    reverseString(s3)",
        "    assert s3 == [\"a\"], f\"Test case 3 failed: {s3}\"",
        "    ",
        "    # Test case 4: Empty string",
        "    s4 = []",
        "    reverseString(s4)",
        "    assert s4 == [], f\"Test case 4 failed: {s4}\"",
        "    ",
        "    # Test case 5: Even length string",
        "    s5 = [\"H\", \"a\", \"n\", \"n\", \"a\", \"h\"]",
        "    reverseString(s5)",
        "    assert s5 == [\"h\", \"a\", \"n\", \"n\", \"a\", \"H\"], f\"Test case 5 failed: {s5}\"",
        "    ",
        "    print(\"All test cases passed!\")",
        "",
        "# Run the tests",
        "test_reverseString()",
        ""
      ],
      "execution_count": null,
      "outputs": []
    }
  ],
  "metadata": {
    "kernelspec": {
      "display_name": "Python 3",
      "language": "python",
      "name": "python3"
    },
    "language_info": {
      "codemirror_mode": {
        "name": "ipython",
        "version": 3
      },
      "file_extension": ".py",
      "mimetype": "text/x-python",
      "name": "python",
      "nbconvert_exporter": "python",
      "pygments_lexer": "ipython3",
      "version": "3.11.9"
    }
  },
  "nbformat": 4,
  "nbformat_minor": 5
}