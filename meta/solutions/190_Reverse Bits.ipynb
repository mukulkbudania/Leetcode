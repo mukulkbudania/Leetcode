{
  "cells": [
    {
      "cell_type": "markdown",
      "metadata": {},
      "source": [
        "# 190. Reverse Bits"
      ]
    },
    {
      "cell_type": "markdown",
      "metadata": {},
      "source": [
        "Reverse bits of a given 32 bits unsigned integer.",
        "",
        "",
        "",
        "Note:",
        "",
        "",
        "",
        "Note that in some languages, such as Java, there is no unsigned integer type. In this case, both input and output will be given as a signed integer type. They should not affect your implementation, as the integer's internal binary representation is the same, whether it is signed or unsigned.",
        "",
        "In Java, the compiler represents the signed integers using 2's complement notation. Therefore, in Example 2 below, the input represents the signed integer -3 and the output represents the signed integer -1073741825.",
        "",
        " ",
        "",
        "",
        "",
        "**Example 1:**",
        "",
        "",
        "",
        "Input: n = 43261596",
        "",
        "",
        "",
        "Output: 964176192",
        "",
        "",
        "",
        "Explanation:",
        "",
        "",
        "",
        "Integer\tBinary",
        "",
        "43261596\t00000010100101000001111010011100",
        "",
        "964176192\t00111001011110000010100101000000",
        "",
        "**Example 2:**",
        "",
        "",
        "",
        "Input: n = 2147483644",
        "",
        "",
        "",
        "Output: 1073741822",
        "",
        "",
        "",
        "Explanation:",
        "",
        "",
        "",
        "Integer\tBinary",
        "",
        "2147483644\t01111111111111111111111111111100",
        "",
        "1073741822\t00111111111111111111111111111110",
        "",
        " ",
        "",
        "",
        "",
        "**Constraints:**",
        "",
        "",
        "",
        "0 <= n <= 231 - 2",
        "",
        "n is even.",
        "",
        " ",
        "",
        "",
        "",
        "Follow up: If this function is called many times, how would yo"
      ]
    },
    {
      "cell_type": "markdown",
      "metadata": {},
      "source": [
        "## Solution Explanation\n",
        "To reverse the bits of a 32-bit unsigned integer, we need to swap the positions of bits from left to right. For example, the leftmost bit (31st position) should be swapped with the rightmost bit (0th position), the 30th position bit with the 1st position bit, and so on.",
        "",
        "The approach is to:",
        "1. Initialize a result variable to 0.",
        "2. Iterate through all 32 bits of the input number.",
        "3. For each bit, shift the result left by 1 to make room for the next bit.",
        "4. Extract the rightmost bit of the input number using bitwise AND with 1.",
        "5. Add this bit to the result using bitwise OR.",
        "6. Right shift the input number by 1 to process the next bit.",
        "7. After processing all 32 bits, return the result.",
        "",
        "This approach ensures that we reverse the bits in a single pass through the number."
      ]
    },
    {
      "cell_type": "code",
      "metadata": {},
      "source": [
        "def reverseBits(n: int) -> int:",
        "    result = 0",
        "    ",
        "    # Process all 32 bits",
        "    for i in range(32):",
        "        # Left shift result to make room for the next bit",
        "        result <<= 1",
        "        ",
        "        # Extract the rightmost bit of n and add it to result",
        "        result |= (n & 1)",
        "        ",
        "        # Right shift n to process the next bit",
        "        n >>= 1",
        "    ",
        "    return result",
        ""
      ],
      "execution_count": null,
      "outputs": []
    },
    {
      "cell_type": "markdown",
      "metadata": {},
      "source": [
        "## Time and Space Complexity\n",
        "* *Time Complexity**: O(1) - We always process exactly 32 bits regardless of the input size, so the time complexity is constant.",
        "* *Space Complexity**: O(1) - We only use a fixed amount of extra space (the result variable) regardless of the input size.",
        "",
        "If this function is called many times, we could optimize it by using a lookup table to reverse chunks of bits (e.g., 8 bits at a time) instead of processing each bit individually. This would reduce the number of operations but would require additional space for the lookup table."
      ]
    },
    {
      "cell_type": "markdown",
      "metadata": {},
      "source": [
        "## Test Cases\n"
      ]
    },
    {
      "cell_type": "code",
      "metadata": {},
      "source": [
        "def test_reverseBits():",
        "    # Test case 1: Example from the problem",
        "    assert reverseBits(43261596) == 964176192, \"Test case 1 failed\"",
        "    ",
        "    # Test case 2: Another example from the problem",
        "    assert reverseBits(2147483644) == 1073741822, \"Test case 2 failed\"",
        "    ",
        "    # Test case 3: Zero",
        "    assert reverseBits(0) == 0, \"Test case 3 failed\"",
        "    ",
        "    # Test case 4: All bits set to 1",
        "    assert reverseBits(4294967295) == 4294967295, \"Test case 4 failed\"",
        "    ",
        "    # Test case 5: Only the most significant bit is set",
        "    assert reverseBits(2147483648) == 1, \"Test case 5 failed\"",
        "    ",
        "    # Test case 6: Only the least significant bit is set",
        "    assert reverseBits(1) == 2147483648, \"Test case 6 failed\"",
        "    ",
        "    print(\"All test cases passed!\")",
        "",
        "# Run the tests",
        "test_reverseBits()",
        ""
      ],
      "execution_count": null,
      "outputs": []
    }
  ],
  "metadata": {
    "kernelspec": {
      "display_name": "Python 3",
      "language": "python",
      "name": "python3"
    },
    "language_info": {
      "codemirror_mode": {
        "name": "ipython",
        "version": 3
      },
      "file_extension": ".py",
      "mimetype": "text/x-python",
      "name": "python",
      "nbconvert_exporter": "python",
      "pygments_lexer": "ipython3",
      "version": "3.11.9"
    }
  },
  "nbformat": 4,
  "nbformat_minor": 5
}