{
  "cells": [
    {
      "cell_type": "markdown",
      "metadata": {},
      "source": [
        "# 1331. Rank Transform of an Array"
      ]
    },
    {
      "cell_type": "markdown",
      "metadata": {},
      "source": [
        "Given an array of integers arr, replace each element with its rank.",
        "",
        "",
        "",
        "The rank represents how large the element is. The rank has the following rules:",
        "",
        "",
        "",
        "Rank is an integer starting from 1.",
        "",
        "The larger the element, the larger the rank. If two elements are equal, their rank must be the same.",
        "",
        "Rank should be as small as possible.",
        "",
        " ",
        "",
        "",
        "",
        "**Example 1:**",
        "",
        "",
        "",
        "Input: arr = [40,10,20,30]",
        "",
        "Output: [4,1,2,3]",
        "",
        "Explanation: 40 is the largest element. 10 is the smallest. 20 is the second smallest. 30 is the third smallest.",
        "",
        "**Example 2:**",
        "",
        "",
        "",
        "Input: arr = [100,100,100]",
        "",
        "Output: [1,1,1]",
        "",
        "Explanation: Same elements share the same rank.",
        "",
        "**Example 3:**",
        "",
        "",
        "",
        "Input: arr = [37,12,28,9,100,56,80,5,12]",
        "",
        "Output: [5,3,4,2,8,6,7,1,3]",
        "",
        " ",
        "",
        "",
        "",
        "**Constraints:**",
        "",
        "",
        "",
        "0 <= arr.length <= 105",
        "",
        "-109 <= arr[i] <= 109"
      ]
    },
    {
      "cell_type": "markdown",
      "metadata": {},
      "source": [
        "## Solution Explanation\n",
        "To solve this problem, we need to assign ranks to each element in the array based on their values. The rank represents the relative position of an element when the array is sorted.",
        "",
        "The approach is as follows:",
        "1. Create a copy of the original array and sort it in ascending order.",
        "2. Create a mapping from each unique value to its rank. If multiple elements have the same value, they should have the same rank.",
        "3. Iterate through the original array and replace each element with its corresponding rank from the mapping.",
        "",
        "For the mapping step, we need to ensure that equal elements get the same rank, and the ranks are as small as possible. This means we should increment the rank only when we encounter a new, larger element."
      ]
    },
    {
      "cell_type": "code",
      "metadata": {},
      "source": [
        "def arrayRankTransform(arr):",
        "    # Create a sorted copy of the array",
        "    sorted_arr = sorted(arr)",
        "    ",
        "    # Create a mapping from value to rank",
        "    rank_map = {}",
        "    current_rank = 1",
        "    ",
        "    for num in sorted_arr:",
        "        # Only assign a new rank if we haven't seen this number before",
        "        if num not in rank_map:",
        "            rank_map[num] = current_rank",
        "            current_rank += 1",
        "    ",
        "    # Replace each element with its rank",
        "    result = [rank_map[num] for num in arr]",
        "    ",
        "    return result",
        ""
      ],
      "execution_count": null,
      "outputs": []
    },
    {
      "cell_type": "markdown",
      "metadata": {},
      "source": [
        "## Time and Space Complexity\n",
        "* *Time Complexity**: O(n log n), where n is the length of the input array. This is dominated by the sorting operation which takes O(n log n) time. Creating the rank map and generating the result array both take O(n) time.",
        "* *Space Complexity**: O(n) for storing:",
        "1. The sorted copy of the array: O(n)",
        "2. The rank mapping dictionary: O(k) where k is the number of unique elements in the array (worst case k = n)",
        "3. The result array: O(n)",
        "",
        "Overall, the space complexity is O(n)."
      ]
    },
    {
      "cell_type": "markdown",
      "metadata": {},
      "source": [
        "## Test Cases\n"
      ]
    },
    {
      "cell_type": "code",
      "metadata": {},
      "source": [
        "def test_arrayRankTransform():",
        "    # Test case 1: Regular case with distinct elements",
        "    assert arrayRankTransform([40, 10, 20, 30]) == [4, 1, 2, 3]",
        "    ",
        "    # Test case 2: Array with duplicate elements",
        "    assert arrayRankTransform([100, 100, 100]) == [1, 1, 1]",
        "    ",
        "    # Test case 3: Mixed array with duplicates",
        "    assert arrayRankTransform([37, 12, 28, 9, 100, 56, 80, 5, 12]) == [5, 3, 4, 2, 8, 6, 7, 1, 3]",
        "    ",
        "    # Test case 4: Empty array",
        "    assert arrayRankTransform([]) == []",
        "    ",
        "    # Test case 5: Array with a single element",
        "    assert arrayRankTransform([42]) == [1]",
        "    ",
        "    # Test case 6: Array with negative numbers",
        "    assert arrayRankTransform([-5, -10, 0, -3, 5]) == [2, 1, 4, 3, 5]",
        "    ",
        "    # Test case 7: Array with all elements the same",
        "    assert arrayRankTransform([7, 7, 7, 7, 7]) == [1, 1, 1, 1, 1]",
        "    ",
        "    print(\"All test cases passed!\")",
        "",
        "# Run the tests",
        "test_arrayRankTransform()",
        ""
      ],
      "execution_count": null,
      "outputs": []
    }
  ],
  "metadata": {
    "kernelspec": {
      "display_name": "Python 3",
      "language": "python",
      "name": "python3"
    },
    "language_info": {
      "codemirror_mode": {
        "name": "ipython",
        "version": 3
      },
      "file_extension": ".py",
      "mimetype": "text/x-python",
      "name": "python",
      "nbconvert_exporter": "python",
      "pygments_lexer": "ipython3",
      "version": "3.11.9"
    }
  },
  "nbformat": 4,
  "nbformat_minor": 5
}