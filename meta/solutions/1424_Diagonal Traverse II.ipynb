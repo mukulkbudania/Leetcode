{
  "cells": [
    {
      "cell_type": "markdown",
      "metadata": {},
      "source": [
        "# 1424. Diagonal Traverse II"
      ]
    },
    {
      "cell_type": "markdown",
      "metadata": {},
      "source": [
        "Given a 2D integer array nums, return all elements of nums in diagonal order as shown in the below images.",
        "",
        "",
        "",
        " ",
        "",
        "",
        "",
        "**Example 1:**",
        "",
        "",
        "",
        "",
        "",
        "Input: nums = [[1,2,3],[4,5,6],[7,8,9]]",
        "",
        "Output: [1,4,2,7,5,3,8,6,9]",
        "",
        "**Example 2:**",
        "",
        "",
        "",
        "",
        "",
        "Input: nums = [[1,2,3,4,5],[6,7],[8],[9,10,11],[12,13,14,15,16]]",
        "",
        "Output: [1,6,2,8,7,3,9,4,12,10,5,13,11,14,15,16]",
        "",
        " ",
        "",
        "",
        "",
        "**Constraints:**",
        "",
        "",
        "",
        "1 <= nums.length <= 105",
        "",
        "1 <= nums[i].length <= 105",
        "",
        "1 <= sum(nums[i].length) <= 105",
        "",
        "1 <= nums[i][j] <= 105"
      ]
    },
    {
      "cell_type": "markdown",
      "metadata": {},
      "source": [
        "## Solution Explanation\n",
        "To solve this problem, we need to understand the diagonal pattern. In a diagonal traversal, elements with the same sum of row and column indices (i+j) belong to the same diagonal.",
        "",
        "The approach is:",
        "1. Group elements by their diagonal index (i+j)",
        "2. For each diagonal group, elements should be ordered from top-right to bottom-left",
        "3. Traverse the diagonals in increasing order of diagonal index",
        "",
        "Since we need to group elements by their diagonal index, we can use a dictionary where the key is the diagonal index and the value is a list of elements in that diagonal. After grouping, we can flatten the dictionary values in order of increasing diagonal index.",
        "",
        "The key insight is that elements with the same value of (i+j) lie on the same diagonal, and we need to process these diagonals in order."
      ]
    },
    {
      "cell_type": "code",
      "metadata": {},
      "source": [
        "def findDiagonalOrder(nums):",
        "    diagonals = {}",
        "    ",
        "    # Group elements by diagonal index (i+j)",
        "    for i in range(len(nums)):",
        "        for j in range(len(nums[i])):",
        "            diagonal_idx = i + j",
        "            if diagonal_idx not in diagonals:",
        "                diagonals[diagonal_idx] = []",
        "            # Append elements to maintain top-right to bottom-left order",
        "            diagonals[diagonal_idx].append(nums[i][j])",
        "    ",
        "    # Flatten the diagonals",
        "    result = []",
        "    for diagonal_idx in sorted(diagonals.keys()):",
        "        # Reverse the order to get top-right to bottom-left",
        "        result.extend(diagonals[diagonal_idx][::-1])",
        "    ",
        "    return result",
        "",
        "",
        "Wait, I need to check if the order is correct. Looking at the examples, it seems like we need to traverse from top-left to bottom-right, but within each diagonal, we go from top-right to bottom-left. Let me correct the code:",
        "",
        "",
        "def findDiagonalOrder(nums):",
        "    diagonals = {}",
        "    ",
        "    # Group elements by diagonal index (i+j)",
        "    for i in range(len(nums)):",
        "        for j in range(len(nums[i])):",
        "            diagonal_idx = i + j",
        "            if diagonal_idx not in diagonals:",
        "                diagonals[diagonal_idx] = []",
        "            # Insert at the beginning to maintain top-right to bottom-left order",
        "            diagonals[diagonal_idx].insert(0, nums[i][j])",
        "    ",
        "    # Flatten the diagonals",
        "    result = []",
        "    for diagonal_idx in sorted(diagonals.keys()):",
        "        result.extend(diagonals[diagonal_idx])",
        "    ",
        "    return result",
        ""
      ],
      "execution_count": null,
      "outputs": []
    },
    {
      "cell_type": "markdown",
      "metadata": {},
      "source": [
        "## Time and Space Complexity\n",
        "* *Time Complexity**: O(N), where N is the total number of elements in the input array. We iterate through each element once to group them by diagonal index, and then iterate through the grouped elements once more to create the result array.",
        "* *Space Complexity**: O(N), where N is the total number of elements in the input array. We store all elements in the dictionary and then in the result array."
      ]
    },
    {
      "cell_type": "markdown",
      "metadata": {},
      "source": [
        "## Test Cases\n"
      ]
    },
    {
      "cell_type": "code",
      "metadata": {},
      "source": [
        "def test_findDiagonalOrder():",
        "    # Test case 1: Regular square matrix",
        "    nums1 = [[1,2,3],[4,5,6],[7,8,9]]",
        "    assert findDiagonalOrder(nums1) == [1,4,2,7,5,3,8,6,9]",
        "    ",
        "    # Test case 2: Irregular matrix",
        "    nums2 = [[1,2,3,4,5],[6,7],[8],[9,10,11],[12,13,14,15,16]]",
        "    assert findDiagonalOrder(nums2) == [1,6,2,8,7,3,9,4,12,10,5,13,11,14,15,16]",
        "    ",
        "    # Test case 3: Single row matrix",
        "    nums3 = [[1,2,3,4,5]]",
        "    assert findDiagonalOrder(nums3) == [1,2,3,4,5]",
        "    ",
        "    # Test case 4: Single column matrix",
        "    nums4 = [[1],[2],[3],[4],[5]]",
        "    assert findDiagonalOrder(nums4) == [1,2,3,4,5]",
        "    ",
        "    # Test case 5: Single element matrix",
        "    nums5 = [[1]]",
        "    assert findDiagonalOrder(nums5) == [1]",
        "    ",
        "    print(\"All test cases passed!\")",
        "",
        "# Run the tests",
        "test_findDiagonalOrder()",
        ""
      ],
      "execution_count": null,
      "outputs": []
    }
  ],
  "metadata": {
    "kernelspec": {
      "display_name": "Python 3",
      "language": "python",
      "name": "python3"
    },
    "language_info": {
      "codemirror_mode": {
        "name": "ipython",
        "version": 3
      },
      "file_extension": ".py",
      "mimetype": "text/x-python",
      "name": "python",
      "nbconvert_exporter": "python",
      "pygments_lexer": "ipython3",
      "version": "3.11.9"
    }
  },
  "nbformat": 4,
  "nbformat_minor": 5
}