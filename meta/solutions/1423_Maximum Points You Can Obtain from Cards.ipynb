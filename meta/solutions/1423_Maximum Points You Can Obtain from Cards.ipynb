{
  "cells": [
    {
      "cell_type": "markdown",
      "metadata": {},
      "source": [
        "# 1423. Maximum Points You Can Obtain from Cards"
      ]
    },
    {
      "cell_type": "markdown",
      "metadata": {},
      "source": [
        "There are several cards arranged in a row, and each card has an associated number of points. The points are given in the integer array cardPoints.",
        "",
        "",
        "",
        "In one step, you can take one card from the beginning or from the end of the row. You have to take exactly k cards.",
        "",
        "",
        "",
        "Your score is the sum of the points of the cards you have taken.",
        "",
        "",
        "",
        "Given the integer array cardPoints and the integer k, return the maximum score you can obtain.",
        "",
        "",
        "",
        " ",
        "",
        "",
        "",
        "**Example 1:**",
        "",
        "",
        "",
        "Input: cardPoints = [1,2,3,4,5,6,1], k = 3",
        "",
        "Output: 12",
        "",
        "Explanation: After the first step, your score will always be 1. However, choosing the rightmost card first will maximize your total score. The optimal strategy is to take the three cards on the right, giving a final score of 1 + 6 + 5 = 12.",
        "",
        "**Example 2:**",
        "",
        "",
        "",
        "Input: cardPoints = [2,2,2], k = 2",
        "",
        "Output: 4",
        "",
        "Explanation: Regardless of which two cards you take, your score will always be 4.",
        "",
        "**Example 3:**",
        "",
        "",
        "",
        "Input: cardPoints = [9,7,7,9,7,7,9], k = 7",
        "",
        "Output: 55",
        "",
        "Explanation: You have to take all the cards. Your score is the sum of points of all cards.",
        "",
        " ",
        "",
        "",
        "",
        "**Constraints:**",
        "",
        "",
        "",
        "1 <= cardPoints.length <= 105",
        "",
        "1 <= cardPoints[i] <= 104",
        "",
        "1 <= k <= cardPoints.length"
      ]
    },
    {
      "cell_type": "markdown",
      "metadata": {},
      "source": [
        "## Solution Explanation\n",
        "This problem asks us to take exactly k cards from either the beginning or the end of the array to maximize the total score.",
        "",
        "A key insight is that if we take k cards, we're essentially leaving a contiguous subarray of length `n-k` (where n is the total number of cards). So instead of thinking about which k cards to take, we can think about which `n-k` consecutive cards to leave.",
        "",
        "The solution approach is:",
        "1. Find the minimum sum of any contiguous subarray of length `n-k`",
        "2. Subtract this minimum sum from the total sum of all cards",
        "3. This gives us the maximum possible score from taking k cards",
        "",
        "However, there's an even more direct approach:",
        "1. Initialize a sliding window of size k that starts by taking k cards from the beginning",
        "2. Gradually shift this window by removing one card from the beginning and adding one from the end",
        "3. Keep track of the maximum sum encountered during this process",
        "",
        "For this problem, I'll implement the second approach as it's more intuitive."
      ]
    },
    {
      "cell_type": "code",
      "metadata": {},
      "source": [
        "def maxScore(cardPoints, k):",
        "    n = len(cardPoints)",
        "    ",
        "    # If k equals the length of the array, return the sum of all cards",
        "    if k >= n:",
        "        return sum(cardPoints)",
        "    ",
        "    # Initialize with the sum of first k cards",
        "    current_sum = sum(cardPoints[:k])",
        "    max_sum = current_sum",
        "    ",
        "    # Start removing one card from the beginning and adding one from the end",
        "    for i in range(k):",
        "        # Remove one card from the beginning (k-i-1 index) and add one from the end (n-i-1 index)",
        "        current_sum = current_sum - cardPoints[k-i-1] + cardPoints[n-i-1]",
        "        max_sum = max(max_sum, current_sum)",
        "    ",
        "    return max_sum",
        ""
      ],
      "execution_count": null,
      "outputs": []
    },
    {
      "cell_type": "markdown",
      "metadata": {},
      "source": [
        "## Time and Space Complexity\n",
        "* *Time Complexity**: O(k)",
        "* Computing the initial sum of the first k cards takes O(k) time",
        "* The loop runs k times, with constant time operations in each iteration",
        "* *Space Complexity**: O(1)",
        "* We only use a constant amount of extra space regardless of input size",
        "* We're just storing a few variables (current_sum, max_sum, etc.)"
      ]
    },
    {
      "cell_type": "markdown",
      "metadata": {},
      "source": [
        "## Test Cases\n"
      ]
    },
    {
      "cell_type": "code",
      "metadata": {},
      "source": [
        "def test_max_score():",
        "    # Test case 1: Example from the problem",
        "    assert maxScore([1, 2, 3, 4, 5, 6, 1], 3) == 12",
        "    ",
        "    # Test case 2: Another example from the problem",
        "    assert maxScore([2, 2, 2], 2) == 4",
        "    ",
        "    # Test case 3: Take all cards",
        "    assert maxScore([9, 7, 7, 9, 7, 7, 9], 7) == 55",
        "    ",
        "    # Test case 4: Edge case - k = 1",
        "    assert maxScore([1, 2, 3, 4], 1) == 4",
        "    ",
        "    # Test case 5: Edge case - array with one element",
        "    assert maxScore([100], 1) == 100",
        "    ",
        "    # Test case 6: Optimal is to take from both ends",
        "    assert maxScore([1, 100, 1, 100], 2) == 200",
        "    ",
        "    # Test case 7: Optimal is to take all from beginning",
        "    assert maxScore([100, 90, 80, 1, 2, 3], 3) == 270",
        "    ",
        "    # Test case 8: Optimal is to take all from end",
        "    assert maxScore([1, 2, 3, 80, 90, 100], 3) == 270",
        "    ",
        "    print(\"All test cases passed!\")",
        "",
        "# Run the tests",
        "test_max_score()",
        ""
      ],
      "execution_count": null,
      "outputs": []
    }
  ],
  "metadata": {
    "kernelspec": {
      "display_name": "Python 3",
      "language": "python",
      "name": "python3"
    },
    "language_info": {
      "codemirror_mode": {
        "name": "ipython",
        "version": 3
      },
      "file_extension": ".py",
      "mimetype": "text/x-python",
      "name": "python",
      "nbconvert_exporter": "python",
      "pygments_lexer": "ipython3",
      "version": "3.11.9"
    }
  },
  "nbformat": 4,
  "nbformat_minor": 5
}