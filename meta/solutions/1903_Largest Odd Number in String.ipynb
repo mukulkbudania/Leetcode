{
  "cells": [
    {
      "cell_type": "markdown",
      "metadata": {},
      "source": [
        "# 1903. Largest Odd Number in String"
      ]
    },
    {
      "cell_type": "markdown",
      "metadata": {},
      "source": [
        "You are given a string num, representing a large integer. Return the largest-valued odd integer (as a string) that is a non-empty substring of num, or an empty string \"\" if no odd integer exists.",
        "",
        "",
        "",
        "A substring is a contiguous sequence of characters within a string.",
        "",
        "",
        "",
        " ",
        "",
        "",
        "",
        "**Example 1:**",
        "",
        "",
        "",
        "Input: num = \"52\"",
        "",
        "Output: \"5\"",
        "",
        "Explanation: The only non-empty substrings are \"5\", \"2\", and \"52\". \"5\" is the only odd number.",
        "",
        "**Example 2:**",
        "",
        "",
        "",
        "Input: num = \"4206\"",
        "",
        "Output: \"\"",
        "",
        "Explanation: There are no odd numbers in \"4206\".",
        "",
        "**Example 3:**",
        "",
        "",
        "",
        "Input: num = \"35427\"",
        "",
        "Output: \"35427\"",
        "",
        "Explanation: \"35427\" is already an odd number.",
        "",
        " ",
        "",
        "",
        "",
        "**Constraints:**",
        "",
        "",
        "",
        "1 <= num.length <= 105",
        "",
        "num only consists of digits and does not contain any leading zeros."
      ]
    },
    {
      "cell_type": "markdown",
      "metadata": {},
      "source": [
        "## Solution Explanation\n",
        "To find the largest-valued odd integer substring, we need to understand that an integer is odd if and only if its last digit is odd. This means we need to find the longest substring that ends with an odd digit.",
        "",
        "The key insights for this problem are:",
        "1. If the entire string represents an odd number (i.e., the last digit is odd), then the entire string is the answer.",
        "2. If the last digit is not odd, we need to find the rightmost odd digit and consider all possible substrings ending with that digit.",
        "3. To maximize the value, we want the longest possible substring, which means starting from the leftmost position.",
        "",
        "My approach is:",
        "1. Check if the entire number is odd. If yes, return the entire string.",
        "2. If not, scan the string from right to left to find the first odd digit.",
        "3. Once we find an odd digit, the largest odd substring would be from the beginning of the string up to and including this odd digit.",
        "",
        "However, there's a more efficient approach. Since we want the largest value, and larger values have more digits or start with larger digits:",
        "1. Check if the last digit is odd. If yes, return the entire string.",
        "2. If not, iterate through the string from right to left to find the first odd digit.",
        "3. When we find an odd digit, return the substring from the beginning to that position."
      ]
    },
    {
      "cell_type": "code",
      "metadata": {},
      "source": [
        "def largestOddNumber(num: str) -> str:",
        "    # Iterate from right to left",
        "    for i in range(len(num) - 1, -1, -1):",
        "        # Check if the current digit is odd",
        "        if int(num[i]) % 2 == 1:",
        "            # Return substring from beginning to this position (inclusive)",
        "            return num[:i+1]",
        "    ",
        "    # If no odd digit is found, return empty string",
        "    return \"\"",
        ""
      ],
      "execution_count": null,
      "outputs": []
    },
    {
      "cell_type": "markdown",
      "metadata": {},
      "source": [
        "## Time and Space Complexity\n",
        "* *Time Complexity**: O(n), where n is the length of the input string. In the worst case, we might need to scan the entire string from right to left to find an odd digit.",
        "* *Space Complexity**: O(1) for the algorithm itself, as we're only using a constant amount of extra space regardless of input size. However, the return value might require O(n) space in the worst case (when the entire string is returned)."
      ]
    },
    {
      "cell_type": "markdown",
      "metadata": {},
      "source": [
        "## Test Cases\n"
      ]
    },
    {
      "cell_type": "code",
      "metadata": {},
      "source": [
        "def test_largestOddNumber():",
        "    # Test case 1: Last digit is odd, should return entire string",
        "    assert largestOddNumber(\"35427\") == \"35427\"",
        "    ",
        "    # Test case 2: No odd digits, should return empty string",
        "    assert largestOddNumber(\"4206\") == \"\"",
        "    ",
        "    # Test case 3: First digit is odd, last is even",
        "    assert largestOddNumber(\"52\") == \"5\"",
        "    ",
        "    # Test case 4: Multiple odd digits",
        "    assert largestOddNumber(\"1234567\") == \"1234567\"",
        "    ",
        "    # Test case 5: Only the first digit is odd",
        "    assert largestOddNumber(\"3246\") == \"3\"",
        "    ",
        "    # Test case 6: Single odd digit",
        "    assert largestOddNumber(\"7\") == \"7\"",
        "    ",
        "    # Test case 7: Single even digit",
        "    assert largestOddNumber(\"2\") == \"\"",
        "    ",
        "    # Test case 8: Empty string (though problem states num.length >= 1)",
        "    assert largestOddNumber(\"\") == \"\"",
        "    ",
        "    # Test case 9: Odd digits in the middle",
        "    assert largestOddNumber(\"2468642\") == \"\"",
        "    ",
        "    # Test case 10: Alternating odd and even",
        "    assert largestOddNumber(\"1212121\") == \"1212121\"",
        "    ",
        "    print(\"All test cases passed!\")",
        "",
        "# Run the tests",
        "test_largestOddNumber()",
        ""
      ],
      "execution_count": null,
      "outputs": []
    }
  ],
  "metadata": {
    "kernelspec": {
      "display_name": "Python 3",
      "language": "python",
      "name": "python3"
    },
    "language_info": {
      "codemirror_mode": {
        "name": "ipython",
        "version": 3
      },
      "file_extension": ".py",
      "mimetype": "text/x-python",
      "name": "python",
      "nbconvert_exporter": "python",
      "pygments_lexer": "ipython3",
      "version": "3.11.9"
    }
  },
  "nbformat": 4,
  "nbformat_minor": 5
}