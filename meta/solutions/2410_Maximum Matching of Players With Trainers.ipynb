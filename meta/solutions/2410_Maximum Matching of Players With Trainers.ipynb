{
  "cells": [
    {
      "cell_type": "markdown",
      "metadata": {},
      "source": [
        "# 2410. Maximum Matching of Players With Trainers"
      ]
    },
    {
      "cell_type": "markdown",
      "metadata": {},
      "source": [
        "You are given a 0-indexed integer array players, where players[i] represents the ability of the ith player. You are also given a 0-indexed integer array trainers, where trainers[j] represents the training capacity of the jth trainer.",
        "",
        "",
        "",
        "The ith player can match with the jth trainer if the player's ability is less than or equal to the trainer's training capacity. Additionally, the ith player can be matched with at most one trainer, and the jth trainer can be matched with at most one player.",
        "",
        "",
        "",
        "Return the maximum number of matchings between players and trainers that satisfy these conditions.",
        "",
        "",
        "",
        " ",
        "",
        "",
        "",
        "**Example 1:**",
        "",
        "",
        "",
        "Input: players = [4,7,9], trainers = [8,2,5,8]",
        "",
        "Output: 2",
        "",
        "Explanation:",
        "",
        "One of the ways we can form two matchings is as follows:",
        "",
        "- players[0] can be matched with trainers[0] since 4 <= 8.",
        "",
        "- players[1] can be matched with trainers[3] since 7 <= 8.",
        "",
        "It can be proven that 2 is the maximum number of matchings that can be formed.",
        "",
        "**Example 2:**",
        "",
        "",
        "",
        "Input: players = [1,1,1], trainers = [10]",
        "",
        "Output: 1",
        "",
        "Explanation:",
        "",
        "The trainer can be matched with any of the 3 players.",
        "",
        "Each player can only be matched with one trainer, so the maximum answer is 1.",
        "",
        " ",
        "",
        "",
        "",
        "**Constraints:**",
        "",
        "",
        "",
        "1 <= players.length, trainers.length <= 105",
        "",
        "1 <= players[i], trainers[j] <= 109",
        "",
        " ",
        "",
        "",
        "",
        "Note: This question is the same as 445: Assign Cookies."
      ]
    },
    {
      "cell_type": "markdown",
      "metadata": {},
      "source": [
        "## Solution Explanation\n",
        "This problem is asking us to find the maximum number of matchings between players and trainers, where a player can match with a trainer if the player's ability is less than or equal to the trainer's capacity.",
        "",
        "The key insight is to use a greedy approach:",
        "1. Sort both the players and trainers arrays in ascending order.",
        "2. Use two pointers to iterate through both arrays.",
        "3. For each player, find the first trainer with enough capacity.",
        "4. Once a match is made, move to the next player and next trainer.",
        "",
        "This greedy approach works because:",
        "* If a player can't match with the current trainer, they won't match with any previous trainers (since trainers are sorted).",
        "* It's optimal to match a player with the smallest possible trainer that can train them, as this saves higher-capacity trainers for players with higher abilities."
      ]
    },
    {
      "cell_type": "code",
      "metadata": {},
      "source": [
        "def matchPlayersAndTrainers(players, trainers):",
        "    # Sort both arrays in ascending order",
        "    players.sort()",
        "    trainers.sort()",
        "    ",
        "    matches = 0",
        "    player_idx = 0",
        "    trainer_idx = 0",
        "    ",
        "    # Iterate through both arrays using two pointers",
        "    while player_idx < len(players) and trainer_idx < len(trainers):",
        "        # If current trainer can train current player",
        "        if players[player_idx] <= trainers[trainer_idx]:",
        "            matches += 1",
        "            player_idx += 1",
        "            trainer_idx += 1",
        "        else:",
        "            # Current trainer can't train current player, try next trainer",
        "            trainer_idx += 1",
        "    ",
        "    return matches",
        ""
      ],
      "execution_count": null,
      "outputs": []
    },
    {
      "cell_type": "markdown",
      "metadata": {},
      "source": [
        "## Time and Space Complexity\n",
        "* *Time Complexity**: O(n log n + m log m), where n is the length of the players array and m is the length of the trainers array. This is dominated by the sorting operations for both arrays.",
        "* *Space Complexity**: O(1) if we don't count the input arrays and are allowed to modify them in place. If we need to preserve the original arrays, then the space complexity would be O(n + m) for creating copies of the arrays before sorting.",
        "",
        "The two-pointer traversal after sorting is O(n + m) time, which is less significant than the sorting operations."
      ]
    },
    {
      "cell_type": "markdown",
      "metadata": {},
      "source": [
        "## Test Cases\n"
      ]
    },
    {
      "cell_type": "code",
      "metadata": {},
      "source": [
        "def test_matchPlayersAndTrainers():",
        "    # Test case 1: Example from the problem",
        "    assert matchPlayersAndTrainers([4, 7, 9], [8, 2, 5, 8]) == 2",
        "    ",
        "    # Test case 2: Example from the problem",
        "    assert matchPlayersAndTrainers([1, 1, 1], [10]) == 1",
        "    ",
        "    # Test case 3: No matches possible",
        "    assert matchPlayersAndTrainers([10, 20, 30], [1, 2, 3]) == 0",
        "    ",
        "    # Test case 4: All players can be matched",
        "    assert matchPlayersAndTrainers([1, 2, 3], [1, 2, 3, 4]) == 3",
        "    ",
        "    # Test case 5: Edge case - single player and trainer that match",
        "    assert matchPlayersAndTrainers([5], [5]) == 1",
        "    ",
        "    # Test case 6: Edge case - single player and trainer that don't match",
        "    assert matchPlayersAndTrainers([6], [5]) == 0",
        "    ",
        "    # Test case 7: Multiple matches with exact capacity",
        "    assert matchPlayersAndTrainers([1, 3, 5, 7], [1, 3, 5, 7]) == 4",
        "    ",
        "    print(\"All test cases passed!\")",
        "",
        "# Run the tests",
        "test_matchPlayersAndTrainers()",
        ""
      ],
      "execution_count": null,
      "outputs": []
    }
  ],
  "metadata": {
    "kernelspec": {
      "display_name": "Python 3",
      "language": "python",
      "name": "python3"
    },
    "language_info": {
      "codemirror_mode": {
        "name": "ipython",
        "version": 3
      },
      "file_extension": ".py",
      "mimetype": "text/x-python",
      "name": "python",
      "nbconvert_exporter": "python",
      "pygments_lexer": "ipython3",
      "version": "3.11.9"
    }
  },
  "nbformat": 4,
  "nbformat_minor": 5
}