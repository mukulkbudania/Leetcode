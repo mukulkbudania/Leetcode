{
  "cells": [
    {
      "cell_type": "markdown",
      "metadata": {},
      "source": [
        "# 32. Longest Valid Parentheses"
      ]
    },
    {
      "cell_type": "markdown",
      "metadata": {},
      "source": [
        "Given a string containing just the characters '(' and ')', return the length of the longest valid (well-formed) parentheses substring.",
        "",
        "",
        "",
        " ",
        "",
        "",
        "",
        "**Example 1:**",
        "",
        "",
        "",
        "Input: s = \"(()\"",
        "",
        "Output: 2",
        "",
        "Explanation: The longest valid parentheses substring is \"()\".",
        "",
        "**Example 2:**",
        "",
        "",
        "",
        "Input: s = \")()())\"",
        "",
        "Output: 4",
        "",
        "Explanation: The longest valid parentheses substring is \"()()\".",
        "",
        "**Example 3:**",
        "",
        "",
        "",
        "Input: s = \"\"",
        "",
        "Output: 0",
        "",
        " ",
        "",
        "",
        "",
        "**Constraints:**",
        "",
        "",
        "",
        "0 <= s.length <= 3 * 104",
        "",
        "s[i] is '(', or ')'.",
        "",
        ""
      ]
    },
    {
      "cell_type": "markdown",
      "metadata": {},
      "source": [
        "## Solution Explanation\n",
        "This problem asks for the length of the longest valid parentheses substring. A valid parentheses substring is one where every opening parenthesis '(' has a matching closing parenthesis ')' and they are properly nested.",
        "",
        "I'll solve this using a stack-based approach, which is efficient for parentheses problems:",
        "",
        "1. Initialize a stack with -1 (representing a base index)",
        "2. Iterate through each character in the string:",
        "* If we encounter an opening parenthesis '(', push its index onto the stack",
        "* If we encounter a closing parenthesis ')':",
        "* Pop the top element from the stack",
        "* If the stack becomes empty, push the current index (as a new base)",
        "* If the stack is not empty, calculate the length of the current valid substring as (current_index - stack.top())",
        "3. Keep track of the maximum length found",
        "",
        "This approach works because:",
        "* The stack keeps track of the indices of unmatched opening parentheses",
        "* When we find a matching closing parenthesis, we can calculate the length of the valid substring",
        "* The -1 (or other base indices) helps us calculate the length correctly"
      ]
    },
    {
      "cell_type": "code",
      "metadata": {},
      "source": [
        "def longestValidParentheses(s: str) -> int:",
        "    stack = [-1]  # Initialize with -1 as a base index",
        "    max_length = 0",
        "    ",
        "    for i in range(len(s)):",
        "        if s[i] == '(':",
        "            stack.append(i)  # Push index of opening parenthesis",
        "        else:  # s[i] == ')'",
        "            stack.pop()  # Pop the matching opening parenthesis or base",
        "            ",
        "            if not stack:  # If stack becomes empty, push current index as new base",
        "                stack.append(i)",
        "            else:",
        "                # Calculate length of current valid substring",
        "                current_length = i - stack[-1]",
        "                max_length = max(max_length, current_length)",
        "    ",
        "    return max_length",
        ""
      ],
      "execution_count": null,
      "outputs": []
    },
    {
      "cell_type": "markdown",
      "metadata": {},
      "source": [
        "## Time and Space Complexity\n",
        "* *Time Complexity**: O(n) where n is the length of the input string. We iterate through the string once, and each operation inside the loop (push, pop, comparison) takes O(1) time.",
        "* *Space Complexity**: O(n) in the worst case, where the stack could potentially store all indices of the string (e.g., for a string of all opening parentheses \"(((((...\"). However, in practice, the space usage is often much less."
      ]
    },
    {
      "cell_type": "markdown",
      "metadata": {},
      "source": [
        "## Test Cases\n"
      ]
    },
    {
      "cell_type": "code",
      "metadata": {},
      "source": [
        "def test_longestValidParentheses():",
        "    # Test case 1: Example 1 from problem statement",
        "    assert longestValidParentheses(\"(()\") == 2, \"Failed test case 1\"",
        "    ",
        "    # Test case 2: Example 2 from problem statement",
        "    assert longestValidParentheses(\")()())\") == 4, \"Failed test case 2\"",
        "    ",
        "    # Test case 3: Example 3 from problem statement",
        "    assert longestValidParentheses(\"\") == 0, \"Failed test case 3\"",
        "    ",
        "    # Test case 4: All valid parentheses",
        "    assert longestValidParentheses(\"()()()\") == 6, \"Failed test case 4\"",
        "    ",
        "    # Test case 5: Nested parentheses",
        "    assert longestValidParentheses(\"(())\") == 4, \"Failed test case 5\"",
        "    ",
        "    # Test case 6: Complex case with multiple valid substrings",
        "    assert longestValidParentheses(\"()(()())\") == 8, \"Failed test case 6\"",
        "    ",
        "    # Test case 7: Invalid at beginning, valid at end",
        "    assert longestValidParentheses(\")(()())\") == 6, \"Failed test case 7\"",
        "    ",
        "    # Test case 8: All opening parentheses",
        "    assert longestValidParentheses(\"((((\") == 0, \"Failed test case 8\"",
        "    ",
        "    # Test case 9: All closing parentheses",
        "    assert longestValidParentheses(\"))))\") == 0, \"Failed test case 9\"",
        "    ",
        "    print(\"All test cases passed!\")",
        "",
        "# Run the tests",
        "test_longestValidParentheses()",
        ""
      ],
      "execution_count": null,
      "outputs": []
    }
  ],
  "metadata": {
    "kernelspec": {
      "display_name": "Python 3",
      "language": "python",
      "name": "python3"
    },
    "language_info": {
      "codemirror_mode": {
        "name": "ipython",
        "version": 3
      },
      "file_extension": ".py",
      "mimetype": "text/x-python",
      "name": "python",
      "nbconvert_exporter": "python",
      "pygments_lexer": "ipython3",
      "version": "3.11.9"
    }
  },
  "nbformat": 4,
  "nbformat_minor": 5
}