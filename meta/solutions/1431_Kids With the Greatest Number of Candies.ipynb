{
  "cells": [
    {
      "cell_type": "markdown",
      "metadata": {},
      "source": [
        "# 1431. Kids With the Greatest Number of Candies"
      ]
    },
    {
      "cell_type": "markdown",
      "metadata": {},
      "source": [
        "There are n kids with candies. You are given an integer array candies, where each candies[i] represents the number of candies the ith kid has, and an integer extraCandies, denoting the number of extra candies that you have.",
        "",
        "",
        "",
        "Return a boolean array result of length n, where result[i] is true if, after giving the ith kid all the extraCandies, they will have the greatest number of candies among all the kids, or false otherwise.",
        "",
        "",
        "",
        "Note that multiple kids can have the greatest number of candies.",
        "",
        "",
        "",
        " ",
        "",
        "",
        "",
        "**Example 1:**",
        "",
        "",
        "",
        "Input: candies = [2,3,5,1,3], extraCandies = 3",
        "",
        "Output: [true,true,true,false,true] ",
        "",
        "Explanation: If you give all extraCandies to:",
        "",
        "- Kid 1, they will have 2 + 3 = 5 candies, which is the greatest among the kids.",
        "",
        "- Kid 2, they will have 3 + 3 = 6 candies, which is the greatest among the kids.",
        "",
        "- Kid 3, they will have 5 + 3 = 8 candies, which is the greatest among the kids.",
        "",
        "- Kid 4, they will have 1 + 3 = 4 candies, which is not the greatest among the kids.",
        "",
        "- Kid 5, they will have 3 + 3 = 6 candies, which is the greatest among the kids.",
        "",
        "**Example 2:**",
        "",
        "",
        "",
        "Input: candies = [4,2,1,1,2], extraCandies = 1",
        "",
        "Output: [true,false,false,false,false] ",
        "",
        "Explanation: There is only 1 extra candy.",
        "",
        "Kid 1 will always have the greatest number of candies, even if a different kid is given the extra candy.",
        "",
        "**Example 3:**",
        "",
        "",
        "",
        "Input: candies = [12,1,12], extraCandies = 10",
        "",
        "Output: [true,false,true]",
        "",
        " ",
        "",
        "",
        "",
        "**Constraints:**",
        "",
        "",
        "",
        "n == candies.length",
        "",
        "2 <= n <= 100",
        "",
        "1 <= candies[i] <= 100",
        "",
        "1 <= extraCandies <= 50"
      ]
    },
    {
      "cell_type": "markdown",
      "metadata": {},
      "source": [
        "## Solution Explanation\n",
        "To solve this problem, we need to determine if each kid can have the greatest number of candies after receiving the extra candies. A kid will have the greatest number of candies if their total (original + extra) is greater than or equal to the maximum number of candies any kid has originally.",
        "",
        "The approach is straightforward:",
        "1. Find the maximum number of candies among all kids.",
        "2. For each kid, check if their candies + extraCandies is greater than or equal to this maximum.",
        "3. If it is, they can have the greatest number of candies, so the result is true. Otherwise, it's false.",
        "",
        "This works because we're comparing each kid's potential maximum against the current maximum. If they can reach or exceed the current maximum, they'll have the greatest number (possibly tied with others)."
      ]
    },
    {
      "cell_type": "code",
      "metadata": {},
      "source": [
        "def kidsWithCandies(candies, extraCandies):",
        "    \"\"\"",
        "    :type candies: List[int]",
        "    :type extraCandies: int",
        "    :rtype: List[bool]",
        "    \"\"\"",
        "    max_candies = max(candies)",
        "    result = []",
        "    ",
        "    for candy in candies:",
        "        if candy + extraCandies >= max_candies:",
        "            result.append(True)",
        "        else:",
        "            result.append(False)",
        "    ",
        "    # Alternative one-liner:",
        "    # result = [candy + extraCandies >= max_candies for candy in candies]",
        "    ",
        "    return result",
        ""
      ],
      "execution_count": null,
      "outputs": []
    },
    {
      "cell_type": "markdown",
      "metadata": {},
      "source": [
        "## Time and Space Complexity\n",
        "* *Time Complexity**: O(n), where n is the number of kids (length of the candies array).",
        "* Finding the maximum value in the array takes O(n) time.",
        "* Iterating through each kid to determine if they can have the greatest number of candies also takes O(n) time.",
        "* Overall, the time complexity is O(n).",
        "* *Space Complexity**: O(n) for the result array that stores a boolean value for each kid.",
        "* We need to store n boolean values in the result array.",
        "* No additional data structures are used that scale with input size."
      ]
    },
    {
      "cell_type": "markdown",
      "metadata": {},
      "source": [
        "## Test Cases\n"
      ]
    },
    {
      "cell_type": "code",
      "metadata": {},
      "source": [
        "def test_kids_with_candies():",
        "    # Test case 1: Example from the problem",
        "    assert kidsWithCandies([2, 3, 5, 1, 3], 3) == [True, True, True, False, True]",
        "    ",
        "    # Test case 2: Example from the problem",
        "    assert kidsWithCandies([4, 2, 1, 1, 2], 1) == [True, False, False, False, False]",
        "    ",
        "    # Test case 3: Example from the problem",
        "    assert kidsWithCandies([12, 1, 12], 10) == [True, False, True]",
        "    ",
        "    # Test case 4: All kids have the same number of candies",
        "    assert kidsWithCandies([5, 5, 5, 5], 3) == [True, True, True, True]",
        "    ",
        "    # Test case 5: Edge case - minimum constraints",
        "    assert kidsWithCandies([1, 1], 50) == [True, True]",
        "    ",
        "    # Test case 6: Edge case - one kid has significantly more candies",
        "    assert kidsWithCandies([100, 1, 1, 1, 1], 0) == [True, False, False, False, False]",
        "    ",
        "    # Test case 7: Edge case - extraCandies is 0",
        "    assert kidsWithCandies([5, 3, 2, 1], 0) == [True, False, False, False]",
        "    ",
        "    print(\"All test cases passed!\")",
        "",
        "# Run the tests",
        "test_kids_with_candies()",
        ""
      ],
      "execution_count": null,
      "outputs": []
    }
  ],
  "metadata": {
    "kernelspec": {
      "display_name": "Python 3",
      "language": "python",
      "name": "python3"
    },
    "language_info": {
      "codemirror_mode": {
        "name": "ipython",
        "version": 3
      },
      "file_extension": ".py",
      "mimetype": "text/x-python",
      "name": "python",
      "nbconvert_exporter": "python",
      "pygments_lexer": "ipython3",
      "version": "3.11.9"
    }
  },
  "nbformat": 4,
  "nbformat_minor": 5
}