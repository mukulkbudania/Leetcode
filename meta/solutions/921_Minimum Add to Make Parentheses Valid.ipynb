{
  "cells": [
    {
      "cell_type": "markdown",
      "metadata": {},
      "source": [
        "# 921. Minimum Add to Make Parentheses Valid"
      ]
    },
    {
      "cell_type": "markdown",
      "metadata": {},
      "source": [
        "A parentheses string is valid if and only if:",
        "",
        "",
        "",
        "It is the empty string,",
        "",
        "It can be written as AB (A concatenated with B), where A and B are valid strings, or",
        "",
        "It can be written as (A), where A is a valid string.",
        "",
        "You are given a parentheses string s. In one move, you can insert a parenthesis at any position of the string.",
        "",
        "",
        "",
        "For example, if s = \"()))\", you can insert an opening parenthesis to be \"(()))\" or a closing parenthesis to be \"())))\".",
        "",
        "Return the minimum number of moves required to make s valid.",
        "",
        "",
        "",
        " ",
        "",
        "",
        "",
        "**Example 1:**",
        "",
        "",
        "",
        "Input: s = \"())\"",
        "",
        "Output: 1",
        "",
        "**Example 2:**",
        "",
        "",
        "",
        "Input: s = \"(((\"",
        "",
        "Output: 3",
        "",
        " ",
        "",
        "",
        "",
        "**Constraints:**",
        "",
        "",
        "",
        "1 <= s.length <= 1000",
        "",
        "s[i] is either '(' or ')'."
      ]
    },
    {
      "cell_type": "markdown",
      "metadata": {},
      "source": [
        "## Solution Explanation\n",
        "To solve this problem, we need to make the parentheses string valid by inserting either opening or closing parentheses. The key insight is to track the balance of parentheses as we scan through the string.",
        "",
        "The approach is:",
        "1. Iterate through the string from left to right.",
        "2. Keep track of the number of open parentheses (balance).",
        "3. If we encounter an opening parenthesis '(', increment the balance.",
        "4. If we encounter a closing parenthesis ')', decrement the balance.",
        "5. If the balance becomes negative (more closing than opening), we need to insert an opening parenthesis to make it valid. Increment our moves counter and reset the balance to 0.",
        "6. After processing the entire string, if there are any unmatched opening parentheses (balance > 0), we need to add that many closing parentheses.",
        "",
        "This approach ensures we handle both cases:",
        "* Too many closing parentheses: We add opening parentheses as needed during the scan",
        "* Too many opening parentheses: We add closing parentheses at the end"
      ]
    },
    {
      "cell_type": "code",
      "metadata": {},
      "source": [
        "def minAddToMakeValid(s: str) -> int:",
        "    \"\"\"",
        "    Returns the minimum number of parentheses needed to make the string valid.",
        "    ",
        "    Args:",
        "        s: A string containing only '(' and ')' characters",
        "        ",
        "    Returns:",
        "        The minimum number of moves (insertions) required to make s valid",
        "    \"\"\"",
        "    moves = 0",
        "    balance = 0",
        "    ",
        "    # Process each character in the string",
        "    for char in s:",
        "        if char == '(':",
        "            balance += 1",
        "        else:  # char == ')'",
        "            balance -= 1",
        "            ",
        "        # If balance becomes negative, we need to add an opening parenthesis",
        "        if balance < 0:",
        "            moves += 1",
        "            balance = 0",
        "    ",
        "    # If there are unmatched opening parentheses, we need to add closing parentheses",
        "    moves += balance",
        "    ",
        "    return moves",
        ""
      ],
      "execution_count": null,
      "outputs": []
    },
    {
      "cell_type": "markdown",
      "metadata": {},
      "source": [
        "## Time and Space Complexity\n",
        "* *Time Complexity**: O(n) where n is the length of the input string. We iterate through the string once, performing constant-time operations for each character.",
        "* *Space Complexity**: O(1) as we only use a constant amount of extra space regardless of the input size. We just maintain two integer variables: `moves` and `balance`."
      ]
    },
    {
      "cell_type": "markdown",
      "metadata": {},
      "source": [
        "## Test Cases\n"
      ]
    },
    {
      "cell_type": "code",
      "metadata": {},
      "source": [
        "def test_minAddToMakeValid():",
        "    # Test case 1: Example 1 from the problem",
        "    assert minAddToMakeValid(\"())\") == 1, \"Failed for s = '())'\"",
        "    ",
        "    # Test case 2: Example 2 from the problem",
        "    assert minAddToMakeValid(\"(((\") == 3, \"Failed for s = '((('\"",
        "    ",
        "    # Test case 3: Already valid string",
        "    assert minAddToMakeValid(\"()()\") == 0, \"Failed for s = '()()'\"",
        "    ",
        "    # Test case 4: Empty string",
        "    assert minAddToMakeValid(\"\") == 0, \"Failed for empty string\"",
        "    ",
        "    # Test case 5: Alternating pattern requiring multiple insertions",
        "    assert minAddToMakeValid(\")()(\") == 2, \"Failed for s = ')()('\"",
        "    ",
        "    # Test case 6: All closing parentheses",
        "    assert minAddToMakeValid(\")))\") == 3, \"Failed for s = ')))'\"",
        "    ",
        "    # Test case 7: All opening parentheses",
        "    assert minAddToMakeValid(\"(((\") == 3, \"Failed for s = '((('\"",
        "    ",
        "    # Test case 8: Complex case with multiple imbalances",
        "    assert minAddToMakeValid(\"()))((\") == 4, \"Failed for s = '()))(('\"",
        "    ",
        "    print(\"All test cases passed!\")",
        "",
        "# Run the tests",
        "test_minAddToMakeValid()",
        ""
      ],
      "execution_count": null,
      "outputs": []
    }
  ],
  "metadata": {
    "kernelspec": {
      "display_name": "Python 3",
      "language": "python",
      "name": "python3"
    },
    "language_info": {
      "codemirror_mode": {
        "name": "ipython",
        "version": 3
      },
      "file_extension": ".py",
      "mimetype": "text/x-python",
      "name": "python",
      "nbconvert_exporter": "python",
      "pygments_lexer": "ipython3",
      "version": "3.11.9"
    }
  },
  "nbformat": 4,
  "nbformat_minor": 5
}