{
  "cells": [
    {
      "cell_type": "markdown",
      "metadata": {},
      "source": [
        "# 90. Subsets II"
      ]
    },
    {
      "cell_type": "markdown",
      "metadata": {},
      "source": [
        "Given an integer array nums that may contain duplicates, return all possible subsets (the power set).",
        "",
        "",
        "",
        "The solution set must not contain duplicate subsets. Return the solution in any order.",
        "",
        "",
        "",
        " ",
        "",
        "",
        "",
        "**Example 1:**",
        "",
        "",
        "",
        "Input: nums = [1,2,2]",
        "",
        "Output: [[],[1],[1,2],[1,2,2],[2],[2,2]]",
        "",
        "**Example 2:**",
        "",
        "",
        "",
        "Input: nums = [0]",
        "",
        "Output: [[],[0]]",
        "",
        " ",
        "",
        "",
        "",
        "**Constraints:**",
        "",
        "",
        "",
        "1 <= nums.length <= 10",
        "",
        "-10 <= nums[i] <= 10"
      ]
    },
    {
      "cell_type": "markdown",
      "metadata": {},
      "source": [
        "## Solution Explanation\n",
        "This problem asks us to find all possible subsets of an array that may contain duplicates, without including duplicate subsets in the result.",
        "",
        "The key challenge is handling duplicates. If we use a standard backtracking approach without any modifications, we'll generate duplicate subsets when the input array contains duplicate elements.",
        "",
        "My approach is to:",
        "1. Sort the array first - this groups duplicate elements together",
        "2. Use backtracking to generate all subsets",
        "3. Skip duplicate elements at the same level of recursion to avoid generating duplicate subsets",
        "",
        "The backtracking algorithm works as follows:",
        "* We maintain a current subset and an index indicating our position in the array",
        "* At each step, we have two choices:",
        "* Include the current element in our subset",
        "* Skip the current element",
        "* After making either choice, we recursively process the remaining elements",
        "* To avoid duplicates, when we decide to skip an element, we also skip all its duplicates at the current level",
        "",
        "This approach ensures that each unique subset is generated exactly once."
      ]
    },
    {
      "cell_type": "code",
      "metadata": {},
      "source": [
        "def subsetsWithDup(nums):",
        "    nums.sort()  # Sort to group duplicates together",
        "    result = []",
        "    ",
        "    def backtrack(start, current):",
        "        # Add the current subset to the result",
        "        result.append(current[:])",
        "        ",
        "        for i in range(start, len(nums)):",
        "            # Skip duplicates at the same level",
        "            if i > start and nums[i] == nums[i-1]:",
        "                continue",
        "                ",
        "            # Include nums[i] in the current subset",
        "            current.append(nums[i])",
        "            ",
        "            # Recursively generate subsets with nums[i] included",
        "            backtrack(i + 1, current)",
        "            ",
        "            # Backtrack: remove nums[i] to try the next element",
        "            current.pop()",
        "    ",
        "    backtrack(0, [])",
        "    return result",
        ""
      ],
      "execution_count": null,
      "outputs": []
    },
    {
      "cell_type": "markdown",
      "metadata": {},
      "source": [
        "## Time and Space Complexity\n",
        "* *Time Complexity**: O(n * 2^n)",
        "* There are 2^n possible subsets for an array of length n",
        "* For each subset, we may need O(n) time to copy it to the result",
        "* The sorting operation takes O(n log n), but this is dominated by the subset generation",
        "* *Space Complexity**: O(n * 2^n)",
        "* We need to store all 2^n subsets",
        "* Each subset can have up to n elements",
        "* The recursion stack can go up to depth n",
        "* The space for the output dominates, so the overall space complexity is O(n * 2^n)"
      ]
    },
    {
      "cell_type": "markdown",
      "metadata": {},
      "source": [
        "## Test Cases\n"
      ]
    },
    {
      "cell_type": "code",
      "metadata": {},
      "source": [
        "def test_subsetsWithDup():",
        "    # Test case 1: Array with duplicates",
        "    nums1 = [1, 2, 2]",
        "    result1 = subsetsWithDup(nums1)",
        "    expected1 = [[], [1], [1, 2], [1, 2, 2], [2], [2, 2]]",
        "    assert sorted([sorted(subset) for subset in result1]) == sorted([sorted(subset) for subset in expected1]), f\"Test case 1 failed: {result1}\"",
        "    ",
        "    # Test case 2: Single element array",
        "    nums2 = [0]",
        "    result2 = subsetsWithDup(nums2)",
        "    expected2 = [[], [0]]",
        "    assert sorted([sorted(subset) for subset in result2]) == sorted([sorted(subset) for subset in expected2]), f\"Test case 2 failed: {result2}\"",
        "    ",
        "    # Test case 3: Array with multiple duplicates",
        "    nums3 = [1, 2, 2, 3, 3]",
        "    result3 = subsetsWithDup(nums3)",
        "    # Check the length - should be 12 unique subsets",
        "    assert len(result3) == 12, f\"Test case 3 failed, expected 12 subsets, got {len(result3)}\"",
        "    ",
        "    # Test case 4: Empty array",
        "    nums4 = []",
        "    result4 = subsetsWithDup(nums4)",
        "    expected4 = [[]]",
        "    assert result4 == expected4, f\"Test case 4 failed: {result4}\"",
        "    ",
        "    # Test case 5: Array with all duplicates",
        "    nums5 = [1, 1, 1]",
        "    result5 = subsetsWithDup(nums5)",
        "    expected5 = [[], [1], [1, 1], [1, 1, 1]]",
        "    assert sorted([sorted(subset) for subset in result5]) == sorted([sorted(subset) for subset in expected5]), f\"Test case 5 failed: {result5}\"",
        "    ",
        "    print(\"All test cases passed!\")",
        "",
        "# Run the tests",
        "test_subsetsWithDup()",
        ""
      ],
      "execution_count": null,
      "outputs": []
    }
  ],
  "metadata": {
    "kernelspec": {
      "display_name": "Python 3",
      "language": "python",
      "name": "python3"
    },
    "language_info": {
      "codemirror_mode": {
        "name": "ipython",
        "version": 3
      },
      "file_extension": ".py",
      "mimetype": "text/x-python",
      "name": "python",
      "nbconvert_exporter": "python",
      "pygments_lexer": "ipython3",
      "version": "3.11.9"
    }
  },
  "nbformat": 4,
  "nbformat_minor": 5
}