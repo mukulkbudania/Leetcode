{
  "cells": [
    {
      "cell_type": "markdown",
      "metadata": {},
      "source": [
        "# 503. Next Greater Element II"
      ]
    },
    {
      "cell_type": "markdown",
      "metadata": {},
      "source": [
        "Given a circular integer array nums (i.e., the next element of nums[nums.length - 1] is nums[0]), return the next greater number for every element in nums.",
        "",
        "",
        "",
        "The next greater number of a number x is the first greater number to its traversing-order next in the array, which means you could search circularly to find its next greater number. If it doesn't exist, return -1 for this number.",
        "",
        "",
        "",
        " ",
        "",
        "",
        "",
        "**Example 1:**",
        "",
        "",
        "",
        "Input: nums = [1,2,1]",
        "",
        "Output: [2,-1,2]",
        "",
        "Explanation: The first 1's next greater number is 2; ",
        "",
        "The number 2 can't find next greater number. ",
        "",
        "The second 1's next greater number needs to search circularly, which is also 2.",
        "",
        "**Example 2:**",
        "",
        "",
        "",
        "Input: nums = [1,2,3,4,3]",
        "",
        "Output: [2,3,4,-1,4]",
        "",
        " ",
        "",
        "",
        "",
        "**Constraints:**",
        "",
        "",
        "",
        "1 <= nums.length <= 104",
        "",
        "-109 <= nums[i] <= 109"
      ]
    },
    {
      "cell_type": "markdown",
      "metadata": {},
      "source": [
        "## Solution Explanation\n",
        "This problem asks us to find the next greater element for each number in a circular array. A key insight is that we need to use a monotonic stack to efficiently find the next greater element.",
        "",
        "The approach is as follows:",
        "1. Initialize an array `result` of the same length as `nums` with all elements set to -1 (default when no greater element exists).",
        "2. Use a stack to keep track of indices of elements for which we haven't found the next greater element yet.",
        "3. Iterate through the array twice (to handle the circular nature) using the modulo operator.",
        "4. For each element:",
        "* While the stack is not empty and the current element is greater than the element at the index at the top of the stack, we've found a next greater element.",
        "* Pop the index from the stack and update the result for that index.",
        "* Push the current index onto the stack.",
        "",
        "The monotonic stack approach works because we only keep elements in the stack that are waiting for their next greater element, and we process them as soon as we find a greater element."
      ]
    },
    {
      "cell_type": "code",
      "metadata": {},
      "source": [
        "def nextGreaterElements(nums):",
        "    n = len(nums)",
        "    result = [-1] * n",
        "    stack = []  # Stack to store indices of elements",
        "    ",
        "    # Iterate through the array twice to handle circular nature",
        "    for i in range(2 * n):",
        "        # Get the actual index in the original array",
        "        curr_idx = i % n",
        "        ",
        "        # While stack is not empty and current element is greater than the element at stack top",
        "        while stack and nums[curr_idx] > nums[stack[-1]]:",
        "            # Pop the index and update its next greater element",
        "            prev_idx = stack.pop()",
        "            result[prev_idx] = nums[curr_idx]",
        "        ",
        "        # Only push indices from the first iteration",
        "        if i < n:",
        "            stack.append(curr_idx)",
        "    ",
        "    return result",
        ""
      ],
      "execution_count": null,
      "outputs": []
    },
    {
      "cell_type": "markdown",
      "metadata": {},
      "source": [
        "## Time and Space Complexity\n",
        "* *Time Complexity**: O(n), where n is the length of the input array. Although we iterate through the array twice (2n iterations), each element is pushed and popped from the stack at most once, resulting in O(n) operations.",
        "* *Space Complexity**: O(n) for the result array and the stack. In the worst case, the stack might contain all indices of the array (e.g., when the array is in descending order)."
      ]
    },
    {
      "cell_type": "markdown",
      "metadata": {},
      "source": [
        "## Test Cases\n"
      ]
    },
    {
      "cell_type": "code",
      "metadata": {},
      "source": [
        "def test_next_greater_elements():",
        "    # Test case 1: Example from problem statement",
        "    assert nextGreaterElements([1, 2, 1]) == [2, -1, 2]",
        "    ",
        "    # Test case 2: Another example from problem statement",
        "    assert nextGreaterElements([1, 2, 3, 4, 3]) == [2, 3, 4, -1, 4]",
        "    ",
        "    # Test case 3: All elements are the same",
        "    assert nextGreaterElements([5, 5, 5]) == [-1, -1, -1]",
        "    ",
        "    # Test case 4: Empty array",
        "    assert nextGreaterElements([]) == []",
        "    ",
        "    # Test case 5: Single element",
        "    assert nextGreaterElements([7]) == [-1]",
        "    ",
        "    # Test case 6: Decreasing order",
        "    assert nextGreaterElements([5, 4, 3, 2, 1]) == [-1, 5, 5, 5, 5]",
        "    ",
        "    # Test case 7: Increasing order",
        "    assert nextGreaterElements([1, 2, 3, 4, 5]) == [2, 3, 4, 5, -1]",
        "    ",
        "    print(\"All test cases passed!\")",
        "",
        "# Run the tests",
        "test_next_greater_elements()",
        ""
      ],
      "execution_count": null,
      "outputs": []
    }
  ],
  "metadata": {
    "kernelspec": {
      "display_name": "Python 3",
      "language": "python",
      "name": "python3"
    },
    "language_info": {
      "codemirror_mode": {
        "name": "ipython",
        "version": 3
      },
      "file_extension": ".py",
      "mimetype": "text/x-python",
      "name": "python",
      "nbconvert_exporter": "python",
      "pygments_lexer": "ipython3",
      "version": "3.11.9"
    }
  },
  "nbformat": 4,
  "nbformat_minor": 5
}