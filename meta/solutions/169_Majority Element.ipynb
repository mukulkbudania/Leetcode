{
  "cells": [
    {
      "cell_type": "markdown",
      "metadata": {},
      "source": [
        "# 169. Majority Element"
      ]
    },
    {
      "cell_type": "markdown",
      "metadata": {},
      "source": [
        "Given an array nums of size n, return the majority element.",
        "",
        "",
        "",
        "The majority element is the element that appears more than \u230an / 2\u230b times. You may assume that the majority element always exists in the array.",
        "",
        "",
        "",
        " ",
        "",
        "",
        "",
        "**Example 1:**",
        "",
        "",
        "",
        "Input: nums = [3,2,3]",
        "",
        "Output: 3",
        "",
        "**Example 2:**",
        "",
        "",
        "",
        "Input: nums = [2,2,1,1,1,2,2]",
        "",
        "Output: 2",
        "",
        " ",
        "",
        "",
        "",
        "**Constraints:**",
        "",
        "",
        "",
        "n == nums.length",
        "",
        "1 <= n <= 5 * 104",
        "",
        "-109 <= nums[i] <= 109",
        "",
        " ",
        "",
        "",
        "",
        "Follow-up: Could you solve the problem in linear time and in O(1) space?"
      ]
    },
    {
      "cell_type": "markdown",
      "metadata": {},
      "source": [
        "## Solution Explanation\n",
        "This problem asks us to find the majority element in an array, which is defined as the element that appears more than \u230an/2\u230b times. There are several approaches to solve this:",
        "",
        "1. **Brute Force**: Count occurrences of each element (using a hash map) and return the one that appears more than n/2 times. This requires O(n) time and O(n) space.",
        "",
        "2. **Sorting**: Sort the array and return the middle element. Since the majority element appears more than n/2 times, it will always be at the middle position after sorting. This requires O(n log n) time and O(1) extra space.",
        "",
        "3. **Boyer-Moore Voting Algorithm**: This is the most efficient approach with O(n) time and O(1) space. The algorithm works by:",
        "* Maintaining a count and a candidate",
        "* For each element, if the count is 0, we set the current element as the candidate",
        "* If the current element is the same as the candidate, we increment the count",
        "* If the current element is different from the candidate, we decrement the count",
        "* The final candidate will be the majority element",
        "",
        "I'll implement the Boyer-Moore Voting Algorithm since it's the most efficient and satisfies the follow-up requirement of O(n) time and O(1) space."
      ]
    },
    {
      "cell_type": "code",
      "metadata": {},
      "source": [
        "def majorityElement(nums):",
        "    \"\"\"",
        "    Find the majority element in the array using Boyer-Moore Voting Algorithm.",
        "    ",
        "    Args:",
        "        nums: List[int] - Array of integers",
        "        ",
        "    Returns:",
        "        int - The majority element",
        "    \"\"\"",
        "    count = 0",
        "    candidate = None",
        "    ",
        "    # First pass: Find the candidate for majority element",
        "    for num in nums:",
        "        if count == 0:",
        "            candidate = num",
        "        ",
        "        if num == candidate:",
        "            count += 1",
        "        else:",
        "            count -= 1",
        "    ",
        "    # Since the problem states that the majority element always exists,",
        "    # we don't need a second pass to verify the candidate",
        "    return candidate",
        ""
      ],
      "execution_count": null,
      "outputs": []
    },
    {
      "cell_type": "markdown",
      "metadata": {},
      "source": [
        "## Time and Space Complexity\n",
        "* *Time Complexity**: O(n) where n is the length of the input array. We only need to iterate through the array once.",
        "* *Space Complexity**: O(1) as we only use two variables (count and candidate) regardless of the input size.",
        "",
        "The Boyer-Moore Voting Algorithm is optimal for this problem since:",
        "1. It achieves linear time complexity by processing each element exactly once",
        "2. It uses constant space regardless of input size",
        "3. It takes advantage of the problem's guarantee that a majority element always exists"
      ]
    },
    {
      "cell_type": "markdown",
      "metadata": {},
      "source": [
        "## Test Cases\n"
      ]
    },
    {
      "cell_type": "code",
      "metadata": {},
      "source": [
        "def test_majority_element():",
        "    # Test case 1: Simple case with odd length",
        "    assert majorityElement([3, 2, 3]) == 3",
        "    ",
        "    # Test case 2: Longer array with multiple occurrences",
        "    assert majorityElement([2, 2, 1, 1, 1, 2, 2]) == 2",
        "    ",
        "    # Test case 3: Array with only one element",
        "    assert majorityElement([1]) == 1",
        "    ",
        "    # Test case 4: Array where all elements are the same",
        "    assert majorityElement([5, 5, 5, 5]) == 5",
        "    ",
        "    # Test case 5: Array with negative numbers",
        "    assert majorityElement([-1, -1, -1, 2, 2]) == -1",
        "    ",
        "    # Test case 6: Array with exactly n/2 + 1 occurrences of majority element",
        "    assert majorityElement([1, 2, 1, 2, 1]) == 1",
        "    ",
        "    # Test case 7: Large array with majority element",
        "    large_array = [7] * 10000 + [9] * 9999",
        "    assert majorityElement(large_array) == 7",
        "    ",
        "    print(\"All test cases passed!\")",
        "",
        "# Run the tests",
        "test_majority_element()",
        ""
      ],
      "execution_count": null,
      "outputs": []
    }
  ],
  "metadata": {
    "kernelspec": {
      "display_name": "Python 3",
      "language": "python",
      "name": "python3"
    },
    "language_info": {
      "codemirror_mode": {
        "name": "ipython",
        "version": 3
      },
      "file_extension": ".py",
      "mimetype": "text/x-python",
      "name": "python",
      "nbconvert_exporter": "python",
      "pygments_lexer": "ipython3",
      "version": "3.11.9"
    }
  },
  "nbformat": 4,
  "nbformat_minor": 5
}