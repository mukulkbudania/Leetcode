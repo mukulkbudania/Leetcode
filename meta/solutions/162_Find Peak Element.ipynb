{
  "cells": [
    {
      "cell_type": "markdown",
      "metadata": {},
      "source": [
        "# 162. Find Peak Element"
      ]
    },
    {
      "cell_type": "markdown",
      "metadata": {},
      "source": [
        "A peak element is an element that is strictly greater than its neighbors.",
        "",
        "",
        "",
        "Given a 0-indexed integer array nums, find a peak element, and return its index. If the array contains multiple peaks, return the index to any of the peaks.",
        "",
        "",
        "",
        "You may imagine that nums[-1] = nums[n] = -\u221e. In other words, an element is always considered to be strictly greater than a neighbor that is outside the array.",
        "",
        "",
        "",
        "You must write an algorithm that runs in O(log n) time.",
        "",
        "",
        "",
        " ",
        "",
        "",
        "",
        "**Example 1:**",
        "",
        "",
        "",
        "Input: nums = [1,2,3,1]",
        "",
        "Output: 2",
        "",
        "Explanation: 3 is a peak element and your function should return the index number 2.",
        "",
        "**Example 2:**",
        "",
        "",
        "",
        "Input: nums = [1,2,1,3,5,6,4]",
        "",
        "Output: 5",
        "",
        "Explanation: Your function can return either index number 1 where the peak element is 2, or index number 5 where the peak element is 6.",
        "",
        " ",
        "",
        "",
        "",
        "**Constraints:**",
        "",
        "",
        "",
        "1 <= nums.length <= 1000",
        "",
        "-231 <= nums[i] <= 231 - 1",
        "",
        "nums[i] != nums[i + 1] for all valid i."
      ]
    },
    {
      "cell_type": "markdown",
      "metadata": {},
      "source": [
        "## Solution Explanation\n",
        "To find a peak element in an array in O(log n) time, we need to use a binary search approach. A peak element is one that is greater than both its neighbors.",
        "",
        "The key insight is that if we're at an element and the element to its right is greater, then there must be a peak element to the right (either that element or another one further right). Similarly, if the element to the left is greater, there must be a peak to the left.",
        "",
        "The algorithm works as follows:",
        "1. Use binary search to narrow down the search space",
        "2. For each middle element, check if it's a peak by comparing with its neighbors",
        "3. If not a peak, move in the direction of the greater neighbor",
        "4. Since the problem states that elements outside the array are negative infinity, the array must have at least one peak",
        "",
        "This approach guarantees O(log n) time complexity as we're halving the search space in each iteration."
      ]
    },
    {
      "cell_type": "code",
      "metadata": {},
      "source": [
        "def findPeakElement(nums: list[int]) -> int:",
        "    left, right = 0, len(nums) - 1",
        "    ",
        "    while left < right:",
        "        mid = left + (right - left) // 2",
        "        ",
        "        # If mid element is less than its right neighbor,",
        "        # then a peak must exist on the right side",
        "        if nums[mid] < nums[mid + 1]:",
        "            left = mid + 1",
        "        # Otherwise, a peak must exist on the left side or at mid",
        "        else:",
        "            right = mid",
        "    ",
        "    # When left == right, we've found a peak",
        "    return left",
        ""
      ],
      "execution_count": null,
      "outputs": []
    },
    {
      "cell_type": "markdown",
      "metadata": {},
      "source": [
        "## Time and Space Complexity\n",
        "* *Time Complexity**: O(log n), where n is the length of the input array. This is because we're using binary search which halves the search space in each iteration.",
        "* *Space Complexity**: O(1), as we only use a constant amount of extra space regardless of the input size. We're just using a few variables (left, right, mid) to keep track of indices."
      ]
    },
    {
      "cell_type": "markdown",
      "metadata": {},
      "source": [
        "## Test Cases\n"
      ]
    },
    {
      "cell_type": "code",
      "metadata": {},
      "source": [
        "def test_findPeakElement():",
        "    # Test case 1: Simple peak in the middle",
        "    assert findPeakElement([1, 2, 3, 1]) == 2",
        "    ",
        "    # Test case 2: Multiple peaks",
        "    result = findPeakElement([1, 2, 1, 3, 5, 6, 4])",
        "    assert result == 1 or result == 5  # Either 2 or 6 can be returned as peak",
        "    ",
        "    # Test case 3: Peak at the beginning",
        "    assert findPeakElement([5, 4, 3, 2, 1]) == 0",
        "    ",
        "    # Test case 4: Peak at the end",
        "    assert findPeakElement([1, 2, 3, 4, 5]) == 4",
        "    ",
        "    # Test case 5: Single element array",
        "    assert findPeakElement([1]) == 0",
        "    ",
        "    # Test case 6: Two elements, peak at first",
        "    assert findPeakElement([2, 1]) == 0",
        "    ",
        "    # Test case 7: Two elements, peak at second",
        "    assert findPeakElement([1, 2]) == 1",
        "    ",
        "    # Test case 8: Array with negative numbers",
        "    assert findPeakElement([-3, -2, -5, -1]) == 1",
        "    ",
        "    print(\"All test cases passed!\")",
        "",
        "# Run the tests",
        "test_findPeakElement()",
        ""
      ],
      "execution_count": null,
      "outputs": []
    }
  ],
  "metadata": {
    "kernelspec": {
      "display_name": "Python 3",
      "language": "python",
      "name": "python3"
    },
    "language_info": {
      "codemirror_mode": {
        "name": "ipython",
        "version": 3
      },
      "file_extension": ".py",
      "mimetype": "text/x-python",
      "name": "python",
      "nbconvert_exporter": "python",
      "pygments_lexer": "ipython3",
      "version": "3.11.9"
    }
  },
  "nbformat": 4,
  "nbformat_minor": 5
}