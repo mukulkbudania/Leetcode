{
  "cells": [
    {
      "cell_type": "markdown",
      "metadata": {},
      "source": [
        "# 398. Random Pick Index"
      ]
    },
    {
      "cell_type": "markdown",
      "metadata": {},
      "source": [
        "Given an integer array nums with possible duplicates, randomly output the index of a given target number. You can assume that the given target number must exist in the array.",
        "",
        "",
        "",
        "Implement the Solution class:",
        "",
        "",
        "",
        "Solution(int[] nums) Initializes the object with the array nums.",
        "",
        "int pick(int target) Picks a random index i from nums where nums[i] == target. If there are multiple valid i's, then each index should have an equal probability of returning.",
        "",
        " ",
        "",
        "",
        "",
        "**Example 1:**",
        "",
        "",
        "",
        "Input",
        "",
        "[\"Solution\", \"pick\", \"pick\", \"pick\"]",
        "",
        "[[[1, 2, 3, 3, 3]], [3], [1], [3]]",
        "",
        "Output",
        "",
        "[null, 4, 0, 2]",
        "",
        "",
        "",
        "Explanation",
        "",
        "Solution solution = new Solution([1, 2, 3, 3, 3]);",
        "",
        "solution.pick(3); // It should return either index 2, 3, or 4 randomly. Each index should have equal probability of returning.",
        "",
        "solution.pick(1); // It should return 0. Since in the array only nums[0] is equal to 1.",
        "",
        "solution.pick(3); // It should return either index 2, 3, or 4 randomly. Each index should have equal probability of returning.",
        "",
        " ",
        "",
        "",
        "",
        "**Constraints:**",
        "",
        "",
        "",
        "1 <= nums.length <= 2 * 104",
        "",
        "-231 <= nums[i] <= 231 - 1",
        "",
        "target is an integer from nums.",
        "",
        "At most 104 calls will be made to pick."
      ]
    },
    {
      "cell_type": "markdown",
      "metadata": {},
      "source": [
        "## Solution Explanation\n",
        "This problem asks us to randomly select an index where a target value appears in an array. The key insight is that we need to ensure equal probability for all valid indices.",
        "",
        "There are two main approaches to solve this:",
        "",
        "1. **Preprocessing Approach**: Store all indices for each number in a hash map during initialization. When `pick` is called, randomly select from the list of indices for the target.",
        "",
        "2. **Reservoir Sampling**: This is a more space-efficient approach where we don't need to store all indices. We can use reservoir sampling to select a random index with equal probability in a single pass through the array.",
        "",
        "I'll implement the preprocessing approach since it offers O(1) time complexity for the `pick` operation, which is beneficial if `pick` is called frequently. The trade-off is using more space to store the indices.",
        "",
        "The algorithm works as follows:",
        "1. In the constructor, create a hash map where keys are the numbers in the array and values are lists of indices where those numbers appear.",
        "2. In the `pick` method, retrieve the list of indices for the target number and randomly select one of them."
      ]
    },
    {
      "cell_type": "code",
      "metadata": {},
      "source": [
        "import random",
        "from collections import defaultdict",
        "",
        "class Solution:",
        "    def __init__(self, nums: list[int]):",
        "        self.index_map = defaultdict(list)",
        "        for i, num in enumerate(nums):",
        "            self.index_map[num].append(i)",
        "        ",
        "    def pick(self, target: int) -> int:",
        "        indices = self.index_map[target]",
        "        return random.choice(indices)",
        ""
      ],
      "execution_count": null,
      "outputs": []
    },
    {
      "cell_type": "markdown",
      "metadata": {},
      "source": [
        "## Time and Space Complexity\n",
        "* *Time Complexity:**",
        "* Constructor: O(n) where n is the length of the input array. We need to iterate through the entire array once.",
        "* `pick` method: O(1) since retrieving from a hash map and selecting a random element are both constant time operations.",
        "* *Space Complexity:**",
        "* O(n) for storing the hash map. In the worst case, if all elements are unique, we would store n entries with one index each. If there are duplicates, we still store n indices in total across all lists."
      ]
    },
    {
      "cell_type": "markdown",
      "metadata": {},
      "source": [
        "## Test Cases\n"
      ]
    },
    {
      "cell_type": "code",
      "metadata": {},
      "source": [
        "def test_solution():",
        "    # Test case 1: Basic functionality with duplicates",
        "    sol1 = Solution([1, 2, 3, 3, 3])",
        "    ",
        "    # Test picking a number with multiple occurrences",
        "    # We can't directly test randomness, but we can verify it returns a valid index",
        "    pick_3 = sol1.pick(3)",
        "    assert pick_3 in [2, 3, 4], f\"Expected index in [2, 3, 4], got {pick_3}\"",
        "    ",
        "    # Test picking a number with single occurrence",
        "    pick_1 = sol1.pick(1)",
        "    assert pick_1 == 0, f\"Expected index 0, got {pick_1}\"",
        "    ",
        "    # Test case 2: Array with a single element",
        "    sol2 = Solution([5])",
        "    pick_5 = sol2.pick(5)",
        "    assert pick_5 == 0, f\"Expected index 0, got {pick_5}\"",
        "    ",
        "    # Test case 3: Array with negative numbers",
        "    sol3 = Solution([-1, -1, -1, 0, 1])",
        "    pick_neg1 = sol3.pick(-1)",
        "    assert pick_neg1 in [0, 1, 2], f\"Expected index in [0, 1, 2], got {pick_neg1}\"",
        "    ",
        "    # Test case 4: Distribution test (statistical)",
        "    # This tests if the distribution is roughly uniform",
        "    sol4 = Solution([10, 10, 10, 10, 10])",
        "    counts = [0] * 5",
        "    trials = 10000",
        "    ",
        "    for _ in range(trials):",
        "        idx = sol4.pick(10)",
        "        counts[idx] += 1",
        "    ",
        "    # Check if each index was picked roughly the same number of times",
        "    expected = trials / 5",
        "    tolerance = 0.1  # Allow 10% deviation",
        "    for i, count in enumerate(counts):",
        "        assert abs(count - expected) < expected * tolerance, f\"Distribution not uniform at index {i}\"",
        "    ",
        "    print(\"All tests passed!\")",
        "",
        "# Run the tests",
        "test_solution()",
        ""
      ],
      "execution_count": null,
      "outputs": []
    }
  ],
  "metadata": {
    "kernelspec": {
      "display_name": "Python 3",
      "language": "python",
      "name": "python3"
    },
    "language_info": {
      "codemirror_mode": {
        "name": "ipython",
        "version": 3
      },
      "file_extension": ".py",
      "mimetype": "text/x-python",
      "name": "python",
      "nbconvert_exporter": "python",
      "pygments_lexer": "ipython3",
      "version": "3.11.9"
    }
  },
  "nbformat": 4,
  "nbformat_minor": 5
}