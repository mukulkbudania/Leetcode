{
  "cells": [
    {
      "cell_type": "markdown",
      "metadata": {},
      "source": [
        "# 187. Repeated DNA Sequences"
      ]
    },
    {
      "cell_type": "markdown",
      "metadata": {},
      "source": [
        "The DNA sequence is composed of a series of nucleotides abbreviated as 'A', 'C', 'G', and 'T'.",
        "",
        "",
        "",
        "For example, \"ACGAATTCCG\" is a DNA sequence.",
        "",
        "When studying DNA, it is useful to identify repeated sequences within the DNA.",
        "",
        "",
        "",
        "Given a string s that represents a DNA sequence, return all the 10-letter-long sequences (substrings) that occur more than once in a DNA molecule. You may return the answer in any order.",
        "",
        "",
        "",
        " ",
        "",
        "",
        "",
        "**Example 1:**",
        "",
        "",
        "",
        "Input: s = \"AAAAACCCCCAAAAACCCCCCAAAAAGGGTTT\"",
        "",
        "Output: [\"AAAAACCCCC\",\"CCCCCAAAAA\"]",
        "",
        "**Example 2:**",
        "",
        "",
        "",
        "Input: s = \"AAAAAAAAAAAAA\"",
        "",
        "Output: [\"AAAAAAAAAA\"]",
        "",
        " ",
        "",
        "",
        "",
        "**Constraints:**",
        "",
        "",
        "",
        "1 <= s.length <= 105",
        "",
        "s[i] is either 'A', 'C', 'G', or 'T'."
      ]
    },
    {
      "cell_type": "markdown",
      "metadata": {},
      "source": [
        "## Solution Explanation\n",
        "To solve this problem, we need to find all 10-letter-long substrings that appear more than once in the input string. This is a classic problem that can be solved using a hash set to track the substrings we've seen.",
        "",
        "The approach is straightforward:",
        "1. Iterate through the string and extract all possible 10-letter substrings.",
        "2. Use a hash set to keep track of substrings we've seen once.",
        "3. Use another hash set to store substrings we've seen more than once (our result).",
        "",
        "Since we're looking specifically for 10-letter substrings, we can use a sliding window approach to extract each substring efficiently. We'll start from index 0 and consider substrings of length 10 until we reach the end of the string."
      ]
    },
    {
      "cell_type": "code",
      "metadata": {},
      "source": [
        "def findRepeatedDnaSequences(s: str) -> list[str]:",
        "    \"\"\"",
        "    Find all 10-letter-long sequences that occur more than once in a DNA molecule.",
        "    ",
        "    Args:",
        "        s: A string representing a DNA sequence",
        "        ",
        "    Returns:",
        "        A list of all 10-letter-long sequences that appear more than once",
        "    \"\"\"",
        "    # If the string is less than 10 characters, no repeats are possible",
        "    if len(s) < 10:",
        "        return []",
        "    ",
        "    seen = set()        # Set to track sequences we've seen once",
        "    repeated = set()    # Set to track sequences we've seen more than once",
        "    ",
        "    # Iterate through all possible 10-letter substrings",
        "    for i in range(len(s) - 9):",
        "        substring = s[i:i+10]",
        "        ",
        "        # If we've seen this substring before, add it to repeated",
        "        if substring in seen:",
        "            repeated.add(substring)",
        "        # Otherwise, mark it as seen",
        "        else:",
        "            seen.add(substring)",
        "    ",
        "    # Convert the set to a list for the result",
        "    return list(repeated)",
        ""
      ],
      "execution_count": null,
      "outputs": []
    },
    {
      "cell_type": "markdown",
      "metadata": {},
      "source": [
        "## Time and Space Complexity\n",
        "* *Time Complexity**: O(n), where n is the length of the input string. We iterate through the string once, and for each position, we extract a substring of constant length (10). String slicing in Python is O(k) where k is the length of the slice, but since k is constant (10) here, each extraction is O(1). Set operations (checking if an element exists and adding an element) are generally O(1) on average.",
        "* *Space Complexity**: O(n), as in the worst case, we might store up to n-9 different substrings in our sets. Each substring has a constant length of 10, so the total space used by the sets is proportional to n."
      ]
    },
    {
      "cell_type": "markdown",
      "metadata": {},
      "source": [
        "## Test Cases\n"
      ]
    },
    {
      "cell_type": "code",
      "metadata": {},
      "source": [
        "def test_findRepeatedDnaSequences():",
        "    # Test case 1: Example from the problem",
        "    assert set(findRepeatedDnaSequences(\"AAAAACCCCCAAAAACCCCCCAAAAAGGGTTT\")) == set([\"AAAAACCCCC\", \"CCCCCAAAAA\"])",
        "    ",
        "    # Test case 2: Example from the problem",
        "    assert set(findRepeatedDnaSequences(\"AAAAAAAAAAAAA\")) == set([\"AAAAAAAAAA\"])",
        "    ",
        "    # Test case 3: No repeats",
        "    assert findRepeatedDnaSequences(\"ACGTACGTAC\") == []",
        "    ",
        "    # Test case 4: String shorter than 10 characters",
        "    assert findRepeatedDnaSequences(\"ACGT\") == []",
        "    ",
        "    # Test case 5: Multiple repeats",
        "    assert set(findRepeatedDnaSequences(\"ACGTACGTACGTACGTACGT\")) == set([\"ACGTACGTAC\", \"CGTACGTACG\", \"GTACGTACGT\", \"TACGTACGTA\"])",
        "    ",
        "    # Test case 6: Exactly 10 characters (no repeats possible)",
        "    assert findRepeatedDnaSequences(\"ACGTACGTAC\") == []",
        "    ",
        "    # Test case 7: Repeats with overlaps",
        "    assert set(findRepeatedDnaSequences(\"AAAAAAAAAAA\")) == set([\"AAAAAAAAAA\"])",
        "    ",
        "    print(\"All test cases passed!\")",
        "",
        "# Run the tests",
        "test_findRepeatedDnaSequences()",
        ""
      ],
      "execution_count": null,
      "outputs": []
    }
  ],
  "metadata": {
    "kernelspec": {
      "display_name": "Python 3",
      "language": "python",
      "name": "python3"
    },
    "language_info": {
      "codemirror_mode": {
        "name": "ipython",
        "version": 3
      },
      "file_extension": ".py",
      "mimetype": "text/x-python",
      "name": "python",
      "nbconvert_exporter": "python",
      "pygments_lexer": "ipython3",
      "version": "3.11.9"
    }
  },
  "nbformat": 4,
  "nbformat_minor": 5
}