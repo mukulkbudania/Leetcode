{
  "cells": [
    {
      "cell_type": "markdown",
      "metadata": {},
      "source": [
        "# 1732. Find the Highest Altitude"
      ]
    },
    {
      "cell_type": "markdown",
      "metadata": {},
      "source": [
        "There is a biker going on a road trip. The road trip consists of n + 1 points at different altitudes. The biker starts his trip on point 0 with altitude equal 0.",
        "",
        "",
        "",
        "You are given an integer array gain of length n where gain[i] is the net gain in altitude between points i\u200b\u200b\u200b\u200b\u200b\u200b and i + 1 for all (0 <= i < n). Return the highest altitude of a point.",
        "",
        "",
        "",
        " ",
        "",
        "",
        "",
        "**Example 1:**",
        "",
        "",
        "",
        "Input: gain = [-5,1,5,0,-7]",
        "",
        "Output: 1",
        "",
        "Explanation: The altitudes are [0,-5,-4,1,1,-6]. The highest is 1.",
        "",
        "**Example 2:**",
        "",
        "",
        "",
        "Input: gain = [-4,-3,-2,-1,4,3,2]",
        "",
        "Output: 0",
        "",
        "Explanation: The altitudes are [0,-4,-7,-9,-10,-6,-3,-1]. The highest is 0.",
        "",
        " ",
        "",
        "",
        "",
        "**Constraints:**",
        "",
        "",
        "",
        "n == gain.length",
        "",
        "1 <= n <= 100",
        "",
        "-100 <= gain[i] <= 100"
      ]
    },
    {
      "cell_type": "markdown",
      "metadata": {},
      "source": [
        "## Solution Explanation\n",
        "To solve this problem, we need to track the altitude at each point and find the maximum altitude reached during the trip.",
        "",
        "The key insights are:",
        "1. We start at altitude 0 at point 0.",
        "2. The `gain` array represents the change in altitude between consecutive points.",
        "3. To find the altitude at any point i+1, we add gain[i] to the altitude at point i.",
        "4. We need to keep track of the maximum altitude encountered during the journey.",
        "",
        "The approach is straightforward:",
        "1. Initialize a variable `current_altitude` to 0 (starting altitude).",
        "2. Initialize a variable `max_altitude` to 0 (since we start at altitude 0, this is our initial maximum).",
        "3. Iterate through the `gain` array:",
        "* Update `current_altitude` by adding the current gain value.",
        "* Update `max_altitude` if the new `current_altitude` is higher.",
        "4. Return `max_altitude`.",
        "",
        "This approach requires a single pass through the array, making it efficient."
      ]
    },
    {
      "cell_type": "code",
      "metadata": {},
      "source": [
        "def largestAltitude(gain):",
        "    \"\"\"",
        "    :type gain: List[int]",
        "    :rtype: int",
        "    \"\"\"",
        "    current_altitude = 0",
        "    max_altitude = 0",
        "    ",
        "    for change in gain:",
        "        current_altitude += change",
        "        max_altitude = max(max_altitude, current_altitude)",
        "    ",
        "    return max_altitude",
        ""
      ],
      "execution_count": null,
      "outputs": []
    },
    {
      "cell_type": "markdown",
      "metadata": {},
      "source": [
        "## Time and Space Complexity\n",
        "* *Time Complexity**: O(n), where n is the length of the gain array. We iterate through the array once, performing constant-time operations for each element.",
        "* *Space Complexity**: O(1), as we only use a fixed amount of extra space (two variables: `current_altitude` and `max_altitude`) regardless of the input size."
      ]
    },
    {
      "cell_type": "markdown",
      "metadata": {},
      "source": [
        "## Test Cases\n"
      ]
    },
    {
      "cell_type": "code",
      "metadata": {},
      "source": [
        "def test_largestAltitude():",
        "    # Test case 1: Example from the problem statement",
        "    assert largestAltitude([-5, 1, 5, 0, -7]) == 1",
        "    ",
        "    # Test case 2: Example from the problem statement",
        "    assert largestAltitude([-4, -3, -2, -1, 4, 3, 2]) == 0",
        "    ",
        "    # Test case 3: All positive gains",
        "    assert largestAltitude([1, 2, 3, 4, 5]) == 15",
        "    ",
        "    # Test case 4: All negative gains",
        "    assert largestAltitude([-1, -2, -3, -4, -5]) == 0",
        "    ",
        "    # Test case 5: Mixed gains with highest altitude at the end",
        "    assert largestAltitude([-10, 5, -2, 8, 1]) == 2",
        "    ",
        "    # Test case 6: Single element",
        "    assert largestAltitude([5]) == 5",
        "    ",
        "    # Test case 7: Single negative element",
        "    assert largestAltitude([-5]) == 0",
        "    ",
        "    print(\"All test cases passed!\")",
        "",
        "# Run the tests",
        "test_largestAltitude()",
        ""
      ],
      "execution_count": null,
      "outputs": []
    }
  ],
  "metadata": {
    "kernelspec": {
      "display_name": "Python 3",
      "language": "python",
      "name": "python3"
    },
    "language_info": {
      "codemirror_mode": {
        "name": "ipython",
        "version": 3
      },
      "file_extension": ".py",
      "mimetype": "text/x-python",
      "name": "python",
      "nbconvert_exporter": "python",
      "pygments_lexer": "ipython3",
      "version": "3.11.9"
    }
  },
  "nbformat": 4,
  "nbformat_minor": 5
}