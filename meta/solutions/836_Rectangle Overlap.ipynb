{
  "cells": [
    {
      "cell_type": "markdown",
      "metadata": {},
      "source": [
        "# 836. Rectangle Overlap"
      ]
    },
    {
      "cell_type": "markdown",
      "metadata": {},
      "source": [
        "An axis-aligned rectangle is represented as a list [x1, y1, x2, y2], where (x1, y1) is the coordinate of its bottom-left corner, and (x2, y2) is the coordinate of its top-right corner. Its top and bottom edges are parallel to the X-axis, and its left and right edges are parallel to the Y-axis.",
        "",
        "",
        "",
        "Two rectangles overlap if the area of their intersection is positive. To be clear, two rectangles that only touch at the corner or edges do not overlap.",
        "",
        "",
        "",
        "Given two axis-aligned rectangles rec1 and rec2, return true if they overlap, otherwise return false.",
        "",
        "",
        "",
        " ",
        "",
        "",
        "",
        "**Example 1:**",
        "",
        "",
        "",
        "Input: rec1 = [0,0,2,2], rec2 = [1,1,3,3]",
        "",
        "Output: true",
        "",
        "**Example 2:**",
        "",
        "",
        "",
        "Input: rec1 = [0,0,1,1], rec2 = [1,0,2,1]",
        "",
        "Output: false",
        "",
        "**Example 3:**",
        "",
        "",
        "",
        "Input: rec1 = [0,0,1,1], rec2 = [2,2,3,3]",
        "",
        "Output: false",
        "",
        " ",
        "",
        "",
        "",
        "**Constraints:**",
        "",
        "",
        "",
        "rec1.length == 4",
        "",
        "rec2.length == 4",
        "",
        "-109 <= rec1[i], rec2[i] <= 109",
        "",
        "rec1 and rec2 represent a valid rectangle with a non-zero area."
      ]
    },
    {
      "cell_type": "markdown",
      "metadata": {},
      "source": [
        "## Solution Explanation\n",
        "To determine if two rectangles overlap, we need to check if they don't overlap and then negate that result. Two rectangles don't overlap if one rectangle is to the left, right, above, or below the other rectangle.",
        "",
        "Given two rectangles:",
        "* rec1 = [x1, y1, x2, y2] (bottom-left and top-right coordinates)",
        "* rec2 = [x3, y3, x4, y4] (bottom-left and top-right coordinates)",
        "",
        "The rectangles don't overlap if:",
        "1. rec1 is to the left of rec2: x2 <= x3",
        "2. rec1 is to the right of rec2: x1 >= x4",
        "3. rec1 is below rec2: y2 <= y3",
        "4. rec1 is above rec2: y1 >= y4",
        "",
        "If any of these conditions is true, the rectangles don't overlap. Otherwise, they do overlap.",
        "",
        "So, the rectangles overlap if and only if:",
        "* x2 > x3 (rec1's right edge is to the right of rec2's left edge)",
        "* x1 < x4 (rec1's left edge is to the left of rec2's right edge)",
        "* y2 > y3 (rec1's top edge is above rec2's bottom edge)",
        "* y1 < y4 (rec1's bottom edge is below rec2's top edge)"
      ]
    },
    {
      "cell_type": "code",
      "metadata": {},
      "source": [
        "class Solution:",
        "    def isRectangleOverlap(self, rec1: list[int], rec2: list[int]) -> bool:",
        "        # Extract coordinates",
        "        x1, y1, x2, y2 = rec1",
        "        x3, y3, x4, y4 = rec2",
        "        ",
        "        # Check if one rectangle is to the left of the other",
        "        if x2 <= x3 or x1 >= x4:",
        "            return False",
        "        ",
        "        # Check if one rectangle is above or below the other",
        "        if y2 <= y3 or y1 >= y4:",
        "            return False",
        "        ",
        "        # If we reach here, the rectangles must overlap",
        "        return True",
        ""
      ],
      "execution_count": null,
      "outputs": []
    },
    {
      "cell_type": "markdown",
      "metadata": {},
      "source": [
        "## Time and Space Complexity\n",
        "* *Time Complexity**: O(1) - We're just performing a constant number of comparisons regardless of the input size.",
        "* *Space Complexity**: O(1) - We're using a constant amount of extra space to store the coordinates."
      ]
    },
    {
      "cell_type": "markdown",
      "metadata": {},
      "source": [
        "## Test Cases\n"
      ]
    },
    {
      "cell_type": "code",
      "metadata": {},
      "source": [
        "def test_solution():",
        "    solution = Solution()",
        "    ",
        "    # Test case 1: Overlapping rectangles",
        "    assert solution.isRectangleOverlap([0, 0, 2, 2], [1, 1, 3, 3]) == True",
        "    ",
        "    # Test case 2: Non-overlapping rectangles (side by side)",
        "    assert solution.isRectangleOverlap([0, 0, 1, 1], [1, 0, 2, 1]) == False",
        "    ",
        "    # Test case 3: Non-overlapping rectangles (diagonal)",
        "    assert solution.isRectangleOverlap([0, 0, 1, 1], [2, 2, 3, 3]) == False",
        "    ",
        "    # Test case 4: One rectangle inside another",
        "    assert solution.isRectangleOverlap([0, 0, 10, 10], [2, 2, 5, 5]) == True",
        "    ",
        "    # Test case 5: Rectangles sharing an edge (no overlap)",
        "    assert solution.isRectangleOverlap([0, 0, 2, 2], [2, 0, 4, 2]) == False",
        "    ",
        "    # Test case 6: Rectangles sharing a corner (no overlap)",
        "    assert solution.isRectangleOverlap([0, 0, 1, 1], [1, 1, 2, 2]) == False",
        "    ",
        "    # Test case 7: Negative coordinates",
        "    assert solution.isRectangleOverlap([-3, -2, 2, 3], [-1, -1, 4, 1]) == True",
        "    ",
        "    print(\"All test cases passed!\")",
        "",
        "test_solution()",
        ""
      ],
      "execution_count": null,
      "outputs": []
    }
  ],
  "metadata": {
    "kernelspec": {
      "display_name": "Python 3",
      "language": "python",
      "name": "python3"
    },
    "language_info": {
      "codemirror_mode": {
        "name": "ipython",
        "version": 3
      },
      "file_extension": ".py",
      "mimetype": "text/x-python",
      "name": "python",
      "nbconvert_exporter": "python",
      "pygments_lexer": "ipython3",
      "version": "3.11.9"
    }
  },
  "nbformat": 4,
  "nbformat_minor": 5
}