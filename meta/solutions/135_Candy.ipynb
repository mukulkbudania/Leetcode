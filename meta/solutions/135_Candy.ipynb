{
  "cells": [
    {
      "cell_type": "markdown",
      "metadata": {},
      "source": [
        "# 135. Candy"
      ]
    },
    {
      "cell_type": "markdown",
      "metadata": {},
      "source": [
        "There are n children standing in a line. Each child is assigned a rating value given in the integer array ratings.",
        "",
        "",
        "",
        "You are giving candies to these children subjected to the following requirements:",
        "",
        "",
        "",
        "Each child must have at least one candy.",
        "",
        "Children with a higher rating get more candies than their neighbors.",
        "",
        "Return the minimum number of candies you need to have to distribute the candies to the children.",
        "",
        "",
        "",
        " ",
        "",
        "",
        "",
        "**Example 1:**",
        "",
        "",
        "",
        "Input: ratings = [1,0,2]",
        "",
        "Output: 5",
        "",
        "Explanation: You can allocate to the first, second and third child with 2, 1, 2 candies respectively.",
        "",
        "**Example 2:**",
        "",
        "",
        "",
        "Input: ratings = [1,2,2]",
        "",
        "Output: 4",
        "",
        "Explanation: You can allocate to the first, second and third child with 1, 2, 1 candies respectively.",
        "",
        "The third child gets 1 candy because it satisfies the above two conditions.",
        "",
        " ",
        "",
        "",
        "",
        "**Constraints:**",
        "",
        "",
        "",
        "n == ratings.length",
        "",
        "1 <= n <= 2 * 104",
        "",
        "0 <= ratings[i] <= 2 * 104"
      ]
    },
    {
      "cell_type": "markdown",
      "metadata": {},
      "source": [
        "## Solution Explanation\n",
        "This problem requires us to distribute candies to children such that each child gets at least one candy, and children with higher ratings get more candies than their neighbors.",
        "",
        "The key insight is to approach this problem in two passes:",
        "",
        "1. **First Pass (Left to Right)**: Ensure that each child with a higher rating than their left neighbor gets more candies than that neighbor.",
        "2. **Second Pass (Right to Left)**: Ensure that each child with a higher rating than their right neighbor gets more candies than that neighbor.",
        "",
        "For the first pass, we initialize an array `candies` where each child starts with 1 candy. Then, we iterate from left to right. If the current child has a higher rating than the previous child, they get one more candy than the previous child.",
        "",
        "For the second pass, we iterate from right to left. If the current child has a higher rating than the next child and currently doesn't have more candies than the next child, we update their candy count to be one more than the next child's.",
        "",
        "Finally, we sum up all the candies to get the minimum total required."
      ]
    },
    {
      "cell_type": "code",
      "metadata": {},
      "source": [
        "def candy(ratings):",
        "    n = len(ratings)",
        "    candies = [1] * n  # Start with 1 candy for each child",
        "    ",
        "    # First pass: left to right",
        "    for i in range(1, n):",
        "        if ratings[i] > ratings[i-1]:",
        "            candies[i] = candies[i-1] + 1",
        "    ",
        "    # Second pass: right to left",
        "    for i in range(n-2, -1, -1):",
        "        if ratings[i] > ratings[i+1]:",
        "            candies[i] = max(candies[i], candies[i+1] + 1)",
        "    ",
        "    # Return the total number of candies",
        "    return sum(candies)",
        ""
      ],
      "execution_count": null,
      "outputs": []
    },
    {
      "cell_type": "markdown",
      "metadata": {},
      "source": [
        "## Time and Space Complexity\n",
        "* *Time Complexity**: O(n), where n is the number of children. We make two passes through the array, each taking O(n) time.",
        "* *Space Complexity**: O(n) for the `candies` array that stores how many candies each child gets."
      ]
    },
    {
      "cell_type": "markdown",
      "metadata": {},
      "source": [
        "## Test Cases\n"
      ]
    },
    {
      "cell_type": "code",
      "metadata": {},
      "source": [
        "def test_candy():",
        "    # Test case 1: Example 1 from the problem",
        "    assert candy([1, 0, 2]) == 5, \"Failed for [1, 0, 2]\"",
        "    ",
        "    # Test case 2: Example 2 from the problem",
        "    assert candy([1, 2, 2]) == 4, \"Failed for [1, 2, 2]\"",
        "    ",
        "    # Test case 3: Increasing ratings",
        "    assert candy([1, 2, 3, 4, 5]) == 15, \"Failed for [1, 2, 3, 4, 5]\"",
        "    ",
        "    # Test case 4: Decreasing ratings",
        "    assert candy([5, 4, 3, 2, 1]) == 15, \"Failed for [5, 4, 3, 2, 1]\"",
        "    ",
        "    # Test case 5: Valley shape",
        "    assert candy([5, 3, 1, 2, 4]) == 9, \"Failed for [5, 3, 1, 2, 4]\"",
        "    ",
        "    # Test case 6: Mountain shape",
        "    assert candy([1, 3, 5, 3, 1]) == 9, \"Failed for [1, 3, 5, 3, 1]\"",
        "    ",
        "    # Test case 7: All same ratings",
        "    assert candy([2, 2, 2, 2, 2]) == 5, \"Failed for [2, 2, 2, 2, 2]\"",
        "    ",
        "    # Test case 8: Single child",
        "    assert candy([1]) == 1, \"Failed for [1]\"",
        "    ",
        "    # Test case 9: Two children with same rating",
        "    assert candy([1, 1]) == 2, \"Failed for [1, 1]\"",
        "    ",
        "    print(\"All test cases passed!\")",
        "",
        "# Run the tests",
        "test_candy()",
        ""
      ],
      "execution_count": null,
      "outputs": []
    }
  ],
  "metadata": {
    "kernelspec": {
      "display_name": "Python 3",
      "language": "python",
      "name": "python3"
    },
    "language_info": {
      "codemirror_mode": {
        "name": "ipython",
        "version": 3
      },
      "file_extension": ".py",
      "mimetype": "text/x-python",
      "name": "python",
      "nbconvert_exporter": "python",
      "pygments_lexer": "ipython3",
      "version": "3.11.9"
    }
  },
  "nbformat": 4,
  "nbformat_minor": 5
}