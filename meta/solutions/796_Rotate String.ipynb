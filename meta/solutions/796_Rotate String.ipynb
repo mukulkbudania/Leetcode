{
  "cells": [
    {
      "cell_type": "markdown",
      "metadata": {},
      "source": [
        "# 796. Rotate String"
      ]
    },
    {
      "cell_type": "markdown",
      "metadata": {},
      "source": [
        "Given two strings s and goal, return true if and only if s can become goal after some number of shifts on s.",
        "",
        "",
        "",
        "A shift on s consists of moving the leftmost character of s to the rightmost position.",
        "",
        "",
        "",
        "For example, if s = \"abcde\", then it will be \"bcdea\" after one shift.",
        "",
        " ",
        "",
        "",
        "",
        "**Example 1:**",
        "",
        "",
        "",
        "Input: s = \"abcde\", goal = \"cdeab\"",
        "",
        "Output: true",
        "",
        "**Example 2:**",
        "",
        "",
        "",
        "Input: s = \"abcde\", goal = \"abced\"",
        "",
        "Output: false",
        "",
        " ",
        "",
        "",
        "",
        "**Constraints:**",
        "",
        "",
        "",
        "1 <= s.length, goal.length <= 100",
        "",
        "s and goal consist of lowercase English letters."
      ]
    },
    {
      "cell_type": "markdown",
      "metadata": {},
      "source": [
        "## Solution Explanation\n",
        "To solve this problem, we need to determine if one string can become another after some number of shifts. A key insight is that if string `s` can become string `goal` after some shifts, then `goal` must be a substring of `s + s` (excluding the full repetition).",
        "",
        "For example, if `s = \"abcde\"` and we want to check if it can become `\"cdeab\"` after shifts:",
        "* We create `s + s = \"abcdeabcde\"`",
        "* We check if `\"cdeab\"` is a substring of `\"abcdeabcde\"`",
        "",
        "However, there's an important edge case: the strings must be of the same length. If they have different lengths, no amount of shifting will make them equal.",
        "",
        "The algorithm is:",
        "1. Check if `s` and `goal` have the same length. If not, return `False`.",
        "2. Check if `goal` is a substring of `s + s`. If yes, return `True`.",
        "3. Otherwise, return `False`."
      ]
    },
    {
      "cell_type": "code",
      "metadata": {},
      "source": [
        "def rotateString(s: str, goal: str) -> bool:",
        "    # Check if lengths are equal",
        "    if len(s) != len(goal):",
        "        return False",
        "    ",
        "    # Check if goal is a substring of s+s",
        "    # This works because all possible rotations of s will be substrings of s+s",
        "    return goal in s + s",
        ""
      ],
      "execution_count": null,
      "outputs": []
    },
    {
      "cell_type": "markdown",
      "metadata": {},
      "source": [
        "## Time and Space Complexity\n",
        "* *Time Complexity**: O(n), where n is the length of the strings. ",
        "* The length comparison is O(1).",
        "* The substring check `goal in s + s` is O(n) in the average case using Python's KMP algorithm implementation for string matching.",
        "* *Space Complexity**: O(n), where n is the length of the strings.",
        "* We create a new string `s + s` which is twice the length of `s`."
      ]
    },
    {
      "cell_type": "markdown",
      "metadata": {},
      "source": [
        "## Test Cases\n"
      ]
    },
    {
      "cell_type": "code",
      "metadata": {},
      "source": [
        "def test_rotate_string():",
        "    # Test case 1: Example from problem statement - should return True",
        "    assert rotateString(\"abcde\", \"cdeab\") == True",
        "    ",
        "    # Test case 2: Example from problem statement - should return False",
        "    assert rotateString(\"abcde\", \"abced\") == False",
        "    ",
        "    # Test case 3: Empty strings - should return True (empty string rotated is still empty)",
        "    assert rotateString(\"\", \"\") == True",
        "    ",
        "    # Test case 4: Single character strings that match - should return True",
        "    assert rotateString(\"a\", \"a\") == True",
        "    ",
        "    # Test case 5: Single character strings that don't match - should return False",
        "    assert rotateString(\"a\", \"b\") == False",
        "    ",
        "    # Test case 6: Different length strings - should return False",
        "    assert rotateString(\"abc\", \"abcd\") == False",
        "    ",
        "    # Test case 7: Same string, no rotation needed - should return True",
        "    assert rotateString(\"hello\", \"hello\") == True",
        "    ",
        "    # Test case 8: Full rotation (rotate all characters) - should return True",
        "    assert rotateString(\"abcde\", \"abcde\") == True",
        "    ",
        "    print(\"All test cases passed!\")",
        "",
        "# Run the tests",
        "test_rotate_string()",
        ""
      ],
      "execution_count": null,
      "outputs": []
    }
  ],
  "metadata": {
    "kernelspec": {
      "display_name": "Python 3",
      "language": "python",
      "name": "python3"
    },
    "language_info": {
      "codemirror_mode": {
        "name": "ipython",
        "version": 3
      },
      "file_extension": ".py",
      "mimetype": "text/x-python",
      "name": "python",
      "nbconvert_exporter": "python",
      "pygments_lexer": "ipython3",
      "version": "3.11.9"
    }
  },
  "nbformat": 4,
  "nbformat_minor": 5
}