{
  "cells": [
    {
      "cell_type": "markdown",
      "metadata": {},
      "source": [
        "# 159. Longest Substring with At Most Two Distinct Characters"
      ]
    },
    {
      "cell_type": "markdown",
      "metadata": {},
      "source": [
        "Given a string s, return the length of the longest substring that contains at most two distinct characters.",
        "",
        "",
        "",
        " ",
        "",
        "",
        "",
        "**Example 1:**",
        "",
        "",
        "",
        "Input: s = \"eceba\"",
        "",
        "Output: 3",
        "",
        "Explanation: The substring is \"ece\" which its length is 3.",
        "",
        "**Example 2:**",
        "",
        "",
        "",
        "Input: s = \"ccaabbb\"",
        "",
        "Output: 5",
        "",
        "Explanation: The substring is \"aabbb\" which its length is 5.",
        "",
        " ",
        "",
        "",
        "",
        "**Constraints:**",
        "",
        "",
        "",
        "1 <= s.length <= 105",
        "",
        "s consists of English letters."
      ]
    },
    {
      "cell_type": "markdown",
      "metadata": {},
      "source": [
        "## Solution Explanation\n",
        "This problem asks for the length of the longest substring containing at most two distinct characters. This is a classic sliding window problem where we need to maintain a window that satisfies our condition (at most 2 distinct characters).",
        "",
        "The approach is:",
        "1. Use a sliding window with two pointers: `left` and `right`.",
        "2. Use a hash map (dictionary) to keep track of the frequency of characters in the current window.",
        "3. Expand the window by moving the `right` pointer and adding characters to our map.",
        "4. When we have more than 2 distinct characters in our window, shrink the window from the left until we have at most 2 distinct characters again.",
        "5. During this process, keep track of the maximum window size we've seen.",
        "",
        "The key insight is that we only need to shrink the window when we exceed our limit of 2 distinct characters. Otherwise, we can keep expanding to find longer valid substrings."
      ]
    },
    {
      "cell_type": "code",
      "metadata": {},
      "source": [
        "def lengthOfLongestSubstringTwoDistinct(s: str) -> int:",
        "    if not s:",
        "        return 0",
        "    ",
        "    # Dictionary to store character frequencies",
        "    char_count = {}",
        "    left = 0",
        "    max_length = 0",
        "    ",
        "    # Iterate through the string with right pointer",
        "    for right in range(len(s)):",
        "        # Add current character to our window",
        "        char_count[s[right]] = char_count.get(s[right], 0) + 1",
        "        ",
        "        # If we have more than 2 distinct characters, shrink window from left",
        "        while len(char_count) > 2:",
        "            char_count[s[left]] -= 1",
        "            if char_count[s[left]] == 0:",
        "                del char_count[s[left]]",
        "            left += 1",
        "        ",
        "        # Update max_length with current window size",
        "        max_length = max(max_length, right - left + 1)",
        "    ",
        "    return max_length",
        ""
      ],
      "execution_count": null,
      "outputs": []
    },
    {
      "cell_type": "markdown",
      "metadata": {},
      "source": [
        "## Time and Space Complexity\n",
        "* *Time Complexity**: O(n) where n is the length of the input string. We process each character at most twice - once when adding it to the window (moving the right pointer) and once when removing it from the window (moving the left pointer).",
        "* *Space Complexity**: O(1) because our hash map will contain at most 3 entries (we start shrinking the window as soon as we have more than 2 distinct characters, so at any point, we'll have at most 3 characters in the map). Since the input consists only of English letters, the space used is constant regardless of the input size."
      ]
    },
    {
      "cell_type": "markdown",
      "metadata": {},
      "source": [
        "## Test Cases\n"
      ]
    },
    {
      "cell_type": "code",
      "metadata": {},
      "source": [
        "def test_lengthOfLongestSubstringTwoDistinct():",
        "    # Test case 1: Example from problem statement",
        "    assert lengthOfLongestSubstringTwoDistinct(\"eceba\") == 3",
        "    ",
        "    # Test case 2: Another example from problem statement",
        "    assert lengthOfLongestSubstringTwoDistinct(\"ccaabbb\") == 5",
        "    ",
        "    # Test case 3: Empty string",
        "    assert lengthOfLongestSubstringTwoDistinct(\"\") == 0",
        "    ",
        "    # Test case 4: Single character",
        "    assert lengthOfLongestSubstringTwoDistinct(\"a\") == 1",
        "    ",
        "    # Test case 5: All same characters",
        "    assert lengthOfLongestSubstringTwoDistinct(\"aaaaa\") == 5",
        "    ",
        "    # Test case 6: Two distinct characters alternating",
        "    assert lengthOfLongestSubstringTwoDistinct(\"ababababab\") == 10",
        "    ",
        "    # Test case 7: More complex case",
        "    assert lengthOfLongestSubstringTwoDistinct(\"abcdefghijklmnopqrstuvwxyz\") == 2",
        "    ",
        "    # Test case 8: Exactly two distinct characters",
        "    assert lengthOfLongestSubstringTwoDistinct(\"aabbaabbaabb\") == 12",
        "    ",
        "    print(\"All test cases passed!\")",
        "",
        "# Run the tests",
        "test_lengthOfLongestSubstringTwoDistinct()",
        ""
      ],
      "execution_count": null,
      "outputs": []
    }
  ],
  "metadata": {
    "kernelspec": {
      "display_name": "Python 3",
      "language": "python",
      "name": "python3"
    },
    "language_info": {
      "codemirror_mode": {
        "name": "ipython",
        "version": 3
      },
      "file_extension": ".py",
      "mimetype": "text/x-python",
      "name": "python",
      "nbconvert_exporter": "python",
      "pygments_lexer": "ipython3",
      "version": "3.11.9"
    }
  },
  "nbformat": 4,
  "nbformat_minor": 5
}