{
  "cells": [
    {
      "cell_type": "markdown",
      "metadata": {},
      "source": [
        "# 1216. Valid Palindrome III"
      ]
    },
    {
      "cell_type": "markdown",
      "metadata": {},
      "source": [
        "Given a string s and an integer k, return true if s is a k-palindrome.",
        "",
        "",
        "",
        "A string is k-palindrome if it can be transformed into a palindrome by removing at most k characters from it.",
        "",
        "",
        "",
        " ",
        "",
        "",
        "",
        "**Example 1:**",
        "",
        "",
        "",
        "Input: s = \"abcdeca\", k = 2",
        "",
        "Output: true",
        "",
        "Explanation: Remove 'b' and 'e' characters.",
        "",
        "**Example 2:**",
        "",
        "",
        "",
        "Input: s = \"abbababa\", k = 1",
        "",
        "Output: true",
        "",
        " ",
        "",
        "",
        "",
        "**Constraints:**",
        "",
        "",
        "",
        "1 <= s.length <= 1000",
        "",
        "s consists of only lowercase English letters.",
        "",
        "1 <= k <= s.length"
      ]
    },
    {
      "cell_type": "markdown",
      "metadata": {},
      "source": [
        "## Solution Explanation\n",
        "This problem asks us to determine if a string can be made into a palindrome by removing at most k characters.",
        "",
        "A key insight is that this problem is related to the \"minimum number of deletions to make a string a palindrome\" problem, which can be solved using the concept of Longest Palindromic Subsequence (LPS).",
        "",
        "The minimum number of characters to remove to make a string a palindrome is:",
        "`min_deletions = length_of_string - length_of_LPS`",
        "",
        "If `min_deletions <= k`, then the string is a k-palindrome.",
        "",
        "To find the LPS, we can use dynamic programming. We'll create a 2D DP table where `dp[i][j]` represents the length of the LPS in the substring `s[i:j+1]`.",
        "",
        "The recurrence relation is:",
        "* If `s[i] == s[j]`, then `dp[i][j] = dp[i+1][j-1] + 2`",
        "* Otherwise, `dp[i][j] = max(dp[i+1][j], dp[i][j-1])`"
      ]
    },
    {
      "cell_type": "code",
      "metadata": {},
      "source": [
        "def isValidPalindrome(s: str, k: int) -> bool:",
        "    n = len(s)",
        "    ",
        "    # Create a DP table for the length of the longest palindromic subsequence",
        "    dp = [[0] * n for _ in range(n)]",
        "    ",
        "    # Base case: single characters are palindromes of length 1",
        "    for i in range(n):",
        "        dp[i][i] = 1",
        "    ",
        "    # Fill the DP table",
        "    for length in range(2, n + 1):",
        "        for i in range(n - length + 1):",
        "            j = i + length - 1",
        "            ",
        "            # If the first and last characters match",
        "            if s[i] == s[j]:",
        "                dp[i][j] = dp[i + 1][j - 1] + 2 if i + 1 <= j - 1 else 2",
        "            else:",
        "                # Take the maximum of removing either the first or last character",
        "                dp[i][j] = max(dp[i + 1][j], dp[i][j - 1])",
        "    ",
        "    # The minimum number of characters to remove is the string length minus the LPS length",
        "    min_deletions = n - dp[0][n - 1]",
        "    ",
        "    # Return true if the minimum deletions is less than or equal to k",
        "    return min_deletions <= k",
        ""
      ],
      "execution_count": null,
      "outputs": []
    },
    {
      "cell_type": "markdown",
      "metadata": {},
      "source": [
        "## Time and Space Complexity\n",
        "* *Time Complexity**: O(n\u00b2), where n is the length of the string. We fill a 2D DP table of size n\u00d7n, and each cell takes O(1) time to compute.",
        "* *Space Complexity**: O(n\u00b2) for the DP table. We need to store the length of the LPS for each substring."
      ]
    },
    {
      "cell_type": "markdown",
      "metadata": {},
      "source": [
        "## Test Cases\n"
      ]
    },
    {
      "cell_type": "code",
      "metadata": {},
      "source": [
        "def test_isValidPalindrome():",
        "    # Example 1",
        "    assert isValidPalindrome(\"abcdeca\", 2) == True",
        "    # Explanation: Remove 'b' and 'e' to get \"acdca\", which is a palindrome",
        "    ",
        "    # Example 2",
        "    assert isValidPalindrome(\"abbababa\", 1) == True",
        "    # Explanation: Remove 'a' at the beginning to get \"bbababa\", which is a palindrome",
        "    ",
        "    # Edge case: k = 0, already a palindrome",
        "    assert isValidPalindrome(\"racecar\", 0) == True",
        "    ",
        "    # Edge case: k = 0, not a palindrome",
        "    assert isValidPalindrome(\"hello\", 0) == False",
        "    ",
        "    # Edge case: k = length of string",
        "    assert isValidPalindrome(\"abcdef\", 6) == True",
        "    ",
        "    # Edge case: k = length of string - 1",
        "    assert isValidPalindrome(\"abcdef\", 5) == True",
        "    ",
        "    # Edge case: single character",
        "    assert isValidPalindrome(\"a\", 0) == True",
        "    ",
        "    # Edge case: two different characters, k = 1",
        "    assert isValidPalindrome(\"ab\", 1) == True",
        "    ",
        "    # Edge case: long string with many deletions needed",
        "    assert isValidPalindrome(\"abcdefghijklmnopqrstuvwxyz\", 25) == True",
        "    assert isValidPalindrome(\"abcdefghijklmnopqrstuvwxyz\", 24) == False",
        "    ",
        "    print(\"All test cases passed!\")",
        "",
        "test_isValidPalindrome()",
        ""
      ],
      "execution_count": null,
      "outputs": []
    }
  ],
  "metadata": {
    "kernelspec": {
      "display_name": "Python 3",
      "language": "python",
      "name": "python3"
    },
    "language_info": {
      "codemirror_mode": {
        "name": "ipython",
        "version": 3
      },
      "file_extension": ".py",
      "mimetype": "text/x-python",
      "name": "python",
      "nbconvert_exporter": "python",
      "pygments_lexer": "ipython3",
      "version": "3.11.9"
    }
  },
  "nbformat": 4,
  "nbformat_minor": 5
}