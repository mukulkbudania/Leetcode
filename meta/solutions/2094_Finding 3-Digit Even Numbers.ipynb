{
  "cells": [
    {
      "cell_type": "markdown",
      "metadata": {},
      "source": [
        "# 2094. Finding 3-Digit Even Numbers"
      ]
    },
    {
      "cell_type": "markdown",
      "metadata": {},
      "source": [
        "You are given an integer array digits, where each element is a digit. The array may contain duplicates.",
        "",
        "",
        "",
        "You need to find all the unique integers that follow the given requirements:",
        "",
        "",
        "",
        "The integer consists of the concatenation of three elements from digits in any arbitrary order.",
        "",
        "The integer does not have leading zeros.",
        "",
        "The integer is even.",
        "",
        "For example, if the given digits were [1, 2, 3], integers 132 and 312 follow the requirements.",
        "",
        "",
        "",
        "Return a sorted array of the unique integers.",
        "",
        "",
        "",
        " ",
        "",
        "",
        "",
        "**Example 1:**",
        "",
        "",
        "",
        "Input: digits = [2,1,3,0]",
        "",
        "Output: [102,120,130,132,210,230,302,310,312,320]",
        "",
        "Explanation: All the possible integers that follow the requirements are in the output array. ",
        "",
        "Notice that there are no odd integers or integers with leading zeros.",
        "",
        "**Example 2:**",
        "",
        "",
        "",
        "Input: digits = [2,2,8,8,2]",
        "",
        "Output: [222,228,282,288,822,828,882]",
        "",
        "Explanation: The same digit can be used as many times as it appears in digits. ",
        "",
        "In this example, the digit 8 is used twice each time in 288, 828, and 882. ",
        "",
        "**Example 3:**",
        "",
        "",
        "",
        "Input: digits = [3,7,5]",
        "",
        "Output: []",
        "",
        "Explanation: No even integers can be formed using the given digits.",
        "",
        " ",
        "",
        "",
        "",
        "**Constraints:**",
        "",
        "",
        "",
        "3 <= digits.length <= 100",
        "",
        "0 <= digits[i] <= 9"
      ]
    },
    {
      "cell_type": "markdown",
      "metadata": {},
      "source": [
        "## Solution Explanation\n",
        "To solve this problem, we need to find all unique integers that can be formed by concatenating 3 digits from the input array such that the resulting number is even and has no leading zeros.",
        "",
        "The approach is as follows:",
        "1. Generate all possible 3-digit combinations from the input array.",
        "2. For each combination, check if it meets our requirements:",
        "* The number should not have a leading zero",
        "* The number should be even (last digit is 0, 2, 4, 6, or 8)",
        "3. Store valid numbers in a set to ensure uniqueness",
        "4. Convert the set to a sorted list and return it",
        "",
        "A number is even if and only if its last digit is even (0, 2, 4, 6, or 8). So we need to ensure that at least one of the digits in the input array is even, and we place it at the end of our 3-digit number."
      ]
    },
    {
      "cell_type": "code",
      "metadata": {},
      "source": [
        "from itertools import permutations",
        "",
        "class Solution:",
        "    def findEvenNumbers(self, digits: list[int]) -> list[int]:",
        "        result = set()",
        "        ",
        "        # Generate all possible permutations of 3 digits",
        "        for perm in permutations(digits, 3):",
        "            # Check if the first digit is not zero and the last digit is even",
        "            if perm[0] != 0 and perm[2] % 2 == 0:",
        "                # Form the number",
        "                num = perm[0] * 100 + perm[1] * 10 + perm[2]",
        "                result.add(num)",
        "        ",
        "        # Convert set to sorted list",
        "        return sorted(list(result))",
        ""
      ],
      "execution_count": null,
      "outputs": []
    },
    {
      "cell_type": "markdown",
      "metadata": {},
      "source": [
        "## Time and Space Complexity\n",
        "Time Complexity:",
        "* Generating all permutations of 3 digits from n digits takes O(n\u00b3) time because there are P(n,3) = n!/(n-3)! possible permutations.",
        "* For each permutation, we perform constant time operations.",
        "* Sorting the final list of at most n\u00b3 numbers takes O(n\u00b3 log n\u00b3) = O(n\u00b3 log n) time.",
        "* Overall time complexity: O(n\u00b3 log n)",
        "",
        "Space Complexity:",
        "* We store at most O(n\u00b3) unique numbers in our result set.",
        "* The permutation generation also uses O(n\u00b3) space.",
        "* Overall space complexity: O(n\u00b3)"
      ]
    },
    {
      "cell_type": "markdown",
      "metadata": {},
      "source": [
        "## Test Cases\n"
      ]
    },
    {
      "cell_type": "code",
      "metadata": {},
      "source": [
        "def test_solution():",
        "    solution = Solution()",
        "    ",
        "    # Test case 1: Example from problem statement",
        "    assert solution.findEvenNumbers([2, 1, 3, 0]) == [102, 120, 130, 132, 210, 230, 302, 310, 312, 320]",
        "    ",
        "    # Test case 2: Example with repeated digits",
        "    assert solution.findEvenNumbers([2, 2, 8, 8, 2]) == [222, 228, 282, 288, 822, 828, 882]",
        "    ",
        "    # Test case 3: No even numbers possible",
        "    assert solution.findEvenNumbers([3, 7, 5]) == []",
        "    ",
        "    # Test case 4: Minimum length array with even digit",
        "    assert solution.findEvenNumbers([1, 3, 2]) == [132, 312]",
        "    ",
        "    # Test case 5: All zeros",
        "    assert solution.findEvenNumbers([0, 0, 0]) == []",
        "    ",
        "    # Test case 6: Only one non-zero digit with zeros",
        "    assert solution.findEvenNumbers([1, 0, 0]) == [100]",
        "    ",
        "    print(\"All test cases passed!\")",
        "",
        "test_solution()",
        ""
      ],
      "execution_count": null,
      "outputs": []
    }
  ],
  "metadata": {
    "kernelspec": {
      "display_name": "Python 3",
      "language": "python",
      "name": "python3"
    },
    "language_info": {
      "codemirror_mode": {
        "name": "ipython",
        "version": 3
      },
      "file_extension": ".py",
      "mimetype": "text/x-python",
      "name": "python",
      "nbconvert_exporter": "python",
      "pygments_lexer": "ipython3",
      "version": "3.11.9"
    }
  },
  "nbformat": 4,
  "nbformat_minor": 5
}