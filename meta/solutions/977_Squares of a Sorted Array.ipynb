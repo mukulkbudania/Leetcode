{
  "cells": [
    {
      "cell_type": "markdown",
      "metadata": {},
      "source": [
        "# 977. Squares of a Sorted Array"
      ]
    },
    {
      "cell_type": "markdown",
      "metadata": {},
      "source": [
        "Given an integer array nums sorted in non-decreasing order, return an array of the squares of each number sorted in non-decreasing order.",
        "",
        "",
        "",
        " ",
        "",
        "",
        "",
        "**Example 1:**",
        "",
        "",
        "",
        "Input: nums = [-4,-1,0,3,10]",
        "",
        "Output: [0,1,9,16,100]",
        "",
        "Explanation: After squaring, the array becomes [16,1,0,9,100].",
        "",
        "After sorting, it becomes [0,1,9,16,100].",
        "",
        "**Example 2:**",
        "",
        "",
        "",
        "Input: nums = [-7,-3,2,3,11]",
        "",
        "Output: [4,9,9,49,121]",
        "",
        " ",
        "",
        "",
        "",
        "**Constraints:**",
        "",
        "",
        "",
        "1 <= nums.length <= 104",
        "",
        "-104 <= nums[i] <= 104",
        "",
        "nums is sorted in non-decreasing order.",
        "",
        " ",
        "",
        "",
        "",
        "Follow up: Squaring each element and sorting the new array is very trivial, could you find an O(n) solution using a different approach?"
      ]
    },
    {
      "cell_type": "markdown",
      "metadata": {},
      "source": [
        "## Solution Explanation\n",
        "This problem asks us to square each number in a sorted array and return the result in sorted order. The naive approach would be to square each element and then sort the resulting array, which would be O(n log n) due to the sorting step.",
        "",
        "However, we can solve this in O(n) time by using a two-pointer approach. The key insight is that the largest squared values will be at either end of the array (since negative numbers become positive when squared). ",
        "",
        "The approach works as follows:",
        "1. Initialize two pointers: left at the beginning of the array and right at the end.",
        "2. Create a result array of the same size as the input array.",
        "3. Starting from the end of the result array, compare the absolute values of the numbers at the left and right pointers.",
        "4. Place the square of the larger absolute value in the current position of the result array.",
        "5. Move the corresponding pointer (left or right) and continue until all positions in the result array are filled.",
        "",
        "This approach works because the original array is sorted, so the largest squared values will come from either the leftmost (most negative) or rightmost (most positive) elements."
      ]
    },
    {
      "cell_type": "code",
      "metadata": {},
      "source": [
        "def sortedSquares(nums):",
        "    n = len(nums)",
        "    result = [0] * n",
        "    left, right = 0, n - 1",
        "    ",
        "    for i in range(n - 1, -1, -1):",
        "        if abs(nums[left]) > abs(nums[right]):",
        "            result[i] = nums[left] ** 2",
        "            left += 1",
        "        else:",
        "            result[i] = nums[right] ** 2",
        "            right -= 1",
        "    ",
        "    return result",
        ""
      ],
      "execution_count": null,
      "outputs": []
    },
    {
      "cell_type": "markdown",
      "metadata": {},
      "source": [
        "## Time and Space Complexity\n",
        "* *Time Complexity**: O(n), where n is the length of the input array. We process each element exactly once.",
        "* *Space Complexity**: O(n) for the result array. If we don't count the output array as extra space, then the space complexity would be O(1) as we only use a constant amount of extra space regardless of the input size."
      ]
    },
    {
      "cell_type": "markdown",
      "metadata": {},
      "source": [
        "## Test Cases\n"
      ]
    },
    {
      "cell_type": "code",
      "metadata": {},
      "source": [
        "def test_sortedSquares():",
        "    # Test case 1: Mixed positive and negative numbers",
        "    assert sortedSquares([-4, -1, 0, 3, 10]) == [0, 1, 9, 16, 100]",
        "    ",
        "    # Test case 2: Another mixed example",
        "    assert sortedSquares([-7, -3, 2, 3, 11]) == [4, 9, 9, 49, 121]",
        "    ",
        "    # Test case 3: All negative numbers",
        "    assert sortedSquares([-5, -3, -2, -1]) == [1, 4, 9, 25]",
        "    ",
        "    # Test case 4: All positive numbers",
        "    assert sortedSquares([1, 2, 3, 4, 5]) == [1, 4, 9, 16, 25]",
        "    ",
        "    # Test case 5: Single element",
        "    assert sortedSquares([0]) == [0]",
        "    ",
        "    # Test case 6: Two elements",
        "    assert sortedSquares([-2, 2]) == [4, 4]",
        "    ",
        "    print(\"All test cases passed!\")",
        "",
        "# Run the tests",
        "test_sortedSquares()",
        ""
      ],
      "execution_count": null,
      "outputs": []
    }
  ],
  "metadata": {
    "kernelspec": {
      "display_name": "Python 3",
      "language": "python",
      "name": "python3"
    },
    "language_info": {
      "codemirror_mode": {
        "name": "ipython",
        "version": 3
      },
      "file_extension": ".py",
      "mimetype": "text/x-python",
      "name": "python",
      "nbconvert_exporter": "python",
      "pygments_lexer": "ipython3",
      "version": "3.11.9"
    }
  },
  "nbformat": 4,
  "nbformat_minor": 5
}