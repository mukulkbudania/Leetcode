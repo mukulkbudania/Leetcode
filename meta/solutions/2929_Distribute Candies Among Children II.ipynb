{
  "cells": [
    {
      "cell_type": "markdown",
      "metadata": {},
      "source": [
        "# 2929. Distribute Candies Among Children II"
      ]
    },
    {
      "cell_type": "markdown",
      "metadata": {},
      "source": [
        "You are given two positive integers n and limit.",
        "",
        "",
        "",
        "Return the total number of ways to distribute n candies among 3 children such that no child gets more than limit candies.",
        "",
        "",
        "",
        " ",
        "",
        "",
        "",
        "**Example 1:**",
        "",
        "",
        "",
        "Input: n = 5, limit = 2",
        "",
        "Output: 3",
        "",
        "Explanation: There are 3 ways to distribute 5 candies such that no child gets more than 2 candies: (1, 2, 2), (2, 1, 2) and (2, 2, 1).",
        "",
        "**Example 2:**",
        "",
        "",
        "",
        "Input: n = 3, limit = 3",
        "",
        "Output: 10",
        "",
        "Explanation: There are 10 ways to distribute 3 candies such that no child gets more than 3 candies: (0, 0, 3), (0, 1, 2), (0, 2, 1), (0, 3, 0), (1, 0, 2), (1, 1, 1), (1, 2, 0), (2, 0, 1), (2, 1, 0) and (3, 0, 0).",
        "",
        " ",
        "",
        "",
        "",
        "**Constraints:**",
        "",
        "",
        "",
        "1 <= n <= 106",
        "",
        "1 <= limit <= 106"
      ]
    },
    {
      "cell_type": "markdown",
      "metadata": {},
      "source": [
        "## Solution Explanation\n",
        "This problem asks us to count the number of ways to distribute n candies among 3 children such that no child gets more than `limit` candies.",
        "",
        "We can approach this using combinatorial mathematics. The problem is equivalent to finding the number of non-negative integer solutions to the equation:",
        "x + y + z = n, where 0 \u2264 x, y, z \u2264 limit",
        "",
        "There are two ways to solve this:",
        "",
        "1. **Direct Counting**: We can iterate through all possible values for the first two children and calculate the third child's candies. If all values are within the limit, we count it as a valid distribution.",
        "",
        "2. **Inclusion-Exclusion Principle**: This is more efficient for large values of n and limit.",
        "",
        "The total number of ways to distribute n candies among 3 children with no constraints is C(n+3-1, 3-1) = C(n+2, 2).",
        "",
        "From this, we need to subtract the number of ways where at least one child exceeds the limit. Using the inclusion-exclusion principle:",
        "* Subtract ways where at least one child exceeds limit",
        "* Add back ways where at least two children exceed limit",
        "* Subtract ways where all three children exceed limit",
        "",
        "I'll implement the inclusion-exclusion approach as it's more efficient for large inputs."
      ]
    },
    {
      "cell_type": "code",
      "metadata": {},
      "source": [
        "def distributeCandies(n: int, limit: int) -> int:",
        "    # Helper function to calculate combinations",
        "    def combination(n, k):",
        "        if k < 0 or k > n:",
        "            return 0",
        "        if k == 0 or k == n:",
        "            return 1",
        "        ",
        "        result = 1",
        "        for i in range(1, k + 1):",
        "            result = result * (n - i + 1) // i",
        "        return result",
        "    ",
        "    # Total ways to distribute n candies among 3 children (stars and bars)",
        "    total_ways = combination(n + 3 - 1, 3 - 1)",
        "    ",
        "    # Ways where at least one child exceeds limit",
        "    ways_one_exceeds = 0",
        "    for i in range(1, 4):  # For each of the 3 children",
        "        # Child i exceeds limit, so they get (limit + 1) or more candies",
        "        remaining = n - (limit + 1)",
        "        if remaining >= 0:",
        "            ways_one_exceeds += combination(remaining + 2, 2)",
        "    ",
        "    # Ways where at least two children exceed limit",
        "    ways_two_exceed = 0",
        "    for i in range(1, 4):",
        "        for j in range(i + 1, 4):",
        "            # Children i and j both exceed limit",
        "            remaining = n - 2 * (limit + 1)",
        "            if remaining >= 0:",
        "                ways_two_exceed += combination(remaining + 1, 1)",
        "    ",
        "    # Ways where all three children exceed limit",
        "    ways_all_exceed = 0",
        "    if n >= 3 * (limit + 1):",
        "        ways_all_exceed = combination(n - 3 * (limit + 1) + 3 - 1, 3 - 1)",
        "    ",
        "    # Apply inclusion-exclusion principle",
        "    result = total_ways - ways_one_exceeds + ways_two_exceed - ways_all_exceed",
        "    ",
        "    return result",
        ""
      ],
      "execution_count": null,
      "outputs": []
    },
    {
      "cell_type": "markdown",
      "metadata": {},
      "source": [
        "## Time and Space Complexity\n",
        "* *Time Complexity**: O(1) - The solution uses a fixed number of operations regardless of the input size. The combination calculation is done in O(k) time where k is a small constant (at most 2 in our case).",
        "* *Space Complexity**: O(1) - We only use a constant amount of extra space for variables.",
        "",
        "Note: While the mathematical approach is O(1), the actual computation might overflow for very large inputs. In practice, we need to handle large numbers carefully, but the algorithm itself has constant time complexity."
      ]
    },
    {
      "cell_type": "markdown",
      "metadata": {},
      "source": [
        "## Test Cases\n"
      ]
    },
    {
      "cell_type": "code",
      "metadata": {},
      "source": [
        "def test_distribute_candies():",
        "    # Test case 1: Example 1 from the problem",
        "    assert distributeCandies(5, 2) == 3, \"Failed Example 1\"",
        "    ",
        "    # Test case 2: Example 2 from the problem",
        "    assert distributeCandies(3, 3) == 10, \"Failed Example 2\"",
        "    ",
        "    # Test case 3: Edge case - minimum n and limit",
        "    assert distributeCandies(1, 1) == 3, \"Failed minimum n and limit\"",
        "    ",
        "    # Test case 4: n equals limit",
        "    assert distributeCandies(4, 4) == 15, \"Failed n equals limit\"",
        "    ",
        "    # Test case 5: n greater than limit",
        "    assert distributeCandies(10, 3) == 36, \"Failed n greater than limit\"",
        "    ",
        "    # Test case 6: n much smaller than limit",
        "    assert distributeCandies(3, 10) == 10, \"Failed n much smaller than limit\"",
        "    ",
        "    print(\"All test cases passed!\")",
        "",
        "# Run the tests",
        "test_distribute_candies()",
        ""
      ],
      "execution_count": null,
      "outputs": []
    }
  ],
  "metadata": {
    "kernelspec": {
      "display_name": "Python 3",
      "language": "python",
      "name": "python3"
    },
    "language_info": {
      "codemirror_mode": {
        "name": "ipython",
        "version": 3
      },
      "file_extension": ".py",
      "mimetype": "text/x-python",
      "name": "python",
      "nbconvert_exporter": "python",
      "pygments_lexer": "ipython3",
      "version": "3.11.9"
    }
  },
  "nbformat": 4,
  "nbformat_minor": 5
}