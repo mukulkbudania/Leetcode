{
  "cells": [
    {
      "cell_type": "markdown",
      "metadata": {},
      "source": [
        "# 1249. Minimum Remove to Make Valid Parentheses"
      ]
    },
    {
      "cell_type": "markdown",
      "metadata": {},
      "source": [
        "Given a string s of '(' , ')' and lowercase English characters.",
        "",
        "",
        "",
        "Your task is to remove the minimum number of parentheses ( '(' or ')', in any positions ) so that the resulting parentheses string is valid and return any valid string.",
        "",
        "",
        "",
        "Formally, a parentheses string is valid if and only if:",
        "",
        "",
        "",
        "It is the empty string, contains only lowercase characters, or",
        "",
        "It can be written as AB (A concatenated with B), where A and B are valid strings, or",
        "",
        "It can be written as (A), where A is a valid string.",
        "",
        " ",
        "",
        "",
        "",
        "**Example 1:**",
        "",
        "",
        "",
        "Input: s = \"lee(t(c)o)de)\"",
        "",
        "Output: \"lee(t(c)o)de\"",
        "",
        "Explanation: \"lee(t(co)de)\" , \"lee(t(c)ode)\" would also be accepted.",
        "",
        "**Example 2:**",
        "",
        "",
        "",
        "Input: s = \"a)b(c)d\"",
        "",
        "Output: \"ab(c)d\"",
        "",
        "**Example 3:**",
        "",
        "",
        "",
        "Input: s = \"))((\"",
        "",
        "Output: \"\"",
        "",
        "Explanation: An empty string is also valid.",
        "",
        " ",
        "",
        "",
        "",
        "**Constraints:**",
        "",
        "",
        "",
        "1 <= s.length <= 105",
        "",
        "s[i] is either '(' , ')', or lowercase English letter."
      ]
    },
    {
      "cell_type": "markdown",
      "metadata": {},
      "source": [
        "## Solution Explanation\n",
        "This problem requires us to remove the minimum number of parentheses to make the string valid. A valid parentheses string means every opening bracket has a matching closing bracket, and every closing bracket has a preceding opening bracket.",
        "",
        "The key insight is to identify which parentheses need to be removed. We can use a stack-based approach:",
        "",
        "1. Iterate through the string and keep track of indices of parentheses that need to be removed.",
        "2. Use a stack to keep track of opening parentheses.",
        "3. When we encounter an opening parenthesis '(', push its index onto the stack.",
        "4. When we encounter a closing parenthesis ')', check if the stack is empty:",
        "* If empty, there's no matching opening parenthesis, so mark this closing parenthesis for removal.",
        "* If not empty, pop from the stack (matching the current closing with the most recent opening).",
        "5. After processing the string, any indices remaining in the stack represent opening parentheses without matching closing ones, so they need to be removed.",
        "6. Build the result string by excluding characters at the indices marked for removal.",
        "",
        "This approach ensures we remove the minimum number of parentheses to make the string valid."
      ]
    },
    {
      "cell_type": "code",
      "metadata": {},
      "source": [
        "def minRemoveToMakeValid(s: str) -> str:",
        "    # Convert string to list for easier manipulation",
        "    s_list = list(s)",
        "    stack = []",
        "    ",
        "    # First pass: mark invalid parentheses with empty string",
        "    for i, char in enumerate(s_list):",
        "        if char == '(':",
        "            stack.append(i)",
        "        elif char == ')':",
        "            if stack:  # If there's a matching opening parenthesis",
        "                stack.pop()",
        "            else:  # No matching opening parenthesis, mark for removal",
        "                s_list[i] = ''",
        "    ",
        "    # Mark any unmatched opening parentheses for removal",
        "    for i in stack:",
        "        s_list[i] = ''",
        "    ",
        "    # Join the list back into a string, skipping the marked positions",
        "    return ''.join(s_list)",
        ""
      ],
      "execution_count": null,
      "outputs": []
    },
    {
      "cell_type": "markdown",
      "metadata": {},
      "source": [
        "## Time and Space Complexity\n",
        "* *Time Complexity**: O(n), where n is the length of the input string. We iterate through the string once to identify invalid parentheses and once more to build the result string.",
        "* *Space Complexity**: O(n) in the worst case. The stack could potentially contain all characters if the string consists only of opening parentheses. Additionally, we convert the string to a list which takes O(n) space."
      ]
    },
    {
      "cell_type": "markdown",
      "metadata": {},
      "source": [
        "## Test Cases\n"
      ]
    },
    {
      "cell_type": "code",
      "metadata": {},
      "source": [
        "def test_minRemoveToMakeValid():",
        "    # Test case 1: Example from the problem",
        "    assert minRemoveToMakeValid(\"lee(t(c)o)de)\") in [\"lee(t(c)o)de\", \"lee(t(co)de)\", \"lee(t(c)ode)\"], \"Test case 1 failed\"",
        "    ",
        "    # Test case 2: Example from the problem",
        "    assert minRemoveToMakeValid(\"a)b(c)d\") == \"ab(c)d\", \"Test case 2 failed\"",
        "    ",
        "    # Test case 3: Example from the problem",
        "    assert minRemoveToMakeValid(\"))((\") == \"\", \"Test case 3 failed\"",
        "    ",
        "    # Test case 4: Already valid string",
        "    assert minRemoveToMakeValid(\"abc(def)ghi\") == \"abc(def)ghi\", \"Test case 4 failed\"",
        "    ",
        "    # Test case 5: Empty string",
        "    assert minRemoveToMakeValid(\"\") == \"\", \"Test case 5 failed\"",
        "    ",
        "    # Test case 6: Only invalid parentheses",
        "    assert minRemoveToMakeValid(\"())()(\") == \"()()\", \"Test case 6 failed\"",
        "    ",
        "    # Test case 7: No parentheses",
        "    assert minRemoveToMakeValid(\"abcdefg\") == \"abcdefg\", \"Test case 7 failed\"",
        "    ",
        "    # Test case 8: Nested parentheses",
        "    assert minRemoveToMakeValid(\"(a(b(c)d)e)f\") == \"(a(b(c)d)e)f\", \"Test case 8 failed\"",
        "    ",
        "    # Test case 9: All characters are parentheses",
        "    assert minRemoveToMakeValid(\"((()))\") == \"((()))\", \"Test case 9 failed\"",
        "    ",
        "    print(\"All test cases passed!\")",
        "",
        "# Run the tests",
        "test_minRemoveToMakeValid()",
        ""
      ],
      "execution_count": null,
      "outputs": []
    }
  ],
  "metadata": {
    "kernelspec": {
      "display_name": "Python 3",
      "language": "python",
      "name": "python3"
    },
    "language_info": {
      "codemirror_mode": {
        "name": "ipython",
        "version": 3
      },
      "file_extension": ".py",
      "mimetype": "text/x-python",
      "name": "python",
      "nbconvert_exporter": "python",
      "pygments_lexer": "ipython3",
      "version": "3.11.9"
    }
  },
  "nbformat": 4,
  "nbformat_minor": 5
}