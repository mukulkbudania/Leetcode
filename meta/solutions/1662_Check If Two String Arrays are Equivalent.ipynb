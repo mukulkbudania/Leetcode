{
  "cells": [
    {
      "cell_type": "markdown",
      "metadata": {},
      "source": [
        "# 1662. Check If Two String Arrays are Equivalent"
      ]
    },
    {
      "cell_type": "markdown",
      "metadata": {},
      "source": [
        "Given two string arrays word1 and word2, return true if the two arrays represent the same string, and false otherwise.",
        "",
        "",
        "",
        "A string is represented by an array if the array elements concatenated in order forms the string.",
        "",
        "",
        "",
        " ",
        "",
        "",
        "",
        "**Example 1:**",
        "",
        "",
        "",
        "Input: word1 = [\"ab\", \"c\"], word2 = [\"a\", \"bc\"]",
        "",
        "Output: true",
        "",
        "Explanation:",
        "",
        "word1 represents string \"ab\" + \"c\" -> \"abc\"",
        "",
        "word2 represents string \"a\" + \"bc\" -> \"abc\"",
        "",
        "The strings are the same, so return true.",
        "",
        "**Example 2:**",
        "",
        "",
        "",
        "Input: word1 = [\"a\", \"cb\"], word2 = [\"ab\", \"c\"]",
        "",
        "Output: false",
        "",
        "**Example 3:**",
        "",
        "",
        "",
        "Input: word1  = [\"abc\", \"d\", \"defg\"], word2 = [\"abcddefg\"]",
        "",
        "Output: true",
        "",
        " ",
        "",
        "",
        "",
        "**Constraints:**",
        "",
        "",
        "",
        "1 <= word1.length, word2.length <= 103",
        "",
        "1 <= word1[i].length, word2[i].length <= 103",
        "",
        "1 <= sum(word1[i].length), sum(word2[i].length) <= 103",
        "",
        "word1[i] and word2[i] consist of lowercase letters."
      ]
    },
    {
      "cell_type": "markdown",
      "metadata": {},
      "source": [
        "## Solution Explanation\n",
        "This problem asks us to determine if two arrays of strings represent the same string when concatenated. The approach is straightforward:",
        "",
        "1. Concatenate all strings in `word1` to form a single string `s1`.",
        "2. Concatenate all strings in `word2` to form a single string `s2`.",
        "3. Compare `s1` and `s2`. If they are equal, return `True`; otherwise, return `False`.",
        "",
        "This solution is simple and efficient. We only need to iterate through each array once to build the concatenated strings, and then perform a single comparison."
      ]
    },
    {
      "cell_type": "code",
      "metadata": {},
      "source": [
        "def arrayStringsAreEqual(word1: list[str], word2: list[str]) -> bool:",
        "    \"\"\"",
        "    Determine if two arrays of strings represent the same string when concatenated.",
        "    ",
        "    Args:",
        "        word1: First array of strings",
        "        word2: Second array of strings",
        "        ",
        "    Returns:",
        "        True if the concatenated strings are equal, False otherwise",
        "    \"\"\"",
        "    # Concatenate all strings in each array",
        "    s1 = ''.join(word1)",
        "    s2 = ''.join(word2)",
        "    ",
        "    # Compare the resulting strings",
        "    return s1 == s2",
        ""
      ],
      "execution_count": null,
      "outputs": []
    },
    {
      "cell_type": "markdown",
      "metadata": {},
      "source": [
        "## Time and Space Complexity\n",
        "* *Time Complexity**: O(n + m), where n is the total length of all strings in `word1` and m is the total length of all strings in `word2`. This is because:",
        "* Concatenating all strings in `word1` takes O(n) time",
        "* Concatenating all strings in `word2` takes O(m) time",
        "* Comparing the two resulting strings takes O(n + m) time in the worst case",
        "* *Space Complexity**: O(n + m), as we create two new strings of lengths n and m respectively to store the concatenated results."
      ]
    },
    {
      "cell_type": "markdown",
      "metadata": {},
      "source": [
        "## Test Cases\n"
      ]
    },
    {
      "cell_type": "code",
      "metadata": {},
      "source": [
        "def test_arrayStringsAreEqual():",
        "    # Test case 1: Example 1 from the problem",
        "    assert arrayStringsAreEqual([\"ab\", \"c\"], [\"a\", \"bc\"]) == True",
        "    ",
        "    # Test case 2: Example 2 from the problem",
        "    assert arrayStringsAreEqual([\"a\", \"cb\"], [\"ab\", \"c\"]) == False",
        "    ",
        "    # Test case 3: Example 3 from the problem",
        "    assert arrayStringsAreEqual([\"abc\", \"d\", \"defg\"], [\"abcddefg\"]) == True",
        "    ",
        "    # Test case 4: Empty strings in arrays",
        "    assert arrayStringsAreEqual([\"\", \"hello\"], [\"hello\", \"\"]) == True",
        "    ",
        "    # Test case 5: Single character strings",
        "    assert arrayStringsAreEqual([\"a\", \"b\", \"c\"], [\"abc\"]) == True",
        "    ",
        "    # Test case 6: Different lengths but same concatenated string",
        "    assert arrayStringsAreEqual([\"a\"], [\"a\", \"\"]) == True",
        "    ",
        "    # Test case 7: Empty arrays (edge case - both would be empty strings)",
        "    assert arrayStringsAreEqual([\"\"], [\"\"]) == True",
        "    ",
        "    # Test case 8: One empty, one not",
        "    assert arrayStringsAreEqual([\"\"], [\"a\"]) == False",
        "    ",
        "    print(\"All test cases passed!\")",
        "",
        "# Run the tests",
        "test_arrayStringsAreEqual()",
        ""
      ],
      "execution_count": null,
      "outputs": []
    }
  ],
  "metadata": {
    "kernelspec": {
      "display_name": "Python 3",
      "language": "python",
      "name": "python3"
    },
    "language_info": {
      "codemirror_mode": {
        "name": "ipython",
        "version": 3
      },
      "file_extension": ".py",
      "mimetype": "text/x-python",
      "name": "python",
      "nbconvert_exporter": "python",
      "pygments_lexer": "ipython3",
      "version": "3.11.9"
    }
  },
  "nbformat": 4,
  "nbformat_minor": 5
}