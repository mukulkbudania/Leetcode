{
  "cells": [
    {
      "cell_type": "markdown",
      "metadata": {},
      "source": [
        "# 791. Custom Sort String"
      ]
    },
    {
      "cell_type": "markdown",
      "metadata": {},
      "source": [
        "You are given two strings order and s. All the characters of order are unique and were sorted in some custom order previously.",
        "",
        "",
        "",
        "Permute the characters of s so that they match the order that order was sorted. More specifically, if a character x occurs before a character y in order, then x should occur before y in the permuted string.",
        "",
        "",
        "",
        "Return any permutation of s that satisfies this property.",
        "",
        "",
        "",
        " ",
        "",
        "",
        "",
        "**Example 1:**",
        "",
        "",
        "",
        "Input: order = \"cba\", s = \"abcd\"",
        "",
        "",
        "",
        "Output: \"cbad\"",
        "",
        "",
        "",
        "Explanation: \"a\", \"b\", \"c\" appear in order, so the order of \"a\", \"b\", \"c\" should be \"c\", \"b\", and \"a\".",
        "",
        "",
        "",
        "Since \"d\" does not appear in order, it can be at any position in the returned string. \"dcba\", \"cdba\", \"cbda\" are also valid outputs.",
        "",
        "",
        "",
        "**Example 2:**",
        "",
        "",
        "",
        "Input: order = \"bcafg\", s = \"abcd\"",
        "",
        "",
        "",
        "Output: \"bcad\"",
        "",
        "",
        "",
        "Explanation: The characters \"b\", \"c\", and \"a\" from order dictate the order for the characters in s. The character \"d\" in s does not appear in order, so its position is flexible.",
        "",
        "",
        "",
        "Following the order of appearance in order, \"b\", \"c\", and \"a\" from s should be arranged as \"b\", \"c\", \"a\". \"d\" can be placed at any position since it's not in order. The output \"bcad\" correctly follows this rule. Other arrangements like \"dbca\" or \"bcda\" would also be valid, as long as \"b\", \"c\", \"a\" maintain their order.",
        "",
        "",
        "",
        " ",
        "",
        "",
        "",
        "**Constraints:**",
        "",
        "",
        "",
        "1 <= order.length <= 26",
        "",
        "1 <= s.length <= 200",
        "",
        "order and s consist of lowercase English letters.",
        "",
        "All the characters of order are unique."
      ]
    },
    {
      "cell_type": "markdown",
      "metadata": {},
      "source": [
        "## Solution Explanation\n",
        "To solve this problem, we need to sort the characters in string `s` according to the custom order defined in the string `order`. Characters in `s` that don't appear in `order` can be placed anywhere.",
        "",
        "Here's the approach:",
        "1. Create a mapping of each character in `order` to its position (index). This will help us determine the relative ordering of characters.",
        "2. Split the characters in `s` into two groups:",
        "* Characters that appear in `order` (we'll call these \"ordered characters\")",
        "* Characters that don't appear in `order` (we'll call these \"unordered characters\")",
        "3. Sort the \"ordered characters\" based on their positions in `order`.",
        "4. Combine the sorted \"ordered characters\" with the \"unordered characters\" to form the final result.",
        "",
        "The key insight is that we can use the position in `order` as a custom comparator for sorting."
      ]
    },
    {
      "cell_type": "code",
      "metadata": {},
      "source": [
        "def customSortString(order: str, s: str) -> str:",
        "    # Create a mapping of characters in order to their positions",
        "    order_map = {char: idx for idx, char in enumerate(order)}",
        "    ",
        "    # Split characters in s into ordered and unordered",
        "    ordered_chars = []",
        "    unordered_chars = []",
        "    ",
        "    for char in s:",
        "        if char in order_map:",
        "            ordered_chars.append(char)",
        "        else:",
        "            unordered_chars.append(char)",
        "    ",
        "    # Sort the ordered characters based on their positions in order",
        "    ordered_chars.sort(key=lambda x: order_map[x])",
        "    ",
        "    # Combine the sorted ordered characters with unordered characters",
        "    return ''.join(ordered_chars + unordered_chars)",
        ""
      ],
      "execution_count": null,
      "outputs": []
    },
    {
      "cell_type": "markdown",
      "metadata": {},
      "source": [
        "## Time and Space Complexity\n",
        "* *Time Complexity**: O(n log n), where n is the length of string `s`. This is dominated by the sorting operation. Creating the order map takes O(m) time where m is the length of `order`, but since m \u2264 26 (as per constraints), this is effectively O(1).",
        "* *Space Complexity**: O(n + m), where:",
        "* n is the length of string `s` (for storing ordered_chars and unordered_chars)",
        "* m is the length of string `order` (for storing the order_map)",
        "* Since m \u2264 26, the space complexity can be simplified to O(n)."
      ]
    },
    {
      "cell_type": "markdown",
      "metadata": {},
      "source": [
        "## Test Cases\n"
      ]
    },
    {
      "cell_type": "code",
      "metadata": {},
      "source": [
        "def test_customSortString():",
        "    # Test case 1: Example from the problem",
        "    assert customSortString(\"cba\", \"abcd\") in [\"cbad\", \"dcba\", \"cdba\", \"cbda\"]",
        "    ",
        "    # Test case 2: Another example from the problem",
        "    assert customSortString(\"bcafg\", \"abcd\") in [\"bcad\", \"dbca\", \"bcda\"]",
        "    ",
        "    # Test case 3: All characters in s are in order",
        "    assert customSortString(\"cba\", \"abc\") == \"cba\"",
        "    ",
        "    # Test case 4: No characters in s are in order",
        "    assert customSortString(\"xyz\", \"abc\") == \"abc\"",
        "    ",
        "    # Test case 5: Empty s",
        "    assert customSortString(\"cba\", \"\") == \"\"",
        "    ",
        "    # Test case 6: Single character",
        "    assert customSortString(\"a\", \"a\") == \"a\"",
        "    ",
        "    # Test case 7: Repeated characters in s",
        "    assert customSortString(\"cba\", \"aabcd\") in [\"ccbad\", \"dcbaa\", \"cdbaa\", \"cbdaa\"]",
        "    ",
        "    print(\"All test cases passed!\")",
        "",
        "# Run the tests",
        "test_customSortString()",
        ""
      ],
      "execution_count": null,
      "outputs": []
    }
  ],
  "metadata": {
    "kernelspec": {
      "display_name": "Python 3",
      "language": "python",
      "name": "python3"
    },
    "language_info": {
      "codemirror_mode": {
        "name": "ipython",
        "version": 3
      },
      "file_extension": ".py",
      "mimetype": "text/x-python",
      "name": "python",
      "nbconvert_exporter": "python",
      "pygments_lexer": "ipython3",
      "version": "3.11.9"
    }
  },
  "nbformat": 4,
  "nbformat_minor": 5
}