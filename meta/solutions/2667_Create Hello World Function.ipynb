{
  "cells": [
    {
      "cell_type": "markdown",
      "metadata": {},
      "source": [
        "# 2667. Create Hello World Function"
      ]
    },
    {
      "cell_type": "markdown",
      "metadata": {},
      "source": [
        "Write a function createHelloWorld. It should return a new function that always returns \"Hello World\".",
        "",
        " ",
        "",
        "",
        "",
        "**Example 1:**",
        "",
        "",
        "",
        "Input: args = []",
        "",
        "Output: \"Hello World\"",
        "",
        "Explanation:",
        "",
        "const f = createHelloWorld();",
        "",
        "f(); // \"Hello World\"",
        "",
        "",
        "",
        "The function returned by createHelloWorld should always return \"Hello World\".",
        "",
        "**Example 2:**",
        "",
        "",
        "",
        "Input: args = [{},null,42]",
        "",
        "Output: \"Hello World\"",
        "",
        "Explanation:",
        "",
        "const f = createHelloWorld();",
        "",
        "f({}, null, 42); // \"Hello World\"",
        "",
        "",
        "",
        "Any arguments could be passed to the function but it should still always return \"Hello World\".",
        "",
        " ",
        "",
        "",
        "",
        "**Constraints:**",
        "",
        "",
        "",
        "0 <= args.length <= 10"
      ]
    },
    {
      "cell_type": "markdown",
      "metadata": {},
      "source": [
        "## Solution Explanation\n",
        "This problem asks us to create a higher-order function `createHelloWorld` that returns another function. The returned function should always output \"Hello World\" regardless of what arguments are passed to it.",
        "",
        "The key concepts involved here are:",
        "1. Higher-order functions - functions that return other functions",
        "2. Closures - functions that remember the environment in which they were created",
        "3. Rest parameters - to handle any number of arguments",
        "",
        "The solution is straightforward:",
        "1. Define a function `createHelloWorld` that takes no arguments",
        "2. Inside this function, define and return another function that:",
        "* Can accept any number of arguments (using `*args` in Python)",
        "* Always returns the string \"Hello World\""
      ]
    },
    {
      "cell_type": "code",
      "metadata": {},
      "source": [
        "def createHelloWorld():",
        "    \"\"\"",
        "    Returns a function that always returns \"Hello World\"",
        "    ",
        "    Returns:",
        "        function: A function that returns \"Hello World\" regardless of arguments",
        "    \"\"\"",
        "    def helloWorld(*args, **kwargs):",
        "        \"\"\"",
        "        Returns \"Hello World\" regardless of arguments passed",
        "        ",
        "        Args:",
        "            *args: Variable length argument list",
        "            **kwargs: Variable length keyword argument dictionary",
        "            ",
        "        Returns:",
        "            str: \"Hello World\"",
        "        \"\"\"",
        "        return \"Hello World\"",
        "    ",
        "    return helloWorld",
        ""
      ],
      "execution_count": null,
      "outputs": []
    },
    {
      "cell_type": "markdown",
      "metadata": {},
      "source": [
        "## Time and Space Complexity\n",
        "* *Time Complexity**: O(1)",
        "* The `createHelloWorld` function has constant time complexity as it simply defines and returns another function.",
        "* The returned `helloWorld` function also has constant time complexity as it always returns the same string regardless of input.",
        "* *Space Complexity**: O(1)",
        "* The `createHelloWorld` function uses constant space to define the inner function.",
        "* The returned `helloWorld` function also uses constant space as it only stores the string \"Hello World\".",
        "* No additional data structures are used that would scale with input size."
      ]
    },
    {
      "cell_type": "markdown",
      "metadata": {},
      "source": [
        "## Test Cases\n"
      ]
    },
    {
      "cell_type": "code",
      "metadata": {},
      "source": [
        "def test_createHelloWorld():",
        "    # Test case 1: No arguments",
        "    f = createHelloWorld()",
        "    assert f() == \"Hello World\", \"Should return 'Hello World' with no arguments\"",
        "    ",
        "    # Test case 2: Multiple arguments of different types",
        "    assert f({}, None, 42) == \"Hello World\", \"Should return 'Hello World' with multiple arguments\"",
        "    ",
        "    # Test case 3: List argument",
        "    assert f([1, 2, 3]) == \"Hello World\", \"Should return 'Hello World' with list argument\"",
        "    ",
        "    # Test case 4: String argument",
        "    assert f(\"test\") == \"Hello World\", \"Should return 'Hello World' with string argument\"",
        "    ",
        "    # Test case 5: Keyword arguments",
        "    assert f(name=\"John\", age=30) == \"Hello World\", \"Should return 'Hello World' with keyword arguments\"",
        "    ",
        "    print(\"All test cases passed!\")",
        "",
        "# Run the tests",
        "test_createHelloWorld()",
        ""
      ],
      "execution_count": null,
      "outputs": []
    }
  ],
  "metadata": {
    "kernelspec": {
      "display_name": "Python 3",
      "language": "python",
      "name": "python3"
    },
    "language_info": {
      "codemirror_mode": {
        "name": "ipython",
        "version": 3
      },
      "file_extension": ".py",
      "mimetype": "text/x-python",
      "name": "python",
      "nbconvert_exporter": "python",
      "pygments_lexer": "ipython3",
      "version": "3.11.9"
    }
  },
  "nbformat": 4,
  "nbformat_minor": 5
}