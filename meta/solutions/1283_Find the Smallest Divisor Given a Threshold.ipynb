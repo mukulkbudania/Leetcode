{
  "cells": [
    {
      "cell_type": "markdown",
      "metadata": {},
      "source": [
        "# 1283. Find the Smallest Divisor Given a Threshold"
      ]
    },
    {
      "cell_type": "markdown",
      "metadata": {},
      "source": [
        "Given an array of integers nums and an integer threshold, we will choose a positive integer divisor, divide all the array by it, and sum the division's result. Find the smallest divisor such that the result mentioned above is less than or equal to threshold.",
        "",
        "",
        "",
        "Each result of the division is rounded to the nearest integer greater than or equal to that element. (For example: 7/3 = 3 and 10/2 = 5).",
        "",
        "",
        "",
        "The test cases are generated so that there will be an answer.",
        "",
        "",
        "",
        " ",
        "",
        "",
        "",
        "**Example 1:**",
        "",
        "",
        "",
        "Input: nums = [1,2,5,9], threshold = 6",
        "",
        "Output: 5",
        "",
        "Explanation: We can get a sum to 17 (1+2+5+9) if the divisor is 1. ",
        "",
        "If the divisor is 4 we can get a sum of 7 (1+1+2+3) and if the divisor is 5 the sum will be 5 (1+1+1+2). ",
        "",
        "**Example 2:**",
        "",
        "",
        "",
        "Input: nums = [44,22,33,11,1], threshold = 5",
        "",
        "Output: 44",
        "",
        " ",
        "",
        "",
        "",
        "**Constraints:**",
        "",
        "",
        "",
        "1 <= nums.length <= 5 * 104",
        "",
        "1 <= nums[i] <= 106",
        "",
        "nums.length <= threshold <= 106"
      ]
    },
    {
      "cell_type": "markdown",
      "metadata": {},
      "source": [
        "## Solution Explanation\n",
        "This problem asks us to find the smallest divisor such that when we divide each element in the array by this divisor (rounding up), the sum of the results is less than or equal to the threshold.",
        "",
        "The key insights:",
        "1. As the divisor increases, the sum of the divided values decreases (or stays the same)",
        "2. This monotonic property allows us to use binary search to find the smallest valid divisor",
        "3. The smallest possible divisor is 1, and the largest needed would be max(nums) (since any larger divisor would give the same result)",
        "",
        "The approach:",
        "1. Define a function to calculate the sum of divisions for a given divisor",
        "2. Use binary search to find the smallest divisor that satisfies the threshold condition",
        "3. For each divisor we try, we compute the sum and compare it with the threshold",
        "4. If the sum is less than or equal to the threshold, we look for a smaller divisor",
        "5. Otherwise, we need a larger divisor",
        "",
        "For the division with ceiling (rounding up), we can use the formula `(num + divisor - 1) // divisor` or `math.ceil(num / divisor)`."
      ]
    },
    {
      "cell_type": "code",
      "metadata": {},
      "source": [
        "import math",
        "from typing import List",
        "",
        "class Solution:",
        "    def smallestDivisor(self, nums: List[int], threshold: int) -> int:",
        "        # Helper function to calculate sum of divisions with a given divisor",
        "        def calculate_sum(divisor):",
        "            return sum(math.ceil(num / divisor) for num in nums)",
        "        ",
        "        # Binary search to find the smallest divisor",
        "        left, right = 1, max(nums)",
        "        ",
        "        while left < right:",
        "            mid = left + (right - left) // 2",
        "            ",
        "            if calculate_sum(mid) <= threshold:",
        "                # This divisor works, try to find a smaller one",
        "                right = mid",
        "            else:",
        "                # This divisor is too small, need a larger one",
        "                left = mid + 1",
        "                ",
        "        return left",
        ""
      ],
      "execution_count": null,
      "outputs": []
    },
    {
      "cell_type": "markdown",
      "metadata": {},
      "source": [
        "## Time and Space Complexity\n",
        "* *Time Complexity**: O(N * log(M)), where:",
        "* N is the length of the nums array",
        "* M is the maximum value in the nums array",
        "* We perform binary search on the range [1, max(nums)], which takes O(log(M)) iterations",
        "* For each iteration, we calculate the sum which takes O(N) time",
        "* *Space Complexity**: O(1), as we only use a constant amount of extra space regardless of the input size. We don't create any data structures that scale with the input."
      ]
    },
    {
      "cell_type": "markdown",
      "metadata": {},
      "source": [
        "## Test Cases\n"
      ]
    },
    {
      "cell_type": "code",
      "metadata": {},
      "source": [
        "def test_smallest_divisor():",
        "    solution = Solution()",
        "    ",
        "    # Test case 1: Example 1 from the problem",
        "    assert solution.smallestDivisor([1, 2, 5, 9], 6) == 5",
        "    ",
        "    # Test case 2: Example 2 from the problem",
        "    assert solution.smallestDivisor([44, 22, 33, 11, 1], 5) == 44",
        "    ",
        "    # Test case 3: All elements are the same",
        "    assert solution.smallestDivisor([10, 10, 10, 10], 4) == 10",
        "    ",
        "    # Test case 4: Threshold equals the length of array",
        "    assert solution.smallestDivisor([1, 2, 3, 4, 5], 5) == 5",
        "    ",
        "    # Test case 5: Single element",
        "    assert solution.smallestDivisor([100], 10) == 10",
        "    ",
        "    # Test case 6: Large numbers",
        "    assert solution.smallestDivisor([1000000], 1) == 1000000",
        "    ",
        "    # Test case 7: Edge case with threshold exactly matching the sum",
        "    assert solution.smallestDivisor([1, 2, 3], 3) == 3",
        "    ",
        "    print(\"All test cases passed!\")",
        "",
        "# Run the tests",
        "test_smallest_divisor()",
        ""
      ],
      "execution_count": null,
      "outputs": []
    }
  ],
  "metadata": {
    "kernelspec": {
      "display_name": "Python 3",
      "language": "python",
      "name": "python3"
    },
    "language_info": {
      "codemirror_mode": {
        "name": "ipython",
        "version": 3
      },
      "file_extension": ".py",
      "mimetype": "text/x-python",
      "name": "python",
      "nbconvert_exporter": "python",
      "pygments_lexer": "ipython3",
      "version": "3.11.9"
    }
  },
  "nbformat": 4,
  "nbformat_minor": 5
}