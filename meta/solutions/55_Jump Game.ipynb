{
  "cells": [
    {
      "cell_type": "markdown",
      "metadata": {},
      "source": [
        "# 55. Jump Game"
      ]
    },
    {
      "cell_type": "markdown",
      "metadata": {},
      "source": [
        "You are given an integer array nums. You are initially positioned at the array's first index, and each element in the array represents your maximum jump length at that position.",
        "",
        "",
        "",
        "Return true if you can reach the last index, or false otherwise.",
        "",
        "",
        "",
        " ",
        "",
        "",
        "",
        "**Example 1:**",
        "",
        "",
        "",
        "Input: nums = [2,3,1,1,4]",
        "",
        "Output: true",
        "",
        "Explanation: Jump 1 step from index 0 to 1, then 3 steps to the last index.",
        "",
        "**Example 2:**",
        "",
        "",
        "",
        "Input: nums = [3,2,1,0,4]",
        "",
        "Output: false",
        "",
        "Explanation: You will always arrive at index 3 no matter what. Its maximum jump length is 0, which makes it impossible to reach the last index.",
        "",
        " ",
        "",
        "",
        "",
        "**Constraints:**",
        "",
        "",
        "",
        "1 <= nums.length <= 104",
        "",
        "0 <= nums[i] <= 105"
      ]
    },
    {
      "cell_type": "markdown",
      "metadata": {},
      "source": [
        "## Solution Explanation\n",
        "For this problem, we need to determine if we can reach the last index by jumping from the first index, where each element represents the maximum jump length at that position.",
        "",
        "There are several approaches to solve this problem:",
        "",
        "1. **Greedy Approach**: We can work backwards from the last index and keep track of the leftmost position from which we can reach the end.",
        "",
        "2. **Dynamic Programming**: We can use an array to keep track of positions that can reach the end.",
        "",
        "3. **Greedy Forward Approach**: We can keep track of the furthest position we can reach as we iterate through the array.",
        "",
        "I'll implement the third approach (Greedy Forward) as it's the most efficient. The idea is:",
        "",
        "1. Keep track of the furthest position we can reach (`max_reach`).",
        "2. Iterate through the array, and for each position:",
        "* If the current position is beyond our `max_reach`, we can't reach it, so return `false`.",
        "* Update `max_reach` to be the maximum of the current `max_reach` and the position we can reach from the current index.",
        "3. If we can iterate through the entire array or if `max_reach` is greater than or equal to the last index, we can reach the end."
      ]
    },
    {
      "cell_type": "code",
      "metadata": {},
      "source": [
        "def canJump(nums):",
        "    max_reach = 0",
        "    ",
        "    for i in range(len(nums)):",
        "        # If current position is beyond our reach, we can't get here",
        "        if i > max_reach:",
        "            return False",
        "        ",
        "        # Update the furthest position we can reach",
        "        max_reach = max(max_reach, i + nums[i])",
        "        ",
        "        # If we can already reach the end, return early",
        "        if max_reach >= len(nums) - 1:",
        "            return True",
        "    ",
        "    # If we've gone through the entire array, we can reach the end",
        "    return True",
        ""
      ],
      "execution_count": null,
      "outputs": []
    },
    {
      "cell_type": "markdown",
      "metadata": {},
      "source": [
        "## Time and Space Complexity\n",
        "* *Time Complexity**: O(n), where n is the length of the input array. We iterate through the array once.",
        "* *Space Complexity**: O(1), as we only use a constant amount of extra space regardless of the input size."
      ]
    },
    {
      "cell_type": "markdown",
      "metadata": {},
      "source": [
        "## Test Cases\n"
      ]
    },
    {
      "cell_type": "code",
      "metadata": {},
      "source": [
        "def test_canJump():",
        "    # Test case 1: Example 1 from the problem",
        "    assert canJump([2, 3, 1, 1, 4]) == True",
        "    ",
        "    # Test case 2: Example 2 from the problem",
        "    assert canJump([3, 2, 1, 0, 4]) == False",
        "    ",
        "    # Test case 3: Single element array",
        "    assert canJump([0]) == True",
        "    ",
        "    # Test case 4: All zeros except the first element",
        "    assert canJump([1, 0, 0, 0]) == False",
        "    ",
        "    # Test case 5: Exactly enough jumps to reach the end",
        "    assert canJump([1, 1, 1, 1]) == True",
        "    ",
        "    # Test case 6: Can jump directly to the end",
        "    assert canJump([5, 0, 0, 0, 0]) == True",
        "    ",
        "    # Test case 7: Zero at the beginning",
        "    assert canJump([0, 1, 2, 3]) == False",
        "    ",
        "    print(\"All test cases passed!\")",
        "",
        "# Run the tests",
        "test_canJump()",
        ""
      ],
      "execution_count": null,
      "outputs": []
    }
  ],
  "metadata": {
    "kernelspec": {
      "display_name": "Python 3",
      "language": "python",
      "name": "python3"
    },
    "language_info": {
      "codemirror_mode": {
        "name": "ipython",
        "version": 3
      },
      "file_extension": ".py",
      "mimetype": "text/x-python",
      "name": "python",
      "nbconvert_exporter": "python",
      "pygments_lexer": "ipython3",
      "version": "3.11.9"
    }
  },
  "nbformat": 4,
  "nbformat_minor": 5
}