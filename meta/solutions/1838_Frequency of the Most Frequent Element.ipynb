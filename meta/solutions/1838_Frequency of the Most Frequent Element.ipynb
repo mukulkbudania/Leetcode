{
  "cells": [
    {
      "cell_type": "markdown",
      "metadata": {},
      "source": [
        "# 1838. Frequency of the Most Frequent Element"
      ]
    },
    {
      "cell_type": "markdown",
      "metadata": {},
      "source": [
        "The frequency of an element is the number of times it occurs in an array.",
        "",
        "",
        "",
        "You are given an integer array nums and an integer k. In one operation, you can choose an index of nums and increment the element at that index by 1.",
        "",
        "",
        "",
        "Return the maximum possible frequency of an element after performing at most k operations.",
        "",
        "",
        "",
        " ",
        "",
        "",
        "",
        "**Example 1:**",
        "",
        "",
        "",
        "Input: nums = [1,2,4], k = 5",
        "",
        "Output: 3",
        "",
        "Explanation: Increment the first element three times and the second element two times to make nums = [4,4,4].",
        "",
        "4 has a frequency of 3.",
        "",
        "**Example 2:**",
        "",
        "",
        "",
        "Input: nums = [1,4,8,13], k = 5",
        "",
        "Output: 2",
        "",
        "Explanation: There are multiple optimal solutions:",
        "",
        "- Increment the first element three times to make nums = [4,4,8,13]. 4 has a frequency of 2.",
        "",
        "- Increment the second element four times to make nums = [1,8,8,13]. 8 has a frequency of 2.",
        "",
        "- Increment the third element five times to make nums = [1,4,13,13]. 13 has a frequency of 2.",
        "",
        "**Example 3:**",
        "",
        "",
        "",
        "Input: nums = [3,9,6], k = 2",
        "",
        "Output: 1",
        "",
        " ",
        "",
        "",
        "",
        "**Constraints:**",
        "",
        "",
        "",
        "1 <= nums.length <= 105",
        "",
        "1 <= nums[i] <= 105",
        "",
        "1 <= k <= 105"
      ]
    },
    {
      "cell_type": "markdown",
      "metadata": {},
      "source": [
        "## Solution Explanation\n",
        "This problem asks us to find the maximum frequency of an element after performing at most k operations, where each operation increments an element by 1.",
        "",
        "The key insight is that we want to make as many elements equal to some target value as possible. For each potential target value, we need to calculate how many operations are needed to make other elements equal to it.",
        "",
        "A greedy approach works well here:",
        "1. Sort the array to make it easier to process elements in order.",
        "2. Use a sliding window approach to find the maximum number of elements we can make equal.",
        "3. For each window, calculate how many operations are needed to make all elements in the window equal to the maximum element in that window.",
        "4. If the required operations are less than or equal to k, update our answer.",
        "",
        "The sliding window will have a left and right pointer. We'll expand the right pointer to include more elements and contract the left pointer when we exceed our operation budget k."
      ]
    },
    {
      "cell_type": "code",
      "metadata": {},
      "source": [
        "def maxFrequency(nums, k):",
        "    nums.sort()  # Sort the array",
        "    left = 0",
        "    max_frequency = 0",
        "    operations_used = 0",
        "    ",
        "    for right in range(len(nums)):",
        "        # Calculate operations needed to make all elements in the window equal to nums[right]",
        "        operations_used += (nums[right] - nums[right - 1]) * (right - left) if right > 0 else 0",
        "        ",
        "        # Shrink the window from the left if we exceed our operation budget",
        "        while operations_used > k:",
        "            operations_used -= nums[right] - nums[left]",
        "            left += 1",
        "        ",
        "        # Update the maximum frequency",
        "        max_frequency = max(max_frequency, right - left + 1)",
        "    ",
        "    return max_frequency",
        ""
      ],
      "execution_count": null,
      "outputs": []
    },
    {
      "cell_type": "markdown",
      "metadata": {},
      "source": [
        "## Time and Space Complexity\n",
        "* *Time Complexity**: O(n log n) where n is the length of the input array. This is dominated by the sorting operation. The sliding window traversal is O(n) because each element is processed at most twice (once when it enters the window and once when it leaves).",
        "* *Space Complexity**: O(1) if we don't count the space used for sorting (which depends on the implementation but is typically O(log n) for the call stack). We only use a constant amount of extra space for our variables."
      ]
    },
    {
      "cell_type": "markdown",
      "metadata": {},
      "source": [
        "## Test Cases\n"
      ]
    },
    {
      "cell_type": "code",
      "metadata": {},
      "source": [
        "def test_max_frequency():",
        "    # Test case 1: Example 1 from the problem",
        "    assert maxFrequency([1, 2, 4], 5) == 3",
        "    ",
        "    # Test case 2: Example 2 from the problem",
        "    assert maxFrequency([1, 4, 8, 13], 5) == 2",
        "    ",
        "    # Test case 3: Example 3 from the problem",
        "    assert maxFrequency([3, 9, 6], 2) == 1",
        "    ",
        "    # Test case 4: All elements are the same",
        "    assert maxFrequency([5, 5, 5], 0) == 3",
        "    ",
        "    # Test case 5: Single element",
        "    assert maxFrequency([7], 10) == 1",
        "    ",
        "    # Test case 6: Large gap between elements",
        "    assert maxFrequency([1, 100], 98) == 1",
        "    assert maxFrequency([1, 100], 99) == 2",
        "    ",
        "    # Test case 7: Multiple elements with different frequencies",
        "    assert maxFrequency([1, 1, 2, 2, 3, 3, 3], 2) == 4",
        "    ",
        "    print(\"All test cases passed!\")",
        "",
        "# Run the tests",
        "test_max_frequency()",
        ""
      ],
      "execution_count": null,
      "outputs": []
    }
  ],
  "metadata": {
    "kernelspec": {
      "display_name": "Python 3",
      "language": "python",
      "name": "python3"
    },
    "language_info": {
      "codemirror_mode": {
        "name": "ipython",
        "version": 3
      },
      "file_extension": ".py",
      "mimetype": "text/x-python",
      "name": "python",
      "nbconvert_exporter": "python",
      "pygments_lexer": "ipython3",
      "version": "3.11.9"
    }
  },
  "nbformat": 4,
  "nbformat_minor": 5
}