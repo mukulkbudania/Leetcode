{
  "cells": [
    {
      "cell_type": "markdown",
      "metadata": {},
      "source": [
        "# 1143. Longest Common Subsequence"
      ]
    },
    {
      "cell_type": "markdown",
      "metadata": {},
      "source": [
        "Given two strings text1 and text2, return the length of their longest common subsequence. If there is no common subsequence, return 0.",
        "",
        "",
        "",
        "A subsequence of a string is a new string generated from the original string with some characters (can be none) deleted without changing the relative order of the remaining characters.",
        "",
        "",
        "",
        "For example, \"ace\" is a subsequence of \"abcde\".",
        "",
        "A common subsequence of two strings is a subsequence that is common to both strings.",
        "",
        "",
        "",
        " ",
        "",
        "",
        "",
        "**Example 1:**",
        "",
        "",
        "",
        "Input: text1 = \"abcde\", text2 = \"ace\" ",
        "",
        "Output: 3  ",
        "",
        "Explanation: The longest common subsequence is \"ace\" and its length is 3.",
        "",
        "**Example 2:**",
        "",
        "",
        "",
        "Input: text1 = \"abc\", text2 = \"abc\"",
        "",
        "Output: 3",
        "",
        "Explanation: The longest common subsequence is \"abc\" and its length is 3.",
        "",
        "**Example 3:**",
        "",
        "",
        "",
        "Input: text1 = \"abc\", text2 = \"def\"",
        "",
        "Output: 0",
        "",
        "Explanation: There is no such common subsequence, so the result is 0.",
        "",
        " ",
        "",
        "",
        "",
        "**Constraints:**",
        "",
        "",
        "",
        "1 <= text1.length, text2.length <= 1000",
        "",
        "text1 and text2 consist of only lowercase English characters."
      ]
    },
    {
      "cell_type": "markdown",
      "metadata": {},
      "source": [
        "## Solution Explanation\n",
        "This problem is a classic example of the Longest Common Subsequence (LCS) problem, which can be efficiently solved using dynamic programming.",
        "",
        "The key insight is to build a 2D table where `dp[i][j]` represents the length of the longest common subsequence between the first `i` characters of `text1` and the first `j` characters of `text2`.",
        "",
        "The recurrence relation is:",
        "1. If the current characters match (`text1[i-1] == text2[j-1]`), we add 1 to the LCS of the strings without these characters: `dp[i][j] = dp[i-1][j-1] + 1`",
        "2. If they don't match, we take the maximum of the LCS when we exclude either the current character from `text1` or from `text2`: `dp[i][j] = max(dp[i-1][j], dp[i][j-1])`",
        "",
        "We initialize the first row and column of the DP table to 0, representing the LCS of an empty string with any string is 0."
      ]
    },
    {
      "cell_type": "code",
      "metadata": {},
      "source": [
        "def longestCommonSubsequence(text1: str, text2: str) -> int:",
        "    m, n = len(text1), len(text2)",
        "    ",
        "    # Create a DP table with dimensions (m+1) x (n+1)",
        "    dp = [[0] * (n + 1) for _ in range(m + 1)]",
        "    ",
        "    # Fill the DP table",
        "    for i in range(1, m + 1):",
        "        for j in range(1, n + 1):",
        "            if text1[i-1] == text2[j-1]:",
        "                dp[i][j] = dp[i-1][j-1] + 1",
        "            else:",
        "                dp[i][j] = max(dp[i-1][j], dp[i][j-1])",
        "    ",
        "    # The bottom-right cell contains the length of the LCS",
        "    return dp[m][n]",
        ""
      ],
      "execution_count": null,
      "outputs": []
    },
    {
      "cell_type": "markdown",
      "metadata": {},
      "source": [
        "## Time and Space Complexity\n",
        "* *Time Complexity**: O(m * n), where m is the length of text1 and n is the length of text2. We need to fill in each cell of the m+1 by n+1 DP table once.",
        "* *Space Complexity**: O(m * n) for the DP table. We need a 2D array of size (m+1) \u00d7 (n+1) to store the intermediate results.",
        "",
        "Note: The space complexity can be optimized to O(min(m, n)) by only keeping track of the current and previous rows of the DP table, since each cell only depends on the current row and the previous row. However, the implementation above prioritizes clarity over space optimization."
      ]
    },
    {
      "cell_type": "markdown",
      "metadata": {},
      "source": [
        "## Test Cases\n"
      ]
    },
    {
      "cell_type": "code",
      "metadata": {},
      "source": [
        "def test_longestCommonSubsequence():",
        "    # Example 1: Basic case with a clear LCS",
        "    assert longestCommonSubsequence(\"abcde\", \"ace\") == 3",
        "    ",
        "    # Example 2: Identical strings",
        "    assert longestCommonSubsequence(\"abc\", \"abc\") == 3",
        "    ",
        "    # Example 3: No common subsequence",
        "    assert longestCommonSubsequence(\"abc\", \"def\") == 0",
        "    ",
        "    # Edge case: Empty strings",
        "    assert longestCommonSubsequence(\"\", \"abc\") == 0",
        "    assert longestCommonSubsequence(\"abc\", \"\") == 0",
        "    assert longestCommonSubsequence(\"\", \"\") == 0",
        "    ",
        "    # Edge case: Single character strings",
        "    assert longestCommonSubsequence(\"a\", \"a\") == 1",
        "    assert longestCommonSubsequence(\"a\", \"b\") == 0",
        "    ",
        "    # Complex case: Repeated characters",
        "    assert longestCommonSubsequence(\"bsbininm\", \"jmjkbkjkv\") == 1",
        "    ",
        "    # Complex case: Long strings with multiple common subsequences",
        "    assert longestCommonSubsequence(\"abcdefghijklmnopqrstuvwxyz\", \"zyxwvutsrqponmlkjihgfedcba\") == 1",
        "    ",
        "    # Complex case: Interleaved characters",
        "    assert longestCommonSubsequence(\"aaaaaa\", \"ababab\") == 3",
        "    ",
        "    print(\"All test cases passed!\")",
        "",
        "# Run the tests",
        "test_longestCommonSubsequence()",
        ""
      ],
      "execution_count": null,
      "outputs": []
    }
  ],
  "metadata": {
    "kernelspec": {
      "display_name": "Python 3",
      "language": "python",
      "name": "python3"
    },
    "language_info": {
      "codemirror_mode": {
        "name": "ipython",
        "version": 3
      },
      "file_extension": ".py",
      "mimetype": "text/x-python",
      "name": "python",
      "nbconvert_exporter": "python",
      "pygments_lexer": "ipython3",
      "version": "3.11.9"
    }
  },
  "nbformat": 4,
  "nbformat_minor": 5
}