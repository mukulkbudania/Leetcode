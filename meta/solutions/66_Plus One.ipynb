{
  "cells": [
    {
      "cell_type": "markdown",
      "metadata": {},
      "source": [
        "# 66. Plus One"
      ]
    },
    {
      "cell_type": "markdown",
      "metadata": {},
      "source": [
        "You are given a large integer represented as an integer array digits, where each digits[i] is the ith digit of the integer. The digits are ordered from most significant to least significant in left-to-right order. The large integer does not contain any leading 0's.",
        "",
        "",
        "",
        "Increment the large integer by one and return the resulting array of digits.",
        "",
        "",
        "",
        " ",
        "",
        "",
        "",
        "**Example 1:**",
        "",
        "",
        "",
        "Input: digits = [1,2,3]",
        "",
        "Output: [1,2,4]",
        "",
        "Explanation: The array represents the integer 123.",
        "",
        "Incrementing by one gives 123 + 1 = 124.",
        "",
        "Thus, the result should be [1,2,4].",
        "",
        "**Example 2:**",
        "",
        "",
        "",
        "Input: digits = [4,3,2,1]",
        "",
        "Output: [4,3,2,2]",
        "",
        "Explanation: The array represents the integer 4321.",
        "",
        "Incrementing by one gives 4321 + 1 = 4322.",
        "",
        "Thus, the result should be [4,3,2,2].",
        "",
        "**Example 3:**",
        "",
        "",
        "",
        "Input: digits = [9]",
        "",
        "Output: [1,0]",
        "",
        "Explanation: The array represents the integer 9.",
        "",
        "Incrementing by one gives 9 + 1 = 10.",
        "",
        "Thus, the result should be [1,0].",
        "",
        " ",
        "",
        "",
        "",
        "**Constraints:**",
        "",
        "",
        "",
        "1 <= digits.length <= 100",
        "",
        "0 <= digits[i] <= 9",
        "",
        "digits does not contain any leading 0's."
      ]
    },
    {
      "cell_type": "markdown",
      "metadata": {},
      "source": [
        "## Solution Explanation\n",
        "This problem asks us to increment a large integer represented as an array of digits by one and return the resulting array.",
        "",
        "The approach is straightforward:",
        "1. Start from the rightmost digit (least significant digit)",
        "2. Add 1 to it",
        "3. If the result is less than 10, we're done - just update that digit and return",
        "4. If the result is 10, set that digit to 0 and carry the 1 to the next digit to the left",
        "5. Repeat steps 3-4 until we either don't have a carry or we've processed all digits",
        "6. If we still have a carry after processing all digits, we need to insert a 1 at the beginning of the array",
        "",
        "This simulates the standard addition process we do by hand, where we work from right to left and carry over when needed."
      ]
    },
    {
      "cell_type": "code",
      "metadata": {},
      "source": [
        "def plusOne(digits):",
        "    n = len(digits)",
        "    ",
        "    # Start from the last digit",
        "    for i in range(n - 1, -1, -1):",
        "        # Increment the current digit",
        "        digits[i] += 1",
        "        ",
        "        # If no carry, we're done",
        "        if digits[i] < 10:",
        "            return digits",
        "        ",
        "        # Otherwise, set to 0 and continue to the next digit (carry the 1)",
        "        digits[i] = 0",
        "    ",
        "    # If we get here, it means we had a carry in the most significant digit",
        "    # So we need to add a new digit 1 at the beginning",
        "    return [1] + digits",
        ""
      ],
      "execution_count": null,
      "outputs": []
    },
    {
      "cell_type": "markdown",
      "metadata": {},
      "source": [
        "## Time and Space Complexity\n",
        "* *Time Complexity**: O(n), where n is the number of digits in the array. In the worst case, we need to iterate through all digits (e.g., when the input is [9,9,9,...]).",
        "* *Space Complexity**: O(1) for the normal case as we modify the input array in-place. However, in the special case where we need to add a new digit (e.g., [9,9,9] \u2192 [1,0,0,0]), the space complexity becomes O(n) because we create a new array with one additional element. This is because Python lists are immutable in size, so adding an element at the beginning requires creating a new list."
      ]
    },
    {
      "cell_type": "markdown",
      "metadata": {},
      "source": [
        "## Test Cases\n"
      ]
    },
    {
      "cell_type": "code",
      "metadata": {},
      "source": [
        "def test_plusOne():",
        "    # Test case 1: Regular increment",
        "    assert plusOne([1, 2, 3]) == [1, 2, 4], \"Failed for [1,2,3]\"",
        "    ",
        "    # Test case 2: Increment with carry",
        "    assert plusOne([4, 3, 2, 1]) == [4, 3, 2, 2], \"Failed for [4,3,2,1]\"",
        "    ",
        "    # Test case 3: Increment with carry propagation",
        "    assert plusOne([9]) == [1, 0], \"Failed for [9]\"",
        "    ",
        "    # Test case 4: Multiple carries",
        "    assert plusOne([9, 9, 9]) == [1, 0, 0, 0], \"Failed for [9,9,9]\"",
        "    ",
        "    # Test case 5: Single digit, no carry",
        "    assert plusOne([5]) == [6], \"Failed for [5]\"",
        "    ",
        "    # Test case 6: Larger number with mixed digits",
        "    assert plusOne([1, 9, 9, 9]) == [2, 0, 0, 0], \"Failed for [1,9,9,9]\"",
        "    ",
        "    # Test case 7: Larger number with no carry",
        "    assert plusOne([2, 3, 4, 5]) == [2, 3, 4, 6], \"Failed for [2,3,4,5]\"",
        "    ",
        "    print(\"All test cases passed!\")",
        "",
        "# Run the tests",
        "test_plusOne()",
        ""
      ],
      "execution_count": null,
      "outputs": []
    }
  ],
  "metadata": {
    "kernelspec": {
      "display_name": "Python 3",
      "language": "python",
      "name": "python3"
    },
    "language_info": {
      "codemirror_mode": {
        "name": "ipython",
        "version": 3
      },
      "file_extension": ".py",
      "mimetype": "text/x-python",
      "name": "python",
      "nbconvert_exporter": "python",
      "pygments_lexer": "ipython3",
      "version": "3.11.9"
    }
  },
  "nbformat": 4,
  "nbformat_minor": 5
}