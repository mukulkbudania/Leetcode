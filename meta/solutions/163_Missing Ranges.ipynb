{
  "cells": [
    {
      "cell_type": "markdown",
      "metadata": {},
      "source": [
        "# 163. Missing Ranges"
      ]
    },
    {
      "cell_type": "markdown",
      "metadata": {},
      "source": [
        "You are given an inclusive range [lower, upper] and a sorted unique integer array nums, where all elements are within the inclusive range.",
        "",
        "",
        "",
        "A number x is considered missing if x is in the range [lower, upper] and x is not in nums.",
        "",
        "",
        "",
        "Return the shortest sorted list of ranges that exactly covers all the missing numbers. That is, no element of nums is included in any of the ranges, and each missing number is covered by one of the ranges.",
        "",
        "",
        "",
        " ",
        "",
        "",
        "",
        " ",
        "",
        "",
        "",
        "**Example 1:**",
        "",
        "",
        "",
        "Input: nums = [0,1,3,50,75], lower = 0, upper = 99",
        "",
        "Output: [[2,2],[4,49],[51,74],[76,99]]",
        "",
        "Explanation: The ranges are:",
        "",
        "[2,2]",
        "",
        "[4,49]",
        "",
        "[51,74]",
        "",
        "[76,99]",
        "",
        "**Example 2:**",
        "",
        "",
        "",
        "Input: nums = [-1], lower = -1, upper = -1",
        "",
        "Output: []",
        "",
        "Explanation: There are no missing ranges since there are no missing numbers.",
        "",
        " ",
        "",
        "",
        "",
        "**Constraints:**",
        "",
        "",
        "",
        "-109 <= lower <= upper <= 109",
        "",
        "0 <= nums.length <= 100",
        "",
        "lower <= nums[i] <= upper",
        "",
        "All the values of nums are unique."
      ]
    },
    {
      "cell_type": "markdown",
      "metadata": {},
      "source": [
        "## Solution Explanation\n",
        "This problem asks us to find the missing ranges in a sorted array within a given range [lower, upper]. The key insight is to iterate through the array and check for gaps between consecutive elements, as well as gaps between the lower bound and the first element, and between the last element and the upper bound.",
        "",
        "The approach is as follows:",
        "1. Handle the edge case where the array is empty - we'd return a single range [lower, upper] if it's non-empty.",
        "2. Check if there's a gap between `lower` and the first element of the array.",
        "3. Iterate through the array and check for gaps between consecutive elements.",
        "4. Check if there's a gap between the last element of the array and `upper`.",
        "5. For each gap found, add the range to our result list.",
        "",
        "A key detail to handle is potential integer overflow when dealing with the constraints (-10^9 to 10^9). We need to be careful with arithmetic operations."
      ]
    },
    {
      "cell_type": "code",
      "metadata": {},
      "source": [
        "def findMissingRanges(nums, lower, upper):",
        "    result = []",
        "    ",
        "    # Handle empty array case",
        "    if not nums:",
        "        if lower <= upper:",
        "            result.append([lower, upper])",
        "        return result",
        "    ",
        "    # Check if there's a gap between lower and the first element",
        "    if lower < nums[0]:",
        "        result.append([lower, nums[0] - 1])",
        "    ",
        "    # Check for gaps between consecutive elements",
        "    for i in range(1, len(nums)):",
        "        if nums[i] > nums[i-1] + 1:",
        "            result.append([nums[i-1] + 1, nums[i] - 1])",
        "    ",
        "    # Check if there's a gap between the last element and upper",
        "    if nums[-1] < upper:",
        "        result.append([nums[-1] + 1, upper])",
        "    ",
        "    return result",
        ""
      ],
      "execution_count": null,
      "outputs": []
    },
    {
      "cell_type": "markdown",
      "metadata": {},
      "source": [
        "## Time and Space Complexity\n",
        "* *Time Complexity**: O(n), where n is the length of the input array `nums`. We iterate through the array once, performing constant-time operations for each element.",
        "* *Space Complexity**: O(k), where k is the number of missing ranges found. In the worst case, if every number in the range [lower, upper] is missing, k could be as large as (upper - lower + 1), but this is bounded by the constraint that the array elements are within the range [lower, upper]."
      ]
    },
    {
      "cell_type": "markdown",
      "metadata": {},
      "source": [
        "## Test Cases\n"
      ]
    },
    {
      "cell_type": "code",
      "metadata": {},
      "source": [
        "def test_findMissingRanges():",
        "    # Test case 1: Example from the problem",
        "    assert findMissingRanges([0, 1, 3, 50, 75], 0, 99) == [[2, 2], [4, 49], [51, 74], [76, 99]]",
        "    ",
        "    # Test case 2: No missing ranges",
        "    assert findMissingRanges([-1], -1, -1) == []",
        "    ",
        "    # Test case 3: Empty array",
        "    assert findMissingRanges([], 1, 10) == [[1, 10]]",
        "    ",
        "    # Test case 4: Single element with gaps on both sides",
        "    assert findMissingRanges([5], 1, 10) == [[1, 4], [6, 10]]",
        "    ",
        "    # Test case 5: No gaps",
        "    assert findMissingRanges([1, 2, 3, 4, 5], 1, 5) == []",
        "    ",
        "    # Test case 6: Large range with few elements",
        "    assert findMissingRanges([10, 1000], 1, 2000) == [[1, 9], [11, 999], [1001, 2000]]",
        "    ",
        "    # Test case 7: Edge case with lower = upper and no elements",
        "    assert findMissingRanges([], 5, 5) == [[5, 5]]",
        "    ",
        "    # Test case 8: Edge case with lower = upper and the element is present",
        "    assert findMissingRanges([5], 5, 5) == []",
        "    ",
        "    print(\"All test cases passed!\")",
        "",
        "# Run the tests",
        "test_findMissingRanges()",
        ""
      ],
      "execution_count": null,
      "outputs": []
    }
  ],
  "metadata": {
    "kernelspec": {
      "display_name": "Python 3",
      "language": "python",
      "name": "python3"
    },
    "language_info": {
      "codemirror_mode": {
        "name": "ipython",
        "version": 3
      },
      "file_extension": ".py",
      "mimetype": "text/x-python",
      "name": "python",
      "nbconvert_exporter": "python",
      "pygments_lexer": "ipython3",
      "version": "3.11.9"
    }
  },
  "nbformat": 4,
  "nbformat_minor": 5
}