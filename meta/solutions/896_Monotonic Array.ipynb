{
  "cells": [
    {
      "cell_type": "markdown",
      "metadata": {},
      "source": [
        "# 896. Monotonic Array"
      ]
    },
    {
      "cell_type": "markdown",
      "metadata": {},
      "source": [
        "An array is monotonic if it is either monotone increasing or monotone decreasing.",
        "",
        "",
        "",
        "An array nums is monotone increasing if for all i <= j, nums[i] <= nums[j]. An array nums is monotone decreasing if for all i <= j, nums[i] >= nums[j].",
        "",
        "",
        "",
        "Given an integer array nums, return true if the given array is monotonic, or false otherwise.",
        "",
        "",
        "",
        " ",
        "",
        "",
        "",
        "**Example 1:**",
        "",
        "",
        "",
        "Input: nums = [1,2,2,3]",
        "",
        "Output: true",
        "",
        "**Example 2:**",
        "",
        "",
        "",
        "Input: nums = [6,5,4,4]",
        "",
        "Output: true",
        "",
        "**Example 3:**",
        "",
        "",
        "",
        "Input: nums = [1,3,2]",
        "",
        "Output: false",
        "",
        " ",
        "",
        "",
        "",
        "**Constraints:**",
        "",
        "",
        "",
        "1 <= nums.length <= 105",
        "",
        "-105 <= nums[i] <= 105"
      ]
    },
    {
      "cell_type": "markdown",
      "metadata": {},
      "source": [
        "## Solution Explanation\n",
        "To determine if an array is monotonic, we need to check if it's either monotonically increasing or monotonically decreasing. ",
        "",
        "A simple approach is to make a single pass through the array and track whether we've seen any increases or decreases:",
        "1. Initialize two boolean flags: `increasing` and `decreasing` as `True`.",
        "2. Iterate through the array from index 1 to the end.",
        "3. For each pair of adjacent elements:",
        "* If the current element is less than the previous, set `increasing` to `False`.",
        "* If the current element is greater than the previous, set `decreasing` to `False`.",
        "4. If either `increasing` or `decreasing` remains `True` after the iteration, the array is monotonic.",
        "",
        "This approach is efficient as it requires only a single pass through the array."
      ]
    },
    {
      "cell_type": "code",
      "metadata": {},
      "source": [
        "def isMonotonic(nums):",
        "    \"\"\"",
        "    Determine if the given array is monotonic.",
        "    ",
        "    Args:",
        "        nums: List[int] - The input array",
        "        ",
        "    Returns:",
        "        bool - True if the array is monotonic, False otherwise",
        "    \"\"\"",
        "    if len(nums) <= 2:",
        "        return True",
        "        ",
        "    increasing = True",
        "    decreasing = True",
        "    ",
        "    for i in range(1, len(nums)):",
        "        if nums[i] < nums[i-1]:",
        "            increasing = False",
        "        if nums[i] > nums[i-1]:",
        "            decreasing = False",
        "        ",
        "        # Early termination if both flags are False",
        "        if not increasing and not decreasing:",
        "            return False",
        "            ",
        "    return increasing or decreasing",
        ""
      ],
      "execution_count": null,
      "outputs": []
    },
    {
      "cell_type": "markdown",
      "metadata": {},
      "source": [
        "## Time and Space Complexity\n",
        "* *Time Complexity**: O(n), where n is the length of the input array. We make a single pass through the array, performing constant-time operations for each element.",
        "* *Space Complexity**: O(1), as we only use a constant amount of extra space regardless of the input size. We just need two boolean variables to track whether the array is increasing or decreasing."
      ]
    },
    {
      "cell_type": "markdown",
      "metadata": {},
      "source": [
        "## Test Cases\n"
      ]
    },
    {
      "cell_type": "code",
      "metadata": {},
      "source": [
        "def test_isMonotonic():",
        "    # Test case 1: Monotonically increasing array",
        "    assert isMonotonic([1, 2, 2, 3]) == True",
        "    ",
        "    # Test case 2: Monotonically decreasing array",
        "    assert isMonotonic([6, 5, 4, 4]) == True",
        "    ",
        "    # Test case 3: Non-monotonic array",
        "    assert isMonotonic([1, 3, 2]) == False",
        "    ",
        "    # Test case 4: Single element array (always monotonic)",
        "    assert isMonotonic([5]) == True",
        "    ",
        "    # Test case 5: Two element array (always monotonic)",
        "    assert isMonotonic([1, 2]) == True",
        "    assert isMonotonic([2, 1]) == True",
        "    assert isMonotonic([1, 1]) == True",
        "    ",
        "    # Test case 6: Array with all equal elements (both increasing and decreasing)",
        "    assert isMonotonic([7, 7, 7, 7]) == True",
        "    ",
        "    # Test case 7: Larger monotonically increasing array",
        "    assert isMonotonic([1, 2, 3, 4, 5, 6, 7, 8, 9, 10]) == True",
        "    ",
        "    # Test case 8: Larger monotonically decreasing array",
        "    assert isMonotonic([10, 9, 8, 7, 6, 5, 4, 3, 2, 1]) == True",
        "    ",
        "    # Test case 9: Array with negative numbers",
        "    assert isMonotonic([-5, -4, -3, -2, -1]) == True",
        "    assert isMonotonic([-1, -2, -3, -4, -5]) == True",
        "    assert isMonotonic([-1, -3, -2]) == False",
        "    ",
        "    print(\"All test cases passed!\")",
        "",
        "test_isMonotonic()",
        ""
      ],
      "execution_count": null,
      "outputs": []
    }
  ],
  "metadata": {
    "kernelspec": {
      "display_name": "Python 3",
      "language": "python",
      "name": "python3"
    },
    "language_info": {
      "codemirror_mode": {
        "name": "ipython",
        "version": 3
      },
      "file_extension": ".py",
      "mimetype": "text/x-python",
      "name": "python",
      "nbconvert_exporter": "python",
      "pygments_lexer": "ipython3",
      "version": "3.11.9"
    }
  },
  "nbformat": 4,
  "nbformat_minor": 5
}