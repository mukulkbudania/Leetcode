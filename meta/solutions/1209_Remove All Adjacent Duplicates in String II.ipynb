{
  "cells": [
    {
      "cell_type": "markdown",
      "metadata": {},
      "source": [
        "# 1209. Remove All Adjacent Duplicates in String II"
      ]
    },
    {
      "cell_type": "markdown",
      "metadata": {},
      "source": [
        "You are given a string s and an integer k, a k duplicate removal consists of choosing k adjacent and equal letters from s and removing them, causing the left and the right side of the deleted substring to concatenate together.",
        "",
        "",
        "",
        "We repeatedly make k duplicate removals on s until we no longer can.",
        "",
        "",
        "",
        "Return the final string after all such duplicate removals have been made. It is guaranteed that the answer is unique.",
        "",
        "",
        "",
        " ",
        "",
        "",
        "",
        "**Example 1:**",
        "",
        "",
        "",
        "Input: s = \"abcd\", k = 2",
        "",
        "Output: \"abcd\"",
        "",
        "Explanation: There's nothing to delete.",
        "",
        "**Example 2:**",
        "",
        "",
        "",
        "Input: s = \"deeedbbcccbdaa\", k = 3",
        "",
        "Output: \"aa\"",
        "",
        "Explanation: ",
        "",
        "First delete \"eee\" and \"ccc\", get \"ddbbbdaa\"",
        "",
        "Then delete \"bbb\", get \"dddaa\"",
        "",
        "Finally delete \"ddd\", get \"aa\"",
        "",
        "**Example 3:**",
        "",
        "",
        "",
        "Input: s = \"pbbcggttciiippooaais\", k = 2",
        "",
        "Output: \"ps\"",
        "",
        " ",
        "",
        "",
        "",
        "**Constraints:**",
        "",
        "",
        "",
        "1 <= s.length <= 105",
        "",
        "2 <= k <= 104",
        "",
        "s only contains lowercase English letters."
      ]
    },
    {
      "cell_type": "markdown",
      "metadata": {},
      "source": [
        "## Solution Explanation\n",
        "This problem requires us to repeatedly remove k adjacent and equal characters from a string until no more removals are possible. A key insight is that after removing a group of k characters, we need to check if the removal creates a new group of k adjacent and equal characters.",
        "",
        "The most efficient approach is to use a stack to keep track of characters and their counts. As we iterate through the string:",
        "1. If the current character is the same as the top of the stack, we increment its count.",
        "2. If the current character is different, we push it onto the stack with a count of 1.",
        "3. If the count of the current character reaches k, we pop it from the stack.",
        "",
        "This way, we can efficiently track adjacent characters and remove them when they reach the required count."
      ]
    },
    {
      "cell_type": "code",
      "metadata": {},
      "source": [
        "def removeDuplicates(s: str, k: int) -> str:",
        "    # Stack to store [character, count] pairs",
        "    stack = []",
        "    ",
        "    # Iterate through each character in the string",
        "    for char in s:",
        "        # If stack is not empty and current character matches the top character",
        "        if stack and stack[-1][0] == char:",
        "            # Increment the count",
        "            stack[-1][1] += 1",
        "            # If count reaches k, remove the group",
        "            if stack[-1][1] == k:",
        "                stack.pop()",
        "        else:",
        "            # Push new character with count 1",
        "            stack.append([char, 1])",
        "    ",
        "    # Reconstruct the final string from the stack",
        "    result = \"\"",
        "    for char, count in stack:",
        "        result += char * count",
        "    ",
        "    return result",
        ""
      ],
      "execution_count": null,
      "outputs": []
    },
    {
      "cell_type": "markdown",
      "metadata": {},
      "source": [
        "## Time and Space Complexity\n",
        "* *Time Complexity**: O(n), where n is the length of the input string. We iterate through each character in the string once, and each character is pushed and popped from the stack at most once.",
        "* *Space Complexity**: O(n) in the worst case, where we need to store most or all of the characters in the stack. For example, if k is large or if there are no k adjacent equal characters, we would store the entire string."
      ]
    },
    {
      "cell_type": "markdown",
      "metadata": {},
      "source": [
        "## Test Cases\n"
      ]
    },
    {
      "cell_type": "code",
      "metadata": {},
      "source": [
        "def test_removeDuplicates():",
        "    # Test case 1: No duplicates to remove",
        "    assert removeDuplicates(\"abcd\", 2) == \"abcd\"",
        "    ",
        "    # Test case 2: Multiple removals needed",
        "    assert removeDuplicates(\"deeedbbcccbdaa\", 3) == \"aa\"",
        "    ",
        "    # Test case 3: Another example with multiple removals",
        "    assert removeDuplicates(\"pbbcggttciiippooaais\", 2) == \"ps\"",
        "    ",
        "    # Test case 4: Empty string",
        "    assert removeDuplicates(\"\", 2) == \"\"",
        "    ",
        "    # Test case 5: Single character",
        "    assert removeDuplicates(\"a\", 2) == \"a\"",
        "    ",
        "    # Test case 6: Exactly k duplicates",
        "    assert removeDuplicates(\"aaa\", 3) == \"\"",
        "    ",
        "    # Test case 7: More than k duplicates",
        "    assert removeDuplicates(\"aaaa\", 3) == \"a\"",
        "    ",
        "    # Test case 8: Nested removals",
        "    assert removeDuplicates(\"abbbaaca\", 3) == \"ca\"",
        "    ",
        "    print(\"All test cases passed!\")",
        "",
        "# Run the tests",
        "test_removeDuplicates()",
        ""
      ],
      "execution_count": null,
      "outputs": []
    }
  ],
  "metadata": {
    "kernelspec": {
      "display_name": "Python 3",
      "language": "python",
      "name": "python3"
    },
    "language_info": {
      "codemirror_mode": {
        "name": "ipython",
        "version": 3
      },
      "file_extension": ".py",
      "mimetype": "text/x-python",
      "name": "python",
      "nbconvert_exporter": "python",
      "pygments_lexer": "ipython3",
      "version": "3.11.9"
    }
  },
  "nbformat": 4,
  "nbformat_minor": 5
}