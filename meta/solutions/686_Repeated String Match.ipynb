{
  "cells": [
    {
      "cell_type": "markdown",
      "metadata": {},
      "source": [
        "# 686. Repeated String Match"
      ]
    },
    {
      "cell_type": "markdown",
      "metadata": {},
      "source": [
        "Given two strings a and b, return the minimum number of times you should repeat string a so that string b is a substring of it. If it is impossible for b\u200b\u200b\u200b\u200b\u200b\u200b to be a substring of a after repeating it, return -1.",
        "",
        "",
        "",
        "Notice: string \"abc\" repeated 0 times is \"\", repeated 1 time is \"abc\" and repeated 2 times is \"abcabc\".",
        "",
        "",
        "",
        " ",
        "",
        "",
        "",
        "**Example 1:**",
        "",
        "",
        "",
        "Input: a = \"abcd\", b = \"cdabcdab\"",
        "",
        "Output: 3",
        "",
        "Explanation: We return 3 because by repeating a three times \"abcdabcdabcd\", b is a substring of it.",
        "",
        "**Example 2:**",
        "",
        "",
        "",
        "Input: a = \"a\", b = \"aa\"",
        "",
        "Output: 2",
        "",
        " ",
        "",
        "",
        "",
        "**Constraints:**",
        "",
        "",
        "",
        "1 <= a.length, b.length <= 104",
        "",
        "a and b consist of lowercase English letters."
      ]
    },
    {
      "cell_type": "markdown",
      "metadata": {},
      "source": [
        "## Solution Explanation\n",
        "To solve this problem, we need to find the minimum number of times to repeat string `a` so that string `b` becomes a substring of the repeated string.",
        "",
        "The approach is as follows:",
        "1. If `b` is an empty string, we can return 0 since an empty string is a substring of any string.",
        "2. If `a` is an empty string, it's impossible for `b` to be a substring, so return -1.",
        "3. We'll create a repeated version of `a` by concatenating it multiple times.",
        "4. We need to ensure the repeated string is long enough to potentially contain `b`.",
        "5. The maximum length needed would be `len(a) + len(b) - 1`, which ensures we have enough characters to check if `b` can be a substring.",
        "6. After creating this repeated string, we check if `b` is a substring.",
        "7. If it is, we calculate how many repetitions of `a` are needed.",
        "8. If not, we return -1.",
        "",
        "The key insight is that we don't need to create an infinitely long string. If `b` can be a substring of repeated `a`, it must appear within the first `len(a) + len(b) - 1` characters of the repeated string."
      ]
    },
    {
      "cell_type": "code",
      "metadata": {},
      "source": [
        "def repeatedStringMatch(a: str, b: str) -> int:",
        "    # Edge cases",
        "    if not b:",
        "        return 0",
        "    if not a:",
        "        return -1",
        "    ",
        "    # Calculate the minimum number of repetitions needed",
        "    # to make the repeated string at least as long as b",
        "    min_repetitions = (len(b) + len(a) - 1) // len(a)",
        "    ",
        "    # Create the repeated string with min_repetitions",
        "    repeated_a = a * min_repetitions",
        "    ",
        "    # Check if b is a substring of repeated_a",
        "    if b in repeated_a:",
        "        return min_repetitions",
        "    ",
        "    # Try one more repetition",
        "    repeated_a += a",
        "    if b in repeated_a:",
        "        return min_repetitions + 1",
        "    ",
        "    # If b is still not a substring, it's impossible",
        "    return -1",
        ""
      ],
      "execution_count": null,
      "outputs": []
    },
    {
      "cell_type": "markdown",
      "metadata": {},
      "source": [
        "## Time and Space Complexity\n",
        "* *Time Complexity**: ",
        "* Creating the repeated string takes O(N) time where N is the length of the repeated string, which is O(len(a) * min_repetitions).",
        "* The substring check (`b in repeated_a`) takes O(N * M) time in the worst case, where N is the length of the repeated string and M is the length of `b`.",
        "* Overall, the time complexity is O((len(a) + len(b)) * len(b)).",
        "* *Space Complexity**: ",
        "* We create a new string of length O(len(a) * min_repetitions), which is approximately O(len(a) + len(b)).",
        "* Therefore, the space complexity is O(len(a) + len(b))."
      ]
    },
    {
      "cell_type": "markdown",
      "metadata": {},
      "source": [
        "## Test Cases\n"
      ]
    },
    {
      "cell_type": "code",
      "metadata": {},
      "source": [
        "def test_repeatedStringMatch():",
        "    # Test case 1: Example from the problem",
        "    assert repeatedStringMatch(\"abcd\", \"cdabcdab\") == 3",
        "    ",
        "    # Test case 2: Another example from the problem",
        "    assert repeatedStringMatch(\"a\", \"aa\") == 2",
        "    ",
        "    # Test case 3: b is already a substring of a",
        "    assert repeatedStringMatch(\"abc\", \"bc\") == 1",
        "    ",
        "    # Test case 4: b is not possible as a substring",
        "    assert repeatedStringMatch(\"abc\", \"def\") == -1",
        "    ",
        "    # Test case 5: Empty string b",
        "    assert repeatedStringMatch(\"abc\", \"\") == 0",
        "    ",
        "    # Test case 6: Empty string a",
        "    assert repeatedStringMatch(\"\", \"abc\") == -1",
        "    ",
        "    # Test case 7: b spans across multiple repetitions",
        "    assert repeatedStringMatch(\"abc\", \"cabca\") == 2",
        "    ",
        "    # Test case 8: a and b are the same",
        "    assert repeatedStringMatch(\"abc\", \"abc\") == 1",
        "    ",
        "    # Test case 9: b is longer than a but can be a substring",
        "    assert repeatedStringMatch(\"a\", \"aaaaa\") == 5",
        "    ",
        "    print(\"All test cases passed!\")",
        "",
        "# Run the tests",
        "test_repeatedStringMatch()",
        ""
      ],
      "execution_count": null,
      "outputs": []
    }
  ],
  "metadata": {
    "kernelspec": {
      "display_name": "Python 3",
      "language": "python",
      "name": "python3"
    },
    "language_info": {
      "codemirror_mode": {
        "name": "ipython",
        "version": 3
      },
      "file_extension": ".py",
      "mimetype": "text/x-python",
      "name": "python",
      "nbconvert_exporter": "python",
      "pygments_lexer": "ipython3",
      "version": "3.11.9"
    }
  },
  "nbformat": 4,
  "nbformat_minor": 5
}