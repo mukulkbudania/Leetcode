{
  "cells": [
    {
      "cell_type": "markdown",
      "metadata": {},
      "source": [
        "# 347. Top K Frequent Elements"
      ]
    },
    {
      "cell_type": "markdown",
      "metadata": {},
      "source": [
        "Given an integer array nums and an integer k, return the k most frequent elements. You may return the answer in any order.",
        "",
        "",
        "",
        " ",
        "",
        "",
        "",
        "**Example 1:**",
        "",
        "",
        "",
        "Input: nums = [1,1,1,2,2,3], k = 2",
        "",
        "Output: [1,2]",
        "",
        "**Example 2:**",
        "",
        "",
        "",
        "Input: nums = [1], k = 1",
        "",
        "Output: [1]",
        "",
        " ",
        "",
        "",
        "",
        "**Constraints:**",
        "",
        "",
        "",
        "1 <= nums.length <= 105",
        "",
        "-104 <= nums[i] <= 104",
        "",
        "k is in the range [1, the number of unique elements in the array].",
        "",
        "It is guaranteed that the answer is unique.",
        "",
        " ",
        "",
        "",
        "",
        "Follow up: Your algorithm's time complexity must be better than O(n log n), where n is the array's size."
      ]
    },
    {
      "cell_type": "markdown",
      "metadata": {},
      "source": [
        "## Solution Explanation\n",
        "To find the k most frequent elements in an array, we need to:",
        "",
        "1. Count the frequency of each element in the array",
        "2. Sort the elements by their frequency",
        "3. Return the k elements with the highest frequency",
        "",
        "For optimal time complexity (better than O(n log n)), we can use a combination of:",
        "* A hash map to count frequencies in O(n) time",
        "* A bucket sort approach to avoid the O(n log n) sorting time",
        "",
        "The bucket sort approach works as follows:",
        "1. Create a list of buckets where the index represents frequency",
        "2. Place numbers in the appropriate bucket based on their frequency",
        "3. Iterate through the buckets from highest to lowest frequency to get the top k elements",
        "",
        "This approach gives us O(n) time complexity, which is better than O(n log n)."
      ]
    },
    {
      "cell_type": "code",
      "metadata": {},
      "source": [
        "def topKFrequent(nums, k):",
        "    # Count the frequency of each element",
        "    count = {}",
        "    for num in nums:",
        "        count[num] = count.get(num, 0) + 1",
        "    ",
        "    # Create buckets where index represents frequency",
        "    # The maximum frequency can be at most the length of the array",
        "    freq_buckets = [[] for _ in range(len(nums) + 1)]",
        "    ",
        "    # Place numbers in buckets based on their frequency",
        "    for num, freq in count.items():",
        "        freq_buckets[freq].append(num)",
        "    ",
        "    # Collect the k most frequent elements",
        "    result = []",
        "    for i in range(len(freq_buckets) - 1, 0, -1):",
        "        result.extend(freq_buckets[i])",
        "        if len(result) >= k:",
        "            return result[:k]",
        "    ",
        "    return result  # This line should not be reached if k is valid",
        ""
      ],
      "execution_count": null,
      "outputs": []
    },
    {
      "cell_type": "markdown",
      "metadata": {},
      "source": [
        "## Time and Space Complexity\n",
        "* *Time Complexity**: O(n)",
        "* Counting frequencies takes O(n) time where n is the length of the input array",
        "* Creating the frequency buckets takes O(n) time",
        "* Collecting the k most frequent elements takes O(n) time in the worst case",
        "* Overall, the algorithm runs in O(n) time, which is better than O(n log n)",
        "* *Space Complexity**: O(n)",
        "* The frequency counter dictionary requires O(n) space in the worst case where all elements are unique",
        "* The frequency buckets require O(n) space",
        "* The result array requires O(k) space",
        "* Overall, the space complexity is O(n)"
      ]
    },
    {
      "cell_type": "markdown",
      "metadata": {},
      "source": [
        "## Test Cases\n"
      ]
    },
    {
      "cell_type": "code",
      "metadata": {},
      "source": [
        "def test_topKFrequent():",
        "    # Test case 1: Regular case with duplicates",
        "    assert sorted(topKFrequent([1, 1, 1, 2, 2, 3], 2)) == sorted([1, 2])",
        "    ",
        "    # Test case 2: Single element",
        "    assert topKFrequent([1], 1) == [1]",
        "    ",
        "    # Test case 3: All elements have the same frequency",
        "    assert sorted(topKFrequent([1, 2, 3], 3)) == sorted([1, 2, 3])",
        "    ",
        "    # Test case 4: Negative numbers",
        "    assert sorted(topKFrequent([-1, -1, -2, -2, -3], 2)) == sorted([-1, -2])",
        "    ",
        "    # Test case 5: k equals the number of unique elements",
        "    assert sorted(topKFrequent([5, 3, 1, 1, 1, 3, 5, 73, 1], 3)) == sorted([1, 3, 5])",
        "    ",
        "    # Test case 6: Larger numbers",
        "    assert sorted(topKFrequent([1000, 1000, 2000, 2000, 2000, 3000], 2)) == sorted([2000, 1000])",
        "    ",
        "    print(\"All test cases passed!\")",
        "",
        "# Run the tests",
        "test_topKFrequent()",
        ""
      ],
      "execution_count": null,
      "outputs": []
    }
  ],
  "metadata": {
    "kernelspec": {
      "display_name": "Python 3",
      "language": "python",
      "name": "python3"
    },
    "language_info": {
      "codemirror_mode": {
        "name": "ipython",
        "version": 3
      },
      "file_extension": ".py",
      "mimetype": "text/x-python",
      "name": "python",
      "nbconvert_exporter": "python",
      "pygments_lexer": "ipython3",
      "version": "3.11.9"
    }
  },
  "nbformat": 4,
  "nbformat_minor": 5
}