{
  "cells": [
    {
      "cell_type": "markdown",
      "metadata": {},
      "source": [
        "# 1004. Max Consecutive Ones III"
      ]
    },
    {
      "cell_type": "markdown",
      "metadata": {},
      "source": [
        "Given a binary array nums and an integer k, return the maximum number of consecutive 1's in the array if you can flip at most k 0's.",
        "",
        "",
        "",
        " ",
        "",
        "",
        "",
        "**Example 1:**",
        "",
        "",
        "",
        "Input: nums = [1,1,1,0,0,0,1,1,1,1,0], k = 2",
        "",
        "Output: 6",
        "",
        "Explanation: [1,1,1,0,0,1,1,1,1,1,1]",
        "",
        "Bolded numbers were flipped from 0 to 1. The longest subarray is underlined.",
        "",
        "**Example 2:**",
        "",
        "",
        "",
        "Input: nums = [0,0,1,1,0,0,1,1,1,0,1,1,0,0,0,1,1,1,1], k = 3",
        "",
        "Output: 10",
        "",
        "Explanation: [0,0,1,1,1,1,1,1,1,1,1,1,0,0,0,1,1,1,1]",
        "",
        "Bolded numbers were flipped from 0 to 1. The longest subarray is underlined.",
        "",
        " ",
        "",
        "",
        "",
        "**Constraints:**",
        "",
        "",
        "",
        "1 <= nums.length <= 105",
        "",
        "nums[i] is either 0 or 1.",
        "",
        "0 <= k <= nums.length"
      ]
    },
    {
      "cell_type": "markdown",
      "metadata": {},
      "source": [
        "## Solution Explanation\n",
        "This problem asks us to find the maximum number of consecutive 1's in the array if we can flip at most k 0's to 1's.",
        "",
        "The key insight is to use the sliding window technique:",
        "1. Maintain a window (left and right pointers) that represents a subarray.",
        "2. Expand the window to the right as much as possible.",
        "3. If the number of 0's in the window exceeds k, shrink the window from the left.",
        "4. Keep track of the maximum window size seen so far.",
        "",
        "The window will always contain at most k zeros. As we move the right pointer, we count the number of zeros encountered. When this count exceeds k, we move the left pointer until we have at most k zeros in the window again.",
        "",
        "The length of the window at any point represents the number of consecutive 1's we can achieve by flipping at most k 0's within that window."
      ]
    },
    {
      "cell_type": "code",
      "metadata": {},
      "source": [
        "def longestOnes(nums, k):",
        "    left = 0",
        "    zeros_count = 0",
        "    max_length = 0",
        "    ",
        "    for right in range(len(nums)):",
        "        # If we encounter a 0, increment the zeros count",
        "        if nums[right] == 0:",
        "            zeros_count += 1",
        "        ",
        "        # If we have more than k zeros, shrink the window from the left",
        "        while zeros_count > k:",
        "            if nums[left] == 0:",
        "                zeros_count -= 1",
        "            left += 1",
        "        ",
        "        # Update the maximum length",
        "        max_length = max(max_length, right - left + 1)",
        "    ",
        "    return max_length",
        ""
      ],
      "execution_count": null,
      "outputs": []
    },
    {
      "cell_type": "markdown",
      "metadata": {},
      "source": [
        "## Time and Space Complexity\n",
        "* *Time Complexity**: O(n), where n is the length of the input array. We process each element at most twice (once when it enters the window and once when it leaves).",
        "* *Space Complexity**: O(1), as we only use a constant amount of extra space regardless of the input size. We maintain a few variables (left, zeros_count, max_length) that don't scale with the input size."
      ]
    },
    {
      "cell_type": "markdown",
      "metadata": {},
      "source": [
        "## Test Cases\n"
      ]
    },
    {
      "cell_type": "code",
      "metadata": {},
      "source": [
        "def test_longestOnes():",
        "    # Test case 1: Example 1 from the problem",
        "    assert longestOnes([1,1,1,0,0,0,1,1,1,1,0], 2) == 6",
        "    ",
        "    # Test case 2: Example 2 from the problem",
        "    assert longestOnes([0,0,1,1,0,0,1,1,1,0,1,1,0,0,0,1,1,1,1], 3) == 10",
        "    ",
        "    # Test case 3: All 1's",
        "    assert longestOnes([1,1,1,1,1], 0) == 5",
        "    ",
        "    # Test case 4: All 0's with k = 0",
        "    assert longestOnes([0,0,0,0,0], 0) == 0",
        "    ",
        "    # Test case 5: All 0's with k = 3",
        "    assert longestOnes([0,0,0,0,0], 3) == 3",
        "    ",
        "    # Test case 6: k is equal to the number of 0's",
        "    assert longestOnes([0,1,0,1,0], 3) == 5",
        "    ",
        "    # Test case 7: k is greater than the number of 0's",
        "    assert longestOnes([0,1,0,1,0], 10) == 5",
        "    ",
        "    # Test case 8: Single element array",
        "    assert longestOnes([0], 0) == 0",
        "    assert longestOnes([0], 1) == 1",
        "    assert longestOnes([1], 0) == 1",
        "    ",
        "    print(\"All test cases passed!\")",
        "",
        "test_longestOnes()",
        ""
      ],
      "execution_count": null,
      "outputs": []
    }
  ],
  "metadata": {
    "kernelspec": {
      "display_name": "Python 3",
      "language": "python",
      "name": "python3"
    },
    "language_info": {
      "codemirror_mode": {
        "name": "ipython",
        "version": 3
      },
      "file_extension": ".py",
      "mimetype": "text/x-python",
      "name": "python",
      "nbconvert_exporter": "python",
      "pygments_lexer": "ipython3",
      "version": "3.11.9"
    }
  },
  "nbformat": 4,
  "nbformat_minor": 5
}