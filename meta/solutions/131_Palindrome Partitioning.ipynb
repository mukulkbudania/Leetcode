{
  "cells": [
    {
      "cell_type": "markdown",
      "metadata": {},
      "source": [
        "# 131. Palindrome Partitioning"
      ]
    },
    {
      "cell_type": "markdown",
      "metadata": {},
      "source": [
        "Given a string s, partition s such that every substring of the partition is a palindrome. Return all possible palindrome partitioning of s.",
        "",
        "",
        "",
        " ",
        "",
        "",
        "",
        "**Example 1:**",
        "",
        "",
        "",
        "Input: s = \"aab\"",
        "",
        "Output: [[\"a\",\"a\",\"b\"],[\"aa\",\"b\"]]",
        "",
        "**Example 2:**",
        "",
        "",
        "",
        "Input: s = \"a\"",
        "",
        "Output: [[\"a\"]]",
        "",
        " ",
        "",
        "",
        "",
        "**Constraints:**",
        "",
        "",
        "",
        "1 <= s.length <= 16",
        "",
        "s contains only lowercase English letters."
      ]
    },
    {
      "cell_type": "markdown",
      "metadata": {},
      "source": [
        "## Solution Explanation\n",
        "This problem asks us to find all possible ways to partition a string such that each substring in the partition is a palindrome.",
        "",
        "The key approach is to use backtracking with recursion:",
        "",
        "1. Start from the beginning of the string.",
        "2. For each position, try all possible substrings starting from that position.",
        "3. If the substring is a palindrome, add it to our current partition and recursively solve for the remaining string.",
        "4. When we reach the end of the string, we've found a valid partition.",
        "",
        "To optimize, we can use dynamic programming to precompute whether each substring is a palindrome. This avoids repeatedly checking the same substrings.",
        "",
        "The algorithm steps:",
        "1. Create a 2D DP table to store whether s[i:j+1] is a palindrome.",
        "2. Fill this table using the palindrome property: a string is a palindrome if its first and last characters match and the substring between them is also a palindrome.",
        "3. Use backtracking to generate all valid partitions."
      ]
    },
    {
      "cell_type": "code",
      "metadata": {},
      "source": [
        "def partition(s: str) -> list[list[str]]:",
        "    n = len(s)",
        "    # dp[i][j] indicates whether substring s[i:j+1] is palindrome",
        "    dp = [[False] * n for _ in range(n)]",
        "    ",
        "    # All single characters are palindromes",
        "    for i in range(n):",
        "        dp[i][i] = True",
        "    ",
        "    # Check for palindromes of length 2 and more",
        "    for length in range(2, n + 1):",
        "        for i in range(n - length + 1):",
        "            j = i + length - 1",
        "            if length == 2:",
        "                dp[i][j] = (s[i] == s[j])",
        "            else:",
        "                dp[i][j] = (s[i] == s[j]) and dp[i+1][j-1]",
        "    ",
        "    result = []",
        "    current_partition = []",
        "    ",
        "    def backtrack(start):",
        "        if start >= n:",
        "            result.append(current_partition[:])",
        "            return",
        "        ",
        "        for end in range(start, n):",
        "            if dp[start][end]:",
        "                current_partition.append(s[start:end+1])",
        "                backtrack(end + 1)",
        "                current_partition.pop()",
        "    ",
        "    backtrack(0)",
        "    return result",
        ""
      ],
      "execution_count": null,
      "outputs": []
    },
    {
      "cell_type": "markdown",
      "metadata": {},
      "source": [
        "## Time and Space Complexity\n",
        "* *Time Complexity**: O(N * 2^N)",
        "* Building the DP table takes O(N\u00b2) time, where N is the length of the string.",
        "* In the worst case, we can have 2^(N-1) different ways to partition the string (e.g., for a string of all identical characters).",
        "* For each partition, we need O(N) time to create a copy of the current partition.",
        "* Therefore, the overall time complexity is dominated by the backtracking part, which is O(N * 2^N).",
        "* *Space Complexity**: O(N\u00b2)",
        "* The DP table requires O(N\u00b2) space.",
        "* The recursion stack can go up to O(N) in the worst case.",
        "* The space needed to store all partitions is part of the output, so it's not counted in the space complexity analysis.",
        "* Therefore, the overall space complexity is O(N\u00b2)."
      ]
    },
    {
      "cell_type": "markdown",
      "metadata": {},
      "source": [
        "## Test Cases\n"
      ]
    },
    {
      "cell_type": "code",
      "metadata": {},
      "source": [
        "def test_partition():",
        "    # Test case 1: Basic example",
        "    assert sorted(partition(\"aab\")) == sorted([[\"a\", \"a\", \"b\"], [\"aa\", \"b\"]])",
        "    ",
        "    # Test case 2: Single character",
        "    assert partition(\"a\") == [[\"a\"]]",
        "    ",
        "    # Test case 3: All characters are the same",
        "    assert sorted(partition(\"aaa\")) == sorted([[\"a\", \"a\", \"a\"], [\"a\", \"aa\"], [\"aa\", \"a\"], [\"aaa\"]])",
        "    ",
        "    # Test case 4: No palindromes longer than 1 character",
        "    assert partition(\"abc\") == [[\"a\", \"b\", \"c\"]]",
        "    ",
        "    # Test case 5: Multiple palindromes",
        "    assert sorted(partition(\"racecar\")) == sorted([[\"racecar\"], [\"r\", \"a\", \"c\", \"e\", \"c\", \"a\", \"r\"], ",
        "                                                 [\"r\", \"a\", \"c\", \"ece\", \"a\", \"r\"], [\"r\", \"aceca\", \"r\"]])",
        "    ",
        "    print(\"All test cases passed!\")",
        "",
        "# Run the tests",
        "test_partition()",
        ""
      ],
      "execution_count": null,
      "outputs": []
    }
  ],
  "metadata": {
    "kernelspec": {
      "display_name": "Python 3",
      "language": "python",
      "name": "python3"
    },
    "language_info": {
      "codemirror_mode": {
        "name": "ipython",
        "version": 3
      },
      "file_extension": ".py",
      "mimetype": "text/x-python",
      "name": "python",
      "nbconvert_exporter": "python",
      "pygments_lexer": "ipython3",
      "version": "3.11.9"
    }
  },
  "nbformat": 4,
  "nbformat_minor": 5
}