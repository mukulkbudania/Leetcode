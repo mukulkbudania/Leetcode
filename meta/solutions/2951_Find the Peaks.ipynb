{
  "cells": [
    {
      "cell_type": "markdown",
      "metadata": {},
      "source": [
        "# 2951. Find the Peaks"
      ]
    },
    {
      "cell_type": "markdown",
      "metadata": {},
      "source": [
        "You are given a 0-indexed array mountain. Your task is to find all the peaks in the mountain array.",
        "",
        "",
        "",
        "Return an array that consists of indices of peaks in the given array in any order.",
        "",
        "",
        "",
        "Notes:",
        "",
        "",
        "",
        "A peak is defined as an element that is strictly greater than its neighboring elements.",
        "",
        "The first and last elements of the array are not a peak.",
        "",
        " ",
        "",
        "",
        "",
        "**Example 1:**",
        "",
        "",
        "",
        "Input: mountain = [2,4,4]",
        "",
        "Output: []",
        "",
        "Explanation: mountain[0] and mountain[2] can not be a peak because they are first and last elements of the array.",
        "",
        "mountain[1] also can not be a peak because it is not strictly greater than mountain[2].",
        "",
        "So the answer is [].",
        "",
        "**Example 2:**",
        "",
        "",
        "",
        "Input: mountain = [1,4,3,8,5]",
        "",
        "Output: [1,3]",
        "",
        "Explanation: mountain[0] and mountain[4] can not be a peak because they are first and last elements of the array.",
        "",
        "mountain[2] also can not be a peak because it is not strictly greater than mountain[3] and mountain[1].",
        "",
        "But mountain [1] and mountain[3] are strictly greater than their neighboring elements.",
        "",
        "So the answer is [1,3].",
        "",
        " ",
        "",
        "",
        "",
        "**Constraints:**",
        "",
        "",
        "",
        "3 <= mountain.length <= 100",
        "",
        "1 <= mountain[i] <= 100",
        "",
        ""
      ]
    },
    {
      "cell_type": "markdown",
      "metadata": {},
      "source": [
        "## Solution Explanation\n",
        "To solve this problem, we need to find all the peaks in the given mountain array. A peak is defined as an element that is strictly greater than its neighboring elements. Additionally, the first and last elements of the array cannot be peaks.",
        "",
        "The approach is straightforward:",
        "1. Iterate through the array starting from index 1 and ending at index n-2 (since the first and last elements cannot be peaks).",
        "2. For each element at index i, check if it's strictly greater than both its neighbors (mountain[i-1] and mountain[i+1]).",
        "3. If the condition is met, add the index i to our result list.",
        "",
        "This approach ensures we only consider valid indices (not the first or last) and only include elements that are strictly greater than both neighbors."
      ]
    },
    {
      "cell_type": "code",
      "metadata": {},
      "source": [
        "def findPeaks(mountain):",
        "    \"\"\"",
        "    Find all peaks in the mountain array.",
        "    ",
        "    Args:",
        "        mountain: List[int] - The mountain array",
        "        ",
        "    Returns:",
        "        List[int] - Indices of peaks in the array",
        "    \"\"\"",
        "    n = len(mountain)",
        "    peaks = []",
        "    ",
        "    # Iterate from index 1 to n-2 (excluding first and last elements)",
        "    for i in range(1, n-1):",
        "        # Check if current element is strictly greater than both neighbors",
        "        if mountain[i] > mountain[i-1] and mountain[i] > mountain[i+1]:",
        "            peaks.append(i)",
        "    ",
        "    return peaks",
        ""
      ],
      "execution_count": null,
      "outputs": []
    },
    {
      "cell_type": "markdown",
      "metadata": {},
      "source": [
        "## Time and Space Complexity\n",
        "* *Time Complexity**: O(n), where n is the length of the mountain array. We iterate through the array once, performing constant-time operations for each element.",
        "* *Space Complexity**: O(k), where k is the number of peaks found. In the worst case, if almost every other element is a peak, k could be close to n/2, making the space complexity O(n). However, typically k << n, so the space complexity is often much better than O(n)."
      ]
    },
    {
      "cell_type": "markdown",
      "metadata": {},
      "source": [
        "## Test Cases\n"
      ]
    },
    {
      "cell_type": "code",
      "metadata": {},
      "source": [
        "def test_findPeaks():",
        "    # Test case 1: No peaks",
        "    assert findPeaks([2, 4, 4]) == []",
        "    ",
        "    # Test case 2: Multiple peaks",
        "    assert sorted(findPeaks([1, 4, 3, 8, 5])) == [1, 3]",
        "    ",
        "    # Test case 3: Single peak",
        "    assert findPeaks([1, 5, 3]) == [1]",
        "    ",
        "    # Test case 4: Alternating pattern",
        "    assert sorted(findPeaks([1, 5, 2, 6, 3, 7, 4])) == [1, 3, 5]",
        "    ",
        "    # Test case 5: Increasing then decreasing",
        "    assert findPeaks([1, 2, 3, 4, 5, 4, 3, 2, 1]) == [4]",
        "    ",
        "    # Test case 6: Minimum length array with no peaks",
        "    assert findPeaks([1, 1, 1]) == []",
        "    ",
        "    # Test case 7: Minimum length array with a peak",
        "    assert findPeaks([1, 2, 1]) == [1]",
        "    ",
        "    print(\"All test cases passed!\")",
        "",
        "# Run the tests",
        "test_findPeaks()",
        ""
      ],
      "execution_count": null,
      "outputs": []
    }
  ],
  "metadata": {
    "kernelspec": {
      "display_name": "Python 3",
      "language": "python",
      "name": "python3"
    },
    "language_info": {
      "codemirror_mode": {
        "name": "ipython",
        "version": 3
      },
      "file_extension": ".py",
      "mimetype": "text/x-python",
      "name": "python",
      "nbconvert_exporter": "python",
      "pygments_lexer": "ipython3",
      "version": "3.11.9"
    }
  },
  "nbformat": 4,
  "nbformat_minor": 5
}