{
  "cells": [
    {
      "cell_type": "markdown",
      "metadata": {},
      "source": [
        "# 120. Triangle"
      ]
    },
    {
      "cell_type": "markdown",
      "metadata": {},
      "source": [
        "Given a triangle array, return the minimum path sum from top to bottom.",
        "",
        "",
        "",
        "For each step, you may move to an adjacent number of the row below. More formally, if you are on index i on the current row, you may move to either index i or index i + 1 on the next row.",
        "",
        "",
        "",
        " ",
        "",
        "",
        "",
        "**Example 1:**",
        "",
        "",
        "",
        "Input: triangle = [[2],[3,4],[6,5,7],[4,1,8,3]]",
        "",
        "Output: 11",
        "",
        "Explanation: The triangle looks like:",
        "",
        "   2",
        "",
        "  3 4",
        "",
        " 6 5 7",
        "",
        "4 1 8 3",
        "",
        "The minimum path sum from top to bottom is 2 + 3 + 5 + 1 = 11 (underlined above).",
        "",
        "**Example 2:**",
        "",
        "",
        "",
        "Input: triangle = [[-10]]",
        "",
        "Output: -10",
        "",
        " ",
        "",
        "",
        "",
        "**Constraints:**",
        "",
        "",
        "",
        "1 <= triangle.length <= 200",
        "",
        "triangle[0].length == 1",
        "",
        "triangle[i].length == triangle[i - 1].length + 1",
        "",
        "-104 <= triangle[i][j] <= 104",
        "",
        " ",
        "",
        "",
        "",
        "Follow up: Could you do this using only O(n) extra space, where n is the total number of rows in the triangle?"
      ]
    },
    {
      "cell_type": "markdown",
      "metadata": {},
      "source": [
        "## Solution Explanation\n",
        "This problem asks us to find the minimum path sum from the top to the bottom of a triangle. We can solve it using dynamic programming.",
        "",
        "The key insight is that for each position (i, j) in the triangle, the minimum path sum to reach that position is the value at (i, j) plus the minimum of the two possible paths from the row above: either from (i-1, j-1) or from (i-1, j).",
        "",
        "We have two main approaches:",
        "1. **Top-down approach**: Start from the top and compute the minimum path sum to reach each position.",
        "2. **Bottom-up approach**: Start from the bottom and work our way up to find the minimum path sum.",
        "",
        "I'll implement the bottom-up approach because it's more space-efficient. We can modify the triangle in-place, starting from the second-to-last row. For each element in this row, we add the minimum of the two adjacent elements from the row below. We continue this process until we reach the top of the triangle, at which point the top element will contain the minimum path sum.",
        "",
        "For the follow-up question about using O(n) extra space, we can use a 1D array to store the minimum path sums for the current row, updating it as we move up the triangle."
      ]
    },
    {
      "cell_type": "code",
      "metadata": {},
      "source": [
        "def minimumTotal(triangle):",
        "    # Create a copy of the last row",
        "    min_path_sum = triangle[-1].copy()",
        "    ",
        "    # Start from the second-to-last row and work upwards",
        "    for i in range(len(triangle) - 2, -1, -1):",
        "        for j in range(len(triangle[i])):",
        "            # For each position, choose the minimum of the two adjacent positions from the row below",
        "            min_path_sum[j] = triangle[i][j] + min(min_path_sum[j], min_path_sum[j + 1])",
        "    ",
        "    # The top element now contains the minimum path sum",
        "    return min_path_sum[0]",
        ""
      ],
      "execution_count": null,
      "outputs": []
    },
    {
      "cell_type": "markdown",
      "metadata": {},
      "source": [
        "## Time and Space Complexity\n",
        "* *Time Complexity**: O(n\u00b2), where n is the number of rows in the triangle. We need to process each element in the triangle once, and the total number of elements is approximately n\u00b2/2, which simplifies to O(n\u00b2).",
        "* *Space Complexity**: O(n), where n is the number of rows in the triangle. We only need extra space for the `min_path_sum` array, which has the same length as the bottom row of the triangle (which is n). This satisfies the follow-up question's requirement of using only O(n) extra space."
      ]
    },
    {
      "cell_type": "markdown",
      "metadata": {},
      "source": [
        "## Test Cases\n"
      ]
    },
    {
      "cell_type": "code",
      "metadata": {},
      "source": [
        "# Test case 1: Example from the problem statement",
        "triangle1 = [[2], [3, 4], [6, 5, 7], [4, 1, 8, 3]]",
        "assert minimumTotal(triangle1) == 11, f\"Expected 11, got {minimumTotal(triangle1)}\"",
        "",
        "# Test case 2: Single element triangle",
        "triangle2 = [[-10]]",
        "assert minimumTotal(triangle2) == -10, f\"Expected -10, got {minimumTotal(triangle2)}\"",
        "",
        "# Test case 3: Triangle with negative numbers",
        "triangle3 = [[-1], [2, 3], [1, -1, -3]]",
        "assert minimumTotal(triangle3) == -5, f\"Expected -5, got {minimumTotal(triangle3)}\"",
        "",
        "# Test case 4: Triangle with all same numbers",
        "triangle4 = [[1], [1, 1], [1, 1, 1]]",
        "assert minimumTotal(triangle4) == 3, f\"Expected 3, got {minimumTotal(triangle4)}\"",
        "",
        "# Test case 5: Larger triangle",
        "triangle5 = [[2], [3, 4], [6, 5, 7], [4, 1, 8, 3], [1, 2, 3, 4, 5]]",
        "assert minimumTotal(triangle5) == 13, f\"Expected 13, got {minimumTotal(triangle5)}\"",
        "",
        "print(\"All test cases passed!\")",
        ""
      ],
      "execution_count": null,
      "outputs": []
    }
  ],
  "metadata": {
    "kernelspec": {
      "display_name": "Python 3",
      "language": "python",
      "name": "python3"
    },
    "language_info": {
      "codemirror_mode": {
        "name": "ipython",
        "version": 3
      },
      "file_extension": ".py",
      "mimetype": "text/x-python",
      "name": "python",
      "nbconvert_exporter": "python",
      "pygments_lexer": "ipython3",
      "version": "3.11.9"
    }
  },
  "nbformat": 4,
  "nbformat_minor": 5
}