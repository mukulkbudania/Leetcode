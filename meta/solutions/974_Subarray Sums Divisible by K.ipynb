{
  "cells": [
    {
      "cell_type": "markdown",
      "metadata": {},
      "source": [
        "# 974. Subarray Sums Divisible by K"
      ]
    },
    {
      "cell_type": "markdown",
      "metadata": {},
      "source": [
        "Given an integer array nums and an integer k, return the number of non-empty subarrays that have a sum divisible by k.",
        "",
        "",
        "",
        "A subarray is a contiguous part of an array.",
        "",
        "",
        "",
        " ",
        "",
        "",
        "",
        "**Example 1:**",
        "",
        "",
        "",
        "Input: nums = [4,5,0,-2,-3,1], k = 5",
        "",
        "Output: 7",
        "",
        "Explanation: There are 7 subarrays with a sum divisible by k = 5:",
        "",
        "[4, 5, 0, -2, -3, 1], [5], [5, 0], [5, 0, -2, -3], [0], [0, -2, -3], [-2, -3]",
        "",
        "**Example 2:**",
        "",
        "",
        "",
        "Input: nums = [5], k = 9",
        "",
        "Output: 0",
        "",
        " ",
        "",
        "",
        "",
        "**Constraints:**",
        "",
        "",
        "",
        "1 <= nums.length <= 3 * 104",
        "",
        "-104 <= nums[i] <= 104",
        "",
        "2 <= k <= 104",
        "",
        ""
      ]
    },
    {
      "cell_type": "markdown",
      "metadata": {},
      "source": [
        "## Solution Explanation\n",
        "To solve this problem, we need to find the number of subarrays whose sum is divisible by k. A key insight is to use the prefix sum technique combined with modular arithmetic.",
        "",
        "The approach is based on the following property: if the prefix sums of two indices i and j have the same remainder when divided by k, then the subarray between indices i+1 and j has a sum divisible by k.",
        "",
        "Let's denote the prefix sum at index i as prefixSum[i]. If prefixSum[i] % k = prefixSum[j] % k for some i < j, then the sum of elements from index i+1 to j is divisible by k.",
        "",
        "We can use a hash map to keep track of the frequency of each remainder when the prefix sum is divided by k. As we iterate through the array:",
        "1. Calculate the running sum (prefix sum)",
        "2. Calculate the remainder when divided by k",
        "3. If we've seen this remainder before, it means we have subarrays with sums divisible by k",
        "4. Update the frequency of the current remainder",
        "",
        "One important detail: we need to handle negative numbers correctly when calculating the remainder. In many programming languages, the modulo of a negative number can be negative, but we need a non-negative remainder for our algorithm."
      ]
    },
    {
      "cell_type": "code",
      "metadata": {},
      "source": [
        "def subarraysDivByK(nums, k):",
        "    \"\"\"",
        "    :type nums: List[int]",
        "    :type k: int",
        "    :rtype: int",
        "    \"\"\"",
        "    # Dictionary to store frequency of remainders",
        "    remainder_count = {0: 1}  # Initialize with 0 having count 1 (empty subarray)",
        "    ",
        "    prefix_sum = 0",
        "    count = 0",
        "    ",
        "    for num in nums:",
        "        # Calculate running sum",
        "        prefix_sum += num",
        "        ",
        "        # Calculate remainder when divided by k",
        "        # Use (prefix_sum % k + k) % k to handle negative numbers",
        "        remainder = prefix_sum % k",
        "        ",
        "        # If we've seen this remainder before, it means we have subarrays with sum divisible by k",
        "        if remainder in remainder_count:",
        "            count += remainder_count[remainder]",
        "        ",
        "        # Update the frequency of the current remainder",
        "        remainder_count[remainder] = remainder_count.get(remainder, 0) + 1",
        "    ",
        "    return count",
        ""
      ],
      "execution_count": null,
      "outputs": []
    },
    {
      "cell_type": "markdown",
      "metadata": {},
      "source": [
        "## Time and Space Complexity\n",
        "* *Time Complexity**: O(n) where n is the length of the input array. We iterate through the array once, and each operation inside the loop (addition, modulo, dictionary lookup/update) takes O(1) time.",
        "* *Space Complexity**: O(min(n, k)) for the hash map that stores the frequency of remainders. In the worst case, we might have all possible remainders (0 to k-1) in the hash map, so the space complexity is bounded by O(k). However, if the array is very large and has many different prefix sums, the space complexity could be O(n), but it's still bounded by O(min(n, k))."
      ]
    },
    {
      "cell_type": "markdown",
      "metadata": {},
      "source": [
        "## Test Cases\n"
      ]
    },
    {
      "cell_type": "code",
      "metadata": {},
      "source": [
        "def test_subarraysDivByK():",
        "    # Test case 1: Example from the problem statement",
        "    assert subarraysDivByK([4, 5, 0, -2, -3, 1], 5) == 7",
        "    ",
        "    # Test case 2: Example from the problem statement",
        "    assert subarraysDivByK([5], 9) == 0",
        "    ",
        "    # Test case 3: All elements are divisible by k",
        "    assert subarraysDivByK([5, 10, 15, 20], 5) == 10",
        "    ",
        "    # Test case 4: No subarrays are divisible by k",
        "    assert subarraysDivByK([1, 2, 3], 7) == 0",
        "    ",
        "    # Test case 5: Array with negative numbers",
        "    assert subarraysDivByK([-1, -2, -3], 3) == 3",
        "    ",
        "    # Test case 6: Array with zeros",
        "    assert subarraysDivByK([0, 0, 0], 2) == 6",
        "    ",
        "    # Test case 7: Large array",
        "    large_array = [i % 10 for i in range(1000)]",
        "    assert subarraysDivByK(large_array, 10) > 0",
        "    ",
        "    print(\"All test cases passed!\")",
        "",
        "# Run the tests",
        "test_subarraysDivByK()",
        ""
      ],
      "execution_count": null,
      "outputs": []
    }
  ],
  "metadata": {
    "kernelspec": {
      "display_name": "Python 3",
      "language": "python",
      "name": "python3"
    },
    "language_info": {
      "codemirror_mode": {
        "name": "ipython",
        "version": 3
      },
      "file_extension": ".py",
      "mimetype": "text/x-python",
      "name": "python",
      "nbconvert_exporter": "python",
      "pygments_lexer": "ipython3",
      "version": "3.11.9"
    }
  },
  "nbformat": 4,
  "nbformat_minor": 5
}