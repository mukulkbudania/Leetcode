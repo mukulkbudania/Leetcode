{
  "cells": [
    {
      "cell_type": "markdown",
      "metadata": {},
      "source": [
        "# 713. Subarray Product Less Than K"
      ]
    },
    {
      "cell_type": "markdown",
      "metadata": {},
      "source": [
        "Given an array of integers nums and an integer k, return the number of contiguous subarrays where the product of all the elements in the subarray is strictly less than k.",
        "",
        "",
        "",
        " ",
        "",
        "",
        "",
        "**Example 1:**",
        "",
        "",
        "",
        "Input: nums = [10,5,2,6], k = 100",
        "",
        "Output: 8",
        "",
        "Explanation: The 8 subarrays that have product less than 100 are:",
        "",
        "[10], [5], [2], [6], [10, 5], [5, 2], [2, 6], [5, 2, 6]",
        "",
        "Note that [10, 5, 2] is not included as the product of 100 is not strictly less than k.",
        "",
        "**Example 2:**",
        "",
        "",
        "",
        "Input: nums = [1,2,3], k = 0",
        "",
        "Output: 0",
        "",
        " ",
        "",
        "",
        "",
        "**Constraints:**",
        "",
        "",
        "",
        "1 <= nums.length <= 3 * 104",
        "",
        "1 <= nums[i] <= 1000",
        "",
        "0 <= k <= 106"
      ]
    },
    {
      "cell_type": "markdown",
      "metadata": {},
      "source": [
        "## Solution Explanation\n",
        "This problem asks us to find the number of contiguous subarrays with a product less than k. A sliding window approach is ideal for this type of problem.",
        "",
        "The key insight is that if a subarray's product is less than k, then all of its subarrays that include the rightmost element will also have a product less than k.",
        "",
        "For example, if `[5,2,6]` has a product less than k, then `[6]`, `[2,6]`, and `[5,2,6]` all have products less than k.",
        "",
        "Here's the approach:",
        "1. Use a sliding window with two pointers: `left` and `right`.",
        "2. Expand the window by moving `right` and multiply the current product by the new element.",
        "3. If the product becomes greater than or equal to k, shrink the window from the left by dividing the product by the leftmost element and incrementing `left`.",
        "4. For each valid window (product < k), the number of new subarrays ending at the current `right` position is `right - left + 1`.",
        "5. Sum up these counts to get the total number of valid subarrays."
      ]
    },
    {
      "cell_type": "code",
      "metadata": {},
      "source": [
        "def numSubarrayProductLessThanK(nums, k):",
        "    if k <= 1:  # Edge case: since all numbers are positive, no subarray can have product < 1",
        "        return 0",
        "    ",
        "    count = 0",
        "    product = 1",
        "    left = 0",
        "    ",
        "    for right in range(len(nums)):",
        "        # Expand the window",
        "        product *= nums[right]",
        "        ",
        "        # Shrink the window from the left if necessary",
        "        while product >= k and left <= right:",
        "            product //= nums[left]",
        "            left += 1",
        "        ",
        "        # Count subarrays ending at the current position",
        "        count += right - left + 1",
        "    ",
        "    return count",
        ""
      ],
      "execution_count": null,
      "outputs": []
    },
    {
      "cell_type": "markdown",
      "metadata": {},
      "source": [
        "## Time and Space Complexity\n",
        "* *Time Complexity**: O(n), where n is the length of the input array. Each element is processed at most twice (once when it enters the window and once when it leaves).",
        "* *Space Complexity**: O(1), as we only use a constant amount of extra space regardless of the input size. We maintain a few variables (count, product, left, right) that don't scale with the input size."
      ]
    },
    {
      "cell_type": "markdown",
      "metadata": {},
      "source": [
        "## Test Cases\n"
      ]
    },
    {
      "cell_type": "code",
      "metadata": {},
      "source": [
        "def test_numSubarrayProductLessThanK():",
        "    # Test case 1: Example from the problem",
        "    assert numSubarrayProductLessThanK([10, 5, 2, 6], 100) == 8",
        "    ",
        "    # Test case 2: Example from the problem",
        "    assert numSubarrayProductLessThanK([1, 2, 3], 0) == 0",
        "    ",
        "    # Test case 3: k = 1 (edge case)",
        "    assert numSubarrayProductLessThanK([1, 1, 1], 1) == 0",
        "    ",
        "    # Test case 4: Single element array",
        "    assert numSubarrayProductLessThanK([5], 10) == 1",
        "    ",
        "    # Test case 5: All elements greater than k",
        "    assert numSubarrayProductLessThanK([10, 20, 30], 5) == 0",
        "    ",
        "    # Test case 6: All elements equal to 1",
        "    assert numSubarrayProductLessThanK([1, 1, 1, 1], 2) == 10",
        "    ",
        "    # Test case 7: Large array with all valid subarrays",
        "    assert numSubarrayProductLessThanK([1, 1, 1, 1, 1], 10) == 15",
        "    ",
        "    print(\"All test cases passed!\")",
        "",
        "# Run the tests",
        "test_numSubarrayProductLessThanK()",
        ""
      ],
      "execution_count": null,
      "outputs": []
    }
  ],
  "metadata": {
    "kernelspec": {
      "display_name": "Python 3",
      "language": "python",
      "name": "python3"
    },
    "language_info": {
      "codemirror_mode": {
        "name": "ipython",
        "version": 3
      },
      "file_extension": ".py",
      "mimetype": "text/x-python",
      "name": "python",
      "nbconvert_exporter": "python",
      "pygments_lexer": "ipython3",
      "version": "3.11.9"
    }
  },
  "nbformat": 4,
  "nbformat_minor": 5
}