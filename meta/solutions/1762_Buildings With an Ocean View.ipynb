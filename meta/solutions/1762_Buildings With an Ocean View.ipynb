{
  "cells": [
    {
      "cell_type": "markdown",
      "metadata": {},
      "source": [
        "# 1762. Buildings With an Ocean View"
      ]
    },
    {
      "cell_type": "markdown",
      "metadata": {},
      "source": [
        "There are n buildings in a line. You are given an integer array heights of size n that represents the heights of the buildings in the line.",
        "",
        "",
        "",
        "The ocean is to the right of the buildings. A building has an ocean view if the building can see the ocean without obstructions. Formally, a building has an ocean view if all the buildings to its right have a smaller height.",
        "",
        "",
        "",
        "Return a list of indices (0-indexed) of buildings that have an ocean view, sorted in increasing order.",
        "",
        "",
        "",
        " ",
        "",
        "",
        "",
        "**Example 1:**",
        "",
        "",
        "",
        "Input: heights = [4,2,3,1]",
        "",
        "Output: [0,2,3]",
        "",
        "Explanation: Building 1 (0-indexed) does not have an ocean view because building 2 is taller.",
        "",
        "**Example 2:**",
        "",
        "",
        "",
        "Input: heights = [4,3,2,1]",
        "",
        "Output: [0,1,2,3]",
        "",
        "Explanation: All the buildings have an ocean view.",
        "",
        "**Example 3:**",
        "",
        "",
        "",
        "Input: heights = [1,3,2,4]",
        "",
        "Output: [3]",
        "",
        "Explanation: Only building 3 has an ocean view.",
        "",
        " ",
        "",
        "",
        "",
        "**Constraints:**",
        "",
        "",
        "",
        "1 <= heights.length <= 105",
        "",
        "1 <= heights[i] <= 109"
      ]
    },
    {
      "cell_type": "markdown",
      "metadata": {},
      "source": [
        "## Solution Explanation\n",
        "To solve this problem, we need to find all buildings that have an ocean view. A building has an ocean view if all buildings to its right have smaller heights.",
        "",
        "The key insight is that we can scan the buildings from right to left (starting from the ocean side). As we move left, we keep track of the maximum height we've seen so far. If the current building is taller than the maximum height seen, it means this building has an ocean view.",
        "",
        "The algorithm steps are:",
        "1. Initialize an empty result list to store indices of buildings with ocean view",
        "2. Initialize a variable `max_height` to 0 to track the maximum height seen so far",
        "3. Iterate through the buildings from right to left:",
        "* If the current building's height is greater than `max_height`, it has an ocean view",
        "* Add its index to our result list",
        "* Update `max_height` if the current building is taller",
        "4. Reverse the result list since we processed buildings from right to left",
        "5. Return the result list"
      ]
    },
    {
      "cell_type": "code",
      "metadata": {},
      "source": [
        "def findBuildings(heights):",
        "    \"\"\"",
        "    :type heights: List[int]",
        "    :rtype: List[int]",
        "    \"\"\"",
        "    n = len(heights)",
        "    result = []",
        "    max_height = 0",
        "    ",
        "    # Scan from right to left",
        "    for i in range(n - 1, -1, -1):",
        "        # If current building is taller than max_height, it has ocean view",
        "        if heights[i] > max_height:",
        "            result.append(i)",
        "            max_height = heights[i]",
        "    ",
        "    # Reverse the result to get indices in increasing order",
        "    return sorted(result)",
        ""
      ],
      "execution_count": null,
      "outputs": []
    },
    {
      "cell_type": "markdown",
      "metadata": {},
      "source": [
        "## Time and Space Complexity\n",
        "* *Time Complexity**: O(n), where n is the number of buildings. We iterate through each building once, and the sorting operation at the end is also O(n) because we're sorting at most n elements in a specific range.",
        "* *Space Complexity**: O(k), where k is the number of buildings with an ocean view. In the worst case, all buildings have an ocean view, making the space complexity O(n)."
      ]
    },
    {
      "cell_type": "markdown",
      "metadata": {},
      "source": [
        "## Test Cases\n"
      ]
    },
    {
      "cell_type": "code",
      "metadata": {},
      "source": [
        "def test_findBuildings():",
        "    # Test case 1: Example 1 from the problem",
        "    assert findBuildings([4, 2, 3, 1]) == [0, 2, 3], \"Test case 1 failed\"",
        "    ",
        "    # Test case 2: Example 2 from the problem - all buildings have ocean view",
        "    assert findBuildings([4, 3, 2, 1]) == [0, 1, 2, 3], \"Test case 2 failed\"",
        "    ",
        "    # Test case 3: Example 3 from the problem - only last building has ocean view",
        "    assert findBuildings([1, 3, 2, 4]) == [3], \"Test case 3 failed\"",
        "    ",
        "    # Test case 4: Single building",
        "    assert findBuildings([5]) == [0], \"Test case 4 failed\"",
        "    ",
        "    # Test case 5: Two buildings of same height",
        "    assert findBuildings([5, 5]) == [0, 1], \"Test case 5 failed\"",
        "    ",
        "    # Test case 6: Buildings with increasing heights",
        "    assert findBuildings([1, 2, 3, 4]) == [3], \"Test case 6 failed\"",
        "    ",
        "    # Test case 7: Buildings with equal heights",
        "    assert findBuildings([3, 3, 3, 3]) == [0, 1, 2, 3], \"Test case 7 failed\"",
        "    ",
        "    print(\"All test cases passed!\")",
        "",
        "# Run the tests",
        "test_findBuildings()",
        ""
      ],
      "execution_count": null,
      "outputs": []
    }
  ],
  "metadata": {
    "kernelspec": {
      "display_name": "Python 3",
      "language": "python",
      "name": "python3"
    },
    "language_info": {
      "codemirror_mode": {
        "name": "ipython",
        "version": 3
      },
      "file_extension": ".py",
      "mimetype": "text/x-python",
      "name": "python",
      "nbconvert_exporter": "python",
      "pygments_lexer": "ipython3",
      "version": "3.11.9"
    }
  },
  "nbformat": 4,
  "nbformat_minor": 5
}