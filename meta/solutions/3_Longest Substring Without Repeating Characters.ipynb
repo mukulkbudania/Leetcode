{
  "cells": [
    {
      "cell_type": "markdown",
      "metadata": {},
      "source": [
        "# 3. Longest Substring Without Repeating Characters"
      ]
    },
    {
      "cell_type": "markdown",
      "metadata": {},
      "source": [
        "Given a string s, find the length of the longest substring without duplicate characters.",
        "",
        "",
        "",
        " ",
        "",
        "",
        "",
        "**Example 1:**",
        "",
        "",
        "",
        "Input: s = \"abcabcbb\"",
        "",
        "Output: 3",
        "",
        "Explanation: The answer is \"abc\", with the length of 3.",
        "",
        "**Example 2:**",
        "",
        "",
        "",
        "Input: s = \"bbbbb\"",
        "",
        "Output: 1",
        "",
        "Explanation: The answer is \"b\", with the length of 1.",
        "",
        "**Example 3:**",
        "",
        "",
        "",
        "Input: s = \"pwwkew\"",
        "",
        "Output: 3",
        "",
        "Explanation: The answer is \"wke\", with the length of 3.",
        "",
        "Notice that the answer must be a substring, \"pwke\" is a subsequence and not a substring.",
        "",
        " ",
        "",
        "",
        "",
        "**Constraints:**",
        "",
        "",
        "",
        "0 <= s.length <= 5 * 104",
        "",
        "s consists of English letters, digits, symbols and spaces."
      ]
    },
    {
      "cell_type": "markdown",
      "metadata": {},
      "source": [
        "## Solution Explanation\n",
        "To find the length of the longest substring without duplicate characters, we can use the sliding window technique with a hash map (or set) to track characters in the current window.",
        "",
        "The approach is as follows:",
        "1. Use two pointers, `left` and `right`, to represent the current window.",
        "2. Use a hash map to store the most recent index of each character.",
        "3. Expand the window by moving the `right` pointer and adding characters to our map.",
        "4. If we encounter a duplicate character (already in our map), move the `left` pointer to the position after the previous occurrence of this character.",
        "5. Update the maximum length of the substring found so far.",
        "",
        "This approach ensures that at any point, the characters between `left` and `right` pointers form a substring with no duplicate characters."
      ]
    },
    {
      "cell_type": "code",
      "metadata": {},
      "source": [
        "def lengthOfLongestSubstring(s: str) -> int:",
        "    # Edge case: empty string",
        "    if not s:",
        "        return 0",
        "    ",
        "    # Dictionary to store the last position of each character",
        "    char_index = {}",
        "    ",
        "    # Initialize pointers and max length",
        "    left = 0",
        "    max_length = 0",
        "    ",
        "    # Iterate through the string with right pointer",
        "    for right in range(len(s)):",
        "        # If character is already in the current window, update left pointer",
        "        if s[right] in char_index and char_index[s[right]] >= left:",
        "            left = char_index[s[right]] + 1",
        "        else:",
        "            # Update max_length if current window is larger",
        "            max_length = max(max_length, right - left + 1)",
        "        ",
        "        # Update the last position of the current character",
        "        char_index[s[right]] = right",
        "    ",
        "    return max_length",
        ""
      ],
      "execution_count": null,
      "outputs": []
    },
    {
      "cell_type": "markdown",
      "metadata": {},
      "source": [
        "## Time and Space Complexity\n",
        "* *Time Complexity**: O(n), where n is the length of the string. We traverse the string once with the right pointer, and the left pointer never moves backward.",
        "* *Space Complexity**: O(min(m, n)), where n is the length of the string and m is the size of the character set. In the worst case, the hash map will store all unique characters in the string. Since the problem states that s consists of English letters, digits, symbols, and spaces, m could be as large as the ASCII character set (128 or 256), but it's bounded by the length of the string."
      ]
    },
    {
      "cell_type": "markdown",
      "metadata": {},
      "source": [
        "## Test Cases\n"
      ]
    },
    {
      "cell_type": "code",
      "metadata": {},
      "source": [
        "def test_lengthOfLongestSubstring():",
        "    # Test case 1: Regular case with repeating characters",
        "    assert lengthOfLongestSubstring(\"abcabcbb\") == 3",
        "    ",
        "    # Test case 2: All same characters",
        "    assert lengthOfLongestSubstring(\"bbbbb\") == 1",
        "    ",
        "    # Test case 3: No repeating characters in a subsequence",
        "    assert lengthOfLongestSubstring(\"pwwkew\") == 3",
        "    ",
        "    # Test case 4: Empty string",
        "    assert lengthOfLongestSubstring(\"\") == 0",
        "    ",
        "    # Test case 5: Single character",
        "    assert lengthOfLongestSubstring(\"a\") == 1",
        "    ",
        "    # Test case 6: All unique characters",
        "    assert lengthOfLongestSubstring(\"abcdefg\") == 7",
        "    ",
        "    # Test case 7: Special characters and spaces",
        "    assert lengthOfLongestSubstring(\"ab c!d#\") == 6",
        "    ",
        "    # Test case 8: Repeating pattern",
        "    assert lengthOfLongestSubstring(\"abcdefgabcdefg\") == 7",
        "    ",
        "    # Test case 9: Longest substring at the end",
        "    assert lengthOfLongestSubstring(\"aabcdef\") == 6",
        "    ",
        "    print(\"All test cases passed!\")",
        "",
        "# Run the tests",
        "test_lengthOfLongestSubstring()",
        ""
      ],
      "execution_count": null,
      "outputs": []
    }
  ],
  "metadata": {
    "kernelspec": {
      "display_name": "Python 3",
      "language": "python",
      "name": "python3"
    },
    "language_info": {
      "codemirror_mode": {
        "name": "ipython",
        "version": 3
      },
      "file_extension": ".py",
      "mimetype": "text/x-python",
      "name": "python",
      "nbconvert_exporter": "python",
      "pygments_lexer": "ipython3",
      "version": "3.11.9"
    }
  },
  "nbformat": 4,
  "nbformat_minor": 5
}