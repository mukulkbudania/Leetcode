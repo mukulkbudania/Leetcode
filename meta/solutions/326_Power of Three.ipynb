{
  "cells": [
    {
      "cell_type": "markdown",
      "metadata": {},
      "source": [
        "# 326. Power of Three"
      ]
    },
    {
      "cell_type": "markdown",
      "metadata": {},
      "source": [
        "Given an integer n, return true if it is a power of three. Otherwise, return false.",
        "",
        "",
        "",
        "An integer n is a power of three, if there exists an integer x such that n == 3x.",
        "",
        "",
        "",
        " ",
        "",
        "",
        "",
        "**Example 1:**",
        "",
        "",
        "",
        "Input: n = 27",
        "",
        "Output: true",
        "",
        "Explanation: 27 = 33",
        "",
        "**Example 2:**",
        "",
        "",
        "",
        "Input: n = 0",
        "",
        "Output: false",
        "",
        "Explanation: There is no x where 3x = 0.",
        "",
        "**Example 3:**",
        "",
        "",
        "",
        "Input: n = -1",
        "",
        "Output: false",
        "",
        "Explanation: There is no x where 3x = (-1).",
        "",
        " ",
        "",
        "",
        "",
        "**Constraints:**",
        "",
        "",
        "",
        "-231 <= n <= 231 - 1",
        "",
        " ",
        "",
        "",
        "",
        "Follow up: Could you solve it without loops/recursion?",
        "",
        ""
      ]
    },
    {
      "cell_type": "markdown",
      "metadata": {},
      "source": [
        "## Solution Explanation\n",
        "To determine if an integer `n` is a power of three, we need to check if there exists an integer `x` such that `n = 3^x`.",
        "",
        "There are several approaches to solve this problem:",
        "",
        "1. **Iterative approach**: Repeatedly divide `n` by 3 as long as it's divisible by 3. If we end up with 1, then `n` is a power of three.",
        "",
        "2. **Logarithmic approach**: If `n` is a power of three, then `log3(n)` should be an integer. We can check this by calculating `log3(n) = log10(n) / log10(3)` and verifying if it's an integer.",
        "",
        "3. **Mathematical approach**: Since we're working with a constrained range of integers (32-bit signed integers), we can use the fact that the largest power of 3 in this range is 3^19 = 1,162,261,467. If `n` is a power of three, it must be a divisor of 3^19. So we can check if `n` is positive and if 3^19 is divisible by `n`.",
        "",
        "For the follow-up question asking to solve without loops/recursion, I'll implement the mathematical approach."
      ]
    },
    {
      "cell_type": "code",
      "metadata": {},
      "source": [
        "def isPowerOfThree(n: int) -> bool:",
        "    # The largest power of 3 in the 32-bit signed integer range",
        "    max_power_of_three = 3 ** 19  # 3^19 = 1,162,261,467",
        "    ",
        "    # Check if n is positive and if max_power_of_three is divisible by n",
        "    return n > 0 and max_power_of_three % n == 0",
        ""
      ],
      "execution_count": null,
      "outputs": []
    },
    {
      "cell_type": "markdown",
      "metadata": {},
      "source": [
        "## Time and Space Complexity\n",
        "* *Time Complexity**: O(1) - The solution performs a constant number of operations regardless of the input size.",
        "* *Space Complexity**: O(1) - We only use a constant amount of extra space.",
        "",
        "The mathematical approach is particularly efficient because it avoids any loops or recursion, making it a constant time operation. It leverages the constraints of the problem (the limited range of integers) to provide a direct mathematical check."
      ]
    },
    {
      "cell_type": "markdown",
      "metadata": {},
      "source": [
        "## Test Cases\n"
      ]
    },
    {
      "cell_type": "code",
      "metadata": {},
      "source": [
        "def test_isPowerOfThree():",
        "    # Test cases from the problem statement",
        "    assert isPowerOfThree(27) == True, \"27 is 3^3, should return True\"",
        "    assert isPowerOfThree(0) == False, \"0 is not a power of 3, should return False\"",
        "    assert isPowerOfThree(-1) == False, \"Negative numbers cannot be powers of 3, should return False\"",
        "    ",
        "    # Additional test cases",
        "    assert isPowerOfThree(1) == True, \"1 is 3^0, should return True\"",
        "    assert isPowerOfThree(3) == True, \"3 is 3^1, should return True\"",
        "    assert isPowerOfThree(9) == True, \"9 is 3^2, should return True\"",
        "    assert isPowerOfThree(81) == True, \"81 is 3^4, should return True\"",
        "    assert isPowerOfThree(2) == False, \"2 is not a power of 3, should return False\"",
        "    assert isPowerOfThree(6) == False, \"6 is not a power of 3, should return False\"",
        "    assert isPowerOfThree(-3) == False, \"Negative numbers cannot be powers of 3, should return False\"",
        "    assert isPowerOfThree(2147483647) == False, \"Max 32-bit int is not a power of 3, should return False\"",
        "    ",
        "    print(\"All test cases passed!\")",
        "",
        "# Run the tests",
        "test_isPowerOfThree()",
        ""
      ],
      "execution_count": null,
      "outputs": []
    }
  ],
  "metadata": {
    "kernelspec": {
      "display_name": "Python 3",
      "language": "python",
      "name": "python3"
    },
    "language_info": {
      "codemirror_mode": {
        "name": "ipython",
        "version": 3
      },
      "file_extension": ".py",
      "mimetype": "text/x-python",
      "name": "python",
      "nbconvert_exporter": "python",
      "pygments_lexer": "ipython3",
      "version": "3.11.9"
    }
  },
  "nbformat": 4,
  "nbformat_minor": 5
}