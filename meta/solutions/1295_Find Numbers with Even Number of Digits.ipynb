{
  "cells": [
    {
      "cell_type": "markdown",
      "metadata": {},
      "source": [
        "# 1295. Find Numbers with Even Number of Digits"
      ]
    },
    {
      "cell_type": "markdown",
      "metadata": {},
      "source": [
        "Given an array nums of integers, return how many of them contain an even number of digits.",
        "",
        "",
        "",
        " ",
        "",
        "",
        "",
        "**Example 1:**",
        "",
        "",
        "",
        "Input: nums = [12,345,2,6,7896]",
        "",
        "Output: 2",
        "",
        "Explanation: ",
        "",
        "12 contains 2 digits (even number of digits). ",
        "",
        "345 contains 3 digits (odd number of digits). ",
        "",
        "2 contains 1 digit (odd number of digits). ",
        "",
        "6 contains 1 digit (odd number of digits). ",
        "",
        "7896 contains 4 digits (even number of digits). ",
        "",
        "Therefore only 12 and 7896 contain an even number of digits.",
        "",
        "**Example 2:**",
        "",
        "",
        "",
        "Input: nums = [555,901,482,1771]",
        "",
        "Output: 1 ",
        "",
        "Explanation: ",
        "",
        "Only 1771 contains an even number of digits.",
        "",
        " ",
        "",
        "",
        "",
        "**Constraints:**",
        "",
        "",
        "",
        "1 <= nums.length <= 500",
        "",
        "1 <= nums[i] <= 105"
      ]
    },
    {
      "cell_type": "markdown",
      "metadata": {},
      "source": [
        "## Solution Explanation\n",
        "To solve this problem, we need to count how many numbers in the given array have an even number of digits. ",
        "",
        "The approach is straightforward:",
        "1. Iterate through each number in the array",
        "2. Count the number of digits in each number",
        "3. Check if the count is even",
        "4. Increment our result counter if the digit count is even",
        "",
        "There are several ways to count the number of digits in a number:",
        "1. Convert the number to a string and find its length",
        "2. Use a mathematical approach by repeatedly dividing by 10 and counting iterations",
        "3. Use logarithm: floor(log10(n)) + 1 gives the number of digits",
        "",
        "I'll implement the solution using the string conversion method as it's the most readable, but I'll also show the mathematical approach in the comments."
      ]
    },
    {
      "cell_type": "code",
      "metadata": {},
      "source": [
        "def findNumbers(nums):",
        "    \"\"\"",
        "    :type nums: List[int]",
        "    :rtype: int",
        "    \"\"\"",
        "    count = 0",
        "    for num in nums:",
        "        # Count digits by converting to string",
        "        if len(str(num)) % 2 == 0:",
        "            count += 1",
        "        ",
        "        # Alternative mathematical approach:",
        "        # digit_count = 0",
        "        # while num > 0:",
        "        #     num //= 10",
        "        #     digit_count += 1",
        "        # if digit_count % 2 == 0:",
        "        #     count += 1",
        "        ",
        "    return count",
        ""
      ],
      "execution_count": null,
      "outputs": []
    },
    {
      "cell_type": "markdown",
      "metadata": {},
      "source": [
        "## Time and Space Complexity\n",
        "* *Time Complexity**: O(N * M), where:",
        "* N is the length of the input array",
        "* M is the maximum number of digits in any number in the array",
        "",
        "For each number, we're either converting it to a string or performing division operations, both of which are proportional to the number of digits.",
        "",
        "Since the problem states that the maximum value is 10^5, which has 6 digits, we can consider M as a constant. Therefore, the time complexity simplifies to O(N).",
        "* *Space Complexity**: O(1) for the mathematical approach since we only use a few variables regardless of input size.",
        "",
        "If we use the string conversion method, technically we're creating temporary string objects, but these are small and don't scale with the overall input size, so the space complexity is still effectively O(1)."
      ]
    },
    {
      "cell_type": "markdown",
      "metadata": {},
      "source": [
        "## Test Cases\n"
      ]
    },
    {
      "cell_type": "code",
      "metadata": {},
      "source": [
        "def test_findNumbers():",
        "    # Test case 1: Example from the problem",
        "    assert findNumbers([12, 345, 2, 6, 7896]) == 2",
        "    ",
        "    # Test case 2: Another example from the problem",
        "    assert findNumbers([555, 901, 482, 1771]) == 1",
        "    ",
        "    # Test case 3: All numbers have even number of digits",
        "    assert findNumbers([12, 34, 56, 78]) == 4",
        "    ",
        "    # Test case 4: All numbers have odd number of digits",
        "    assert findNumbers([1, 345, 7, 9]) == 0",
        "    ",
        "    # Test case 5: Empty array",
        "    assert findNumbers([]) == 0",
        "    ",
        "    # Test case 6: Array with a single element (even digits)",
        "    assert findNumbers([1000]) == 1",
        "    ",
        "    # Test case 7: Array with a single element (odd digits)",
        "    assert findNumbers([100]) == 0",
        "    ",
        "    # Test case 8: Maximum value in constraints",
        "    assert findNumbers([100000]) == 0  # 6 digits, even",
        "    ",
        "    print(\"All test cases passed!\")",
        "",
        "# Run the tests",
        "test_findNumbers()",
        ""
      ],
      "execution_count": null,
      "outputs": []
    }
  ],
  "metadata": {
    "kernelspec": {
      "display_name": "Python 3",
      "language": "python",
      "name": "python3"
    },
    "language_info": {
      "codemirror_mode": {
        "name": "ipython",
        "version": 3
      },
      "file_extension": ".py",
      "mimetype": "text/x-python",
      "name": "python",
      "nbconvert_exporter": "python",
      "pygments_lexer": "ipython3",
      "version": "3.11.9"
    }
  },
  "nbformat": 4,
  "nbformat_minor": 5
}