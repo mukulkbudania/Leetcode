{
  "cells": [
    {
      "cell_type": "markdown",
      "metadata": {},
      "source": [
        "# 1480. Running Sum of 1d Array"
      ]
    },
    {
      "cell_type": "markdown",
      "metadata": {},
      "source": [
        "Given an array nums. We define a running sum of an array as runningSum[i] = sum(nums[0]\u2026nums[i]).",
        "",
        "",
        "",
        "Return the running sum of nums.",
        "",
        "",
        "",
        " ",
        "",
        "",
        "",
        "**Example 1:**",
        "",
        "",
        "",
        "Input: nums = [1,2,3,4]",
        "",
        "Output: [1,3,6,10]",
        "",
        "Explanation: Running sum is obtained as follows: [1, 1+2, 1+2+3, 1+2+3+4].",
        "",
        "**Example 2:**",
        "",
        "",
        "",
        "Input: nums = [1,1,1,1,1]",
        "",
        "Output: [1,2,3,4,5]",
        "",
        "Explanation: Running sum is obtained as follows: [1, 1+1, 1+1+1, 1+1+1+1, 1+1+1+1+1].",
        "",
        "**Example 3:**",
        "",
        "",
        "",
        "Input: nums = [3,1,2,10,1]",
        "",
        "Output: [3,4,6,16,17]",
        "",
        " ",
        "",
        "",
        "",
        "**Constraints:**",
        "",
        "",
        "",
        "1 <= nums.length <= 1000",
        "",
        "-10^6 <= nums[i] <= 10^6"
      ]
    },
    {
      "cell_type": "markdown",
      "metadata": {},
      "source": [
        "## Solution Explanation\n",
        "This problem asks us to compute a running sum of an array. For each position i, we need to calculate the sum of all elements from index 0 to index i.",
        "",
        "There are two approaches to solve this:",
        "",
        "1. **Naive Approach**: For each position i, iterate from 0 to i and calculate the sum. This would be O(n\u00b2) time complexity.",
        "",
        "2. **Efficient Approach**: Use the previous running sum to calculate the current one. For each position i, the running sum is the previous running sum (at position i-1) plus the current element (at position i). This gives us O(n) time complexity.",
        "",
        "I'll implement the efficient approach since it's more optimal. The algorithm is:",
        "1. Create a result array of the same length as the input array.",
        "2. Set the first element of the result array to be the same as the first element of the input array.",
        "3. For each subsequent position i, calculate result[i] = result[i-1] + nums[i].",
        "4. Return the result array."
      ]
    },
    {
      "cell_type": "code",
      "metadata": {},
      "source": [
        "def runningSum(nums):",
        "    \"\"\"",
        "    Calculate the running sum of an array.",
        "    ",
        "    Args:",
        "        nums: List[int] - The input array",
        "        ",
        "    Returns:",
        "        List[int] - The running sum array",
        "    \"\"\"",
        "    n = len(nums)",
        "    result = [0] * n",
        "    ",
        "    # First element is the same",
        "    result[0] = nums[0]",
        "    ",
        "    # Calculate running sum for each position",
        "    for i in range(1, n):",
        "        result[i] = result[i-1] + nums[i]",
        "    ",
        "    return result",
        ""
      ],
      "execution_count": null,
      "outputs": []
    },
    {
      "cell_type": "markdown",
      "metadata": {},
      "source": [
        "## Time and Space Complexity\n",
        "* *Time Complexity**: O(n), where n is the length of the input array. We iterate through the array once to calculate the running sum.",
        "* *Space Complexity**: O(n) for the result array. We need to store n elements in the result array. Note that we don't count the output array in the space complexity analysis as it's required for the problem's output."
      ]
    },
    {
      "cell_type": "markdown",
      "metadata": {},
      "source": [
        "## Test Cases\n"
      ]
    },
    {
      "cell_type": "code",
      "metadata": {},
      "source": [
        "def test_runningSum():",
        "    # Test case 1: Regular array",
        "    assert runningSum([1, 2, 3, 4]) == [1, 3, 6, 10], \"Test case 1 failed\"",
        "    ",
        "    # Test case 2: Array with all same elements",
        "    assert runningSum([1, 1, 1, 1, 1]) == [1, 2, 3, 4, 5], \"Test case 2 failed\"",
        "    ",
        "    # Test case 3: Mixed positive and negative numbers",
        "    assert runningSum([3, 1, 2, 10, 1]) == [3, 4, 6, 16, 17], \"Test case 3 failed\"",
        "    ",
        "    # Test case 4: Single element array",
        "    assert runningSum([5]) == [5], \"Test case 4 failed\"",
        "    ",
        "    # Test case 5: Array with negative numbers",
        "    assert runningSum([-1, -2, -3, -4]) == [-1, -3, -6, -10], \"Test case 5 failed\"",
        "    ",
        "    # Test case 6: Empty array (though problem states length >= 1)",
        "    assert runningSum([]) == [], \"Test case 6 failed\"",
        "    ",
        "    print(\"All test cases passed!\")",
        "",
        "# Run the tests",
        "test_runningSum()",
        ""
      ],
      "execution_count": null,
      "outputs": []
    }
  ],
  "metadata": {
    "kernelspec": {
      "display_name": "Python 3",
      "language": "python",
      "name": "python3"
    },
    "language_info": {
      "codemirror_mode": {
        "name": "ipython",
        "version": 3
      },
      "file_extension": ".py",
      "mimetype": "text/x-python",
      "name": "python",
      "nbconvert_exporter": "python",
      "pygments_lexer": "ipython3",
      "version": "3.11.9"
    }
  },
  "nbformat": 4,
  "nbformat_minor": 5
}