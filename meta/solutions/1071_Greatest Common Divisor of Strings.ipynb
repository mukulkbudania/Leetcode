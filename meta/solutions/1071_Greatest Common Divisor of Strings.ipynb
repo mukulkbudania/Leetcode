{
  "cells": [
    {
      "cell_type": "markdown",
      "metadata": {},
      "source": [
        "# 1071. Greatest Common Divisor of Strings"
      ]
    },
    {
      "cell_type": "markdown",
      "metadata": {},
      "source": [
        "For two strings s and t, we say \"t divides s\" if and only if s = t + t + t + ... + t + t (i.e., t is concatenated with itself one or more times).",
        "",
        "",
        "",
        "Given two strings str1 and str2, return the largest string x such that x divides both str1 and str2.",
        "",
        "",
        "",
        " ",
        "",
        "",
        "",
        "**Example 1:**",
        "",
        "",
        "",
        "Input: str1 = \"ABCABC\", str2 = \"ABC\"",
        "",
        "Output: \"ABC\"",
        "",
        "**Example 2:**",
        "",
        "",
        "",
        "Input: str1 = \"ABABAB\", str2 = \"ABAB\"",
        "",
        "Output: \"AB\"",
        "",
        "**Example 3:**",
        "",
        "",
        "",
        "Input: str1 = \"LEET\", str2 = \"CODE\"",
        "",
        "Output: \"\"",
        "",
        " ",
        "",
        "",
        "",
        "**Constraints:**",
        "",
        "",
        "",
        "1 <= str1.length, str2.length <= 1000",
        "",
        "str1 and str2 consist of English uppercase letters."
      ]
    },
    {
      "cell_type": "markdown",
      "metadata": {},
      "source": [
        "## Solution Explanation\n",
        "To find the largest string x that divides both str1 and str2, we need to find the greatest common divisor (GCD) of these strings.",
        "",
        "A string s can be divided by string t if s is a concatenation of t multiple times. This is similar to the concept of division in numbers, where a number a is divisible by b if a = b * k for some integer k.",
        "",
        "For strings, we can adapt the Euclidean algorithm for finding GCD:",
        "1. If str1 = str2, then GCD is str1 (or str2)",
        "2. If str1 is longer than str2, we can replace str1 with (str1 - str2) and continue",
        "3. Similarly, if str2 is longer, we replace str2 with (str2 - str1)",
        "",
        "For strings, \"subtraction\" means removing the prefix. If str1 starts with str2, we can replace str1 with str1[len(str2):].",
        "",
        "However, there's a more direct approach:",
        "1. Find the GCD of the lengths of str1 and str2",
        "2. Check if the substring of length GCD divides both strings",
        "",
        "If a string can be formed by repeating a substring, then that substring must be a divisor of the string's length. The largest such substring would be the GCD of the lengths."
      ]
    },
    {
      "cell_type": "code",
      "metadata": {},
      "source": [
        "def gcdOfStrings(str1: str, str2: str) -> str:",
        "    # If concatenation in both orders is not the same, there's no common divisor",
        "    if str1 + str2 != str2 + str1:",
        "        return \"\"",
        "    ",
        "    # Find the GCD of the lengths",
        "    def gcd(a, b):",
        "        while b:",
        "            a, b = b, a % b",
        "        return a",
        "    ",
        "    gcd_length = gcd(len(str1), len(str2))",
        "    ",
        "    # The GCD string is the prefix of length gcd_length",
        "    return str1[:gcd_length]",
        ""
      ],
      "execution_count": null,
      "outputs": []
    },
    {
      "cell_type": "markdown",
      "metadata": {},
      "source": [
        "## Time and Space Complexity\n",
        "* *Time Complexity**: O(n + m), where n and m are the lengths of str1 and str2.",
        "* String concatenation and comparison takes O(n + m) time",
        "* The GCD calculation takes O(log(min(n, m))) time, which is dominated by the string operations",
        "* Slicing the string to get the result is O(gcd_length), which is at most O(min(n, m))",
        "* *Space Complexity**: O(n + m) due to the string concatenation in the check `str1 + str2 != str2 + str1`. The rest of the operations use constant extra space."
      ]
    },
    {
      "cell_type": "markdown",
      "metadata": {},
      "source": [
        "## Test Cases\n"
      ]
    },
    {
      "cell_type": "code",
      "metadata": {},
      "source": [
        "def test_gcd_of_strings():",
        "    # Test case 1: Example 1 from the problem",
        "    assert gcdOfStrings(\"ABCABC\", \"ABC\") == \"ABC\"",
        "    ",
        "    # Test case 2: Example 2 from the problem",
        "    assert gcdOfStrings(\"ABABAB\", \"ABAB\") == \"AB\"",
        "    ",
        "    # Test case 3: Example 3 from the problem",
        "    assert gcdOfStrings(\"LEET\", \"CODE\") == \"\"",
        "    ",
        "    # Test case 4: Same strings",
        "    assert gcdOfStrings(\"ABC\", \"ABC\") == \"ABC\"",
        "    ",
        "    # Test case 5: One string is empty",
        "    assert gcdOfStrings(\"ABC\", \"\") == \"\"",
        "    ",
        "    # Test case 6: Strings with different patterns",
        "    assert gcdOfStrings(\"AABB\", \"AAB\") == \"\"",
        "    ",
        "    # Test case 7: Longer example",
        "    assert gcdOfStrings(\"ABABABABAB\", \"ABABABAB\") == \"AB\"",
        "    ",
        "    # Test case 8: Single character repeating",
        "    assert gcdOfStrings(\"AAAAA\", \"AAA\") == \"A\"",
        "    ",
        "    print(\"All test cases passed!\")",
        "",
        "# Run the tests",
        "test_gcd_of_strings()",
        ""
      ],
      "execution_count": null,
      "outputs": []
    }
  ],
  "metadata": {
    "kernelspec": {
      "display_name": "Python 3",
      "language": "python",
      "name": "python3"
    },
    "language_info": {
      "codemirror_mode": {
        "name": "ipython",
        "version": 3
      },
      "file_extension": ".py",
      "mimetype": "text/x-python",
      "name": "python",
      "nbconvert_exporter": "python",
      "pygments_lexer": "ipython3",
      "version": "3.11.9"
    }
  },
  "nbformat": 4,
  "nbformat_minor": 5
}