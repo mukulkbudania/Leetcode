{
  "cells": [
    {
      "cell_type": "markdown",
      "metadata": {},
      "source": [
        "# 2235. Add Two Integers"
      ]
    },
    {
      "cell_type": "markdown",
      "metadata": {},
      "source": [
        "Given two integers num1 and num2, return the sum of the two integers.",
        "",
        " ",
        "",
        "",
        "",
        "**Example 1:**",
        "",
        "",
        "",
        "Input: num1 = 12, num2 = 5",
        "",
        "Output: 17",
        "",
        "Explanation: num1 is 12, num2 is 5, and their sum is 12 + 5 = 17, so 17 is returned.",
        "",
        "**Example 2:**",
        "",
        "",
        "",
        "Input: num1 = -10, num2 = 4",
        "",
        "Output: -6",
        "",
        "Explanation: num1 + num2 = -6, so -6 is returned.",
        "",
        " ",
        "",
        "",
        "",
        "**Constraints:**",
        "",
        "",
        "",
        "-100 <= num1, num2 <= 100"
      ]
    },
    {
      "cell_type": "markdown",
      "metadata": {},
      "source": [
        "## Solution Explanation\n",
        "This problem asks us to return the sum of two integers. This is a straightforward arithmetic operation in most programming languages. We simply need to add the two input integers and return the result.",
        "",
        "The approach is:",
        "1. Take the two integers as input",
        "2. Calculate their sum using the addition operator (+)",
        "3. Return the sum",
        "",
        "This is a basic arithmetic operation that doesn't require any complex algorithms or data structures."
      ]
    },
    {
      "cell_type": "code",
      "metadata": {},
      "source": [
        "class Solution:",
        "    def sum(self, num1: int, num2: int) -> int:",
        "        \"\"\"",
        "        Returns the sum of two integers.",
        "        ",
        "        Args:",
        "            num1: First integer",
        "            num2: Second integer",
        "            ",
        "        Returns:",
        "            The sum of num1 and num2",
        "        \"\"\"",
        "        return num1 + num2",
        ""
      ],
      "execution_count": null,
      "outputs": []
    },
    {
      "cell_type": "markdown",
      "metadata": {},
      "source": [
        "## Time and Space Complexity\n",
        "* *Time Complexity**: O(1) - The addition operation is a constant time operation regardless of the input size.",
        "* *Space Complexity**: O(1) - We only use a fixed amount of space to store the result, which doesn't depend on the input size."
      ]
    },
    {
      "cell_type": "markdown",
      "metadata": {},
      "source": [
        "## Test Cases\n"
      ]
    },
    {
      "cell_type": "code",
      "metadata": {},
      "source": [
        "def test_solution():",
        "    solution = Solution()",
        "    ",
        "    # Test case 1: Positive numbers",
        "    assert solution.sum(12, 5) == 17, \"Failed for positive numbers\"",
        "    ",
        "    # Test case 2: One negative, one positive",
        "    assert solution.sum(-10, 4) == -6, \"Failed for mixed signs\"",
        "    ",
        "    # Test case 3: Both negative numbers",
        "    assert solution.sum(-7, -3) == -10, \"Failed for negative numbers\"",
        "    ",
        "    # Test case 4: Zero and positive",
        "    assert solution.sum(0, 42) == 42, \"Failed for zero and positive\"",
        "    ",
        "    # Test case 5: Zero and negative",
        "    assert solution.sum(0, -42) == -42, \"Failed for zero and negative\"",
        "    ",
        "    # Test case 6: Both zeros",
        "    assert solution.sum(0, 0) == 0, \"Failed for both zeros\"",
        "    ",
        "    # Test case 7: Boundary values",
        "    assert solution.sum(100, -100) == 0, \"Failed for boundary values\"",
        "    ",
        "    print(\"All test cases passed!\")",
        "",
        "# Run the tests",
        "test_solution()",
        ""
      ],
      "execution_count": null,
      "outputs": []
    }
  ],
  "metadata": {
    "kernelspec": {
      "display_name": "Python 3",
      "language": "python",
      "name": "python3"
    },
    "language_info": {
      "codemirror_mode": {
        "name": "ipython",
        "version": 3
      },
      "file_extension": ".py",
      "mimetype": "text/x-python",
      "name": "python",
      "nbconvert_exporter": "python",
      "pygments_lexer": "ipython3",
      "version": "3.11.9"
    }
  },
  "nbformat": 4,
  "nbformat_minor": 5
}