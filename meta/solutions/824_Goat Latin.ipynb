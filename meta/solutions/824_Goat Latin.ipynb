{
  "cells": [
    {
      "cell_type": "markdown",
      "metadata": {},
      "source": [
        "# 824. Goat Latin"
      ]
    },
    {
      "cell_type": "markdown",
      "metadata": {},
      "source": [
        "You are given a string sentence that consist of words separated by spaces. Each word consists of lowercase and uppercase letters only.",
        "",
        "",
        "",
        "We would like to convert the sentence to \"Goat Latin\" (a made-up language similar to Pig Latin.) The rules of Goat Latin are as follows:",
        "",
        "",
        "",
        "If a word begins with a vowel ('a', 'e', 'i', 'o', or 'u'), append \"ma\" to the end of the word.",
        "",
        "For example, the word \"apple\" becomes \"applema\".",
        "",
        "If a word begins with a consonant (i.e., not a vowel), remove the first letter and append it to the end, then add \"ma\".",
        "",
        "For example, the word \"goat\" becomes \"oatgma\".",
        "",
        "Add one letter 'a' to the end of each word per its word index in the sentence, starting with 1.",
        "",
        "For example, the first word gets \"a\" added to the end, the second word gets \"aa\" added to the end, and so on.",
        "",
        "Return the final sentence representing the conversion from sentence to Goat Latin.",
        "",
        "",
        "",
        " ",
        "",
        "",
        "",
        "**Example 1:**",
        "",
        "",
        "",
        "Input: sentence = \"I speak Goat Latin\"",
        "",
        "Output: \"Imaa peaksmaaa oatGmaaaa atinLmaaaaa\"",
        "",
        "**Example 2:**",
        "",
        "",
        "",
        "Input: sentence = \"The quick brown fox jumped over the lazy dog\"",
        "",
        "Output: \"heTmaa uickqmaaa rownbmaaaa oxfmaaaaa umpedjmaaaaaa overmaaaaaaa hetmaaaaaaaa azylmaaaaaaaaa ogdmaaaaaaaaaa\"",
        "",
        " ",
        "",
        "",
        "",
        "**Constraints:**",
        "",
        "",
        "",
        "1 <= sentence.length <= 150",
        "",
        "sentence consists of English letters and spaces.",
        "",
        "sentence has no leading or trailing spaces.",
        "",
        "All the words in sentence are separated by a single space."
      ]
    },
    {
      "cell_type": "markdown",
      "metadata": {},
      "source": [
        "## Solution Explanation\n",
        "To solve this problem, we need to convert a sentence to \"Goat Latin\" by following the given rules:",
        "",
        "1. If a word begins with a vowel, append \"ma\" to the end.",
        "2. If a word begins with a consonant, move the first letter to the end and append \"ma\".",
        "3. Add one letter 'a' to the end of each word based on its position (first word gets one 'a', second gets two 'a's, etc.).",
        "",
        "The approach is straightforward:",
        "1. Split the input sentence into words.",
        "2. Process each word according to the rules:",
        "* Check if the first letter is a vowel.",
        "* Apply the appropriate transformation.",
        "* Add the correct number of 'a's based on the word's position.",
        "3. Join the transformed words back into a sentence."
      ]
    },
    {
      "cell_type": "code",
      "metadata": {},
      "source": [
        "def toGoatLatin(sentence: str) -> str:",
        "    words = sentence.split()",
        "    vowels = set(['a', 'e', 'i', 'o', 'u', 'A', 'E', 'I', 'O', 'U'])",
        "    result = []",
        "    ",
        "    for i, word in enumerate(words):",
        "        if word[0] in vowels:",
        "            # Rule 1: Word begins with a vowel",
        "            transformed_word = word + \"ma\"",
        "        else:",
        "            # Rule 2: Word begins with a consonant",
        "            transformed_word = word[1:] + word[0] + \"ma\"",
        "        ",
        "        # Rule 3: Add 'a's based on position",
        "        transformed_word += 'a' * (i + 1)",
        "        ",
        "        result.append(transformed_word)",
        "    ",
        "    return ' '.join(result)",
        ""
      ],
      "execution_count": null,
      "outputs": []
    },
    {
      "cell_type": "markdown",
      "metadata": {},
      "source": [
        "## Time and Space Complexity\n",
        "* *Time Complexity**: O(n + m\u00b2), where:",
        "* n is the length of the input sentence",
        "* m is the number of words in the sentence",
        "",
        "The split operation takes O(n) time. For each word, we perform constant-time operations except for adding 'a's, which takes O(i) time for the i-th word. The total time for adding 'a's is O(1 + 2 + ... + m) = O(m\u00b2).",
        "* *Space Complexity**: O(n + m\u00b2)",
        "* We store the split words, which takes O(n) space.",
        "* The result will have additional 'a's, which in the worst case adds O(m\u00b2) characters.",
        "* Therefore, the total space complexity is O(n + m\u00b2)."
      ]
    },
    {
      "cell_type": "markdown",
      "metadata": {},
      "source": [
        "## Test Cases\n"
      ]
    },
    {
      "cell_type": "code",
      "metadata": {},
      "source": [
        "def test_toGoatLatin():",
        "    # Test case 1: Example from the problem",
        "    assert toGoatLatin(\"I speak Goat Latin\") == \"Imaa peaksmaaa oatGmaaaa atinLmaaaaa\"",
        "    ",
        "    # Test case 2: Example from the problem",
        "    assert toGoatLatin(\"The quick brown fox jumped over the lazy dog\") == \"heTmaa uickqmaaa rownbmaaaa oxfmaaaaa umpedjmaaaaaa overmaaaaaaa hetmaaaaaaaa azylmaaaaaaaaa ogdmaaaaaaaaaa\"",
        "    ",
        "    # Test case 3: Single word",
        "    assert toGoatLatin(\"Hello\") == \"elloHmaa\"",
        "    ",
        "    # Test case 4: Words starting with vowels",
        "    assert toGoatLatin(\"apple orange\") == \"applema orangemaa\"",
        "    ",
        "    # Test case 5: Words starting with consonants",
        "    assert toGoatLatin(\"dog cat\") == \"ogdmaa atcmaaa\"",
        "    ",
        "    # Test case 6: Mixed case letters",
        "    assert toGoatLatin(\"Apple Orange\") == \"Applema Orangemaa\"",
        "    ",
        "    # Test case 7: Empty string (not in constraints but good to check)",
        "    assert toGoatLatin(\"\") == \"\"",
        "    ",
        "    print(\"All test cases passed!\")",
        "",
        "# Run the tests",
        "test_toGoatLatin()",
        ""
      ],
      "execution_count": null,
      "outputs": []
    }
  ],
  "metadata": {
    "kernelspec": {
      "display_name": "Python 3",
      "language": "python",
      "name": "python3"
    },
    "language_info": {
      "codemirror_mode": {
        "name": "ipython",
        "version": 3
      },
      "file_extension": ".py",
      "mimetype": "text/x-python",
      "name": "python",
      "nbconvert_exporter": "python",
      "pygments_lexer": "ipython3",
      "version": "3.11.9"
    }
  },
  "nbformat": 4,
  "nbformat_minor": 5
}