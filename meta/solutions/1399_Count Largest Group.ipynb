{
  "cells": [
    {
      "cell_type": "markdown",
      "metadata": {},
      "source": [
        "# 1399. Count Largest Group"
      ]
    },
    {
      "cell_type": "markdown",
      "metadata": {},
      "source": [
        "You are given an integer n.",
        "",
        "",
        "",
        "We need to group the numbers from 1 to n according to the sum of its digits. For example, the numbers 14 and 5 belong to the same group, whereas 13 and 3 belong to different groups.",
        "",
        "",
        "",
        "Return the number of groups that have the largest size, i.e. the maximum number of elements.",
        "",
        "",
        "",
        " ",
        "",
        "",
        "",
        "**Example 1:**",
        "",
        "",
        "",
        "Input: n = 13",
        "",
        "Output: 4",
        "",
        "Explanation: There are 9 groups in total, they are grouped according sum of its digits of numbers from 1 to 13:",
        "",
        "[1,10], [2,11], [3,12], [4,13], [5], [6], [7], [8], [9].",
        "",
        "There are 4 groups with largest size.",
        "",
        "**Example 2:**",
        "",
        "",
        "",
        "Input: n = 2",
        "",
        "Output: 2",
        "",
        "Explanation: There are 2 groups [1], [2] of size 1.",
        "",
        " ",
        "",
        "",
        "",
        "**Constraints:**",
        "",
        "",
        "",
        "1 <= n <= 104"
      ]
    },
    {
      "cell_type": "markdown",
      "metadata": {},
      "source": [
        "## Solution Explanation\n",
        "To solve this problem, we need to:",
        "1. Group numbers from 1 to n based on the sum of their digits",
        "2. Count how many groups have the maximum size",
        "",
        "The approach is straightforward:",
        "1. Calculate the digit sum for each number from 1 to n",
        "2. Use a hash map to group numbers by their digit sum",
        "3. Find the maximum group size",
        "4. Count how many groups have this maximum size",
        "",
        "The digit sum of a number can be calculated by repeatedly dividing by 10 and taking the remainder until the number becomes 0."
      ]
    },
    {
      "cell_type": "code",
      "metadata": {},
      "source": [
        "def countLargestGroup(n: int) -> int:",
        "    # Function to calculate the sum of digits",
        "    def digit_sum(num):",
        "        total = 0",
        "        while num > 0:",
        "            total += num % 10",
        "            num //= 10",
        "        return total",
        "    ",
        "    # Group numbers by digit sum",
        "    groups = {}",
        "    for i in range(1, n + 1):",
        "        sum_digits = digit_sum(i)",
        "        if sum_digits not in groups:",
        "            groups[sum_digits] = []",
        "        groups[sum_digits].append(i)",
        "    ",
        "    # Find the maximum group size",
        "    max_size = max(len(group) for group in groups.values())",
        "    ",
        "    # Count groups with maximum size",
        "    count = sum(1 for group in groups.values() if len(group) == max_size)",
        "    ",
        "    return count",
        ""
      ],
      "execution_count": null,
      "outputs": []
    },
    {
      "cell_type": "markdown",
      "metadata": {},
      "source": [
        "## Time and Space Complexity\n",
        "* *Time Complexity**: O(n * log(n))",
        "* We iterate through all numbers from 1 to n: O(n)",
        "* For each number, we calculate its digit sum, which takes O(log(n)) time since a number n has approximately log10(n) digits",
        "* The operations to update the hash map and find the maximum size are O(1) per number",
        "* *Space Complexity**: O(n)",
        "* In the worst case, each number could have a unique digit sum, resulting in n groups",
        "* Each group stores at least one number, so the total space used by the hash map is O(n)"
      ]
    },
    {
      "cell_type": "markdown",
      "metadata": {},
      "source": [
        "## Test Cases\n"
      ]
    },
    {
      "cell_type": "code",
      "metadata": {},
      "source": [
        "def test_countLargestGroup():",
        "    # Test case 1: Example from problem statement",
        "    assert countLargestGroup(13) == 4, \"Failed for n=13\"",
        "    ",
        "    # Test case 2: Example from problem statement",
        "    assert countLargestGroup(2) == 2, \"Failed for n=2\"",
        "    ",
        "    # Test case 3: Edge case - single number",
        "    assert countLargestGroup(1) == 1, \"Failed for n=1\"",
        "    ",
        "    # Test case 4: Larger example",
        "    assert countLargestGroup(15) == 6, \"Failed for n=15\"",
        "    ",
        "    # Test case 5: Even larger example",
        "    assert countLargestGroup(24) == 5, \"Failed for n=24\"",
        "    ",
        "    print(\"All test cases passed!\")",
        "",
        "# Run the tests",
        "test_countLargestGroup()",
        ""
      ],
      "execution_count": null,
      "outputs": []
    }
  ],
  "metadata": {
    "kernelspec": {
      "display_name": "Python 3",
      "language": "python",
      "name": "python3"
    },
    "language_info": {
      "codemirror_mode": {
        "name": "ipython",
        "version": 3
      },
      "file_extension": ".py",
      "mimetype": "text/x-python",
      "name": "python",
      "nbconvert_exporter": "python",
      "pygments_lexer": "ipython3",
      "version": "3.11.9"
    }
  },
  "nbformat": 4,
  "nbformat_minor": 5
}