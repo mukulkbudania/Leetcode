{
  "cells": [
    {
      "cell_type": "markdown",
      "metadata": {},
      "source": [
        "# 202. Happy Number"
      ]
    },
    {
      "cell_type": "markdown",
      "metadata": {},
      "source": [
        "Write an algorithm to determine if a number n is happy.",
        "",
        "",
        "",
        "A happy number is a number defined by the following process:",
        "",
        "",
        "",
        "Starting with any positive integer, replace the number by the sum of the squares of its digits.",
        "",
        "Repeat the process until the number equals 1 (where it will stay), or it loops endlessly in a cycle which does not include 1.",
        "",
        "Those numbers for which this process ends in 1 are happy.",
        "",
        "Return true if n is a happy number, and false if not.",
        "",
        "",
        "",
        " ",
        "",
        "",
        "",
        "**Example 1:**",
        "",
        "",
        "",
        "Input: n = 19",
        "",
        "Output: true",
        "",
        "Explanation:",
        "",
        "12 + 92 = 82",
        "",
        "82 + 22 = 68",
        "",
        "62 + 82 = 100",
        "",
        "12 + 02 + 02 = 1",
        "",
        "**Example 2:**",
        "",
        "",
        "",
        "Input: n = 2",
        "",
        "Output: false",
        "",
        " ",
        "",
        "",
        "",
        "**Constraints:**",
        "",
        "",
        "",
        "1 <= n <= 231 - 1"
      ]
    },
    {
      "cell_type": "markdown",
      "metadata": {},
      "source": [
        "## Solution Explanation\n",
        "To determine if a number is happy, we need to follow the process described in the problem:",
        "1. Calculate the sum of squares of digits",
        "2. Repeat until we either reach 1 (happy number) or detect a cycle",
        "",
        "The key insight is that if a number is not happy, it will eventually enter a cycle. To detect this cycle, we can use a hash set to keep track of numbers we've already seen. If we encounter a number that's already in our set, we know we're in a cycle and the number is not happy.",
        "",
        "Alternatively, we can use Floyd's Cycle-Finding Algorithm (also known as the \"tortoise and hare\" algorithm) to detect cycles with O(1) space complexity. This approach uses two pointers moving at different speeds - if there's a cycle, the fast pointer will eventually catch up to the slow pointer.",
        "",
        "For this solution, I'll implement the hash set approach as it's more straightforward."
      ]
    },
    {
      "cell_type": "code",
      "metadata": {},
      "source": [
        "class Solution:",
        "    def isHappy(self, n: int) -> bool:",
        "        # Helper function to calculate sum of squares of digits",
        "        def get_next(number):",
        "            total_sum = 0",
        "            while number > 0:",
        "                digit = number % 10",
        "                total_sum += digit * digit",
        "                number //= 10",
        "            return total_sum",
        "        ",
        "        # Use a set to detect cycles",
        "        seen = set()",
        "        ",
        "        # Continue until we reach 1 or detect a cycle",
        "        while n != 1 and n not in seen:",
        "            seen.add(n)",
        "            n = get_next(n)",
        "        ",
        "        # If we reached 1, it's a happy number",
        "        return n == 1",
        ""
      ],
      "execution_count": null,
      "outputs": []
    },
    {
      "cell_type": "markdown",
      "metadata": {},
      "source": [
        "## Time and Space Complexity\n",
        "* *Time Complexity**: O(log n)",
        "* For a number n, the number of digits is approximately log\u2081\u2080(n)",
        "* For each digit, we perform constant time operations",
        "* In the worst case, we might need to calculate the sum of squares for many numbers before detecting a cycle or reaching 1",
        "* However, it can be proven that for any starting number, the sequence will eventually reach a cycle or 1 in a bounded number of steps, making the overall time complexity O(log n)",
        "* *Space Complexity**: O(log n)",
        "* In the worst case, we might need to store log n different numbers in our hash set before detecting a cycle",
        "* Each number in the sequence will be smaller than the original number after a few iterations, and the space needed is proportional to the number of unique values in the sequence"
      ]
    },
    {
      "cell_type": "markdown",
      "metadata": {},
      "source": [
        "## Test Cases\n"
      ]
    },
    {
      "cell_type": "code",
      "metadata": {},
      "source": [
        "def test_solution():",
        "    solution = Solution()",
        "    ",
        "    # Test case 1: Example from problem statement",
        "    assert solution.isHappy(19) == True, \"19 should be a happy number\"",
        "    ",
        "    # Test case 2: Another example from problem statement",
        "    assert solution.isHappy(2) == False, \"2 should not be a happy number\"",
        "    ",
        "    # Test case 3: Edge case - smallest possible input",
        "    assert solution.isHappy(1) == True, \"1 should be a happy number\"",
        "    ",
        "    # Test case 4: Another happy number",
        "    assert solution.isHappy(7) == True, \"7 should be a happy number\"",
        "    ",
        "    # Test case 5: Another unhappy number",
        "    assert solution.isHappy(4) == False, \"4 should not be a happy number\"",
        "    ",
        "    # Test case 6: Larger number",
        "    assert solution.isHappy(1111111) == True, \"1111111 should be a happy number\"",
        "    ",
        "    print(\"All test cases passed!\")",
        "",
        "# Run the tests",
        "test_solution()",
        ""
      ],
      "execution_count": null,
      "outputs": []
    }
  ],
  "metadata": {
    "kernelspec": {
      "display_name": "Python 3",
      "language": "python",
      "name": "python3"
    },
    "language_info": {
      "codemirror_mode": {
        "name": "ipython",
        "version": 3
      },
      "file_extension": ".py",
      "mimetype": "text/x-python",
      "name": "python",
      "nbconvert_exporter": "python",
      "pygments_lexer": "ipython3",
      "version": "3.11.9"
    }
  },
  "nbformat": 4,
  "nbformat_minor": 5
}