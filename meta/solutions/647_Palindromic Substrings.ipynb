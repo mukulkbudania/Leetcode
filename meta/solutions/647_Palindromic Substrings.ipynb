{
  "cells": [
    {
      "cell_type": "markdown",
      "metadata": {},
      "source": [
        "# 647. Palindromic Substrings"
      ]
    },
    {
      "cell_type": "markdown",
      "metadata": {},
      "source": [
        "Given a string s, return the number of palindromic substrings in it.",
        "",
        "",
        "",
        "A string is a palindrome when it reads the same backward as forward.",
        "",
        "",
        "",
        "A substring is a contiguous sequence of characters within the string.",
        "",
        "",
        "",
        " ",
        "",
        "",
        "",
        "**Example 1:**",
        "",
        "",
        "",
        "Input: s = \"abc\"",
        "",
        "Output: 3",
        "",
        "Explanation: Three palindromic strings: \"a\", \"b\", \"c\".",
        "",
        "**Example 2:**",
        "",
        "",
        "",
        "Input: s = \"aaa\"",
        "",
        "Output: 6",
        "",
        "Explanation: Six palindromic strings: \"a\", \"a\", \"a\", \"aa\", \"aa\", \"aaa\".",
        "",
        " ",
        "",
        "",
        "",
        "**Constraints:**",
        "",
        "",
        "",
        "1 <= s.length <= 1000",
        "",
        "s consists of lowercase English letters."
      ]
    },
    {
      "cell_type": "markdown",
      "metadata": {},
      "source": [
        "## Solution Explanation\n",
        "This problem asks us to count all palindromic substrings in a given string. A palindrome is a string that reads the same backward as forward.",
        "",
        "I'll use the \"expand around center\" approach, which is efficient for this problem. The idea is:",
        "1. For each position in the string, we consider it as a potential center of a palindrome.",
        "2. We expand outward from this center, checking if the characters on both sides match.",
        "3. We need to consider both odd-length palindromes (with a single character at the center) and even-length palindromes (with two characters at the center).",
        "",
        "For example, in \"aaa\":",
        "* Each individual character \"a\" is a palindrome (3 total)",
        "* Each pair \"aa\" is a palindrome (2 total)",
        "* The entire string \"aaa\" is a palindrome (1 total)",
        "",
        "This gives us a total of 6 palindromic substrings."
      ]
    },
    {
      "cell_type": "code",
      "metadata": {},
      "source": [
        "def countSubstrings(s: str) -> int:",
        "    if not s:",
        "        return 0",
        "    ",
        "    count = 0",
        "    n = len(s)",
        "    ",
        "    # Helper function to expand around center",
        "    def expand_around_center(left, right):",
        "        count = 0",
        "        # Expand as long as we have valid palindrome",
        "        while left >= 0 and right < n and s[left] == s[right]:",
        "            count += 1  # Found a palindrome",
        "            left -= 1   # Expand to the left",
        "            right += 1  # Expand to the right",
        "        return count",
        "    ",
        "    # Check each position as potential palindrome center",
        "    for i in range(n):",
        "        # Odd length palindromes (single character center)",
        "        count += expand_around_center(i, i)",
        "        ",
        "        # Even length palindromes (two character center)",
        "        count += expand_around_center(i, i + 1)",
        "    ",
        "    return count",
        ""
      ],
      "execution_count": null,
      "outputs": []
    },
    {
      "cell_type": "markdown",
      "metadata": {},
      "source": [
        "## Time and Space Complexity\n",
        "* *Time Complexity**: O(n\u00b2) where n is the length of the string.",
        "* We consider each position in the string as a potential center, which gives us 2n-1 centers (n centers for odd-length palindromes and n-1 centers for even-length palindromes).",
        "* For each center, we might expand up to n/2 steps in the worst case.",
        "* This gives us O(n * n) = O(n\u00b2) time complexity.",
        "* *Space Complexity**: O(1)",
        "* We only use a constant amount of extra space regardless of the input size.",
        "* We're not creating any data structures that scale with the input."
      ]
    },
    {
      "cell_type": "markdown",
      "metadata": {},
      "source": [
        "## Test Cases\n"
      ]
    },
    {
      "cell_type": "code",
      "metadata": {},
      "source": [
        "def test_countSubstrings():",
        "    # Test case 1: Example from problem statement",
        "    assert countSubstrings(\"abc\") == 3, \"Should count 3 palindromes in 'abc'\"",
        "    ",
        "    # Test case 2: Example from problem statement",
        "    assert countSubstrings(\"aaa\") == 6, \"Should count 6 palindromes in 'aaa'\"",
        "    ",
        "    # Test case 3: Empty string",
        "    assert countSubstrings(\"\") == 0, \"Should handle empty string\"",
        "    ",
        "    # Test case 4: Single character",
        "    assert countSubstrings(\"a\") == 1, \"Should count 1 palindrome for single character\"",
        "    ",
        "    # Test case 5: Two different characters",
        "    assert countSubstrings(\"ab\") == 2, \"Should count 2 palindromes in 'ab'\"",
        "    ",
        "    # Test case 6: Two same characters",
        "    assert countSubstrings(\"aa\") == 3, \"Should count 3 palindromes in 'aa'\"",
        "    ",
        "    # Test case 7: Longer string with various palindromes",
        "    assert countSubstrings(\"racecar\") == 10, \"Should count 10 palindromes in 'racecar'\"",
        "    ",
        "    # Test case 8: String with no palindromes longer than 1",
        "    assert countSubstrings(\"abcd\") == 4, \"Should count 4 palindromes in 'abcd'\"",
        "    ",
        "    print(\"All test cases passed!\")",
        "",
        "# Run the tests",
        "test_countSubstrings()",
        ""
      ],
      "execution_count": null,
      "outputs": []
    }
  ],
  "metadata": {
    "kernelspec": {
      "display_name": "Python 3",
      "language": "python",
      "name": "python3"
    },
    "language_info": {
      "codemirror_mode": {
        "name": "ipython",
        "version": 3
      },
      "file_extension": ".py",
      "mimetype": "text/x-python",
      "name": "python",
      "nbconvert_exporter": "python",
      "pygments_lexer": "ipython3",
      "version": "3.11.9"
    }
  },
  "nbformat": 4,
  "nbformat_minor": 5
}