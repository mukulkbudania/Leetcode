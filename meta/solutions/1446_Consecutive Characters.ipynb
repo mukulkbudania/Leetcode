{
  "cells": [
    {
      "cell_type": "markdown",
      "metadata": {},
      "source": [
        "# 1446. Consecutive Characters"
      ]
    },
    {
      "cell_type": "markdown",
      "metadata": {},
      "source": [
        "The power of the string is the maximum length of a non-empty substring that contains only one unique character.",
        "",
        "",
        "",
        "Given a string s, return the power of s.",
        "",
        "",
        "",
        " ",
        "",
        "",
        "",
        "**Example 1:**",
        "",
        "",
        "",
        "Input: s = \"leetcode\"",
        "",
        "Output: 2",
        "",
        "Explanation: The substring \"ee\" is of length 2 with the character 'e' only.",
        "",
        "**Example 2:**",
        "",
        "",
        "",
        "Input: s = \"abbcccddddeeeeedcba\"",
        "",
        "Output: 5",
        "",
        "Explanation: The substring \"eeeee\" is of length 5 with the character 'e' only.",
        "",
        " ",
        "",
        "",
        "",
        "**Constraints:**",
        "",
        "",
        "",
        "1 <= s.length <= 500",
        "",
        "s consists of only lowercase English letters."
      ]
    },
    {
      "cell_type": "markdown",
      "metadata": {},
      "source": [
        "## Solution Explanation\n",
        "To find the power of a string, we need to find the maximum length of a non-empty substring that contains only one unique character.",
        "",
        "The approach is straightforward:",
        "1. Iterate through the string character by character",
        "2. Keep track of the current character and its count",
        "3. When we encounter a different character, update our maximum length if needed and reset the count for the new character",
        "4. Return the maximum length found",
        "",
        "This is essentially finding the longest consecutive sequence of the same character in the string."
      ]
    },
    {
      "cell_type": "code",
      "metadata": {},
      "source": [
        "def maxPower(s: str) -> int:",
        "    if not s:",
        "        return 0",
        "    ",
        "    max_length = 1",
        "    current_length = 1",
        "    ",
        "    for i in range(1, len(s)):",
        "        if s[i] == s[i-1]:",
        "            current_length += 1",
        "        else:",
        "            max_length = max(max_length, current_length)",
        "            current_length = 1",
        "    ",
        "    # Check one more time after the loop ends",
        "    max_length = max(max_length, current_length)",
        "    ",
        "    return max_length",
        ""
      ],
      "execution_count": null,
      "outputs": []
    },
    {
      "cell_type": "markdown",
      "metadata": {},
      "source": [
        "## Time and Space Complexity\n",
        "* *Time Complexity**: O(n) where n is the length of the string. We iterate through the string exactly once.",
        "* *Space Complexity**: O(1) as we only use a constant amount of extra space regardless of the input size. We're just keeping track of a few variables (max_length and current_length)."
      ]
    },
    {
      "cell_type": "markdown",
      "metadata": {},
      "source": [
        "## Test Cases\n"
      ]
    },
    {
      "cell_type": "code",
      "metadata": {},
      "source": [
        "def test_maxPower():",
        "    # Test case 1: Regular case with multiple characters",
        "    assert maxPower(\"leetcode\") == 2, \"Failed for 'leetcode'\"",
        "    ",
        "    # Test case 2: String with increasing sequences",
        "    assert maxPower(\"abbcccddddeeeeedcba\") == 5, \"Failed for 'abbcccddddeeeeedcba'\"",
        "    ",
        "    # Test case 3: Single character",
        "    assert maxPower(\"a\") == 1, \"Failed for single character 'a'\"",
        "    ",
        "    # Test case 4: All same characters",
        "    assert maxPower(\"aaaaa\") == 5, \"Failed for all same characters 'aaaaa'\"",
        "    ",
        "    # Test case 5: Alternating characters",
        "    assert maxPower(\"abababa\") == 1, \"Failed for alternating characters 'abababa'\"",
        "    ",
        "    # Test case 6: Empty string (though problem states length is at least 1)",
        "    assert maxPower(\"\") == 0, \"Failed for empty string\"",
        "    ",
        "    # Test case 7: Multiple max powers",
        "    assert maxPower(\"aabbbcccc\") == 4, \"Failed for 'aabbbcccc'\"",
        "    ",
        "    print(\"All test cases passed!\")",
        "",
        "# Run the tests",
        "test_maxPower()",
        ""
      ],
      "execution_count": null,
      "outputs": []
    }
  ],
  "metadata": {
    "kernelspec": {
      "display_name": "Python 3",
      "language": "python",
      "name": "python3"
    },
    "language_info": {
      "codemirror_mode": {
        "name": "ipython",
        "version": 3
      },
      "file_extension": ".py",
      "mimetype": "text/x-python",
      "name": "python",
      "nbconvert_exporter": "python",
      "pygments_lexer": "ipython3",
      "version": "3.11.9"
    }
  },
  "nbformat": 4,
  "nbformat_minor": 5
}