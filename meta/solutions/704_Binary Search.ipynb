{
  "cells": [
    {
      "cell_type": "markdown",
      "metadata": {},
      "source": [
        "# 704. Binary Search"
      ]
    },
    {
      "cell_type": "markdown",
      "metadata": {},
      "source": [
        "Given an array of integers nums which is sorted in ascending order, and an integer target, write a function to search target in nums. If target exists, then return its index. Otherwise, return -1.",
        "",
        "",
        "",
        "You must write an algorithm with O(log n) runtime complexity.",
        "",
        "",
        "",
        " ",
        "",
        "",
        "",
        "**Example 1:**",
        "",
        "",
        "",
        "Input: nums = [-1,0,3,5,9,12], target = 9",
        "",
        "Output: 4",
        "",
        "Explanation: 9 exists in nums and its index is 4",
        "",
        "**Example 2:**",
        "",
        "",
        "",
        "Input: nums = [-1,0,3,5,9,12], target = 2",
        "",
        "Output: -1",
        "",
        "Explanation: 2 does not exist in nums so return -1",
        "",
        " ",
        "",
        "",
        "",
        "**Constraints:**",
        "",
        "",
        "",
        "1 <= nums.length <= 104",
        "",
        "-104 < nums[i], target < 104",
        "",
        "All the integers in nums are unique.",
        "",
        "nums is sorted in ascending order."
      ]
    },
    {
      "cell_type": "markdown",
      "metadata": {},
      "source": [
        "## Solution Explanation\n",
        "This problem is asking us to implement binary search on a sorted array. Binary search is an efficient algorithm for finding an element in a sorted array with O(log n) time complexity.",
        "",
        "The algorithm works as follows:",
        "1. Initialize two pointers, `left` and `right`, pointing to the start and end of the array.",
        "2. While `left` is less than or equal to `right`:",
        "   a. Calculate the middle index as `mid = left + (right - left) // 2` (this avoids integer overflow).",
        "   b. If the element at `mid` is equal to the target, return `mid`.",
        "   c. If the element at `mid` is greater than the target, search the left half by setting `right = mid - 1`.",
        "   d. If the element at `mid` is less than the target, search the right half by setting `left = mid + 1`.",
        "3. If the target is not found after the loop, return -1.",
        "",
        "This approach is optimal because it divides the search space in half with each iteration, leading to a logarithmic time complexity."
      ]
    },
    {
      "cell_type": "code",
      "metadata": {},
      "source": [
        "def search(nums, target):",
        "    \"\"\"",
        "    :type nums: List[int]",
        "    :type target: int",
        "    :rtype: int",
        "    \"\"\"",
        "    left, right = 0, len(nums) - 1",
        "    ",
        "    while left <= right:",
        "        mid = left + (right - left) // 2",
        "        ",
        "        if nums[mid] == target:",
        "            return mid",
        "        elif nums[mid] > target:",
        "            right = mid - 1",
        "        else:",
        "            left = mid + 1",
        "    ",
        "    return -1",
        ""
      ],
      "execution_count": null,
      "outputs": []
    },
    {
      "cell_type": "markdown",
      "metadata": {},
      "source": [
        "## Time and Space Complexity\n",
        "Time Complexity: O(log n), where n is the length of the input array. This is because binary search divides the search space in half with each iteration.",
        "",
        "Space Complexity: O(1), as we only use a constant amount of extra space regardless of the input size. We're just using a few variables (`left`, `right`, and `mid`) to keep track of indices."
      ]
    },
    {
      "cell_type": "markdown",
      "metadata": {},
      "source": [
        "## Test Cases\n"
      ]
    },
    {
      "cell_type": "code",
      "metadata": {},
      "source": [
        "def test_search():",
        "    # Test case 1: Target exists in the array",
        "    assert search([-1, 0, 3, 5, 9, 12], 9) == 4",
        "    ",
        "    # Test case 2: Target does not exist in the array",
        "    assert search([-1, 0, 3, 5, 9, 12], 2) == -1",
        "    ",
        "    # Test case 3: Target is the first element",
        "    assert search([-1, 0, 3, 5, 9, 12], -1) == 0",
        "    ",
        "    # Test case 4: Target is the last element",
        "    assert search([-1, 0, 3, 5, 9, 12], 12) == 5",
        "    ",
        "    # Test case 5: Array with a single element, target exists",
        "    assert search([5], 5) == 0",
        "    ",
        "    # Test case 6: Array with a single element, target does not exist",
        "    assert search([5], 6) == -1",
        "    ",
        "    # Test case 7: Empty array",
        "    assert search([], 1) == -1",
        "    ",
        "    # Test case 8: Target is smaller than all elements",
        "    assert search([1, 2, 3, 4, 5], 0) == -1",
        "    ",
        "    # Test case 9: Target is larger than all elements",
        "    assert search([1, 2, 3, 4, 5], 6) == -1",
        "    ",
        "    print(\"All test cases passed!\")",
        "",
        "# Run the tests",
        "test_search()",
        ""
      ],
      "execution_count": null,
      "outputs": []
    }
  ],
  "metadata": {
    "kernelspec": {
      "display_name": "Python 3",
      "language": "python",
      "name": "python3"
    },
    "language_info": {
      "codemirror_mode": {
        "name": "ipython",
        "version": 3
      },
      "file_extension": ".py",
      "mimetype": "text/x-python",
      "name": "python",
      "nbconvert_exporter": "python",
      "pygments_lexer": "ipython3",
      "version": "3.11.9"
    }
  },
  "nbformat": 4,
  "nbformat_minor": 5
}