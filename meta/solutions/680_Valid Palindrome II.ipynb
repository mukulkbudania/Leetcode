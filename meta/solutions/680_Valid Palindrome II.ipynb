{
  "cells": [
    {
      "cell_type": "markdown",
      "metadata": {},
      "source": [
        "# 680. Valid Palindrome II"
      ]
    },
    {
      "cell_type": "markdown",
      "metadata": {},
      "source": [
        "Given a string s, return true if the s can be palindrome after deleting at most one character from it.",
        "",
        "",
        "",
        " ",
        "",
        "",
        "",
        "**Example 1:**",
        "",
        "",
        "",
        "Input: s = \"aba\"",
        "",
        "Output: true",
        "",
        "**Example 2:**",
        "",
        "",
        "",
        "Input: s = \"abca\"",
        "",
        "Output: true",
        "",
        "Explanation: You could delete the character 'c'.",
        "",
        "**Example 3:**",
        "",
        "",
        "",
        "Input: s = \"abc\"",
        "",
        "Output: false",
        "",
        " ",
        "",
        "",
        "",
        "**Constraints:**",
        "",
        "",
        "",
        "1 <= s.length <= 105",
        "",
        "s consists of lowercase English letters.",
        "",
        ""
      ]
    },
    {
      "cell_type": "markdown",
      "metadata": {},
      "source": [
        "## Solution Explanation\n",
        "To solve this problem, we need to check if a string can be a palindrome after deleting at most one character. A palindrome reads the same forward and backward.",
        "",
        "The approach is to:",
        "1. First check if the string is already a palindrome. If yes, return true.",
        "2. If not, we need to check if removing one character can make it a palindrome.",
        "",
        "For the second step, we can use a two-pointer technique:",
        "* Start with pointers at the beginning and end of the string.",
        "* Move inward, comparing characters.",
        "* If we find a mismatch, we have two options:",
        "* Skip the character at the left pointer and check if the remaining string is a palindrome.",
        "* Skip the character at the right pointer and check if the remaining string is a palindrome.",
        "* If either option works, return true. Otherwise, return false.",
        "",
        "This approach is efficient because we only need to check the string once, and in case of a mismatch, we only need to check two possible substrings."
      ]
    },
    {
      "cell_type": "code",
      "metadata": {},
      "source": [
        "def validPalindrome(s: str) -> bool:",
        "    def is_palindrome(left, right):",
        "        while left < right:",
        "            if s[left] != s[right]:",
        "                return False",
        "            left += 1",
        "            right -= 1",
        "        return True",
        "    ",
        "    left, right = 0, len(s) - 1",
        "    ",
        "    while left < right:",
        "        if s[left] != s[right]:",
        "            # Try skipping character at left or right",
        "            return is_palindrome(left + 1, right) or is_palindrome(left, right - 1)",
        "        left += 1",
        "        right -= 1",
        "    ",
        "    return True",
        ""
      ],
      "execution_count": null,
      "outputs": []
    },
    {
      "cell_type": "markdown",
      "metadata": {},
      "source": [
        "## Time and Space Complexity\n",
        "* *Time Complexity**: O(n), where n is the length of the string. ",
        "* In the best case, we only need to traverse half of the string to confirm it's a palindrome.",
        "* In the worst case, we find a mismatch near the middle of the string and need to check two substrings, each requiring O(n) time. But this is still O(n) overall.",
        "* *Space Complexity**: O(1), as we only use a constant amount of extra space regardless of the input size. We're using pointers to track positions in the string without creating any additional data structures that scale with input size."
      ]
    },
    {
      "cell_type": "markdown",
      "metadata": {},
      "source": [
        "## Test Cases\n"
      ]
    },
    {
      "cell_type": "code",
      "metadata": {},
      "source": [
        "def test_valid_palindrome():",
        "    # Test case 1: Already a palindrome",
        "    assert validPalindrome(\"aba\") == True",
        "    ",
        "    # Test case 2: Can become palindrome by removing one character",
        "    assert validPalindrome(\"abca\") == True",
        "    ",
        "    # Test case 3: Cannot become palindrome by removing one character",
        "    assert validPalindrome(\"abc\") == False",
        "    ",
        "    # Test case 4: Empty string is a palindrome",
        "    assert validPalindrome(\"\") == True",
        "    ",
        "    # Test case 5: Single character is a palindrome",
        "    assert validPalindrome(\"a\") == True",
        "    ",
        "    # Test case 6: Two identical characters is a palindrome",
        "    assert validPalindrome(\"aa\") == True",
        "    ",
        "    # Test case 7: Two different characters can become palindrome by removing one",
        "    assert validPalindrome(\"ab\") == True",
        "    ",
        "    # Test case 8: Longer string with mismatch at beginning",
        "    assert validPalindrome(\"cbbcc\") == True",
        "    ",
        "    # Test case 9: Longer string with mismatch at end",
        "    assert validPalindrome(\"ccbbc\") == True",
        "    ",
        "    # Test case 10: Longer string that cannot become palindrome",
        "    assert validPalindrome(\"abcdef\") == False",
        "    ",
        "    print(\"All test cases passed!\")",
        "",
        "test_valid_palindrome()",
        ""
      ],
      "execution_count": null,
      "outputs": []
    }
  ],
  "metadata": {
    "kernelspec": {
      "display_name": "Python 3",
      "language": "python",
      "name": "python3"
    },
    "language_info": {
      "codemirror_mode": {
        "name": "ipython",
        "version": 3
      },
      "file_extension": ".py",
      "mimetype": "text/x-python",
      "name": "python",
      "nbconvert_exporter": "python",
      "pygments_lexer": "ipython3",
      "version": "3.11.9"
    }
  },
  "nbformat": 4,
  "nbformat_minor": 5
}