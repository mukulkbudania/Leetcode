{
 "cells": [
  {
   "cell_type": "code",
   "execution_count": 3,
   "id": "3f5ab7c1",
   "metadata": {},
   "outputs": [],
   "source": [
    "class Solution(object):\n",
    "    def minRemoveToMakeValid(self, s):\n",
    "        \"\"\"\n",
    "        Remove any ) which appears before \n",
    "        \"\"\"\n",
    "        sNum, result = 0, 0\n",
    "        for c in s:\n",
    "            if c == '(':\n",
    "                sNum+=1\n",
    "            elif c == ')':\n",
    "                sNum-=1\n",
    "                if sNum <0:\n",
    "                    result+=1\n",
    "                    sNum+=1\n",
    "            else:\n",
    "                continue\n",
    "        return result + sNum"
   ]
  },
  {
   "cell_type": "code",
   "execution_count": 4,
   "id": "6b993eae",
   "metadata": {},
   "outputs": [
    {
     "data": {
      "text/plain": [
       "1"
      ]
     },
     "execution_count": 4,
     "metadata": {},
     "output_type": "execute_result"
    }
   ],
   "source": [
    "Solution().minRemoveToMakeValid(\"lee(t(c)o)de)\")"
   ]
  },
  {
   "cell_type": "code",
   "execution_count": null,
   "id": "3ac724df",
   "metadata": {},
   "outputs": [],
   "source": [
    "class Solution(object):\n",
    "    def minRemoveToMakeValid(self, s):\n",
    "        \"\"\"\n",
    "        Remove any ) which appears before \n",
    "        \"\"\"\n",
    "        sNum = 0\n",
    "        result = []\n",
    "        for c in s:\n",
    "            if c == '(':\n",
    "                sNum+=1\n",
    "            elif c == ')':\n",
    "                sNum-=1\n",
    "                if sNum <0:\n",
    "                    sNum=0\n",
    "                    continue\n",
    "            result.append(c)\n",
    "        while sNum > 0:\n",
    "            \n",
    "        return result + sNum"
   ]
  }
 ],
 "metadata": {
  "kernelspec": {
   "display_name": "Python 3",
   "language": "python",
   "name": "python3"
  },
  "language_info": {
   "codemirror_mode": {
    "name": "ipython",
    "version": 3
   },
   "file_extension": ".py",
   "mimetype": "text/x-python",
   "name": "python",
   "nbconvert_exporter": "python",
   "pygments_lexer": "ipython3",
   "version": "3.11.9"
  }
 },
 "nbformat": 4,
 "nbformat_minor": 5
}
