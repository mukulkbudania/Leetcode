{
 "cells": [
  {
   "cell_type": "code",
   "execution_count": 5,
   "id": "1bba6e8b",
   "metadata": {},
   "outputs": [],
   "source": [
    "class Solution:\n",
    "    def flood_fill(self, image, sr, sc, color):\n",
    "        \n",
    "        directions = [[0,-1],[1,0],[0,1],[-1,0]]\n",
    "        oldColor = image[sr][sc]\n",
    "        rows = len(image)\n",
    "        cols = len(image[0])\n",
    "        \n",
    "        if oldColor == color:\n",
    "            return\n",
    "        def shouldVisit(r, c, rows, cols, image, color):\n",
    "            if r<0 or r>=rows or c<0 or c>=cols:\n",
    "                return False\n",
    "            return image[r][c] == color\n",
    "        \n",
    "        def dfs(image,sr,sc,rows,cols,oldColor,color):\n",
    "            image[sr][sc] = color\n",
    "            for r,c in directions:\n",
    "                if shouldVisit(sr+r, sc+c, rows, cols, image, oldColor):\n",
    "                    dfs(image,sr+r,sc+c,rows,cols,oldColor,color)\n",
    "        \n",
    "        dfs(image,sr,sc,rows,cols,oldColor,color)\n",
    "                \n"
   ]
  },
  {
   "cell_type": "code",
   "execution_count": 6,
   "id": "6b0dee66",
   "metadata": {},
   "outputs": [],
   "source": [
    "Solution().flood_fill([[1,0,1],[1,0,0],[0,0,1]], 2,1,2)\n"
   ]
  }
 ],
 "metadata": {
  "kernelspec": {
   "display_name": "Python 3",
   "language": "python",
   "name": "python3"
  },
  "language_info": {
   "codemirror_mode": {
    "name": "ipython",
    "version": 3
   },
   "file_extension": ".py",
   "mimetype": "text/x-python",
   "name": "python",
   "nbconvert_exporter": "python",
   "pygments_lexer": "ipython3",
   "version": "3.11.9"
  }
 },
 "nbformat": 4,
 "nbformat_minor": 5
}
