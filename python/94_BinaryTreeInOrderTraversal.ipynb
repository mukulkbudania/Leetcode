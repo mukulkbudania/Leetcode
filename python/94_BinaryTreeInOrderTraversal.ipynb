{
 "cells": [
  {
   "cell_type": "markdown",
   "id": "e40ef494",
   "metadata": {},
   "source": [
    "Given the root of a binary tree, return the inorder traversal of its nodes' values.\n",
    "\n",
    " \n",
    "\n",
    "Example 1:\n",
    "\n",
    "Input: root = [1,null,2,3]\n",
    "\n",
    "Output: [1,3,2]\n",
    "\n",
    "Explanation:\n",
    "\n",
    "\n",
    "\n",
    "Example 2:\n",
    "\n",
    "Input: root = [1,2,3,4,5,null,8,null,null,6,7,9]\n",
    "\n",
    "Output: [4,2,6,5,7,1,3,9,8]\n",
    "\n",
    "Explanation:\n",
    "\n",
    "\n",
    "\n",
    "Example 3:\n",
    "\n",
    "Input: root = []\n",
    "\n",
    "Output: []\n",
    "\n",
    "Example 4:\n",
    "\n",
    "Input: root = [1]\n",
    "\n",
    "Output: [1]\n",
    "\n",
    " \n",
    "\n",
    "Constraints:\n",
    "\n",
    "The number of nodes in the tree is in the range [0, 100].\n",
    "-100 <= Node.val <= 100"
   ]
  },
  {
   "cell_type": "code",
   "execution_count": null,
   "id": "4f91693e",
   "metadata": {},
   "outputs": [],
   "source": [
    "# Definition for a binary tree node.\n",
    "class TreeNode(object):\n",
    "    def __init__(self, val=0, left=None, right=None):\n",
    "        self.val = val\n",
    "        self.left = left\n",
    "        self.right = right\n",
    "        \n",
    "class Solution(object):\n",
    "    def inorder(self, root, output):\n",
    "        if root is not None:\n",
    "                self.inorder(root.left, output)\n",
    "                output.append(root.val)\n",
    "                self.inorder(root.right, output)\n",
    "        \n",
    "    def inorderTraversal(self, root):\n",
    "        inorder = []\n",
    "        self.inorder(root,inorder)\n",
    "        return inorder\n",
    "        "
   ]
  }
 ],
 "metadata": {
  "kernelspec": {
   "display_name": "Python 3",
   "language": "python",
   "name": "python3"
  },
  "language_info": {
   "codemirror_mode": {
    "name": "ipython",
    "version": 3
   },
   "file_extension": ".py",
   "mimetype": "text/x-python",
   "name": "python",
   "nbconvert_exporter": "python",
   "pygments_lexer": "ipython3",
   "version": "3.11.9"
  }
 },
 "nbformat": 4,
 "nbformat_minor": 5
}
