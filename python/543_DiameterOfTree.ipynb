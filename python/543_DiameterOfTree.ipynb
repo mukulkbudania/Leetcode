{
 "cells": [
  {
   "cell_type": "code",
   "execution_count": null,
   "id": "d25dae84",
   "metadata": {},
   "outputs": [],
   "source": [
    "class Solution(object):\n",
    "    def diameterOfBinaryTree(self, root):\n",
    "        if root is None:\n",
    "            return 0\n",
    "        lh, ld = self.diameterOfBinaryTree(root.left)\n",
    "        rh, rd = self.diameterOfBinaryTree(root.right)\n",
    "        return 1+max(lh,rh), max (1 + lh + rh, ld, rd) "
   ]
  },
  {
   "cell_type": "code",
   "execution_count": null,
   "id": "2aedc0da",
   "metadata": {},
   "outputs": [],
   "source": []
  }
 ],
 "metadata": {
  "language_info": {
   "name": "python"
  }
 },
 "nbformat": 4,
 "nbformat_minor": 5
}
