{
 "cells": [
  {
   "cell_type": "markdown",
   "id": "447adc2e",
   "metadata": {},
   "source": [
    "Given an m x n grid of characters board and a string word, return true if word exists in the grid.\n",
    "\n",
    "The word can be constructed from letters of sequentially adjacent cells, where adjacent cells are horizontally or vertically neighboring. The same letter cell may not be used more than once.\n",
    "\n",
    " \n",
    "\n",
    "Example 1:\n",
    "\n",
    "\n",
    "Input: board = [[\"A\",\"B\",\"C\",\"E\"],[\"S\",\"F\",\"C\",\"S\"],[\"A\",\"D\",\"E\",\"E\"]], word = \"ABCCED\"\n",
    "Output: true\n",
    "Example 2:\n",
    "\n",
    "\n",
    "Input: board = [[\"A\",\"B\",\"C\",\"E\"],[\"S\",\"F\",\"C\",\"S\"],[\"A\",\"D\",\"E\",\"E\"]], word = \"SEE\"\n",
    "Output: true\n",
    "Example 3:\n",
    "\n",
    "\n",
    "Input: board = [[\"A\",\"B\",\"C\",\"E\"],[\"S\",\"F\",\"C\",\"S\"],[\"A\",\"D\",\"E\",\"E\"]], word = \"ABCB\"\n",
    "Output: false\n",
    " \n",
    "\n",
    "Constraints:\n",
    "\n",
    "m == board.length\n",
    "n = board[i].length\n",
    "1 <= m, n <= 6\n",
    "1 <= word.length <= 15\n",
    "board and word consists of only lowercase and uppercase English letters.\n",
    " \n",
    "\n",
    "Follow up: Could you use search pruning to make your solution faster with a larger board?"
   ]
  },
  {
   "cell_type": "code",
   "execution_count": null,
   "id": "24da7dda",
   "metadata": {},
   "outputs": [],
   "source": [
    "from typing import List\n",
    "class Solution:\n",
    "    def exist(self, board: List[List[str]], word: str):\n",
    "        rows = len(board)\n",
    "        cols = len(board[0])\n",
    "        word_end = len(word)\n",
    "        visited = set() \n",
    "        def dfs(row, col, index):\n",
    "            ## Terminate condition\n",
    "            if (index == word_end):\n",
    "                return True\n",
    "            ## Invalid State                    \n",
    "            if (row<0 or row > rows-1 or \n",
    "                col<0 or col> cols-1 or \n",
    "                board[row][col] != word[index] or (row,col) in visited):\n",
    "                return False\n",
    "            ## Add on valid state\n",
    "            visited.add((row,col))\n",
    "            ## Iterate on valid state\n",
    "            result = (dfs(row-1,col,index+1) or\n",
    "                        dfs(row,col+1,index+1) or\n",
    "                        dfs(row+1,col,index+1) or\n",
    "                        dfs(row,col-1,index+1))\n",
    "            ## Remove once done\n",
    "            visited.remove((row,col))\n",
    "            return result\n",
    "        for r in range(rows):\n",
    "            for c in range(cols):\n",
    "                if (dfs(r,c,0)):\n",
    "                    return True\n",
    "        return False"
   ]
  },
  {
   "cell_type": "markdown",
   "id": "ef5ab562",
   "metadata": {},
   "source": [
    "Submission: https://leetcode.com/problems/word-search/submissions/1701464806/\n",
    "Notes: "
   ]
  }
 ],
 "metadata": {
  "kernelspec": {
   "display_name": "Python 3",
   "language": "python",
   "name": "python3"
  },
  "language_info": {
   "codemirror_mode": {
    "name": "ipython",
    "version": 3
   },
   "file_extension": ".py",
   "mimetype": "text/x-python",
   "name": "python",
   "nbconvert_exporter": "python",
   "pygments_lexer": "ipython3",
   "version": "3.11.9"
  }
 },
 "nbformat": 4,
 "nbformat_minor": 5
}
